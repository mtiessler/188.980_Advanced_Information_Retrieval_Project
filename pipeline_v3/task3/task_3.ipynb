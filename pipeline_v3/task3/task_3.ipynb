{
 "cells": [
  {
   "cell_type": "markdown",
   "metadata": {
    "id": "fiVJiRbrYAQA"
   },
   "source": [
    "## Install Dependencies & Imports"
   ]
  },
  {
   "cell_type": "code",
   "execution_count": 21,
   "metadata": {
    "colab": {
     "base_uri": "https://localhost:8080/"
    },
    "id": "ETPHA_Xxl-xe",
    "outputId": "54f9fd78-2636-4d54-d9b0-99eac2b29dc1"
   },
   "outputs": [
    {
     "output_type": "stream",
     "name": "stdout",
     "text": [
      "Drive already mounted at /content/drive; to attempt to forcibly remount, call drive.mount(\"/content/drive\", force_remount=True).\n"
     ]
    }
   ],
   "source": [
    "from google.colab import drive\n",
    "drive.mount('/content/drive')"
   ]
  },
  {
   "cell_type": "code",
   "execution_count": null,
   "metadata": {
    "id": "f23XcKsldPG2"
   },
   "outputs": [],
   "source": [
    "!pip install --upgrade pip --quiet\n",
    "!pip install torch --quiet\n",
    "!pip install transformers==4.49.* --quiet\n",
    "!pip install datasets --quiet\n",
    "!pip install scikit-learn --quiet\n",
    "!pip install ir_measures tqdm --quiet\n",
    "!pip install ragatouille==0.0.9 --quiet"
   ]
  },
  {
   "cell_type": "code",
   "execution_count": null,
   "metadata": {
    "colab": {
     "base_uri": "https://localhost:8080/"
    },
    "id": "UdqP2kUneUT-",
    "outputId": "c87e087d-ebe2-4dec-a89a-78b8eae07ed0"
   },
   "outputs": [
    {
     "output_type": "stream",
     "name": "stdout",
     "text": [
      "Requirement already satisfied: rank-bm25 in /usr/local/lib/python3.11/dist-packages (0.2.2)\n",
      "Requirement already satisfied: nltk in /usr/local/lib/python3.11/dist-packages (3.9.1)\n",
      "Requirement already satisfied: numpy in /usr/local/lib/python3.11/dist-packages (from rank-bm25) (2.0.2)\n",
      "Requirement already satisfied: click in /usr/local/lib/python3.11/dist-packages (from nltk) (8.2.0)\n",
      "Requirement already satisfied: joblib in /usr/local/lib/python3.11/dist-packages (from nltk) (1.5.0)\n",
      "Requirement already satisfied: regex>=2021.8.3 in /usr/local/lib/python3.11/dist-packages (from nltk) (2024.11.6)\n",
      "Requirement already satisfied: tqdm in /usr/local/lib/python3.11/dist-packages (from nltk) (4.67.1)\n"
     ]
    }
   ],
   "source": [
    "!pip install rank-bm25 nltk"
   ]
  },
  {
   "cell_type": "code",
   "execution_count": null,
   "metadata": {
    "colab": {
     "base_uri": "https://localhost:8080/",
     "height": 1000,
     "referenced_widgets": [
      "6fdc844a7933442893b5f91fe8702e09",
      "7d803e67cdf647ecb93282dff16ac152",
      "33fe293ec2c44a8f807d5f91e3790470",
      "a30000e8690f481f9e8ecd0ed8902946",
      "048ce7fdc39f43a994b0743bd2f888dd",
      "b09bc53242024a738a41fc5ce199ef3d",
      "d14f78d00bab440394f3e81da914c068",
      "216545e6aeb34f90a93d22ecb037f5c8",
      "7f348db118694bc2883cd8083a916411",
      "cb86a0ed338b46a0be02375aee6f8ecd",
      "c76c729c6fdf4e79849c50b301480bf3",
      "06abce23536641c688f59b802cddd012",
      "ea658766e79d425396f63bfc3c0c8b86",
      "ff52197681304bcfa97b69b991a51f29",
      "4808a2a77afb473e8c9314961226bea9",
      "0d86576a663b4fa1b33dacc5e1aafddf",
      "5160e87d0e8a44078882735714c16ddd",
      "036876606f8b4dcfa48003c73f36f04c",
      "3e596cd1929a4be09a96cbfad43b16d7",
      "061f05dfb1d6479b95cb04efb08d4a53",
      "835ff4a4ac694995a0925530859f36b7",
      "5f3f1474c6ad4843bbe8aea272a6969b",
      "fb9043c4ef05421f830b96ba6d1dfe6d",
      "6c4404102fa04700be9d1537eed0166b",
      "c6336e8118bb4d8385e56d03dd5b2a8e",
      "036ca7d88ce94b4c9223cf49369c3143",
      "a6e5e24ad61f4ece9d49632e5e172b53",
      "a0376d53faa84670bf4d2c5ad3795a33",
      "4e8db3c7d4844b7fb213be1ea46de49f",
      "4af1cc31737848048746151ec8755a3a",
      "42cb90f4d74e405590ea40cba2afe530",
      "66078702da7e4bee9db7c56611e46c91",
      "433dc5ac89af462080235622a7348ace",
      "e598c8e92b854459b3eaf0c7525c482d",
      "f62756eec3f546d8b69cc3e7040303f3",
      "ad94e57517d64c4e9d4070ba4394a3d1",
      "56655f3447444204b0791564ca3cce71",
      "213cfc4f84b442c5a62bd0634c19220e",
      "9d82c4720ddb495e8146d9c3aab90f6b",
      "902be3f1e76848f5aa7afd7ada000d8f",
      "374c15fdd1034286b8a88c61c4c538f9",
      "3abb39a2c8fd41df8d20cc5b583cf001",
      "7c83e3c0e2aa49d282eb82613f104d76",
      "8675d1a513fc45f3b3713ecdea0bc634",
      "573f475864684faab4285df32a395783",
      "2d06849e046e41cdb5505ff4700dbdf9",
      "8ae7576cf673463481e58e1b0175251b",
      "f50cd73fea7047fc8d260ce5e55de305",
      "871c277c42ad49b8ab66a1133894c9de",
      "3dd462eea2ce4d96816b12deda027308",
      "977981bad5aa45048cc3ade4615aa37e",
      "6728afcda87c41eabf516360b884596e",
      "8b2f026eded6491480bc5e1c17a2e273",
      "2a8b9d6660604b48af2f44d1b73e21b2",
      "4f278ea90df640cd9ecd8d7e7e1425af",
      "fc033dcbebbb4a70803604840414e74e",
      "e9ac9e17a38a4f06a0433a0c4f25b134",
      "06efbe86be0e4db68bc62a0483437025",
      "e547df35e75d4d3780e84964da27a814",
      "e804b7ab0570405cb5e2034177fb32a7",
      "6298f6f228eb482488a6d62efaba5d7d",
      "f7500a4f17fa43c89f0efc65ad5de609",
      "bd0d310dcadb4d6abd5fd6c0e99304cb",
      "6ef11a7b2fb3458ba570736df3e0193b",
      "8a56384340fc4fa3a2ddae1163f292e4",
      "37cccaab3c684ac8adc9768d0ecd8693",
      "0bf04ab7036e4d0fba8dc699874760e7",
      "f54ee59c291642198ea45b9d30b9c923",
      "d8a51d7c94b1405390cee31d56d5fa18",
      "12ba5c8b2b7641d1903c1d3a87f8a59f",
      "98764ca2ad8b412499fbc6be66a10be6",
      "b3d48953b4e74783a8ec38ca97d9363a",
      "20a2b124f1d449bfba945c60e2c05aff",
      "63c7b576fdcd4163a156913c0d0c8103",
      "bf61396026184400ab65cb8dda29451e",
      "da8a033a97d64703b81747e99ffac4a3",
      "03aac1e6b9454ff2b63326a630b86b2b"
     ]
    },
    "id": "5dkpMs3UgBpK",
    "outputId": "0577b664-d429-4297-d051-36b4cf48b93e"
   },
   "outputs": [
    {
     "output_type": "stream",
     "name": "stderr",
     "text": [
      "[nltk_data] Downloading package punkt to /root/nltk_data...\n",
      "[nltk_data]   Package punkt is already up-to-date!\n",
      "[nltk_data] Downloading package stopwords to /root/nltk_data...\n",
      "[nltk_data]   Package stopwords is already up-to-date!\n",
      "[nltk_data] Downloading package punkt_tab to /root/nltk_data...\n",
      "[nltk_data]   Package punkt_tab is already up-to-date!\n"
     ]
    },
    {
     "output_type": "stream",
     "name": "stdout",
     "text": [
      "INFO: NLTK resource 'tokenizers/punkt' found.\n",
      "INFO: NLTK resource 'corpora/stopwords' found.\n",
      "INFO: CUDA is available. Using GPU: Tesla T4\n",
      "INFO: Starting BM25 + ColBERT Re-ranking pipeline. Using Google Drive: True\n",
      "INFO: Data is expected in: /content/drive/MyDrive/AIR_Project/longeval_sci_testing_2025_abstract\n",
      "INFO: Output will be generated in: /content/drive/MyDrive/AIR_Project/colbert_pipeline_output/YOUR-SUBMISSION-BM25-ColBERT\n",
      "INFO: ColBERT model cache path: /content/drive/MyDrive/AIR_Project/colbert_pipeline_output/colbert_model_cache\n",
      "INFO: BM25 tokenization cache directory: /content/drive/MyDrive/AIR_Project/colbert_pipeline_output/YOUR-SUBMISSION-BM25-ColBERT/bm25_token_cache\n",
      "Mounted at /content/drive\n",
      "INFO: Google Drive mounted successfully.\n",
      "INFO: All required google drive paths verified successfully.\n",
      "INFO: Loading and preparing all documents...\n",
      "INFO: Preparing documents from 16 files in /content/drive/MyDrive/AIR_Project/longeval_sci_testing_2025_abstract/documents...\n"
     ]
    },
    {
     "output_type": "stream",
     "name": "stderr",
     "text": [
      "\n",
      "\n",
      "Loading document files:   0%|          | 0/16 [00:00<?, ?file/s]\u001B[A\u001B[A"
     ]
    },
    {
     "output_type": "stream",
     "name": "stdout",
     "text": [
      "INFO: Loaded and prepared 50000 documents so far...\n"
     ]
    },
    {
     "output_type": "stream",
     "name": "stderr",
     "text": [
      "\n",
      "\n",
      "Loading document files:   6%|▋         | 1/16 [00:01<00:28,  1.93s/file]\u001B[A\u001B[A"
     ]
    },
    {
     "output_type": "stream",
     "name": "stdout",
     "text": [
      "INFO: Loaded and prepared 100000 documents so far...\n"
     ]
    },
    {
     "output_type": "stream",
     "name": "stderr",
     "text": [
      "\n",
      "\n",
      "Loading document files:  12%|█▎        | 2/16 [00:03<00:25,  1.84s/file]\u001B[A\u001B[A"
     ]
    },
    {
     "output_type": "stream",
     "name": "stdout",
     "text": [
      "INFO: Loaded and prepared 150000 documents so far...\n",
      "INFO: Loaded and prepared 200000 documents so far...\n",
      "WARNING: Document ID 76519511 in documents_000003.jsonl has no content after processing. Skipping.\n"
     ]
    },
    {
     "output_type": "stream",
     "name": "stderr",
     "text": [
      "\n",
      "\n",
      "Loading document files:  19%|█▉        | 3/16 [00:05<00:21,  1.63s/file]\u001B[A\u001B[A"
     ]
    },
    {
     "output_type": "stream",
     "name": "stdout",
     "text": [
      "INFO: Loaded and prepared 250000 documents so far...\n"
     ]
    },
    {
     "output_type": "stream",
     "name": "stderr",
     "text": [
      "\n",
      "\n",
      "Loading document files:  25%|██▌       | 4/16 [00:06<00:19,  1.61s/file]\u001B[A\u001B[A"
     ]
    },
    {
     "output_type": "stream",
     "name": "stdout",
     "text": [
      "INFO: Loaded and prepared 300000 documents so far...\n",
      "WARNING: Document ID 113581467 in documents_000005.jsonl has no content after processing. Skipping.\n",
      "INFO: Loaded and prepared 350000 documents so far...\n"
     ]
    },
    {
     "output_type": "stream",
     "name": "stderr",
     "text": [
      "\n",
      "\n",
      "Loading document files:  31%|███▏      | 5/16 [00:08<00:16,  1.53s/file]\u001B[A\u001B[A"
     ]
    },
    {
     "output_type": "stream",
     "name": "stdout",
     "text": [
      "INFO: Loaded and prepared 400000 documents so far...\n",
      "INFO: Loaded and prepared 450000 documents so far...\n"
     ]
    },
    {
     "output_type": "stream",
     "name": "stderr",
     "text": [
      "\n",
      "\n",
      "Loading document files:  38%|███▊      | 6/16 [00:09<00:14,  1.44s/file]\u001B[A\u001B[A"
     ]
    },
    {
     "output_type": "stream",
     "name": "stdout",
     "text": [
      "INFO: Loaded and prepared 500000 documents so far...\n"
     ]
    },
    {
     "output_type": "stream",
     "name": "stderr",
     "text": [
      "\n",
      "\n",
      "Loading document files:  44%|████▍     | 7/16 [00:10<00:13,  1.46s/file]\u001B[A\u001B[A"
     ]
    },
    {
     "output_type": "stream",
     "name": "stdout",
     "text": [
      "WARNING: Document ID 76519511 in documents_000008.jsonl has no content after processing. Skipping.\n"
     ]
    },
    {
     "output_type": "stream",
     "name": "stderr",
     "text": [
      "\n",
      "\n",
      "Loading document files:  50%|█████     | 8/16 [00:12<00:11,  1.43s/file]\u001B[A\u001B[A"
     ]
    },
    {
     "output_type": "stream",
     "name": "stdout",
     "text": [
      "WARNING: Document ID 113579909 in documents_000009.jsonl has no content after processing. Skipping.\n",
      "INFO: Loaded and prepared 550000 documents so far...\n"
     ]
    },
    {
     "output_type": "stream",
     "name": "stderr",
     "text": [
      "\n",
      "\n",
      "Loading document files:  56%|█████▋    | 9/16 [00:13<00:09,  1.40s/file]\u001B[A\u001B[A"
     ]
    },
    {
     "output_type": "stream",
     "name": "stdout",
     "text": [
      "INFO: Loaded and prepared 600000 documents so far...\n",
      "INFO: Loaded and prepared 650000 documents so far...\n"
     ]
    },
    {
     "output_type": "stream",
     "name": "stderr",
     "text": [
      "\n",
      "\n",
      "Loading document files:  62%|██████▎   | 10/16 [00:15<00:08,  1.43s/file]\u001B[A\u001B[A"
     ]
    },
    {
     "output_type": "stream",
     "name": "stdout",
     "text": [
      "INFO: Loaded and prepared 700000 documents so far...\n",
      "INFO: Loaded and prepared 750000 documents so far...\n"
     ]
    },
    {
     "output_type": "stream",
     "name": "stderr",
     "text": [
      "\n",
      "\n",
      "Loading document files:  69%|██████▉   | 11/16 [00:16<00:07,  1.43s/file]\u001B[A\u001B[A"
     ]
    },
    {
     "output_type": "stream",
     "name": "stdout",
     "text": [
      "INFO: Loaded and prepared 800000 documents so far...\n",
      "WARNING: Document ID 106663931 in documents_000012.jsonl has no content after processing. Skipping.\n",
      "INFO: Loaded and prepared 850000 documents so far...\n"
     ]
    },
    {
     "output_type": "stream",
     "name": "stderr",
     "text": [
      "\n",
      "\n",
      "Loading document files:  75%|███████▌  | 12/16 [00:17<00:05,  1.38s/file]\u001B[A\u001B[A"
     ]
    },
    {
     "output_type": "stream",
     "name": "stdout",
     "text": [
      "INFO: Loaded and prepared 900000 documents so far...\n",
      "INFO: Loaded and prepared 950000 documents so far...\n"
     ]
    },
    {
     "output_type": "stream",
     "name": "stderr",
     "text": [
      "\n",
      "\n",
      "Loading document files:  81%|████████▏ | 13/16 [00:19<00:04,  1.37s/file]\u001B[A\u001B[A"
     ]
    },
    {
     "output_type": "stream",
     "name": "stdout",
     "text": [
      "INFO: Loaded and prepared 1000000 documents so far...\n",
      "INFO: Loaded and prepared 1050000 documents so far...\n"
     ]
    },
    {
     "output_type": "stream",
     "name": "stderr",
     "text": [
      "\n",
      "\n",
      "Loading document files:  88%|████████▊ | 14/16 [00:20<00:02,  1.39s/file]\u001B[A\u001B[A"
     ]
    },
    {
     "output_type": "stream",
     "name": "stdout",
     "text": [
      "INFO: Loaded and prepared 1100000 documents so far...\n",
      "WARNING: Document ID 93901791 in documents_000015.jsonl has no content after processing. Skipping.\n",
      "INFO: Loaded and prepared 1150000 documents so far...\n"
     ]
    },
    {
     "output_type": "stream",
     "name": "stderr",
     "text": [
      "\n",
      "\n",
      "Loading document files:  94%|█████████▍| 15/16 [00:21<00:01,  1.36s/file]\u001B[A\u001B[A\n",
      "\n",
      "Loading document files: 100%|██████████| 16/16 [00:22<00:00,  1.38s/file]"
     ]
    },
    {
     "output_type": "stream",
     "name": "stdout",
     "text": [
      "INFO: Loaded and prepared 1200000 documents so far...\n",
      "INFO: Successfully loaded and prepared a total of 1213723 unique documents.\n",
      "INFO: Total documents loaded: 1213723\n",
      "INFO: BM25 tokenized corpus cache not found or failed to load. Processing from scratch...\n"
     ]
    },
    {
     "output_type": "stream",
     "name": "stderr",
     "text": [
      "\n",
      "Initial Tokenization for BM25:   0%|          | 0/1213723 [35:31<?, ?it/s]\n"
     ]
    },
    {
     "output_type": "stream",
     "name": "stdout",
     "text": [
      "INFO: Saving tokenized BM25 corpus to cache: /content/drive/MyDrive/AIR_Project/colbert_pipeline_output/YOUR-SUBMISSION-BM25-ColBERT/bm25_token_cache/bm25_tokenized_data_docs_1213723_stopwords_True_stemming_True.pkl\n",
      "INFO: Original tokenized docs: 1213723, Unique tokenized docs for BM25 model: 1186097\n",
      "INFO: BM25 setup (tokenization & model init) completed in 2303.64 seconds.\n",
      "INFO: Initializing ColBERT model for re-ranking: colbert-ir/colbertv2.0\n"
     ]
    },
    {
     "output_type": "stream",
     "name": "stderr",
     "text": [
      "/usr/local/lib/python3.11/dist-packages/huggingface_hub/utils/_auth.py:94: UserWarning: \n",
      "The secret `HF_TOKEN` does not exist in your Colab secrets.\n",
      "To authenticate with the Hugging Face Hub, create a token in your settings tab (https://huggingface.co/settings/tokens), set it as secret in your Google Colab and restart your session.\n",
      "You will be able to reuse this secret in all of your notebooks.\n",
      "Please note that authentication is recommended but still optional to access public models or datasets.\n",
      "  warnings.warn(\n"
     ]
    },
    {
     "output_type": "display_data",
     "data": {
      "text/plain": [
       "artifact.metadata:   0%|          | 0.00/1.63k [00:00<?, ?B/s]"
      ],
      "application/vnd.jupyter.widget-view+json": {
       "version_major": 2,
       "version_minor": 0,
       "model_id": "6fdc844a7933442893b5f91fe8702e09"
      }
     },
     "metadata": {}
    },
    {
     "output_type": "display_data",
     "data": {
      "text/plain": [
       "config.json:   0%|          | 0.00/743 [00:00<?, ?B/s]"
      ],
      "application/vnd.jupyter.widget-view+json": {
       "version_major": 2,
       "version_minor": 0,
       "model_id": "06abce23536641c688f59b802cddd012"
      }
     },
     "metadata": {}
    },
    {
     "output_type": "display_data",
     "data": {
      "text/plain": [
       "model.safetensors:   0%|          | 0.00/438M [00:00<?, ?B/s]"
      ],
      "application/vnd.jupyter.widget-view+json": {
       "version_major": 2,
       "version_minor": 0,
       "model_id": "fb9043c4ef05421f830b96ba6d1dfe6d"
      }
     },
     "metadata": {}
    },
    {
     "output_type": "display_data",
     "data": {
      "text/plain": [
       "tokenizer_config.json:   0%|          | 0.00/405 [00:00<?, ?B/s]"
      ],
      "application/vnd.jupyter.widget-view+json": {
       "version_major": 2,
       "version_minor": 0,
       "model_id": "e598c8e92b854459b3eaf0c7525c482d"
      }
     },
     "metadata": {}
    },
    {
     "output_type": "display_data",
     "data": {
      "text/plain": [
       "vocab.txt:   0%|          | 0.00/232k [00:00<?, ?B/s]"
      ],
      "application/vnd.jupyter.widget-view+json": {
       "version_major": 2,
       "version_minor": 0,
       "model_id": "573f475864684faab4285df32a395783"
      }
     },
     "metadata": {}
    },
    {
     "output_type": "display_data",
     "data": {
      "text/plain": [
       "tokenizer.json:   0%|          | 0.00/466k [00:00<?, ?B/s]"
      ],
      "application/vnd.jupyter.widget-view+json": {
       "version_major": 2,
       "version_minor": 0,
       "model_id": "fc033dcbebbb4a70803604840414e74e"
      }
     },
     "metadata": {}
    },
    {
     "output_type": "display_data",
     "data": {
      "text/plain": [
       "special_tokens_map.json:   0%|          | 0.00/112 [00:00<?, ?B/s]"
      ],
      "application/vnd.jupyter.widget-view+json": {
       "version_major": 2,
       "version_minor": 0,
       "model_id": "0bf04ab7036e4d0fba8dc699874760e7"
      }
     },
     "metadata": {}
    },
    {
     "output_type": "stream",
     "name": "stderr",
     "text": [
      "/usr/local/lib/python3.11/dist-packages/colbert/utils/amp.py:12: FutureWarning: `torch.cuda.amp.GradScaler(args...)` is deprecated. Please use `torch.amp.GradScaler('cuda', args...)` instead.\n",
      "  self.scaler = torch.cuda.amp.GradScaler()\n"
     ]
    },
    {
     "output_type": "stream",
     "name": "stdout",
     "text": [
      "WARNING: Could not move ColBERT model to CUDA. Structure might have changed or model not loaded correctly.\n",
      "INFO: ColBERT model colbert-ir/colbertv2.0 initialized for re-ranking.\n",
      "\n",
      "INFO: Processing query set: 2024-11\n",
      "INFO: Attempting to load queries from /content/drive/MyDrive/AIR_Project/longeval_sci_testing_2025_abstract/queries_2024-11_test.txt...\n",
      "INFO: Successfully loaded 99 queries from queries_2024-11_test.txt.\n"
     ]
    },
    {
     "output_type": "stream",
     "name": "stderr",
     "text": [
      "\rProcessing 2024-11 queries:   0%|          | 0/99 [00:00<?, ?query/s]/usr/local/lib/python3.11/dist-packages/colbert/utils/amp.py:15: FutureWarning: `torch.cuda.amp.autocast(args...)` is deprecated. Please use `torch.amp.autocast('cuda', args...)` instead.\n",
      "  return torch.cuda.amp.autocast() if self.activated else NullContextManager()\n",
      "\n",
      "\n",
      "  0%|          | 0/1 [00:00<?, ?it/s]\u001B[A\u001B[A\n",
      "\n",
      "100%|██████████| 1/1 [00:00<00:00,  4.41it/s]\n",
      "Processing 2024-11 queries:   1%|          | 1/99 [00:01<02:52,  1.76s/query]\n",
      "\n",
      "  0%|          | 0/4 [00:00<?, ?it/s]\u001B[A\u001B[A\n",
      "\n",
      " 25%|██▌       | 1/4 [00:00<00:00,  5.24it/s]\u001B[A\u001B[A\n",
      "\n",
      " 50%|█████     | 2/4 [00:00<00:00,  5.16it/s]\u001B[A\u001B[A\n",
      "\n",
      "100%|██████████| 4/4 [00:00<00:00,  6.57it/s]\n",
      "Processing 2024-11 queries:   2%|▏         | 2/99 [00:03<02:35,  1.60s/query]\n",
      "\n",
      "  0%|          | 0/7 [00:00<?, ?it/s]\u001B[A\u001B[A\n",
      "\n",
      " 14%|█▍        | 1/7 [00:00<00:01,  5.27it/s]\u001B[A\u001B[A\n",
      "\n",
      " 29%|██▊       | 2/7 [00:00<00:00,  5.18it/s]\u001B[A\u001B[A\n",
      "\n",
      " 43%|████▎     | 3/7 [00:00<00:00,  5.18it/s]\u001B[A\u001B[A\n",
      "\n",
      " 57%|█████▋    | 4/7 [00:00<00:00,  5.15it/s]\u001B[A\u001B[A\n",
      "\n",
      " 71%|███████▏  | 5/7 [00:00<00:00,  4.99it/s]\u001B[A\u001B[A\n",
      "\n",
      "100%|██████████| 7/7 [00:01<00:00,  5.68it/s]\n",
      "Processing 2024-11 queries:   3%|▎         | 3/99 [00:05<02:54,  1.81s/query]"
     ]
    },
    {
     "output_type": "stream",
     "name": "stdout",
     "text": [
      "WARNING! Your documents have duplicate entries!  This will slow down calculation and may yield subpar results\n"
     ]
    },
    {
     "output_type": "stream",
     "name": "stderr",
     "text": [
      "\n",
      "\n",
      "  0%|          | 0/7 [00:00<?, ?it/s]\u001B[A\u001B[A\n",
      "\n",
      " 14%|█▍        | 1/7 [00:00<00:01,  5.29it/s]\u001B[A\u001B[A\n",
      "\n",
      " 29%|██▊       | 2/7 [00:00<00:00,  5.19it/s]\u001B[A\u001B[A\n",
      "\n",
      " 43%|████▎     | 3/7 [00:00<00:00,  5.16it/s]\u001B[A\u001B[A\n",
      "\n",
      " 57%|█████▋    | 4/7 [00:00<00:00,  5.14it/s]\u001B[A\u001B[A\n",
      "\n",
      " 71%|███████▏  | 5/7 [00:00<00:00,  4.99it/s]\u001B[A\u001B[A\n",
      "\n",
      "100%|██████████| 7/7 [00:01<00:00,  5.65it/s]\n",
      "Processing 2024-11 queries:   4%|▍         | 4/99 [00:07<03:04,  1.94s/query]\n",
      "\n",
      "  0%|          | 0/7 [00:00<?, ?it/s]\u001B[A\u001B[A\n",
      "\n",
      " 14%|█▍        | 1/7 [00:00<00:01,  5.31it/s]\u001B[A\u001B[A\n",
      "\n",
      " 29%|██▊       | 2/7 [00:00<00:00,  5.20it/s]\u001B[A\u001B[A\n",
      "\n",
      " 43%|████▎     | 3/7 [00:00<00:00,  5.14it/s]\u001B[A\u001B[A\n",
      "\n",
      " 57%|█████▋    | 4/7 [00:00<00:00,  5.10it/s]\u001B[A\u001B[A\n",
      "\n",
      " 71%|███████▏  | 5/7 [00:00<00:00,  4.97it/s]\u001B[A\u001B[A\n",
      "\n",
      "100%|██████████| 7/7 [00:01<00:00,  5.66it/s]\n",
      "Processing 2024-11 queries:   5%|▌         | 5/99 [00:09<03:08,  2.00s/query]"
     ]
    },
    {
     "output_type": "stream",
     "name": "stdout",
     "text": [
      "WARNING! Your documents have duplicate entries!  This will slow down calculation and may yield subpar results\n"
     ]
    },
    {
     "output_type": "stream",
     "name": "stderr",
     "text": [
      "\n",
      "\n",
      "  0%|          | 0/7 [00:00<?, ?it/s]\u001B[A\u001B[A\n",
      "\n",
      " 14%|█▍        | 1/7 [00:00<00:01,  5.24it/s]\u001B[A\u001B[A\n",
      "\n",
      " 29%|██▊       | 2/7 [00:00<00:00,  5.17it/s]\u001B[A\u001B[A\n",
      "\n",
      " 43%|████▎     | 3/7 [00:00<00:00,  5.13it/s]\u001B[A\u001B[A\n",
      "\n",
      " 57%|█████▋    | 4/7 [00:00<00:00,  5.11it/s]\u001B[A\u001B[A\n",
      "\n",
      " 71%|███████▏  | 5/7 [00:00<00:00,  4.93it/s]\u001B[A\u001B[A\n",
      "\n",
      "100%|██████████| 7/7 [00:01<00:00,  5.64it/s]\n",
      "Processing 2024-11 queries:   6%|▌         | 6/99 [00:12<03:26,  2.22s/query]\n",
      "\n",
      "  0%|          | 0/7 [00:00<?, ?it/s]\u001B[A\u001B[A\n",
      "\n",
      " 14%|█▍        | 1/7 [00:00<00:01,  5.21it/s]\u001B[A\u001B[A\n",
      "\n",
      " 29%|██▊       | 2/7 [00:00<00:00,  5.13it/s]\u001B[A\u001B[A\n",
      "\n",
      " 43%|████▎     | 3/7 [00:00<00:00,  5.11it/s]\u001B[A\u001B[A\n",
      "\n",
      " 57%|█████▋    | 4/7 [00:00<00:00,  5.08it/s]\u001B[A\u001B[A\n",
      "\n",
      " 71%|███████▏  | 5/7 [00:01<00:00,  4.87it/s]\u001B[A\u001B[A\n",
      "\n",
      "100%|██████████| 7/7 [00:01<00:00,  5.56it/s]\n",
      "Processing 2024-11 queries:   7%|▋         | 7/99 [00:14<03:35,  2.34s/query]\n",
      "\n",
      "100%|██████████| 1/1 [00:00<00:00, 78.42it/s]\n",
      "Processing 2024-11 queries:   8%|▊         | 8/99 [00:15<02:47,  1.84s/query]"
     ]
    },
    {
     "output_type": "stream",
     "name": "stdout",
     "text": [
      "WARNING! Your documents have duplicate entries!  This will slow down calculation and may yield subpar results\n"
     ]
    },
    {
     "output_type": "stream",
     "name": "stderr",
     "text": [
      "\n",
      "\n",
      "  0%|          | 0/7 [00:00<?, ?it/s]\u001B[A\u001B[A\n",
      "\n",
      " 14%|█▍        | 1/7 [00:00<00:01,  5.25it/s]\u001B[A\u001B[A\n",
      "\n",
      " 29%|██▊       | 2/7 [00:00<00:00,  5.16it/s]\u001B[A\u001B[A\n",
      "\n",
      " 43%|████▎     | 3/7 [00:00<00:00,  5.12it/s]\u001B[A\u001B[A\n",
      "\n",
      " 57%|█████▋    | 4/7 [00:00<00:00,  5.13it/s]\u001B[A\u001B[A\n",
      "\n",
      " 71%|███████▏  | 5/7 [00:00<00:00,  4.93it/s]\u001B[A\u001B[A\n",
      "\n",
      "100%|██████████| 7/7 [00:01<00:00,  5.60it/s]\n",
      "Processing 2024-11 queries:   9%|▉         | 9/99 [00:17<02:54,  1.94s/query]"
     ]
    },
    {
     "output_type": "stream",
     "name": "stdout",
     "text": [
      "WARNING! Your documents have duplicate entries!  This will slow down calculation and may yield subpar results\n"
     ]
    },
    {
     "output_type": "stream",
     "name": "stderr",
     "text": [
      "\n",
      "\n",
      "  0%|          | 0/7 [00:00<?, ?it/s]\u001B[A\u001B[A\n",
      "\n",
      " 14%|█▍        | 1/7 [00:00<00:01,  4.09it/s]\u001B[A\u001B[A\n",
      "\n",
      " 29%|██▊       | 2/7 [00:00<00:01,  4.55it/s]\u001B[A\u001B[A\n",
      "\n",
      " 43%|████▎     | 3/7 [00:00<00:00,  4.75it/s]\u001B[A\u001B[A\n",
      "\n",
      " 57%|█████▋    | 4/7 [00:00<00:00,  4.87it/s]\u001B[A\u001B[A\n",
      "\n",
      " 71%|███████▏  | 5/7 [00:01<00:00,  4.93it/s]\u001B[A\u001B[A\n",
      "\n",
      "100%|██████████| 7/7 [00:01<00:00,  5.41it/s]\n",
      "Processing 2024-11 queries:  10%|█         | 10/99 [00:20<03:26,  2.32s/query]\n",
      "\n",
      "  0%|          | 0/2 [00:00<?, ?it/s]\u001B[A\u001B[A\n",
      "\n",
      " 50%|█████     | 1/2 [00:00<00:00,  5.17it/s]\u001B[A\u001B[A\n",
      "\n",
      "100%|██████████| 2/2 [00:00<00:00,  6.52it/s]\n",
      "Processing 2024-11 queries:  11%|█         | 11/99 [00:22<02:51,  1.95s/query]"
     ]
    },
    {
     "output_type": "stream",
     "name": "stdout",
     "text": [
      "WARNING! Your documents have duplicate entries!  This will slow down calculation and may yield subpar results\n"
     ]
    },
    {
     "output_type": "stream",
     "name": "stderr",
     "text": [
      "\n",
      "\n",
      "  0%|          | 0/2 [00:00<?, ?it/s]\u001B[A\u001B[A\n",
      "\n",
      " 50%|█████     | 1/2 [00:00<00:00,  5.17it/s]\u001B[A\u001B[A\n",
      "\n",
      "100%|██████████| 2/2 [00:00<00:00,  5.67it/s]\n",
      "Processing 2024-11 queries:  12%|█▏        | 12/99 [00:23<02:28,  1.71s/query]"
     ]
    },
    {
     "output_type": "stream",
     "name": "stdout",
     "text": [
      "WARNING! Your documents have duplicate entries!  This will slow down calculation and may yield subpar results\n"
     ]
    },
    {
     "output_type": "stream",
     "name": "stderr",
     "text": [
      "\n",
      "\n",
      "  0%|          | 0/7 [00:00<?, ?it/s]\u001B[A\u001B[A\n",
      "\n",
      " 14%|█▍        | 1/7 [00:00<00:01,  5.25it/s]\u001B[A\u001B[A\n",
      "\n",
      " 29%|██▊       | 2/7 [00:00<00:00,  5.15it/s]\u001B[A\u001B[A\n",
      "\n",
      " 43%|████▎     | 3/7 [00:00<00:00,  5.09it/s]\u001B[A\u001B[A\n",
      "\n",
      " 57%|█████▋    | 4/7 [00:00<00:00,  5.07it/s]\u001B[A\u001B[A\n",
      "\n",
      " 71%|███████▏  | 5/7 [00:01<00:00,  4.88it/s]\u001B[A\u001B[A\n",
      "\n",
      "100%|██████████| 7/7 [00:01<00:00,  5.59it/s]\n",
      "Processing 2024-11 queries:  13%|█▎        | 13/99 [00:25<02:50,  1.98s/query]"
     ]
    },
    {
     "output_type": "stream",
     "name": "stdout",
     "text": [
      "WARNING! Your documents have duplicate entries!  This will slow down calculation and may yield subpar results\n"
     ]
    },
    {
     "output_type": "stream",
     "name": "stderr",
     "text": [
      "\n",
      "\n",
      "  0%|          | 0/7 [00:00<?, ?it/s]\u001B[A\u001B[A\n",
      "\n",
      " 14%|█▍        | 1/7 [00:00<00:01,  5.26it/s]\u001B[A\u001B[A\n",
      "\n",
      " 29%|██▊       | 2/7 [00:00<00:00,  5.10it/s]\u001B[A\u001B[A\n",
      "\n",
      " 43%|████▎     | 3/7 [00:00<00:00,  5.07it/s]\u001B[A\u001B[A\n",
      "\n",
      " 57%|█████▋    | 4/7 [00:00<00:00,  5.06it/s]\u001B[A\u001B[A\n",
      "\n",
      " 71%|███████▏  | 5/7 [00:01<00:00,  4.83it/s]\u001B[A\u001B[A\n",
      "\n",
      "100%|██████████| 7/7 [00:01<00:00,  5.56it/s]\n",
      "Processing 2024-11 queries:  14%|█▍        | 14/99 [00:28<02:54,  2.06s/query]"
     ]
    },
    {
     "output_type": "stream",
     "name": "stdout",
     "text": [
      "WARNING! Your documents have duplicate entries!  This will slow down calculation and may yield subpar results\n"
     ]
    },
    {
     "output_type": "stream",
     "name": "stderr",
     "text": [
      "\n",
      "\n",
      "  0%|          | 0/2 [00:00<?, ?it/s]\u001B[A\u001B[A\n",
      "\n",
      "100%|██████████| 2/2 [00:00<00:00,  8.24it/s]\n",
      "Processing 2024-11 queries:  15%|█▌        | 15/99 [00:29<02:28,  1.77s/query]"
     ]
    },
    {
     "output_type": "stream",
     "name": "stdout",
     "text": [
      "WARNING! Your documents have duplicate entries!  This will slow down calculation and may yield subpar results\n"
     ]
    },
    {
     "output_type": "stream",
     "name": "stderr",
     "text": [
      "\n",
      "\n",
      "  0%|          | 0/6 [00:00<?, ?it/s]\u001B[A\u001B[A\n",
      "\n",
      " 17%|█▋        | 1/6 [00:00<00:00,  5.14it/s]\u001B[A\u001B[A\n",
      "\n",
      " 33%|███▎      | 2/6 [00:00<00:00,  5.09it/s]\u001B[A\u001B[A\n",
      "\n",
      " 50%|█████     | 3/6 [00:00<00:00,  5.06it/s]\u001B[A\u001B[A\n",
      "\n",
      " 67%|██████▋   | 4/6 [00:00<00:00,  5.03it/s]\u001B[A\u001B[A\n",
      "\n",
      "100%|██████████| 6/6 [00:01<00:00,  5.76it/s]\n",
      "Processing 2024-11 queries:  16%|█▌        | 16/99 [00:31<02:31,  1.83s/query]\n",
      "\n",
      "  0%|          | 0/2 [00:00<?, ?it/s]\u001B[A\u001B[A\n",
      "\n",
      "100%|██████████| 2/2 [00:00<00:00,  8.35it/s]\n",
      "Processing 2024-11 queries:  17%|█▋        | 17/99 [00:32<02:11,  1.60s/query]\n",
      "\n",
      "  0%|          | 0/6 [00:00<?, ?it/s]\u001B[A\u001B[A\n",
      "\n",
      " 17%|█▋        | 1/6 [00:00<00:00,  5.23it/s]\u001B[A\u001B[A\n",
      "\n",
      " 33%|███▎      | 2/6 [00:00<00:00,  5.10it/s]\u001B[A\u001B[A\n",
      "\n",
      " 50%|█████     | 3/6 [00:00<00:00,  5.02it/s]\u001B[A\u001B[A\n",
      "\n",
      " 67%|██████▋   | 4/6 [00:00<00:00,  4.98it/s]\u001B[A\u001B[A\n",
      "\n",
      "100%|██████████| 6/6 [00:01<00:00,  5.78it/s]\n",
      "Processing 2024-11 queries:  18%|█▊        | 18/99 [00:34<02:17,  1.69s/query]"
     ]
    },
    {
     "output_type": "stream",
     "name": "stdout",
     "text": [
      "WARNING! Your documents have duplicate entries!  This will slow down calculation and may yield subpar results\n"
     ]
    },
    {
     "output_type": "stream",
     "name": "stderr",
     "text": [
      "\n",
      "\n",
      "  0%|          | 0/3 [00:00<?, ?it/s]\u001B[A\u001B[A\n",
      "\n",
      " 33%|███▎      | 1/3 [00:00<00:00,  5.20it/s]\u001B[A\u001B[A\n",
      "\n",
      "100%|██████████| 3/3 [00:00<00:00,  7.23it/s]\n",
      "Processing 2024-11 queries:  19%|█▉        | 19/99 [00:35<02:04,  1.55s/query]\n",
      "\n",
      "  0%|          | 0/2 [00:00<?, ?it/s]\u001B[A\u001B[A\n",
      "\n",
      "100%|██████████| 2/2 [00:00<00:00,  7.04it/s]\n",
      "Processing 2024-11 queries:  20%|██        | 20/99 [00:36<01:51,  1.41s/query]"
     ]
    },
    {
     "output_type": "stream",
     "name": "stdout",
     "text": [
      "INFO: Processed 20/99 queries for 2024-11. Avg time/query: 1816.90 ms.\n",
      "WARNING! Your documents have duplicate entries!  This will slow down calculation and may yield subpar results\n"
     ]
    },
    {
     "output_type": "stream",
     "name": "stderr",
     "text": [
      "\n",
      "\n",
      "  0%|          | 0/7 [00:00<?, ?it/s]\u001B[A\u001B[A\n",
      "\n",
      " 14%|█▍        | 1/7 [00:00<00:01,  5.21it/s]\u001B[A\u001B[A\n",
      "\n",
      " 29%|██▊       | 2/7 [00:00<00:00,  5.08it/s]\u001B[A\u001B[A\n",
      "\n",
      " 43%|████▎     | 3/7 [00:00<00:00,  5.04it/s]\u001B[A\u001B[A\n",
      "\n",
      " 57%|█████▋    | 4/7 [00:00<00:00,  5.01it/s]\u001B[A\u001B[A\n",
      "\n",
      " 71%|███████▏  | 5/7 [00:01<00:00,  4.89it/s]\u001B[A\u001B[A\n",
      "\n",
      "100%|██████████| 7/7 [00:01<00:00,  5.54it/s]\n",
      "Processing 2024-11 queries:  21%|██        | 21/99 [00:38<02:07,  1.63s/query]"
     ]
    },
    {
     "output_type": "stream",
     "name": "stdout",
     "text": [
      "WARNING! Your documents have duplicate entries!  This will slow down calculation and may yield subpar results\n"
     ]
    },
    {
     "output_type": "stream",
     "name": "stderr",
     "text": [
      "\n",
      "\n",
      "  0%|          | 0/6 [00:00<?, ?it/s]\u001B[A\u001B[A\n",
      "\n",
      " 17%|█▋        | 1/6 [00:00<00:00,  5.14it/s]\u001B[A\u001B[A\n",
      "\n",
      " 33%|███▎      | 2/6 [00:00<00:00,  5.05it/s]\u001B[A\u001B[A\n",
      "\n",
      " 50%|█████     | 3/6 [00:00<00:00,  5.00it/s]\u001B[A\u001B[A\n",
      "\n",
      " 67%|██████▋   | 4/6 [00:00<00:00,  5.00it/s]\u001B[A\u001B[A\n",
      "\n",
      " 83%|████████▎ | 5/6 [00:01<00:00,  4.75it/s]\u001B[A\u001B[A\n",
      "\n",
      "100%|██████████| 6/6 [00:01<00:00,  5.00it/s]\n",
      "Processing 2024-11 queries:  22%|██▏       | 22/99 [00:40<02:16,  1.77s/query]"
     ]
    },
    {
     "output_type": "stream",
     "name": "stdout",
     "text": [
      "WARNING! Your documents have duplicate entries!  This will slow down calculation and may yield subpar results\n"
     ]
    },
    {
     "output_type": "stream",
     "name": "stderr",
     "text": [
      "\n",
      "\n",
      "  0%|          | 0/7 [00:00<?, ?it/s]\u001B[A\u001B[A\n",
      "\n",
      " 14%|█▍        | 1/7 [00:00<00:01,  5.13it/s]\u001B[A\u001B[A\n",
      "\n",
      " 29%|██▊       | 2/7 [00:00<00:00,  5.03it/s]\u001B[A\u001B[A\n",
      "\n",
      " 43%|████▎     | 3/7 [00:00<00:00,  4.98it/s]\u001B[A\u001B[A\n",
      "\n",
      " 57%|█████▋    | 4/7 [00:00<00:00,  4.97it/s]\u001B[A\u001B[A\n",
      "\n",
      " 71%|███████▏  | 5/7 [00:01<00:00,  4.75it/s]\u001B[A\u001B[A\n",
      "\n",
      "100%|██████████| 7/7 [00:01<00:00,  5.46it/s]\n",
      "Processing 2024-11 queries:  23%|██▎       | 23/99 [00:43<02:33,  2.02s/query]\n",
      "\n",
      "  0%|          | 0/3 [00:00<?, ?it/s]\u001B[A\u001B[A\n",
      "\n",
      " 33%|███▎      | 1/3 [00:00<00:00,  5.11it/s]\u001B[A\u001B[A\n",
      "\n",
      " 67%|██████▋   | 2/3 [00:00<00:00,  4.99it/s]\u001B[A\u001B[A\n",
      "\n",
      "100%|██████████| 3/3 [00:00<00:00,  5.52it/s]\n",
      "Processing 2024-11 queries:  24%|██▍       | 24/99 [00:44<02:17,  1.83s/query]\n",
      "\n",
      "  0%|          | 0/7 [00:00<?, ?it/s]\u001B[A\u001B[A\n",
      "\n",
      " 14%|█▍        | 1/7 [00:00<00:01,  5.24it/s]\u001B[A\u001B[A\n",
      "\n",
      " 29%|██▊       | 2/7 [00:00<00:00,  5.05it/s]\u001B[A\u001B[A\n",
      "\n",
      " 43%|████▎     | 3/7 [00:00<00:00,  5.02it/s]\u001B[A\u001B[A\n",
      "\n",
      " 57%|█████▋    | 4/7 [00:00<00:00,  4.97it/s]\u001B[A\u001B[A\n",
      "\n",
      " 71%|███████▏  | 5/7 [00:01<00:00,  4.73it/s]\u001B[A\u001B[A\n",
      "\n",
      "100%|██████████| 7/7 [00:01<00:00,  5.47it/s]\n",
      "Processing 2024-11 queries:  25%|██▌       | 25/99 [00:47<02:32,  2.06s/query]"
     ]
    },
    {
     "output_type": "stream",
     "name": "stdout",
     "text": [
      "WARNING! Your documents have duplicate entries!  This will slow down calculation and may yield subpar results\n"
     ]
    },
    {
     "output_type": "stream",
     "name": "stderr",
     "text": [
      "\n",
      "\n",
      "  0%|          | 0/7 [00:00<?, ?it/s]\u001B[A\u001B[A\n",
      "\n",
      " 14%|█▍        | 1/7 [00:00<00:01,  5.18it/s]\u001B[A\u001B[A\n",
      "\n",
      " 29%|██▊       | 2/7 [00:00<00:00,  5.01it/s]\u001B[A\u001B[A\n",
      "\n",
      " 43%|████▎     | 3/7 [00:00<00:00,  4.96it/s]\u001B[A\u001B[A\n",
      "\n",
      " 57%|█████▋    | 4/7 [00:00<00:00,  4.91it/s]\u001B[A\u001B[A\n",
      "\n",
      " 71%|███████▏  | 5/7 [00:01<00:00,  4.76it/s]\u001B[A\u001B[A\n",
      "\n",
      "100%|██████████| 7/7 [00:01<00:00,  5.62it/s]\n",
      "Processing 2024-11 queries:  26%|██▋       | 26/99 [00:49<02:32,  2.09s/query]"
     ]
    },
    {
     "output_type": "stream",
     "name": "stdout",
     "text": [
      "WARNING! Your documents have duplicate entries!  This will slow down calculation and may yield subpar results\n"
     ]
    },
    {
     "output_type": "stream",
     "name": "stderr",
     "text": [
      "\n",
      "\n",
      "  0%|          | 0/7 [00:00<?, ?it/s]\u001B[A\u001B[A\n",
      "\n",
      " 14%|█▍        | 1/7 [00:00<00:01,  5.14it/s]\u001B[A\u001B[A\n",
      "\n",
      " 29%|██▊       | 2/7 [00:00<00:00,  5.02it/s]\u001B[A\u001B[A\n",
      "\n",
      " 43%|████▎     | 3/7 [00:00<00:00,  4.96it/s]\u001B[A\u001B[A\n",
      "\n",
      " 57%|█████▋    | 4/7 [00:00<00:00,  4.96it/s]\u001B[A\u001B[A\n",
      "\n",
      " 71%|███████▏  | 5/7 [00:01<00:00,  4.73it/s]\u001B[A\u001B[A\n",
      "\n",
      "100%|██████████| 7/7 [00:01<00:00,  5.44it/s]\n",
      "Processing 2024-11 queries:  27%|██▋       | 27/99 [00:51<02:42,  2.25s/query]"
     ]
    },
    {
     "output_type": "stream",
     "name": "stdout",
     "text": [
      "WARNING! Your documents have duplicate entries!  This will slow down calculation and may yield subpar results\n"
     ]
    },
    {
     "output_type": "stream",
     "name": "stderr",
     "text": [
      "\n",
      "\n",
      "  0%|          | 0/7 [00:00<?, ?it/s]\u001B[A\u001B[A\n",
      "\n",
      " 14%|█▍        | 1/7 [00:00<00:01,  5.12it/s]\u001B[A\u001B[A\n",
      "\n",
      " 29%|██▊       | 2/7 [00:00<00:00,  5.01it/s]\u001B[A\u001B[A\n",
      "\n",
      " 43%|████▎     | 3/7 [00:00<00:00,  4.97it/s]\u001B[A\u001B[A\n",
      "\n",
      " 57%|█████▋    | 4/7 [00:00<00:00,  4.96it/s]\u001B[A\u001B[A\n",
      "\n",
      " 71%|███████▏  | 5/7 [00:01<00:00,  4.75it/s]\u001B[A\u001B[A\n",
      "\n",
      "100%|██████████| 7/7 [00:01<00:00,  5.45it/s]\n",
      "Processing 2024-11 queries:  28%|██▊       | 28/99 [00:54<02:49,  2.39s/query]\n",
      "\n",
      "  0%|          | 0/7 [00:00<?, ?it/s]\u001B[A\u001B[A\n",
      "\n",
      " 14%|█▍        | 1/7 [00:00<00:01,  5.12it/s]\u001B[A\u001B[A\n",
      "\n",
      " 29%|██▊       | 2/7 [00:00<00:01,  4.99it/s]\u001B[A\u001B[A\n",
      "\n",
      " 43%|████▎     | 3/7 [00:00<00:00,  4.96it/s]\u001B[A\u001B[A\n",
      "\n",
      " 57%|█████▋    | 4/7 [00:00<00:00,  4.93it/s]\u001B[A\u001B[A\n",
      "\n",
      " 71%|███████▏  | 5/7 [00:01<00:00,  4.73it/s]\u001B[A\u001B[A\n",
      "\n",
      "100%|██████████| 7/7 [00:01<00:00,  5.41it/s]\n",
      "Processing 2024-11 queries:  29%|██▉       | 29/99 [00:56<02:44,  2.35s/query]"
     ]
    },
    {
     "output_type": "stream",
     "name": "stdout",
     "text": [
      "WARNING! Your documents have duplicate entries!  This will slow down calculation and may yield subpar results\n"
     ]
    },
    {
     "output_type": "stream",
     "name": "stderr",
     "text": [
      "\n",
      "\n",
      "  0%|          | 0/7 [00:00<?, ?it/s]\u001B[A\u001B[A\n",
      "\n",
      " 14%|█▍        | 1/7 [00:00<00:01,  5.12it/s]\u001B[A\u001B[A\n",
      "\n",
      " 29%|██▊       | 2/7 [00:00<00:00,  5.00it/s]\u001B[A\u001B[A\n",
      "\n",
      " 43%|████▎     | 3/7 [00:00<00:00,  4.92it/s]\u001B[A\u001B[A\n",
      "\n",
      " 57%|█████▋    | 4/7 [00:00<00:00,  4.91it/s]\u001B[A\u001B[A\n",
      "\n",
      " 71%|███████▏  | 5/7 [00:01<00:00,  4.74it/s]\u001B[A\u001B[A\n",
      "\n",
      "100%|██████████| 7/7 [00:01<00:00,  5.41it/s]\n",
      "Processing 2024-11 queries:  30%|███       | 30/99 [00:59<02:38,  2.30s/query]\n",
      "\n",
      "  0%|          | 0/7 [00:00<?, ?it/s]\u001B[A\u001B[A\n",
      "\n",
      " 14%|█▍        | 1/7 [00:00<00:01,  5.11it/s]\u001B[A\u001B[A\n",
      "\n",
      " 29%|██▊       | 2/7 [00:00<00:01,  4.98it/s]\u001B[A\u001B[A\n",
      "\n",
      " 43%|████▎     | 3/7 [00:00<00:00,  4.92it/s]\u001B[A\u001B[A\n",
      "\n",
      " 57%|█████▋    | 4/7 [00:00<00:00,  4.90it/s]\u001B[A\u001B[A\n",
      "\n",
      " 71%|███████▏  | 5/7 [00:01<00:00,  4.74it/s]\u001B[A\u001B[A\n",
      "\n",
      "100%|██████████| 7/7 [00:01<00:00,  5.48it/s]\n",
      "Processing 2024-11 queries:  31%|███▏      | 31/99 [01:01<02:33,  2.26s/query]"
     ]
    },
    {
     "output_type": "stream",
     "name": "stdout",
     "text": [
      "WARNING! Your documents have duplicate entries!  This will slow down calculation and may yield subpar results\n"
     ]
    },
    {
     "output_type": "stream",
     "name": "stderr",
     "text": [
      "\n",
      "\n",
      "  0%|          | 0/7 [00:00<?, ?it/s]\u001B[A\u001B[A\n",
      "\n",
      " 14%|█▍        | 1/7 [00:00<00:01,  5.10it/s]\u001B[A\u001B[A\n",
      "\n",
      " 29%|██▊       | 2/7 [00:00<00:01,  4.98it/s]\u001B[A\u001B[A\n",
      "\n",
      " 43%|████▎     | 3/7 [00:00<00:00,  4.94it/s]\u001B[A\u001B[A\n",
      "\n",
      " 57%|█████▋    | 4/7 [00:00<00:00,  4.92it/s]\u001B[A\u001B[A\n",
      "\n",
      " 71%|███████▏  | 5/7 [00:01<00:00,  4.73it/s]\u001B[A\u001B[A\n",
      "\n",
      "100%|██████████| 7/7 [00:01<00:00,  5.43it/s]\n",
      "Processing 2024-11 queries:  32%|███▏      | 32/99 [01:03<02:38,  2.37s/query]"
     ]
    },
    {
     "output_type": "stream",
     "name": "stdout",
     "text": [
      "WARNING! Your documents have duplicate entries!  This will slow down calculation and may yield subpar results\n"
     ]
    },
    {
     "output_type": "stream",
     "name": "stderr",
     "text": [
      "\n",
      "\n",
      "  0%|          | 0/7 [00:00<?, ?it/s]\u001B[A\u001B[A\n",
      "\n",
      " 14%|█▍        | 1/7 [00:00<00:01,  5.14it/s]\u001B[A\u001B[A\n",
      "\n",
      " 29%|██▊       | 2/7 [00:00<00:01,  4.97it/s]\u001B[A\u001B[A\n",
      "\n",
      " 43%|████▎     | 3/7 [00:00<00:00,  4.92it/s]\u001B[A\u001B[A\n",
      "\n",
      " 57%|█████▋    | 4/7 [00:00<00:00,  4.91it/s]\u001B[A\u001B[A\n",
      "\n",
      " 71%|███████▏  | 5/7 [00:01<00:00,  4.78it/s]\u001B[A\u001B[A\n",
      "\n",
      "100%|██████████| 7/7 [00:01<00:00,  5.42it/s]\n",
      "Processing 2024-11 queries:  33%|███▎      | 33/99 [01:06<02:32,  2.31s/query]"
     ]
    },
    {
     "output_type": "stream",
     "name": "stdout",
     "text": [
      "WARNING! Your documents have duplicate entries!  This will slow down calculation and may yield subpar results\n"
     ]
    },
    {
     "output_type": "stream",
     "name": "stderr",
     "text": [
      "\n",
      "\n",
      "  0%|          | 0/7 [00:00<?, ?it/s]\u001B[A\u001B[A\n",
      "\n",
      " 14%|█▍        | 1/7 [00:00<00:01,  5.00it/s]\u001B[A\u001B[A\n",
      "\n",
      " 29%|██▊       | 2/7 [00:00<00:01,  4.94it/s]\u001B[A\u001B[A\n",
      "\n",
      " 43%|████▎     | 3/7 [00:00<00:00,  4.90it/s]\u001B[A\u001B[A\n",
      "\n",
      " 57%|█████▋    | 4/7 [00:00<00:00,  4.88it/s]\u001B[A\u001B[A\n",
      "\n",
      " 71%|███████▏  | 5/7 [00:01<00:00,  4.71it/s]\u001B[A\u001B[A\n",
      "\n",
      "100%|██████████| 7/7 [00:01<00:00,  5.37it/s]\n",
      "Processing 2024-11 queries:  34%|███▍      | 34/99 [01:08<02:36,  2.41s/query]"
     ]
    },
    {
     "output_type": "stream",
     "name": "stdout",
     "text": [
      "WARNING! Your documents have duplicate entries!  This will slow down calculation and may yield subpar results\n"
     ]
    },
    {
     "output_type": "stream",
     "name": "stderr",
     "text": [
      "\n",
      "\n",
      "  0%|          | 0/7 [00:00<?, ?it/s]\u001B[A\u001B[A\n",
      "\n",
      " 14%|█▍        | 1/7 [00:00<00:01,  5.03it/s]\u001B[A\u001B[A\n",
      "\n",
      " 29%|██▊       | 2/7 [00:00<00:01,  4.96it/s]\u001B[A\u001B[A\n",
      "\n",
      " 43%|████▎     | 3/7 [00:00<00:00,  4.93it/s]\u001B[A\u001B[A\n",
      "\n",
      " 57%|█████▋    | 4/7 [00:00<00:00,  4.89it/s]\u001B[A\u001B[A\n",
      "\n",
      " 71%|███████▏  | 5/7 [00:01<00:00,  4.71it/s]\u001B[A\u001B[A\n",
      "\n",
      "100%|██████████| 7/7 [00:01<00:00,  5.39it/s]\n",
      "Processing 2024-11 queries:  36%|███▋      | 36/99 [01:12<02:04,  1.97s/query]"
     ]
    },
    {
     "output_type": "stream",
     "name": "stdout",
     "text": [
      "WARNING! Your documents have duplicate entries!  This will slow down calculation and may yield subpar results\n"
     ]
    },
    {
     "output_type": "stream",
     "name": "stderr",
     "text": [
      "\n",
      "\n",
      "  0%|          | 0/7 [00:00<?, ?it/s]\u001B[A\u001B[A\n",
      "\n",
      " 14%|█▍        | 1/7 [00:00<00:01,  3.61it/s]\u001B[A\u001B[A\n",
      "\n",
      " 29%|██▊       | 2/7 [00:00<00:01,  4.27it/s]\u001B[A\u001B[A\n",
      "\n",
      " 43%|████▎     | 3/7 [00:00<00:00,  4.51it/s]\u001B[A\u001B[A\n",
      "\n",
      " 57%|█████▋    | 4/7 [00:00<00:00,  4.63it/s]\u001B[A\u001B[A\n",
      "\n",
      " 71%|███████▏  | 5/7 [00:01<00:00,  4.67it/s]\u001B[A\u001B[A\n",
      "\n",
      "100%|██████████| 7/7 [00:01<00:00,  5.08it/s]\n",
      "Processing 2024-11 queries:  37%|███▋      | 37/99 [01:14<02:15,  2.19s/query]"
     ]
    },
    {
     "output_type": "stream",
     "name": "stdout",
     "text": [
      "WARNING! Your documents have duplicate entries!  This will slow down calculation and may yield subpar results\n"
     ]
    },
    {
     "output_type": "stream",
     "name": "stderr",
     "text": [
      "\n",
      "\n",
      "  0%|          | 0/7 [00:00<?, ?it/s]\u001B[A\u001B[A\n",
      "\n",
      " 14%|█▍        | 1/7 [00:00<00:01,  5.07it/s]\u001B[A\u001B[A\n",
      "\n",
      " 29%|██▊       | 2/7 [00:00<00:01,  4.95it/s]\u001B[A\u001B[A\n",
      "\n",
      " 43%|████▎     | 3/7 [00:00<00:00,  4.90it/s]\u001B[A\u001B[A\n",
      "\n",
      " 57%|█████▋    | 4/7 [00:00<00:00,  4.87it/s]\u001B[A\u001B[A\n",
      "\n",
      " 71%|███████▏  | 5/7 [00:01<00:00,  4.68it/s]\u001B[A\u001B[A\n",
      "\n",
      "100%|██████████| 7/7 [00:01<00:00,  5.36it/s]\n",
      "Processing 2024-11 queries:  38%|███▊      | 38/99 [01:17<02:30,  2.47s/query]"
     ]
    },
    {
     "output_type": "stream",
     "name": "stdout",
     "text": [
      "WARNING! Your documents have duplicate entries!  This will slow down calculation and may yield subpar results\n"
     ]
    },
    {
     "output_type": "stream",
     "name": "stderr",
     "text": [
      "\n",
      "\n",
      "  0%|          | 0/7 [00:00<?, ?it/s]\u001B[A\u001B[A\n",
      "\n",
      " 14%|█▍        | 1/7 [00:00<00:01,  4.96it/s]\u001B[A\u001B[A\n",
      "\n",
      " 29%|██▊       | 2/7 [00:00<00:01,  4.87it/s]\u001B[A\u001B[A\n",
      "\n",
      " 43%|████▎     | 3/7 [00:00<00:00,  4.84it/s]\u001B[A\u001B[A\n",
      "\n",
      " 57%|█████▋    | 4/7 [00:00<00:00,  4.82it/s]\u001B[A\u001B[A\n",
      "\n",
      " 71%|███████▏  | 5/7 [00:01<00:00,  4.63it/s]\u001B[A\u001B[A\n",
      "\n",
      "100%|██████████| 7/7 [00:01<00:00,  5.30it/s]\n",
      "Processing 2024-11 queries:  39%|███▉      | 39/99 [01:20<02:24,  2.41s/query]"
     ]
    },
    {
     "output_type": "stream",
     "name": "stdout",
     "text": [
      "WARNING! Your documents have duplicate entries!  This will slow down calculation and may yield subpar results\n"
     ]
    },
    {
     "output_type": "stream",
     "name": "stderr",
     "text": [
      "\n",
      "\n",
      "  0%|          | 0/7 [00:00<?, ?it/s]\u001B[A\u001B[A\n",
      "\n",
      " 14%|█▍        | 1/7 [00:00<00:01,  5.03it/s]\u001B[A\u001B[A\n",
      "\n",
      " 29%|██▊       | 2/7 [00:00<00:01,  4.92it/s]\u001B[A\u001B[A\n",
      "\n",
      " 43%|████▎     | 3/7 [00:00<00:00,  4.90it/s]\u001B[A\u001B[A\n",
      "\n",
      " 57%|█████▋    | 4/7 [00:00<00:00,  4.85it/s]\u001B[A\u001B[A\n",
      "\n",
      " 71%|███████▏  | 5/7 [00:01<00:00,  4.59it/s]\u001B[A\u001B[A\n",
      "\n",
      "100%|██████████| 7/7 [00:01<00:00,  5.32it/s]\n",
      "Processing 2024-11 queries:  40%|████      | 40/99 [01:22<02:18,  2.34s/query]"
     ]
    },
    {
     "output_type": "stream",
     "name": "stdout",
     "text": [
      "INFO: Processed 40/99 queries for 2024-11. Avg time/query: 2042.08 ms.\n",
      "WARNING! Your documents have duplicate entries!  This will slow down calculation and may yield subpar results\n"
     ]
    },
    {
     "output_type": "stream",
     "name": "stderr",
     "text": [
      "\n",
      "\n",
      "  0%|          | 0/7 [00:00<?, ?it/s]\u001B[A\u001B[A\n",
      "\n",
      " 14%|█▍        | 1/7 [00:00<00:01,  4.97it/s]\u001B[A\u001B[A\n",
      "\n",
      " 29%|██▊       | 2/7 [00:00<00:01,  4.87it/s]\u001B[A\u001B[A\n",
      "\n",
      " 43%|████▎     | 3/7 [00:00<00:00,  4.84it/s]\u001B[A\u001B[A\n",
      "\n",
      " 57%|█████▋    | 4/7 [00:00<00:00,  4.82it/s]\u001B[A\u001B[A\n",
      "\n",
      " 71%|███████▏  | 5/7 [00:01<00:00,  4.64it/s]\u001B[A\u001B[A\n",
      "\n",
      "100%|██████████| 7/7 [00:01<00:00,  5.31it/s]\n",
      "Processing 2024-11 queries:  41%|████▏     | 41/99 [01:25<02:22,  2.45s/query]"
     ]
    },
    {
     "output_type": "stream",
     "name": "stdout",
     "text": [
      "WARNING! Your documents have duplicate entries!  This will slow down calculation and may yield subpar results\n"
     ]
    },
    {
     "output_type": "stream",
     "name": "stderr",
     "text": [
      "\n",
      "\n",
      "  0%|          | 0/7 [00:00<?, ?it/s]\u001B[A\u001B[A\n",
      "\n",
      " 14%|█▍        | 1/7 [00:00<00:01,  4.91it/s]\u001B[A\u001B[A\n",
      "\n",
      " 29%|██▊       | 2/7 [00:00<00:01,  4.85it/s]\u001B[A\u001B[A\n",
      "\n",
      " 43%|████▎     | 3/7 [00:00<00:00,  4.82it/s]\u001B[A\u001B[A\n",
      "\n",
      " 57%|█████▋    | 4/7 [00:00<00:00,  4.80it/s]\u001B[A\u001B[A\n",
      "\n",
      " 71%|███████▏  | 5/7 [00:01<00:00,  4.62it/s]\u001B[A\u001B[A\n",
      "\n",
      "100%|██████████| 7/7 [00:01<00:00,  5.28it/s]\n",
      "Processing 2024-11 queries:  42%|████▏     | 42/99 [01:27<02:15,  2.38s/query]\n",
      "\n",
      "  0%|          | 0/3 [00:00<?, ?it/s]\u001B[A\u001B[A\n",
      "\n",
      " 33%|███▎      | 1/3 [00:00<00:00,  4.97it/s]\u001B[A\u001B[A\n",
      "\n",
      "100%|██████████| 3/3 [00:00<00:00,  5.90it/s]\n",
      "Processing 2024-11 queries:  43%|████▎     | 43/99 [01:28<01:55,  2.06s/query]\n",
      "\n",
      "100%|██████████| 1/1 [00:00<00:00, 63.83it/s]\n",
      "Processing 2024-11 queries:  44%|████▍     | 44/99 [01:29<01:32,  1.68s/query]"
     ]
    },
    {
     "output_type": "stream",
     "name": "stdout",
     "text": [
      "WARNING! Your documents have duplicate entries!  This will slow down calculation and may yield subpar results\n"
     ]
    },
    {
     "output_type": "stream",
     "name": "stderr",
     "text": [
      "\n",
      "\n",
      "  0%|          | 0/7 [00:00<?, ?it/s]\u001B[A\u001B[A\n",
      "\n",
      " 14%|█▍        | 1/7 [00:00<00:01,  3.66it/s]\u001B[A\u001B[A\n",
      "\n",
      " 29%|██▊       | 2/7 [00:00<00:01,  4.24it/s]\u001B[A\u001B[A\n",
      "\n",
      " 43%|████▎     | 3/7 [00:00<00:00,  4.43it/s]\u001B[A\u001B[A\n",
      "\n",
      " 57%|█████▋    | 4/7 [00:00<00:00,  4.57it/s]\u001B[A\u001B[A\n",
      "\n",
      " 71%|███████▏  | 5/7 [00:01<00:00,  4.54it/s]\u001B[A\u001B[A\n",
      "\n",
      "100%|██████████| 7/7 [00:01<00:00,  4.97it/s]\n",
      "Processing 2024-11 queries:  45%|████▌     | 45/99 [01:32<01:48,  2.01s/query]"
     ]
    },
    {
     "output_type": "stream",
     "name": "stdout",
     "text": [
      "WARNING! Your documents have duplicate entries!  This will slow down calculation and may yield subpar results\n"
     ]
    },
    {
     "output_type": "stream",
     "name": "stderr",
     "text": [
      "\n",
      "\n",
      "  0%|          | 0/7 [00:00<?, ?it/s]\u001B[A\u001B[A\n",
      "\n",
      " 14%|█▍        | 1/7 [00:00<00:01,  4.92it/s]\u001B[A\u001B[A\n",
      "\n",
      " 29%|██▊       | 2/7 [00:00<00:01,  4.78it/s]\u001B[A\u001B[A\n",
      "\n",
      " 43%|████▎     | 3/7 [00:00<00:00,  4.79it/s]\u001B[A\u001B[A\n",
      "\n",
      " 57%|█████▋    | 4/7 [00:00<00:00,  4.77it/s]\u001B[A\u001B[A\n",
      "\n",
      " 71%|███████▏  | 5/7 [00:01<00:00,  4.62it/s]\u001B[A\u001B[A\n",
      "\n",
      "100%|██████████| 7/7 [00:01<00:00,  5.25it/s]\n",
      "Processing 2024-11 queries:  46%|████▋     | 46/99 [01:34<01:57,  2.21s/query]\n",
      "\n",
      "100%|██████████| 1/1 [00:00<00:00, 37.47it/s]\n",
      "Processing 2024-11 queries:  47%|████▋     | 47/99 [01:35<01:33,  1.79s/query]"
     ]
    },
    {
     "output_type": "stream",
     "name": "stdout",
     "text": [
      "WARNING! Your documents have duplicate entries!  This will slow down calculation and may yield subpar results\n"
     ]
    },
    {
     "output_type": "stream",
     "name": "stderr",
     "text": [
      "\n",
      "\n",
      "  0%|          | 0/7 [00:00<?, ?it/s]\u001B[A\u001B[A\n",
      "\n",
      " 14%|█▍        | 1/7 [00:00<00:01,  3.96it/s]\u001B[A\u001B[A\n",
      "\n",
      " 29%|██▊       | 2/7 [00:00<00:01,  4.31it/s]\u001B[A\u001B[A\n",
      "\n",
      " 43%|████▎     | 3/7 [00:00<00:00,  4.49it/s]\u001B[A\u001B[A\n",
      "\n",
      " 57%|█████▋    | 4/7 [00:00<00:00,  4.59it/s]\u001B[A\u001B[A\n",
      "\n",
      " 71%|███████▏  | 5/7 [00:01<00:00,  4.55it/s]\u001B[A\u001B[A\n",
      "\n",
      "100%|██████████| 7/7 [00:01<00:00,  5.00it/s]\n",
      "Processing 2024-11 queries:  48%|████▊     | 48/99 [01:39<01:59,  2.34s/query]\n",
      "\n",
      "  0%|          | 0/6 [00:00<?, ?it/s]\u001B[A\u001B[A\n",
      "\n",
      " 17%|█▋        | 1/6 [00:00<00:01,  4.89it/s]\u001B[A\u001B[A\n",
      "\n",
      " 33%|███▎      | 2/6 [00:00<00:00,  4.75it/s]\u001B[A\u001B[A\n",
      "\n",
      " 50%|█████     | 3/6 [00:00<00:00,  4.71it/s]\u001B[A\u001B[A\n",
      "\n",
      " 67%|██████▋   | 4/6 [00:00<00:00,  4.78it/s]\u001B[A\u001B[A\n",
      "\n",
      " 83%|████████▎ | 5/6 [00:01<00:00,  4.59it/s]\u001B[A\u001B[A\n",
      "\n",
      "100%|██████████| 6/6 [00:01<00:00,  4.93it/s]\n",
      "Processing 2024-11 queries:  49%|████▉     | 49/99 [01:41<01:54,  2.28s/query]"
     ]
    },
    {
     "output_type": "stream",
     "name": "stdout",
     "text": [
      "WARNING! Your documents have duplicate entries!  This will slow down calculation and may yield subpar results\n"
     ]
    },
    {
     "output_type": "stream",
     "name": "stderr",
     "text": [
      "\n",
      "\n",
      "  0%|          | 0/7 [00:00<?, ?it/s]\u001B[A\u001B[A\n",
      "\n",
      " 14%|█▍        | 1/7 [00:00<00:01,  4.83it/s]\u001B[A\u001B[A\n",
      "\n",
      " 29%|██▊       | 2/7 [00:00<00:01,  4.75it/s]\u001B[A\u001B[A\n",
      "\n",
      " 43%|████▎     | 3/7 [00:00<00:00,  4.71it/s]\u001B[A\u001B[A\n",
      "\n",
      " 57%|█████▋    | 4/7 [00:00<00:00,  4.68it/s]\u001B[A\u001B[A\n",
      "\n",
      " 71%|███████▏  | 5/7 [00:01<00:00,  4.45it/s]\u001B[A\u001B[A\n",
      "\n",
      "100%|██████████| 7/7 [00:01<00:00,  5.12it/s]\n",
      "Processing 2024-11 queries:  51%|█████     | 50/99 [01:44<01:57,  2.41s/query]"
     ]
    },
    {
     "output_type": "stream",
     "name": "stdout",
     "text": [
      "WARNING! Your documents have duplicate entries!  This will slow down calculation and may yield subpar results\n"
     ]
    },
    {
     "output_type": "stream",
     "name": "stderr",
     "text": [
      "\n",
      "\n",
      "  0%|          | 0/3 [00:00<?, ?it/s]\u001B[A\u001B[A\n",
      "\n",
      " 33%|███▎      | 1/3 [00:00<00:00,  4.83it/s]\u001B[A\u001B[A\n",
      "\n",
      "100%|██████████| 3/3 [00:00<00:00,  6.00it/s]\n",
      "Processing 2024-11 queries:  52%|█████▏    | 51/99 [01:45<01:39,  2.08s/query]\n",
      "\n",
      "  0%|          | 0/7 [00:00<?, ?it/s]\u001B[A\u001B[A\n",
      "\n",
      " 14%|█▍        | 1/7 [00:00<00:01,  4.87it/s]\u001B[A\u001B[A\n",
      "\n",
      " 29%|██▊       | 2/7 [00:00<00:01,  4.74it/s]\u001B[A\u001B[A\n",
      "\n",
      " 43%|████▎     | 3/7 [00:00<00:00,  4.70it/s]\u001B[A\u001B[A\n",
      "\n",
      " 57%|█████▋    | 4/7 [00:00<00:00,  4.59it/s]\u001B[A\u001B[A\n",
      "\n",
      " 71%|███████▏  | 5/7 [00:01<00:00,  4.40it/s]\u001B[A\u001B[A\n",
      "\n",
      "100%|██████████| 7/7 [00:01<00:00,  5.08it/s]\n",
      "Processing 2024-11 queries:  53%|█████▎    | 52/99 [01:47<01:40,  2.14s/query]"
     ]
    },
    {
     "output_type": "stream",
     "name": "stdout",
     "text": [
      "WARNING! Your documents have duplicate entries!  This will slow down calculation and may yield subpar results\n"
     ]
    },
    {
     "output_type": "stream",
     "name": "stderr",
     "text": [
      "\n",
      "\n",
      "  0%|          | 0/7 [00:00<?, ?it/s]\u001B[A\u001B[A\n",
      "\n",
      " 14%|█▍        | 1/7 [00:00<00:01,  4.86it/s]\u001B[A\u001B[A\n",
      "\n",
      " 29%|██▊       | 2/7 [00:00<00:01,  4.75it/s]\u001B[A\u001B[A\n",
      "\n",
      " 43%|████▎     | 3/7 [00:00<00:00,  4.69it/s]\u001B[A\u001B[A\n",
      "\n",
      " 57%|█████▋    | 4/7 [00:00<00:00,  4.67it/s]\u001B[A\u001B[A\n",
      "\n",
      " 71%|███████▏  | 5/7 [00:01<00:00,  4.45it/s]\u001B[A\u001B[A\n",
      "\n",
      "100%|██████████| 7/7 [00:01<00:00,  5.14it/s]\n",
      "Processing 2024-11 queries:  54%|█████▎    | 53/99 [01:50<01:39,  2.17s/query]\n",
      "\n",
      "  0%|          | 0/3 [00:00<?, ?it/s]\u001B[A\u001B[A\n",
      "\n",
      " 33%|███▎      | 1/3 [00:00<00:00,  4.71it/s]\u001B[A\u001B[A\n",
      "\n",
      " 67%|██████▋   | 2/3 [00:00<00:00,  4.66it/s]\u001B[A\u001B[A\n",
      "\n",
      "100%|██████████| 3/3 [00:00<00:00,  5.26it/s]\n",
      "Processing 2024-11 queries:  55%|█████▍    | 54/99 [01:51<01:27,  1.94s/query]\n",
      "\n",
      "  0%|          | 0/7 [00:00<?, ?it/s]\u001B[A\u001B[A\n",
      "\n",
      " 14%|█▍        | 1/7 [00:00<00:01,  4.83it/s]\u001B[A\u001B[A\n",
      "\n",
      " 29%|██▊       | 2/7 [00:00<00:01,  4.76it/s]\u001B[A\u001B[A\n",
      "\n",
      " 43%|████▎     | 3/7 [00:00<00:00,  4.74it/s]\u001B[A\u001B[A\n",
      "\n",
      " 57%|█████▋    | 4/7 [00:00<00:00,  4.68it/s]\u001B[A\u001B[A\n",
      "\n",
      " 71%|███████▏  | 5/7 [00:01<00:00,  4.55it/s]\u001B[A\u001B[A\n",
      "\n",
      "100%|██████████| 7/7 [00:01<00:00,  5.17it/s]\n",
      "Processing 2024-11 queries:  56%|█████▌    | 55/99 [01:53<01:28,  2.02s/query]\n",
      "\n",
      "100%|██████████| 1/1 [00:00<00:00, 12.45it/s]\n",
      "Processing 2024-11 queries:  57%|█████▋    | 56/99 [01:54<01:11,  1.67s/query]\n",
      "\n",
      "  0%|          | 0/7 [00:00<?, ?it/s]\u001B[A\u001B[A\n",
      "\n",
      " 14%|█▍        | 1/7 [00:00<00:01,  4.24it/s]\u001B[A\u001B[A\n",
      "\n",
      " 29%|██▊       | 2/7 [00:00<00:01,  4.46it/s]\u001B[A\u001B[A\n",
      "\n",
      " 43%|████▎     | 3/7 [00:00<00:00,  4.57it/s]\u001B[A\u001B[A\n",
      "\n",
      " 57%|█████▋    | 4/7 [00:00<00:00,  4.59it/s]\u001B[A\u001B[A\n",
      "\n",
      " 71%|███████▏  | 5/7 [00:01<00:00,  4.50it/s]\u001B[A\u001B[A\n",
      "\n",
      "100%|██████████| 7/7 [00:01<00:00,  5.03it/s]\n",
      "Processing 2024-11 queries:  58%|█████▊    | 57/99 [01:56<01:18,  1.86s/query]"
     ]
    },
    {
     "output_type": "stream",
     "name": "stdout",
     "text": [
      "WARNING! Your documents have duplicate entries!  This will slow down calculation and may yield subpar results\n"
     ]
    },
    {
     "output_type": "stream",
     "name": "stderr",
     "text": [
      "\n",
      "\n",
      "  0%|          | 0/7 [00:00<?, ?it/s]\u001B[A\u001B[A\n",
      "\n",
      " 14%|█▍        | 1/7 [00:00<00:01,  4.86it/s]\u001B[A\u001B[A\n",
      "\n",
      " 29%|██▊       | 2/7 [00:00<00:01,  4.74it/s]\u001B[A\u001B[A\n",
      "\n",
      " 43%|████▎     | 3/7 [00:00<00:00,  4.69it/s]\u001B[A\u001B[A\n",
      "\n",
      " 57%|█████▋    | 4/7 [00:00<00:00,  4.64it/s]\u001B[A\u001B[A\n",
      "\n",
      " 71%|███████▏  | 5/7 [00:01<00:00,  4.46it/s]\u001B[A\u001B[A\n",
      "\n",
      "100%|██████████| 7/7 [00:01<00:00,  5.09it/s]\n",
      "Processing 2024-11 queries:  59%|█████▊    | 58/99 [01:59<01:32,  2.25s/query]"
     ]
    },
    {
     "output_type": "stream",
     "name": "stdout",
     "text": [
      "WARNING! Your documents have duplicate entries!  This will slow down calculation and may yield subpar results\n"
     ]
    },
    {
     "output_type": "stream",
     "name": "stderr",
     "text": [
      "\n",
      "\n",
      "  0%|          | 0/7 [00:00<?, ?it/s]\u001B[A\u001B[A\n",
      "\n",
      " 14%|█▍        | 1/7 [00:00<00:01,  4.81it/s]\u001B[A\u001B[A\n",
      "\n",
      " 29%|██▊       | 2/7 [00:00<00:01,  4.71it/s]\u001B[A\u001B[A\n",
      "\n",
      " 43%|████▎     | 3/7 [00:00<00:00,  4.67it/s]\u001B[A\u001B[A\n",
      "\n",
      " 57%|█████▋    | 4/7 [00:00<00:00,  4.62it/s]\u001B[A\u001B[A\n",
      "\n",
      " 71%|███████▏  | 5/7 [00:01<00:00,  4.42it/s]\u001B[A\u001B[A\n",
      "\n",
      "100%|██████████| 7/7 [00:01<00:00,  5.07it/s]\n",
      "Processing 2024-11 queries:  60%|█████▉    | 59/99 [02:03<01:40,  2.52s/query]\n",
      "\n",
      "  0%|          | 0/6 [00:00<?, ?it/s]\u001B[A\u001B[A\n",
      "\n",
      " 17%|█▋        | 1/6 [00:00<00:01,  4.79it/s]\u001B[A\u001B[A\n",
      "\n",
      " 33%|███▎      | 2/6 [00:00<00:00,  4.69it/s]\u001B[A\u001B[A\n",
      "\n",
      " 50%|█████     | 3/6 [00:00<00:00,  4.64it/s]\u001B[A\u001B[A\n",
      "\n",
      " 67%|██████▋   | 4/6 [00:00<00:00,  4.39it/s]\u001B[A\u001B[A\n",
      "\n",
      "100%|██████████| 6/6 [00:01<00:00,  5.19it/s]\n",
      "Processing 2024-11 queries:  61%|██████    | 60/99 [02:05<01:32,  2.38s/query]"
     ]
    },
    {
     "output_type": "stream",
     "name": "stdout",
     "text": [
      "INFO: Processed 60/99 queries for 2024-11. Avg time/query: 2073.41 ms.\n",
      "WARNING! Your documents have duplicate entries!  This will slow down calculation and may yield subpar results\n"
     ]
    },
    {
     "output_type": "stream",
     "name": "stderr",
     "text": [
      "\n",
      "\n",
      "  0%|          | 0/7 [00:00<?, ?it/s]\u001B[A\u001B[A\n",
      "\n",
      " 14%|█▍        | 1/7 [00:00<00:01,  4.81it/s]\u001B[A\u001B[A\n",
      "\n",
      " 29%|██▊       | 2/7 [00:00<00:01,  4.72it/s]\u001B[A\u001B[A\n",
      "\n",
      " 43%|████▎     | 3/7 [00:00<00:00,  4.68it/s]\u001B[A\u001B[A\n",
      "\n",
      " 57%|█████▋    | 4/7 [00:00<00:00,  4.52it/s]\u001B[A\u001B[A\n",
      "\n",
      " 71%|███████▏  | 5/7 [00:01<00:00,  4.44it/s]\u001B[A\u001B[A\n",
      "\n",
      "100%|██████████| 7/7 [00:01<00:00,  5.06it/s]\n",
      "Processing 2024-11 queries:  62%|██████▏   | 61/99 [02:07<01:29,  2.35s/query]\n",
      "\n",
      "  0%|          | 0/7 [00:00<?, ?it/s]\u001B[A\u001B[A\n",
      "\n",
      " 14%|█▍        | 1/7 [00:00<00:01,  4.75it/s]\u001B[A\u001B[A\n",
      "\n",
      " 29%|██▊       | 2/7 [00:00<00:01,  4.66it/s]\u001B[A\u001B[A\n",
      "\n",
      " 43%|████▎     | 3/7 [00:00<00:00,  4.61it/s]\u001B[A\u001B[A\n",
      "\n",
      " 57%|█████▋    | 4/7 [00:00<00:00,  4.53it/s]\u001B[A\u001B[A\n",
      "\n",
      " 71%|███████▏  | 5/7 [00:01<00:00,  4.36it/s]\u001B[A\u001B[A\n",
      "\n",
      "100%|██████████| 7/7 [00:01<00:00,  5.02it/s]\n",
      "Processing 2024-11 queries:  63%|██████▎   | 62/99 [02:09<01:26,  2.33s/query]"
     ]
    },
    {
     "output_type": "stream",
     "name": "stdout",
     "text": [
      "WARNING! Your documents have duplicate entries!  This will slow down calculation and may yield subpar results\n"
     ]
    },
    {
     "output_type": "stream",
     "name": "stderr",
     "text": [
      "\n",
      "\n",
      "  0%|          | 0/7 [00:00<?, ?it/s]\u001B[A\u001B[A\n",
      "\n",
      " 14%|█▍        | 1/7 [00:00<00:01,  4.81it/s]\u001B[A\u001B[A\n",
      "\n",
      " 29%|██▊       | 2/7 [00:00<00:01,  4.70it/s]\u001B[A\u001B[A\n",
      "\n",
      " 43%|████▎     | 3/7 [00:00<00:00,  4.65it/s]\u001B[A\u001B[A\n",
      "\n",
      " 57%|█████▋    | 4/7 [00:00<00:00,  4.49it/s]\u001B[A\u001B[A\n",
      "\n",
      " 71%|███████▏  | 5/7 [00:01<00:00,  4.43it/s]\u001B[A\u001B[A\n",
      "\n",
      "100%|██████████| 7/7 [00:01<00:00,  5.05it/s]\n",
      "Processing 2024-11 queries:  64%|██████▎   | 63/99 [02:12<01:27,  2.44s/query]"
     ]
    },
    {
     "output_type": "stream",
     "name": "stdout",
     "text": [
      "WARNING! Your documents have duplicate entries!  This will slow down calculation and may yield subpar results\n"
     ]
    },
    {
     "output_type": "stream",
     "name": "stderr",
     "text": [
      "\n",
      "\n",
      "  0%|          | 0/7 [00:00<?, ?it/s]\u001B[A\u001B[A\n",
      "\n",
      " 14%|█▍        | 1/7 [00:00<00:01,  4.79it/s]\u001B[A\u001B[A\n",
      "\n",
      " 29%|██▊       | 2/7 [00:00<00:01,  4.63it/s]\u001B[A\u001B[A\n",
      "\n",
      " 43%|████▎     | 3/7 [00:00<00:00,  4.57it/s]\u001B[A\u001B[A\n",
      "\n",
      " 57%|█████▋    | 4/7 [00:00<00:00,  4.39it/s]\u001B[A\u001B[A\n",
      "\n",
      " 71%|███████▏  | 5/7 [00:01<00:00,  4.39it/s]\u001B[A\u001B[A\n",
      "\n",
      "100%|██████████| 7/7 [00:01<00:00,  4.99it/s]\n",
      "Processing 2024-11 queries:  65%|██████▍   | 64/99 [02:15<01:28,  2.53s/query]\n",
      "\n",
      "  0%|          | 0/7 [00:00<?, ?it/s]\u001B[A\u001B[A\n",
      "\n",
      " 14%|█▍        | 1/7 [00:00<00:01,  5.06it/s]\u001B[A\u001B[A\n",
      "\n",
      " 29%|██▊       | 2/7 [00:00<00:01,  4.72it/s]\u001B[A\u001B[A\n",
      "\n",
      " 43%|████▎     | 3/7 [00:00<00:00,  4.61it/s]\u001B[A\u001B[A\n",
      "\n",
      " 57%|█████▋    | 4/7 [00:00<00:00,  4.47it/s]\u001B[A\u001B[A\n",
      "\n",
      " 71%|███████▏  | 5/7 [00:01<00:00,  4.33it/s]\u001B[A\u001B[A\n",
      "\n",
      "100%|██████████| 7/7 [00:01<00:00,  4.99it/s]\n",
      "Processing 2024-11 queries:  66%|██████▌   | 65/99 [02:17<01:24,  2.48s/query]\n",
      "\n",
      "  0%|          | 0/2 [00:00<?, ?it/s]\u001B[A\u001B[A\n",
      "\n",
      " 50%|█████     | 1/2 [00:00<00:00,  4.60it/s]\u001B[A\u001B[A\n",
      "\n",
      "100%|██████████| 2/2 [00:00<00:00,  5.59it/s]\n",
      "Processing 2024-11 queries:  67%|██████▋   | 66/99 [02:18<01:09,  2.09s/query]"
     ]
    },
    {
     "output_type": "stream",
     "name": "stdout",
     "text": [
      "WARNING! Your documents have duplicate entries!  This will slow down calculation and may yield subpar results\n"
     ]
    },
    {
     "output_type": "stream",
     "name": "stderr",
     "text": [
      "\n",
      "\n",
      "  0%|          | 0/7 [00:00<?, ?it/s]\u001B[A\u001B[A\n",
      "\n",
      " 14%|█▍        | 1/7 [00:00<00:01,  4.73it/s]\u001B[A\u001B[A\n",
      "\n",
      " 29%|██▊       | 2/7 [00:00<00:01,  4.57it/s]\u001B[A\u001B[A\n",
      "\n",
      " 43%|████▎     | 3/7 [00:00<00:00,  4.51it/s]\u001B[A\u001B[A\n",
      "\n",
      " 57%|█████▋    | 4/7 [00:00<00:00,  4.29it/s]\u001B[A\u001B[A\n",
      "\n",
      " 71%|███████▏  | 5/7 [00:01<00:00,  4.32it/s]\u001B[A\u001B[A\n",
      "\n",
      "100%|██████████| 7/7 [00:01<00:00,  4.92it/s]\n",
      "Processing 2024-11 queries:  68%|██████▊   | 67/99 [02:21<01:09,  2.16s/query]"
     ]
    },
    {
     "output_type": "stream",
     "name": "stdout",
     "text": [
      "WARNING! Your documents have duplicate entries!  This will slow down calculation and may yield subpar results\n"
     ]
    },
    {
     "output_type": "stream",
     "name": "stderr",
     "text": [
      "\n",
      "\n",
      "  0%|          | 0/7 [00:00<?, ?it/s]\u001B[A\u001B[A\n",
      "\n",
      " 14%|█▍        | 1/7 [00:00<00:01,  4.63it/s]\u001B[A\u001B[A\n",
      "\n",
      " 29%|██▊       | 2/7 [00:00<00:01,  4.57it/s]\u001B[A\u001B[A\n",
      "\n",
      " 43%|████▎     | 3/7 [00:00<00:00,  4.52it/s]\u001B[A\u001B[A\n",
      "\n",
      " 57%|█████▋    | 4/7 [00:00<00:00,  4.42it/s]\u001B[A\u001B[A\n",
      "\n",
      " 71%|███████▏  | 5/7 [00:01<00:00,  4.29it/s]\u001B[A\u001B[A\n",
      "\n",
      "100%|██████████| 7/7 [00:01<00:00,  4.91it/s]\n",
      "Processing 2024-11 queries:  69%|██████▊   | 68/99 [02:23<01:13,  2.36s/query]\n",
      "\n",
      "  0%|          | 0/7 [00:00<?, ?it/s]\u001B[A\u001B[A\n",
      "\n",
      " 14%|█▍        | 1/7 [00:00<00:01,  4.70it/s]\u001B[A\u001B[A\n",
      "\n",
      " 29%|██▊       | 2/7 [00:00<00:01,  4.55it/s]\u001B[A\u001B[A\n",
      "\n",
      " 43%|████▎     | 3/7 [00:00<00:00,  4.49it/s]\u001B[A\u001B[A\n",
      "\n",
      " 57%|█████▋    | 4/7 [00:00<00:00,  4.13it/s]\u001B[A\u001B[A\n",
      "\n",
      " 71%|███████▏  | 5/7 [00:01<00:00,  4.23it/s]\u001B[A\u001B[A\n",
      "\n",
      "100%|██████████| 7/7 [00:01<00:00,  4.83it/s]\n",
      "Processing 2024-11 queries:  70%|██████▉   | 69/99 [02:26<01:10,  2.36s/query]"
     ]
    },
    {
     "output_type": "stream",
     "name": "stdout",
     "text": [
      "WARNING! Your documents have duplicate entries!  This will slow down calculation and may yield subpar results\n"
     ]
    },
    {
     "output_type": "stream",
     "name": "stderr",
     "text": [
      "\n",
      "\n",
      "  0%|          | 0/7 [00:00<?, ?it/s]\u001B[A\u001B[A\n",
      "\n",
      " 14%|█▍        | 1/7 [00:00<00:01,  4.61it/s]\u001B[A\u001B[A\n",
      "\n",
      " 29%|██▊       | 2/7 [00:00<00:01,  4.53it/s]\u001B[A\u001B[A\n",
      "\n",
      " 43%|████▎     | 3/7 [00:00<00:00,  4.50it/s]\u001B[A\u001B[A\n",
      "\n",
      " 57%|█████▋    | 4/7 [00:00<00:00,  4.18it/s]\u001B[A\u001B[A\n",
      "\n",
      " 71%|███████▏  | 5/7 [00:01<00:00,  4.25it/s]\u001B[A\u001B[A\n",
      "\n",
      "100%|██████████| 7/7 [00:01<00:00,  4.83it/s]\n",
      "Processing 2024-11 queries:  71%|███████   | 70/99 [02:28<01:08,  2.35s/query]"
     ]
    },
    {
     "output_type": "stream",
     "name": "stdout",
     "text": [
      "WARNING! Your documents have duplicate entries!  This will slow down calculation and may yield subpar results\n"
     ]
    },
    {
     "output_type": "stream",
     "name": "stderr",
     "text": [
      "\n",
      "\n",
      "  0%|          | 0/7 [00:00<?, ?it/s]\u001B[A\u001B[A\n",
      "\n",
      " 14%|█▍        | 1/7 [00:00<00:01,  4.59it/s]\u001B[A\u001B[A\n",
      "\n",
      " 29%|██▊       | 2/7 [00:00<00:01,  4.48it/s]\u001B[A\u001B[A\n",
      "\n",
      " 43%|████▎     | 3/7 [00:00<00:00,  4.45it/s]\u001B[A\u001B[A\n",
      "\n",
      " 57%|█████▋    | 4/7 [00:00<00:00,  4.10it/s]\u001B[A\u001B[A\n",
      "\n",
      " 71%|███████▏  | 5/7 [00:01<00:00,  4.18it/s]\u001B[A\u001B[A\n",
      "\n",
      "100%|██████████| 7/7 [00:01<00:00,  4.80it/s]\n",
      "Processing 2024-11 queries:  72%|███████▏  | 71/99 [02:30<01:05,  2.35s/query]"
     ]
    },
    {
     "output_type": "stream",
     "name": "stdout",
     "text": [
      "WARNING! Your documents have duplicate entries!  This will slow down calculation and may yield subpar results\n"
     ]
    },
    {
     "output_type": "stream",
     "name": "stderr",
     "text": [
      "\n",
      "\n",
      "  0%|          | 0/7 [00:00<?, ?it/s]\u001B[A\u001B[A\n",
      "\n",
      " 14%|█▍        | 1/7 [00:00<00:01,  4.66it/s]\u001B[A\u001B[A\n",
      "\n",
      " 29%|██▊       | 2/7 [00:00<00:01,  4.49it/s]\u001B[A\u001B[A\n",
      "\n",
      " 43%|████▎     | 3/7 [00:00<00:00,  4.42it/s]\u001B[A\u001B[A\n",
      "\n",
      " 57%|█████▋    | 4/7 [00:00<00:00,  4.16it/s]\u001B[A\u001B[A\n",
      "\n",
      " 71%|███████▏  | 5/7 [00:01<00:00,  4.23it/s]\u001B[A\u001B[A\n",
      "\n",
      "100%|██████████| 7/7 [00:01<00:00,  4.81it/s]\n",
      "Processing 2024-11 queries:  73%|███████▎  | 72/99 [02:33<01:07,  2.49s/query]\n",
      "\n",
      "  0%|          | 0/7 [00:00<?, ?it/s]\u001B[A\u001B[A\n",
      "\n",
      " 14%|█▍        | 1/7 [00:00<00:01,  4.53it/s]\u001B[A\u001B[A\n",
      "\n",
      " 29%|██▊       | 2/7 [00:00<00:01,  4.46it/s]\u001B[A\u001B[A\n",
      "\n",
      " 43%|████▎     | 3/7 [00:00<00:00,  4.41it/s]\u001B[A\u001B[A\n",
      "\n",
      " 57%|█████▋    | 4/7 [00:00<00:00,  4.14it/s]\u001B[A\u001B[A\n",
      "\n",
      " 71%|███████▏  | 5/7 [00:01<00:00,  4.20it/s]\u001B[A\u001B[A\n",
      "\n",
      "100%|██████████| 7/7 [00:01<00:00,  4.79it/s]\n",
      "Processing 2024-11 queries:  74%|███████▎  | 73/99 [02:36<01:03,  2.45s/query]"
     ]
    },
    {
     "output_type": "stream",
     "name": "stdout",
     "text": [
      "WARNING! Your documents have duplicate entries!  This will slow down calculation and may yield subpar results\n"
     ]
    },
    {
     "output_type": "stream",
     "name": "stderr",
     "text": [
      "\n",
      "\n",
      "  0%|          | 0/7 [00:00<?, ?it/s]\u001B[A\u001B[A\n",
      "\n",
      " 14%|█▍        | 1/7 [00:00<00:01,  4.64it/s]\u001B[A\u001B[A\n",
      "\n",
      " 29%|██▊       | 2/7 [00:00<00:01,  4.52it/s]\u001B[A\u001B[A\n",
      "\n",
      " 43%|████▎     | 3/7 [00:00<00:00,  4.43it/s]\u001B[A\u001B[A\n",
      "\n",
      " 57%|█████▋    | 4/7 [00:00<00:00,  4.20it/s]\u001B[A\u001B[A\n",
      "\n",
      " 71%|███████▏  | 5/7 [00:01<00:00,  4.18it/s]\u001B[A\u001B[A\n",
      "\n",
      "100%|██████████| 7/7 [00:01<00:00,  4.76it/s]\n",
      "Processing 2024-11 queries:  75%|███████▍  | 74/99 [02:38<01:03,  2.55s/query]"
     ]
    },
    {
     "output_type": "stream",
     "name": "stdout",
     "text": [
      "WARNING! Your documents have duplicate entries!  This will slow down calculation and may yield subpar results\n"
     ]
    },
    {
     "output_type": "stream",
     "name": "stderr",
     "text": [
      "\n",
      "\n",
      "  0%|          | 0/7 [00:00<?, ?it/s]\u001B[A\u001B[A\n",
      "\n",
      " 14%|█▍        | 1/7 [00:00<00:01,  4.57it/s]\u001B[A\u001B[A\n",
      "\n",
      " 29%|██▊       | 2/7 [00:00<00:01,  4.47it/s]\u001B[A\u001B[A\n",
      "\n",
      " 43%|████▎     | 3/7 [00:00<00:00,  4.39it/s]\u001B[A\u001B[A\n",
      "\n",
      " 57%|█████▋    | 4/7 [00:00<00:00,  4.13it/s]\u001B[A\u001B[A\n",
      "\n",
      " 71%|███████▏  | 5/7 [00:01<00:00,  4.22it/s]\u001B[A\u001B[A\n",
      "\n",
      "100%|██████████| 7/7 [00:01<00:00,  4.78it/s]\n",
      "Processing 2024-11 queries:  76%|███████▌  | 75/99 [02:41<01:00,  2.50s/query]"
     ]
    },
    {
     "output_type": "stream",
     "name": "stdout",
     "text": [
      "WARNING! Your documents have duplicate entries!  This will slow down calculation and may yield subpar results\n"
     ]
    },
    {
     "output_type": "stream",
     "name": "stderr",
     "text": [
      "\n",
      "\n",
      "  0%|          | 0/7 [00:00<?, ?it/s]\u001B[A\u001B[A\n",
      "\n",
      " 14%|█▍        | 1/7 [00:00<00:01,  4.54it/s]\u001B[A\u001B[A\n",
      "\n",
      " 29%|██▊       | 2/7 [00:00<00:01,  4.47it/s]\u001B[A\u001B[A\n",
      "\n",
      " 43%|████▎     | 3/7 [00:00<00:00,  4.42it/s]\u001B[A\u001B[A\n",
      "\n",
      " 57%|█████▋    | 4/7 [00:00<00:00,  4.14it/s]\u001B[A\u001B[A\n",
      "\n",
      " 71%|███████▏  | 5/7 [00:01<00:00,  4.19it/s]\u001B[A\u001B[A\n",
      "\n",
      "100%|██████████| 7/7 [00:01<00:00,  4.79it/s]\n",
      "Processing 2024-11 queries:  77%|███████▋  | 76/99 [02:43<00:56,  2.46s/query]"
     ]
    },
    {
     "output_type": "stream",
     "name": "stdout",
     "text": [
      "WARNING! Your documents have duplicate entries!  This will slow down calculation and may yield subpar results\n"
     ]
    },
    {
     "output_type": "stream",
     "name": "stderr",
     "text": [
      "\n",
      "\n",
      "  0%|          | 0/7 [00:00<?, ?it/s]\u001B[A\u001B[A\n",
      "\n",
      " 14%|█▍        | 1/7 [00:00<00:01,  4.73it/s]\u001B[A\u001B[A\n",
      "\n",
      " 29%|██▊       | 2/7 [00:00<00:01,  4.50it/s]\u001B[A\u001B[A\n",
      "\n",
      " 43%|████▎     | 3/7 [00:00<00:00,  4.44it/s]\u001B[A\u001B[A\n",
      "\n",
      " 57%|█████▋    | 4/7 [00:00<00:00,  4.16it/s]\u001B[A\u001B[A\n",
      "\n",
      " 71%|███████▏  | 5/7 [00:01<00:00,  4.24it/s]\u001B[A\u001B[A\n",
      "\n",
      "100%|██████████| 7/7 [00:01<00:00,  4.84it/s]\n",
      "Processing 2024-11 queries:  78%|███████▊  | 77/99 [02:46<00:56,  2.56s/query]"
     ]
    },
    {
     "output_type": "stream",
     "name": "stdout",
     "text": [
      "WARNING! Your documents have duplicate entries!  This will slow down calculation and may yield subpar results\n"
     ]
    },
    {
     "output_type": "stream",
     "name": "stderr",
     "text": [
      "\n",
      "\n",
      "  0%|          | 0/7 [00:00<?, ?it/s]\u001B[A\u001B[A\n",
      "\n",
      " 14%|█▍        | 1/7 [00:00<00:01,  4.55it/s]\u001B[A\u001B[A\n",
      "\n",
      " 29%|██▊       | 2/7 [00:00<00:01,  4.48it/s]\u001B[A\u001B[A\n",
      "\n",
      " 43%|████▎     | 3/7 [00:00<00:00,  4.41it/s]\u001B[A\u001B[A\n",
      "\n",
      " 57%|█████▋    | 4/7 [00:00<00:00,  4.16it/s]\u001B[A\u001B[A\n",
      "\n",
      " 71%|███████▏  | 5/7 [00:01<00:00,  4.21it/s]\u001B[A\u001B[A\n",
      "\n",
      "100%|██████████| 7/7 [00:01<00:00,  4.81it/s]\n",
      "Processing 2024-11 queries:  79%|███████▉  | 78/99 [02:48<00:52,  2.51s/query]"
     ]
    },
    {
     "output_type": "stream",
     "name": "stdout",
     "text": [
      "WARNING! Your documents have duplicate entries!  This will slow down calculation and may yield subpar results\n"
     ]
    },
    {
     "output_type": "stream",
     "name": "stderr",
     "text": [
      "\n",
      "\n",
      "  0%|          | 0/7 [00:00<?, ?it/s]\u001B[A\u001B[A\n",
      "\n",
      " 14%|█▍        | 1/7 [00:00<00:01,  4.63it/s]\u001B[A\u001B[A\n",
      "\n",
      " 29%|██▊       | 2/7 [00:00<00:01,  4.54it/s]\u001B[A\u001B[A\n",
      "\n",
      " 43%|████▎     | 3/7 [00:00<00:00,  4.50it/s]\u001B[A\u001B[A\n",
      "\n",
      " 57%|█████▋    | 4/7 [00:00<00:00,  4.35it/s]\u001B[A\u001B[A\n",
      "\n",
      " 71%|███████▏  | 5/7 [00:01<00:00,  4.32it/s]\u001B[A\u001B[A\n",
      "\n",
      "100%|██████████| 7/7 [00:01<00:00,  4.92it/s]\n",
      "Processing 2024-11 queries:  80%|███████▉  | 79/99 [02:51<00:48,  2.45s/query]"
     ]
    },
    {
     "output_type": "stream",
     "name": "stdout",
     "text": [
      "WARNING! Your documents have duplicate entries!  This will slow down calculation and may yield subpar results\n"
     ]
    },
    {
     "output_type": "stream",
     "name": "stderr",
     "text": [
      "\n",
      "\n",
      "  0%|          | 0/7 [00:00<?, ?it/s]\u001B[A\u001B[A\n",
      "\n",
      " 14%|█▍        | 1/7 [00:00<00:01,  3.80it/s]\u001B[A\u001B[A\n",
      "\n",
      " 29%|██▊       | 2/7 [00:00<00:01,  4.16it/s]\u001B[A\u001B[A\n",
      "\n",
      " 43%|████▎     | 3/7 [00:00<00:00,  4.35it/s]\u001B[A\u001B[A\n",
      "\n",
      " 57%|█████▋    | 4/7 [00:00<00:00,  4.47it/s]\u001B[A\u001B[A\n",
      "\n",
      " 71%|███████▏  | 5/7 [00:01<00:00,  4.52it/s]\u001B[A\u001B[A\n",
      "\n",
      "100%|██████████| 7/7 [00:01<00:00,  4.92it/s]\n",
      "Processing 2024-11 queries:  81%|████████  | 80/99 [03:02<01:38,  5.18s/query]"
     ]
    },
    {
     "output_type": "stream",
     "name": "stdout",
     "text": [
      "INFO: Processed 80/99 queries for 2024-11. Avg time/query: 2273.12 ms.\n",
      "WARNING! Your documents have duplicate entries!  This will slow down calculation and may yield subpar results\n"
     ]
    },
    {
     "output_type": "stream",
     "name": "stderr",
     "text": [
      "\n",
      "\n",
      "  0%|          | 0/7 [00:00<?, ?it/s]\u001B[A\u001B[A\n",
      "\n",
      " 14%|█▍        | 1/7 [00:00<00:01,  4.78it/s]\u001B[A\u001B[A\n",
      "\n",
      " 29%|██▊       | 2/7 [00:00<00:01,  4.71it/s]\u001B[A\u001B[A\n",
      "\n",
      " 43%|████▎     | 3/7 [00:00<00:00,  4.68it/s]\u001B[A\u001B[A\n",
      "\n",
      " 57%|█████▋    | 4/7 [00:00<00:00,  4.63it/s]\u001B[A\u001B[A\n",
      "\n",
      " 71%|███████▏  | 5/7 [00:01<00:00,  4.43it/s]\u001B[A\u001B[A\n",
      "\n",
      "100%|██████████| 7/7 [00:01<00:00,  5.07it/s]\n",
      "Processing 2024-11 queries:  82%|████████▏ | 81/99 [03:05<01:20,  4.46s/query]"
     ]
    },
    {
     "output_type": "stream",
     "name": "stdout",
     "text": [
      "WARNING! Your documents have duplicate entries!  This will slow down calculation and may yield subpar results\n"
     ]
    },
    {
     "output_type": "stream",
     "name": "stderr",
     "text": [
      "\n",
      "\n",
      "  0%|          | 0/7 [00:00<?, ?it/s]\u001B[A\u001B[A\n",
      "\n",
      " 14%|█▍        | 1/7 [00:00<00:01,  4.84it/s]\u001B[A\u001B[A\n",
      "\n",
      " 29%|██▊       | 2/7 [00:00<00:01,  4.73it/s]\u001B[A\u001B[A\n",
      "\n",
      " 43%|████▎     | 3/7 [00:00<00:00,  4.67it/s]\u001B[A\u001B[A\n",
      "\n",
      " 57%|█████▋    | 4/7 [00:00<00:00,  4.50it/s]\u001B[A\u001B[A\n",
      "\n",
      " 71%|███████▏  | 5/7 [00:01<00:00,  4.45it/s]\u001B[A\u001B[A\n",
      "\n",
      "100%|██████████| 7/7 [00:01<00:00,  5.08it/s]\n",
      "Processing 2024-11 queries:  83%|████████▎ | 82/99 [03:07<01:04,  3.81s/query]"
     ]
    },
    {
     "output_type": "stream",
     "name": "stdout",
     "text": [
      "WARNING! Your documents have duplicate entries!  This will slow down calculation and may yield subpar results\n"
     ]
    },
    {
     "output_type": "stream",
     "name": "stderr",
     "text": [
      "\n",
      "\n",
      "  0%|          | 0/7 [00:00<?, ?it/s]\u001B[A\u001B[A\n",
      "\n",
      " 14%|█▍        | 1/7 [00:00<00:01,  4.71it/s]\u001B[A\u001B[A\n",
      "\n",
      " 29%|██▊       | 2/7 [00:00<00:01,  4.68it/s]\u001B[A\u001B[A\n",
      "\n",
      " 43%|████▎     | 3/7 [00:00<00:00,  4.64it/s]\u001B[A\u001B[A\n",
      "\n",
      " 57%|█████▋    | 4/7 [00:00<00:00,  4.47it/s]\u001B[A\u001B[A\n",
      "\n",
      " 71%|███████▏  | 5/7 [00:01<00:00,  4.44it/s]\u001B[A\u001B[A\n",
      "\n",
      "100%|██████████| 7/7 [00:01<00:00,  5.05it/s]\n",
      "Processing 2024-11 queries:  84%|████████▍ | 83/99 [03:10<00:57,  3.60s/query]\n",
      "\n",
      "  0%|          | 0/7 [00:00<?, ?it/s]\u001B[A\u001B[A\n",
      "\n",
      " 14%|█▍        | 1/7 [00:00<00:01,  4.80it/s]\u001B[A\u001B[A\n",
      "\n",
      " 29%|██▊       | 2/7 [00:00<00:01,  4.65it/s]\u001B[A\u001B[A\n",
      "\n",
      " 43%|████▎     | 3/7 [00:00<00:00,  4.62it/s]\u001B[A\u001B[A\n",
      "\n",
      " 57%|█████▋    | 4/7 [00:00<00:00,  4.51it/s]\u001B[A\u001B[A\n",
      "\n",
      " 71%|███████▏  | 5/7 [00:01<00:00,  4.37it/s]\u001B[A\u001B[A\n",
      "\n",
      "100%|██████████| 7/7 [00:01<00:00,  5.00it/s]\n",
      "Processing 2024-11 queries:  85%|████████▍ | 84/99 [03:13<00:50,  3.35s/query]\n",
      "\n",
      "100%|██████████| 1/1 [00:00<00:00, 23.87it/s]\n",
      "Processing 2024-11 queries:  86%|████████▌ | 85/99 [03:14<00:36,  2.60s/query]"
     ]
    },
    {
     "output_type": "stream",
     "name": "stdout",
     "text": [
      "WARNING! Your documents have duplicate entries!  This will slow down calculation and may yield subpar results\n"
     ]
    },
    {
     "output_type": "stream",
     "name": "stderr",
     "text": [
      "\n",
      "\n",
      "  0%|          | 0/7 [00:00<?, ?it/s]\u001B[A\u001B[A\n",
      "\n",
      " 14%|█▍        | 1/7 [00:00<00:01,  3.59it/s]\u001B[A\u001B[A\n",
      "\n",
      " 29%|██▊       | 2/7 [00:00<00:01,  4.09it/s]\u001B[A\u001B[A\n",
      "\n",
      " 43%|████▎     | 3/7 [00:00<00:00,  4.28it/s]\u001B[A\u001B[A\n",
      "\n",
      " 57%|█████▋    | 4/7 [00:00<00:00,  4.36it/s]\u001B[A\u001B[A\n",
      "\n",
      " 71%|███████▏  | 5/7 [00:01<00:00,  4.25it/s]\u001B[A\u001B[A\n",
      "\n",
      "100%|██████████| 7/7 [00:01<00:00,  4.73it/s]\n",
      "Processing 2024-11 queries:  87%|████████▋ | 86/99 [03:17<00:34,  2.67s/query]"
     ]
    },
    {
     "output_type": "stream",
     "name": "stdout",
     "text": [
      "WARNING! Your documents have duplicate entries!  This will slow down calculation and may yield subpar results\n"
     ]
    },
    {
     "output_type": "stream",
     "name": "stderr",
     "text": [
      "\n",
      "\n",
      "  0%|          | 0/7 [00:00<?, ?it/s]\u001B[A\u001B[A\n",
      "\n",
      " 14%|█▍        | 1/7 [00:00<00:01,  4.67it/s]\u001B[A\u001B[A\n",
      "\n",
      " 29%|██▊       | 2/7 [00:00<00:01,  4.61it/s]\u001B[A\u001B[A\n",
      "\n",
      " 43%|████▎     | 3/7 [00:00<00:00,  4.59it/s]\u001B[A\u001B[A\n",
      "\n",
      " 57%|█████▋    | 4/7 [00:00<00:00,  4.44it/s]\u001B[A\u001B[A\n",
      "\n",
      " 71%|███████▏  | 5/7 [00:01<00:00,  4.41it/s]\u001B[A\u001B[A\n",
      "\n",
      "100%|██████████| 7/7 [00:01<00:00,  5.00it/s]\n",
      "Processing 2024-11 queries:  88%|████████▊ | 87/99 [03:19<00:30,  2.55s/query]"
     ]
    },
    {
     "output_type": "stream",
     "name": "stdout",
     "text": [
      "WARNING! Your documents have duplicate entries!  This will slow down calculation and may yield subpar results\n"
     ]
    },
    {
     "output_type": "stream",
     "name": "stderr",
     "text": [
      "\n",
      "\n",
      "  0%|          | 0/7 [00:00<?, ?it/s]\u001B[A\u001B[A\n",
      "\n",
      " 14%|█▍        | 1/7 [00:00<00:01,  4.78it/s]\u001B[A\u001B[A\n",
      "\n",
      " 29%|██▊       | 2/7 [00:00<00:01,  4.64it/s]\u001B[A\u001B[A\n",
      "\n",
      " 43%|████▎     | 3/7 [00:00<00:00,  4.58it/s]\u001B[A\u001B[A\n",
      "\n",
      " 57%|█████▋    | 4/7 [00:00<00:00,  4.50it/s]\u001B[A\u001B[A\n",
      "\n",
      " 71%|███████▏  | 5/7 [00:01<00:00,  4.30it/s]\u001B[A\u001B[A\n",
      "\n",
      "100%|██████████| 7/7 [00:01<00:00,  4.96it/s]\n",
      "Processing 2024-11 queries:  89%|████████▉ | 88/99 [03:22<00:28,  2.60s/query]\n",
      "\n",
      "  0%|          | 0/7 [00:00<?, ?it/s]\u001B[A\u001B[A\n",
      "\n",
      " 14%|█▍        | 1/7 [00:00<00:01,  3.75it/s]\u001B[A\u001B[A\n",
      "\n",
      " 29%|██▊       | 2/7 [00:00<00:01,  4.16it/s]\u001B[A\u001B[A\n",
      "\n",
      " 43%|████▎     | 3/7 [00:00<00:00,  4.29it/s]\u001B[A\u001B[A\n",
      "\n",
      " 57%|█████▋    | 4/7 [00:00<00:00,  4.35it/s]\u001B[A\u001B[A\n",
      "\n",
      " 71%|███████▏  | 5/7 [00:01<00:00,  4.23it/s]\u001B[A\u001B[A\n",
      "\n",
      "100%|██████████| 7/7 [00:01<00:00,  4.70it/s]\n",
      "Processing 2024-11 queries:  90%|████████▉ | 89/99 [03:25<00:28,  2.81s/query]"
     ]
    },
    {
     "output_type": "stream",
     "name": "stdout",
     "text": [
      "WARNING! Your documents have duplicate entries!  This will slow down calculation and may yield subpar results\n"
     ]
    },
    {
     "output_type": "stream",
     "name": "stderr",
     "text": [
      "\n",
      "\n",
      "  0%|          | 0/7 [00:00<?, ?it/s]\u001B[A\u001B[A\n",
      "\n",
      " 14%|█▍        | 1/7 [00:00<00:01,  4.64it/s]\u001B[A\u001B[A\n",
      "\n",
      " 29%|██▊       | 2/7 [00:00<00:01,  4.52it/s]\u001B[A\u001B[A\n",
      "\n",
      " 43%|████▎     | 3/7 [00:00<00:00,  4.48it/s]\u001B[A\u001B[A\n",
      "\n",
      " 57%|█████▋    | 4/7 [00:00<00:00,  4.39it/s]\u001B[A\u001B[A\n",
      "\n",
      " 71%|███████▏  | 5/7 [00:01<00:00,  4.23it/s]\u001B[A\u001B[A\n",
      "\n",
      "100%|██████████| 7/7 [00:01<00:00,  4.89it/s]\n",
      "Processing 2024-11 queries:  91%|█████████ | 90/99 [03:27<00:24,  2.68s/query]"
     ]
    },
    {
     "output_type": "stream",
     "name": "stdout",
     "text": [
      "WARNING! Your documents have duplicate entries!  This will slow down calculation and may yield subpar results\n"
     ]
    },
    {
     "output_type": "stream",
     "name": "stderr",
     "text": [
      "\n",
      "\n",
      "  0%|          | 0/7 [00:00<?, ?it/s]\u001B[A\u001B[A\n",
      "\n",
      " 14%|█▍        | 1/7 [00:00<00:01,  4.52it/s]\u001B[A\u001B[A\n",
      "\n",
      " 29%|██▊       | 2/7 [00:00<00:01,  4.46it/s]\u001B[A\u001B[A\n",
      "\n",
      " 43%|████▎     | 3/7 [00:00<00:00,  4.45it/s]\u001B[A\u001B[A\n",
      "\n",
      " 57%|█████▋    | 4/7 [00:00<00:00,  4.12it/s]\u001B[A\u001B[A\n",
      "\n",
      " 71%|███████▏  | 5/7 [00:01<00:00,  4.20it/s]\u001B[A\u001B[A\n",
      "\n",
      "100%|██████████| 7/7 [00:01<00:00,  4.79it/s]\n",
      "Processing 2024-11 queries:  92%|█████████▏| 91/99 [03:30<00:20,  2.58s/query]\n",
      "\n",
      "  0%|          | 0/4 [00:00<?, ?it/s]\u001B[A\u001B[A\n",
      "\n",
      " 25%|██▌       | 1/4 [00:00<00:00,  4.63it/s]\u001B[A\u001B[A\n",
      "\n",
      " 50%|█████     | 2/4 [00:00<00:00,  4.50it/s]\u001B[A\u001B[A\n",
      "\n",
      "100%|██████████| 4/4 [00:00<00:00,  5.56it/s]\n",
      "Processing 2024-11 queries:  93%|█████████▎| 92/99 [03:31<00:15,  2.27s/query]\n",
      "\n",
      "  0%|          | 0/3 [00:00<?, ?it/s]\u001B[A\u001B[A\n",
      "\n",
      " 33%|███▎      | 1/3 [00:00<00:00,  4.65it/s]\u001B[A\u001B[A\n",
      "\n",
      " 67%|██████▋   | 2/3 [00:00<00:00,  4.48it/s]\u001B[A\u001B[A\n",
      "\n",
      "100%|██████████| 3/3 [00:00<00:00,  5.21it/s]\n",
      "Processing 2024-11 queries:  94%|█████████▍| 93/99 [03:33<00:12,  2.01s/query]\n",
      "\n",
      "  0%|          | 0/7 [00:00<?, ?it/s]\u001B[A\u001B[A\n",
      "\n",
      " 14%|█▍        | 1/7 [00:00<00:01,  4.68it/s]\u001B[A\u001B[A\n",
      "\n",
      " 29%|██▊       | 2/7 [00:00<00:01,  4.53it/s]\u001B[A\u001B[A\n",
      "\n",
      " 43%|████▎     | 3/7 [00:00<00:00,  4.46it/s]\u001B[A\u001B[A\n",
      "\n",
      " 57%|█████▋    | 4/7 [00:00<00:00,  4.27it/s]\u001B[A\u001B[A\n",
      "\n",
      " 71%|███████▏  | 5/7 [00:01<00:00,  4.26it/s]\u001B[A\u001B[A\n",
      "\n",
      "100%|██████████| 7/7 [00:01<00:00,  4.86it/s]\n",
      "Processing 2024-11 queries:  95%|█████████▍| 94/99 [03:36<00:11,  2.24s/query]\n",
      "\n",
      "  0%|          | 0/1 [00:00<?, ?it/s]\u001B[A\u001B[A\n",
      "\n",
      "100%|██████████| 1/1 [00:00<00:00,  6.24it/s]\n",
      "Processing 2024-11 queries:  96%|█████████▌| 95/99 [03:36<00:07,  1.85s/query]"
     ]
    },
    {
     "output_type": "stream",
     "name": "stdout",
     "text": [
      "WARNING! Your documents have duplicate entries!  This will slow down calculation and may yield subpar results\n"
     ]
    },
    {
     "output_type": "stream",
     "name": "stderr",
     "text": [
      "\n",
      "\n",
      "  0%|          | 0/7 [00:00<?, ?it/s]\u001B[A\u001B[A\n",
      "\n",
      " 14%|█▍        | 1/7 [00:00<00:01,  4.55it/s]\u001B[A\u001B[A\n",
      "\n",
      " 29%|██▊       | 2/7 [00:00<00:01,  4.49it/s]\u001B[A\u001B[A\n",
      "\n",
      " 43%|████▎     | 3/7 [00:00<00:00,  4.43it/s]\u001B[A\u001B[A\n",
      "\n",
      " 57%|█████▋    | 4/7 [00:00<00:00,  4.14it/s]\u001B[A\u001B[A\n",
      "\n",
      " 71%|███████▏  | 5/7 [00:01<00:00,  4.21it/s]\u001B[A\u001B[A\n",
      "\n",
      "100%|██████████| 7/7 [00:01<00:00,  4.81it/s]\n",
      "Processing 2024-11 queries:  97%|█████████▋| 96/99 [03:39<00:05,  1.99s/query]"
     ]
    },
    {
     "output_type": "stream",
     "name": "stdout",
     "text": [
      "WARNING! Your documents have duplicate entries!  This will slow down calculation and may yield subpar results\n"
     ]
    },
    {
     "output_type": "stream",
     "name": "stderr",
     "text": [
      "\n",
      "\n",
      "  0%|          | 0/7 [00:00<?, ?it/s]\u001B[A\u001B[A\n",
      "\n",
      " 14%|█▍        | 1/7 [00:00<00:01,  4.59it/s]\u001B[A\u001B[A\n",
      "\n",
      " 29%|██▊       | 2/7 [00:00<00:01,  4.50it/s]\u001B[A\u001B[A\n",
      "\n",
      " 43%|████▎     | 3/7 [00:00<00:00,  4.47it/s]\u001B[A\u001B[A\n",
      "\n",
      " 57%|█████▋    | 4/7 [00:00<00:00,  4.37it/s]\u001B[A\u001B[A\n",
      "\n",
      " 71%|███████▏  | 5/7 [00:01<00:00,  4.23it/s]\u001B[A\u001B[A\n",
      "\n",
      "100%|██████████| 7/7 [00:01<00:00,  4.83it/s]\n",
      "Processing 2024-11 queries:  98%|█████████▊| 97/99 [03:42<00:04,  2.22s/query]"
     ]
    },
    {
     "output_type": "stream",
     "name": "stdout",
     "text": [
      "WARNING! Your documents have duplicate entries!  This will slow down calculation and may yield subpar results\n"
     ]
    },
    {
     "output_type": "stream",
     "name": "stderr",
     "text": [
      "\n",
      "\n",
      "  0%|          | 0/5 [00:00<?, ?it/s]\u001B[A\u001B[A\n",
      "\n",
      " 20%|██        | 1/5 [00:00<00:00,  4.57it/s]\u001B[A\u001B[A\n",
      "\n",
      " 40%|████      | 2/5 [00:00<00:00,  4.47it/s]\u001B[A\u001B[A\n",
      "\n",
      " 60%|██████    | 3/5 [00:00<00:00,  4.42it/s]\u001B[A\u001B[A\n",
      "\n",
      " 80%|████████  | 4/5 [00:00<00:00,  4.16it/s]\u001B[A\u001B[A\n",
      "\n",
      "100%|██████████| 5/5 [00:01<00:00,  4.59it/s]\n",
      "Processing 2024-11 queries:  99%|█████████▉| 98/99 [03:44<00:02,  2.15s/query]"
     ]
    },
    {
     "output_type": "stream",
     "name": "stdout",
     "text": [
      "WARNING! Your documents have duplicate entries!  This will slow down calculation and may yield subpar results\n"
     ]
    },
    {
     "output_type": "stream",
     "name": "stderr",
     "text": [
      "\n",
      "\n",
      "  0%|          | 0/7 [00:00<?, ?it/s]\u001B[A\u001B[A\n",
      "\n",
      " 14%|█▍        | 1/7 [00:00<00:01,  4.55it/s]\u001B[A\u001B[A\n",
      "\n",
      " 29%|██▊       | 2/7 [00:00<00:01,  4.51it/s]\u001B[A\u001B[A\n",
      "\n",
      " 43%|████▎     | 3/7 [00:00<00:00,  4.47it/s]\u001B[A\u001B[A\n",
      "\n",
      " 57%|█████▋    | 4/7 [00:00<00:00,  4.30it/s]\u001B[A\u001B[A\n",
      "\n",
      " 71%|███████▏  | 5/7 [00:01<00:00,  4.28it/s]\u001B[A\u001B[A\n",
      "\n",
      "100%|██████████| 7/7 [00:01<00:00,  4.88it/s]\n",
      "Processing 2024-11 queries: 100%|██████████| 99/99 [03:46<00:00,  2.29s/query]\n"
     ]
    },
    {
     "output_type": "stream",
     "name": "stdout",
     "text": [
      "INFO: Finished processing for 2024-11. Processed 99 queries. Avg time/query: 2278.12 ms.\n",
      "INFO: Generating TREC run file at /content/drive/MyDrive/AIR_Project/colbert_pipeline_output/YOUR-SUBMISSION-BM25-ColBERT/2024-11/run.txt with tag 'BM25_ColBERTv2_ReRanker_v1'...\n",
      "INFO: TREC run file saved to /content/drive/MyDrive/AIR_Project/colbert_pipeline_output/YOUR-SUBMISSION-BM25-ColBERT/2024-11/run.txt, 8734 lines written.\n",
      "INFO: Compressing run.txt to run.txt.gz in /content/drive/MyDrive/AIR_Project/colbert_pipeline_output/YOUR-SUBMISSION-BM25-ColBERT/2024-11...\n",
      "INFO: Successfully compressed and removed original run file for 2024-11.\n",
      "\n",
      "INFO: Processing query set: 2025-01\n",
      "INFO: Attempting to load queries from /content/drive/MyDrive/AIR_Project/longeval_sci_testing_2025_abstract/queries_2025-01_test.txt...\n",
      "INFO: Successfully loaded 492 queries from queries_2025-01_test.txt.\n"
     ]
    },
    {
     "output_type": "stream",
     "name": "stderr",
     "text": [
      "\rProcessing 2025-01 queries:   0%|          | 0/492 [00:00<?, ?query/s]"
     ]
    },
    {
     "output_type": "stream",
     "name": "stdout",
     "text": [
      "WARNING! Your documents have duplicate entries!  This will slow down calculation and may yield subpar results\n"
     ]
    },
    {
     "output_type": "stream",
     "name": "stderr",
     "text": [
      "\n",
      "\n",
      "  0%|          | 0/4 [00:00<?, ?it/s]\u001B[A\u001B[A\n",
      "\n",
      " 25%|██▌       | 1/4 [00:00<00:00,  3.60it/s]\u001B[A\u001B[A\n",
      "\n",
      " 50%|█████     | 2/4 [00:00<00:00,  4.05it/s]\u001B[A\u001B[A\n",
      "\n",
      "100%|██████████| 4/4 [00:00<00:00,  5.23it/s]\n",
      "Processing 2025-01 queries:   0%|          | 1/492 [00:01<13:12,  1.61s/query]\n",
      "\n",
      "  0%|          | 0/7 [00:00<?, ?it/s]\u001B[A\u001B[A\n",
      "\n",
      " 14%|█▍        | 1/7 [00:00<00:01,  4.64it/s]\u001B[A\u001B[A\n",
      "\n",
      " 29%|██▊       | 2/7 [00:00<00:01,  4.56it/s]\u001B[A\u001B[A\n",
      "\n",
      " 43%|████▎     | 3/7 [00:00<00:00,  4.55it/s]\u001B[A\u001B[A\n",
      "\n",
      " 57%|█████▋    | 4/7 [00:00<00:00,  4.33it/s]\u001B[A\u001B[A\n",
      "\n",
      " 71%|███████▏  | 5/7 [00:01<00:00,  4.35it/s]\u001B[A\u001B[A\n",
      "\n",
      "100%|██████████| 7/7 [00:01<00:00,  4.93it/s]\n",
      "Processing 2025-01 queries:   0%|          | 2/492 [00:04<18:35,  2.28s/query]"
     ]
    },
    {
     "output_type": "stream",
     "name": "stdout",
     "text": [
      "WARNING! Your documents have duplicate entries!  This will slow down calculation and may yield subpar results\n"
     ]
    },
    {
     "output_type": "stream",
     "name": "stderr",
     "text": [
      "\n",
      "\n",
      "  0%|          | 0/7 [00:00<?, ?it/s]\u001B[A\u001B[A\n",
      "\n",
      " 14%|█▍        | 1/7 [00:00<00:01,  3.75it/s]\u001B[A\u001B[A\n",
      "\n",
      " 29%|██▊       | 2/7 [00:00<00:01,  4.15it/s]\u001B[A\u001B[A\n",
      "\n",
      " 43%|████▎     | 3/7 [00:00<00:00,  4.30it/s]\u001B[A\u001B[A\n",
      "\n",
      " 57%|█████▋    | 4/7 [00:00<00:00,  4.38it/s]\u001B[A\u001B[A\n",
      "\n",
      " 71%|███████▏  | 5/7 [00:01<00:00,  4.23it/s]\u001B[A\u001B[A\n",
      "\n",
      "100%|██████████| 7/7 [00:01<00:00,  4.75it/s]\n",
      "Processing 2025-01 queries:   1%|          | 3/492 [00:07<22:11,  2.72s/query]\n",
      "\n",
      "  0%|          | 0/7 [00:00<?, ?it/s]\u001B[A\u001B[A\n",
      "\n",
      " 14%|█▍        | 1/7 [00:00<00:01,  4.56it/s]\u001B[A\u001B[A\n",
      "\n",
      " 29%|██▊       | 2/7 [00:00<00:01,  4.51it/s]\u001B[A\u001B[A\n",
      "\n",
      " 43%|████▎     | 3/7 [00:00<00:00,  4.51it/s]\u001B[A\u001B[A\n",
      "\n",
      " 57%|█████▋    | 4/7 [00:00<00:00,  4.33it/s]\u001B[A\u001B[A\n",
      "\n",
      " 71%|███████▏  | 5/7 [00:01<00:00,  4.34it/s]\u001B[A\u001B[A\n",
      "\n",
      "100%|██████████| 7/7 [00:01<00:00,  4.92it/s]\n",
      "Processing 2025-01 queries:   1%|          | 4/492 [00:09<20:57,  2.58s/query]\n",
      "\n",
      "  0%|          | 0/7 [00:00<?, ?it/s]\u001B[A\u001B[A\n",
      "\n",
      " 14%|█▍        | 1/7 [00:00<00:01,  4.60it/s]\u001B[A\u001B[A\n",
      "\n",
      " 29%|██▊       | 2/7 [00:00<00:01,  4.54it/s]\u001B[A\u001B[A\n",
      "\n",
      " 43%|████▎     | 3/7 [00:00<00:00,  4.51it/s]\u001B[A\u001B[A\n",
      "\n",
      " 57%|█████▋    | 4/7 [00:00<00:00,  4.31it/s]\u001B[A\u001B[A\n",
      "\n",
      " 71%|███████▏  | 5/7 [00:01<00:00,  4.32it/s]\u001B[A\u001B[A\n",
      "\n",
      "100%|██████████| 7/7 [00:01<00:00,  4.94it/s]\n",
      "Processing 2025-01 queries:   1%|          | 5/492 [00:12<21:26,  2.64s/query]"
     ]
    },
    {
     "output_type": "stream",
     "name": "stdout",
     "text": [
      "WARNING! Your documents have duplicate entries!  This will slow down calculation and may yield subpar results\n"
     ]
    },
    {
     "output_type": "stream",
     "name": "stderr",
     "text": [
      "\n",
      "\n",
      "  0%|          | 0/7 [00:00<?, ?it/s]\u001B[A\u001B[A\n",
      "\n",
      " 14%|█▍        | 1/7 [00:00<00:01,  4.49it/s]\u001B[A\u001B[A\n",
      "\n",
      " 29%|██▊       | 2/7 [00:00<00:01,  4.53it/s]\u001B[A\u001B[A\n",
      "\n",
      " 43%|████▎     | 3/7 [00:00<00:00,  4.55it/s]\u001B[A\u001B[A\n",
      "\n",
      " 57%|█████▋    | 4/7 [00:00<00:00,  4.43it/s]\u001B[A\u001B[A\n",
      "\n",
      " 71%|███████▏  | 5/7 [00:01<00:00,  4.39it/s]\u001B[A\u001B[A\n",
      "\n",
      "100%|██████████| 7/7 [00:01<00:00,  4.97it/s]\n",
      "Processing 2025-01 queries:   1%|          | 6/492 [00:15<23:00,  2.84s/query]\n",
      "\n",
      "100%|██████████| 1/1 [00:00<00:00, 17.49it/s]\n",
      "Processing 2025-01 queries:   1%|▏         | 7/492 [00:16<17:46,  2.20s/query]\n",
      "\n",
      "  0%|          | 0/7 [00:00<?, ?it/s]\u001B[A\u001B[A\n",
      "\n",
      " 14%|█▍        | 1/7 [00:00<00:01,  4.79it/s]\u001B[A\u001B[A\n",
      "\n",
      " 29%|██▊       | 2/7 [00:00<00:01,  4.64it/s]\u001B[A\u001B[A\n",
      "\n",
      " 43%|████▎     | 3/7 [00:00<00:00,  4.58it/s]\u001B[A\u001B[A\n",
      "\n",
      " 57%|█████▋    | 4/7 [00:00<00:00,  4.40it/s]\u001B[A\u001B[A\n",
      "\n",
      " 71%|███████▏  | 5/7 [00:01<00:00,  4.38it/s]\u001B[A\u001B[A\n",
      "\n",
      "100%|██████████| 7/7 [00:01<00:00,  4.99it/s]\n",
      "Processing 2025-01 queries:   2%|▏         | 8/492 [00:19<17:53,  2.22s/query]\n",
      "\n",
      "  0%|          | 0/5 [00:00<?, ?it/s]\u001B[A\u001B[A\n",
      "\n",
      " 20%|██        | 1/5 [00:00<00:00,  4.62it/s]\u001B[A\u001B[A\n",
      "\n",
      " 40%|████      | 2/5 [00:00<00:00,  4.55it/s]\u001B[A\u001B[A\n",
      "\n",
      " 60%|██████    | 3/5 [00:00<00:00,  4.64it/s]\u001B[A\u001B[A\n",
      "\n",
      " 80%|████████  | 4/5 [00:00<00:00,  4.48it/s]\u001B[A\u001B[A\n",
      "\n",
      "100%|██████████| 5/5 [00:01<00:00,  4.81it/s]\n",
      "Processing 2025-01 queries:   2%|▏         | 9/492 [00:21<18:14,  2.27s/query]"
     ]
    },
    {
     "output_type": "stream",
     "name": "stdout",
     "text": [
      "WARNING! Your documents have duplicate entries!  This will slow down calculation and may yield subpar results\n"
     ]
    },
    {
     "output_type": "stream",
     "name": "stderr",
     "text": [
      "\n",
      "\n",
      "  0%|          | 0/7 [00:00<?, ?it/s]\u001B[A\u001B[A\n",
      "\n",
      " 14%|█▍        | 1/7 [00:00<00:01,  4.78it/s]\u001B[A\u001B[A\n",
      "\n",
      " 29%|██▊       | 2/7 [00:00<00:01,  4.64it/s]\u001B[A\u001B[A\n",
      "\n",
      " 43%|████▎     | 3/7 [00:00<00:00,  4.59it/s]\u001B[A\u001B[A\n",
      "\n",
      " 57%|█████▋    | 4/7 [00:00<00:00,  4.46it/s]\u001B[A\u001B[A\n",
      "\n",
      " 71%|███████▏  | 5/7 [00:01<00:00,  4.31it/s]\u001B[A\u001B[A\n",
      "\n",
      "100%|██████████| 7/7 [00:01<00:00,  4.98it/s]\n",
      "Processing 2025-01 queries:   2%|▏         | 10/492 [00:24<19:18,  2.40s/query]\n",
      "\n",
      "100%|██████████| 1/1 [00:00<00:00, 76.17it/s]\n",
      "Processing 2025-01 queries:   2%|▏         | 11/492 [00:24<15:14,  1.90s/query]\n",
      "\n",
      "100%|██████████| 1/1 [00:00<00:00, 16.86it/s]\n",
      "Processing 2025-01 queries:   2%|▏         | 12/492 [00:25<12:36,  1.58s/query]"
     ]
    },
    {
     "output_type": "stream",
     "name": "stdout",
     "text": [
      "WARNING! Your documents have duplicate entries!  This will slow down calculation and may yield subpar results\n"
     ]
    },
    {
     "output_type": "stream",
     "name": "stderr",
     "text": [
      "\n",
      "\n",
      "  0%|          | 0/7 [00:00<?, ?it/s]\u001B[A\u001B[A\n",
      "\n",
      " 14%|█▍        | 1/7 [00:00<00:01,  3.71it/s]\u001B[A\u001B[A\n",
      "\n",
      " 29%|██▊       | 2/7 [00:00<00:01,  4.18it/s]\u001B[A\u001B[A\n",
      "\n",
      " 43%|████▎     | 3/7 [00:00<00:00,  4.35it/s]\u001B[A\u001B[A\n",
      "\n",
      " 57%|█████▋    | 4/7 [00:00<00:00,  4.42it/s]\u001B[A\u001B[A\n",
      "\n",
      " 71%|███████▏  | 5/7 [00:01<00:00,  4.27it/s]\u001B[A\u001B[A\n",
      "\n",
      "100%|██████████| 7/7 [00:01<00:00,  4.80it/s]\n",
      "Processing 2025-01 queries:   3%|▎         | 13/492 [00:28<15:29,  1.94s/query]\n",
      "\n",
      "  0%|          | 0/2 [00:00<?, ?it/s]\u001B[A\u001B[A\n",
      "\n",
      "100%|██████████| 2/2 [00:00<00:00,  7.95it/s]\n",
      "Processing 2025-01 queries:   3%|▎         | 14/492 [00:29<13:20,  1.67s/query]"
     ]
    },
    {
     "output_type": "stream",
     "name": "stdout",
     "text": [
      "WARNING! Your documents have duplicate entries!  This will slow down calculation and may yield subpar results\n"
     ]
    },
    {
     "output_type": "stream",
     "name": "stderr",
     "text": [
      "\n",
      "\n",
      "  0%|          | 0/7 [00:00<?, ?it/s]\u001B[A\u001B[A\n",
      "\n",
      " 14%|█▍        | 1/7 [00:00<00:01,  4.76it/s]\u001B[A\u001B[A\n",
      "\n",
      " 29%|██▊       | 2/7 [00:00<00:01,  4.69it/s]\u001B[A\u001B[A\n",
      "\n",
      " 43%|████▎     | 3/7 [00:00<00:00,  4.64it/s]\u001B[A\u001B[A\n",
      "\n",
      " 57%|█████▋    | 4/7 [00:00<00:00,  4.53it/s]\u001B[A\u001B[A\n",
      "\n",
      " 71%|███████▏  | 5/7 [00:01<00:00,  4.33it/s]\u001B[A\u001B[A\n",
      "\n",
      "100%|██████████| 7/7 [00:01<00:00,  5.02it/s]\n",
      "Processing 2025-01 queries:   3%|▎         | 15/492 [00:32<15:58,  2.01s/query]"
     ]
    },
    {
     "output_type": "stream",
     "name": "stdout",
     "text": [
      "WARNING! Your documents have duplicate entries!  This will slow down calculation and may yield subpar results\n"
     ]
    },
    {
     "output_type": "stream",
     "name": "stderr",
     "text": [
      "\n",
      "\n",
      "  0%|          | 0/7 [00:00<?, ?it/s]\u001B[A\u001B[A\n",
      "\n",
      " 14%|█▍        | 1/7 [00:00<00:01,  4.78it/s]\u001B[A\u001B[A\n",
      "\n",
      " 29%|██▊       | 2/7 [00:00<00:01,  4.66it/s]\u001B[A\u001B[A\n",
      "\n",
      " 43%|████▎     | 3/7 [00:00<00:00,  4.62it/s]\u001B[A\u001B[A\n",
      "\n",
      " 57%|█████▋    | 4/7 [00:00<00:00,  4.35it/s]\u001B[A\u001B[A\n",
      "\n",
      " 71%|███████▏  | 5/7 [00:01<00:00,  4.37it/s]\u001B[A\u001B[A\n",
      "\n",
      "100%|██████████| 7/7 [00:01<00:00,  4.99it/s]\n",
      "Processing 2025-01 queries:   3%|▎         | 16/492 [00:35<17:42,  2.23s/query]\n",
      "\n",
      "  0%|          | 0/4 [00:00<?, ?it/s]\u001B[A\u001B[A\n",
      "\n",
      " 25%|██▌       | 1/4 [00:00<00:00,  4.69it/s]\u001B[A\u001B[A\n",
      "\n",
      " 50%|█████     | 2/4 [00:00<00:00,  4.56it/s]\u001B[A\u001B[A\n",
      "\n",
      "100%|██████████| 4/4 [00:00<00:00,  5.61it/s]\n",
      "Processing 2025-01 queries:   3%|▎         | 17/492 [00:36<16:04,  2.03s/query]\n",
      "\n",
      "  0%|          | 0/3 [00:00<?, ?it/s]\u001B[A\u001B[A\n",
      "\n",
      " 33%|███▎      | 1/3 [00:00<00:00,  4.59it/s]\u001B[A\u001B[A\n",
      "\n",
      " 67%|██████▋   | 2/3 [00:00<00:00,  4.57it/s]\u001B[A\u001B[A\n",
      "\n",
      "100%|██████████| 3/3 [00:00<00:00,  5.27it/s]\n",
      "Processing 2025-01 queries:   4%|▎         | 18/492 [00:38<14:30,  1.84s/query]\n",
      "\n",
      "  0%|          | 0/7 [00:00<?, ?it/s]\u001B[A\u001B[A\n",
      "\n",
      " 14%|█▍        | 1/7 [00:00<00:01,  4.75it/s]\u001B[A\u001B[A\n",
      "\n",
      " 29%|██▊       | 2/7 [00:00<00:01,  4.61it/s]\u001B[A\u001B[A\n",
      "\n",
      " 43%|████▎     | 3/7 [00:00<00:00,  4.56it/s]\u001B[A\u001B[A\n",
      "\n",
      " 57%|█████▋    | 4/7 [00:00<00:00,  4.41it/s]\u001B[A\u001B[A\n",
      "\n",
      " 71%|███████▏  | 5/7 [00:01<00:00,  4.42it/s]\u001B[A\u001B[A\n",
      "\n",
      "100%|██████████| 7/7 [00:01<00:00,  5.04it/s]\n",
      "Processing 2025-01 queries:   4%|▍         | 19/492 [00:41<17:32,  2.22s/query]"
     ]
    },
    {
     "output_type": "stream",
     "name": "stdout",
     "text": [
      "WARNING! Your documents have duplicate entries!  This will slow down calculation and may yield subpar results\n"
     ]
    },
    {
     "output_type": "stream",
     "name": "stderr",
     "text": [
      "\n",
      "\n",
      "  0%|          | 0/7 [00:00<?, ?it/s]\u001B[A\u001B[A\n",
      "\n",
      " 14%|█▍        | 1/7 [00:00<00:01,  4.59it/s]\u001B[A\u001B[A\n",
      "\n",
      " 29%|██▊       | 2/7 [00:00<00:01,  4.57it/s]\u001B[A\u001B[A\n",
      "\n",
      " 43%|████▎     | 3/7 [00:00<00:00,  4.56it/s]\u001B[A\u001B[A\n",
      "\n",
      " 57%|█████▋    | 4/7 [00:00<00:00,  4.34it/s]\u001B[A\u001B[A\n",
      "\n",
      " 71%|███████▏  | 5/7 [00:01<00:00,  4.32it/s]\u001B[A\u001B[A\n",
      "\n",
      "100%|██████████| 7/7 [00:01<00:00,  4.93it/s]\n",
      "Processing 2025-01 queries:   4%|▍         | 20/492 [00:43<17:45,  2.26s/query]"
     ]
    },
    {
     "output_type": "stream",
     "name": "stdout",
     "text": [
      "INFO: Processed 20/492 queries for 2025-01. Avg time/query: 2176.53 ms.\n"
     ]
    },
    {
     "output_type": "stream",
     "name": "stderr",
     "text": [
      "\n",
      "\n",
      "  0%|          | 0/3 [00:00<?, ?it/s]\u001B[A\u001B[A\n",
      "\n",
      " 33%|███▎      | 1/3 [00:00<00:00,  4.68it/s]\u001B[A\u001B[A\n",
      "\n",
      " 67%|██████▋   | 2/3 [00:00<00:00,  4.71it/s]\u001B[A\u001B[A\n",
      "\n",
      "100%|██████████| 3/3 [00:00<00:00,  5.04it/s]\n",
      "Processing 2025-01 queries:   4%|▍         | 21/492 [00:45<15:51,  2.02s/query]"
     ]
    },
    {
     "output_type": "stream",
     "name": "stdout",
     "text": [
      "WARNING! Your documents have duplicate entries!  This will slow down calculation and may yield subpar results\n"
     ]
    },
    {
     "output_type": "stream",
     "name": "stderr",
     "text": [
      "\n",
      "\n",
      "  0%|          | 0/7 [00:00<?, ?it/s]\u001B[A\u001B[A\n",
      "\n",
      " 14%|█▍        | 1/7 [00:00<00:01,  4.77it/s]\u001B[A\u001B[A\n",
      "\n",
      " 29%|██▊       | 2/7 [00:00<00:01,  4.61it/s]\u001B[A\u001B[A\n",
      "\n",
      " 43%|████▎     | 3/7 [00:00<00:00,  4.56it/s]\u001B[A\u001B[A\n",
      "\n",
      " 57%|█████▋    | 4/7 [00:00<00:00,  4.32it/s]\u001B[A\u001B[A\n",
      "\n",
      " 71%|███████▏  | 5/7 [00:01<00:00,  4.30it/s]\u001B[A\u001B[A\n",
      "\n",
      "100%|██████████| 7/7 [00:01<00:00,  4.94it/s]\n",
      "Processing 2025-01 queries:   4%|▍         | 22/492 [00:47<17:35,  2.25s/query]"
     ]
    },
    {
     "output_type": "stream",
     "name": "stdout",
     "text": [
      "WARNING! Your documents have duplicate entries!  This will slow down calculation and may yield subpar results\n"
     ]
    },
    {
     "output_type": "stream",
     "name": "stderr",
     "text": [
      "\n",
      "\n",
      "  0%|          | 0/7 [00:00<?, ?it/s]\u001B[A\u001B[A\n",
      "\n",
      " 14%|█▍        | 1/7 [00:00<00:01,  4.66it/s]\u001B[A\u001B[A\n",
      "\n",
      " 29%|██▊       | 2/7 [00:00<00:01,  4.55it/s]\u001B[A\u001B[A\n",
      "\n",
      " 43%|████▎     | 3/7 [00:00<00:00,  4.52it/s]\u001B[A\u001B[A\n",
      "\n",
      " 57%|█████▋    | 4/7 [00:00<00:00,  4.29it/s]\u001B[A\u001B[A\n",
      "\n",
      " 71%|███████▏  | 5/7 [00:01<00:00,  4.29it/s]\u001B[A\u001B[A\n",
      "\n",
      "100%|██████████| 7/7 [00:01<00:00,  4.89it/s]\n",
      "Processing 2025-01 queries:   5%|▍         | 23/492 [00:50<18:44,  2.40s/query]\n",
      "\n",
      "  0%|          | 0/7 [00:00<?, ?it/s]\u001B[A\u001B[A\n",
      "\n",
      " 14%|█▍        | 1/7 [00:00<00:01,  4.66it/s]\u001B[A\u001B[A\n",
      "\n",
      " 29%|██▊       | 2/7 [00:00<00:01,  4.56it/s]\u001B[A\u001B[A\n",
      "\n",
      " 43%|████▎     | 3/7 [00:00<00:00,  4.53it/s]\u001B[A\u001B[A\n",
      "\n",
      " 57%|█████▋    | 4/7 [00:00<00:00,  4.40it/s]\u001B[A\u001B[A\n",
      "\n",
      " 71%|███████▏  | 5/7 [00:01<00:00,  4.26it/s]\u001B[A\u001B[A\n",
      "\n",
      "100%|██████████| 7/7 [00:01<00:00,  4.89it/s]\n",
      "Processing 2025-01 queries:   5%|▍         | 24/492 [00:52<18:35,  2.38s/query]\n",
      "\n",
      "  0%|          | 0/6 [00:00<?, ?it/s]\u001B[A\u001B[A\n",
      "\n",
      " 17%|█▋        | 1/6 [00:00<00:01,  4.44it/s]\u001B[A\u001B[A\n",
      "\n",
      " 33%|███▎      | 2/6 [00:00<00:00,  4.42it/s]\u001B[A\u001B[A\n",
      "\n",
      " 50%|█████     | 3/6 [00:00<00:00,  4.50it/s]\u001B[A\u001B[A\n",
      "\n",
      " 67%|██████▋   | 4/6 [00:00<00:00,  4.30it/s]\u001B[A\u001B[A\n",
      "\n",
      " 83%|████████▎ | 5/6 [00:01<00:00,  4.37it/s]\u001B[A\u001B[A\n",
      "\n",
      "100%|██████████| 6/6 [00:01<00:00,  4.51it/s]\n",
      "Processing 2025-01 queries:   5%|▌         | 25/492 [00:55<19:25,  2.50s/query]"
     ]
    },
    {
     "output_type": "stream",
     "name": "stdout",
     "text": [
      "WARNING! Your documents have duplicate entries!  This will slow down calculation and may yield subpar results\n"
     ]
    },
    {
     "output_type": "stream",
     "name": "stderr",
     "text": [
      "\n",
      "\n",
      "  0%|          | 0/7 [00:00<?, ?it/s]\u001B[A\u001B[A\n",
      "\n",
      " 14%|█▍        | 1/7 [00:00<00:01,  4.66it/s]\u001B[A\u001B[A\n",
      "\n",
      " 29%|██▊       | 2/7 [00:00<00:01,  4.54it/s]\u001B[A\u001B[A\n",
      "\n",
      " 43%|████▎     | 3/7 [00:00<00:00,  4.50it/s]\u001B[A\u001B[A\n",
      "\n",
      " 57%|█████▋    | 4/7 [00:00<00:00,  4.13it/s]\u001B[A\u001B[A\n",
      "\n",
      " 71%|███████▏  | 5/7 [00:01<00:00,  4.22it/s]\u001B[A\u001B[A\n",
      "\n",
      "100%|██████████| 7/7 [00:01<00:00,  4.85it/s]\n",
      "Processing 2025-01 queries:   5%|▌         | 26/492 [00:58<19:04,  2.46s/query]\n",
      "\n",
      "  0%|          | 0/2 [00:00<?, ?it/s]\u001B[A\u001B[A\n",
      "\n",
      " 50%|█████     | 1/2 [00:00<00:00,  4.52it/s]\u001B[A\u001B[A\n",
      "\n",
      "100%|██████████| 2/2 [00:00<00:00,  4.96it/s]\n",
      "Processing 2025-01 queries:   5%|▌         | 27/492 [00:59<16:11,  2.09s/query]\n",
      "\n",
      "  0%|          | 0/2 [00:00<?, ?it/s]\u001B[A\u001B[A\n",
      "\n",
      " 50%|█████     | 1/2 [00:00<00:00,  4.73it/s]\u001B[A\u001B[A\n",
      "\n",
      "100%|██████████| 2/2 [00:00<00:00,  5.01it/s]\n",
      "Processing 2025-01 queries:   6%|▌         | 28/492 [01:00<14:07,  1.83s/query]"
     ]
    },
    {
     "output_type": "stream",
     "name": "stdout",
     "text": [
      "WARNING! Your documents have duplicate entries!  This will slow down calculation and may yield subpar results\n"
     ]
    },
    {
     "output_type": "stream",
     "name": "stderr",
     "text": [
      "\n",
      "\n",
      "  0%|          | 0/7 [00:00<?, ?it/s]\u001B[A\u001B[A\n",
      "\n",
      " 14%|█▍        | 1/7 [00:00<00:01,  4.75it/s]\u001B[A\u001B[A\n",
      "\n",
      " 29%|██▊       | 2/7 [00:00<00:01,  4.57it/s]\u001B[A\u001B[A\n",
      "\n",
      " 43%|████▎     | 3/7 [00:00<00:00,  4.52it/s]\u001B[A\u001B[A\n",
      "\n",
      " 57%|█████▋    | 4/7 [00:00<00:00,  4.19it/s]\u001B[A\u001B[A\n",
      "\n",
      " 71%|███████▏  | 5/7 [00:01<00:00,  4.24it/s]\u001B[A\u001B[A\n",
      "\n",
      "100%|██████████| 7/7 [00:01<00:00,  4.88it/s]\n",
      "Processing 2025-01 queries:   6%|▌         | 29/492 [01:03<17:15,  2.24s/query]"
     ]
    },
    {
     "output_type": "stream",
     "name": "stdout",
     "text": [
      "WARNING! Your documents have duplicate entries!  This will slow down calculation and may yield subpar results\n"
     ]
    },
    {
     "output_type": "stream",
     "name": "stderr",
     "text": [
      "\n",
      "\n",
      "  0%|          | 0/7 [00:00<?, ?it/s]\u001B[A\u001B[A\n",
      "\n",
      " 14%|█▍        | 1/7 [00:00<00:01,  3.45it/s]\u001B[A\u001B[A\n",
      "\n",
      " 29%|██▊       | 2/7 [00:00<00:01,  4.00it/s]\u001B[A\u001B[A\n",
      "\n",
      " 43%|████▎     | 3/7 [00:00<00:00,  4.21it/s]\u001B[A\u001B[A\n",
      "\n",
      " 57%|█████▋    | 4/7 [00:00<00:00,  4.31it/s]\u001B[A\u001B[A\n",
      "\n",
      " 71%|███████▏  | 5/7 [00:01<00:00,  4.24it/s]\u001B[A\u001B[A\n",
      "\n",
      "100%|██████████| 7/7 [00:01<00:00,  4.68it/s]\n",
      "Processing 2025-01 queries:   6%|▌         | 30/492 [01:07<20:38,  2.68s/query]\n",
      "\n",
      "  0%|          | 0/7 [00:00<?, ?it/s]\u001B[A\u001B[A\n",
      "\n",
      " 14%|█▍        | 1/7 [00:00<00:01,  4.53it/s]\u001B[A\u001B[A\n",
      "\n",
      " 29%|██▊       | 2/7 [00:00<00:01,  4.52it/s]\u001B[A\u001B[A\n",
      "\n",
      " 43%|████▎     | 3/7 [00:00<00:00,  4.49it/s]\u001B[A\u001B[A\n",
      "\n",
      " 57%|█████▋    | 4/7 [00:00<00:00,  4.29it/s]\u001B[A\u001B[A\n",
      "\n",
      " 71%|███████▏  | 5/7 [00:01<00:00,  4.30it/s]\u001B[A\u001B[A\n",
      "\n",
      "100%|██████████| 7/7 [00:01<00:00,  4.89it/s]\n",
      "Processing 2025-01 queries:   6%|▋         | 31/492 [01:09<20:03,  2.61s/query]"
     ]
    },
    {
     "output_type": "stream",
     "name": "stdout",
     "text": [
      "WARNING! Your documents have duplicate entries!  This will slow down calculation and may yield subpar results\n"
     ]
    },
    {
     "output_type": "stream",
     "name": "stderr",
     "text": [
      "\n",
      "\n",
      "  0%|          | 0/7 [00:00<?, ?it/s]\u001B[A\u001B[A\n",
      "\n",
      " 14%|█▍        | 1/7 [00:00<00:01,  4.70it/s]\u001B[A\u001B[A\n",
      "\n",
      " 29%|██▊       | 2/7 [00:00<00:01,  4.57it/s]\u001B[A\u001B[A\n",
      "\n",
      " 43%|████▎     | 3/7 [00:00<00:00,  4.52it/s]\u001B[A\u001B[A\n",
      "\n",
      " 57%|█████▋    | 4/7 [00:00<00:00,  4.29it/s]\u001B[A\u001B[A\n",
      "\n",
      " 71%|███████▏  | 5/7 [00:01<00:00,  4.29it/s]\u001B[A\u001B[A\n",
      "\n",
      "100%|██████████| 7/7 [00:01<00:00,  4.92it/s]\n",
      "Processing 2025-01 queries:   7%|▋         | 32/492 [01:12<20:28,  2.67s/query]"
     ]
    },
    {
     "output_type": "stream",
     "name": "stdout",
     "text": [
      "WARNING! Your documents have duplicate entries!  This will slow down calculation and may yield subpar results\n"
     ]
    },
    {
     "output_type": "stream",
     "name": "stderr",
     "text": [
      "\n",
      "\n",
      "  0%|          | 0/7 [00:00<?, ?it/s]\u001B[A\u001B[A\n",
      "\n",
      " 14%|█▍        | 1/7 [00:00<00:01,  4.72it/s]\u001B[A\u001B[A\n",
      "\n",
      " 29%|██▊       | 2/7 [00:00<00:01,  4.60it/s]\u001B[A\u001B[A\n",
      "\n",
      " 43%|████▎     | 3/7 [00:00<00:00,  4.54it/s]\u001B[A\u001B[A\n",
      "\n",
      " 57%|█████▋    | 4/7 [00:00<00:00,  4.21it/s]\u001B[A\u001B[A\n",
      "\n",
      " 71%|███████▏  | 5/7 [00:01<00:00,  4.27it/s]\u001B[A\u001B[A\n",
      "\n",
      "100%|██████████| 7/7 [00:01<00:00,  4.89it/s]\n",
      "Processing 2025-01 queries:   7%|▋         | 33/492 [01:15<19:53,  2.60s/query]"
     ]
    },
    {
     "output_type": "stream",
     "name": "stdout",
     "text": [
      "WARNING! Your documents have duplicate entries!  This will slow down calculation and may yield subpar results\n"
     ]
    },
    {
     "output_type": "stream",
     "name": "stderr",
     "text": [
      "\n",
      "\n",
      "  0%|          | 0/7 [00:00<?, ?it/s]\u001B[A\u001B[A\n",
      "\n",
      " 14%|█▍        | 1/7 [00:00<00:01,  3.56it/s]\u001B[A\u001B[A\n",
      "\n",
      " 29%|██▊       | 2/7 [00:00<00:01,  4.06it/s]\u001B[A\u001B[A\n",
      "\n",
      " 43%|████▎     | 3/7 [00:00<00:00,  4.26it/s]\u001B[A\u001B[A\n",
      "\n",
      " 57%|█████▋    | 4/7 [00:00<00:00,  4.35it/s]\u001B[A\u001B[A\n",
      "\n",
      " 71%|███████▏  | 5/7 [00:01<00:00,  4.20it/s]\u001B[A\u001B[A\n",
      "\n",
      "100%|██████████| 7/7 [00:01<00:00,  4.71it/s]\n",
      "Processing 2025-01 queries:   7%|▋         | 34/492 [01:21<29:33,  3.87s/query]\n",
      "\n",
      "  0%|          | 0/5 [00:00<?, ?it/s]\u001B[A\u001B[A\n",
      "\n",
      " 20%|██        | 1/5 [00:00<00:00,  4.72it/s]\u001B[A\u001B[A\n",
      "\n",
      " 40%|████      | 2/5 [00:00<00:00,  4.59it/s]\u001B[A\u001B[A\n",
      "\n",
      " 60%|██████    | 3/5 [00:00<00:00,  4.53it/s]\u001B[A\u001B[A\n",
      "\n",
      "100%|██████████| 5/5 [00:00<00:00,  5.28it/s]\n",
      "Processing 2025-01 queries:   7%|▋         | 35/492 [01:23<24:53,  3.27s/query]\n",
      "\n",
      "  0%|          | 0/7 [00:00<?, ?it/s]\u001B[A\u001B[A\n",
      "\n",
      " 14%|█▍        | 1/7 [00:00<00:01,  3.58it/s]\u001B[A\u001B[A\n",
      "\n",
      " 29%|██▊       | 2/7 [00:00<00:01,  4.10it/s]\u001B[A\u001B[A\n",
      "\n",
      " 43%|████▎     | 3/7 [00:00<00:00,  4.28it/s]\u001B[A\u001B[A\n",
      "\n",
      " 57%|█████▋    | 4/7 [00:00<00:00,  4.37it/s]\u001B[A\u001B[A\n",
      "\n",
      " 71%|███████▏  | 5/7 [00:01<00:00,  4.30it/s]\u001B[A\u001B[A\n",
      "\n",
      "100%|██████████| 7/7 [00:01<00:00,  4.79it/s]\n",
      "Processing 2025-01 queries:   7%|▋         | 36/492 [01:28<27:45,  3.65s/query]"
     ]
    },
    {
     "output_type": "stream",
     "name": "stdout",
     "text": [
      "WARNING! Your documents have duplicate entries!  This will slow down calculation and may yield subpar results\n"
     ]
    },
    {
     "output_type": "stream",
     "name": "stderr",
     "text": [
      "\n",
      "\n",
      "  0%|          | 0/7 [00:00<?, ?it/s]\u001B[A\u001B[A\n",
      "\n",
      " 14%|█▍        | 1/7 [00:00<00:01,  3.65it/s]\u001B[A\u001B[A\n",
      "\n",
      " 29%|██▊       | 2/7 [00:00<00:01,  4.15it/s]\u001B[A\u001B[A\n",
      "\n",
      " 43%|████▎     | 3/7 [00:00<00:00,  4.32it/s]\u001B[A\u001B[A\n",
      "\n",
      " 57%|█████▋    | 4/7 [00:00<00:00,  4.39it/s]\u001B[A\u001B[A\n",
      "\n",
      " 71%|███████▏  | 5/7 [00:01<00:00,  4.27it/s]\u001B[A\u001B[A\n",
      "\n",
      "100%|██████████| 7/7 [00:01<00:00,  4.77it/s]\n",
      "Processing 2025-01 queries:   8%|▊         | 37/492 [01:31<26:46,  3.53s/query]"
     ]
    },
    {
     "output_type": "stream",
     "name": "stdout",
     "text": [
      "WARNING! Your documents have duplicate entries!  This will slow down calculation and may yield subpar results\n"
     ]
    },
    {
     "output_type": "stream",
     "name": "stderr",
     "text": [
      "\n",
      "\n",
      "  0%|          | 0/7 [00:00<?, ?it/s]\u001B[A\u001B[A\n",
      "\n",
      " 14%|█▍        | 1/7 [00:00<00:01,  4.58it/s]\u001B[A\u001B[A\n",
      "\n",
      " 29%|██▊       | 2/7 [00:00<00:01,  4.49it/s]\u001B[A\u001B[A\n",
      "\n",
      " 43%|████▎     | 3/7 [00:00<00:00,  4.57it/s]\u001B[A\u001B[A\n",
      "\n",
      " 57%|█████▋    | 4/7 [00:00<00:00,  4.44it/s]\u001B[A\u001B[A\n",
      "\n",
      " 71%|███████▏  | 5/7 [00:01<00:00,  4.45it/s]\u001B[A\u001B[A\n",
      "\n",
      "100%|██████████| 7/7 [00:01<00:00,  5.04it/s]\n",
      "Processing 2025-01 queries:   8%|▊         | 38/492 [01:34<24:55,  3.29s/query]\n",
      "\n",
      "  0%|          | 0/7 [00:00<?, ?it/s]\u001B[A\u001B[A\n",
      "\n",
      " 14%|█▍        | 1/7 [00:00<00:01,  4.59it/s]\u001B[A\u001B[A\n",
      "\n",
      " 29%|██▊       | 2/7 [00:00<00:01,  4.53it/s]\u001B[A\u001B[A\n",
      "\n",
      " 43%|████▎     | 3/7 [00:00<00:00,  4.52it/s]\u001B[A\u001B[A\n",
      "\n",
      " 57%|█████▋    | 4/7 [00:00<00:00,  4.29it/s]\u001B[A\u001B[A\n",
      "\n",
      " 71%|███████▏  | 5/7 [00:01<00:00,  4.33it/s]\u001B[A\u001B[A\n",
      "\n",
      "100%|██████████| 7/7 [00:01<00:00,  4.90it/s]\n",
      "Processing 2025-01 queries:   8%|▊         | 39/492 [01:37<23:38,  3.13s/query]"
     ]
    },
    {
     "output_type": "stream",
     "name": "stdout",
     "text": [
      "WARNING! Your documents have duplicate entries!  This will slow down calculation and may yield subpar results\n"
     ]
    },
    {
     "output_type": "stream",
     "name": "stderr",
     "text": [
      "\n",
      "\n",
      "  0%|          | 0/7 [00:00<?, ?it/s]\u001B[A\u001B[A\n",
      "\n",
      " 14%|█▍        | 1/7 [00:00<00:01,  4.61it/s]\u001B[A\u001B[A\n",
      "\n",
      " 29%|██▊       | 2/7 [00:00<00:01,  4.51it/s]\u001B[A\u001B[A\n",
      "\n",
      " 43%|████▎     | 3/7 [00:00<00:00,  4.50it/s]\u001B[A\u001B[A\n",
      "\n",
      " 57%|█████▋    | 4/7 [00:00<00:00,  4.32it/s]\u001B[A\u001B[A\n",
      "\n",
      " 71%|███████▏  | 5/7 [00:01<00:00,  4.31it/s]\u001B[A\u001B[A\n",
      "\n",
      "100%|██████████| 7/7 [00:01<00:00,  4.88it/s]\n",
      "Processing 2025-01 queries:   8%|▊         | 40/492 [01:39<21:54,  2.91s/query]"
     ]
    },
    {
     "output_type": "stream",
     "name": "stdout",
     "text": [
      "INFO: Processed 40/492 queries for 2025-01. Avg time/query: 2485.22 ms.\n",
      "WARNING! Your documents have duplicate entries!  This will slow down calculation and may yield subpar results\n"
     ]
    },
    {
     "output_type": "stream",
     "name": "stderr",
     "text": [
      "\n",
      "\n",
      "  0%|          | 0/7 [00:00<?, ?it/s]\u001B[A\u001B[A\n",
      "\n",
      " 14%|█▍        | 1/7 [00:00<00:01,  4.57it/s]\u001B[A\u001B[A\n",
      "\n",
      " 29%|██▊       | 2/7 [00:00<00:01,  4.47it/s]\u001B[A\u001B[A\n",
      "\n",
      " 43%|████▎     | 3/7 [00:00<00:00,  4.44it/s]\u001B[A\u001B[A\n",
      "\n",
      " 57%|█████▋    | 4/7 [00:00<00:00,  4.34it/s]\u001B[A\u001B[A\n",
      "\n",
      " 71%|███████▏  | 5/7 [00:01<00:00,  4.37it/s]\u001B[A\u001B[A\n",
      "\n",
      "100%|██████████| 7/7 [00:01<00:00,  4.96it/s]\n",
      "Processing 2025-01 queries:   8%|▊         | 41/492 [01:41<20:34,  2.74s/query]"
     ]
    },
    {
     "output_type": "stream",
     "name": "stdout",
     "text": [
      "WARNING! Your documents have duplicate entries!  This will slow down calculation and may yield subpar results\n"
     ]
    },
    {
     "output_type": "stream",
     "name": "stderr",
     "text": [
      "\n",
      "\n",
      "  0%|          | 0/5 [00:00<?, ?it/s]\u001B[A\u001B[A\n",
      "\n",
      " 20%|██        | 1/5 [00:00<00:00,  4.58it/s]\u001B[A\u001B[A\n",
      "\n",
      " 40%|████      | 2/5 [00:00<00:00,  4.48it/s]\u001B[A\u001B[A\n",
      "\n",
      " 60%|██████    | 3/5 [00:00<00:00,  4.45it/s]\u001B[A\u001B[A\n",
      "\n",
      " 80%|████████  | 4/5 [00:00<00:00,  4.12it/s]\u001B[A\u001B[A\n",
      "\n",
      "100%|██████████| 5/5 [00:01<00:00,  4.57it/s]\n",
      "Processing 2025-01 queries:   9%|▊         | 42/492 [01:43<18:50,  2.51s/query]\n",
      "\n",
      "  0%|          | 0/6 [00:00<?, ?it/s]\u001B[A\u001B[A\n",
      "\n",
      " 17%|█▋        | 1/6 [00:00<00:01,  4.47it/s]\u001B[A\u001B[A\n",
      "\n",
      " 33%|███▎      | 2/6 [00:00<00:00,  4.55it/s]\u001B[A\u001B[A\n",
      "\n",
      " 50%|█████     | 3/6 [00:00<00:00,  4.57it/s]\u001B[A\u001B[A\n",
      "\n",
      " 67%|██████▋   | 4/6 [00:00<00:00,  4.38it/s]\u001B[A\u001B[A\n",
      "\n",
      "100%|██████████| 6/6 [00:01<00:00,  5.08it/s]\n",
      "Processing 2025-01 queries:   9%|▊         | 43/492 [01:46<18:52,  2.52s/query]"
     ]
    },
    {
     "output_type": "stream",
     "name": "stdout",
     "text": [
      "WARNING! Your documents have duplicate entries!  This will slow down calculation and may yield subpar results\n"
     ]
    },
    {
     "output_type": "stream",
     "name": "stderr",
     "text": [
      "\n",
      "\n",
      "  0%|          | 0/7 [00:00<?, ?it/s]\u001B[A\u001B[A\n",
      "\n",
      " 14%|█▍        | 1/7 [00:00<00:01,  3.80it/s]\u001B[A\u001B[A\n",
      "\n",
      " 29%|██▊       | 2/7 [00:00<00:01,  4.15it/s]\u001B[A\u001B[A\n",
      "\n",
      " 43%|████▎     | 3/7 [00:00<00:00,  4.23it/s]\u001B[A\u001B[A\n",
      "\n",
      " 57%|█████▋    | 4/7 [00:00<00:00,  4.30it/s]\u001B[A\u001B[A\n",
      "\n",
      " 71%|███████▏  | 5/7 [00:01<00:00,  4.28it/s]\u001B[A\u001B[A\n",
      "\n",
      "100%|██████████| 7/7 [00:01<00:00,  4.74it/s]\n",
      "Processing 2025-01 queries:   9%|▉         | 44/492 [01:49<20:42,  2.77s/query]\n",
      "\n",
      "  0%|          | 0/1 [00:00<?, ?it/s]\u001B[A\u001B[A\n",
      "\n",
      "100%|██████████| 1/1 [00:00<00:00,  7.78it/s]\n",
      "Processing 2025-01 queries:   9%|▉         | 45/492 [01:50<16:37,  2.23s/query]"
     ]
    },
    {
     "output_type": "stream",
     "name": "stdout",
     "text": [
      "WARNING! Your documents have duplicate entries!  This will slow down calculation and may yield subpar results\n"
     ]
    },
    {
     "output_type": "stream",
     "name": "stderr",
     "text": [
      "\n",
      "\n",
      "  0%|          | 0/7 [00:00<?, ?it/s]\u001B[A\u001B[A\n",
      "\n",
      " 14%|█▍        | 1/7 [00:00<00:01,  4.54it/s]\u001B[A\u001B[A\n",
      "\n",
      " 29%|██▊       | 2/7 [00:00<00:01,  4.47it/s]\u001B[A\u001B[A\n",
      "\n",
      " 43%|████▎     | 3/7 [00:00<00:00,  4.47it/s]\u001B[A\u001B[A\n",
      "\n",
      " 57%|█████▋    | 4/7 [00:00<00:00,  4.18it/s]\u001B[A\u001B[A\n",
      "\n",
      " 71%|███████▏  | 5/7 [00:01<00:00,  4.22it/s]\u001B[A\u001B[A\n",
      "\n",
      "100%|██████████| 7/7 [00:01<00:00,  4.83it/s]\n",
      "Processing 2025-01 queries:   9%|▉         | 46/492 [01:52<16:50,  2.27s/query]"
     ]
    },
    {
     "output_type": "stream",
     "name": "stdout",
     "text": [
      "WARNING! Your documents have duplicate entries!  This will slow down calculation and may yield subpar results\n"
     ]
    },
    {
     "output_type": "stream",
     "name": "stderr",
     "text": [
      "\n",
      "\n",
      "  0%|          | 0/6 [00:00<?, ?it/s]\u001B[A\u001B[A\n",
      "\n",
      " 17%|█▋        | 1/6 [00:00<00:01,  4.57it/s]\u001B[A\u001B[A\n",
      "\n",
      " 33%|███▎      | 2/6 [00:00<00:00,  4.49it/s]\u001B[A\u001B[A\n",
      "\n",
      " 50%|█████     | 3/6 [00:00<00:00,  4.46it/s]\u001B[A\u001B[A\n",
      "\n",
      " 67%|██████▋   | 4/6 [00:00<00:00,  4.19it/s]\u001B[A\u001B[A\n",
      "\n",
      "100%|██████████| 6/6 [00:01<00:00,  4.85it/s]\n",
      "Processing 2025-01 queries:  10%|▉         | 47/492 [01:55<16:40,  2.25s/query]\n",
      "\n",
      "  0%|          | 0/7 [00:00<?, ?it/s]\u001B[A\u001B[A\n",
      "\n",
      " 14%|█▍        | 1/7 [00:00<00:01,  4.69it/s]\u001B[A\u001B[A\n",
      "\n",
      " 29%|██▊       | 2/7 [00:00<00:01,  4.56it/s]\u001B[A\u001B[A\n",
      "\n",
      " 43%|████▎     | 3/7 [00:00<00:00,  4.52it/s]\u001B[A\u001B[A\n",
      "\n",
      " 57%|█████▋    | 4/7 [00:00<00:00,  4.42it/s]\u001B[A\u001B[A\n",
      "\n",
      " 71%|███████▏  | 5/7 [00:01<00:00,  4.24it/s]\u001B[A\u001B[A\n",
      "\n",
      "100%|██████████| 7/7 [00:01<00:00,  4.88it/s]\n",
      "Processing 2025-01 queries:  10%|▉         | 48/492 [01:58<18:42,  2.53s/query]"
     ]
    },
    {
     "output_type": "stream",
     "name": "stdout",
     "text": [
      "WARNING! Your documents have duplicate entries!  This will slow down calculation and may yield subpar results\n"
     ]
    },
    {
     "output_type": "stream",
     "name": "stderr",
     "text": [
      "\n",
      "\n",
      "  0%|          | 0/7 [00:00<?, ?it/s]\u001B[A\u001B[A\n",
      "\n",
      " 14%|█▍        | 1/7 [00:00<00:01,  4.57it/s]\u001B[A\u001B[A\n",
      "\n",
      " 29%|██▊       | 2/7 [00:00<00:01,  4.50it/s]\u001B[A\u001B[A\n",
      "\n",
      " 43%|████▎     | 3/7 [00:00<00:00,  4.46it/s]\u001B[A\u001B[A\n",
      "\n",
      " 57%|█████▋    | 4/7 [00:00<00:00,  4.19it/s]\u001B[A\u001B[A\n",
      "\n",
      " 71%|███████▏  | 5/7 [00:01<00:00,  4.25it/s]\u001B[A\u001B[A\n",
      "\n",
      "100%|██████████| 7/7 [00:01<00:00,  4.87it/s]\n",
      "Processing 2025-01 queries:  10%|▉         | 49/492 [02:00<18:15,  2.47s/query]"
     ]
    },
    {
     "output_type": "stream",
     "name": "stdout",
     "text": [
      "WARNING! Your documents have duplicate entries!  This will slow down calculation and may yield subpar results\n"
     ]
    },
    {
     "output_type": "stream",
     "name": "stderr",
     "text": [
      "\n",
      "\n",
      "  0%|          | 0/7 [00:00<?, ?it/s]\u001B[A\u001B[A\n",
      "\n",
      " 14%|█▍        | 1/7 [00:00<00:01,  4.61it/s]\u001B[A\u001B[A\n",
      "\n",
      " 29%|██▊       | 2/7 [00:00<00:01,  4.54it/s]\u001B[A\u001B[A\n",
      "\n",
      " 43%|████▎     | 3/7 [00:00<00:00,  4.52it/s]\u001B[A\u001B[A\n",
      "\n",
      " 57%|█████▋    | 4/7 [00:00<00:00,  4.31it/s]\u001B[A\u001B[A\n",
      "\n",
      " 71%|███████▏  | 5/7 [00:01<00:00,  4.33it/s]\u001B[A\u001B[A\n",
      "\n",
      "100%|██████████| 7/7 [00:01<00:00,  4.93it/s]\n",
      "Processing 2025-01 queries:  10%|█         | 50/492 [02:03<18:00,  2.44s/query]\n",
      "\n",
      "  0%|          | 0/7 [00:00<?, ?it/s]\u001B[A\u001B[A\n",
      "\n",
      " 14%|█▍        | 1/7 [00:00<00:01,  4.73it/s]\u001B[A\u001B[A\n",
      "\n",
      " 29%|██▊       | 2/7 [00:00<00:01,  4.57it/s]\u001B[A\u001B[A\n",
      "\n",
      " 43%|████▎     | 3/7 [00:00<00:00,  4.51it/s]\u001B[A\u001B[A\n",
      "\n",
      " 57%|█████▋    | 4/7 [00:00<00:00,  4.17it/s]\u001B[A\u001B[A\n",
      "\n",
      " 71%|███████▏  | 5/7 [00:01<00:00,  4.23it/s]\u001B[A\u001B[A\n",
      "\n",
      "100%|██████████| 7/7 [00:01<00:00,  4.87it/s]\n",
      "Processing 2025-01 queries:  10%|█         | 51/492 [02:05<17:48,  2.42s/query]"
     ]
    },
    {
     "output_type": "stream",
     "name": "stdout",
     "text": [
      "WARNING! Your documents have duplicate entries!  This will slow down calculation and may yield subpar results\n"
     ]
    },
    {
     "output_type": "stream",
     "name": "stderr",
     "text": [
      "\n",
      "\n",
      "  0%|          | 0/7 [00:00<?, ?it/s]\u001B[A\u001B[A\n",
      "\n",
      " 14%|█▍        | 1/7 [00:00<00:01,  4.64it/s]\u001B[A\u001B[A\n",
      "\n",
      " 29%|██▊       | 2/7 [00:00<00:01,  4.54it/s]\u001B[A\u001B[A\n",
      "\n",
      " 43%|████▎     | 3/7 [00:00<00:00,  4.52it/s]\u001B[A\u001B[A\n",
      "\n",
      " 57%|█████▋    | 4/7 [00:00<00:00,  4.42it/s]\u001B[A\u001B[A\n",
      "\n",
      " 71%|███████▏  | 5/7 [00:01<00:00,  4.29it/s]\u001B[A\u001B[A\n",
      "\n",
      "100%|██████████| 7/7 [00:01<00:00,  4.93it/s]\n",
      "Processing 2025-01 queries:  11%|█         | 52/492 [02:07<17:34,  2.40s/query]\n",
      "\n",
      "  0%|          | 0/7 [00:00<?, ?it/s]\u001B[A\u001B[A\n",
      "\n",
      " 14%|█▍        | 1/7 [00:00<00:01,  4.67it/s]\u001B[A\u001B[A\n",
      "\n",
      " 29%|██▊       | 2/7 [00:00<00:01,  4.61it/s]\u001B[A\u001B[A\n",
      "\n",
      " 43%|████▎     | 3/7 [00:00<00:00,  4.54it/s]\u001B[A\u001B[A\n",
      "\n",
      " 57%|█████▋    | 4/7 [00:00<00:00,  4.34it/s]\u001B[A\u001B[A\n",
      "\n",
      " 71%|███████▏  | 5/7 [00:01<00:00,  4.32it/s]\u001B[A\u001B[A\n",
      "\n",
      "100%|██████████| 7/7 [00:01<00:00,  4.92it/s]\n",
      "Processing 2025-01 queries:  11%|█         | 53/492 [02:10<18:32,  2.53s/query]\n",
      "\n",
      "100%|██████████| 1/1 [00:00<00:00, 26.34it/s]\n",
      "Processing 2025-01 queries:  11%|█         | 54/492 [02:11<14:47,  2.03s/query]\n",
      "\n",
      "  0%|          | 0/7 [00:00<?, ?it/s]\u001B[A\u001B[A\n",
      "\n",
      " 14%|█▍        | 1/7 [00:00<00:01,  3.78it/s]\u001B[A\u001B[A\n",
      "\n",
      " 29%|██▊       | 2/7 [00:00<00:01,  4.18it/s]\u001B[A\u001B[A\n",
      "\n",
      " 43%|████▎     | 3/7 [00:00<00:00,  4.33it/s]\u001B[A\u001B[A\n",
      "\n",
      " 57%|█████▋    | 4/7 [00:00<00:00,  4.49it/s]\u001B[A\u001B[A\n",
      "\n",
      " 71%|███████▏  | 5/7 [00:01<00:00,  4.34it/s]\u001B[A\u001B[A\n",
      "\n",
      "100%|██████████| 7/7 [00:01<00:00,  4.86it/s]\n",
      "Processing 2025-01 queries:  11%|█         | 55/492 [02:14<16:23,  2.25s/query]"
     ]
    },
    {
     "output_type": "stream",
     "name": "stdout",
     "text": [
      "WARNING! Your documents have duplicate entries!  This will slow down calculation and may yield subpar results\n"
     ]
    },
    {
     "output_type": "stream",
     "name": "stderr",
     "text": [
      "\n",
      "\n",
      "  0%|          | 0/7 [00:00<?, ?it/s]\u001B[A\u001B[A\n",
      "\n",
      " 14%|█▍        | 1/7 [00:00<00:01,  4.75it/s]\u001B[A\u001B[A\n",
      "\n",
      " 29%|██▊       | 2/7 [00:00<00:01,  4.60it/s]\u001B[A\u001B[A\n",
      "\n",
      " 43%|████▎     | 3/7 [00:00<00:00,  4.57it/s]\u001B[A\u001B[A\n",
      "\n",
      " 57%|█████▋    | 4/7 [00:00<00:00,  4.38it/s]\u001B[A\u001B[A\n",
      "\n",
      " 71%|███████▏  | 5/7 [00:01<00:00,  4.37it/s]\u001B[A\u001B[A\n",
      "\n",
      "100%|██████████| 7/7 [00:01<00:00,  4.99it/s]\n",
      "Processing 2025-01 queries:  11%|█▏        | 56/492 [02:16<16:29,  2.27s/query]\n",
      "\n",
      "  0%|          | 0/7 [00:00<?, ?it/s]\u001B[A\u001B[A\n",
      "\n",
      " 14%|█▍        | 1/7 [00:00<00:01,  3.67it/s]\u001B[A\u001B[A\n",
      "\n",
      " 29%|██▊       | 2/7 [00:00<00:01,  4.13it/s]\u001B[A\u001B[A\n",
      "\n",
      " 43%|████▎     | 3/7 [00:00<00:00,  4.32it/s]\u001B[A\u001B[A\n",
      "\n",
      " 57%|█████▋    | 4/7 [00:00<00:00,  4.43it/s]\u001B[A\u001B[A\n",
      "\n",
      " 71%|███████▏  | 5/7 [00:01<00:00,  4.43it/s]\u001B[A\u001B[A\n",
      "\n",
      "100%|██████████| 7/7 [00:01<00:00,  4.82it/s]\n",
      "Processing 2025-01 queries:  12%|█▏        | 57/492 [02:22<24:39,  3.40s/query]\n",
      "\n",
      "  0%|          | 0/7 [00:00<?, ?it/s]\u001B[A\u001B[A\n",
      "\n",
      " 14%|█▍        | 1/7 [00:00<00:01,  4.73it/s]\u001B[A\u001B[A\n",
      "\n",
      " 29%|██▊       | 2/7 [00:00<00:01,  4.66it/s]\u001B[A\u001B[A\n",
      "\n",
      " 43%|████▎     | 3/7 [00:00<00:00,  4.62it/s]\u001B[A\u001B[A\n",
      "\n",
      " 57%|█████▋    | 4/7 [00:00<00:00,  4.48it/s]\u001B[A\u001B[A\n",
      "\n",
      " 71%|███████▏  | 5/7 [00:01<00:00,  4.40it/s]\u001B[A\u001B[A\n",
      "\n",
      "100%|██████████| 7/7 [00:01<00:00,  5.00it/s]\n",
      "Processing 2025-01 queries:  12%|█▏        | 58/492 [02:25<23:25,  3.24s/query]\n",
      "\n",
      "  0%|          | 0/7 [00:00<?, ?it/s]\u001B[A\u001B[A\n",
      "\n",
      " 14%|█▍        | 1/7 [00:00<00:01,  4.77it/s]\u001B[A\u001B[A\n",
      "\n",
      " 29%|██▊       | 2/7 [00:00<00:01,  4.65it/s]\u001B[A\u001B[A\n",
      "\n",
      " 43%|████▎     | 3/7 [00:00<00:00,  4.60it/s]\u001B[A\u001B[A\n",
      "\n",
      " 57%|█████▋    | 4/7 [00:00<00:00,  4.42it/s]\u001B[A\u001B[A\n",
      "\n",
      " 71%|███████▏  | 5/7 [00:01<00:00,  4.40it/s]\u001B[A\u001B[A\n",
      "\n",
      "100%|██████████| 7/7 [00:01<00:00,  4.98it/s]\n",
      "Processing 2025-01 queries:  12%|█▏        | 59/492 [02:28<22:17,  3.09s/query]\n",
      "\n",
      "  0%|          | 0/1 [00:00<?, ?it/s]\u001B[A\u001B[A\n",
      "\n",
      "100%|██████████| 1/1 [00:00<00:00,  5.12it/s]\n",
      "Processing 2025-01 queries:  12%|█▏        | 60/492 [02:29<17:47,  2.47s/query]"
     ]
    },
    {
     "output_type": "stream",
     "name": "stdout",
     "text": [
      "INFO: Processed 60/492 queries for 2025-01. Avg time/query: 2486.88 ms.\n",
      "WARNING! Your documents have duplicate entries!  This will slow down calculation and may yield subpar results\n"
     ]
    },
    {
     "output_type": "stream",
     "name": "stderr",
     "text": [
      "\n",
      "\n",
      "  0%|          | 0/7 [00:00<?, ?it/s]\u001B[A\u001B[A\n",
      "\n",
      " 14%|█▍        | 1/7 [00:00<00:01,  4.78it/s]\u001B[A\u001B[A\n",
      "\n",
      " 29%|██▊       | 2/7 [00:00<00:01,  4.65it/s]\u001B[A\u001B[A\n",
      "\n",
      " 43%|████▎     | 3/7 [00:00<00:00,  4.60it/s]\u001B[A\u001B[A\n",
      "\n",
      " 57%|█████▋    | 4/7 [00:00<00:00,  4.55it/s]\u001B[A\u001B[A\n",
      "\n",
      " 71%|███████▏  | 5/7 [00:01<00:00,  4.43it/s]\u001B[A\u001B[A\n",
      "\n",
      "100%|██████████| 7/7 [00:01<00:00,  5.05it/s]\n",
      "Processing 2025-01 queries:  12%|█▏        | 61/492 [02:31<17:19,  2.41s/query]\n",
      "\n",
      "  0%|          | 0/2 [00:00<?, ?it/s]\u001B[A\u001B[A\n",
      "\n",
      "100%|██████████| 2/2 [00:00<00:00,  7.19it/s]\n",
      "Processing 2025-01 queries:  13%|█▎        | 62/492 [02:32<14:25,  2.01s/query]\n",
      "\n",
      "  0%|          | 0/7 [00:00<?, ?it/s]\u001B[A\u001B[A\n",
      "\n",
      " 14%|█▍        | 1/7 [00:00<00:01,  3.80it/s]\u001B[A\u001B[A\n",
      "\n",
      " 29%|██▊       | 2/7 [00:00<00:01,  4.14it/s]\u001B[A\u001B[A\n",
      "\n",
      " 43%|████▎     | 3/7 [00:00<00:00,  4.31it/s]\u001B[A\u001B[A\n",
      "\n",
      " 57%|█████▋    | 4/7 [00:00<00:00,  4.39it/s]\u001B[A\u001B[A\n",
      "\n",
      " 71%|███████▏  | 5/7 [00:01<00:00,  4.29it/s]\u001B[A\u001B[A\n",
      "\n",
      "100%|██████████| 7/7 [00:01<00:00,  4.76it/s]\n",
      "Processing 2025-01 queries:  13%|█▎        | 63/492 [02:35<17:10,  2.40s/query]"
     ]
    },
    {
     "output_type": "stream",
     "name": "stdout",
     "text": [
      "WARNING! Your documents have duplicate entries!  This will slow down calculation and may yield subpar results\n"
     ]
    },
    {
     "output_type": "stream",
     "name": "stderr",
     "text": [
      "\n",
      "\n",
      "  0%|          | 0/7 [00:00<?, ?it/s]\u001B[A\u001B[A\n",
      "\n",
      " 14%|█▍        | 1/7 [00:00<00:01,  4.66it/s]\u001B[A\u001B[A\n",
      "\n",
      " 29%|██▊       | 2/7 [00:00<00:01,  4.64it/s]\u001B[A\u001B[A\n",
      "\n",
      " 43%|████▎     | 3/7 [00:00<00:00,  4.58it/s]\u001B[A\u001B[A\n",
      "\n",
      " 57%|█████▋    | 4/7 [00:00<00:00,  4.49it/s]\u001B[A\u001B[A\n",
      "\n",
      " 71%|███████▏  | 5/7 [00:01<00:00,  4.36it/s]\u001B[A\u001B[A\n",
      "\n",
      "100%|██████████| 7/7 [00:01<00:00,  5.00it/s]\n",
      "Processing 2025-01 queries:  13%|█▎        | 64/492 [02:38<17:49,  2.50s/query]\n",
      "\n",
      "100%|██████████| 1/1 [00:00<00:00, 15.40it/s]\n",
      "Processing 2025-01 queries:  13%|█▎        | 65/492 [02:39<14:15,  2.00s/query]"
     ]
    },
    {
     "output_type": "stream",
     "name": "stdout",
     "text": [
      "WARNING! Your documents have duplicate entries!  This will slow down calculation and may yield subpar results\n"
     ]
    },
    {
     "output_type": "stream",
     "name": "stderr",
     "text": [
      "\n",
      "\n",
      "  0%|          | 0/7 [00:00<?, ?it/s]\u001B[A\u001B[A\n",
      "\n",
      " 14%|█▍        | 1/7 [00:00<00:01,  4.27it/s]\u001B[A\u001B[A\n",
      "\n",
      " 29%|██▊       | 2/7 [00:00<00:01,  4.43it/s]\u001B[A\u001B[A\n",
      "\n",
      " 43%|████▎     | 3/7 [00:00<00:00,  4.45it/s]\u001B[A\u001B[A\n",
      "\n",
      " 57%|█████▋    | 4/7 [00:00<00:00,  4.44it/s]\u001B[A\u001B[A\n",
      "\n",
      " 71%|███████▏  | 5/7 [00:01<00:00,  4.35it/s]\u001B[A\u001B[A\n",
      "\n",
      "100%|██████████| 7/7 [00:01<00:00,  4.88it/s]\n",
      "Processing 2025-01 queries:  13%|█▎        | 66/492 [02:41<14:59,  2.11s/query]"
     ]
    },
    {
     "output_type": "stream",
     "name": "stdout",
     "text": [
      "WARNING! Your documents have duplicate entries!  This will slow down calculation and may yield subpar results\n"
     ]
    },
    {
     "output_type": "stream",
     "name": "stderr",
     "text": [
      "\n",
      "\n",
      "  0%|          | 0/7 [00:00<?, ?it/s]\u001B[A\u001B[A\n",
      "\n",
      " 14%|█▍        | 1/7 [00:00<00:01,  4.75it/s]\u001B[A\u001B[A\n",
      "\n",
      " 29%|██▊       | 2/7 [00:00<00:01,  4.60it/s]\u001B[A\u001B[A\n",
      "\n",
      " 43%|████▎     | 3/7 [00:00<00:00,  4.54it/s]\u001B[A\u001B[A\n",
      "\n",
      " 57%|█████▋    | 4/7 [00:00<00:00,  4.26it/s]\u001B[A\u001B[A\n",
      "\n",
      " 71%|███████▏  | 5/7 [00:01<00:00,  4.31it/s]\u001B[A\u001B[A\n",
      "\n",
      "100%|██████████| 7/7 [00:01<00:00,  4.90it/s]\n",
      "Processing 2025-01 queries:  14%|█▎        | 67/492 [02:44<15:25,  2.18s/query]\n",
      "\n",
      "  0%|          | 0/7 [00:00<?, ?it/s]\u001B[A\u001B[A\n",
      "\n",
      " 14%|█▍        | 1/7 [00:00<00:01,  4.61it/s]\u001B[A\u001B[A\n",
      "\n",
      " 29%|██▊       | 2/7 [00:00<00:01,  4.52it/s]\u001B[A\u001B[A\n",
      "\n",
      " 43%|████▎     | 3/7 [00:00<00:00,  4.47it/s]\u001B[A\u001B[A\n",
      "\n",
      " 57%|█████▋    | 4/7 [00:00<00:00,  4.24it/s]\u001B[A\u001B[A\n",
      "\n",
      " 71%|███████▏  | 5/7 [00:01<00:00,  4.25it/s]\u001B[A\u001B[A\n",
      "\n",
      "100%|██████████| 7/7 [00:01<00:00,  4.84it/s]\n",
      "Processing 2025-01 queries:  14%|█▍        | 68/492 [02:46<16:42,  2.36s/query]"
     ]
    },
    {
     "output_type": "stream",
     "name": "stdout",
     "text": [
      "WARNING! Your documents have duplicate entries!  This will slow down calculation and may yield subpar results\n"
     ]
    },
    {
     "output_type": "stream",
     "name": "stderr",
     "text": [
      "\n",
      "\n",
      "  0%|          | 0/4 [00:00<?, ?it/s]\u001B[A\u001B[A\n",
      "\n",
      " 25%|██▌       | 1/4 [00:00<00:00,  4.73it/s]\u001B[A\u001B[A\n",
      "\n",
      " 50%|█████     | 2/4 [00:00<00:00,  4.58it/s]\u001B[A\u001B[A\n",
      "\n",
      " 75%|███████▌  | 3/4 [00:00<00:00,  4.52it/s]\u001B[A\u001B[A\n",
      "\n",
      "100%|██████████| 4/4 [00:00<00:00,  5.02it/s]\n",
      "Processing 2025-01 queries:  14%|█▍        | 69/492 [02:48<15:08,  2.15s/query]\n",
      "\n",
      "100%|██████████| 1/1 [00:00<00:00, 34.54it/s]\n",
      "Processing 2025-01 queries:  14%|█▍        | 70/492 [02:49<12:19,  1.75s/query]"
     ]
    },
    {
     "output_type": "stream",
     "name": "stdout",
     "text": [
      "WARNING! Your documents have duplicate entries!  This will slow down calculation and may yield subpar results\n"
     ]
    },
    {
     "output_type": "stream",
     "name": "stderr",
     "text": [
      "\n",
      "\n",
      "  0%|          | 0/7 [00:00<?, ?it/s]\u001B[A\u001B[A\n",
      "\n",
      " 14%|█▍        | 1/7 [00:00<00:01,  3.83it/s]\u001B[A\u001B[A\n",
      "\n",
      " 29%|██▊       | 2/7 [00:00<00:01,  4.13it/s]\u001B[A\u001B[A\n",
      "\n",
      " 43%|████▎     | 3/7 [00:00<00:00,  4.27it/s]\u001B[A\u001B[A\n",
      "\n",
      " 57%|█████▋    | 4/7 [00:00<00:00,  4.33it/s]\u001B[A\u001B[A\n",
      "\n",
      " 71%|███████▏  | 5/7 [00:01<00:00,  4.23it/s]\u001B[A\u001B[A\n",
      "\n",
      "100%|██████████| 7/7 [00:01<00:00,  4.71it/s]\n",
      "Processing 2025-01 queries:  14%|█▍        | 71/492 [02:54<19:57,  2.84s/query]"
     ]
    },
    {
     "output_type": "stream",
     "name": "stdout",
     "text": [
      "WARNING! Your documents have duplicate entries!  This will slow down calculation and may yield subpar results\n"
     ]
    },
    {
     "output_type": "stream",
     "name": "stderr",
     "text": [
      "\n",
      "\n",
      "  0%|          | 0/7 [00:00<?, ?it/s]\u001B[A\u001B[A\n",
      "\n",
      " 14%|█▍        | 1/7 [00:00<00:01,  4.66it/s]\u001B[A\u001B[A\n",
      "\n",
      " 29%|██▊       | 2/7 [00:00<00:01,  4.55it/s]\u001B[A\u001B[A\n",
      "\n",
      " 43%|████▎     | 3/7 [00:00<00:00,  4.50it/s]\u001B[A\u001B[A\n",
      "\n",
      " 57%|█████▋    | 4/7 [00:00<00:00,  4.18it/s]\u001B[A\u001B[A\n",
      "\n",
      " 71%|███████▏  | 5/7 [00:01<00:00,  4.22it/s]\u001B[A\u001B[A\n",
      "\n",
      "100%|██████████| 7/7 [00:01<00:00,  4.85it/s]\n",
      "Processing 2025-01 queries:  15%|█▍        | 72/492 [02:57<19:50,  2.83s/query]"
     ]
    },
    {
     "output_type": "stream",
     "name": "stdout",
     "text": [
      "WARNING! Your documents have duplicate entries!  This will slow down calculation and may yield subpar results\n"
     ]
    },
    {
     "output_type": "stream",
     "name": "stderr",
     "text": [
      "\n",
      "\n",
      "  0%|          | 0/7 [00:00<?, ?it/s]\u001B[A\u001B[A\n",
      "\n",
      " 14%|█▍        | 1/7 [00:00<00:01,  4.71it/s]\u001B[A\u001B[A\n",
      "\n",
      " 29%|██▊       | 2/7 [00:00<00:01,  4.57it/s]\u001B[A\u001B[A\n",
      "\n",
      " 43%|████▎     | 3/7 [00:00<00:00,  4.51it/s]\u001B[A\u001B[A\n",
      "\n",
      " 57%|█████▋    | 4/7 [00:00<00:00,  4.14it/s]\u001B[A\u001B[A\n",
      "\n",
      " 71%|███████▏  | 5/7 [00:01<00:00,  4.21it/s]\u001B[A\u001B[A\n",
      "\n",
      "100%|██████████| 7/7 [00:01<00:00,  4.84it/s]\n",
      "Processing 2025-01 queries:  15%|█▍        | 73/492 [03:00<19:41,  2.82s/query]"
     ]
    },
    {
     "output_type": "stream",
     "name": "stdout",
     "text": [
      "WARNING! Your documents have duplicate entries!  This will slow down calculation and may yield subpar results\n"
     ]
    },
    {
     "output_type": "stream",
     "name": "stderr",
     "text": [
      "\n",
      "\n",
      "  0%|          | 0/7 [00:00<?, ?it/s]\u001B[A\u001B[A\n",
      "\n",
      " 14%|█▍        | 1/7 [00:00<00:01,  4.66it/s]\u001B[A\u001B[A\n",
      "\n",
      " 29%|██▊       | 2/7 [00:00<00:01,  4.55it/s]\u001B[A\u001B[A\n",
      "\n",
      " 43%|████▎     | 3/7 [00:00<00:00,  4.51it/s]\u001B[A\u001B[A\n",
      "\n",
      " 57%|█████▋    | 4/7 [00:00<00:00,  4.36it/s]\u001B[A\u001B[A\n",
      "\n",
      " 71%|███████▏  | 5/7 [00:01<00:00,  4.34it/s]\u001B[A\u001B[A\n",
      "\n",
      "100%|██████████| 7/7 [00:01<00:00,  4.93it/s]\n",
      "Processing 2025-01 queries:  15%|█▌        | 74/492 [03:03<19:31,  2.80s/query]\n",
      "\n",
      "  0%|          | 0/1 [00:00<?, ?it/s]\u001B[A\u001B[A\n",
      "\n",
      "100%|██████████| 1/1 [00:00<00:00,  8.06it/s]\n",
      "Processing 2025-01 queries:  15%|█▌        | 75/492 [03:04<15:36,  2.25s/query]\n",
      "\n",
      "  0%|          | 0/7 [00:00<?, ?it/s]\u001B[A\u001B[A\n",
      "\n",
      " 14%|█▍        | 1/7 [00:00<00:01,  4.62it/s]\u001B[A\u001B[A\n",
      "\n",
      " 29%|██▊       | 2/7 [00:00<00:01,  4.54it/s]\u001B[A\u001B[A\n",
      "\n",
      " 43%|████▎     | 3/7 [00:00<00:00,  4.51it/s]\u001B[A\u001B[A\n",
      "\n",
      " 57%|█████▋    | 4/7 [00:00<00:00,  4.29it/s]\u001B[A\u001B[A\n",
      "\n",
      " 71%|███████▏  | 5/7 [00:01<00:00,  4.29it/s]\u001B[A\u001B[A\n",
      "\n",
      "100%|██████████| 7/7 [00:01<00:00,  4.90it/s]\n",
      "Processing 2025-01 queries:  15%|█▌        | 76/492 [03:06<16:37,  2.40s/query]"
     ]
    },
    {
     "output_type": "stream",
     "name": "stdout",
     "text": [
      "WARNING! Your documents have duplicate entries!  This will slow down calculation and may yield subpar results\n"
     ]
    },
    {
     "output_type": "stream",
     "name": "stderr",
     "text": [
      "\n",
      "\n",
      "  0%|          | 0/7 [00:00<?, ?it/s]\u001B[A\u001B[A\n",
      "\n",
      " 14%|█▍        | 1/7 [00:00<00:01,  4.76it/s]\u001B[A\u001B[A\n",
      "\n",
      " 29%|██▊       | 2/7 [00:00<00:01,  4.59it/s]\u001B[A\u001B[A\n",
      "\n",
      " 43%|████▎     | 3/7 [00:00<00:00,  4.55it/s]\u001B[A\u001B[A\n",
      "\n",
      " 57%|█████▋    | 4/7 [00:00<00:00,  4.36it/s]\u001B[A\u001B[A\n",
      "\n",
      " 71%|███████▏  | 5/7 [00:01<00:00,  4.33it/s]\u001B[A\u001B[A\n",
      "\n",
      "100%|██████████| 7/7 [00:01<00:00,  4.94it/s]\n",
      "Processing 2025-01 queries:  16%|█▌        | 77/492 [03:09<17:12,  2.49s/query]"
     ]
    },
    {
     "output_type": "stream",
     "name": "stdout",
     "text": [
      "WARNING! Your documents have duplicate entries!  This will slow down calculation and may yield subpar results\n"
     ]
    },
    {
     "output_type": "stream",
     "name": "stderr",
     "text": [
      "\n",
      "\n",
      "  0%|          | 0/1 [00:00<?, ?it/s]\u001B[A\u001B[A\n",
      "\n",
      "100%|██████████| 1/1 [00:00<00:00,  6.11it/s]\n",
      "Processing 2025-01 queries:  16%|█▌        | 78/492 [03:10<14:01,  2.03s/query]\n",
      "\n",
      "  0%|          | 0/2 [00:00<?, ?it/s]\u001B[A\u001B[A\n",
      "\n",
      "100%|██████████| 2/2 [00:00<00:00,  6.91it/s]\n",
      "Processing 2025-01 queries:  16%|█▌        | 79/492 [03:11<12:09,  1.77s/query]"
     ]
    },
    {
     "output_type": "stream",
     "name": "stdout",
     "text": [
      "WARNING! Your documents have duplicate entries!  This will slow down calculation and may yield subpar results\n"
     ]
    },
    {
     "output_type": "stream",
     "name": "stderr",
     "text": [
      "\n",
      "\n",
      "  0%|          | 0/7 [00:00<?, ?it/s]\u001B[A\u001B[A\n",
      "\n",
      " 14%|█▍        | 1/7 [00:00<00:01,  4.61it/s]\u001B[A\u001B[A\n",
      "\n",
      " 29%|██▊       | 2/7 [00:00<00:01,  4.55it/s]\u001B[A\u001B[A\n",
      "\n",
      " 43%|████▎     | 3/7 [00:00<00:00,  4.53it/s]\u001B[A\u001B[A\n",
      "\n",
      " 57%|█████▋    | 4/7 [00:00<00:00,  4.37it/s]\u001B[A\u001B[A\n",
      "\n",
      " 71%|███████▏  | 5/7 [00:01<00:00,  4.31it/s]\u001B[A\u001B[A\n",
      "\n",
      "100%|██████████| 7/7 [00:01<00:00,  4.91it/s]\n",
      "Processing 2025-01 queries:  16%|█▋        | 80/492 [03:14<14:12,  2.07s/query]"
     ]
    },
    {
     "output_type": "stream",
     "name": "stdout",
     "text": [
      "INFO: Processed 80/492 queries for 2025-01. Avg time/query: 2430.63 ms.\n"
     ]
    },
    {
     "output_type": "stream",
     "name": "stderr",
     "text": [
      "\n",
      "\n",
      "  0%|          | 0/7 [00:00<?, ?it/s]\u001B[A\u001B[A\n",
      "\n",
      " 14%|█▍        | 1/7 [00:00<00:01,  4.70it/s]\u001B[A\u001B[A\n",
      "\n",
      " 29%|██▊       | 2/7 [00:00<00:01,  4.57it/s]\u001B[A\u001B[A\n",
      "\n",
      " 43%|████▎     | 3/7 [00:00<00:00,  4.53it/s]\u001B[A\u001B[A\n",
      "\n",
      " 57%|█████▋    | 4/7 [00:00<00:00,  4.28it/s]\u001B[A\u001B[A\n",
      "\n",
      " 71%|███████▏  | 5/7 [00:01<00:00,  4.28it/s]\u001B[A\u001B[A\n",
      "\n",
      "100%|██████████| 7/7 [00:01<00:00,  4.89it/s]\n",
      "Processing 2025-01 queries:  16%|█▋        | 81/492 [03:16<14:40,  2.14s/query]\n",
      "\n",
      "  0%|          | 0/1 [00:00<?, ?it/s]\u001B[A\u001B[A\n",
      "\n",
      "100%|██████████| 1/1 [00:00<00:00,  8.73it/s]\n",
      "Processing 2025-01 queries:  17%|█▋        | 82/492 [03:17<12:11,  1.78s/query]"
     ]
    },
    {
     "output_type": "stream",
     "name": "stdout",
     "text": [
      "WARNING! Your documents have duplicate entries!  This will slow down calculation and may yield subpar results\n"
     ]
    },
    {
     "output_type": "stream",
     "name": "stderr",
     "text": [
      "\n",
      "\n",
      "  0%|          | 0/6 [00:00<?, ?it/s]\u001B[A\u001B[A\n",
      "\n",
      " 17%|█▋        | 1/6 [00:00<00:01,  4.55it/s]\u001B[A\u001B[A\n",
      "\n",
      " 33%|███▎      | 2/6 [00:00<00:00,  4.51it/s]\u001B[A\u001B[A\n",
      "\n",
      " 50%|█████     | 3/6 [00:00<00:00,  4.47it/s]\u001B[A\u001B[A\n",
      "\n",
      " 67%|██████▋   | 4/6 [00:00<00:00,  4.27it/s]\u001B[A\u001B[A\n",
      "\n",
      " 83%|████████▎ | 5/6 [00:01<00:00,  4.35it/s]\u001B[A\u001B[A\n",
      "\n",
      "100%|██████████| 6/6 [00:01<00:00,  4.65it/s]\n",
      "Processing 2025-01 queries:  17%|█▋        | 83/492 [03:19<13:01,  1.91s/query]"
     ]
    },
    {
     "output_type": "stream",
     "name": "stdout",
     "text": [
      "WARNING! Your documents have duplicate entries!  This will slow down calculation and may yield subpar results\n"
     ]
    },
    {
     "output_type": "stream",
     "name": "stderr",
     "text": [
      "\n",
      "\n",
      "  0%|          | 0/7 [00:00<?, ?it/s]\u001B[A\u001B[A\n",
      "\n",
      " 14%|█▍        | 1/7 [00:00<00:01,  4.68it/s]\u001B[A\u001B[A\n",
      "\n",
      " 29%|██▊       | 2/7 [00:00<00:01,  4.56it/s]\u001B[A\u001B[A\n",
      "\n",
      " 43%|████▎     | 3/7 [00:00<00:00,  4.52it/s]\u001B[A\u001B[A\n",
      "\n",
      " 57%|█████▋    | 4/7 [00:00<00:00,  4.42it/s]\u001B[A\u001B[A\n",
      "\n",
      " 71%|███████▏  | 5/7 [00:01<00:00,  4.25it/s]\u001B[A\u001B[A\n",
      "\n",
      "100%|██████████| 7/7 [00:01<00:00,  4.89it/s]\n",
      "Processing 2025-01 queries:  17%|█▋        | 84/492 [03:22<13:48,  2.03s/query]\n",
      "\n",
      "  0%|          | 0/2 [00:00<?, ?it/s]\u001B[A\u001B[A\n",
      "\n",
      "100%|██████████| 2/2 [00:00<00:00,  7.73it/s]\n",
      "Processing 2025-01 queries:  17%|█▋        | 85/492 [03:23<11:53,  1.75s/query]\n",
      "\n",
      "  0%|          | 0/7 [00:00<?, ?it/s]\u001B[A\u001B[A\n",
      "\n",
      " 14%|█▍        | 1/7 [00:00<00:01,  4.65it/s]\u001B[A\u001B[A\n",
      "\n",
      " 29%|██▊       | 2/7 [00:00<00:01,  4.56it/s]\u001B[A\u001B[A\n",
      "\n",
      " 43%|████▎     | 3/7 [00:00<00:00,  4.53it/s]\u001B[A\u001B[A\n",
      "\n",
      " 57%|█████▋    | 4/7 [00:00<00:00,  4.45it/s]\u001B[A\u001B[A\n",
      "\n",
      " 71%|███████▏  | 5/7 [00:01<00:00,  4.20it/s]\u001B[A\u001B[A\n",
      "\n",
      "100%|██████████| 7/7 [00:01<00:00,  4.87it/s]\n",
      "Processing 2025-01 queries:  17%|█▋        | 86/492 [03:25<13:01,  1.93s/query]"
     ]
    },
    {
     "output_type": "stream",
     "name": "stdout",
     "text": [
      "WARNING! Your documents have duplicate entries!  This will slow down calculation and may yield subpar results\n"
     ]
    },
    {
     "output_type": "stream",
     "name": "stderr",
     "text": [
      "\n",
      "\n",
      "  0%|          | 0/7 [00:00<?, ?it/s]\u001B[A\u001B[A\n",
      "\n",
      " 14%|█▍        | 1/7 [00:00<00:01,  4.69it/s]\u001B[A\u001B[A\n",
      "\n",
      " 29%|██▊       | 2/7 [00:00<00:01,  4.55it/s]\u001B[A\u001B[A\n",
      "\n",
      " 43%|████▎     | 3/7 [00:00<00:00,  4.50it/s]\u001B[A\u001B[A\n",
      "\n",
      " 57%|█████▋    | 4/7 [00:00<00:00,  4.14it/s]\u001B[A\u001B[A\n",
      "\n",
      " 71%|███████▏  | 5/7 [00:01<00:00,  4.23it/s]\u001B[A\u001B[A\n",
      "\n",
      "100%|██████████| 7/7 [00:01<00:00,  4.86it/s]\n",
      "Processing 2025-01 queries:  18%|█▊        | 87/492 [03:28<13:51,  2.05s/query]"
     ]
    },
    {
     "output_type": "stream",
     "name": "stdout",
     "text": [
      "WARNING! Your documents have duplicate entries!  This will slow down calculation and may yield subpar results\n"
     ]
    },
    {
     "output_type": "stream",
     "name": "stderr",
     "text": [
      "\n",
      "\n",
      "  0%|          | 0/7 [00:00<?, ?it/s]\u001B[A\u001B[A\n",
      "\n",
      " 14%|█▍        | 1/7 [00:00<00:01,  4.50it/s]\u001B[A\u001B[A\n",
      "\n",
      " 29%|██▊       | 2/7 [00:00<00:01,  4.48it/s]\u001B[A\u001B[A\n",
      "\n",
      " 43%|████▎     | 3/7 [00:00<00:00,  4.48it/s]\u001B[A\u001B[A\n",
      "\n",
      " 57%|█████▋    | 4/7 [00:00<00:00,  4.31it/s]\u001B[A\u001B[A\n",
      "\n",
      " 71%|███████▏  | 5/7 [00:01<00:00,  4.32it/s]\u001B[A\u001B[A\n",
      "\n",
      "100%|██████████| 7/7 [00:01<00:00,  4.88it/s]\n",
      "Processing 2025-01 queries:  18%|█▊        | 88/492 [03:30<14:28,  2.15s/query]"
     ]
    },
    {
     "output_type": "stream",
     "name": "stdout",
     "text": [
      "WARNING! Your documents have duplicate entries!  This will slow down calculation and may yield subpar results\n"
     ]
    },
    {
     "output_type": "stream",
     "name": "stderr",
     "text": [
      "\n",
      "\n",
      "  0%|          | 0/7 [00:00<?, ?it/s]\u001B[A\u001B[A\n",
      "\n",
      " 14%|█▍        | 1/7 [00:00<00:01,  4.65it/s]\u001B[A\u001B[A\n",
      "\n",
      " 29%|██▊       | 2/7 [00:00<00:01,  4.57it/s]\u001B[A\u001B[A\n",
      "\n",
      " 43%|████▎     | 3/7 [00:00<00:00,  4.55it/s]\u001B[A\u001B[A\n",
      "\n",
      " 57%|█████▋    | 4/7 [00:00<00:00,  4.51it/s]\u001B[A\u001B[A\n",
      "\n",
      " 71%|███████▏  | 5/7 [00:01<00:00,  4.27it/s]\u001B[A\u001B[A\n",
      "\n",
      "100%|██████████| 7/7 [00:01<00:00,  4.91it/s]\n",
      "Processing 2025-01 queries:  18%|█▊        | 89/492 [03:33<15:37,  2.33s/query]"
     ]
    },
    {
     "output_type": "stream",
     "name": "stdout",
     "text": [
      "WARNING! Your documents have duplicate entries!  This will slow down calculation and may yield subpar results\n"
     ]
    },
    {
     "output_type": "stream",
     "name": "stderr",
     "text": [
      "\n",
      "\n",
      "  0%|          | 0/7 [00:00<?, ?it/s]\u001B[A\u001B[A\n",
      "\n",
      " 14%|█▍        | 1/7 [00:00<00:01,  4.72it/s]\u001B[A\u001B[A\n",
      "\n",
      " 29%|██▊       | 2/7 [00:00<00:01,  4.58it/s]\u001B[A\u001B[A\n",
      "\n",
      " 43%|████▎     | 3/7 [00:00<00:00,  4.55it/s]\u001B[A\u001B[A\n",
      "\n",
      " 57%|█████▋    | 4/7 [00:00<00:00,  4.26it/s]\u001B[A\u001B[A\n",
      "\n",
      " 71%|███████▏  | 5/7 [00:01<00:00,  4.31it/s]\u001B[A\u001B[A\n",
      "\n",
      "100%|██████████| 7/7 [00:01<00:00,  4.93it/s]\n",
      "Processing 2025-01 queries:  18%|█▊        | 90/492 [03:35<16:33,  2.47s/query]\n",
      "\n",
      "  0%|          | 0/7 [00:00<?, ?it/s]\u001B[A\u001B[A\n",
      "\n",
      " 14%|█▍        | 1/7 [00:00<00:01,  4.69it/s]\u001B[A\u001B[A\n",
      "\n",
      " 29%|██▊       | 2/7 [00:00<00:01,  4.57it/s]\u001B[A\u001B[A\n",
      "\n",
      " 43%|████▎     | 3/7 [00:00<00:00,  4.54it/s]\u001B[A\u001B[A\n",
      "\n",
      " 57%|█████▋    | 4/7 [00:00<00:00,  4.31it/s]\u001B[A\u001B[A\n",
      "\n",
      " 71%|███████▏  | 5/7 [00:01<00:00,  4.33it/s]\u001B[A\u001B[A\n",
      "\n",
      "100%|██████████| 7/7 [00:01<00:00,  4.96it/s]\n",
      "Processing 2025-01 queries:  18%|█▊        | 91/492 [03:38<17:11,  2.57s/query]"
     ]
    },
    {
     "output_type": "stream",
     "name": "stdout",
     "text": [
      "WARNING! Your documents have duplicate entries!  This will slow down calculation and may yield subpar results\n"
     ]
    },
    {
     "output_type": "stream",
     "name": "stderr",
     "text": [
      "\n",
      "\n",
      "  0%|          | 0/7 [00:00<?, ?it/s]\u001B[A\u001B[A\n",
      "\n",
      " 14%|█▍        | 1/7 [00:00<00:01,  4.70it/s]\u001B[A\u001B[A\n",
      "\n",
      " 29%|██▊       | 2/7 [00:00<00:01,  4.57it/s]\u001B[A\u001B[A\n",
      "\n",
      " 43%|████▎     | 3/7 [00:00<00:00,  4.55it/s]\u001B[A\u001B[A\n",
      "\n",
      " 57%|█████▋    | 4/7 [00:00<00:00,  4.32it/s]\u001B[A\u001B[A\n",
      "\n",
      " 71%|███████▏  | 5/7 [00:01<00:00,  4.34it/s]\u001B[A\u001B[A\n",
      "\n",
      "100%|██████████| 7/7 [00:01<00:00,  4.95it/s]\n",
      "Processing 2025-01 queries:  19%|█▊        | 92/492 [03:41<16:50,  2.53s/query]"
     ]
    },
    {
     "output_type": "stream",
     "name": "stdout",
     "text": [
      "WARNING! Your documents have duplicate entries!  This will slow down calculation and may yield subpar results\n"
     ]
    },
    {
     "output_type": "stream",
     "name": "stderr",
     "text": [
      "\n",
      "\n",
      "  0%|          | 0/7 [00:00<?, ?it/s]\u001B[A\u001B[A\n",
      "\n",
      " 14%|█▍        | 1/7 [00:00<00:01,  4.74it/s]\u001B[A\u001B[A\n",
      "\n",
      " 29%|██▊       | 2/7 [00:00<00:01,  4.62it/s]\u001B[A\u001B[A\n",
      "\n",
      " 43%|████▎     | 3/7 [00:00<00:00,  4.56it/s]\u001B[A\u001B[A\n",
      "\n",
      " 57%|█████▋    | 4/7 [00:00<00:00,  4.31it/s]\u001B[A\u001B[A\n",
      "\n",
      " 71%|███████▏  | 5/7 [00:01<00:00,  4.33it/s]\u001B[A\u001B[A\n",
      "\n",
      "100%|██████████| 7/7 [00:01<00:00,  4.96it/s]\n",
      "Processing 2025-01 queries:  19%|█▉        | 93/492 [03:43<16:30,  2.48s/query]\n",
      "\n",
      "  0%|          | 0/1 [00:00<?, ?it/s]\u001B[A\u001B[A\n",
      "\n",
      "100%|██████████| 1/1 [00:00<00:00,  6.08it/s]\n",
      "Processing 2025-01 queries:  19%|█▉        | 94/492 [03:44<13:25,  2.02s/query]\n",
      "\n",
      "  0%|          | 0/7 [00:00<?, ?it/s]\u001B[A\u001B[A\n",
      "\n",
      " 14%|█▍        | 1/7 [00:00<00:01,  4.72it/s]\u001B[A\u001B[A\n",
      "\n",
      " 29%|██▊       | 2/7 [00:00<00:01,  4.63it/s]\u001B[A\u001B[A\n",
      "\n",
      " 43%|████▎     | 3/7 [00:00<00:00,  4.60it/s]\u001B[A\u001B[A\n",
      "\n",
      " 57%|█████▋    | 4/7 [00:00<00:00,  4.55it/s]\u001B[A\u001B[A\n",
      "\n",
      " 71%|███████▏  | 5/7 [00:01<00:00,  4.30it/s]\u001B[A\u001B[A\n",
      "\n",
      "100%|██████████| 7/7 [00:01<00:00,  4.94it/s]\n",
      "Processing 2025-01 queries:  19%|█▉        | 95/492 [03:47<14:40,  2.22s/query]\n",
      "\n",
      "  0%|          | 0/2 [00:00<?, ?it/s]\u001B[A\u001B[A\n",
      "\n",
      " 50%|█████     | 1/2 [00:00<00:00,  4.62it/s]\u001B[A\u001B[A\n",
      "\n",
      "100%|██████████| 2/2 [00:00<00:00,  5.37it/s]\n",
      "Processing 2025-01 queries:  20%|█▉        | 96/492 [03:48<12:39,  1.92s/query]"
     ]
    },
    {
     "output_type": "stream",
     "name": "stdout",
     "text": [
      "WARNING! Your documents have duplicate entries!  This will slow down calculation and may yield subpar results\n"
     ]
    },
    {
     "output_type": "stream",
     "name": "stderr",
     "text": [
      "\n",
      "\n",
      "  0%|          | 0/7 [00:00<?, ?it/s]\u001B[A\u001B[A\n",
      "\n",
      " 14%|█▍        | 1/7 [00:00<00:01,  4.65it/s]\u001B[A\u001B[A\n",
      "\n",
      " 29%|██▊       | 2/7 [00:00<00:01,  4.61it/s]\u001B[A\u001B[A\n",
      "\n",
      " 43%|████▎     | 3/7 [00:00<00:00,  4.56it/s]\u001B[A\u001B[A\n",
      "\n",
      " 57%|█████▋    | 4/7 [00:00<00:00,  4.38it/s]\u001B[A\u001B[A\n",
      "\n",
      " 71%|███████▏  | 5/7 [00:01<00:00,  4.33it/s]\u001B[A\u001B[A\n",
      "\n",
      "100%|██████████| 7/7 [00:01<00:00,  4.95it/s]\n",
      "Processing 2025-01 queries:  20%|█▉        | 97/492 [03:50<13:23,  2.03s/query]"
     ]
    },
    {
     "output_type": "stream",
     "name": "stdout",
     "text": [
      "WARNING! Your documents have duplicate entries!  This will slow down calculation and may yield subpar results\n"
     ]
    },
    {
     "output_type": "stream",
     "name": "stderr",
     "text": [
      "\n",
      "\n",
      "  0%|          | 0/7 [00:00<?, ?it/s]\u001B[A\u001B[A\n",
      "\n",
      " 14%|█▍        | 1/7 [00:00<00:01,  4.74it/s]\u001B[A\u001B[A\n",
      "\n",
      " 29%|██▊       | 2/7 [00:00<00:01,  4.63it/s]\u001B[A\u001B[A\n",
      "\n",
      " 43%|████▎     | 3/7 [00:00<00:00,  4.56it/s]\u001B[A\u001B[A\n",
      "\n",
      " 57%|█████▋    | 4/7 [00:00<00:00,  4.32it/s]\u001B[A\u001B[A\n",
      "\n",
      " 71%|███████▏  | 5/7 [00:01<00:00,  4.34it/s]\u001B[A\u001B[A\n",
      "\n",
      "100%|██████████| 7/7 [00:01<00:00,  4.95it/s]\n",
      "Processing 2025-01 queries:  20%|█▉        | 98/492 [03:53<14:45,  2.25s/query]"
     ]
    },
    {
     "output_type": "stream",
     "name": "stdout",
     "text": [
      "WARNING! Your documents have duplicate entries!  This will slow down calculation and may yield subpar results\n"
     ]
    },
    {
     "output_type": "stream",
     "name": "stderr",
     "text": [
      "\n",
      "\n",
      "  0%|          | 0/7 [00:00<?, ?it/s]\u001B[A\u001B[A\n",
      "\n",
      " 14%|█▍        | 1/7 [00:00<00:01,  4.70it/s]\u001B[A\u001B[A\n",
      "\n",
      " 29%|██▊       | 2/7 [00:00<00:01,  4.61it/s]\u001B[A\u001B[A\n",
      "\n",
      " 43%|████▎     | 3/7 [00:00<00:00,  4.60it/s]\u001B[A\u001B[A\n",
      "\n",
      " 57%|█████▋    | 4/7 [00:00<00:00,  4.37it/s]\u001B[A\u001B[A\n",
      "\n",
      " 71%|███████▏  | 5/7 [00:01<00:00,  4.35it/s]\u001B[A\u001B[A\n",
      "\n",
      "100%|██████████| 7/7 [00:01<00:00,  4.97it/s]\n",
      "Processing 2025-01 queries:  20%|██        | 99/492 [03:56<15:38,  2.39s/query]\n",
      "\n",
      "  0%|          | 0/7 [00:00<?, ?it/s]\u001B[A\u001B[A\n",
      "\n",
      " 14%|█▍        | 1/7 [00:00<00:01,  4.64it/s]\u001B[A\u001B[A\n",
      "\n",
      " 29%|██▊       | 2/7 [00:00<00:01,  4.58it/s]\u001B[A\u001B[A\n",
      "\n",
      " 43%|████▎     | 3/7 [00:00<00:00,  4.56it/s]\u001B[A\u001B[A\n",
      "\n",
      " 57%|█████▋    | 4/7 [00:00<00:00,  4.31it/s]\u001B[A\u001B[A\n",
      "\n",
      " 71%|███████▏  | 5/7 [00:01<00:00,  4.34it/s]\u001B[A\u001B[A\n",
      "\n",
      "100%|██████████| 7/7 [00:01<00:00,  4.94it/s]\n",
      "Processing 2025-01 queries:  20%|██        | 100/492 [03:58<15:23,  2.36s/query]"
     ]
    },
    {
     "output_type": "stream",
     "name": "stdout",
     "text": [
      "INFO: Processed 100/492 queries for 2025-01. Avg time/query: 2384.18 ms.\n",
      "WARNING! Your documents have duplicate entries!  This will slow down calculation and may yield subpar results\n"
     ]
    },
    {
     "output_type": "stream",
     "name": "stderr",
     "text": [
      "\n",
      "\n",
      "  0%|          | 0/7 [00:00<?, ?it/s]\u001B[A\u001B[A\n",
      "\n",
      " 14%|█▍        | 1/7 [00:00<00:01,  3.63it/s]\u001B[A\u001B[A\n",
      "\n",
      " 29%|██▊       | 2/7 [00:00<00:01,  4.10it/s]\u001B[A\u001B[A\n",
      "\n",
      " 43%|████▎     | 3/7 [00:00<00:00,  4.28it/s]\u001B[A\u001B[A\n",
      "\n",
      " 57%|█████▋    | 4/7 [00:00<00:00,  4.36it/s]\u001B[A\u001B[A\n",
      "\n",
      " 71%|███████▏  | 5/7 [00:01<00:00,  4.22it/s]\u001B[A\u001B[A\n",
      "\n",
      "100%|██████████| 7/7 [00:01<00:00,  4.74it/s]\n",
      "Processing 2025-01 queries:  21%|██        | 101/492 [04:02<18:05,  2.78s/query]\n",
      "\n",
      "  0%|          | 0/7 [00:00<?, ?it/s]\u001B[A\u001B[A\n",
      "\n",
      " 14%|█▍        | 1/7 [00:00<00:01,  4.60it/s]\u001B[A\u001B[A\n",
      "\n",
      " 29%|██▊       | 2/7 [00:00<00:01,  4.56it/s]\u001B[A\u001B[A\n",
      "\n",
      " 43%|████▎     | 3/7 [00:00<00:00,  4.54it/s]\u001B[A\u001B[A\n",
      "\n",
      " 57%|█████▋    | 4/7 [00:00<00:00,  4.27it/s]\u001B[A\u001B[A\n",
      "\n",
      " 71%|███████▏  | 5/7 [00:01<00:00,  4.33it/s]\u001B[A\u001B[A\n",
      "\n",
      "100%|██████████| 7/7 [00:01<00:00,  4.91it/s]\n",
      "Processing 2025-01 queries:  21%|██        | 102/492 [04:04<17:13,  2.65s/query]"
     ]
    },
    {
     "output_type": "stream",
     "name": "stdout",
     "text": [
      "WARNING! Your documents have duplicate entries!  This will slow down calculation and may yield subpar results\n"
     ]
    },
    {
     "output_type": "stream",
     "name": "stderr",
     "text": [
      "\n",
      "\n",
      "  0%|          | 0/7 [00:00<?, ?it/s]\u001B[A\u001B[A\n",
      "\n",
      " 14%|█▍        | 1/7 [00:00<00:01,  4.72it/s]\u001B[A\u001B[A\n",
      "\n",
      " 29%|██▊       | 2/7 [00:00<00:01,  4.61it/s]\u001B[A\u001B[A\n",
      "\n",
      " 43%|████▎     | 3/7 [00:00<00:00,  4.56it/s]\u001B[A\u001B[A\n",
      "\n",
      " 57%|█████▋    | 4/7 [00:00<00:00,  4.31it/s]\u001B[A\u001B[A\n",
      "\n",
      " 71%|███████▏  | 5/7 [00:01<00:00,  4.33it/s]\u001B[A\u001B[A\n",
      "\n",
      "100%|██████████| 7/7 [00:01<00:00,  4.94it/s]\n",
      "Processing 2025-01 queries:  21%|██        | 103/492 [04:06<16:39,  2.57s/query]\n",
      "\n",
      "  0%|          | 0/4 [00:00<?, ?it/s]\u001B[A\u001B[A\n",
      "\n",
      " 25%|██▌       | 1/4 [00:00<00:00,  4.68it/s]\u001B[A\u001B[A\n",
      "\n",
      " 50%|█████     | 2/4 [00:00<00:00,  4.54it/s]\u001B[A\u001B[A\n",
      "\n",
      "100%|██████████| 4/4 [00:00<00:00,  5.87it/s]\n",
      "Processing 2025-01 queries:  21%|██        | 104/492 [04:08<14:37,  2.26s/query]"
     ]
    },
    {
     "output_type": "stream",
     "name": "stdout",
     "text": [
      "WARNING! Your documents have duplicate entries!  This will slow down calculation and may yield subpar results\n"
     ]
    },
    {
     "output_type": "stream",
     "name": "stderr",
     "text": [
      "\n",
      "\n",
      "  0%|          | 0/7 [00:00<?, ?it/s]\u001B[A\u001B[A\n",
      "\n",
      " 14%|█▍        | 1/7 [00:00<00:01,  3.66it/s]\u001B[A\u001B[A\n",
      "\n",
      " 29%|██▊       | 2/7 [00:00<00:01,  4.14it/s]\u001B[A\u001B[A\n",
      "\n",
      " 43%|████▎     | 3/7 [00:00<00:00,  4.30it/s]\u001B[A\u001B[A\n",
      "\n",
      " 57%|█████▋    | 4/7 [00:00<00:00,  4.36it/s]\u001B[A\u001B[A\n",
      "\n",
      " 71%|███████▏  | 5/7 [00:01<00:00,  4.25it/s]\u001B[A\u001B[A\n",
      "\n",
      "100%|██████████| 7/7 [00:01<00:00,  4.75it/s]\n",
      "Processing 2025-01 queries:  21%|██▏       | 105/492 [04:12<17:31,  2.72s/query]"
     ]
    },
    {
     "output_type": "stream",
     "name": "stdout",
     "text": [
      "WARNING! Your documents have duplicate entries!  This will slow down calculation and may yield subpar results\n"
     ]
    },
    {
     "output_type": "stream",
     "name": "stderr",
     "text": [
      "\n",
      "\n",
      "  0%|          | 0/6 [00:00<?, ?it/s]\u001B[A\u001B[A\n",
      "\n",
      " 17%|█▋        | 1/6 [00:00<00:01,  4.67it/s]\u001B[A\u001B[A\n",
      "\n",
      " 33%|███▎      | 2/6 [00:00<00:00,  4.55it/s]\u001B[A\u001B[A\n",
      "\n",
      " 50%|█████     | 3/6 [00:00<00:00,  4.51it/s]\u001B[A\u001B[A\n",
      "\n",
      " 67%|██████▋   | 4/6 [00:00<00:00,  4.33it/s]\u001B[A\u001B[A\n",
      "\n",
      " 83%|████████▎ | 5/6 [00:01<00:00,  4.40it/s]\u001B[A\u001B[A\n",
      "\n",
      "100%|██████████| 6/6 [00:01<00:00,  4.45it/s]\n",
      "Processing 2025-01 queries:  22%|██▏       | 106/492 [04:14<16:43,  2.60s/query]"
     ]
    },
    {
     "output_type": "stream",
     "name": "stdout",
     "text": [
      "WARNING! Your documents have duplicate entries!  This will slow down calculation and may yield subpar results\n"
     ]
    },
    {
     "output_type": "stream",
     "name": "stderr",
     "text": [
      "\n",
      "\n",
      "  0%|          | 0/7 [00:00<?, ?it/s]\u001B[A\u001B[A\n",
      "\n",
      " 14%|█▍        | 1/7 [00:00<00:01,  3.78it/s]\u001B[A\u001B[A\n",
      "\n",
      " 29%|██▊       | 2/7 [00:00<00:01,  4.18it/s]\u001B[A\u001B[A\n",
      "\n",
      " 43%|████▎     | 3/7 [00:00<00:00,  4.33it/s]\u001B[A\u001B[A\n",
      "\n",
      " 57%|█████▋    | 4/7 [00:00<00:00,  4.39it/s]\u001B[A\u001B[A\n",
      "\n",
      " 71%|███████▏  | 5/7 [00:01<00:00,  4.22it/s]\u001B[A\u001B[A\n",
      "\n",
      "100%|██████████| 7/7 [00:01<00:00,  4.76it/s]\n",
      "Processing 2025-01 queries:  22%|██▏       | 107/492 [04:18<19:40,  3.07s/query]"
     ]
    },
    {
     "output_type": "stream",
     "name": "stdout",
     "text": [
      "WARNING! Your documents have duplicate entries!  This will slow down calculation and may yield subpar results\n"
     ]
    },
    {
     "output_type": "stream",
     "name": "stderr",
     "text": [
      "\n",
      "\n",
      "  0%|          | 0/7 [00:00<?, ?it/s]\u001B[A\u001B[A\n",
      "\n",
      " 14%|█▍        | 1/7 [00:00<00:01,  4.69it/s]\u001B[A\u001B[A\n",
      "\n",
      " 29%|██▊       | 2/7 [00:00<00:01,  4.62it/s]\u001B[A\u001B[A\n",
      "\n",
      " 43%|████▎     | 3/7 [00:00<00:00,  4.54it/s]\u001B[A\u001B[A\n",
      "\n",
      " 57%|█████▋    | 4/7 [00:00<00:00,  4.50it/s]\u001B[A\u001B[A\n",
      "\n",
      " 71%|███████▏  | 5/7 [00:01<00:00,  4.28it/s]\u001B[A\u001B[A\n",
      "\n",
      "100%|██████████| 7/7 [00:01<00:00,  4.94it/s]\n",
      "Processing 2025-01 queries:  22%|██▏       | 108/492 [04:21<18:12,  2.85s/query]\n",
      "\n",
      "  0%|          | 0/3 [00:00<?, ?it/s]\u001B[A\u001B[A\n",
      "\n",
      " 33%|███▎      | 1/3 [00:00<00:00,  4.64it/s]\u001B[A\u001B[A\n",
      "\n",
      " 67%|██████▋   | 2/3 [00:00<00:00,  4.68it/s]\u001B[A\u001B[A\n",
      "\n",
      "100%|██████████| 3/3 [00:00<00:00,  5.02it/s]\n",
      "Processing 2025-01 queries:  22%|██▏       | 109/492 [04:22<15:33,  2.44s/query]\n",
      "\n",
      "  0%|          | 0/7 [00:00<?, ?it/s]\u001B[A\u001B[A\n",
      "\n",
      " 14%|█▍        | 1/7 [00:00<00:01,  4.66it/s]\u001B[A\u001B[A\n",
      "\n",
      " 29%|██▊       | 2/7 [00:00<00:01,  4.54it/s]\u001B[A\u001B[A\n",
      "\n",
      " 43%|████▎     | 3/7 [00:00<00:00,  4.62it/s]\u001B[A\u001B[A\n",
      "\n",
      " 57%|█████▋    | 4/7 [00:00<00:00,  4.47it/s]\u001B[A\u001B[A\n",
      "\n",
      " 71%|███████▏  | 5/7 [00:01<00:00,  4.44it/s]\u001B[A\u001B[A\n",
      "\n",
      "100%|██████████| 7/7 [00:01<00:00,  5.05it/s]\n",
      "Processing 2025-01 queries:  22%|██▏       | 110/492 [04:25<16:10,  2.54s/query]"
     ]
    },
    {
     "output_type": "stream",
     "name": "stdout",
     "text": [
      "WARNING! Your documents have duplicate entries!  This will slow down calculation and may yield subpar results\n"
     ]
    },
    {
     "output_type": "stream",
     "name": "stderr",
     "text": [
      "\n",
      "\n",
      "  0%|          | 0/7 [00:00<?, ?it/s]\u001B[A\u001B[A\n",
      "\n",
      " 14%|█▍        | 1/7 [00:00<00:01,  4.63it/s]\u001B[A\u001B[A\n",
      "\n",
      " 29%|██▊       | 2/7 [00:00<00:01,  4.54it/s]\u001B[A\u001B[A\n",
      "\n",
      " 43%|████▎     | 3/7 [00:00<00:00,  4.49it/s]\u001B[A\u001B[A\n",
      "\n",
      " 57%|█████▋    | 4/7 [00:00<00:00,  4.30it/s]\u001B[A\u001B[A\n",
      "\n",
      " 71%|███████▏  | 5/7 [00:01<00:00,  4.38it/s]\u001B[A\u001B[A\n",
      "\n",
      "100%|██████████| 7/7 [00:01<00:00,  4.97it/s]\n",
      "Processing 2025-01 queries:  23%|██▎       | 111/492 [04:28<16:33,  2.61s/query]\n",
      "\n",
      "100%|██████████| 1/1 [00:00<00:00, 13.62it/s]\n",
      "Processing 2025-01 queries:  23%|██▎       | 112/492 [04:29<13:16,  2.10s/query]\n",
      "\n",
      "  0%|          | 0/7 [00:00<?, ?it/s]\u001B[A\u001B[A\n",
      "\n",
      " 14%|█▍        | 1/7 [00:00<00:01,  4.53it/s]\u001B[A\u001B[A\n",
      "\n",
      " 29%|██▊       | 2/7 [00:00<00:01,  4.49it/s]\u001B[A\u001B[A\n",
      "\n",
      " 43%|████▎     | 3/7 [00:00<00:00,  4.47it/s]\u001B[A\u001B[A\n",
      "\n",
      " 57%|█████▋    | 4/7 [00:00<00:00,  4.25it/s]\u001B[A\u001B[A\n",
      "\n",
      " 71%|███████▏  | 5/7 [00:01<00:00,  4.28it/s]\u001B[A\u001B[A\n",
      "\n",
      "100%|██████████| 7/7 [00:01<00:00,  4.87it/s]\n",
      "Processing 2025-01 queries:  23%|██▎       | 113/492 [04:31<13:40,  2.17s/query]"
     ]
    },
    {
     "output_type": "stream",
     "name": "stdout",
     "text": [
      "WARNING! Your documents have duplicate entries!  This will slow down calculation and may yield subpar results\n"
     ]
    },
    {
     "output_type": "stream",
     "name": "stderr",
     "text": [
      "\n",
      "\n",
      "  0%|          | 0/7 [00:00<?, ?it/s]\u001B[A\u001B[A\n",
      "\n",
      " 14%|█▍        | 1/7 [00:00<00:01,  4.56it/s]\u001B[A\u001B[A\n",
      "\n",
      " 29%|██▊       | 2/7 [00:00<00:01,  4.52it/s]\u001B[A\u001B[A\n",
      "\n",
      " 43%|████▎     | 3/7 [00:00<00:00,  4.52it/s]\u001B[A\u001B[A\n",
      "\n",
      " 57%|█████▋    | 4/7 [00:00<00:00,  4.28it/s]\u001B[A\u001B[A\n",
      "\n",
      " 71%|███████▏  | 5/7 [00:01<00:00,  4.31it/s]\u001B[A\u001B[A\n",
      "\n",
      "100%|██████████| 7/7 [00:01<00:00,  4.92it/s]\n",
      "Processing 2025-01 queries:  23%|██▎       | 114/492 [04:34<15:32,  2.47s/query]"
     ]
    },
    {
     "output_type": "stream",
     "name": "stdout",
     "text": [
      "WARNING! Your documents have duplicate entries!  This will slow down calculation and may yield subpar results\n"
     ]
    },
    {
     "output_type": "stream",
     "name": "stderr",
     "text": [
      "\n",
      "\n",
      "  0%|          | 0/7 [00:00<?, ?it/s]\u001B[A\u001B[A\n",
      "\n",
      " 14%|█▍        | 1/7 [00:00<00:01,  4.52it/s]\u001B[A\u001B[A\n",
      "\n",
      " 29%|██▊       | 2/7 [00:00<00:01,  4.50it/s]\u001B[A\u001B[A\n",
      "\n",
      " 43%|████▎     | 3/7 [00:00<00:00,  4.49it/s]\u001B[A\u001B[A\n",
      "\n",
      " 57%|█████▋    | 4/7 [00:00<00:00,  4.30it/s]\u001B[A\u001B[A\n",
      "\n",
      " 71%|███████▏  | 5/7 [00:01<00:00,  4.32it/s]\u001B[A\u001B[A\n",
      "\n",
      "100%|██████████| 7/7 [00:01<00:00,  4.90it/s]\n",
      "Processing 2025-01 queries:  23%|██▎       | 115/492 [04:37<16:01,  2.55s/query]\n",
      "\n",
      "  0%|          | 0/7 [00:00<?, ?it/s]\u001B[A\u001B[A\n",
      "\n",
      " 14%|█▍        | 1/7 [00:00<00:01,  4.74it/s]\u001B[A\u001B[A\n",
      "\n",
      " 29%|██▊       | 2/7 [00:00<00:01,  4.56it/s]\u001B[A\u001B[A\n",
      "\n",
      " 43%|████▎     | 3/7 [00:00<00:00,  4.50it/s]\u001B[A\u001B[A\n",
      "\n",
      " 57%|█████▋    | 4/7 [00:00<00:00,  4.16it/s]\u001B[A\u001B[A\n",
      "\n",
      " 71%|███████▏  | 5/7 [00:01<00:00,  4.24it/s]\u001B[A\u001B[A\n",
      "\n",
      "100%|██████████| 7/7 [00:01<00:00,  4.87it/s]\n",
      "Processing 2025-01 queries:  24%|██▎       | 116/492 [04:39<15:37,  2.49s/query]\n",
      "\n",
      "  0%|          | 0/7 [00:00<?, ?it/s]\u001B[A\u001B[A\n",
      "\n",
      " 14%|█▍        | 1/7 [00:00<00:01,  4.55it/s]\u001B[A\u001B[A\n",
      "\n",
      " 29%|██▊       | 2/7 [00:00<00:01,  4.45it/s]\u001B[A\u001B[A\n",
      "\n",
      " 43%|████▎     | 3/7 [00:00<00:00,  4.39it/s]\u001B[A\u001B[A\n",
      "\n",
      " 57%|█████▋    | 4/7 [00:00<00:00,  4.29it/s]\u001B[A\u001B[A\n",
      "\n",
      " 71%|███████▏  | 5/7 [00:01<00:00,  4.40it/s]\u001B[A\u001B[A\n",
      "\n",
      "100%|██████████| 7/7 [00:01<00:00,  4.94it/s]\n",
      "Processing 2025-01 queries:  24%|██▍       | 117/492 [04:42<16:10,  2.59s/query]\n",
      "\n",
      "  0%|          | 0/7 [00:00<?, ?it/s]\u001B[A\u001B[A\n",
      "\n",
      " 14%|█▍        | 1/7 [00:00<00:01,  4.54it/s]\u001B[A\u001B[A\n",
      "\n",
      " 29%|██▊       | 2/7 [00:00<00:01,  4.52it/s]\u001B[A\u001B[A\n",
      "\n",
      " 43%|████▎     | 3/7 [00:00<00:00,  4.49it/s]\u001B[A\u001B[A\n",
      "\n",
      " 57%|█████▋    | 4/7 [00:00<00:00,  4.28it/s]\u001B[A\u001B[A\n",
      "\n",
      " 71%|███████▏  | 5/7 [00:01<00:00,  4.27it/s]\u001B[A\u001B[A\n",
      "\n",
      "100%|██████████| 7/7 [00:01<00:00,  4.87it/s]\n",
      "Processing 2025-01 queries:  24%|██▍       | 118/492 [04:45<16:33,  2.66s/query]\n",
      "\n",
      "  0%|          | 0/1 [00:00<?, ?it/s]\u001B[A\u001B[A\n",
      "\n",
      "100%|██████████| 1/1 [00:00<00:00,  5.03it/s]\n",
      "Processing 2025-01 queries:  24%|██▍       | 119/492 [04:46<13:24,  2.16s/query]"
     ]
    },
    {
     "output_type": "stream",
     "name": "stdout",
     "text": [
      "WARNING! Your documents have duplicate entries!  This will slow down calculation and may yield subpar results\n"
     ]
    },
    {
     "output_type": "stream",
     "name": "stderr",
     "text": [
      "\n",
      "\n",
      "  0%|          | 0/7 [00:00<?, ?it/s]\u001B[A\u001B[A\n",
      "\n",
      " 14%|█▍        | 1/7 [00:00<00:01,  4.64it/s]\u001B[A\u001B[A\n",
      "\n",
      " 29%|██▊       | 2/7 [00:00<00:01,  4.56it/s]\u001B[A\u001B[A\n",
      "\n",
      " 43%|████▎     | 3/7 [00:00<00:00,  4.49it/s]\u001B[A\u001B[A\n",
      "\n",
      " 57%|█████▋    | 4/7 [00:00<00:00,  4.16it/s]\u001B[A\u001B[A\n",
      "\n",
      " 71%|███████▏  | 5/7 [00:01<00:00,  4.31it/s]\u001B[A\u001B[A\n",
      "\n",
      "100%|██████████| 7/7 [00:01<00:00,  4.92it/s]\n",
      "Processing 2025-01 queries:  24%|██▍       | 120/492 [04:49<14:28,  2.34s/query]"
     ]
    },
    {
     "output_type": "stream",
     "name": "stdout",
     "text": [
      "INFO: Processed 120/492 queries for 2025-01. Avg time/query: 2407.84 ms.\n"
     ]
    },
    {
     "output_type": "stream",
     "name": "stderr",
     "text": [
      "\n",
      "\n",
      "  0%|          | 0/7 [00:00<?, ?it/s]\u001B[A\u001B[A\n",
      "\n",
      " 14%|█▍        | 1/7 [00:00<00:01,  4.61it/s]\u001B[A\u001B[A\n",
      "\n",
      " 29%|██▊       | 2/7 [00:00<00:01,  4.54it/s]\u001B[A\u001B[A\n",
      "\n",
      " 43%|████▎     | 3/7 [00:00<00:00,  4.52it/s]\u001B[A\u001B[A\n",
      "\n",
      " 57%|█████▋    | 4/7 [00:00<00:00,  4.40it/s]\u001B[A\u001B[A\n",
      "\n",
      " 71%|███████▏  | 5/7 [00:01<00:00,  4.20it/s]\u001B[A\u001B[A\n",
      "\n",
      "100%|██████████| 7/7 [00:01<00:00,  4.86it/s]\n",
      "Processing 2025-01 queries:  25%|██▍       | 121/492 [04:51<14:23,  2.33s/query]"
     ]
    },
    {
     "output_type": "stream",
     "name": "stdout",
     "text": [
      "WARNING! Your documents have duplicate entries!  This will slow down calculation and may yield subpar results\n"
     ]
    },
    {
     "output_type": "stream",
     "name": "stderr",
     "text": [
      "\n",
      "\n",
      "  0%|          | 0/7 [00:00<?, ?it/s]\u001B[A\u001B[A\n",
      "\n",
      " 14%|█▍        | 1/7 [00:00<00:01,  4.71it/s]\u001B[A\u001B[A\n",
      "\n",
      " 29%|██▊       | 2/7 [00:00<00:01,  4.56it/s]\u001B[A\u001B[A\n",
      "\n",
      " 43%|████▎     | 3/7 [00:00<00:00,  4.53it/s]\u001B[A\u001B[A\n",
      "\n",
      " 57%|█████▋    | 4/7 [00:00<00:00,  4.26it/s]\u001B[A\u001B[A\n",
      "\n",
      " 71%|███████▏  | 5/7 [00:01<00:00,  4.30it/s]\u001B[A\u001B[A\n",
      "\n",
      "100%|██████████| 7/7 [00:01<00:00,  4.91it/s]\n",
      "Processing 2025-01 queries:  25%|██▍       | 122/492 [04:53<14:20,  2.33s/query]"
     ]
    },
    {
     "output_type": "stream",
     "name": "stdout",
     "text": [
      "WARNING! Your documents have duplicate entries!  This will slow down calculation and may yield subpar results\n"
     ]
    },
    {
     "output_type": "stream",
     "name": "stderr",
     "text": [
      "\n",
      "\n",
      "  0%|          | 0/7 [00:00<?, ?it/s]\u001B[A\u001B[A\n",
      "\n",
      " 14%|█▍        | 1/7 [00:00<00:01,  4.66it/s]\u001B[A\u001B[A\n",
      "\n",
      " 29%|██▊       | 2/7 [00:00<00:01,  4.52it/s]\u001B[A\u001B[A\n",
      "\n",
      " 43%|████▎     | 3/7 [00:00<00:00,  4.60it/s]\u001B[A\u001B[A\n",
      "\n",
      " 57%|█████▋    | 4/7 [00:00<00:00,  4.59it/s]\u001B[A\u001B[A\n",
      "\n",
      " 71%|███████▏  | 5/7 [00:01<00:00,  4.39it/s]\u001B[A\u001B[A\n",
      "\n",
      "100%|██████████| 7/7 [00:01<00:00,  5.03it/s]\n",
      "Processing 2025-01 queries:  25%|██▌       | 123/492 [04:56<15:09,  2.46s/query]"
     ]
    },
    {
     "output_type": "stream",
     "name": "stdout",
     "text": [
      "WARNING! Your documents have duplicate entries!  This will slow down calculation and may yield subpar results\n"
     ]
    },
    {
     "output_type": "stream",
     "name": "stderr",
     "text": [
      "\n",
      "\n",
      "  0%|          | 0/7 [00:00<?, ?it/s]\u001B[A\u001B[A\n",
      "\n",
      " 14%|█▍        | 1/7 [00:00<00:01,  3.83it/s]\u001B[A\u001B[A\n",
      "\n",
      " 29%|██▊       | 2/7 [00:00<00:01,  4.21it/s]\u001B[A\u001B[A\n",
      "\n",
      " 43%|████▎     | 3/7 [00:00<00:00,  4.33it/s]\u001B[A\u001B[A\n",
      "\n",
      " 57%|█████▋    | 4/7 [00:00<00:00,  4.38it/s]\u001B[A\u001B[A\n",
      "\n",
      " 71%|███████▏  | 5/7 [00:01<00:00,  4.26it/s]\u001B[A\u001B[A\n",
      "\n",
      "100%|██████████| 7/7 [00:01<00:00,  4.78it/s]\n",
      "Processing 2025-01 queries:  25%|██▌       | 124/492 [05:00<17:17,  2.82s/query]"
     ]
    },
    {
     "output_type": "stream",
     "name": "stdout",
     "text": [
      "WARNING! Your documents have duplicate entries!  This will slow down calculation and may yield subpar results\n"
     ]
    },
    {
     "output_type": "stream",
     "name": "stderr",
     "text": [
      "\n",
      "\n",
      "  0%|          | 0/7 [00:00<?, ?it/s]\u001B[A\u001B[A\n",
      "\n",
      " 14%|█▍        | 1/7 [00:00<00:01,  4.67it/s]\u001B[A\u001B[A\n",
      "\n",
      " 29%|██▊       | 2/7 [00:00<00:01,  4.62it/s]\u001B[A\u001B[A\n",
      "\n",
      " 43%|████▎     | 3/7 [00:00<00:00,  4.58it/s]\u001B[A\u001B[A\n",
      "\n",
      " 57%|█████▋    | 4/7 [00:00<00:00,  4.54it/s]\u001B[A\u001B[A\n",
      "\n",
      " 71%|███████▏  | 5/7 [00:01<00:00,  4.26it/s]\u001B[A\u001B[A\n",
      "\n",
      "100%|██████████| 7/7 [00:01<00:00,  4.92it/s]\n",
      "Processing 2025-01 queries:  25%|██▌       | 125/492 [05:02<17:05,  2.79s/query]\n",
      "\n",
      "100%|██████████| 1/1 [00:00<00:00, 11.91it/s]\n",
      "Processing 2025-01 queries:  26%|██▌       | 126/492 [05:03<13:36,  2.23s/query]"
     ]
    },
    {
     "output_type": "stream",
     "name": "stdout",
     "text": [
      "WARNING! Your documents have duplicate entries!  This will slow down calculation and may yield subpar results\n"
     ]
    },
    {
     "output_type": "stream",
     "name": "stderr",
     "text": [
      "\n",
      "\n",
      "  0%|          | 0/7 [00:00<?, ?it/s]\u001B[A\u001B[A\n",
      "\n",
      " 14%|█▍        | 1/7 [00:00<00:01,  4.70it/s]\u001B[A\u001B[A\n",
      "\n",
      " 29%|██▊       | 2/7 [00:00<00:01,  4.62it/s]\u001B[A\u001B[A\n",
      "\n",
      " 43%|████▎     | 3/7 [00:00<00:00,  4.56it/s]\u001B[A\u001B[A\n",
      "\n",
      " 57%|█████▋    | 4/7 [00:00<00:00,  4.50it/s]\u001B[A\u001B[A\n",
      "\n",
      " 71%|███████▏  | 5/7 [00:01<00:00,  4.26it/s]\u001B[A\u001B[A\n",
      "\n",
      "100%|██████████| 7/7 [00:01<00:00,  4.91it/s]\n",
      "Processing 2025-01 queries:  26%|██▌       | 127/492 [05:06<13:51,  2.28s/query]\n",
      "\n",
      "  0%|          | 0/1 [00:00<?, ?it/s]\u001B[A\u001B[A\n",
      "\n",
      "100%|██████████| 1/1 [00:00<00:00,  6.73it/s]\n",
      "Processing 2025-01 queries:  26%|██▌       | 128/492 [05:07<11:24,  1.88s/query]"
     ]
    },
    {
     "output_type": "stream",
     "name": "stdout",
     "text": [
      "WARNING! Your documents have duplicate entries!  This will slow down calculation and may yield subpar results\n"
     ]
    },
    {
     "output_type": "stream",
     "name": "stderr",
     "text": [
      "\n",
      "\n",
      "  0%|          | 0/7 [00:00<?, ?it/s]\u001B[A\u001B[A\n",
      "\n",
      " 14%|█▍        | 1/7 [00:00<00:01,  4.76it/s]\u001B[A\u001B[A\n",
      "\n",
      " 29%|██▊       | 2/7 [00:00<00:01,  4.62it/s]\u001B[A\u001B[A\n",
      "\n",
      " 43%|████▎     | 3/7 [00:00<00:00,  4.58it/s]\u001B[A\u001B[A\n",
      "\n",
      " 57%|█████▋    | 4/7 [00:00<00:00,  4.43it/s]\u001B[A\u001B[A\n",
      "\n",
      " 71%|███████▏  | 5/7 [00:01<00:00,  4.35it/s]\u001B[A\u001B[A\n",
      "\n",
      "100%|██████████| 7/7 [00:01<00:00,  4.98it/s]\n",
      "Processing 2025-01 queries:  26%|██▌       | 129/492 [05:09<12:55,  2.14s/query]"
     ]
    },
    {
     "output_type": "stream",
     "name": "stdout",
     "text": [
      "WARNING! Your documents have duplicate entries!  This will slow down calculation and may yield subpar results\n"
     ]
    },
    {
     "output_type": "stream",
     "name": "stderr",
     "text": [
      "\n",
      "\n",
      "  0%|          | 0/7 [00:00<?, ?it/s]\u001B[A\u001B[A\n",
      "\n",
      " 14%|█▍        | 1/7 [00:00<00:01,  3.59it/s]\u001B[A\u001B[A\n",
      "\n",
      " 29%|██▊       | 2/7 [00:00<00:01,  4.09it/s]\u001B[A\u001B[A\n",
      "\n",
      " 43%|████▎     | 3/7 [00:00<00:00,  4.28it/s]\u001B[A\u001B[A\n",
      "\n",
      " 57%|█████▋    | 4/7 [00:00<00:00,  4.36it/s]\u001B[A\u001B[A\n",
      "\n",
      " 71%|███████▏  | 5/7 [00:01<00:00,  4.40it/s]\u001B[A\u001B[A\n",
      "\n",
      "100%|██████████| 7/7 [00:01<00:00,  4.82it/s]\n",
      "Processing 2025-01 queries:  26%|██▋       | 130/492 [05:14<17:24,  2.88s/query]"
     ]
    },
    {
     "output_type": "stream",
     "name": "stdout",
     "text": [
      "WARNING! Your documents have duplicate entries!  This will slow down calculation and may yield subpar results\n"
     ]
    },
    {
     "output_type": "stream",
     "name": "stderr",
     "text": [
      "\n",
      "\n",
      "  0%|          | 0/7 [00:00<?, ?it/s]\u001B[A\u001B[A\n",
      "\n",
      " 14%|█▍        | 1/7 [00:00<00:01,  4.75it/s]\u001B[A\u001B[A\n",
      "\n",
      " 29%|██▊       | 2/7 [00:00<00:01,  4.63it/s]\u001B[A\u001B[A\n",
      "\n",
      " 43%|████▎     | 3/7 [00:00<00:00,  4.59it/s]\u001B[A\u001B[A\n",
      "\n",
      " 57%|█████▋    | 4/7 [00:00<00:00,  4.48it/s]\u001B[A\u001B[A\n",
      "\n",
      " 71%|███████▏  | 5/7 [00:01<00:00,  4.41it/s]\u001B[A\u001B[A\n",
      "\n",
      "100%|██████████| 7/7 [00:01<00:00,  5.03it/s]\n",
      "Processing 2025-01 queries:  27%|██▋       | 131/492 [05:16<16:19,  2.71s/query]\n",
      "\n",
      "  0%|          | 0/1 [00:00<?, ?it/s]\u001B[A\u001B[A\n",
      "\n",
      "100%|██████████| 1/1 [00:00<00:00,  4.66it/s]\n",
      "Processing 2025-01 queries:  27%|██▋       | 132/492 [05:17<13:14,  2.21s/query]\n",
      "\n",
      "100%|██████████| 1/1 [00:00<00:00, 17.56it/s]\n",
      "Processing 2025-01 queries:  27%|██▋       | 133/492 [05:18<10:44,  1.80s/query]\n",
      "\n",
      "  0%|          | 0/7 [00:00<?, ?it/s]\u001B[A\u001B[A\n",
      "\n",
      " 14%|█▍        | 1/7 [00:00<00:01,  3.67it/s]\u001B[A\u001B[A\n",
      "\n",
      " 29%|██▊       | 2/7 [00:00<00:01,  4.12it/s]\u001B[A\u001B[A\n",
      "\n",
      " 43%|████▎     | 3/7 [00:00<00:00,  4.31it/s]\u001B[A\u001B[A\n",
      "\n",
      " 57%|█████▋    | 4/7 [00:00<00:00,  4.40it/s]\u001B[A\u001B[A\n",
      "\n",
      " 71%|███████▏  | 5/7 [00:01<00:00,  4.32it/s]\u001B[A\u001B[A\n",
      "\n",
      "100%|██████████| 7/7 [00:01<00:00,  4.75it/s]\n",
      "Processing 2025-01 queries:  27%|██▋       | 134/492 [05:21<13:23,  2.24s/query]\n",
      "\n",
      "  0%|          | 0/7 [00:00<?, ?it/s]\u001B[A\u001B[A\n",
      "\n",
      " 14%|█▍        | 1/7 [00:00<00:01,  4.70it/s]\u001B[A\u001B[A\n",
      "\n",
      " 29%|██▊       | 2/7 [00:00<00:01,  4.60it/s]\u001B[A\u001B[A\n",
      "\n",
      " 43%|████▎     | 3/7 [00:00<00:00,  4.58it/s]\u001B[A\u001B[A\n",
      "\n",
      " 57%|█████▋    | 4/7 [00:00<00:00,  4.29it/s]\u001B[A\u001B[A\n",
      "\n",
      " 71%|███████▏  | 5/7 [00:01<00:00,  4.33it/s]\u001B[A\u001B[A\n",
      "\n",
      "100%|██████████| 7/7 [00:01<00:00,  4.94it/s]\n",
      "Processing 2025-01 queries:  27%|██▋       | 135/492 [05:24<14:14,  2.39s/query]\n",
      "\n",
      "  0%|          | 0/7 [00:00<?, ?it/s]\u001B[A\u001B[A\n",
      "\n",
      " 14%|█▍        | 1/7 [00:00<00:01,  3.64it/s]\u001B[A\u001B[A\n",
      "\n",
      " 29%|██▊       | 2/7 [00:00<00:01,  4.12it/s]\u001B[A\u001B[A\n",
      "\n",
      " 43%|████▎     | 3/7 [00:00<00:00,  4.29it/s]\u001B[A\u001B[A\n",
      "\n",
      " 57%|█████▋    | 4/7 [00:00<00:00,  4.37it/s]\u001B[A\u001B[A\n",
      "\n",
      " 71%|███████▏  | 5/7 [00:01<00:00,  4.21it/s]\u001B[A\u001B[A\n",
      "\n",
      "100%|██████████| 7/7 [00:01<00:00,  4.76it/s]\n",
      "Processing 2025-01 queries:  28%|██▊       | 136/492 [05:31<21:17,  3.59s/query]\n",
      "\n",
      "  0%|          | 0/7 [00:00<?, ?it/s]\u001B[A\u001B[A\n",
      "\n",
      " 14%|█▍        | 1/7 [00:00<00:01,  4.79it/s]\u001B[A\u001B[A\n",
      "\n",
      " 29%|██▊       | 2/7 [00:00<00:01,  4.63it/s]\u001B[A\u001B[A\n",
      "\n",
      " 43%|████▎     | 3/7 [00:00<00:00,  4.58it/s]\u001B[A\u001B[A\n",
      "\n",
      " 57%|█████▋    | 4/7 [00:00<00:00,  4.32it/s]\u001B[A\u001B[A\n",
      "\n",
      " 71%|███████▏  | 5/7 [00:01<00:00,  4.32it/s]\u001B[A\u001B[A\n",
      "\n",
      "100%|██████████| 7/7 [00:01<00:00,  4.94it/s]\n",
      "Processing 2025-01 queries:  28%|██▊       | 137/492 [05:33<19:51,  3.35s/query]\n",
      "\n",
      "  0%|          | 0/7 [00:00<?, ?it/s]\u001B[A\u001B[A\n",
      "\n",
      " 14%|█▍        | 1/7 [00:00<00:01,  4.73it/s]\u001B[A\u001B[A\n",
      "\n",
      " 29%|██▊       | 2/7 [00:00<00:01,  4.62it/s]\u001B[A\u001B[A\n",
      "\n",
      " 43%|████▎     | 3/7 [00:00<00:00,  4.56it/s]\u001B[A\u001B[A\n",
      "\n",
      " 57%|█████▋    | 4/7 [00:00<00:00,  4.31it/s]\u001B[A\u001B[A\n",
      "\n",
      " 71%|███████▏  | 5/7 [00:01<00:00,  4.29it/s]\u001B[A\u001B[A\n",
      "\n",
      "100%|██████████| 7/7 [00:01<00:00,  4.92it/s]\n",
      "Processing 2025-01 queries:  28%|██▊       | 138/492 [05:36<17:56,  3.04s/query]"
     ]
    },
    {
     "output_type": "stream",
     "name": "stdout",
     "text": [
      "WARNING! Your documents have duplicate entries!  This will slow down calculation and may yield subpar results\n"
     ]
    },
    {
     "output_type": "stream",
     "name": "stderr",
     "text": [
      "\n",
      "\n",
      "  0%|          | 0/7 [00:00<?, ?it/s]\u001B[A\u001B[A\n",
      "\n",
      " 14%|█▍        | 1/7 [00:00<00:01,  4.76it/s]\u001B[A\u001B[A\n",
      "\n",
      " 29%|██▊       | 2/7 [00:00<00:01,  4.61it/s]\u001B[A\u001B[A\n",
      "\n",
      " 43%|████▎     | 3/7 [00:00<00:00,  4.55it/s]\u001B[A\u001B[A\n",
      "\n",
      " 57%|█████▋    | 4/7 [00:00<00:00,  4.42it/s]\u001B[A\u001B[A\n",
      "\n",
      " 71%|███████▏  | 5/7 [00:01<00:00,  4.29it/s]\u001B[A\u001B[A\n",
      "\n",
      "100%|██████████| 7/7 [00:01<00:00,  4.93it/s]\n",
      "Processing 2025-01 queries:  28%|██▊       | 139/492 [05:38<16:32,  2.81s/query]"
     ]
    },
    {
     "output_type": "stream",
     "name": "stdout",
     "text": [
      "WARNING! Your documents have duplicate entries!  This will slow down calculation and may yield subpar results\n"
     ]
    },
    {
     "output_type": "stream",
     "name": "stderr",
     "text": [
      "\n",
      "\n",
      "  0%|          | 0/7 [00:00<?, ?it/s]\u001B[A\u001B[A\n",
      "\n",
      " 14%|█▍        | 1/7 [00:00<00:01,  4.72it/s]\u001B[A\u001B[A\n",
      "\n",
      " 29%|██▊       | 2/7 [00:00<00:01,  4.57it/s]\u001B[A\u001B[A\n",
      "\n",
      " 43%|████▎     | 3/7 [00:00<00:00,  4.53it/s]\u001B[A\u001B[A\n",
      "\n",
      " 57%|█████▋    | 4/7 [00:00<00:00,  4.24it/s]\u001B[A\u001B[A\n",
      "\n",
      " 71%|███████▏  | 5/7 [00:01<00:00,  4.30it/s]\u001B[A\u001B[A\n",
      "\n",
      "100%|██████████| 7/7 [00:01<00:00,  4.88it/s]\n",
      "Processing 2025-01 queries:  28%|██▊       | 140/492 [05:40<15:37,  2.66s/query]"
     ]
    },
    {
     "output_type": "stream",
     "name": "stdout",
     "text": [
      "INFO: Processed 140/492 queries for 2025-01. Avg time/query: 2433.17 ms.\n",
      "WARNING! Your documents have duplicate entries!  This will slow down calculation and may yield subpar results\n"
     ]
    },
    {
     "output_type": "stream",
     "name": "stderr",
     "text": [
      "\n",
      "\n",
      "  0%|          | 0/7 [00:00<?, ?it/s]\u001B[A\u001B[A\n",
      "\n",
      " 14%|█▍        | 1/7 [00:00<00:01,  3.82it/s]\u001B[A\u001B[A\n",
      "\n",
      " 29%|██▊       | 2/7 [00:00<00:01,  4.13it/s]\u001B[A\u001B[A\n",
      "\n",
      " 43%|████▎     | 3/7 [00:00<00:00,  4.25it/s]\u001B[A\u001B[A\n",
      "\n",
      " 57%|█████▋    | 4/7 [00:00<00:00,  4.30it/s]\u001B[A\u001B[A\n",
      "\n",
      " 71%|███████▏  | 5/7 [00:01<00:00,  4.26it/s]\u001B[A\u001B[A\n",
      "\n",
      "100%|██████████| 7/7 [00:01<00:00,  4.76it/s]\n",
      "Processing 2025-01 queries:  29%|██▊       | 141/492 [05:47<22:42,  3.88s/query]\n",
      "\n",
      "  0%|          | 0/7 [00:00<?, ?it/s]\u001B[A\u001B[A\n",
      "\n",
      " 14%|█▍        | 1/7 [00:00<00:01,  4.68it/s]\u001B[A\u001B[A\n",
      "\n",
      " 29%|██▊       | 2/7 [00:00<00:01,  4.56it/s]\u001B[A\u001B[A\n",
      "\n",
      " 43%|████▎     | 3/7 [00:00<00:00,  4.52it/s]\u001B[A\u001B[A\n",
      "\n",
      " 57%|█████▋    | 4/7 [00:00<00:00,  4.36it/s]\u001B[A\u001B[A\n",
      "\n",
      " 71%|███████▏  | 5/7 [00:01<00:00,  4.29it/s]\u001B[A\u001B[A\n",
      "\n",
      "100%|██████████| 7/7 [00:01<00:00,  4.90it/s]\n",
      "Processing 2025-01 queries:  29%|██▉       | 142/492 [05:50<20:37,  3.54s/query]\n",
      "\n",
      "  0%|          | 0/7 [00:00<?, ?it/s]\u001B[A\u001B[A\n",
      "\n",
      " 14%|█▍        | 1/7 [00:00<00:01,  4.52it/s]\u001B[A\u001B[A\n",
      "\n",
      " 29%|██▊       | 2/7 [00:00<00:01,  4.45it/s]\u001B[A\u001B[A\n",
      "\n",
      " 43%|████▎     | 3/7 [00:00<00:00,  4.43it/s]\u001B[A\u001B[A\n",
      "\n",
      " 57%|█████▋    | 4/7 [00:00<00:00,  4.16it/s]\u001B[A\u001B[A\n",
      "\n",
      " 71%|███████▏  | 5/7 [00:01<00:00,  4.21it/s]\u001B[A\u001B[A\n",
      "\n",
      "100%|██████████| 7/7 [00:01<00:00,  4.81it/s]\n",
      "Processing 2025-01 queries:  29%|██▉       | 143/492 [05:52<18:32,  3.19s/query]"
     ]
    },
    {
     "output_type": "stream",
     "name": "stdout",
     "text": [
      "WARNING! Your documents have duplicate entries!  This will slow down calculation and may yield subpar results\n"
     ]
    },
    {
     "output_type": "stream",
     "name": "stderr",
     "text": [
      "\n",
      "\n",
      "  0%|          | 0/7 [00:00<?, ?it/s]\u001B[A\u001B[A\n",
      "\n",
      " 14%|█▍        | 1/7 [00:00<00:01,  4.69it/s]\u001B[A\u001B[A\n",
      "\n",
      " 29%|██▊       | 2/7 [00:00<00:01,  4.56it/s]\u001B[A\u001B[A\n",
      "\n",
      " 43%|████▎     | 3/7 [00:00<00:00,  4.49it/s]\u001B[A\u001B[A\n",
      "\n",
      " 57%|█████▋    | 4/7 [00:00<00:00,  4.20it/s]\u001B[A\u001B[A\n",
      "\n",
      " 71%|███████▏  | 5/7 [00:01<00:00,  4.24it/s]\u001B[A\u001B[A\n",
      "\n",
      "100%|██████████| 7/7 [00:01<00:00,  4.85it/s]\n",
      "Processing 2025-01 queries:  29%|██▉       | 144/492 [05:55<17:38,  3.04s/query]"
     ]
    },
    {
     "output_type": "stream",
     "name": "stdout",
     "text": [
      "WARNING! Your documents have duplicate entries!  This will slow down calculation and may yield subpar results\n"
     ]
    },
    {
     "output_type": "stream",
     "name": "stderr",
     "text": [
      "\n",
      "\n",
      "  0%|          | 0/7 [00:00<?, ?it/s]\u001B[A\u001B[A\n",
      "\n",
      " 14%|█▍        | 1/7 [00:00<00:01,  3.65it/s]\u001B[A\u001B[A\n",
      "\n",
      " 29%|██▊       | 2/7 [00:00<00:01,  4.09it/s]\u001B[A\u001B[A\n",
      "\n",
      " 43%|████▎     | 3/7 [00:00<00:00,  4.25it/s]\u001B[A\u001B[A\n",
      "\n",
      " 57%|█████▋    | 4/7 [00:00<00:00,  4.33it/s]\u001B[A\u001B[A\n",
      "\n",
      " 71%|███████▏  | 5/7 [00:01<00:00,  4.21it/s]\u001B[A\u001B[A\n",
      "\n",
      "100%|██████████| 7/7 [00:01<00:00,  4.69it/s]\n",
      "Processing 2025-01 queries:  29%|██▉       | 145/492 [06:00<21:00,  3.63s/query]\n",
      "\n",
      "  0%|          | 0/7 [00:00<?, ?it/s]\u001B[A\u001B[A\n",
      "\n",
      " 14%|█▍        | 1/7 [00:00<00:01,  3.68it/s]\u001B[A\u001B[A\n",
      "\n",
      " 29%|██▊       | 2/7 [00:00<00:01,  4.07it/s]\u001B[A\u001B[A\n",
      "\n",
      " 43%|████▎     | 3/7 [00:00<00:00,  4.23it/s]\u001B[A\u001B[A\n",
      "\n",
      " 57%|█████▋    | 4/7 [00:00<00:00,  4.34it/s]\u001B[A\u001B[A\n",
      "\n",
      " 71%|███████▏  | 5/7 [00:01<00:00,  4.27it/s]\u001B[A\u001B[A\n",
      "\n",
      "100%|██████████| 7/7 [00:01<00:00,  4.72it/s]\n",
      "Processing 2025-01 queries:  30%|██▉       | 146/492 [06:03<20:31,  3.56s/query]"
     ]
    },
    {
     "output_type": "stream",
     "name": "stdout",
     "text": [
      "WARNING! Your documents have duplicate entries!  This will slow down calculation and may yield subpar results\n"
     ]
    },
    {
     "output_type": "stream",
     "name": "stderr",
     "text": [
      "\n",
      "\n",
      "  0%|          | 0/7 [00:00<?, ?it/s]\u001B[A\u001B[A\n",
      "\n",
      " 14%|█▍        | 1/7 [00:00<00:01,  4.60it/s]\u001B[A\u001B[A\n",
      "\n",
      " 29%|██▊       | 2/7 [00:00<00:01,  4.53it/s]\u001B[A\u001B[A\n",
      "\n",
      " 43%|████▎     | 3/7 [00:00<00:00,  4.51it/s]\u001B[A\u001B[A\n",
      "\n",
      " 57%|█████▋    | 4/7 [00:00<00:00,  4.30it/s]\u001B[A\u001B[A\n",
      "\n",
      " 71%|███████▏  | 5/7 [00:01<00:00,  4.30it/s]\u001B[A\u001B[A\n",
      "\n",
      "100%|██████████| 7/7 [00:01<00:00,  4.89it/s]\n",
      "Processing 2025-01 queries:  30%|██▉       | 147/492 [06:06<19:10,  3.34s/query]\n",
      "\n",
      "  0%|          | 0/7 [00:00<?, ?it/s]\u001B[A\u001B[A\n",
      "\n",
      " 14%|█▍        | 1/7 [00:00<00:01,  3.77it/s]\u001B[A\u001B[A\n",
      "\n",
      " 29%|██▊       | 2/7 [00:00<00:01,  4.15it/s]\u001B[A\u001B[A\n",
      "\n",
      " 43%|████▎     | 3/7 [00:00<00:00,  4.29it/s]\u001B[A\u001B[A\n",
      "\n",
      " 57%|█████▋    | 4/7 [00:00<00:00,  4.34it/s]\u001B[A\u001B[A\n",
      "\n",
      " 71%|███████▏  | 5/7 [00:01<00:00,  4.23it/s]\u001B[A\u001B[A\n",
      "\n",
      "100%|██████████| 7/7 [00:01<00:00,  4.73it/s]\n",
      "Processing 2025-01 queries:  30%|███       | 148/492 [06:10<19:43,  3.44s/query]"
     ]
    },
    {
     "output_type": "stream",
     "name": "stdout",
     "text": [
      "WARNING! Your documents have duplicate entries!  This will slow down calculation and may yield subpar results\n"
     ]
    },
    {
     "output_type": "stream",
     "name": "stderr",
     "text": [
      "\n",
      "\n",
      "  0%|          | 0/7 [00:00<?, ?it/s]\u001B[A\u001B[A\n",
      "\n",
      " 14%|█▍        | 1/7 [00:00<00:01,  4.70it/s]\u001B[A\u001B[A\n",
      "\n",
      " 29%|██▊       | 2/7 [00:00<00:01,  4.57it/s]\u001B[A\u001B[A\n",
      "\n",
      " 43%|████▎     | 3/7 [00:00<00:00,  4.53it/s]\u001B[A\u001B[A\n",
      "\n",
      " 57%|█████▋    | 4/7 [00:00<00:00,  4.43it/s]\u001B[A\u001B[A\n",
      "\n",
      " 71%|███████▏  | 5/7 [00:01<00:00,  4.24it/s]\u001B[A\u001B[A\n",
      "\n",
      "100%|██████████| 7/7 [00:01<00:00,  4.90it/s]\n",
      "Processing 2025-01 queries:  30%|███       | 149/492 [06:12<18:28,  3.23s/query]"
     ]
    },
    {
     "output_type": "stream",
     "name": "stdout",
     "text": [
      "WARNING! Your documents have duplicate entries!  This will slow down calculation and may yield subpar results\n"
     ]
    },
    {
     "output_type": "stream",
     "name": "stderr",
     "text": [
      "\n",
      "\n",
      "  0%|          | 0/7 [00:00<?, ?it/s]\u001B[A\u001B[A\n",
      "\n",
      " 14%|█▍        | 1/7 [00:00<00:01,  3.66it/s]\u001B[A\u001B[A\n",
      "\n",
      " 29%|██▊       | 2/7 [00:00<00:01,  4.11it/s]\u001B[A\u001B[A\n",
      "\n",
      " 43%|████▎     | 3/7 [00:00<00:00,  4.27it/s]\u001B[A\u001B[A\n",
      "\n",
      " 57%|█████▋    | 4/7 [00:00<00:00,  4.35it/s]\u001B[A\u001B[A\n",
      "\n",
      " 71%|███████▏  | 5/7 [00:01<00:00,  4.19it/s]\u001B[A\u001B[A\n",
      "\n",
      "100%|██████████| 7/7 [00:01<00:00,  4.74it/s]\n",
      "Processing 2025-01 queries:  30%|███       | 150/492 [06:16<19:30,  3.42s/query]\n",
      "\n",
      "  0%|          | 0/7 [00:00<?, ?it/s]\u001B[A\u001B[A\n",
      "\n",
      " 14%|█▍        | 1/7 [00:00<00:01,  4.69it/s]\u001B[A\u001B[A\n",
      "\n",
      " 29%|██▊       | 2/7 [00:00<00:01,  4.56it/s]\u001B[A\u001B[A\n",
      "\n",
      " 43%|████▎     | 3/7 [00:00<00:00,  4.50it/s]\u001B[A\u001B[A\n",
      "\n",
      " 57%|█████▋    | 4/7 [00:00<00:00,  4.19it/s]\u001B[A\u001B[A\n",
      "\n",
      " 71%|███████▏  | 5/7 [00:01<00:00,  4.23it/s]\u001B[A\u001B[A\n",
      "\n",
      "100%|██████████| 7/7 [00:01<00:00,  4.86it/s]\n",
      "Processing 2025-01 queries:  31%|███       | 151/492 [06:19<18:24,  3.24s/query]\n",
      "\n",
      "  0%|          | 0/1 [00:00<?, ?it/s]\u001B[A\u001B[A\n",
      "\n",
      "100%|██████████| 1/1 [00:00<00:00,  8.23it/s]\n",
      "Processing 2025-01 queries:  31%|███       | 152/492 [06:20<14:23,  2.54s/query]"
     ]
    },
    {
     "output_type": "stream",
     "name": "stdout",
     "text": [
      "WARNING! Your documents have duplicate entries!  This will slow down calculation and may yield subpar results\n"
     ]
    },
    {
     "output_type": "stream",
     "name": "stderr",
     "text": [
      "\n",
      "\n",
      "  0%|          | 0/7 [00:00<?, ?it/s]\u001B[A\u001B[A\n",
      "\n",
      " 14%|█▍        | 1/7 [00:00<00:01,  4.73it/s]\u001B[A\u001B[A\n",
      "\n",
      " 29%|██▊       | 2/7 [00:00<00:01,  4.58it/s]\u001B[A\u001B[A\n",
      "\n",
      " 43%|████▎     | 3/7 [00:00<00:00,  4.53it/s]\u001B[A\u001B[A\n",
      "\n",
      " 57%|█████▋    | 4/7 [00:00<00:00,  4.15it/s]\u001B[A\u001B[A\n",
      "\n",
      " 71%|███████▏  | 5/7 [00:01<00:00,  4.23it/s]\u001B[A\u001B[A\n",
      "\n",
      "100%|██████████| 7/7 [00:01<00:00,  4.87it/s]\n",
      "Processing 2025-01 queries:  31%|███       | 153/492 [06:23<14:44,  2.61s/query]"
     ]
    },
    {
     "output_type": "stream",
     "name": "stdout",
     "text": [
      "WARNING! Your documents have duplicate entries!  This will slow down calculation and may yield subpar results\n"
     ]
    },
    {
     "output_type": "stream",
     "name": "stderr",
     "text": [
      "\n",
      "\n",
      "  0%|          | 0/7 [00:00<?, ?it/s]\u001B[A\u001B[A\n",
      "\n",
      " 14%|█▍        | 1/7 [00:00<00:01,  4.63it/s]\u001B[A\u001B[A\n",
      "\n",
      " 29%|██▊       | 2/7 [00:00<00:01,  4.52it/s]\u001B[A\u001B[A\n",
      "\n",
      " 43%|████▎     | 3/7 [00:00<00:00,  4.48it/s]\u001B[A\u001B[A\n",
      "\n",
      " 57%|█████▋    | 4/7 [00:00<00:00,  4.23it/s]\u001B[A\u001B[A\n",
      "\n",
      " 71%|███████▏  | 5/7 [00:01<00:00,  4.28it/s]\u001B[A\u001B[A\n",
      "\n",
      "100%|██████████| 7/7 [00:01<00:00,  4.87it/s]\n",
      "Processing 2025-01 queries:  31%|███▏      | 154/492 [06:25<14:20,  2.54s/query]"
     ]
    },
    {
     "output_type": "stream",
     "name": "stdout",
     "text": [
      "WARNING! Your documents have duplicate entries!  This will slow down calculation and may yield subpar results\n"
     ]
    },
    {
     "output_type": "stream",
     "name": "stderr",
     "text": [
      "\n",
      "\n",
      "  0%|          | 0/7 [00:00<?, ?it/s]\u001B[A\u001B[A\n",
      "\n",
      " 14%|█▍        | 1/7 [00:00<00:01,  4.54it/s]\u001B[A\u001B[A\n",
      "\n",
      " 29%|██▊       | 2/7 [00:00<00:01,  4.46it/s]\u001B[A\u001B[A\n",
      "\n",
      " 43%|████▎     | 3/7 [00:00<00:00,  4.55it/s]\u001B[A\u001B[A\n",
      "\n",
      " 57%|█████▋    | 4/7 [00:00<00:00,  4.53it/s]\u001B[A\u001B[A\n",
      "\n",
      " 71%|███████▏  | 5/7 [00:01<00:00,  4.41it/s]\u001B[A\u001B[A\n",
      "\n",
      "100%|██████████| 7/7 [00:01<00:00,  4.98it/s]\n",
      "Processing 2025-01 queries:  32%|███▏      | 155/492 [06:28<14:00,  2.50s/query]\n",
      "\n",
      "  0%|          | 0/7 [00:00<?, ?it/s]\u001B[A\u001B[A\n",
      "\n",
      " 14%|█▍        | 1/7 [00:00<00:01,  4.70it/s]\u001B[A\u001B[A\n",
      "\n",
      " 29%|██▊       | 2/7 [00:00<00:01,  4.55it/s]\u001B[A\u001B[A\n",
      "\n",
      " 43%|████▎     | 3/7 [00:00<00:00,  4.50it/s]\u001B[A\u001B[A\n",
      "\n",
      " 57%|█████▋    | 4/7 [00:00<00:00,  4.15it/s]\u001B[A\u001B[A\n",
      "\n",
      " 71%|███████▏  | 5/7 [00:01<00:00,  4.24it/s]\u001B[A\u001B[A\n",
      "\n",
      "100%|██████████| 7/7 [00:01<00:00,  4.87it/s]\n",
      "Processing 2025-01 queries:  32%|███▏      | 156/492 [06:30<14:25,  2.58s/query]"
     ]
    },
    {
     "output_type": "stream",
     "name": "stdout",
     "text": [
      "WARNING! Your documents have duplicate entries!  This will slow down calculation and may yield subpar results\n"
     ]
    },
    {
     "output_type": "stream",
     "name": "stderr",
     "text": [
      "\n",
      "\n",
      "  0%|          | 0/7 [00:00<?, ?it/s]\u001B[A\u001B[A\n",
      "\n",
      " 14%|█▍        | 1/7 [00:00<00:01,  4.63it/s]\u001B[A\u001B[A\n",
      "\n",
      " 29%|██▊       | 2/7 [00:00<00:01,  4.54it/s]\u001B[A\u001B[A\n",
      "\n",
      " 43%|████▎     | 3/7 [00:00<00:00,  4.50it/s]\u001B[A\u001B[A\n",
      "\n",
      " 57%|█████▋    | 4/7 [00:00<00:00,  4.22it/s]\u001B[A\u001B[A\n",
      "\n",
      " 71%|███████▏  | 5/7 [00:01<00:00,  4.27it/s]\u001B[A\u001B[A\n",
      "\n",
      "100%|██████████| 7/7 [00:01<00:00,  4.92it/s]\n",
      "Processing 2025-01 queries:  32%|███▏      | 157/492 [06:33<14:41,  2.63s/query]"
     ]
    },
    {
     "output_type": "stream",
     "name": "stdout",
     "text": [
      "WARNING! Your documents have duplicate entries!  This will slow down calculation and may yield subpar results\n"
     ]
    },
    {
     "output_type": "stream",
     "name": "stderr",
     "text": [
      "\n",
      "\n",
      "  0%|          | 0/7 [00:00<?, ?it/s]\u001B[A\u001B[A\n",
      "\n",
      " 14%|█▍        | 1/7 [00:00<00:01,  3.51it/s]\u001B[A\u001B[A\n",
      "\n",
      " 29%|██▊       | 2/7 [00:00<00:01,  4.06it/s]\u001B[A\u001B[A\n",
      "\n",
      " 43%|████▎     | 3/7 [00:00<00:00,  4.28it/s]\u001B[A\u001B[A\n",
      "\n",
      " 57%|█████▋    | 4/7 [00:00<00:00,  4.37it/s]\u001B[A\u001B[A\n",
      "\n",
      " 71%|███████▏  | 5/7 [00:01<00:00,  4.27it/s]\u001B[A\u001B[A\n",
      "\n",
      "100%|██████████| 7/7 [00:01<00:00,  4.72it/s]\n",
      "Processing 2025-01 queries:  32%|███▏      | 158/492 [06:38<18:46,  3.37s/query]"
     ]
    },
    {
     "output_type": "stream",
     "name": "stdout",
     "text": [
      "WARNING! Your documents have duplicate entries!  This will slow down calculation and may yield subpar results\n"
     ]
    },
    {
     "output_type": "stream",
     "name": "stderr",
     "text": [
      "\n",
      "\n",
      "  0%|          | 0/7 [00:00<?, ?it/s]\u001B[A\u001B[A\n",
      "\n",
      " 14%|█▍        | 1/7 [00:00<00:01,  4.75it/s]\u001B[A\u001B[A\n",
      "\n",
      " 29%|██▊       | 2/7 [00:00<00:01,  4.57it/s]\u001B[A\u001B[A\n",
      "\n",
      " 43%|████▎     | 3/7 [00:00<00:00,  4.52it/s]\u001B[A\u001B[A\n",
      "\n",
      " 57%|█████▋    | 4/7 [00:00<00:00,  4.32it/s]\u001B[A\u001B[A\n",
      "\n",
      " 71%|███████▏  | 5/7 [00:01<00:00,  4.39it/s]\u001B[A\u001B[A\n",
      "\n",
      "100%|██████████| 7/7 [00:01<00:00,  5.02it/s]\n",
      "Processing 2025-01 queries:  32%|███▏      | 159/492 [06:41<17:47,  3.20s/query]"
     ]
    },
    {
     "output_type": "stream",
     "name": "stdout",
     "text": [
      "WARNING! Your documents have duplicate entries!  This will slow down calculation and may yield subpar results\n"
     ]
    },
    {
     "output_type": "stream",
     "name": "stderr",
     "text": [
      "\n",
      "\n",
      "  0%|          | 0/3 [00:00<?, ?it/s]\u001B[A\u001B[A\n",
      "\n",
      " 33%|███▎      | 1/3 [00:00<00:00,  4.70it/s]\u001B[A\u001B[A\n",
      "\n",
      "100%|██████████| 3/3 [00:00<00:00,  6.53it/s]\n",
      "Processing 2025-01 queries:  33%|███▎      | 160/492 [06:42<14:32,  2.63s/query]"
     ]
    },
    {
     "output_type": "stream",
     "name": "stdout",
     "text": [
      "INFO: Processed 160/492 queries for 2025-01. Avg time/query: 2516.64 ms.\n"
     ]
    },
    {
     "output_type": "stream",
     "name": "stderr",
     "text": [
      "\n",
      "\n",
      "  0%|          | 0/7 [00:00<?, ?it/s]\u001B[A\u001B[A\n",
      "\n",
      " 14%|█▍        | 1/7 [00:00<00:01,  4.69it/s]\u001B[A\u001B[A\n",
      "\n",
      " 29%|██▊       | 2/7 [00:00<00:01,  4.62it/s]\u001B[A\u001B[A\n",
      "\n",
      " 43%|████▎     | 3/7 [00:00<00:00,  4.57it/s]\u001B[A\u001B[A\n",
      "\n",
      " 57%|█████▋    | 4/7 [00:00<00:00,  4.52it/s]\u001B[A\u001B[A\n",
      "\n",
      " 71%|███████▏  | 5/7 [00:01<00:00,  4.28it/s]\u001B[A\u001B[A\n",
      "\n",
      "100%|██████████| 7/7 [00:01<00:00,  4.93it/s]\n",
      "Processing 2025-01 queries:  33%|███▎      | 161/492 [06:45<14:03,  2.55s/query]\n",
      "\n",
      "100%|██████████| 1/1 [00:00<00:00, 38.34it/s]\n",
      "Processing 2025-01 queries:  33%|███▎      | 162/492 [06:46<11:51,  2.16s/query]\n",
      "\n",
      "  0%|          | 0/4 [00:00<?, ?it/s]\u001B[A\u001B[A\n",
      "\n",
      " 25%|██▌       | 1/4 [00:00<00:00,  3.67it/s]\u001B[A\u001B[A\n",
      "\n",
      " 50%|█████     | 2/4 [00:00<00:00,  4.10it/s]\u001B[A\u001B[A\n",
      "\n",
      "100%|██████████| 4/4 [00:00<00:00,  5.26it/s]\n",
      "Processing 2025-01 queries:  33%|███▎      | 163/492 [06:47<10:55,  1.99s/query]"
     ]
    },
    {
     "output_type": "stream",
     "name": "stdout",
     "text": [
      "WARNING! Your documents have duplicate entries!  This will slow down calculation and may yield subpar results\n"
     ]
    },
    {
     "output_type": "stream",
     "name": "stderr",
     "text": [
      "\n",
      "\n",
      "  0%|          | 0/7 [00:00<?, ?it/s]\u001B[A\u001B[A\n",
      "\n",
      " 14%|█▍        | 1/7 [00:00<00:01,  4.63it/s]\u001B[A\u001B[A\n",
      "\n",
      " 29%|██▊       | 2/7 [00:00<00:01,  4.62it/s]\u001B[A\u001B[A\n",
      "\n",
      " 43%|████▎     | 3/7 [00:00<00:00,  4.60it/s]\u001B[A\u001B[A\n",
      "\n",
      " 57%|█████▋    | 4/7 [00:00<00:00,  4.36it/s]\u001B[A\u001B[A\n",
      "\n",
      " 71%|███████▏  | 5/7 [00:01<00:00,  4.34it/s]\u001B[A\u001B[A\n",
      "\n",
      "100%|██████████| 7/7 [00:01<00:00,  4.95it/s]\n",
      "Processing 2025-01 queries:  33%|███▎      | 164/492 [06:50<12:03,  2.21s/query]"
     ]
    },
    {
     "output_type": "stream",
     "name": "stdout",
     "text": [
      "WARNING! Your documents have duplicate entries!  This will slow down calculation and may yield subpar results\n"
     ]
    },
    {
     "output_type": "stream",
     "name": "stderr",
     "text": [
      "\n",
      "\n",
      "  0%|          | 0/7 [00:00<?, ?it/s]\u001B[A\u001B[A\n",
      "\n",
      " 14%|█▍        | 1/7 [00:00<00:01,  4.70it/s]\u001B[A\u001B[A\n",
      "\n",
      " 29%|██▊       | 2/7 [00:00<00:01,  4.63it/s]\u001B[A\u001B[A\n",
      "\n",
      " 43%|████▎     | 3/7 [00:00<00:00,  4.61it/s]\u001B[A\u001B[A\n",
      "\n",
      " 57%|█████▋    | 4/7 [00:00<00:00,  4.40it/s]\u001B[A\u001B[A\n",
      "\n",
      " 71%|███████▏  | 5/7 [00:01<00:00,  4.37it/s]\u001B[A\u001B[A\n",
      "\n",
      "100%|██████████| 7/7 [00:01<00:00,  4.97it/s]\n",
      "Processing 2025-01 queries:  34%|███▎      | 165/492 [06:52<12:10,  2.23s/query]"
     ]
    },
    {
     "output_type": "stream",
     "name": "stdout",
     "text": [
      "WARNING! Your documents have duplicate entries!  This will slow down calculation and may yield subpar results\n"
     ]
    },
    {
     "output_type": "stream",
     "name": "stderr",
     "text": [
      "\n",
      "\n",
      "  0%|          | 0/7 [00:00<?, ?it/s]\u001B[A\u001B[A\n",
      "\n",
      " 14%|█▍        | 1/7 [00:00<00:01,  4.74it/s]\u001B[A\u001B[A\n",
      "\n",
      " 29%|██▊       | 2/7 [00:00<00:01,  4.60it/s]\u001B[A\u001B[A\n",
      "\n",
      " 43%|████▎     | 3/7 [00:00<00:00,  4.57it/s]\u001B[A\u001B[A\n",
      "\n",
      " 57%|█████▋    | 4/7 [00:00<00:00,  4.42it/s]\u001B[A\u001B[A\n",
      "\n",
      " 71%|███████▏  | 5/7 [00:01<00:00,  4.40it/s]\u001B[A\u001B[A\n",
      "\n",
      "100%|██████████| 7/7 [00:01<00:00,  5.00it/s]\n",
      "Processing 2025-01 queries:  34%|███▎      | 166/492 [06:55<12:56,  2.38s/query]\n",
      "\n",
      "  0%|          | 0/7 [00:00<?, ?it/s]\u001B[A\u001B[A\n",
      "\n",
      " 14%|█▍        | 1/7 [00:00<00:01,  4.75it/s]\u001B[A\u001B[A\n",
      "\n",
      " 29%|██▊       | 2/7 [00:00<00:01,  4.64it/s]\u001B[A\u001B[A\n",
      "\n",
      " 43%|████▎     | 3/7 [00:00<00:00,  4.59it/s]\u001B[A\u001B[A\n",
      "\n",
      " 57%|█████▋    | 4/7 [00:00<00:00,  4.43it/s]\u001B[A\u001B[A\n",
      "\n",
      " 71%|███████▏  | 5/7 [00:01<00:00,  4.33it/s]\u001B[A\u001B[A\n",
      "\n",
      "100%|██████████| 7/7 [00:01<00:00,  5.00it/s]\n",
      "Processing 2025-01 queries:  34%|███▍      | 167/492 [06:58<13:26,  2.48s/query]"
     ]
    },
    {
     "output_type": "stream",
     "name": "stdout",
     "text": [
      "WARNING! Your documents have duplicate entries!  This will slow down calculation and may yield subpar results\n"
     ]
    },
    {
     "output_type": "stream",
     "name": "stderr",
     "text": [
      "\n",
      "\n",
      "  0%|          | 0/6 [00:00<?, ?it/s]\u001B[A\u001B[A\n",
      "\n",
      " 17%|█▋        | 1/6 [00:00<00:01,  4.62it/s]\u001B[A\u001B[A\n",
      "\n",
      " 33%|███▎      | 2/6 [00:00<00:00,  4.54it/s]\u001B[A\u001B[A\n",
      "\n",
      " 50%|█████     | 3/6 [00:00<00:00,  4.50it/s]\u001B[A\u001B[A\n",
      "\n",
      " 67%|██████▋   | 4/6 [00:00<00:00,  4.30it/s]\u001B[A\u001B[A\n",
      "\n",
      "100%|██████████| 6/6 [00:01<00:00,  4.92it/s]\n",
      "Processing 2025-01 queries:  34%|███▍      | 168/492 [07:00<12:49,  2.38s/query]"
     ]
    },
    {
     "output_type": "stream",
     "name": "stdout",
     "text": [
      "WARNING! Your documents have duplicate entries!  This will slow down calculation and may yield subpar results\n"
     ]
    },
    {
     "output_type": "stream",
     "name": "stderr",
     "text": [
      "\n",
      "\n",
      "  0%|          | 0/7 [00:00<?, ?it/s]\u001B[A\u001B[A\n",
      "\n",
      " 14%|█▍        | 1/7 [00:00<00:01,  4.58it/s]\u001B[A\u001B[A\n",
      "\n",
      " 29%|██▊       | 2/7 [00:00<00:01,  4.55it/s]\u001B[A\u001B[A\n",
      "\n",
      " 43%|████▎     | 3/7 [00:00<00:00,  4.55it/s]\u001B[A\u001B[A\n",
      "\n",
      " 57%|█████▋    | 4/7 [00:00<00:00,  4.44it/s]\u001B[A\u001B[A\n",
      "\n",
      " 71%|███████▏  | 5/7 [00:01<00:00,  4.39it/s]\u001B[A\u001B[A\n",
      "\n",
      "100%|██████████| 7/7 [00:01<00:00,  4.96it/s]\n",
      "Processing 2025-01 queries:  34%|███▍      | 169/492 [07:03<13:28,  2.50s/query]"
     ]
    },
    {
     "output_type": "stream",
     "name": "stdout",
     "text": [
      "WARNING! Your documents have duplicate entries!  This will slow down calculation and may yield subpar results\n"
     ]
    },
    {
     "output_type": "stream",
     "name": "stderr",
     "text": [
      "\n",
      "\n",
      "  0%|          | 0/7 [00:00<?, ?it/s]\u001B[A\u001B[A\n",
      "\n",
      " 14%|█▍        | 1/7 [00:00<00:01,  4.74it/s]\u001B[A\u001B[A\n",
      "\n",
      " 29%|██▊       | 2/7 [00:00<00:01,  4.58it/s]\u001B[A\u001B[A\n",
      "\n",
      " 43%|████▎     | 3/7 [00:00<00:00,  4.53it/s]\u001B[A\u001B[A\n",
      "\n",
      " 57%|█████▋    | 4/7 [00:00<00:00,  4.36it/s]\u001B[A\u001B[A\n",
      "\n",
      " 71%|███████▏  | 5/7 [00:01<00:00,  4.35it/s]\u001B[A\u001B[A\n",
      "\n",
      "100%|██████████| 7/7 [00:01<00:00,  4.97it/s]\n",
      "Processing 2025-01 queries:  35%|███▍      | 170/492 [07:06<14:34,  2.72s/query]"
     ]
    },
    {
     "output_type": "stream",
     "name": "stdout",
     "text": [
      "WARNING! Your documents have duplicate entries!  This will slow down calculation and may yield subpar results\n"
     ]
    },
    {
     "output_type": "stream",
     "name": "stderr",
     "text": [
      "\n",
      "\n",
      "  0%|          | 0/7 [00:00<?, ?it/s]\u001B[A\u001B[A\n",
      "\n",
      " 14%|█▍        | 1/7 [00:00<00:01,  4.70it/s]\u001B[A\u001B[A\n",
      "\n",
      " 29%|██▊       | 2/7 [00:00<00:01,  4.56it/s]\u001B[A\u001B[A\n",
      "\n",
      " 43%|████▎     | 3/7 [00:00<00:00,  4.51it/s]\u001B[A\u001B[A\n",
      "\n",
      " 57%|█████▋    | 4/7 [00:00<00:00,  4.42it/s]\u001B[A\u001B[A\n",
      "\n",
      " 71%|███████▏  | 5/7 [00:01<00:00,  4.28it/s]\u001B[A\u001B[A\n",
      "\n",
      "100%|██████████| 7/7 [00:01<00:00,  4.90it/s]\n",
      "Processing 2025-01 queries:  35%|███▍      | 171/492 [07:08<13:52,  2.59s/query]\n",
      "\n",
      "  0%|          | 0/7 [00:00<?, ?it/s]\u001B[A\u001B[A\n",
      "\n",
      " 14%|█▍        | 1/7 [00:00<00:01,  4.64it/s]\u001B[A\u001B[A\n",
      "\n",
      " 29%|██▊       | 2/7 [00:00<00:01,  4.58it/s]\u001B[A\u001B[A\n",
      "\n",
      " 43%|████▎     | 3/7 [00:00<00:00,  4.53it/s]\u001B[A\u001B[A\n",
      "\n",
      " 57%|█████▋    | 4/7 [00:00<00:00,  4.29it/s]\u001B[A\u001B[A\n",
      "\n",
      " 71%|███████▏  | 5/7 [00:01<00:00,  4.33it/s]\u001B[A\u001B[A\n",
      "\n",
      "100%|██████████| 7/7 [00:01<00:00,  4.93it/s]\n",
      "Processing 2025-01 queries:  35%|███▍      | 172/492 [07:11<14:07,  2.65s/query]\n",
      "\n",
      "  0%|          | 0/7 [00:00<?, ?it/s]\u001B[A\u001B[A\n",
      "\n",
      " 14%|█▍        | 1/7 [00:00<00:01,  4.70it/s]\u001B[A\u001B[A\n",
      "\n",
      " 29%|██▊       | 2/7 [00:00<00:01,  4.59it/s]\u001B[A\u001B[A\n",
      "\n",
      " 43%|████▎     | 3/7 [00:00<00:00,  4.57it/s]\u001B[A\u001B[A\n",
      "\n",
      " 57%|█████▋    | 4/7 [00:00<00:00,  4.34it/s]\u001B[A\u001B[A\n",
      "\n",
      " 71%|███████▏  | 5/7 [00:01<00:00,  4.33it/s]\u001B[A\u001B[A\n",
      "\n",
      "100%|██████████| 7/7 [00:01<00:00,  4.94it/s]\n",
      "Processing 2025-01 queries:  35%|███▌      | 173/492 [07:14<14:11,  2.67s/query]"
     ]
    },
    {
     "output_type": "stream",
     "name": "stdout",
     "text": [
      "WARNING! Your documents have duplicate entries!  This will slow down calculation and may yield subpar results\n"
     ]
    },
    {
     "output_type": "stream",
     "name": "stderr",
     "text": [
      "\n",
      "\n",
      "  0%|          | 0/7 [00:00<?, ?it/s]\u001B[A\u001B[A\n",
      "\n",
      " 14%|█▍        | 1/7 [00:00<00:01,  4.63it/s]\u001B[A\u001B[A\n",
      "\n",
      " 29%|██▊       | 2/7 [00:00<00:01,  4.57it/s]\u001B[A\u001B[A\n",
      "\n",
      " 43%|████▎     | 3/7 [00:00<00:00,  4.53it/s]\u001B[A\u001B[A\n",
      "\n",
      " 57%|█████▋    | 4/7 [00:00<00:00,  4.28it/s]\u001B[A\u001B[A\n",
      "\n",
      " 71%|███████▏  | 5/7 [00:01<00:00,  4.32it/s]\u001B[A\u001B[A\n",
      "\n",
      "100%|██████████| 7/7 [00:01<00:00,  4.91it/s]\n",
      "Processing 2025-01 queries:  35%|███▌      | 174/492 [07:17<14:35,  2.75s/query]"
     ]
    },
    {
     "output_type": "stream",
     "name": "stdout",
     "text": [
      "WARNING! Your documents have duplicate entries!  This will slow down calculation and may yield subpar results\n"
     ]
    },
    {
     "output_type": "stream",
     "name": "stderr",
     "text": [
      "\n",
      "\n",
      "  0%|          | 0/7 [00:00<?, ?it/s]\u001B[A\u001B[A\n",
      "\n",
      " 14%|█▍        | 1/7 [00:00<00:01,  4.76it/s]\u001B[A\u001B[A\n",
      "\n",
      " 29%|██▊       | 2/7 [00:00<00:01,  4.62it/s]\u001B[A\u001B[A\n",
      "\n",
      " 43%|████▎     | 3/7 [00:00<00:00,  4.55it/s]\u001B[A\u001B[A\n",
      "\n",
      " 57%|█████▋    | 4/7 [00:00<00:00,  4.34it/s]\u001B[A\u001B[A\n",
      "\n",
      " 71%|███████▏  | 5/7 [00:01<00:00,  4.31it/s]\u001B[A\u001B[A\n",
      "\n",
      "100%|██████████| 7/7 [00:01<00:00,  4.95it/s]\n",
      "Processing 2025-01 queries:  36%|███▌      | 175/492 [07:20<14:37,  2.77s/query]"
     ]
    },
    {
     "output_type": "stream",
     "name": "stdout",
     "text": [
      "WARNING! Your documents have duplicate entries!  This will slow down calculation and may yield subpar results\n"
     ]
    },
    {
     "output_type": "stream",
     "name": "stderr",
     "text": [
      "\n",
      "\n",
      "  0%|          | 0/7 [00:00<?, ?it/s]\u001B[A\u001B[A\n",
      "\n",
      " 14%|█▍        | 1/7 [00:00<00:01,  4.71it/s]\u001B[A\u001B[A\n",
      "\n",
      " 29%|██▊       | 2/7 [00:00<00:01,  4.56it/s]\u001B[A\u001B[A\n",
      "\n",
      " 43%|████▎     | 3/7 [00:00<00:00,  4.50it/s]\u001B[A\u001B[A\n",
      "\n",
      " 57%|█████▋    | 4/7 [00:00<00:00,  4.25it/s]\u001B[A\u001B[A\n",
      "\n",
      " 71%|███████▏  | 5/7 [00:01<00:00,  4.27it/s]\u001B[A\u001B[A\n",
      "\n",
      "100%|██████████| 7/7 [00:01<00:00,  4.91it/s]\n",
      "Processing 2025-01 queries:  36%|███▌      | 176/492 [07:22<14:35,  2.77s/query]"
     ]
    },
    {
     "output_type": "stream",
     "name": "stdout",
     "text": [
      "WARNING! Your documents have duplicate entries!  This will slow down calculation and may yield subpar results\n"
     ]
    },
    {
     "output_type": "stream",
     "name": "stderr",
     "text": [
      "\n",
      "\n",
      "  0%|          | 0/7 [00:00<?, ?it/s]\u001B[A\u001B[A\n",
      "\n",
      " 14%|█▍        | 1/7 [00:00<00:01,  4.71it/s]\u001B[A\u001B[A\n",
      "\n",
      " 29%|██▊       | 2/7 [00:00<00:01,  4.59it/s]\u001B[A\u001B[A\n",
      "\n",
      " 43%|████▎     | 3/7 [00:00<00:00,  4.56it/s]\u001B[A\u001B[A\n",
      "\n",
      " 57%|█████▋    | 4/7 [00:00<00:00,  4.35it/s]\u001B[A\u001B[A\n",
      "\n",
      " 71%|███████▏  | 5/7 [00:01<00:00,  4.35it/s]\u001B[A\u001B[A\n",
      "\n",
      "100%|██████████| 7/7 [00:01<00:00,  4.95it/s]\n",
      "Processing 2025-01 queries:  36%|███▌      | 177/492 [07:25<13:47,  2.63s/query]\n",
      "\n",
      "  0%|          | 0/5 [00:00<?, ?it/s]\u001B[A\u001B[A\n",
      "\n",
      " 20%|██        | 1/5 [00:00<00:00,  4.66it/s]\u001B[A\u001B[A\n",
      "\n",
      " 40%|████      | 2/5 [00:00<00:00,  4.55it/s]\u001B[A\u001B[A\n",
      "\n",
      " 60%|██████    | 3/5 [00:00<00:00,  4.52it/s]\u001B[A\u001B[A\n",
      "\n",
      " 80%|████████  | 4/5 [00:00<00:00,  4.29it/s]\u001B[A\u001B[A\n",
      "\n",
      "100%|██████████| 5/5 [00:01<00:00,  4.60it/s]\n",
      "Processing 2025-01 queries:  36%|███▌      | 178/492 [07:27<12:45,  2.44s/query]\n",
      "\n",
      "  0%|          | 0/1 [00:00<?, ?it/s]\u001B[A\u001B[A\n",
      "\n",
      "100%|██████████| 1/1 [00:00<00:00,  5.02it/s]\n",
      "Processing 2025-01 queries:  36%|███▋      | 179/492 [07:28<10:27,  2.00s/query]"
     ]
    },
    {
     "output_type": "stream",
     "name": "stdout",
     "text": [
      "WARNING! Your documents have duplicate entries!  This will slow down calculation and may yield subpar results\n"
     ]
    },
    {
     "output_type": "stream",
     "name": "stderr",
     "text": [
      "\n",
      "\n",
      "  0%|          | 0/7 [00:00<?, ?it/s]\u001B[A\u001B[A\n",
      "\n",
      " 14%|█▍        | 1/7 [00:00<00:01,  4.72it/s]\u001B[A\u001B[A\n",
      "\n",
      " 29%|██▊       | 2/7 [00:00<00:01,  4.56it/s]\u001B[A\u001B[A\n",
      "\n",
      " 43%|████▎     | 3/7 [00:00<00:00,  4.51it/s]\u001B[A\u001B[A\n",
      "\n",
      " 57%|█████▋    | 4/7 [00:00<00:00,  4.25it/s]\u001B[A\u001B[A\n",
      "\n",
      " 71%|███████▏  | 5/7 [00:01<00:00,  4.27it/s]\u001B[A\u001B[A\n",
      "\n",
      "100%|██████████| 7/7 [00:01<00:00,  4.90it/s]\n",
      "Processing 2025-01 queries:  37%|███▋      | 180/492 [07:30<11:34,  2.23s/query]"
     ]
    },
    {
     "output_type": "stream",
     "name": "stdout",
     "text": [
      "INFO: Processed 180/492 queries for 2025-01. Avg time/query: 2504.49 ms.\n"
     ]
    },
    {
     "output_type": "stream",
     "name": "stderr",
     "text": [
      "\n",
      "\n",
      "  0%|          | 0/7 [00:00<?, ?it/s]\u001B[A\u001B[A\n",
      "\n",
      " 14%|█▍        | 1/7 [00:00<00:01,  4.68it/s]\u001B[A\u001B[A\n",
      "\n",
      " 29%|██▊       | 2/7 [00:00<00:01,  4.58it/s]\u001B[A\u001B[A\n",
      "\n",
      " 43%|████▎     | 3/7 [00:00<00:00,  4.53it/s]\u001B[A\u001B[A\n",
      "\n",
      " 57%|█████▋    | 4/7 [00:00<00:00,  4.47it/s]\u001B[A\u001B[A\n",
      "\n",
      " 71%|███████▏  | 5/7 [00:01<00:00,  4.27it/s]\u001B[A\u001B[A\n",
      "\n",
      "100%|██████████| 7/7 [00:01<00:00,  4.92it/s]\n",
      "Processing 2025-01 queries:  37%|███▋      | 181/492 [07:33<12:21,  2.39s/query]\n",
      "\n",
      "  0%|          | 0/1 [00:00<?, ?it/s]\u001B[A\u001B[A\n",
      "\n",
      "100%|██████████| 1/1 [00:00<00:00,  6.72it/s]\n",
      "Processing 2025-01 queries:  37%|███▋      | 182/492 [07:34<10:05,  1.95s/query]\n",
      "\n",
      "  0%|          | 0/2 [00:00<?, ?it/s]\u001B[A\u001B[A\n",
      "\n",
      "100%|██████████| 2/2 [00:00<00:00,  6.71it/s]\n",
      "Processing 2025-01 queries:  37%|███▋      | 183/492 [07:35<08:48,  1.71s/query]\n",
      "\n",
      "  0%|          | 0/7 [00:00<?, ?it/s]\u001B[A\u001B[A\n",
      "\n",
      " 14%|█▍        | 1/7 [00:00<00:01,  4.71it/s]\u001B[A\u001B[A\n",
      "\n",
      " 29%|██▊       | 2/7 [00:00<00:01,  4.61it/s]\u001B[A\u001B[A\n",
      "\n",
      " 43%|████▎     | 3/7 [00:00<00:00,  4.57it/s]\u001B[A\u001B[A\n",
      "\n",
      " 57%|█████▋    | 4/7 [00:00<00:00,  4.42it/s]\u001B[A\u001B[A\n",
      "\n",
      " 71%|███████▏  | 5/7 [00:01<00:00,  4.33it/s]\u001B[A\u001B[A\n",
      "\n",
      "100%|██████████| 7/7 [00:01<00:00,  4.96it/s]\n",
      "Processing 2025-01 queries:  37%|███▋      | 184/492 [07:38<09:43,  1.89s/query]"
     ]
    },
    {
     "output_type": "stream",
     "name": "stdout",
     "text": [
      "WARNING! Your documents have duplicate entries!  This will slow down calculation and may yield subpar results\n"
     ]
    },
    {
     "output_type": "stream",
     "name": "stderr",
     "text": [
      "\n",
      "\n",
      "  0%|          | 0/7 [00:00<?, ?it/s]\u001B[A\u001B[A\n",
      "\n",
      " 14%|█▍        | 1/7 [00:00<00:01,  3.46it/s]\u001B[A\u001B[A\n",
      "\n",
      " 29%|██▊       | 2/7 [00:00<00:01,  4.03it/s]\u001B[A\u001B[A\n",
      "\n",
      " 43%|████▎     | 3/7 [00:00<00:00,  4.23it/s]\u001B[A\u001B[A\n",
      "\n",
      " 57%|█████▋    | 4/7 [00:00<00:00,  4.33it/s]\u001B[A\u001B[A\n",
      "\n",
      " 71%|███████▏  | 5/7 [00:01<00:00,  4.30it/s]\u001B[A\u001B[A\n",
      "\n",
      "100%|██████████| 7/7 [00:01<00:00,  4.72it/s]\n",
      "Processing 2025-01 queries:  38%|███▊      | 185/492 [07:42<13:15,  2.59s/query]"
     ]
    },
    {
     "output_type": "stream",
     "name": "stdout",
     "text": [
      "WARNING! Your documents have duplicate entries!  This will slow down calculation and may yield subpar results\n"
     ]
    },
    {
     "output_type": "stream",
     "name": "stderr",
     "text": [
      "\n",
      "\n",
      "  0%|          | 0/7 [00:00<?, ?it/s]\u001B[A\u001B[A\n",
      "\n",
      " 14%|█▍        | 1/7 [00:00<00:01,  4.79it/s]\u001B[A\u001B[A\n",
      "\n",
      " 29%|██▊       | 2/7 [00:00<00:01,  4.66it/s]\u001B[A\u001B[A\n",
      "\n",
      " 43%|████▎     | 3/7 [00:00<00:00,  4.60it/s]\u001B[A\u001B[A\n",
      "\n",
      " 57%|█████▋    | 4/7 [00:00<00:00,  4.35it/s]\u001B[A\u001B[A\n",
      "\n",
      " 71%|███████▏  | 5/7 [00:01<00:00,  4.35it/s]\u001B[A\u001B[A\n",
      "\n",
      "100%|██████████| 7/7 [00:01<00:00,  4.97it/s]\n",
      "Processing 2025-01 queries:  38%|███▊      | 186/492 [07:45<13:29,  2.64s/query]"
     ]
    },
    {
     "output_type": "stream",
     "name": "stdout",
     "text": [
      "WARNING! Your documents have duplicate entries!  This will slow down calculation and may yield subpar results\n"
     ]
    },
    {
     "output_type": "stream",
     "name": "stderr",
     "text": [
      "\n",
      "\n",
      "  0%|          | 0/7 [00:00<?, ?it/s]\u001B[A\u001B[A\n",
      "\n",
      " 14%|█▍        | 1/7 [00:00<00:01,  4.62it/s]\u001B[A\u001B[A\n",
      "\n",
      " 29%|██▊       | 2/7 [00:00<00:01,  4.59it/s]\u001B[A\u001B[A\n",
      "\n",
      " 43%|████▎     | 3/7 [00:00<00:00,  4.56it/s]\u001B[A\u001B[A\n",
      "\n",
      " 57%|█████▋    | 4/7 [00:00<00:00,  4.41it/s]\u001B[A\u001B[A\n",
      "\n",
      " 71%|███████▏  | 5/7 [00:01<00:00,  4.40it/s]\u001B[A\u001B[A\n",
      "\n",
      "100%|██████████| 7/7 [00:01<00:00,  4.97it/s]\n",
      "Processing 2025-01 queries:  38%|███▊      | 187/492 [07:47<13:34,  2.67s/query]"
     ]
    },
    {
     "output_type": "stream",
     "name": "stdout",
     "text": [
      "WARNING! Your documents have duplicate entries!  This will slow down calculation and may yield subpar results\n"
     ]
    },
    {
     "output_type": "stream",
     "name": "stderr",
     "text": [
      "\n",
      "\n",
      "  0%|          | 0/7 [00:00<?, ?it/s]\u001B[A\u001B[A\n",
      "\n",
      " 14%|█▍        | 1/7 [00:00<00:01,  4.74it/s]\u001B[A\u001B[A\n",
      "\n",
      " 29%|██▊       | 2/7 [00:00<00:01,  4.59it/s]\u001B[A\u001B[A\n",
      "\n",
      " 43%|████▎     | 3/7 [00:00<00:00,  4.54it/s]\u001B[A\u001B[A\n",
      "\n",
      " 57%|█████▋    | 4/7 [00:00<00:00,  4.35it/s]\u001B[A\u001B[A\n",
      "\n",
      " 71%|███████▏  | 5/7 [00:01<00:00,  4.34it/s]\u001B[A\u001B[A\n",
      "\n",
      "100%|██████████| 7/7 [00:01<00:00,  4.97it/s]\n",
      "Processing 2025-01 queries:  38%|███▊      | 188/492 [07:50<13:38,  2.69s/query]\n",
      "\n",
      "  0%|          | 0/3 [00:00<?, ?it/s]\u001B[A\u001B[A\n",
      "\n",
      " 33%|███▎      | 1/3 [00:00<00:00,  4.60it/s]\u001B[A\u001B[A\n",
      "\n",
      " 67%|██████▋   | 2/3 [00:00<00:00,  4.50it/s]\u001B[A\u001B[A\n",
      "\n",
      "100%|██████████| 3/3 [00:00<00:00,  5.07it/s]\n",
      "Processing 2025-01 queries:  38%|███▊      | 189/492 [07:51<11:42,  2.32s/query]"
     ]
    },
    {
     "output_type": "stream",
     "name": "stdout",
     "text": [
      "WARNING! Your documents have duplicate entries!  This will slow down calculation and may yield subpar results\n"
     ]
    },
    {
     "output_type": "stream",
     "name": "stderr",
     "text": [
      "\n",
      "\n",
      "  0%|          | 0/7 [00:00<?, ?it/s]\u001B[A\u001B[A\n",
      "\n",
      " 14%|█▍        | 1/7 [00:00<00:01,  4.62it/s]\u001B[A\u001B[A\n",
      "\n",
      " 29%|██▊       | 2/7 [00:00<00:01,  4.60it/s]\u001B[A\u001B[A\n",
      "\n",
      " 43%|████▎     | 3/7 [00:00<00:00,  4.57it/s]\u001B[A\u001B[A\n",
      "\n",
      " 57%|█████▋    | 4/7 [00:00<00:00,  4.42it/s]\u001B[A\u001B[A\n",
      "\n",
      " 71%|███████▏  | 5/7 [00:01<00:00,  4.39it/s]\u001B[A\u001B[A\n",
      "\n",
      "100%|██████████| 7/7 [00:01<00:00,  4.97it/s]\n",
      "Processing 2025-01 queries:  39%|███▊      | 190/492 [07:54<11:39,  2.31s/query]\n",
      "\n",
      "  0%|          | 0/7 [00:00<?, ?it/s]\u001B[A\u001B[A\n",
      "\n",
      " 14%|█▍        | 1/7 [00:00<00:01,  4.72it/s]\u001B[A\u001B[A\n",
      "\n",
      " 29%|██▊       | 2/7 [00:00<00:01,  4.66it/s]\u001B[A\u001B[A\n",
      "\n",
      " 43%|████▎     | 3/7 [00:00<00:00,  4.57it/s]\u001B[A\u001B[A\n",
      "\n",
      " 57%|█████▋    | 4/7 [00:00<00:00,  4.50it/s]\u001B[A\u001B[A\n",
      "\n",
      " 71%|███████▏  | 5/7 [00:01<00:00,  4.29it/s]\u001B[A\u001B[A\n",
      "\n",
      "100%|██████████| 7/7 [00:01<00:00,  4.95it/s]\n",
      "Processing 2025-01 queries:  39%|███▉      | 191/492 [07:57<12:20,  2.46s/query]\n",
      "\n",
      "  0%|          | 0/1 [00:00<?, ?it/s]\u001B[A\u001B[A\n",
      "\n",
      "100%|██████████| 1/1 [00:00<00:00,  9.30it/s]\n",
      "Processing 2025-01 queries:  39%|███▉      | 192/492 [07:58<09:59,  2.00s/query]"
     ]
    },
    {
     "output_type": "stream",
     "name": "stdout",
     "text": [
      "WARNING! Your documents have duplicate entries!  This will slow down calculation and may yield subpar results\n"
     ]
    },
    {
     "output_type": "stream",
     "name": "stderr",
     "text": [
      "\n",
      "\n",
      "  0%|          | 0/7 [00:00<?, ?it/s]\u001B[A\u001B[A\n",
      "\n",
      " 14%|█▍        | 1/7 [00:00<00:01,  3.92it/s]\u001B[A\u001B[A\n",
      "\n",
      " 29%|██▊       | 2/7 [00:00<00:01,  4.25it/s]\u001B[A\u001B[A\n",
      "\n",
      " 43%|████▎     | 3/7 [00:00<00:00,  4.36it/s]\u001B[A\u001B[A\n",
      "\n",
      " 57%|█████▋    | 4/7 [00:00<00:00,  4.41it/s]\u001B[A\u001B[A\n",
      "\n",
      " 71%|███████▏  | 5/7 [00:01<00:00,  4.25it/s]\u001B[A\u001B[A\n",
      "\n",
      "100%|██████████| 7/7 [00:01<00:00,  4.81it/s]\n",
      "Processing 2025-01 queries:  39%|███▉      | 193/492 [08:02<13:08,  2.64s/query]"
     ]
    },
    {
     "output_type": "stream",
     "name": "stdout",
     "text": [
      "WARNING! Your documents have duplicate entries!  This will slow down calculation and may yield subpar results\n"
     ]
    },
    {
     "output_type": "stream",
     "name": "stderr",
     "text": [
      "\n",
      "\n",
      "  0%|          | 0/7 [00:00<?, ?it/s]\u001B[A\u001B[A\n",
      "\n",
      " 14%|█▍        | 1/7 [00:00<00:01,  3.92it/s]\u001B[A\u001B[A\n",
      "\n",
      " 29%|██▊       | 2/7 [00:00<00:01,  4.24it/s]\u001B[A\u001B[A\n",
      "\n",
      " 43%|████▎     | 3/7 [00:00<00:00,  4.38it/s]\u001B[A\u001B[A\n",
      "\n",
      " 57%|█████▋    | 4/7 [00:00<00:00,  4.43it/s]\u001B[A\u001B[A\n",
      "\n",
      " 71%|███████▏  | 5/7 [00:01<00:00,  4.34it/s]\u001B[A\u001B[A\n",
      "\n",
      "100%|██████████| 7/7 [00:01<00:00,  4.81it/s]\n",
      "Processing 2025-01 queries:  39%|███▉      | 194/492 [08:05<14:53,  3.00s/query]\n",
      "\n",
      "  0%|          | 0/1 [00:00<?, ?it/s]\u001B[A\u001B[A\n",
      "\n",
      "100%|██████████| 1/1 [00:00<00:00,  6.95it/s]\n",
      "Processing 2025-01 queries:  40%|███▉      | 195/492 [08:07<12:26,  2.51s/query]\n",
      "\n",
      "  0%|          | 0/7 [00:00<?, ?it/s]\u001B[A\u001B[A\n",
      "\n",
      " 14%|█▍        | 1/7 [00:00<00:01,  4.77it/s]\u001B[A\u001B[A\n",
      "\n",
      " 29%|██▊       | 2/7 [00:00<00:01,  4.64it/s]\u001B[A\u001B[A\n",
      "\n",
      " 43%|████▎     | 3/7 [00:00<00:00,  4.62it/s]\u001B[A\u001B[A\n",
      "\n",
      " 57%|█████▋    | 4/7 [00:00<00:00,  4.57it/s]\u001B[A\u001B[A\n",
      "\n",
      " 71%|███████▏  | 5/7 [00:01<00:00,  4.32it/s]\u001B[A\u001B[A\n",
      "\n",
      "100%|██████████| 7/7 [00:01<00:00,  4.98it/s]\n",
      "Processing 2025-01 queries:  40%|███▉      | 196/492 [08:10<12:39,  2.56s/query]"
     ]
    },
    {
     "output_type": "stream",
     "name": "stdout",
     "text": [
      "WARNING! Your documents have duplicate entries!  This will slow down calculation and may yield subpar results\n"
     ]
    },
    {
     "output_type": "stream",
     "name": "stderr",
     "text": [
      "\n",
      "\n",
      "  0%|          | 0/7 [00:00<?, ?it/s]\u001B[A\u001B[A\n",
      "\n",
      " 14%|█▍        | 1/7 [00:00<00:01,  4.60it/s]\u001B[A\u001B[A\n",
      "\n",
      " 29%|██▊       | 2/7 [00:00<00:01,  4.56it/s]\u001B[A\u001B[A\n",
      "\n",
      " 43%|████▎     | 3/7 [00:00<00:00,  4.52it/s]\u001B[A\u001B[A\n",
      "\n",
      " 57%|█████▋    | 4/7 [00:00<00:00,  4.30it/s]\u001B[A\u001B[A\n",
      "\n",
      " 71%|███████▏  | 5/7 [00:01<00:00,  4.33it/s]\u001B[A\u001B[A\n",
      "\n",
      "100%|██████████| 7/7 [00:01<00:00,  4.92it/s]\n",
      "Processing 2025-01 queries:  40%|████      | 197/492 [08:13<13:28,  2.74s/query]\n",
      "\n",
      "100%|██████████| 1/1 [00:00<00:00, 74.45it/s]\n",
      "Processing 2025-01 queries:  40%|████      | 198/492 [08:13<10:34,  2.16s/query]"
     ]
    },
    {
     "output_type": "stream",
     "name": "stdout",
     "text": [
      "WARNING! Your documents have duplicate entries!  This will slow down calculation and may yield subpar results\n"
     ]
    },
    {
     "output_type": "stream",
     "name": "stderr",
     "text": [
      "\n",
      "\n",
      "  0%|          | 0/7 [00:00<?, ?it/s]\u001B[A\u001B[A\n",
      "\n",
      " 14%|█▍        | 1/7 [00:00<00:01,  3.92it/s]\u001B[A\u001B[A\n",
      "\n",
      " 29%|██▊       | 2/7 [00:00<00:01,  4.25it/s]\u001B[A\u001B[A\n",
      "\n",
      " 43%|████▎     | 3/7 [00:00<00:00,  4.37it/s]\u001B[A\u001B[A\n",
      "\n",
      " 57%|█████▋    | 4/7 [00:00<00:00,  4.42it/s]\u001B[A\u001B[A\n",
      "\n",
      " 71%|███████▏  | 5/7 [00:01<00:00,  4.24it/s]\u001B[A\u001B[A\n",
      "\n",
      "100%|██████████| 7/7 [00:01<00:00,  4.79it/s]\n",
      "Processing 2025-01 queries:  40%|████      | 199/492 [08:16<11:33,  2.37s/query]\n",
      "\n",
      "  0%|          | 0/1 [00:00<?, ?it/s]\u001B[A\u001B[A\n",
      "\n",
      "100%|██████████| 1/1 [00:00<00:00,  5.20it/s]\n",
      "Processing 2025-01 queries:  41%|████      | 200/492 [08:17<09:31,  1.96s/query]"
     ]
    },
    {
     "output_type": "stream",
     "name": "stdout",
     "text": [
      "INFO: Processed 200/492 queries for 2025-01. Avg time/query: 2488.69 ms.\n"
     ]
    },
    {
     "output_type": "stream",
     "name": "stderr",
     "text": [
      "\n",
      "\n",
      "  0%|          | 0/7 [00:00<?, ?it/s]\u001B[A\u001B[A\n",
      "\n",
      " 14%|█▍        | 1/7 [00:00<00:01,  4.67it/s]\u001B[A\u001B[A\n",
      "\n",
      " 29%|██▊       | 2/7 [00:00<00:01,  4.58it/s]\u001B[A\u001B[A\n",
      "\n",
      " 43%|████▎     | 3/7 [00:00<00:00,  4.53it/s]\u001B[A\u001B[A\n",
      "\n",
      " 57%|█████▋    | 4/7 [00:00<00:00,  4.41it/s]\u001B[A\u001B[A\n",
      "\n",
      " 71%|███████▏  | 5/7 [00:01<00:00,  4.28it/s]\u001B[A\u001B[A\n",
      "\n",
      "100%|██████████| 7/7 [00:01<00:00,  4.92it/s]\n",
      "Processing 2025-01 queries:  41%|████      | 201/492 [08:20<10:39,  2.20s/query]"
     ]
    },
    {
     "output_type": "stream",
     "name": "stdout",
     "text": [
      "WARNING! Your documents have duplicate entries!  This will slow down calculation and may yield subpar results\n"
     ]
    },
    {
     "output_type": "stream",
     "name": "stderr",
     "text": [
      "\n",
      "\n",
      "  0%|          | 0/7 [00:00<?, ?it/s]\u001B[A\u001B[A\n",
      "\n",
      " 14%|█▍        | 1/7 [00:00<00:01,  4.61it/s]\u001B[A\u001B[A\n",
      "\n",
      " 29%|██▊       | 2/7 [00:00<00:01,  4.54it/s]\u001B[A\u001B[A\n",
      "\n",
      " 43%|████▎     | 3/7 [00:00<00:00,  4.52it/s]\u001B[A\u001B[A\n",
      "\n",
      " 57%|█████▋    | 4/7 [00:00<00:00,  4.28it/s]\u001B[A\u001B[A\n",
      "\n",
      " 71%|███████▏  | 5/7 [00:01<00:00,  4.31it/s]\u001B[A\u001B[A\n",
      "\n",
      "100%|██████████| 7/7 [00:01<00:00,  4.91it/s]\n",
      "Processing 2025-01 queries:  41%|████      | 202/492 [08:23<11:23,  2.36s/query]"
     ]
    },
    {
     "output_type": "stream",
     "name": "stdout",
     "text": [
      "WARNING! Your documents have duplicate entries!  This will slow down calculation and may yield subpar results\n"
     ]
    },
    {
     "output_type": "stream",
     "name": "stderr",
     "text": [
      "\n",
      "\n",
      "  0%|          | 0/7 [00:00<?, ?it/s]\u001B[A\u001B[A\n",
      "\n",
      " 14%|█▍        | 1/7 [00:00<00:01,  4.56it/s]\u001B[A\u001B[A\n",
      "\n",
      " 29%|██▊       | 2/7 [00:00<00:01,  4.51it/s]\u001B[A\u001B[A\n",
      "\n",
      " 43%|████▎     | 3/7 [00:00<00:00,  4.51it/s]\u001B[A\u001B[A\n",
      "\n",
      " 57%|█████▋    | 4/7 [00:00<00:00,  4.26it/s]\u001B[A\u001B[A\n",
      "\n",
      " 71%|███████▏  | 5/7 [00:01<00:00,  4.25it/s]\u001B[A\u001B[A\n",
      "\n",
      "100%|██████████| 7/7 [00:01<00:00,  4.85it/s]\n",
      "Processing 2025-01 queries:  41%|████▏     | 203/492 [08:25<11:17,  2.34s/query]\n",
      "\n",
      "  0%|          | 0/2 [00:00<?, ?it/s]\u001B[A\u001B[A\n",
      "\n",
      "100%|██████████| 2/2 [00:00<00:00,  6.97it/s]\n",
      "Processing 2025-01 queries:  41%|████▏     | 204/492 [08:26<09:29,  1.98s/query]"
     ]
    },
    {
     "output_type": "stream",
     "name": "stdout",
     "text": [
      "WARNING! Your documents have duplicate entries!  This will slow down calculation and may yield subpar results\n"
     ]
    },
    {
     "output_type": "stream",
     "name": "stderr",
     "text": [
      "\n",
      "\n",
      "  0%|          | 0/3 [00:00<?, ?it/s]\u001B[A\u001B[A\n",
      "\n",
      " 33%|███▎      | 1/3 [00:00<00:00,  4.46it/s]\u001B[A\u001B[A\n",
      "\n",
      " 67%|██████▋   | 2/3 [00:00<00:00,  4.60it/s]\u001B[A\u001B[A\n",
      "\n",
      "100%|██████████| 3/3 [00:00<00:00,  5.10it/s]\n",
      "Processing 2025-01 queries:  42%|████▏     | 205/492 [08:28<08:43,  1.82s/query]\n",
      "\n",
      "  0%|          | 0/7 [00:00<?, ?it/s]\u001B[A\u001B[A\n",
      "\n",
      " 14%|█▍        | 1/7 [00:00<00:01,  4.60it/s]\u001B[A\u001B[A\n",
      "\n",
      " 29%|██▊       | 2/7 [00:00<00:01,  4.51it/s]\u001B[A\u001B[A\n",
      "\n",
      " 43%|████▎     | 3/7 [00:00<00:00,  4.48it/s]\u001B[A\u001B[A\n",
      "\n",
      " 57%|█████▋    | 4/7 [00:00<00:00,  4.15it/s]\u001B[A\u001B[A\n",
      "\n",
      " 71%|███████▏  | 5/7 [00:01<00:00,  4.20it/s]\u001B[A\u001B[A\n",
      "\n",
      "100%|██████████| 7/7 [00:01<00:00,  4.83it/s]\n",
      "Processing 2025-01 queries:  42%|████▏     | 206/492 [08:31<10:36,  2.23s/query]"
     ]
    },
    {
     "output_type": "stream",
     "name": "stdout",
     "text": [
      "WARNING! Your documents have duplicate entries!  This will slow down calculation and may yield subpar results\n"
     ]
    },
    {
     "output_type": "stream",
     "name": "stderr",
     "text": [
      "\n",
      "\n",
      "  0%|          | 0/7 [00:00<?, ?it/s]\u001B[A\u001B[A\n",
      "\n",
      " 14%|█▍        | 1/7 [00:00<00:01,  4.74it/s]\u001B[A\u001B[A\n",
      "\n",
      " 29%|██▊       | 2/7 [00:00<00:01,  4.57it/s]\u001B[A\u001B[A\n",
      "\n",
      " 43%|████▎     | 3/7 [00:00<00:00,  4.50it/s]\u001B[A\u001B[A\n",
      "\n",
      " 57%|█████▋    | 4/7 [00:00<00:00,  4.17it/s]\u001B[A\u001B[A\n",
      "\n",
      " 71%|███████▏  | 5/7 [00:01<00:00,  4.24it/s]\u001B[A\u001B[A\n",
      "\n",
      "100%|██████████| 7/7 [00:01<00:00,  4.86it/s]\n",
      "Processing 2025-01 queries:  42%|████▏     | 207/492 [08:33<10:42,  2.25s/query]\n",
      "\n",
      "100%|██████████| 1/1 [00:00<00:00, 17.22it/s]\n",
      "Processing 2025-01 queries:  42%|████▏     | 208/492 [08:34<08:40,  1.83s/query]"
     ]
    },
    {
     "output_type": "stream",
     "name": "stdout",
     "text": [
      "WARNING! Your documents have duplicate entries!  This will slow down calculation and may yield subpar results\n"
     ]
    },
    {
     "output_type": "stream",
     "name": "stderr",
     "text": [
      "\n",
      "\n",
      "  0%|          | 0/4 [00:00<?, ?it/s]\u001B[A\u001B[A\n",
      "\n",
      " 25%|██▌       | 1/4 [00:00<00:00,  4.27it/s]\u001B[A\u001B[A\n",
      "\n",
      " 50%|█████     | 2/4 [00:00<00:00,  4.36it/s]\u001B[A\u001B[A\n",
      "\n",
      " 75%|███████▌  | 3/4 [00:00<00:00,  4.33it/s]\u001B[A\u001B[A\n",
      "\n",
      "100%|██████████| 4/4 [00:00<00:00,  4.58it/s]\n",
      "Processing 2025-01 queries:  42%|████▏     | 209/492 [08:36<08:31,  1.81s/query]"
     ]
    },
    {
     "output_type": "stream",
     "name": "stdout",
     "text": [
      "WARNING! Your documents have duplicate entries!  This will slow down calculation and may yield subpar results\n"
     ]
    },
    {
     "output_type": "stream",
     "name": "stderr",
     "text": [
      "\n",
      "\n",
      "  0%|          | 0/7 [00:00<?, ?it/s]\u001B[A\u001B[A\n",
      "\n",
      " 14%|█▍        | 1/7 [00:00<00:01,  4.69it/s]\u001B[A\u001B[A\n",
      "\n",
      " 29%|██▊       | 2/7 [00:00<00:01,  4.55it/s]\u001B[A\u001B[A\n",
      "\n",
      " 43%|████▎     | 3/7 [00:00<00:00,  4.48it/s]\u001B[A\u001B[A\n",
      "\n",
      " 57%|█████▋    | 4/7 [00:00<00:00,  4.14it/s]\u001B[A\u001B[A\n",
      "\n",
      " 71%|███████▏  | 5/7 [00:01<00:00,  4.23it/s]\u001B[A\u001B[A\n",
      "\n",
      "100%|██████████| 7/7 [00:01<00:00,  4.84it/s]\n",
      "Processing 2025-01 queries:  43%|████▎     | 210/492 [08:38<09:16,  1.97s/query]\n",
      "\n",
      "  0%|          | 0/7 [00:00<?, ?it/s]\u001B[A\u001B[A\n",
      "\n",
      " 14%|█▍        | 1/7 [00:00<00:01,  4.61it/s]\u001B[A\u001B[A\n",
      "\n",
      " 29%|██▊       | 2/7 [00:00<00:01,  4.52it/s]\u001B[A\u001B[A\n",
      "\n",
      " 43%|████▎     | 3/7 [00:00<00:00,  4.47it/s]\u001B[A\u001B[A\n",
      "\n",
      " 57%|█████▋    | 4/7 [00:00<00:00,  4.17it/s]\u001B[A\u001B[A\n",
      "\n",
      " 71%|███████▏  | 5/7 [00:01<00:00,  4.23it/s]\u001B[A\u001B[A\n",
      "\n",
      "100%|██████████| 7/7 [00:01<00:00,  4.85it/s]\n",
      "Processing 2025-01 queries:  43%|████▎     | 211/492 [08:41<09:45,  2.08s/query]\n",
      "\n",
      "  0%|          | 0/7 [00:00<?, ?it/s]\u001B[A\u001B[A\n",
      "\n",
      " 14%|█▍        | 1/7 [00:00<00:01,  3.64it/s]\u001B[A\u001B[A\n",
      "\n",
      " 29%|██▊       | 2/7 [00:00<00:01,  4.07it/s]\u001B[A\u001B[A\n",
      "\n",
      " 43%|████▎     | 3/7 [00:00<00:00,  4.23it/s]\u001B[A\u001B[A\n",
      "\n",
      " 57%|█████▋    | 4/7 [00:00<00:00,  4.34it/s]\u001B[A\u001B[A\n",
      "\n",
      " 71%|███████▏  | 5/7 [00:01<00:00,  4.27it/s]\u001B[A\u001B[A\n",
      "\n",
      "100%|██████████| 7/7 [00:01<00:00,  4.72it/s]\n",
      "Processing 2025-01 queries:  43%|████▎     | 212/492 [08:44<12:05,  2.59s/query]"
     ]
    },
    {
     "output_type": "stream",
     "name": "stdout",
     "text": [
      "WARNING! Your documents have duplicate entries!  This will slow down calculation and may yield subpar results\n"
     ]
    },
    {
     "output_type": "stream",
     "name": "stderr",
     "text": [
      "\n",
      "\n",
      "  0%|          | 0/7 [00:00<?, ?it/s]\u001B[A\u001B[A\n",
      "\n",
      " 14%|█▍        | 1/7 [00:00<00:01,  4.69it/s]\u001B[A\u001B[A\n",
      "\n",
      " 29%|██▊       | 2/7 [00:00<00:01,  4.56it/s]\u001B[A\u001B[A\n",
      "\n",
      " 43%|████▎     | 3/7 [00:00<00:00,  4.51it/s]\u001B[A\u001B[A\n",
      "\n",
      " 57%|█████▋    | 4/7 [00:00<00:00,  4.22it/s]\u001B[A\u001B[A\n",
      "\n",
      " 71%|███████▏  | 5/7 [00:01<00:00,  4.25it/s]\u001B[A\u001B[A\n",
      "\n",
      "100%|██████████| 7/7 [00:01<00:00,  4.88it/s]\n",
      "Processing 2025-01 queries:  43%|████▎     | 213/492 [08:47<12:24,  2.67s/query]\n",
      "\n",
      "  0%|          | 0/7 [00:00<?, ?it/s]\u001B[A\u001B[A\n",
      "\n",
      " 14%|█▍        | 1/7 [00:00<00:01,  4.64it/s]\u001B[A\u001B[A\n",
      "\n",
      " 29%|██▊       | 2/7 [00:00<00:01,  4.57it/s]\u001B[A\u001B[A\n",
      "\n",
      " 43%|████▎     | 3/7 [00:00<00:00,  4.58it/s]\u001B[A\u001B[A\n",
      "\n",
      " 57%|█████▋    | 4/7 [00:00<00:00,  4.51it/s]\u001B[A\u001B[A\n",
      "\n",
      " 71%|███████▏  | 5/7 [00:01<00:00,  4.27it/s]\u001B[A\u001B[A\n",
      "\n",
      "100%|██████████| 7/7 [00:01<00:00,  4.92it/s]\n",
      "Processing 2025-01 queries:  43%|████▎     | 214/492 [08:50<12:27,  2.69s/query]"
     ]
    },
    {
     "output_type": "stream",
     "name": "stdout",
     "text": [
      "WARNING! Your documents have duplicate entries!  This will slow down calculation and may yield subpar results\n"
     ]
    },
    {
     "output_type": "stream",
     "name": "stderr",
     "text": [
      "\n",
      "\n",
      "  0%|          | 0/7 [00:00<?, ?it/s]\u001B[A\u001B[A\n",
      "\n",
      " 14%|█▍        | 1/7 [00:00<00:01,  4.64it/s]\u001B[A\u001B[A\n",
      "\n",
      " 29%|██▊       | 2/7 [00:00<00:01,  4.55it/s]\u001B[A\u001B[A\n",
      "\n",
      " 43%|████▎     | 3/7 [00:00<00:00,  4.51it/s]\u001B[A\u001B[A\n",
      "\n",
      " 57%|█████▋    | 4/7 [00:00<00:00,  4.32it/s]\u001B[A\u001B[A\n",
      "\n",
      " 71%|███████▏  | 5/7 [00:01<00:00,  4.33it/s]\u001B[A\u001B[A\n",
      "\n",
      "100%|██████████| 7/7 [00:01<00:00,  4.94it/s]\n",
      "Processing 2025-01 queries:  44%|████▎     | 215/492 [08:52<11:57,  2.59s/query]"
     ]
    },
    {
     "output_type": "stream",
     "name": "stdout",
     "text": [
      "WARNING! Your documents have duplicate entries!  This will slow down calculation and may yield subpar results\n"
     ]
    },
    {
     "output_type": "stream",
     "name": "stderr",
     "text": [
      "\n",
      "\n",
      "  0%|          | 0/7 [00:00<?, ?it/s]\u001B[A\u001B[A\n",
      "\n",
      " 14%|█▍        | 1/7 [00:00<00:01,  4.69it/s]\u001B[A\u001B[A\n",
      "\n",
      " 29%|██▊       | 2/7 [00:00<00:01,  4.56it/s]\u001B[A\u001B[A\n",
      "\n",
      " 43%|████▎     | 3/7 [00:00<00:00,  4.51it/s]\u001B[A\u001B[A\n",
      "\n",
      " 57%|█████▋    | 4/7 [00:00<00:00,  4.25it/s]\u001B[A\u001B[A\n",
      "\n",
      " 71%|███████▏  | 5/7 [00:01<00:00,  4.39it/s]\u001B[A\u001B[A\n",
      "\n",
      "100%|██████████| 7/7 [00:01<00:00,  4.99it/s]\n",
      "Processing 2025-01 queries:  44%|████▍     | 216/492 [08:55<12:06,  2.63s/query]\n",
      "\n",
      "100%|██████████| 1/1 [00:00<00:00, 15.33it/s]\n",
      "Processing 2025-01 queries:  44%|████▍     | 217/492 [08:56<09:37,  2.10s/query]"
     ]
    },
    {
     "output_type": "stream",
     "name": "stdout",
     "text": [
      "WARNING! Your documents have duplicate entries!  This will slow down calculation and may yield subpar results\n"
     ]
    },
    {
     "output_type": "stream",
     "name": "stderr",
     "text": [
      "\n",
      "\n",
      "  0%|          | 0/7 [00:00<?, ?it/s]\u001B[A\u001B[A\n",
      "\n",
      " 14%|█▍        | 1/7 [00:00<00:01,  4.07it/s]\u001B[A\u001B[A\n",
      "\n",
      " 29%|██▊       | 2/7 [00:00<00:01,  4.33it/s]\u001B[A\u001B[A\n",
      "\n",
      " 43%|████▎     | 3/7 [00:00<00:00,  4.43it/s]\u001B[A\u001B[A\n",
      "\n",
      " 57%|█████▋    | 4/7 [00:00<00:00,  4.47it/s]\u001B[A\u001B[A\n",
      "\n",
      " 71%|███████▏  | 5/7 [00:01<00:00,  4.37it/s]\u001B[A\u001B[A\n",
      "\n",
      "100%|██████████| 7/7 [00:01<00:00,  4.86it/s]\n",
      "Processing 2025-01 queries:  44%|████▍     | 218/492 [08:59<10:32,  2.31s/query]\n",
      "\n",
      "  0%|          | 0/7 [00:00<?, ?it/s]\u001B[A\u001B[A\n",
      "\n",
      " 14%|█▍        | 1/7 [00:00<00:01,  4.58it/s]\u001B[A\u001B[A\n",
      "\n",
      " 29%|██▊       | 2/7 [00:00<00:01,  4.57it/s]\u001B[A\u001B[A\n",
      "\n",
      " 43%|████▎     | 3/7 [00:00<00:00,  4.56it/s]\u001B[A\u001B[A\n",
      "\n",
      " 57%|█████▋    | 4/7 [00:00<00:00,  4.32it/s]\u001B[A\u001B[A\n",
      "\n",
      " 71%|███████▏  | 5/7 [00:01<00:00,  4.34it/s]\u001B[A\u001B[A\n",
      "\n",
      "100%|██████████| 7/7 [00:01<00:00,  4.93it/s]\n",
      "Processing 2025-01 queries:  45%|████▍     | 219/492 [09:01<10:34,  2.33s/query]\n",
      "\n",
      "  0%|          | 0/2 [00:00<?, ?it/s]\u001B[A\u001B[A\n",
      "\n",
      " 50%|█████     | 1/2 [00:00<00:00,  4.51it/s]\u001B[A\u001B[A\n",
      "\n",
      "100%|██████████| 2/2 [00:00<00:00,  4.97it/s]\n",
      "Processing 2025-01 queries:  45%|████▍     | 220/492 [09:02<09:05,  2.01s/query]"
     ]
    },
    {
     "output_type": "stream",
     "name": "stdout",
     "text": [
      "INFO: Processed 220/492 queries for 2025-01. Avg time/query: 2466.51 ms.\n",
      "WARNING! Your documents have duplicate entries!  This will slow down calculation and may yield subpar results\n"
     ]
    },
    {
     "output_type": "stream",
     "name": "stderr",
     "text": [
      "\n",
      "\n",
      "  0%|          | 0/7 [00:00<?, ?it/s]\u001B[A\u001B[A\n",
      "\n",
      " 14%|█▍        | 1/7 [00:00<00:01,  4.67it/s]\u001B[A\u001B[A\n",
      "\n",
      " 29%|██▊       | 2/7 [00:00<00:01,  4.58it/s]\u001B[A\u001B[A\n",
      "\n",
      " 43%|████▎     | 3/7 [00:00<00:00,  4.54it/s]\u001B[A\u001B[A\n",
      "\n",
      " 57%|█████▋    | 4/7 [00:00<00:00,  4.32it/s]\u001B[A\u001B[A\n",
      "\n",
      " 71%|███████▏  | 5/7 [00:01<00:00,  4.33it/s]\u001B[A\u001B[A\n",
      "\n",
      "100%|██████████| 7/7 [00:01<00:00,  4.96it/s]\n",
      "Processing 2025-01 queries:  45%|████▍     | 221/492 [09:05<10:07,  2.24s/query]\n",
      "\n",
      "  0%|          | 0/7 [00:00<?, ?it/s]\u001B[A\u001B[A\n",
      "\n",
      " 14%|█▍        | 1/7 [00:00<00:01,  4.67it/s]\u001B[A\u001B[A\n",
      "\n",
      " 29%|██▊       | 2/7 [00:00<00:01,  4.59it/s]\u001B[A\u001B[A\n",
      "\n",
      " 43%|████▎     | 3/7 [00:00<00:00,  4.54it/s]\u001B[A\u001B[A\n",
      "\n",
      " 57%|█████▋    | 4/7 [00:00<00:00,  4.30it/s]\u001B[A\u001B[A\n",
      "\n",
      " 71%|███████▏  | 5/7 [00:01<00:00,  4.32it/s]\u001B[A\u001B[A\n",
      "\n",
      "100%|██████████| 7/7 [00:01<00:00,  4.94it/s]\n",
      "Processing 2025-01 queries:  45%|████▌     | 222/492 [09:07<10:13,  2.27s/query]"
     ]
    },
    {
     "output_type": "stream",
     "name": "stdout",
     "text": [
      "WARNING! Your documents have duplicate entries!  This will slow down calculation and may yield subpar results\n"
     ]
    },
    {
     "output_type": "stream",
     "name": "stderr",
     "text": [
      "\n",
      "\n",
      "  0%|          | 0/7 [00:00<?, ?it/s]\u001B[A\u001B[A\n",
      "\n",
      " 14%|█▍        | 1/7 [00:00<00:01,  4.77it/s]\u001B[A\u001B[A\n",
      "\n",
      " 29%|██▊       | 2/7 [00:00<00:01,  4.61it/s]\u001B[A\u001B[A\n",
      "\n",
      " 43%|████▎     | 3/7 [00:00<00:00,  4.55it/s]\u001B[A\u001B[A\n",
      "\n",
      " 57%|█████▋    | 4/7 [00:00<00:00,  4.42it/s]\u001B[A\u001B[A\n",
      "\n",
      " 71%|███████▏  | 5/7 [00:01<00:00,  4.37it/s]\u001B[A\u001B[A\n",
      "\n",
      "100%|██████████| 7/7 [00:01<00:00,  5.00it/s]\n",
      "Processing 2025-01 queries:  45%|████▌     | 223/492 [09:10<10:52,  2.42s/query]\n",
      "\n",
      "100%|██████████| 1/1 [00:00<00:00, 83.31it/s]\n",
      "Processing 2025-01 queries:  46%|████▌     | 224/492 [09:11<09:11,  2.06s/query]\n",
      "\n",
      "  0%|          | 0/7 [00:00<?, ?it/s]\u001B[A\u001B[A\n",
      "\n",
      " 14%|█▍        | 1/7 [00:00<00:01,  3.95it/s]\u001B[A\u001B[A\n",
      "\n",
      " 29%|██▊       | 2/7 [00:00<00:01,  4.24it/s]\u001B[A\u001B[A\n",
      "\n",
      " 43%|████▎     | 3/7 [00:00<00:00,  4.36it/s]\u001B[A\u001B[A\n",
      "\n",
      " 57%|█████▋    | 4/7 [00:00<00:00,  4.42it/s]\u001B[A\u001B[A\n",
      "\n",
      " 71%|███████▏  | 5/7 [00:01<00:00,  4.24it/s]\u001B[A\u001B[A\n",
      "\n",
      "100%|██████████| 7/7 [00:01<00:00,  4.78it/s]\n",
      "Processing 2025-01 queries:  46%|████▌     | 225/492 [09:14<10:09,  2.28s/query]"
     ]
    },
    {
     "output_type": "stream",
     "name": "stdout",
     "text": [
      "WARNING! Your documents have duplicate entries!  This will slow down calculation and may yield subpar results\n"
     ]
    },
    {
     "output_type": "stream",
     "name": "stderr",
     "text": [
      "\n",
      "\n",
      "  0%|          | 0/7 [00:00<?, ?it/s]\u001B[A\u001B[A\n",
      "\n",
      " 14%|█▍        | 1/7 [00:00<00:01,  4.74it/s]\u001B[A\u001B[A\n",
      "\n",
      " 29%|██▊       | 2/7 [00:00<00:01,  4.60it/s]\u001B[A\u001B[A\n",
      "\n",
      " 43%|████▎     | 3/7 [00:00<00:00,  4.59it/s]\u001B[A\u001B[A\n",
      "\n",
      " 57%|█████▋    | 4/7 [00:00<00:00,  4.50it/s]\u001B[A\u001B[A\n",
      "\n",
      " 71%|███████▏  | 5/7 [00:01<00:00,  4.31it/s]\u001B[A\u001B[A\n",
      "\n",
      "100%|██████████| 7/7 [00:01<00:00,  4.96it/s]\n",
      "Processing 2025-01 queries:  46%|████▌     | 226/492 [09:17<10:40,  2.41s/query]"
     ]
    },
    {
     "output_type": "stream",
     "name": "stdout",
     "text": [
      "WARNING! Your documents have duplicate entries!  This will slow down calculation and may yield subpar results\n"
     ]
    },
    {
     "output_type": "stream",
     "name": "stderr",
     "text": [
      "\n",
      "\n",
      "  0%|          | 0/7 [00:00<?, ?it/s]\u001B[A\u001B[A\n",
      "\n",
      " 14%|█▍        | 1/7 [00:00<00:01,  4.55it/s]\u001B[A\u001B[A\n",
      "\n",
      " 29%|██▊       | 2/7 [00:00<00:01,  4.56it/s]\u001B[A\u001B[A\n",
      "\n",
      " 43%|████▎     | 3/7 [00:00<00:00,  4.54it/s]\u001B[A\u001B[A\n",
      "\n",
      " 57%|█████▋    | 4/7 [00:00<00:00,  4.31it/s]\u001B[A\u001B[A\n",
      "\n",
      " 71%|███████▏  | 5/7 [00:01<00:00,  4.35it/s]\u001B[A\u001B[A\n",
      "\n",
      "100%|██████████| 7/7 [00:01<00:00,  4.92it/s]\n",
      "Processing 2025-01 queries:  46%|████▌     | 227/492 [09:20<11:08,  2.52s/query]\n",
      "\n",
      "  0%|          | 0/7 [00:00<?, ?it/s]\u001B[A\u001B[A\n",
      "\n",
      " 14%|█▍        | 1/7 [00:00<00:01,  4.69it/s]\u001B[A\u001B[A\n",
      "\n",
      " 29%|██▊       | 2/7 [00:00<00:01,  4.61it/s]\u001B[A\u001B[A\n",
      "\n",
      " 43%|████▎     | 3/7 [00:00<00:00,  4.59it/s]\u001B[A\u001B[A\n",
      "\n",
      " 57%|█████▋    | 4/7 [00:00<00:00,  4.33it/s]\u001B[A\u001B[A\n",
      "\n",
      " 71%|███████▏  | 5/7 [00:01<00:00,  4.35it/s]\u001B[A\u001B[A\n",
      "\n",
      "100%|██████████| 7/7 [00:01<00:00,  4.96it/s]\n",
      "Processing 2025-01 queries:  46%|████▋     | 228/492 [09:22<11:23,  2.59s/query]"
     ]
    },
    {
     "output_type": "stream",
     "name": "stdout",
     "text": [
      "WARNING! Your documents have duplicate entries!  This will slow down calculation and may yield subpar results\n"
     ]
    },
    {
     "output_type": "stream",
     "name": "stderr",
     "text": [
      "\n",
      "\n",
      "  0%|          | 0/7 [00:00<?, ?it/s]\u001B[A\u001B[A\n",
      "\n",
      " 14%|█▍        | 1/7 [00:00<00:01,  4.63it/s]\u001B[A\u001B[A\n",
      "\n",
      " 29%|██▊       | 2/7 [00:00<00:01,  4.56it/s]\u001B[A\u001B[A\n",
      "\n",
      " 43%|████▎     | 3/7 [00:00<00:00,  4.53it/s]\u001B[A\u001B[A\n",
      "\n",
      " 57%|█████▋    | 4/7 [00:00<00:00,  4.49it/s]\u001B[A\u001B[A\n",
      "\n",
      " 71%|███████▏  | 5/7 [00:01<00:00,  4.28it/s]\u001B[A\u001B[A\n",
      "\n",
      "100%|██████████| 7/7 [00:01<00:00,  4.92it/s]\n",
      "Processing 2025-01 queries:  47%|████▋     | 229/492 [09:25<10:57,  2.50s/query]\n",
      "\n",
      "  0%|          | 0/1 [00:00<?, ?it/s]\u001B[A\u001B[A\n",
      "\n",
      "100%|██████████| 1/1 [00:00<00:00,  8.63it/s]\n",
      "Processing 2025-01 queries:  47%|████▋     | 230/492 [09:26<08:52,  2.03s/query]"
     ]
    },
    {
     "output_type": "stream",
     "name": "stdout",
     "text": [
      "WARNING! Your documents have duplicate entries!  This will slow down calculation and may yield subpar results\n"
     ]
    },
    {
     "output_type": "stream",
     "name": "stderr",
     "text": [
      "\n",
      "\n",
      "  0%|          | 0/7 [00:00<?, ?it/s]\u001B[A\u001B[A\n",
      "\n",
      " 14%|█▍        | 1/7 [00:00<00:01,  4.69it/s]\u001B[A\u001B[A\n",
      "\n",
      " 29%|██▊       | 2/7 [00:00<00:01,  4.64it/s]\u001B[A\u001B[A\n",
      "\n",
      " 43%|████▎     | 3/7 [00:00<00:00,  4.61it/s]\u001B[A\u001B[A\n",
      "\n",
      " 57%|█████▋    | 4/7 [00:00<00:00,  4.48it/s]\u001B[A\u001B[A\n",
      "\n",
      " 71%|███████▏  | 5/7 [00:01<00:00,  4.42it/s]\u001B[A\u001B[A\n",
      "\n",
      "100%|██████████| 7/7 [00:01<00:00,  5.00it/s]\n",
      "Processing 2025-01 queries:  47%|████▋     | 231/492 [09:28<09:10,  2.11s/query]\n",
      "\n",
      "  0%|          | 0/2 [00:00<?, ?it/s]\u001B[A\u001B[A\n",
      "\n",
      "100%|██████████| 2/2 [00:00<00:00,  7.46it/s]\n",
      "Processing 2025-01 queries:  47%|████▋     | 232/492 [09:29<07:50,  1.81s/query]"
     ]
    },
    {
     "output_type": "stream",
     "name": "stdout",
     "text": [
      "WARNING! Your documents have duplicate entries!  This will slow down calculation and may yield subpar results\n"
     ]
    },
    {
     "output_type": "stream",
     "name": "stderr",
     "text": [
      "\n",
      "\n",
      "  0%|          | 0/7 [00:00<?, ?it/s]\u001B[A\u001B[A\n",
      "\n",
      " 14%|█▍        | 1/7 [00:00<00:01,  4.64it/s]\u001B[A\u001B[A\n",
      "\n",
      " 29%|██▊       | 2/7 [00:00<00:01,  4.57it/s]\u001B[A\u001B[A\n",
      "\n",
      " 43%|████▎     | 3/7 [00:00<00:00,  4.54it/s]\u001B[A\u001B[A\n",
      "\n",
      " 57%|█████▋    | 4/7 [00:00<00:00,  4.50it/s]\u001B[A\u001B[A\n",
      "\n",
      " 71%|███████▏  | 5/7 [00:01<00:00,  4.28it/s]\u001B[A\u001B[A\n",
      "\n",
      "100%|██████████| 7/7 [00:01<00:00,  4.92it/s]\n",
      "Processing 2025-01 queries:  47%|████▋     | 233/492 [09:31<08:27,  1.96s/query]"
     ]
    },
    {
     "output_type": "stream",
     "name": "stdout",
     "text": [
      "WARNING! Your documents have duplicate entries!  This will slow down calculation and may yield subpar results\n"
     ]
    },
    {
     "output_type": "stream",
     "name": "stderr",
     "text": [
      "\n",
      "\n",
      "  0%|          | 0/7 [00:00<?, ?it/s]\u001B[A\u001B[A\n",
      "\n",
      " 14%|█▍        | 1/7 [00:00<00:01,  4.54it/s]\u001B[A\u001B[A\n",
      "\n",
      " 29%|██▊       | 2/7 [00:00<00:01,  4.52it/s]\u001B[A\u001B[A\n",
      "\n",
      " 43%|████▎     | 3/7 [00:00<00:00,  4.52it/s]\u001B[A\u001B[A\n",
      "\n",
      " 57%|█████▋    | 4/7 [00:00<00:00,  4.29it/s]\u001B[A\u001B[A\n",
      "\n",
      " 71%|███████▏  | 5/7 [00:01<00:00,  4.30it/s]\u001B[A\u001B[A\n",
      "\n",
      "100%|██████████| 7/7 [00:01<00:00,  4.92it/s]\n",
      "Processing 2025-01 queries:  48%|████▊     | 234/492 [09:34<09:31,  2.21s/query]"
     ]
    },
    {
     "output_type": "stream",
     "name": "stdout",
     "text": [
      "WARNING! Your documents have duplicate entries!  This will slow down calculation and may yield subpar results\n"
     ]
    },
    {
     "output_type": "stream",
     "name": "stderr",
     "text": [
      "\n",
      "\n",
      "  0%|          | 0/7 [00:00<?, ?it/s]\u001B[A\u001B[A\n",
      "\n",
      " 14%|█▍        | 1/7 [00:00<00:01,  4.64it/s]\u001B[A\u001B[A\n",
      "\n",
      " 29%|██▊       | 2/7 [00:00<00:01,  4.52it/s]\u001B[A\u001B[A\n",
      "\n",
      " 43%|████▎     | 3/7 [00:00<00:00,  4.57it/s]\u001B[A\u001B[A\n",
      "\n",
      " 57%|█████▋    | 4/7 [00:00<00:00,  4.42it/s]\u001B[A\u001B[A\n",
      "\n",
      " 71%|███████▏  | 5/7 [00:01<00:00,  4.44it/s]\u001B[A\u001B[A\n",
      "\n",
      "100%|██████████| 7/7 [00:01<00:00,  5.03it/s]\n",
      "Processing 2025-01 queries:  48%|████▊     | 235/492 [09:37<10:12,  2.38s/query]"
     ]
    },
    {
     "output_type": "stream",
     "name": "stdout",
     "text": [
      "WARNING! Your documents have duplicate entries!  This will slow down calculation and may yield subpar results\n"
     ]
    },
    {
     "output_type": "stream",
     "name": "stderr",
     "text": [
      "\n",
      "\n",
      "  0%|          | 0/7 [00:00<?, ?it/s]\u001B[A\u001B[A\n",
      "\n",
      " 14%|█▍        | 1/7 [00:00<00:01,  4.71it/s]\u001B[A\u001B[A\n",
      "\n",
      " 29%|██▊       | 2/7 [00:00<00:01,  4.58it/s]\u001B[A\u001B[A\n",
      "\n",
      " 43%|████▎     | 3/7 [00:00<00:00,  4.54it/s]\u001B[A\u001B[A\n",
      "\n",
      " 57%|█████▋    | 4/7 [00:00<00:00,  4.43it/s]\u001B[A\u001B[A\n",
      "\n",
      " 71%|███████▏  | 5/7 [00:01<00:00,  4.31it/s]\u001B[A\u001B[A\n",
      "\n",
      "100%|██████████| 7/7 [00:01<00:00,  4.93it/s]\n",
      "Processing 2025-01 queries:  48%|████▊     | 236/492 [09:40<10:43,  2.51s/query]"
     ]
    },
    {
     "output_type": "stream",
     "name": "stdout",
     "text": [
      "WARNING! Your documents have duplicate entries!  This will slow down calculation and may yield subpar results\n"
     ]
    },
    {
     "output_type": "stream",
     "name": "stderr",
     "text": [
      "\n",
      "\n",
      "  0%|          | 0/7 [00:00<?, ?it/s]\u001B[A\u001B[A\n",
      "\n",
      " 14%|█▍        | 1/7 [00:00<00:01,  4.57it/s]\u001B[A\u001B[A\n",
      "\n",
      " 29%|██▊       | 2/7 [00:00<00:01,  4.51it/s]\u001B[A\u001B[A\n",
      "\n",
      " 43%|████▎     | 3/7 [00:00<00:00,  4.49it/s]\u001B[A\u001B[A\n",
      "\n",
      " 57%|█████▋    | 4/7 [00:00<00:00,  4.32it/s]\u001B[A\u001B[A\n",
      "\n",
      " 71%|███████▏  | 5/7 [00:01<00:00,  4.33it/s]\u001B[A\u001B[A\n",
      "\n",
      "100%|██████████| 7/7 [00:01<00:00,  4.90it/s]\n",
      "Processing 2025-01 queries:  48%|████▊     | 237/492 [09:42<10:26,  2.46s/query]\n",
      "\n",
      "  0%|          | 0/7 [00:00<?, ?it/s]\u001B[A\u001B[A\n",
      "\n",
      " 14%|█▍        | 1/7 [00:00<00:01,  4.75it/s]\u001B[A\u001B[A\n",
      "\n",
      " 29%|██▊       | 2/7 [00:00<00:01,  4.59it/s]\u001B[A\u001B[A\n",
      "\n",
      " 43%|████▎     | 3/7 [00:00<00:00,  4.54it/s]\u001B[A\u001B[A\n",
      "\n",
      " 57%|█████▋    | 4/7 [00:00<00:00,  4.20it/s]\u001B[A\u001B[A\n",
      "\n",
      " 71%|███████▏  | 5/7 [00:01<00:00,  4.23it/s]\u001B[A\u001B[A\n",
      "\n",
      "100%|██████████| 7/7 [00:01<00:00,  4.91it/s]\n",
      "Processing 2025-01 queries:  48%|████▊     | 238/492 [09:44<10:16,  2.43s/query]"
     ]
    },
    {
     "output_type": "stream",
     "name": "stdout",
     "text": [
      "WARNING! Your documents have duplicate entries!  This will slow down calculation and may yield subpar results\n"
     ]
    },
    {
     "output_type": "stream",
     "name": "stderr",
     "text": [
      "\n",
      "\n",
      "  0%|          | 0/7 [00:00<?, ?it/s]\u001B[A\u001B[A\n",
      "\n",
      " 14%|█▍        | 1/7 [00:00<00:01,  4.53it/s]\u001B[A\u001B[A\n",
      "\n",
      " 29%|██▊       | 2/7 [00:00<00:01,  4.50it/s]\u001B[A\u001B[A\n",
      "\n",
      " 43%|████▎     | 3/7 [00:00<00:00,  4.47it/s]\u001B[A\u001B[A\n",
      "\n",
      " 57%|█████▋    | 4/7 [00:00<00:00,  4.19it/s]\u001B[A\u001B[A\n",
      "\n",
      " 71%|███████▏  | 5/7 [00:01<00:00,  4.28it/s]\u001B[A\u001B[A\n",
      "\n",
      "100%|██████████| 7/7 [00:01<00:00,  4.86it/s]\n",
      "Processing 2025-01 queries:  49%|████▊     | 239/492 [09:47<10:07,  2.40s/query]"
     ]
    },
    {
     "output_type": "stream",
     "name": "stdout",
     "text": [
      "WARNING! Your documents have duplicate entries!  This will slow down calculation and may yield subpar results\n"
     ]
    },
    {
     "output_type": "stream",
     "name": "stderr",
     "text": [
      "\n",
      "\n",
      "  0%|          | 0/7 [00:00<?, ?it/s]\u001B[A\u001B[A\n",
      "\n",
      " 14%|█▍        | 1/7 [00:00<00:01,  4.62it/s]\u001B[A\u001B[A\n",
      "\n",
      " 29%|██▊       | 2/7 [00:00<00:01,  4.51it/s]\u001B[A\u001B[A\n",
      "\n",
      " 43%|████▎     | 3/7 [00:00<00:00,  4.47it/s]\u001B[A\u001B[A\n",
      "\n",
      " 57%|█████▋    | 4/7 [00:00<00:00,  4.36it/s]\u001B[A\u001B[A\n",
      "\n",
      " 71%|███████▏  | 5/7 [00:01<00:00,  4.25it/s]\u001B[A\u001B[A\n",
      "\n",
      "100%|██████████| 7/7 [00:01<00:00,  4.86it/s]\n",
      "Processing 2025-01 queries:  49%|████▉     | 240/492 [09:49<09:59,  2.38s/query]"
     ]
    },
    {
     "output_type": "stream",
     "name": "stdout",
     "text": [
      "INFO: Processed 240/492 queries for 2025-01. Avg time/query: 2456.17 ms.\n",
      "WARNING! Your documents have duplicate entries!  This will slow down calculation and may yield subpar results\n"
     ]
    },
    {
     "output_type": "stream",
     "name": "stderr",
     "text": [
      "\n",
      "\n",
      "  0%|          | 0/7 [00:00<?, ?it/s]\u001B[A\u001B[A\n",
      "\n",
      " 14%|█▍        | 1/7 [00:00<00:01,  4.57it/s]\u001B[A\u001B[A\n",
      "\n",
      " 29%|██▊       | 2/7 [00:00<00:01,  4.52it/s]\u001B[A\u001B[A\n",
      "\n",
      " 43%|████▎     | 3/7 [00:00<00:00,  4.49it/s]\u001B[A\u001B[A\n",
      "\n",
      " 57%|█████▋    | 4/7 [00:00<00:00,  4.19it/s]\u001B[A\u001B[A\n",
      "\n",
      " 71%|███████▏  | 5/7 [00:01<00:00,  4.26it/s]\u001B[A\u001B[A\n",
      "\n",
      "100%|██████████| 7/7 [00:01<00:00,  4.87it/s]\n",
      "Processing 2025-01 queries:  49%|████▉     | 241/492 [09:52<10:28,  2.50s/query]\n",
      "\n",
      "  0%|          | 0/7 [00:00<?, ?it/s]\u001B[A\u001B[A\n",
      "\n",
      " 14%|█▍        | 1/7 [00:00<00:01,  4.71it/s]\u001B[A\u001B[A\n",
      "\n",
      " 29%|██▊       | 2/7 [00:00<00:01,  4.57it/s]\u001B[A\u001B[A\n",
      "\n",
      " 43%|████▎     | 3/7 [00:00<00:00,  4.52it/s]\u001B[A\u001B[A\n",
      "\n",
      " 57%|█████▋    | 4/7 [00:00<00:00,  4.27it/s]\u001B[A\u001B[A\n",
      "\n",
      " 71%|███████▏  | 5/7 [00:01<00:00,  4.28it/s]\u001B[A\u001B[A\n",
      "\n",
      "100%|██████████| 7/7 [00:01<00:00,  4.88it/s]\n",
      "Processing 2025-01 queries:  49%|████▉     | 242/492 [09:54<10:12,  2.45s/query]\n",
      "\n",
      "  0%|          | 0/7 [00:00<?, ?it/s]\u001B[A\u001B[A\n",
      "\n",
      " 14%|█▍        | 1/7 [00:00<00:01,  4.68it/s]\u001B[A\u001B[A\n",
      "\n",
      " 29%|██▊       | 2/7 [00:00<00:01,  4.57it/s]\u001B[A\u001B[A\n",
      "\n",
      " 43%|████▎     | 3/7 [00:00<00:00,  4.53it/s]\u001B[A\u001B[A\n",
      "\n",
      " 57%|█████▋    | 4/7 [00:00<00:00,  4.30it/s]\u001B[A\u001B[A\n",
      "\n",
      " 71%|███████▏  | 5/7 [00:01<00:00,  4.30it/s]\u001B[A\u001B[A\n",
      "\n",
      "100%|██████████| 7/7 [00:01<00:00,  4.93it/s]\n",
      "Processing 2025-01 queries:  49%|████▉     | 243/492 [09:57<10:33,  2.54s/query]\n",
      "\n",
      "  0%|          | 0/7 [00:00<?, ?it/s]\u001B[A\u001B[A\n",
      "\n",
      " 14%|█▍        | 1/7 [00:00<00:01,  4.50it/s]\u001B[A\u001B[A\n",
      "\n",
      " 29%|██▊       | 2/7 [00:00<00:01,  4.49it/s]\u001B[A\u001B[A\n",
      "\n",
      " 43%|████▎     | 3/7 [00:00<00:00,  4.49it/s]\u001B[A\u001B[A\n",
      "\n",
      " 57%|█████▋    | 4/7 [00:00<00:00,  4.27it/s]\u001B[A\u001B[A\n",
      "\n",
      " 71%|███████▏  | 5/7 [00:01<00:00,  4.27it/s]\u001B[A\u001B[A\n",
      "\n",
      "100%|██████████| 7/7 [00:01<00:00,  4.88it/s]\n",
      "Processing 2025-01 queries:  50%|████▉     | 244/492 [10:00<10:45,  2.60s/query]\n",
      "\n",
      "  0%|          | 0/6 [00:00<?, ?it/s]\u001B[A\u001B[A\n",
      "\n",
      " 17%|█▋        | 1/6 [00:00<00:01,  4.50it/s]\u001B[A\u001B[A\n",
      "\n",
      " 33%|███▎      | 2/6 [00:00<00:00,  4.45it/s]\u001B[A\u001B[A\n",
      "\n",
      " 50%|█████     | 3/6 [00:00<00:00,  4.53it/s]\u001B[A\u001B[A\n",
      "\n",
      " 67%|██████▋   | 4/6 [00:00<00:00,  4.45it/s]\u001B[A\u001B[A\n",
      "\n",
      " 83%|████████▎ | 5/6 [00:01<00:00,  4.44it/s]\u001B[A\u001B[A\n",
      "\n",
      "100%|██████████| 6/6 [00:01<00:00,  4.78it/s]\n",
      "Processing 2025-01 queries:  50%|████▉     | 245/492 [10:02<10:13,  2.48s/query]\n",
      "\n",
      "100%|██████████| 1/1 [00:00<00:00, 46.88it/s]\n",
      "Processing 2025-01 queries:  50%|█████     | 246/492 [10:03<08:07,  1.98s/query]"
     ]
    },
    {
     "output_type": "stream",
     "name": "stdout",
     "text": [
      "WARNING! Your documents have duplicate entries!  This will slow down calculation and may yield subpar results\n"
     ]
    },
    {
     "output_type": "stream",
     "name": "stderr",
     "text": [
      "\n",
      "\n",
      "  0%|          | 0/7 [00:00<?, ?it/s]\u001B[A\u001B[A\n",
      "\n",
      " 14%|█▍        | 1/7 [00:00<00:01,  3.88it/s]\u001B[A\u001B[A\n",
      "\n",
      " 29%|██▊       | 2/7 [00:00<00:01,  4.18it/s]\u001B[A\u001B[A\n",
      "\n",
      " 43%|████▎     | 3/7 [00:00<00:00,  4.32it/s]\u001B[A\u001B[A\n",
      "\n",
      " 57%|█████▋    | 4/7 [00:00<00:00,  4.39it/s]\u001B[A\u001B[A\n",
      "\n",
      " 71%|███████▏  | 5/7 [00:01<00:00,  4.34it/s]\u001B[A\u001B[A\n",
      "\n",
      "100%|██████████| 7/7 [00:01<00:00,  4.79it/s]\n",
      "Processing 2025-01 queries:  50%|█████     | 247/492 [10:06<10:06,  2.47s/query]"
     ]
    },
    {
     "output_type": "stream",
     "name": "stdout",
     "text": [
      "WARNING! Your documents have duplicate entries!  This will slow down calculation and may yield subpar results\n"
     ]
    },
    {
     "output_type": "stream",
     "name": "stderr",
     "text": [
      "\n",
      "\n",
      "  0%|          | 0/7 [00:00<?, ?it/s]\u001B[A\u001B[A\n",
      "\n",
      " 14%|█▍        | 1/7 [00:00<00:01,  4.75it/s]\u001B[A\u001B[A\n",
      "\n",
      " 29%|██▊       | 2/7 [00:00<00:01,  4.62it/s]\u001B[A\u001B[A\n",
      "\n",
      " 43%|████▎     | 3/7 [00:00<00:00,  4.58it/s]\u001B[A\u001B[A\n",
      "\n",
      " 57%|█████▋    | 4/7 [00:00<00:00,  4.49it/s]\u001B[A\u001B[A\n",
      "\n",
      " 71%|███████▏  | 5/7 [00:01<00:00,  4.29it/s]\u001B[A\u001B[A\n",
      "\n",
      "100%|██████████| 7/7 [00:01<00:00,  4.97it/s]\n",
      "Processing 2025-01 queries:  50%|█████     | 248/492 [10:09<09:51,  2.42s/query]"
     ]
    },
    {
     "output_type": "stream",
     "name": "stdout",
     "text": [
      "WARNING! Your documents have duplicate entries!  This will slow down calculation and may yield subpar results\n"
     ]
    },
    {
     "output_type": "stream",
     "name": "stderr",
     "text": [
      "\n",
      "\n",
      "  0%|          | 0/7 [00:00<?, ?it/s]\u001B[A\u001B[A\n",
      "\n",
      " 14%|█▍        | 1/7 [00:00<00:01,  4.76it/s]\u001B[A\u001B[A\n",
      "\n",
      " 29%|██▊       | 2/7 [00:00<00:01,  4.62it/s]\u001B[A\u001B[A\n",
      "\n",
      " 43%|████▎     | 3/7 [00:00<00:00,  4.57it/s]\u001B[A\u001B[A\n",
      "\n",
      " 57%|█████▋    | 4/7 [00:00<00:00,  4.33it/s]\u001B[A\u001B[A\n",
      "\n",
      " 71%|███████▏  | 5/7 [00:01<00:00,  4.32it/s]\u001B[A\u001B[A\n",
      "\n",
      "100%|██████████| 7/7 [00:01<00:00,  4.96it/s]\n",
      "Processing 2025-01 queries:  51%|█████     | 249/492 [10:12<10:18,  2.54s/query]\n",
      "\n",
      "  0%|          | 0/2 [00:00<?, ?it/s]\u001B[A\u001B[A\n",
      "\n",
      "100%|██████████| 2/2 [00:00<00:00,  7.03it/s]\n",
      "Processing 2025-01 queries:  51%|█████     | 250/492 [10:13<08:32,  2.12s/query]"
     ]
    },
    {
     "output_type": "stream",
     "name": "stdout",
     "text": [
      "WARNING! Your documents have duplicate entries!  This will slow down calculation and may yield subpar results\n"
     ]
    },
    {
     "output_type": "stream",
     "name": "stderr",
     "text": [
      "\n",
      "\n",
      "  0%|          | 0/7 [00:00<?, ?it/s]\u001B[A\u001B[A\n",
      "\n",
      " 14%|█▍        | 1/7 [00:00<00:01,  4.59it/s]\u001B[A\u001B[A\n",
      "\n",
      " 29%|██▊       | 2/7 [00:00<00:01,  4.56it/s]\u001B[A\u001B[A\n",
      "\n",
      " 43%|████▎     | 3/7 [00:00<00:00,  4.52it/s]\u001B[A\u001B[A\n",
      "\n",
      " 57%|█████▋    | 4/7 [00:00<00:00,  4.32it/s]\u001B[A\u001B[A\n",
      "\n",
      " 71%|███████▏  | 5/7 [00:01<00:00,  4.35it/s]\u001B[A\u001B[A\n",
      "\n",
      "100%|██████████| 7/7 [00:01<00:00,  4.94it/s]\n",
      "Processing 2025-01 queries:  51%|█████     | 251/492 [10:15<09:20,  2.33s/query]\n",
      "\n",
      "  0%|          | 0/7 [00:00<?, ?it/s]\u001B[A\u001B[A\n",
      "\n",
      " 14%|█▍        | 1/7 [00:00<00:01,  3.71it/s]\u001B[A\u001B[A\n",
      "\n",
      " 29%|██▊       | 2/7 [00:00<00:01,  4.18it/s]\u001B[A\u001B[A\n",
      "\n",
      " 43%|████▎     | 3/7 [00:00<00:00,  4.33it/s]\u001B[A\u001B[A\n",
      "\n",
      " 57%|█████▋    | 4/7 [00:00<00:00,  4.41it/s]\u001B[A\u001B[A\n",
      "\n",
      " 71%|███████▏  | 5/7 [00:01<00:00,  4.35it/s]\u001B[A\u001B[A\n",
      "\n",
      "100%|██████████| 7/7 [00:01<00:00,  4.82it/s]\n",
      "Processing 2025-01 queries:  51%|█████     | 252/492 [10:21<13:37,  3.41s/query]\n",
      "\n",
      "  0%|          | 0/7 [00:00<?, ?it/s]\u001B[A\u001B[A\n",
      "\n",
      " 14%|█▍        | 1/7 [00:00<00:01,  4.63it/s]\u001B[A\u001B[A\n",
      "\n",
      " 29%|██▊       | 2/7 [00:00<00:01,  4.59it/s]\u001B[A\u001B[A\n",
      "\n",
      " 43%|████▎     | 3/7 [00:00<00:00,  4.59it/s]\u001B[A\u001B[A\n",
      "\n",
      " 57%|█████▋    | 4/7 [00:00<00:00,  4.36it/s]\u001B[A\u001B[A\n",
      "\n",
      " 71%|███████▏  | 5/7 [00:01<00:00,  4.33it/s]\u001B[A\u001B[A\n",
      "\n",
      "100%|██████████| 7/7 [00:01<00:00,  4.95it/s]\n",
      "Processing 2025-01 queries:  51%|█████▏    | 253/492 [10:24<12:54,  3.24s/query]"
     ]
    },
    {
     "output_type": "stream",
     "name": "stdout",
     "text": [
      "WARNING! Your documents have duplicate entries!  This will slow down calculation and may yield subpar results\n"
     ]
    },
    {
     "output_type": "stream",
     "name": "stderr",
     "text": [
      "\n",
      "\n",
      "  0%|          | 0/7 [00:00<?, ?it/s]\u001B[A\u001B[A\n",
      "\n",
      " 14%|█▍        | 1/7 [00:00<00:01,  4.70it/s]\u001B[A\u001B[A\n",
      "\n",
      " 29%|██▊       | 2/7 [00:00<00:01,  4.59it/s]\u001B[A\u001B[A\n",
      "\n",
      " 43%|████▎     | 3/7 [00:00<00:00,  4.56it/s]\u001B[A\u001B[A\n",
      "\n",
      " 57%|█████▋    | 4/7 [00:00<00:00,  4.32it/s]\u001B[A\u001B[A\n",
      "\n",
      " 71%|███████▏  | 5/7 [00:01<00:00,  4.36it/s]\u001B[A\u001B[A\n",
      "\n",
      "100%|██████████| 7/7 [00:01<00:00,  4.96it/s]\n",
      "Processing 2025-01 queries:  52%|█████▏    | 254/492 [10:27<12:15,  3.09s/query]"
     ]
    },
    {
     "output_type": "stream",
     "name": "stdout",
     "text": [
      "WARNING! Your documents have duplicate entries!  This will slow down calculation and may yield subpar results\n"
     ]
    },
    {
     "output_type": "stream",
     "name": "stderr",
     "text": [
      "\n",
      "\n",
      "  0%|          | 0/7 [00:00<?, ?it/s]\u001B[A\u001B[A\n",
      "\n",
      " 14%|█▍        | 1/7 [00:00<00:01,  4.71it/s]\u001B[A\u001B[A\n",
      "\n",
      " 29%|██▊       | 2/7 [00:00<00:01,  4.58it/s]\u001B[A\u001B[A\n",
      "\n",
      " 43%|████▎     | 3/7 [00:00<00:00,  4.54it/s]\u001B[A\u001B[A\n",
      "\n",
      " 57%|█████▋    | 4/7 [00:00<00:00,  4.33it/s]\u001B[A\u001B[A\n",
      "\n",
      " 71%|███████▏  | 5/7 [00:01<00:00,  4.32it/s]\u001B[A\u001B[A\n",
      "\n",
      "100%|██████████| 7/7 [00:01<00:00,  4.96it/s]\n",
      "Processing 2025-01 queries:  52%|█████▏    | 255/492 [10:29<11:19,  2.87s/query]\n",
      "\n",
      "  0%|          | 0/7 [00:00<?, ?it/s]\u001B[A\u001B[A\n",
      "\n",
      " 14%|█▍        | 1/7 [00:00<00:01,  4.68it/s]\u001B[A\u001B[A\n",
      "\n",
      " 29%|██▊       | 2/7 [00:00<00:01,  4.61it/s]\u001B[A\u001B[A\n",
      "\n",
      " 43%|████▎     | 3/7 [00:00<00:00,  4.59it/s]\u001B[A\u001B[A\n",
      "\n",
      " 57%|█████▋    | 4/7 [00:00<00:00,  4.49it/s]\u001B[A\u001B[A\n",
      "\n",
      " 71%|███████▏  | 5/7 [00:01<00:00,  4.30it/s]\u001B[A\u001B[A\n",
      "\n",
      "100%|██████████| 7/7 [00:01<00:00,  4.97it/s]\n",
      "Processing 2025-01 queries:  52%|█████▏    | 256/492 [10:32<11:06,  2.83s/query]"
     ]
    },
    {
     "output_type": "stream",
     "name": "stdout",
     "text": [
      "WARNING! Your documents have duplicate entries!  This will slow down calculation and may yield subpar results\n"
     ]
    },
    {
     "output_type": "stream",
     "name": "stderr",
     "text": [
      "\n",
      "\n",
      "  0%|          | 0/7 [00:00<?, ?it/s]\u001B[A\u001B[A\n",
      "\n",
      " 14%|█▍        | 1/7 [00:00<00:01,  4.71it/s]\u001B[A\u001B[A\n",
      "\n",
      " 29%|██▊       | 2/7 [00:00<00:01,  4.57it/s]\u001B[A\u001B[A\n",
      "\n",
      " 43%|████▎     | 3/7 [00:00<00:00,  4.53it/s]\u001B[A\u001B[A\n",
      "\n",
      " 57%|█████▋    | 4/7 [00:00<00:00,  4.29it/s]\u001B[A\u001B[A\n",
      "\n",
      " 71%|███████▏  | 5/7 [00:01<00:00,  4.31it/s]\u001B[A\u001B[A\n",
      "\n",
      "100%|██████████| 7/7 [00:01<00:00,  4.94it/s]\n",
      "Processing 2025-01 queries:  52%|█████▏    | 257/492 [10:35<11:04,  2.83s/query]"
     ]
    },
    {
     "output_type": "stream",
     "name": "stdout",
     "text": [
      "WARNING! Your documents have duplicate entries!  This will slow down calculation and may yield subpar results\n"
     ]
    },
    {
     "output_type": "stream",
     "name": "stderr",
     "text": [
      "\n",
      "\n",
      "  0%|          | 0/7 [00:00<?, ?it/s]\u001B[A\u001B[A\n",
      "\n",
      " 14%|█▍        | 1/7 [00:00<00:01,  4.59it/s]\u001B[A\u001B[A\n",
      "\n",
      " 29%|██▊       | 2/7 [00:00<00:01,  4.53it/s]\u001B[A\u001B[A\n",
      "\n",
      " 43%|████▎     | 3/7 [00:00<00:00,  4.49it/s]\u001B[A\u001B[A\n",
      "\n",
      " 57%|█████▋    | 4/7 [00:00<00:00,  4.25it/s]\u001B[A\u001B[A\n",
      "\n",
      " 71%|███████▏  | 5/7 [00:01<00:00,  4.25it/s]\u001B[A\u001B[A\n",
      "\n",
      "100%|██████████| 7/7 [00:01<00:00,  4.85it/s]\n",
      "Processing 2025-01 queries:  52%|█████▏    | 258/492 [10:38<10:59,  2.82s/query]"
     ]
    },
    {
     "output_type": "stream",
     "name": "stdout",
     "text": [
      "WARNING! Your documents have duplicate entries!  This will slow down calculation and may yield subpar results\n"
     ]
    },
    {
     "output_type": "stream",
     "name": "stderr",
     "text": [
      "\n",
      "\n",
      "  0%|          | 0/7 [00:00<?, ?it/s]\u001B[A\u001B[A\n",
      "\n",
      " 14%|█▍        | 1/7 [00:00<00:01,  3.82it/s]\u001B[A\u001B[A\n",
      "\n",
      " 29%|██▊       | 2/7 [00:00<00:01,  4.18it/s]\u001B[A\u001B[A\n",
      "\n",
      " 43%|████▎     | 3/7 [00:00<00:00,  4.31it/s]\u001B[A\u001B[A\n",
      "\n",
      " 57%|█████▋    | 4/7 [00:00<00:00,  4.36it/s]\u001B[A\u001B[A\n",
      "\n",
      " 71%|███████▏  | 5/7 [00:01<00:00,  4.24it/s]\u001B[A\u001B[A\n",
      "\n",
      "100%|██████████| 7/7 [00:01<00:00,  4.75it/s]\n",
      "Processing 2025-01 queries:  53%|█████▎    | 259/492 [10:41<11:59,  3.09s/query]\n",
      "\n",
      "  0%|          | 0/3 [00:00<?, ?it/s]\u001B[A\u001B[A\n",
      "\n",
      " 33%|███▎      | 1/3 [00:00<00:00,  4.63it/s]\u001B[A\u001B[A\n",
      "\n",
      " 67%|██████▋   | 2/3 [00:00<00:00,  4.49it/s]\u001B[A\u001B[A\n",
      "\n",
      "100%|██████████| 3/3 [00:00<00:00,  4.81it/s]\n",
      "Processing 2025-01 queries:  53%|█████▎    | 260/492 [10:43<10:04,  2.60s/query]"
     ]
    },
    {
     "output_type": "stream",
     "name": "stdout",
     "text": [
      "INFO: Processed 260/492 queries for 2025-01. Avg time/query: 2473.92 ms.\n",
      "WARNING! Your documents have duplicate entries!  This will slow down calculation and may yield subpar results\n"
     ]
    },
    {
     "output_type": "stream",
     "name": "stderr",
     "text": [
      "\n",
      "\n",
      "  0%|          | 0/7 [00:00<?, ?it/s]\u001B[A\u001B[A\n",
      "\n",
      " 14%|█▍        | 1/7 [00:00<00:01,  4.64it/s]\u001B[A\u001B[A\n",
      "\n",
      " 29%|██▊       | 2/7 [00:00<00:01,  4.52it/s]\u001B[A\u001B[A\n",
      "\n",
      " 43%|████▎     | 3/7 [00:00<00:00,  4.45it/s]\u001B[A\u001B[A\n",
      "\n",
      " 57%|█████▋    | 4/7 [00:00<00:00,  4.16it/s]\u001B[A\u001B[A\n",
      "\n",
      " 71%|███████▏  | 5/7 [00:01<00:00,  4.23it/s]\u001B[A\u001B[A\n",
      "\n",
      "100%|██████████| 7/7 [00:01<00:00,  4.84it/s]\n",
      "Processing 2025-01 queries:  53%|█████▎    | 261/492 [10:46<10:13,  2.66s/query]"
     ]
    },
    {
     "output_type": "stream",
     "name": "stdout",
     "text": [
      "WARNING! Your documents have duplicate entries!  This will slow down calculation and may yield subpar results\n"
     ]
    },
    {
     "output_type": "stream",
     "name": "stderr",
     "text": [
      "\n",
      "\n",
      "  0%|          | 0/7 [00:00<?, ?it/s]\u001B[A\u001B[A\n",
      "\n",
      " 14%|█▍        | 1/7 [00:00<00:01,  4.71it/s]\u001B[A\u001B[A\n",
      "\n",
      " 29%|██▊       | 2/7 [00:00<00:01,  4.56it/s]\u001B[A\u001B[A\n",
      "\n",
      " 43%|████▎     | 3/7 [00:00<00:00,  4.50it/s]\u001B[A\u001B[A\n",
      "\n",
      " 57%|█████▋    | 4/7 [00:00<00:00,  4.25it/s]\u001B[A\u001B[A\n",
      "\n",
      " 71%|███████▏  | 5/7 [00:01<00:00,  4.28it/s]\u001B[A\u001B[A\n",
      "\n",
      "100%|██████████| 7/7 [00:01<00:00,  4.87it/s]\n",
      "Processing 2025-01 queries:  53%|█████▎    | 262/492 [10:48<10:20,  2.70s/query]\n",
      "\n",
      "  0%|          | 0/7 [00:00<?, ?it/s]\u001B[A\u001B[A\n",
      "\n",
      " 14%|█▍        | 1/7 [00:00<00:01,  4.66it/s]\u001B[A\u001B[A\n",
      "\n",
      " 29%|██▊       | 2/7 [00:00<00:01,  4.54it/s]\u001B[A\u001B[A\n",
      "\n",
      " 43%|████▎     | 3/7 [00:00<00:00,  4.50it/s]\u001B[A\u001B[A\n",
      "\n",
      " 57%|█████▋    | 4/7 [00:00<00:00,  4.36it/s]\u001B[A\u001B[A\n",
      "\n",
      " 71%|███████▏  | 5/7 [00:01<00:00,  4.25it/s]\u001B[A\u001B[A\n",
      "\n",
      "100%|██████████| 7/7 [00:01<00:00,  4.86it/s]\n",
      "Processing 2025-01 queries:  53%|█████▎    | 263/492 [10:51<09:54,  2.60s/query]"
     ]
    },
    {
     "output_type": "stream",
     "name": "stdout",
     "text": [
      "WARNING! Your documents have duplicate entries!  This will slow down calculation and may yield subpar results\n"
     ]
    },
    {
     "output_type": "stream",
     "name": "stderr",
     "text": [
      "\n",
      "\n",
      "  0%|          | 0/7 [00:00<?, ?it/s]\u001B[A\u001B[A\n",
      "\n",
      " 14%|█▍        | 1/7 [00:00<00:01,  3.46it/s]\u001B[A\u001B[A\n",
      "\n",
      " 29%|██▊       | 2/7 [00:00<00:01,  4.04it/s]\u001B[A\u001B[A\n",
      "\n",
      " 43%|████▎     | 3/7 [00:00<00:00,  4.24it/s]\u001B[A\u001B[A\n",
      "\n",
      " 57%|█████▋    | 4/7 [00:00<00:00,  4.33it/s]\u001B[A\u001B[A\n",
      "\n",
      " 71%|███████▏  | 5/7 [00:01<00:00,  4.24it/s]\u001B[A\u001B[A\n",
      "\n",
      "100%|██████████| 7/7 [00:01<00:00,  4.68it/s]\n",
      "Processing 2025-01 queries:  54%|█████▎    | 264/492 [10:57<14:12,  3.74s/query]"
     ]
    },
    {
     "output_type": "stream",
     "name": "stdout",
     "text": [
      "WARNING! Your documents have duplicate entries!  This will slow down calculation and may yield subpar results\n"
     ]
    },
    {
     "output_type": "stream",
     "name": "stderr",
     "text": [
      "\n",
      "\n",
      "  0%|          | 0/7 [00:00<?, ?it/s]\u001B[A\u001B[A\n",
      "\n",
      " 14%|█▍        | 1/7 [00:00<00:01,  4.67it/s]\u001B[A\u001B[A\n",
      "\n",
      " 29%|██▊       | 2/7 [00:00<00:01,  4.58it/s]\u001B[A\u001B[A\n",
      "\n",
      " 43%|████▎     | 3/7 [00:00<00:00,  4.54it/s]\u001B[A\u001B[A\n",
      "\n",
      " 57%|█████▋    | 4/7 [00:00<00:00,  4.33it/s]\u001B[A\u001B[A\n",
      "\n",
      " 71%|███████▏  | 5/7 [00:01<00:00,  4.32it/s]\u001B[A\u001B[A\n",
      "\n",
      "100%|██████████| 7/7 [00:01<00:00,  4.95it/s]\n",
      "Processing 2025-01 queries:  54%|█████▍    | 265/492 [11:00<13:00,  3.44s/query]"
     ]
    },
    {
     "output_type": "stream",
     "name": "stdout",
     "text": [
      "WARNING! Your documents have duplicate entries!  This will slow down calculation and may yield subpar results\n"
     ]
    },
    {
     "output_type": "stream",
     "name": "stderr",
     "text": [
      "\n",
      "\n",
      "  0%|          | 0/7 [00:00<?, ?it/s]\u001B[A\u001B[A\n",
      "\n",
      " 14%|█▍        | 1/7 [00:00<00:01,  4.66it/s]\u001B[A\u001B[A\n",
      "\n",
      " 29%|██▊       | 2/7 [00:00<00:01,  4.60it/s]\u001B[A\u001B[A\n",
      "\n",
      " 43%|████▎     | 3/7 [00:00<00:00,  4.55it/s]\u001B[A\u001B[A\n",
      "\n",
      " 57%|█████▋    | 4/7 [00:00<00:00,  4.33it/s]\u001B[A\u001B[A\n",
      "\n",
      " 71%|███████▏  | 5/7 [00:01<00:00,  4.35it/s]\u001B[A\u001B[A\n",
      "\n",
      "100%|██████████| 7/7 [00:01<00:00,  4.95it/s]\n",
      "Processing 2025-01 queries:  54%|█████▍    | 266/492 [11:03<12:18,  3.27s/query]"
     ]
    },
    {
     "output_type": "stream",
     "name": "stdout",
     "text": [
      "WARNING! Your documents have duplicate entries!  This will slow down calculation and may yield subpar results\n"
     ]
    },
    {
     "output_type": "stream",
     "name": "stderr",
     "text": [
      "\n",
      "\n",
      "  0%|          | 0/2 [00:00<?, ?it/s]\u001B[A\u001B[A\n",
      "\n",
      " 50%|█████     | 1/2 [00:00<00:00,  4.59it/s]\u001B[A\u001B[A\n",
      "\n",
      "100%|██████████| 2/2 [00:00<00:00,  4.93it/s]\n",
      "Processing 2025-01 queries:  54%|█████▍    | 267/492 [11:04<09:58,  2.66s/query]\n",
      "\n",
      "  0%|          | 0/7 [00:00<?, ?it/s]\u001B[A\u001B[A\n",
      "\n",
      " 14%|█▍        | 1/7 [00:00<00:01,  4.69it/s]\u001B[A\u001B[A\n",
      "\n",
      " 29%|██▊       | 2/7 [00:00<00:01,  4.59it/s]\u001B[A\u001B[A\n",
      "\n",
      " 43%|████▎     | 3/7 [00:00<00:00,  4.56it/s]\u001B[A\u001B[A\n",
      "\n",
      " 57%|█████▋    | 4/7 [00:00<00:00,  4.31it/s]\u001B[A\u001B[A\n",
      "\n",
      " 71%|███████▏  | 5/7 [00:01<00:00,  4.32it/s]\u001B[A\u001B[A\n",
      "\n",
      "100%|██████████| 7/7 [00:01<00:00,  4.95it/s]\n",
      "Processing 2025-01 queries:  54%|█████▍    | 268/492 [11:06<09:30,  2.55s/query]"
     ]
    },
    {
     "output_type": "stream",
     "name": "stdout",
     "text": [
      "WARNING! Your documents have duplicate entries!  This will slow down calculation and may yield subpar results\n"
     ]
    },
    {
     "output_type": "stream",
     "name": "stderr",
     "text": [
      "\n",
      "\n",
      "  0%|          | 0/7 [00:00<?, ?it/s]\u001B[A\u001B[A\n",
      "\n",
      " 14%|█▍        | 1/7 [00:00<00:01,  4.70it/s]\u001B[A\u001B[A\n",
      "\n",
      " 29%|██▊       | 2/7 [00:00<00:01,  4.59it/s]\u001B[A\u001B[A\n",
      "\n",
      " 43%|████▎     | 3/7 [00:00<00:00,  4.53it/s]\u001B[A\u001B[A\n",
      "\n",
      " 57%|█████▋    | 4/7 [00:00<00:00,  4.48it/s]\u001B[A\u001B[A\n",
      "\n",
      " 71%|███████▏  | 5/7 [00:01<00:00,  4.23it/s]\u001B[A\u001B[A\n",
      "\n",
      "100%|██████████| 7/7 [00:01<00:00,  4.90it/s]\n",
      "Processing 2025-01 queries:  55%|█████▍    | 269/492 [11:09<09:42,  2.61s/query]"
     ]
    },
    {
     "output_type": "stream",
     "name": "stdout",
     "text": [
      "WARNING! Your documents have duplicate entries!  This will slow down calculation and may yield subpar results\n"
     ]
    },
    {
     "output_type": "stream",
     "name": "stderr",
     "text": [
      "\n",
      "\n",
      "  0%|          | 0/7 [00:00<?, ?it/s]\u001B[A\u001B[A\n",
      "\n",
      " 14%|█▍        | 1/7 [00:00<00:01,  3.90it/s]\u001B[A\u001B[A\n",
      "\n",
      " 29%|██▊       | 2/7 [00:00<00:01,  4.21it/s]\u001B[A\u001B[A\n",
      "\n",
      " 43%|████▎     | 3/7 [00:00<00:00,  4.32it/s]\u001B[A\u001B[A\n",
      "\n",
      " 57%|█████▋    | 4/7 [00:00<00:00,  4.39it/s]\u001B[A\u001B[A\n",
      "\n",
      " 71%|███████▏  | 5/7 [00:01<00:00,  4.33it/s]\u001B[A\u001B[A\n",
      "\n",
      "100%|██████████| 7/7 [00:01<00:00,  4.79it/s]\n",
      "Processing 2025-01 queries:  55%|█████▍    | 270/492 [11:13<10:54,  2.95s/query]"
     ]
    },
    {
     "output_type": "stream",
     "name": "stdout",
     "text": [
      "WARNING! Your documents have duplicate entries!  This will slow down calculation and may yield subpar results\n"
     ]
    },
    {
     "output_type": "stream",
     "name": "stderr",
     "text": [
      "\n",
      "\n",
      "  0%|          | 0/7 [00:00<?, ?it/s]\u001B[A\u001B[A\n",
      "\n",
      " 14%|█▍        | 1/7 [00:00<00:01,  4.65it/s]\u001B[A\u001B[A\n",
      "\n",
      " 29%|██▊       | 2/7 [00:00<00:01,  4.56it/s]\u001B[A\u001B[A\n",
      "\n",
      " 43%|████▎     | 3/7 [00:00<00:00,  4.52it/s]\u001B[A\u001B[A\n",
      "\n",
      " 57%|█████▋    | 4/7 [00:00<00:00,  4.40it/s]\u001B[A\u001B[A\n",
      "\n",
      " 71%|███████▏  | 5/7 [00:01<00:00,  4.27it/s]\u001B[A\u001B[A\n",
      "\n",
      "100%|██████████| 7/7 [00:01<00:00,  4.88it/s]\n",
      "Processing 2025-01 queries:  55%|█████▌    | 271/492 [11:15<10:12,  2.77s/query]\n",
      "\n",
      "  0%|          | 0/7 [00:00<?, ?it/s]\u001B[A\u001B[A\n",
      "\n",
      " 14%|█▍        | 1/7 [00:00<00:01,  4.75it/s]\u001B[A\u001B[A\n",
      "\n",
      " 29%|██▊       | 2/7 [00:00<00:01,  4.58it/s]\u001B[A\u001B[A\n",
      "\n",
      " 43%|████▎     | 3/7 [00:00<00:00,  4.53it/s]\u001B[A\u001B[A\n",
      "\n",
      " 57%|█████▋    | 4/7 [00:00<00:00,  4.18it/s]\u001B[A\u001B[A\n",
      "\n",
      " 71%|███████▏  | 5/7 [00:01<00:00,  4.24it/s]\u001B[A\u001B[A\n",
      "\n",
      "100%|██████████| 7/7 [00:01<00:00,  4.85it/s]\n",
      "Processing 2025-01 queries:  55%|█████▌    | 272/492 [11:18<09:41,  2.65s/query]"
     ]
    },
    {
     "output_type": "stream",
     "name": "stdout",
     "text": [
      "WARNING! Your documents have duplicate entries!  This will slow down calculation and may yield subpar results\n"
     ]
    },
    {
     "output_type": "stream",
     "name": "stderr",
     "text": [
      "\n",
      "\n",
      "  0%|          | 0/7 [00:00<?, ?it/s]\u001B[A\u001B[A\n",
      "\n",
      " 14%|█▍        | 1/7 [00:00<00:01,  4.56it/s]\u001B[A\u001B[A\n",
      "\n",
      " 29%|██▊       | 2/7 [00:00<00:01,  4.53it/s]\u001B[A\u001B[A\n",
      "\n",
      " 43%|████▎     | 3/7 [00:00<00:00,  4.51it/s]\u001B[A\u001B[A\n",
      "\n",
      " 57%|█████▋    | 4/7 [00:00<00:00,  4.25it/s]\u001B[A\u001B[A\n",
      "\n",
      " 71%|███████▏  | 5/7 [00:01<00:00,  4.27it/s]\u001B[A\u001B[A\n",
      "\n",
      "100%|██████████| 7/7 [00:01<00:00,  4.88it/s]\n",
      "Processing 2025-01 queries:  55%|█████▌    | 273/492 [11:20<09:17,  2.55s/query]\n",
      "\n",
      "  0%|          | 0/7 [00:00<?, ?it/s]\u001B[A\u001B[A\n",
      "\n",
      " 14%|█▍        | 1/7 [00:00<00:01,  3.44it/s]\u001B[A\u001B[A\n",
      "\n",
      " 29%|██▊       | 2/7 [00:00<00:01,  4.00it/s]\u001B[A\u001B[A\n",
      "\n",
      " 43%|████▎     | 3/7 [00:00<00:00,  4.21it/s]\u001B[A\u001B[A\n",
      "\n",
      " 57%|█████▋    | 4/7 [00:00<00:00,  4.30it/s]\u001B[A\u001B[A\n",
      "\n",
      " 71%|███████▏  | 5/7 [00:01<00:00,  4.27it/s]\u001B[A\u001B[A\n",
      "\n",
      "100%|██████████| 7/7 [00:01<00:00,  4.72it/s]\n",
      "Processing 2025-01 queries:  56%|█████▌    | 274/492 [11:24<10:31,  2.89s/query]"
     ]
    },
    {
     "output_type": "stream",
     "name": "stdout",
     "text": [
      "WARNING! Your documents have duplicate entries!  This will slow down calculation and may yield subpar results\n"
     ]
    },
    {
     "output_type": "stream",
     "name": "stderr",
     "text": [
      "\n",
      "\n",
      "  0%|          | 0/2 [00:00<?, ?it/s]\u001B[A\u001B[A\n",
      "\n",
      " 50%|█████     | 1/2 [00:00<00:00,  4.57it/s]\u001B[A\u001B[A\n",
      "\n",
      "100%|██████████| 2/2 [00:00<00:00,  5.78it/s]\n",
      "Processing 2025-01 queries:  56%|█████▌    | 275/492 [11:25<09:03,  2.51s/query]"
     ]
    },
    {
     "output_type": "stream",
     "name": "stdout",
     "text": [
      "WARNING! Your documents have duplicate entries!  This will slow down calculation and may yield subpar results\n"
     ]
    },
    {
     "output_type": "stream",
     "name": "stderr",
     "text": [
      "\n",
      "\n",
      "  0%|          | 0/7 [00:00<?, ?it/s]\u001B[A\u001B[A\n",
      "\n",
      " 14%|█▍        | 1/7 [00:00<00:01,  4.67it/s]\u001B[A\u001B[A\n",
      "\n",
      " 29%|██▊       | 2/7 [00:00<00:01,  4.74it/s]\u001B[A\u001B[A\n",
      "\n",
      " 43%|████▎     | 3/7 [00:00<00:00,  4.69it/s]\u001B[A\u001B[A\n",
      "\n",
      " 57%|█████▋    | 4/7 [00:00<00:00,  4.47it/s]\u001B[A\u001B[A\n",
      "\n",
      " 71%|███████▏  | 5/7 [00:01<00:00,  4.43it/s]\u001B[A\u001B[A\n",
      "\n",
      "100%|██████████| 7/7 [00:01<00:00,  5.07it/s]\n",
      "Processing 2025-01 queries:  56%|█████▌    | 276/492 [11:28<09:16,  2.58s/query]"
     ]
    },
    {
     "output_type": "stream",
     "name": "stdout",
     "text": [
      "WARNING! Your documents have duplicate entries!  This will slow down calculation and may yield subpar results\n"
     ]
    },
    {
     "output_type": "stream",
     "name": "stderr",
     "text": [
      "\n",
      "\n",
      "  0%|          | 0/7 [00:00<?, ?it/s]\u001B[A\u001B[A\n",
      "\n",
      " 14%|█▍        | 1/7 [00:00<00:01,  4.62it/s]\u001B[A\u001B[A\n",
      "\n",
      " 29%|██▊       | 2/7 [00:00<00:01,  4.58it/s]\u001B[A\u001B[A\n",
      "\n",
      " 43%|████▎     | 3/7 [00:00<00:00,  4.51it/s]\u001B[A\u001B[A\n",
      "\n",
      " 57%|█████▋    | 4/7 [00:00<00:00,  4.44it/s]\u001B[A\u001B[A\n",
      "\n",
      " 71%|███████▏  | 5/7 [00:01<00:00,  4.29it/s]\u001B[A\u001B[A\n",
      "\n",
      "100%|██████████| 7/7 [00:01<00:00,  4.91it/s]\n",
      "Processing 2025-01 queries:  56%|█████▋    | 277/492 [11:31<09:26,  2.64s/query]"
     ]
    },
    {
     "output_type": "stream",
     "name": "stdout",
     "text": [
      "WARNING! Your documents have duplicate entries!  This will slow down calculation and may yield subpar results\n"
     ]
    },
    {
     "output_type": "stream",
     "name": "stderr",
     "text": [
      "\n",
      "\n",
      "  0%|          | 0/7 [00:00<?, ?it/s]\u001B[A\u001B[A\n",
      "\n",
      " 14%|█▍        | 1/7 [00:00<00:01,  4.68it/s]\u001B[A\u001B[A\n",
      "\n",
      " 29%|██▊       | 2/7 [00:00<00:01,  4.58it/s]\u001B[A\u001B[A\n",
      "\n",
      " 43%|████▎     | 3/7 [00:00<00:00,  4.54it/s]\u001B[A\u001B[A\n",
      "\n",
      " 57%|█████▋    | 4/7 [00:00<00:00,  4.32it/s]\u001B[A\u001B[A\n",
      "\n",
      " 71%|███████▏  | 5/7 [00:01<00:00,  4.32it/s]\u001B[A\u001B[A\n",
      "\n",
      "100%|██████████| 7/7 [00:01<00:00,  4.95it/s]\n",
      "Processing 2025-01 queries:  57%|█████▋    | 278/492 [11:33<09:11,  2.58s/query]"
     ]
    },
    {
     "output_type": "stream",
     "name": "stdout",
     "text": [
      "WARNING! Your documents have duplicate entries!  This will slow down calculation and may yield subpar results\n"
     ]
    },
    {
     "output_type": "stream",
     "name": "stderr",
     "text": [
      "\n",
      "\n",
      "  0%|          | 0/7 [00:00<?, ?it/s]\u001B[A\u001B[A\n",
      "\n",
      " 14%|█▍        | 1/7 [00:00<00:01,  4.66it/s]\u001B[A\u001B[A\n",
      "\n",
      " 29%|██▊       | 2/7 [00:00<00:01,  4.56it/s]\u001B[A\u001B[A\n",
      "\n",
      " 43%|████▎     | 3/7 [00:00<00:00,  4.52it/s]\u001B[A\u001B[A\n",
      "\n",
      " 57%|█████▋    | 4/7 [00:00<00:00,  4.25it/s]\u001B[A\u001B[A\n",
      "\n",
      " 71%|███████▏  | 5/7 [00:01<00:00,  4.29it/s]\u001B[A\u001B[A\n",
      "\n",
      "100%|██████████| 7/7 [00:01<00:00,  4.91it/s]\n",
      "Processing 2025-01 queries:  57%|█████▋    | 279/492 [11:36<09:27,  2.66s/query]"
     ]
    },
    {
     "output_type": "stream",
     "name": "stdout",
     "text": [
      "WARNING! Your documents have duplicate entries!  This will slow down calculation and may yield subpar results\n"
     ]
    },
    {
     "output_type": "stream",
     "name": "stderr",
     "text": [
      "\n",
      "\n",
      "  0%|          | 0/7 [00:00<?, ?it/s]\u001B[A\u001B[A\n",
      "\n",
      " 14%|█▍        | 1/7 [00:00<00:01,  4.71it/s]\u001B[A\u001B[A\n",
      "\n",
      " 29%|██▊       | 2/7 [00:00<00:01,  4.62it/s]\u001B[A\u001B[A\n",
      "\n",
      " 43%|████▎     | 3/7 [00:00<00:00,  4.57it/s]\u001B[A\u001B[A\n",
      "\n",
      " 57%|█████▋    | 4/7 [00:00<00:00,  4.47it/s]\u001B[A\u001B[A\n",
      "\n",
      " 71%|███████▏  | 5/7 [00:01<00:00,  4.32it/s]\u001B[A\u001B[A\n",
      "\n",
      "100%|██████████| 7/7 [00:01<00:00,  4.93it/s]\n",
      "Processing 2025-01 queries:  57%|█████▋    | 280/492 [11:39<09:35,  2.72s/query]"
     ]
    },
    {
     "output_type": "stream",
     "name": "stdout",
     "text": [
      "INFO: Processed 280/492 queries for 2025-01. Avg time/query: 2497.03 ms.\n",
      "WARNING! Your documents have duplicate entries!  This will slow down calculation and may yield subpar results\n"
     ]
    },
    {
     "output_type": "stream",
     "name": "stderr",
     "text": [
      "\n",
      "\n",
      "  0%|          | 0/7 [00:00<?, ?it/s]\u001B[A\u001B[A\n",
      "\n",
      " 14%|█▍        | 1/7 [00:00<00:01,  4.65it/s]\u001B[A\u001B[A\n",
      "\n",
      " 29%|██▊       | 2/7 [00:00<00:01,  4.59it/s]\u001B[A\u001B[A\n",
      "\n",
      " 43%|████▎     | 3/7 [00:00<00:00,  4.58it/s]\u001B[A\u001B[A\n",
      "\n",
      " 57%|█████▋    | 4/7 [00:00<00:00,  4.39it/s]\u001B[A\u001B[A\n",
      "\n",
      " 71%|███████▏  | 5/7 [00:01<00:00,  4.36it/s]\u001B[A\u001B[A\n",
      "\n",
      "100%|██████████| 7/7 [00:01<00:00,  4.96it/s]\n",
      "Processing 2025-01 queries:  57%|█████▋    | 281/492 [11:41<09:06,  2.59s/query]"
     ]
    },
    {
     "output_type": "stream",
     "name": "stdout",
     "text": [
      "WARNING! Your documents have duplicate entries!  This will slow down calculation and may yield subpar results\n"
     ]
    },
    {
     "output_type": "stream",
     "name": "stderr",
     "text": [
      "\n",
      "\n",
      "  0%|          | 0/7 [00:00<?, ?it/s]\u001B[A\u001B[A\n",
      "\n",
      " 14%|█▍        | 1/7 [00:00<00:01,  4.78it/s]\u001B[A\u001B[A\n",
      "\n",
      " 29%|██▊       | 2/7 [00:00<00:01,  4.60it/s]\u001B[A\u001B[A\n",
      "\n",
      " 43%|████▎     | 3/7 [00:00<00:00,  4.55it/s]\u001B[A\u001B[A\n",
      "\n",
      " 57%|█████▋    | 4/7 [00:00<00:00,  4.33it/s]\u001B[A\u001B[A\n",
      "\n",
      " 71%|███████▏  | 5/7 [00:01<00:00,  4.30it/s]\u001B[A\u001B[A\n",
      "\n",
      "100%|██████████| 7/7 [00:01<00:00,  4.94it/s]\n",
      "Processing 2025-01 queries:  57%|█████▋    | 282/492 [11:44<09:13,  2.63s/query]"
     ]
    },
    {
     "output_type": "stream",
     "name": "stdout",
     "text": [
      "WARNING! Your documents have duplicate entries!  This will slow down calculation and may yield subpar results\n"
     ]
    },
    {
     "output_type": "stream",
     "name": "stderr",
     "text": [
      "\n",
      "\n",
      "  0%|          | 0/7 [00:00<?, ?it/s]\u001B[A\u001B[A\n",
      "\n",
      " 14%|█▍        | 1/7 [00:00<00:01,  3.69it/s]\u001B[A\u001B[A\n",
      "\n",
      " 29%|██▊       | 2/7 [00:00<00:01,  4.15it/s]\u001B[A\u001B[A\n",
      "\n",
      " 43%|████▎     | 3/7 [00:00<00:00,  4.30it/s]\u001B[A\u001B[A\n",
      "\n",
      " 57%|█████▋    | 4/7 [00:00<00:00,  4.37it/s]\u001B[A\u001B[A\n",
      "\n",
      " 71%|███████▏  | 5/7 [00:01<00:00,  4.24it/s]\u001B[A\u001B[A\n",
      "\n",
      "100%|██████████| 7/7 [00:01<00:00,  4.76it/s]\n",
      "Processing 2025-01 queries:  58%|█████▊    | 283/492 [11:48<11:10,  3.21s/query]"
     ]
    },
    {
     "output_type": "stream",
     "name": "stdout",
     "text": [
      "WARNING! Your documents have duplicate entries!  This will slow down calculation and may yield subpar results\n"
     ]
    },
    {
     "output_type": "stream",
     "name": "stderr",
     "text": [
      "\n",
      "\n",
      "  0%|          | 0/7 [00:00<?, ?it/s]\u001B[A\u001B[A\n",
      "\n",
      " 14%|█▍        | 1/7 [00:00<00:01,  4.72it/s]\u001B[A\u001B[A\n",
      "\n",
      " 29%|██▊       | 2/7 [00:00<00:01,  4.61it/s]\u001B[A\u001B[A\n",
      "\n",
      " 43%|████▎     | 3/7 [00:00<00:00,  4.58it/s]\u001B[A\u001B[A\n",
      "\n",
      " 57%|█████▋    | 4/7 [00:00<00:00,  4.32it/s]\u001B[A\u001B[A\n",
      "\n",
      " 71%|███████▏  | 5/7 [00:01<00:00,  4.35it/s]\u001B[A\u001B[A\n",
      "\n",
      "100%|██████████| 7/7 [00:01<00:00,  4.99it/s]\n",
      "Processing 2025-01 queries:  58%|█████▊    | 284/492 [11:51<10:15,  2.96s/query]\n",
      "\n",
      "  0%|          | 0/4 [00:00<?, ?it/s]\u001B[A\u001B[A\n",
      "\n",
      " 25%|██▌       | 1/4 [00:00<00:00,  4.59it/s]\u001B[A\u001B[A\n",
      "\n",
      " 50%|█████     | 2/4 [00:00<00:00,  4.68it/s]\u001B[A\u001B[A\n",
      "\n",
      "100%|██████████| 4/4 [00:00<00:00,  5.46it/s]\n",
      "Processing 2025-01 queries:  58%|█████▊    | 285/492 [11:52<08:49,  2.56s/query]\n",
      "\n",
      "100%|██████████| 1/1 [00:00<00:00, 19.47it/s]\n",
      "Processing 2025-01 queries:  58%|█████▊    | 286/492 [11:53<06:59,  2.04s/query]"
     ]
    },
    {
     "output_type": "stream",
     "name": "stdout",
     "text": [
      "WARNING! Your documents have duplicate entries!  This will slow down calculation and may yield subpar results\n"
     ]
    },
    {
     "output_type": "stream",
     "name": "stderr",
     "text": [
      "\n",
      "\n",
      "  0%|          | 0/7 [00:00<?, ?it/s]\u001B[A\u001B[A\n",
      "\n",
      " 14%|█▍        | 1/7 [00:00<00:01,  3.65it/s]\u001B[A\u001B[A\n",
      "\n",
      " 29%|██▊       | 2/7 [00:00<00:01,  4.12it/s]\u001B[A\u001B[A\n",
      "\n",
      " 43%|████▎     | 3/7 [00:00<00:00,  4.29it/s]\u001B[A\u001B[A\n",
      "\n",
      " 57%|█████▋    | 4/7 [00:00<00:00,  4.38it/s]\u001B[A\u001B[A\n",
      "\n",
      " 71%|███████▏  | 5/7 [00:01<00:00,  4.23it/s]\u001B[A\u001B[A\n",
      "\n",
      "100%|██████████| 7/7 [00:01<00:00,  4.73it/s]\n",
      "Processing 2025-01 queries:  58%|█████▊    | 287/492 [11:56<07:46,  2.28s/query]\n",
      "\n",
      "  0%|          | 0/7 [00:00<?, ?it/s]\u001B[A\u001B[A\n",
      "\n",
      " 14%|█▍        | 1/7 [00:00<00:01,  4.75it/s]\u001B[A\u001B[A\n",
      "\n",
      " 29%|██▊       | 2/7 [00:00<00:01,  4.60it/s]\u001B[A\u001B[A\n",
      "\n",
      " 43%|████▎     | 3/7 [00:00<00:00,  4.57it/s]\u001B[A\u001B[A\n",
      "\n",
      " 57%|█████▋    | 4/7 [00:00<00:00,  4.31it/s]\u001B[A\u001B[A\n",
      "\n",
      " 71%|███████▏  | 5/7 [00:01<00:00,  4.28it/s]\u001B[A\u001B[A\n",
      "\n",
      "100%|██████████| 7/7 [00:01<00:00,  4.92it/s]\n",
      "Processing 2025-01 queries:  59%|█████▊    | 288/492 [11:58<07:45,  2.28s/query]"
     ]
    },
    {
     "output_type": "stream",
     "name": "stdout",
     "text": [
      "WARNING! Your documents have duplicate entries!  This will slow down calculation and may yield subpar results\n"
     ]
    },
    {
     "output_type": "stream",
     "name": "stderr",
     "text": [
      "\n",
      "\n",
      "  0%|          | 0/7 [00:00<?, ?it/s]\u001B[A\u001B[A\n",
      "\n",
      " 14%|█▍        | 1/7 [00:00<00:01,  4.73it/s]\u001B[A\u001B[A\n",
      "\n",
      " 29%|██▊       | 2/7 [00:00<00:01,  4.58it/s]\u001B[A\u001B[A\n",
      "\n",
      " 43%|████▎     | 3/7 [00:00<00:00,  4.53it/s]\u001B[A\u001B[A\n",
      "\n",
      " 57%|█████▋    | 4/7 [00:00<00:00,  4.32it/s]\u001B[A\u001B[A\n",
      "\n",
      " 71%|███████▏  | 5/7 [00:01<00:00,  4.31it/s]\u001B[A\u001B[A\n",
      "\n",
      "100%|██████████| 7/7 [00:01<00:00,  4.93it/s]\n",
      "Processing 2025-01 queries:  59%|█████▊    | 289/492 [12:01<08:12,  2.43s/query]"
     ]
    },
    {
     "output_type": "stream",
     "name": "stdout",
     "text": [
      "WARNING! Your documents have duplicate entries!  This will slow down calculation and may yield subpar results\n"
     ]
    },
    {
     "output_type": "stream",
     "name": "stderr",
     "text": [
      "\n",
      "\n",
      "  0%|          | 0/7 [00:00<?, ?it/s]\u001B[A\u001B[A\n",
      "\n",
      " 14%|█▍        | 1/7 [00:00<00:01,  4.70it/s]\u001B[A\u001B[A\n",
      "\n",
      " 29%|██▊       | 2/7 [00:00<00:01,  4.56it/s]\u001B[A\u001B[A\n",
      "\n",
      " 43%|████▎     | 3/7 [00:00<00:00,  4.50it/s]\u001B[A\u001B[A\n",
      "\n",
      " 57%|█████▋    | 4/7 [00:00<00:00,  4.17it/s]\u001B[A\u001B[A\n",
      "\n",
      " 71%|███████▏  | 5/7 [00:01<00:00,  4.22it/s]\u001B[A\u001B[A\n",
      "\n",
      "100%|██████████| 7/7 [00:01<00:00,  4.87it/s]\n",
      "Processing 2025-01 queries:  59%|█████▉    | 290/492 [12:03<08:05,  2.41s/query]\n",
      "\n",
      "  0%|          | 0/7 [00:00<?, ?it/s]\u001B[A\u001B[A\n",
      "\n",
      " 14%|█▍        | 1/7 [00:00<00:01,  4.55it/s]\u001B[A\u001B[A\n",
      "\n",
      " 29%|██▊       | 2/7 [00:00<00:01,  4.49it/s]\u001B[A\u001B[A\n",
      "\n",
      " 43%|████▎     | 3/7 [00:00<00:00,  4.46it/s]\u001B[A\u001B[A\n",
      "\n",
      " 57%|█████▋    | 4/7 [00:00<00:00,  4.16it/s]\u001B[A\u001B[A\n",
      "\n",
      " 71%|███████▏  | 5/7 [00:01<00:00,  4.23it/s]\u001B[A\u001B[A\n",
      "\n",
      "100%|██████████| 7/7 [00:01<00:00,  4.84it/s]\n",
      "Processing 2025-01 queries:  59%|█████▉    | 291/492 [12:06<08:23,  2.51s/query]"
     ]
    },
    {
     "output_type": "stream",
     "name": "stdout",
     "text": [
      "WARNING! Your documents have duplicate entries!  This will slow down calculation and may yield subpar results\n"
     ]
    },
    {
     "output_type": "stream",
     "name": "stderr",
     "text": [
      "\n",
      "\n",
      "  0%|          | 0/7 [00:00<?, ?it/s]\u001B[A\u001B[A\n",
      "\n",
      " 14%|█▍        | 1/7 [00:00<00:01,  4.61it/s]\u001B[A\u001B[A\n",
      "\n",
      " 29%|██▊       | 2/7 [00:00<00:01,  4.54it/s]\u001B[A\u001B[A\n",
      "\n",
      " 43%|████▎     | 3/7 [00:00<00:00,  4.51it/s]\u001B[A\u001B[A\n",
      "\n",
      " 57%|█████▋    | 4/7 [00:00<00:00,  4.34it/s]\u001B[A\u001B[A\n",
      "\n",
      " 71%|███████▏  | 5/7 [00:01<00:00,  4.35it/s]\u001B[A\u001B[A\n",
      "\n",
      "100%|██████████| 7/7 [00:01<00:00,  4.92it/s]\n",
      "Processing 2025-01 queries:  59%|█████▉    | 292/492 [12:09<08:10,  2.45s/query]\n",
      "\n",
      "  0%|          | 0/7 [00:00<?, ?it/s]\u001B[A\u001B[A\n",
      "\n",
      " 14%|█▍        | 1/7 [00:00<00:01,  4.67it/s]\u001B[A\u001B[A\n",
      "\n",
      " 29%|██▊       | 2/7 [00:00<00:01,  4.65it/s]\u001B[A\u001B[A\n",
      "\n",
      " 43%|████▎     | 3/7 [00:00<00:00,  4.66it/s]\u001B[A\u001B[A\n",
      "\n",
      " 57%|█████▋    | 4/7 [00:00<00:00,  4.53it/s]\u001B[A\u001B[A\n",
      "\n",
      " 71%|███████▏  | 5/7 [00:01<00:00,  4.47it/s]\u001B[A\u001B[A\n",
      "\n",
      "100%|██████████| 7/7 [00:01<00:00,  5.08it/s]\n",
      "Processing 2025-01 queries:  60%|█████▉    | 293/492 [12:11<08:25,  2.54s/query]\n",
      "\n",
      "  0%|          | 0/7 [00:00<?, ?it/s]\u001B[A\u001B[A\n",
      "\n",
      " 14%|█▍        | 1/7 [00:00<00:01,  4.75it/s]\u001B[A\u001B[A\n",
      "\n",
      " 29%|██▊       | 2/7 [00:00<00:01,  4.58it/s]\u001B[A\u001B[A\n",
      "\n",
      " 43%|████▎     | 3/7 [00:00<00:00,  4.54it/s]\u001B[A\u001B[A\n",
      "\n",
      " 57%|█████▋    | 4/7 [00:00<00:00,  4.31it/s]\u001B[A\u001B[A\n",
      "\n",
      " 71%|███████▏  | 5/7 [00:01<00:00,  4.30it/s]\u001B[A\u001B[A\n",
      "\n",
      "100%|██████████| 7/7 [00:01<00:00,  4.92it/s]\n",
      "Processing 2025-01 queries:  60%|█████▉    | 294/492 [12:14<08:10,  2.47s/query]\n",
      "\n",
      "  0%|          | 0/7 [00:00<?, ?it/s]\u001B[A\u001B[A\n",
      "\n",
      " 14%|█▍        | 1/7 [00:00<00:01,  4.54it/s]\u001B[A\u001B[A\n",
      "\n",
      " 29%|██▊       | 2/7 [00:00<00:01,  4.50it/s]\u001B[A\u001B[A\n",
      "\n",
      " 43%|████▎     | 3/7 [00:00<00:00,  4.50it/s]\u001B[A\u001B[A\n",
      "\n",
      " 57%|█████▋    | 4/7 [00:00<00:00,  4.24it/s]\u001B[A\u001B[A\n",
      "\n",
      " 71%|███████▏  | 5/7 [00:01<00:00,  4.29it/s]\u001B[A\u001B[A\n",
      "\n",
      "100%|██████████| 7/7 [00:01<00:00,  4.89it/s]\n",
      "Processing 2025-01 queries:  60%|█████▉    | 295/492 [12:16<07:58,  2.43s/query]"
     ]
    },
    {
     "output_type": "stream",
     "name": "stdout",
     "text": [
      "WARNING! Your documents have duplicate entries!  This will slow down calculation and may yield subpar results\n"
     ]
    },
    {
     "output_type": "stream",
     "name": "stderr",
     "text": [
      "\n",
      "\n",
      "  0%|          | 0/7 [00:00<?, ?it/s]\u001B[A\u001B[A\n",
      "\n",
      " 14%|█▍        | 1/7 [00:00<00:01,  4.67it/s]\u001B[A\u001B[A\n",
      "\n",
      " 29%|██▊       | 2/7 [00:00<00:01,  4.57it/s]\u001B[A\u001B[A\n",
      "\n",
      " 43%|████▎     | 3/7 [00:00<00:00,  4.52it/s]\u001B[A\u001B[A\n",
      "\n",
      " 57%|█████▋    | 4/7 [00:00<00:00,  4.31it/s]\u001B[A\u001B[A\n",
      "\n",
      " 71%|███████▏  | 5/7 [00:01<00:00,  4.32it/s]\u001B[A\u001B[A\n",
      "\n",
      "100%|██████████| 7/7 [00:01<00:00,  4.92it/s]\n",
      "Processing 2025-01 queries:  60%|██████    | 296/492 [12:19<08:40,  2.65s/query]"
     ]
    },
    {
     "output_type": "stream",
     "name": "stdout",
     "text": [
      "WARNING! Your documents have duplicate entries!  This will slow down calculation and may yield subpar results\n"
     ]
    },
    {
     "output_type": "stream",
     "name": "stderr",
     "text": [
      "\n",
      "\n",
      "  0%|          | 0/7 [00:00<?, ?it/s]\u001B[A\u001B[A\n",
      "\n",
      " 14%|█▍        | 1/7 [00:00<00:01,  4.72it/s]\u001B[A\u001B[A\n",
      "\n",
      " 29%|██▊       | 2/7 [00:00<00:01,  4.56it/s]\u001B[A\u001B[A\n",
      "\n",
      " 43%|████▎     | 3/7 [00:00<00:00,  4.52it/s]\u001B[A\u001B[A\n",
      "\n",
      " 57%|█████▋    | 4/7 [00:00<00:00,  4.36it/s]\u001B[A\u001B[A\n",
      "\n",
      " 71%|███████▏  | 5/7 [00:01<00:00,  4.34it/s]\u001B[A\u001B[A\n",
      "\n",
      "100%|██████████| 7/7 [00:01<00:00,  4.95it/s]\n",
      "Processing 2025-01 queries:  60%|██████    | 297/492 [12:22<08:42,  2.68s/query]"
     ]
    },
    {
     "output_type": "stream",
     "name": "stdout",
     "text": [
      "WARNING! Your documents have duplicate entries!  This will slow down calculation and may yield subpar results\n"
     ]
    },
    {
     "output_type": "stream",
     "name": "stderr",
     "text": [
      "\n",
      "\n",
      "  0%|          | 0/7 [00:00<?, ?it/s]\u001B[A\u001B[A\n",
      "\n",
      " 14%|█▍        | 1/7 [00:00<00:01,  4.67it/s]\u001B[A\u001B[A\n",
      "\n",
      " 29%|██▊       | 2/7 [00:00<00:01,  4.55it/s]\u001B[A\u001B[A\n",
      "\n",
      " 43%|████▎     | 3/7 [00:00<00:00,  4.51it/s]\u001B[A\u001B[A\n",
      "\n",
      " 57%|█████▋    | 4/7 [00:00<00:00,  4.26it/s]\u001B[A\u001B[A\n",
      "\n",
      " 71%|███████▏  | 5/7 [00:01<00:00,  4.27it/s]\u001B[A\u001B[A\n",
      "\n",
      "100%|██████████| 7/7 [00:01<00:00,  4.93it/s]\n",
      "Processing 2025-01 queries:  61%|██████    | 298/492 [12:24<08:19,  2.57s/query]"
     ]
    },
    {
     "output_type": "stream",
     "name": "stdout",
     "text": [
      "WARNING! Your documents have duplicate entries!  This will slow down calculation and may yield subpar results\n"
     ]
    },
    {
     "output_type": "stream",
     "name": "stderr",
     "text": [
      "\n",
      "\n",
      "  0%|          | 0/7 [00:00<?, ?it/s]\u001B[A\u001B[A\n",
      "\n",
      " 14%|█▍        | 1/7 [00:00<00:01,  4.69it/s]\u001B[A\u001B[A\n",
      "\n",
      " 29%|██▊       | 2/7 [00:00<00:01,  4.58it/s]\u001B[A\u001B[A\n",
      "\n",
      " 43%|████▎     | 3/7 [00:00<00:00,  4.54it/s]\u001B[A\u001B[A\n",
      "\n",
      " 57%|█████▋    | 4/7 [00:00<00:00,  4.35it/s]\u001B[A\u001B[A\n",
      "\n",
      " 71%|███████▏  | 5/7 [00:01<00:00,  4.35it/s]\u001B[A\u001B[A\n",
      "\n",
      "100%|██████████| 7/7 [00:01<00:00,  4.96it/s]\n",
      "Processing 2025-01 queries:  61%|██████    | 299/492 [12:27<08:28,  2.63s/query]\n",
      "\n",
      "  0%|          | 0/2 [00:00<?, ?it/s]\u001B[A\u001B[A\n",
      "\n",
      "100%|██████████| 2/2 [00:00<00:00,  6.46it/s]\n",
      "Processing 2025-01 queries:  61%|██████    | 300/492 [12:28<07:22,  2.30s/query]"
     ]
    },
    {
     "output_type": "stream",
     "name": "stdout",
     "text": [
      "INFO: Processed 300/492 queries for 2025-01. Avg time/query: 2496.06 ms.\n",
      "WARNING! Your documents have duplicate entries!  This will slow down calculation and may yield subpar results\n"
     ]
    },
    {
     "output_type": "stream",
     "name": "stderr",
     "text": [
      "\n",
      "\n",
      "  0%|          | 0/7 [00:00<?, ?it/s]\u001B[A\u001B[A\n",
      "\n",
      " 14%|█▍        | 1/7 [00:00<00:01,  3.66it/s]\u001B[A\u001B[A\n",
      "\n",
      " 29%|██▊       | 2/7 [00:00<00:01,  4.13it/s]\u001B[A\u001B[A\n",
      "\n",
      " 43%|████▎     | 3/7 [00:00<00:00,  4.28it/s]\u001B[A\u001B[A\n",
      "\n",
      " 57%|█████▋    | 4/7 [00:00<00:00,  4.37it/s]\u001B[A\u001B[A\n",
      "\n",
      " 71%|███████▏  | 5/7 [00:01<00:00,  4.23it/s]\u001B[A\u001B[A\n",
      "\n",
      "100%|██████████| 7/7 [00:01<00:00,  4.73it/s]\n",
      "Processing 2025-01 queries:  61%|██████    | 301/492 [12:32<08:25,  2.65s/query]"
     ]
    },
    {
     "output_type": "stream",
     "name": "stdout",
     "text": [
      "WARNING! Your documents have duplicate entries!  This will slow down calculation and may yield subpar results\n"
     ]
    },
    {
     "output_type": "stream",
     "name": "stderr",
     "text": [
      "\n",
      "\n",
      "  0%|          | 0/7 [00:00<?, ?it/s]\u001B[A\u001B[A\n",
      "\n",
      " 14%|█▍        | 1/7 [00:00<00:01,  3.94it/s]\u001B[A\u001B[A\n",
      "\n",
      " 29%|██▊       | 2/7 [00:00<00:01,  4.22it/s]\u001B[A\u001B[A\n",
      "\n",
      " 43%|████▎     | 3/7 [00:00<00:00,  4.36it/s]\u001B[A\u001B[A\n",
      "\n",
      " 57%|█████▋    | 4/7 [00:00<00:00,  4.43it/s]\u001B[A\u001B[A\n",
      "\n",
      " 71%|███████▏  | 5/7 [00:01<00:00,  4.32it/s]\u001B[A\u001B[A\n",
      "\n",
      "100%|██████████| 7/7 [00:01<00:00,  4.80it/s]\n",
      "Processing 2025-01 queries:  61%|██████▏   | 302/492 [12:35<09:00,  2.85s/query]"
     ]
    },
    {
     "output_type": "stream",
     "name": "stdout",
     "text": [
      "WARNING! Your documents have duplicate entries!  This will slow down calculation and may yield subpar results\n"
     ]
    },
    {
     "output_type": "stream",
     "name": "stderr",
     "text": [
      "\n",
      "\n",
      "  0%|          | 0/7 [00:00<?, ?it/s]\u001B[A\u001B[A\n",
      "\n",
      " 14%|█▍        | 1/7 [00:00<00:01,  4.72it/s]\u001B[A\u001B[A\n",
      "\n",
      " 29%|██▊       | 2/7 [00:00<00:01,  4.61it/s]\u001B[A\u001B[A\n",
      "\n",
      " 43%|████▎     | 3/7 [00:00<00:00,  4.57it/s]\u001B[A\u001B[A\n",
      "\n",
      " 57%|█████▋    | 4/7 [00:00<00:00,  4.39it/s]\u001B[A\u001B[A\n",
      "\n",
      " 71%|███████▏  | 5/7 [00:01<00:00,  4.35it/s]\u001B[A\u001B[A\n",
      "\n",
      "100%|██████████| 7/7 [00:01<00:00,  4.96it/s]\n",
      "Processing 2025-01 queries:  62%|██████▏   | 303/492 [12:38<08:57,  2.84s/query]"
     ]
    },
    {
     "output_type": "stream",
     "name": "stdout",
     "text": [
      "WARNING! Your documents have duplicate entries!  This will slow down calculation and may yield subpar results\n"
     ]
    },
    {
     "output_type": "stream",
     "name": "stderr",
     "text": [
      "\n",
      "\n",
      "  0%|          | 0/7 [00:00<?, ?it/s]\u001B[A\u001B[A\n",
      "\n",
      " 14%|█▍        | 1/7 [00:00<00:01,  4.71it/s]\u001B[A\u001B[A\n",
      "\n",
      " 29%|██▊       | 2/7 [00:00<00:01,  4.62it/s]\u001B[A\u001B[A\n",
      "\n",
      " 43%|████▎     | 3/7 [00:00<00:00,  4.55it/s]\u001B[A\u001B[A\n",
      "\n",
      " 57%|█████▋    | 4/7 [00:00<00:00,  4.29it/s]\u001B[A\u001B[A\n",
      "\n",
      " 71%|███████▏  | 5/7 [00:01<00:00,  4.31it/s]\u001B[A\u001B[A\n",
      "\n",
      "100%|██████████| 7/7 [00:01<00:00,  4.94it/s]\n",
      "Processing 2025-01 queries:  62%|██████▏   | 304/492 [12:41<08:47,  2.81s/query]"
     ]
    },
    {
     "output_type": "stream",
     "name": "stdout",
     "text": [
      "WARNING! Your documents have duplicate entries!  This will slow down calculation and may yield subpar results\n"
     ]
    },
    {
     "output_type": "stream",
     "name": "stderr",
     "text": [
      "\n",
      "\n",
      "  0%|          | 0/7 [00:00<?, ?it/s]\u001B[A\u001B[A\n",
      "\n",
      " 14%|█▍        | 1/7 [00:00<00:01,  3.75it/s]\u001B[A\u001B[A\n",
      "\n",
      " 29%|██▊       | 2/7 [00:00<00:01,  4.15it/s]\u001B[A\u001B[A\n",
      "\n",
      " 43%|████▎     | 3/7 [00:00<00:00,  4.30it/s]\u001B[A\u001B[A\n",
      "\n",
      " 57%|█████▋    | 4/7 [00:00<00:00,  4.36it/s]\u001B[A\u001B[A\n",
      "\n",
      " 71%|███████▏  | 5/7 [00:01<00:00,  4.23it/s]\u001B[A\u001B[A\n",
      "\n",
      "100%|██████████| 7/7 [00:01<00:00,  4.74it/s]\n",
      "Processing 2025-01 queries:  62%|██████▏   | 305/492 [12:44<09:09,  2.94s/query]"
     ]
    },
    {
     "output_type": "stream",
     "name": "stdout",
     "text": [
      "WARNING! Your documents have duplicate entries!  This will slow down calculation and may yield subpar results\n"
     ]
    },
    {
     "output_type": "stream",
     "name": "stderr",
     "text": [
      "\n",
      "\n",
      "  0%|          | 0/7 [00:00<?, ?it/s]\u001B[A\u001B[A\n",
      "\n",
      " 14%|█▍        | 1/7 [00:00<00:01,  4.74it/s]\u001B[A\u001B[A\n",
      "\n",
      " 29%|██▊       | 2/7 [00:00<00:01,  4.60it/s]\u001B[A\u001B[A\n",
      "\n",
      " 43%|████▎     | 3/7 [00:00<00:00,  4.55it/s]\u001B[A\u001B[A\n",
      "\n",
      " 57%|█████▋    | 4/7 [00:00<00:00,  4.30it/s]\u001B[A\u001B[A\n",
      "\n",
      " 71%|███████▏  | 5/7 [00:01<00:00,  4.32it/s]\u001B[A\u001B[A\n",
      "\n",
      "100%|██████████| 7/7 [00:01<00:00,  4.92it/s]\n",
      "Processing 2025-01 queries:  62%|██████▏   | 306/492 [12:46<08:30,  2.75s/query]\n",
      "\n",
      "  0%|          | 0/7 [00:00<?, ?it/s]\u001B[A\u001B[A\n",
      "\n",
      " 14%|█▍        | 1/7 [00:00<00:01,  4.59it/s]\u001B[A\u001B[A\n",
      "\n",
      " 29%|██▊       | 2/7 [00:00<00:01,  4.54it/s]\u001B[A\u001B[A\n",
      "\n",
      " 43%|████▎     | 3/7 [00:00<00:00,  4.51it/s]\u001B[A\u001B[A\n",
      "\n",
      " 57%|█████▋    | 4/7 [00:00<00:00,  4.30it/s]\u001B[A\u001B[A\n",
      "\n",
      " 71%|███████▏  | 5/7 [00:01<00:00,  4.32it/s]\u001B[A\u001B[A\n",
      "\n",
      "100%|██████████| 7/7 [00:01<00:00,  4.91it/s]\n",
      "Processing 2025-01 queries:  62%|██████▏   | 307/492 [12:49<08:29,  2.75s/query]\n",
      "\n",
      "  0%|          | 0/7 [00:00<?, ?it/s]\u001B[A\u001B[A\n",
      "\n",
      " 14%|█▍        | 1/7 [00:00<00:01,  4.75it/s]\u001B[A\u001B[A\n",
      "\n",
      " 29%|██▊       | 2/7 [00:00<00:01,  4.59it/s]\u001B[A\u001B[A\n",
      "\n",
      " 43%|████▎     | 3/7 [00:00<00:00,  4.56it/s]\u001B[A\u001B[A\n",
      "\n",
      " 57%|█████▋    | 4/7 [00:00<00:00,  4.41it/s]\u001B[A\u001B[A\n",
      "\n",
      " 71%|███████▏  | 5/7 [00:01<00:00,  4.27it/s]\u001B[A\u001B[A\n",
      "\n",
      "100%|██████████| 7/7 [00:01<00:00,  4.92it/s]\n",
      "Processing 2025-01 queries:  63%|██████▎   | 308/492 [12:51<08:03,  2.63s/query]"
     ]
    },
    {
     "output_type": "stream",
     "name": "stdout",
     "text": [
      "WARNING! Your documents have duplicate entries!  This will slow down calculation and may yield subpar results\n"
     ]
    },
    {
     "output_type": "stream",
     "name": "stderr",
     "text": [
      "\n",
      "\n",
      "  0%|          | 0/7 [00:00<?, ?it/s]\u001B[A\u001B[A\n",
      "\n",
      " 14%|█▍        | 1/7 [00:00<00:01,  4.65it/s]\u001B[A\u001B[A\n",
      "\n",
      " 29%|██▊       | 2/7 [00:00<00:01,  4.53it/s]\u001B[A\u001B[A\n",
      "\n",
      " 43%|████▎     | 3/7 [00:00<00:00,  4.63it/s]\u001B[A\u001B[A\n",
      "\n",
      " 57%|█████▋    | 4/7 [00:00<00:00,  4.48it/s]\u001B[A\u001B[A\n",
      "\n",
      " 71%|███████▏  | 5/7 [00:01<00:00,  4.42it/s]\u001B[A\u001B[A\n",
      "\n",
      "100%|██████████| 7/7 [00:01<00:00,  5.05it/s]\n",
      "Processing 2025-01 queries:  63%|██████▎   | 309/492 [12:54<08:06,  2.66s/query]"
     ]
    },
    {
     "output_type": "stream",
     "name": "stdout",
     "text": [
      "WARNING! Your documents have duplicate entries!  This will slow down calculation and may yield subpar results\n"
     ]
    },
    {
     "output_type": "stream",
     "name": "stderr",
     "text": [
      "\n",
      "\n",
      "  0%|          | 0/7 [00:00<?, ?it/s]\u001B[A\u001B[A\n",
      "\n",
      " 14%|█▍        | 1/7 [00:00<00:01,  4.64it/s]\u001B[A\u001B[A\n",
      "\n",
      " 29%|██▊       | 2/7 [00:00<00:01,  4.54it/s]\u001B[A\u001B[A\n",
      "\n",
      " 43%|████▎     | 3/7 [00:00<00:00,  4.52it/s]\u001B[A\u001B[A\n",
      "\n",
      " 57%|█████▋    | 4/7 [00:00<00:00,  4.36it/s]\u001B[A\u001B[A\n",
      "\n",
      " 71%|███████▏  | 5/7 [00:01<00:00,  4.35it/s]\u001B[A\u001B[A\n",
      "\n",
      "100%|██████████| 7/7 [00:01<00:00,  4.95it/s]\n",
      "Processing 2025-01 queries:  63%|██████▎   | 310/492 [12:57<08:33,  2.82s/query]\n",
      "\n",
      "  0%|          | 0/7 [00:00<?, ?it/s]\u001B[A\u001B[A\n",
      "\n",
      " 14%|█▍        | 1/7 [00:00<00:01,  4.69it/s]\u001B[A\u001B[A\n",
      "\n",
      " 29%|██▊       | 2/7 [00:00<00:01,  4.56it/s]\u001B[A\u001B[A\n",
      "\n",
      " 43%|████▎     | 3/7 [00:00<00:00,  4.52it/s]\u001B[A\u001B[A\n",
      "\n",
      " 57%|█████▋    | 4/7 [00:00<00:00,  4.36it/s]\u001B[A\u001B[A\n",
      "\n",
      " 71%|███████▏  | 5/7 [00:01<00:00,  4.31it/s]\u001B[A\u001B[A\n",
      "\n",
      "100%|██████████| 7/7 [00:01<00:00,  4.92it/s]\n",
      "Processing 2025-01 queries:  63%|██████▎   | 311/492 [13:00<08:27,  2.80s/query]\n",
      "\n",
      "  0%|          | 0/7 [00:00<?, ?it/s]\u001B[A\u001B[A\n",
      "\n",
      " 14%|█▍        | 1/7 [00:00<00:01,  4.67it/s]\u001B[A\u001B[A\n",
      "\n",
      " 29%|██▊       | 2/7 [00:00<00:01,  4.58it/s]\u001B[A\u001B[A\n",
      "\n",
      " 43%|████▎     | 3/7 [00:00<00:00,  4.53it/s]\u001B[A\u001B[A\n",
      "\n",
      " 57%|█████▋    | 4/7 [00:00<00:00,  4.30it/s]\u001B[A\u001B[A\n",
      "\n",
      " 71%|███████▏  | 5/7 [00:01<00:00,  4.30it/s]\u001B[A\u001B[A\n",
      "\n",
      "100%|██████████| 7/7 [00:01<00:00,  4.93it/s]\n",
      "Processing 2025-01 queries:  63%|██████▎   | 312/492 [13:02<07:58,  2.66s/query]"
     ]
    },
    {
     "output_type": "stream",
     "name": "stdout",
     "text": [
      "WARNING! Your documents have duplicate entries!  This will slow down calculation and may yield subpar results\n"
     ]
    },
    {
     "output_type": "stream",
     "name": "stderr",
     "text": [
      "\n",
      "\n",
      "  0%|          | 0/7 [00:00<?, ?it/s]\u001B[A\u001B[A\n",
      "\n",
      " 14%|█▍        | 1/7 [00:00<00:01,  4.64it/s]\u001B[A\u001B[A\n",
      "\n",
      " 29%|██▊       | 2/7 [00:00<00:01,  4.55it/s]\u001B[A\u001B[A\n",
      "\n",
      " 43%|████▎     | 3/7 [00:00<00:00,  4.53it/s]\u001B[A\u001B[A\n",
      "\n",
      " 57%|█████▋    | 4/7 [00:00<00:00,  4.32it/s]\u001B[A\u001B[A\n",
      "\n",
      " 71%|███████▏  | 5/7 [00:01<00:00,  4.32it/s]\u001B[A\u001B[A\n",
      "\n",
      "100%|██████████| 7/7 [00:01<00:00,  4.91it/s]\n",
      "Processing 2025-01 queries:  64%|██████▎   | 313/492 [13:05<08:01,  2.69s/query]"
     ]
    },
    {
     "output_type": "stream",
     "name": "stdout",
     "text": [
      "WARNING! Your documents have duplicate entries!  This will slow down calculation and may yield subpar results\n"
     ]
    },
    {
     "output_type": "stream",
     "name": "stderr",
     "text": [
      "\n",
      "\n",
      "  0%|          | 0/7 [00:00<?, ?it/s]\u001B[A\u001B[A\n",
      "\n",
      " 14%|█▍        | 1/7 [00:00<00:01,  4.61it/s]\u001B[A\u001B[A\n",
      "\n",
      " 29%|██▊       | 2/7 [00:00<00:01,  4.59it/s]\u001B[A\u001B[A\n",
      "\n",
      " 43%|████▎     | 3/7 [00:00<00:00,  4.56it/s]\u001B[A\u001B[A\n",
      "\n",
      " 57%|█████▋    | 4/7 [00:00<00:00,  4.49it/s]\u001B[A\u001B[A\n",
      "\n",
      " 71%|███████▏  | 5/7 [00:01<00:00,  4.30it/s]\u001B[A\u001B[A\n",
      "\n",
      "100%|██████████| 7/7 [00:01<00:00,  4.94it/s]\n",
      "Processing 2025-01 queries:  64%|██████▍   | 314/492 [13:08<08:04,  2.72s/query]\n",
      "\n",
      "100%|██████████| 1/1 [00:00<00:00, 13.79it/s]\n",
      "Processing 2025-01 queries:  64%|██████▍   | 315/492 [13:09<06:23,  2.16s/query]"
     ]
    },
    {
     "output_type": "stream",
     "name": "stdout",
     "text": [
      "WARNING! Your documents have duplicate entries!  This will slow down calculation and may yield subpar results\n"
     ]
    },
    {
     "output_type": "stream",
     "name": "stderr",
     "text": [
      "\n",
      "\n",
      "  0%|          | 0/7 [00:00<?, ?it/s]\u001B[A\u001B[A\n",
      "\n",
      " 14%|█▍        | 1/7 [00:00<00:01,  3.79it/s]\u001B[A\u001B[A\n",
      "\n",
      " 29%|██▊       | 2/7 [00:00<00:01,  4.22it/s]\u001B[A\u001B[A\n",
      "\n",
      " 43%|████▎     | 3/7 [00:00<00:00,  4.36it/s]\u001B[A\u001B[A\n",
      "\n",
      " 57%|█████▋    | 4/7 [00:00<00:00,  4.40it/s]\u001B[A\u001B[A\n",
      "\n",
      " 71%|███████▏  | 5/7 [00:01<00:00,  4.30it/s]\u001B[A\u001B[A\n",
      "\n",
      "100%|██████████| 7/7 [00:01<00:00,  4.78it/s]\n",
      "Processing 2025-01 queries:  64%|██████▍   | 316/492 [13:12<06:58,  2.38s/query]"
     ]
    },
    {
     "output_type": "stream",
     "name": "stdout",
     "text": [
      "WARNING! Your documents have duplicate entries!  This will slow down calculation and may yield subpar results\n"
     ]
    },
    {
     "output_type": "stream",
     "name": "stderr",
     "text": [
      "\n",
      "\n",
      "  0%|          | 0/7 [00:00<?, ?it/s]\u001B[A\u001B[A\n",
      "\n",
      " 14%|█▍        | 1/7 [00:00<00:01,  4.58it/s]\u001B[A\u001B[A\n",
      "\n",
      " 29%|██▊       | 2/7 [00:00<00:01,  4.55it/s]\u001B[A\u001B[A\n",
      "\n",
      " 43%|████▎     | 3/7 [00:00<00:00,  4.53it/s]\u001B[A\u001B[A\n",
      "\n",
      " 57%|█████▋    | 4/7 [00:00<00:00,  4.29it/s]\u001B[A\u001B[A\n",
      "\n",
      " 71%|███████▏  | 5/7 [00:01<00:00,  4.33it/s]\u001B[A\u001B[A\n",
      "\n",
      "100%|██████████| 7/7 [00:01<00:00,  4.92it/s]\n",
      "Processing 2025-01 queries:  64%|██████▍   | 317/492 [13:14<06:58,  2.39s/query]\n",
      "\n",
      "  0%|          | 0/7 [00:00<?, ?it/s]\u001B[A\u001B[A\n",
      "\n",
      " 14%|█▍        | 1/7 [00:00<00:01,  4.63it/s]\u001B[A\u001B[A\n",
      "\n",
      " 29%|██▊       | 2/7 [00:00<00:01,  4.60it/s]\u001B[A\u001B[A\n",
      "\n",
      " 43%|████▎     | 3/7 [00:00<00:00,  4.56it/s]\u001B[A\u001B[A\n",
      "\n",
      " 57%|█████▋    | 4/7 [00:00<00:00,  4.34it/s]\u001B[A\u001B[A\n",
      "\n",
      " 71%|███████▏  | 5/7 [00:01<00:00,  4.31it/s]\u001B[A\u001B[A\n",
      "\n",
      "100%|██████████| 7/7 [00:01<00:00,  4.93it/s]\n",
      "Processing 2025-01 queries:  65%|██████▍   | 318/492 [13:16<06:52,  2.37s/query]\n",
      "\n",
      "  0%|          | 0/7 [00:00<?, ?it/s]\u001B[A\u001B[A\n",
      "\n",
      " 14%|█▍        | 1/7 [00:00<00:01,  3.71it/s]\u001B[A\u001B[A\n",
      "\n",
      " 29%|██▊       | 2/7 [00:00<00:01,  4.15it/s]\u001B[A\u001B[A\n",
      "\n",
      " 43%|████▎     | 3/7 [00:00<00:00,  4.32it/s]\u001B[A\u001B[A\n",
      "\n",
      " 57%|█████▋    | 4/7 [00:00<00:00,  4.39it/s]\u001B[A\u001B[A\n",
      "\n",
      " 71%|███████▏  | 5/7 [00:01<00:00,  4.23it/s]\u001B[A\u001B[A\n",
      "\n",
      "100%|██████████| 7/7 [00:01<00:00,  4.79it/s]\n",
      "Processing 2025-01 queries:  65%|██████▍   | 319/492 [13:24<11:20,  3.93s/query]"
     ]
    },
    {
     "output_type": "stream",
     "name": "stdout",
     "text": [
      "WARNING! Your documents have duplicate entries!  This will slow down calculation and may yield subpar results\n"
     ]
    },
    {
     "output_type": "stream",
     "name": "stderr",
     "text": [
      "\n",
      "\n",
      "  0%|          | 0/7 [00:00<?, ?it/s]\u001B[A\u001B[A\n",
      "\n",
      " 14%|█▍        | 1/7 [00:00<00:01,  4.73it/s]\u001B[A\u001B[A\n",
      "\n",
      " 29%|██▊       | 2/7 [00:00<00:01,  4.65it/s]\u001B[A\u001B[A\n",
      "\n",
      " 43%|████▎     | 3/7 [00:00<00:00,  4.63it/s]\u001B[A\u001B[A\n",
      "\n",
      " 57%|█████▋    | 4/7 [00:00<00:00,  4.35it/s]\u001B[A\u001B[A\n",
      "\n",
      " 71%|███████▏  | 5/7 [00:01<00:00,  4.36it/s]\u001B[A\u001B[A\n",
      "\n",
      "100%|██████████| 7/7 [00:01<00:00,  4.97it/s]\n",
      "Processing 2025-01 queries:  65%|██████▌   | 320/492 [13:27<10:21,  3.61s/query]"
     ]
    },
    {
     "output_type": "stream",
     "name": "stdout",
     "text": [
      "INFO: Processed 320/492 queries for 2025-01. Avg time/query: 2522.70 ms.\n"
     ]
    },
    {
     "output_type": "stream",
     "name": "stderr",
     "text": [
      "\n",
      "\n",
      "  0%|          | 0/7 [00:00<?, ?it/s]\u001B[A\u001B[A\n",
      "\n",
      " 14%|█▍        | 1/7 [00:00<00:01,  4.77it/s]\u001B[A\u001B[A\n",
      "\n",
      " 29%|██▊       | 2/7 [00:00<00:01,  4.63it/s]\u001B[A\u001B[A\n",
      "\n",
      " 43%|████▎     | 3/7 [00:00<00:00,  4.59it/s]\u001B[A\u001B[A\n",
      "\n",
      " 57%|█████▋    | 4/7 [00:00<00:00,  4.42it/s]\u001B[A\u001B[A\n",
      "\n",
      " 71%|███████▏  | 5/7 [00:01<00:00,  4.40it/s]\u001B[A\u001B[A\n",
      "\n",
      "100%|██████████| 7/7 [00:01<00:00,  5.00it/s]\n",
      "Processing 2025-01 queries:  65%|██████▌   | 321/492 [13:29<09:10,  3.22s/query]"
     ]
    },
    {
     "output_type": "stream",
     "name": "stdout",
     "text": [
      "WARNING! Your documents have duplicate entries!  This will slow down calculation and may yield subpar results\n"
     ]
    },
    {
     "output_type": "stream",
     "name": "stderr",
     "text": [
      "\n",
      "\n",
      "  0%|          | 0/7 [00:00<?, ?it/s]\u001B[A\u001B[A\n",
      "\n",
      " 14%|█▍        | 1/7 [00:00<00:01,  4.70it/s]\u001B[A\u001B[A\n",
      "\n",
      " 29%|██▊       | 2/7 [00:00<00:01,  4.59it/s]\u001B[A\u001B[A\n",
      "\n",
      " 43%|████▎     | 3/7 [00:00<00:00,  4.56it/s]\u001B[A\u001B[A\n",
      "\n",
      " 57%|█████▋    | 4/7 [00:00<00:00,  4.32it/s]\u001B[A\u001B[A\n",
      "\n",
      " 71%|███████▏  | 5/7 [00:01<00:00,  4.35it/s]\u001B[A\u001B[A\n",
      "\n",
      "100%|██████████| 7/7 [00:01<00:00,  4.96it/s]\n",
      "Processing 2025-01 queries:  65%|██████▌   | 322/492 [13:32<08:22,  2.96s/query]"
     ]
    },
    {
     "output_type": "stream",
     "name": "stdout",
     "text": [
      "WARNING! Your documents have duplicate entries!  This will slow down calculation and may yield subpar results\n"
     ]
    },
    {
     "output_type": "stream",
     "name": "stderr",
     "text": [
      "\n",
      "\n",
      "  0%|          | 0/7 [00:00<?, ?it/s]\u001B[A\u001B[A\n",
      "\n",
      " 14%|█▍        | 1/7 [00:00<00:01,  3.70it/s]\u001B[A\u001B[A\n",
      "\n",
      " 29%|██▊       | 2/7 [00:00<00:01,  4.18it/s]\u001B[A\u001B[A\n",
      "\n",
      " 43%|████▎     | 3/7 [00:00<00:00,  4.32it/s]\u001B[A\u001B[A\n",
      "\n",
      " 57%|█████▋    | 4/7 [00:00<00:00,  4.39it/s]\u001B[A\u001B[A\n",
      "\n",
      " 71%|███████▏  | 5/7 [00:01<00:00,  4.24it/s]\u001B[A\u001B[A\n",
      "\n",
      "100%|██████████| 7/7 [00:01<00:00,  4.75it/s]\n",
      "Processing 2025-01 queries:  66%|██████▌   | 323/492 [13:35<09:02,  3.21s/query]\n",
      "\n",
      "  0%|          | 0/7 [00:00<?, ?it/s]\u001B[A\u001B[A\n",
      "\n",
      " 14%|█▍        | 1/7 [00:00<00:01,  3.90it/s]\u001B[A\u001B[A\n",
      "\n",
      " 29%|██▊       | 2/7 [00:00<00:01,  4.23it/s]\u001B[A\u001B[A\n",
      "\n",
      " 43%|████▎     | 3/7 [00:00<00:00,  4.32it/s]\u001B[A\u001B[A\n",
      "\n",
      " 57%|█████▋    | 4/7 [00:00<00:00,  4.36it/s]\u001B[A\u001B[A\n",
      "\n",
      " 71%|███████▏  | 5/7 [00:01<00:00,  4.24it/s]\u001B[A\u001B[A\n",
      "\n",
      "100%|██████████| 7/7 [00:01<00:00,  4.80it/s]\n",
      "Processing 2025-01 queries:  66%|██████▌   | 324/492 [13:39<09:22,  3.35s/query]"
     ]
    },
    {
     "output_type": "stream",
     "name": "stdout",
     "text": [
      "WARNING! Your documents have duplicate entries!  This will slow down calculation and may yield subpar results\n"
     ]
    },
    {
     "output_type": "stream",
     "name": "stderr",
     "text": [
      "\n",
      "\n",
      "  0%|          | 0/7 [00:00<?, ?it/s]\u001B[A\u001B[A\n",
      "\n",
      " 14%|█▍        | 1/7 [00:00<00:01,  4.67it/s]\u001B[A\u001B[A\n",
      "\n",
      " 29%|██▊       | 2/7 [00:00<00:01,  4.59it/s]\u001B[A\u001B[A\n",
      "\n",
      " 43%|████▎     | 3/7 [00:00<00:00,  4.53it/s]\u001B[A\u001B[A\n",
      "\n",
      " 57%|█████▋    | 4/7 [00:00<00:00,  4.48it/s]\u001B[A\u001B[A\n",
      "\n",
      " 71%|███████▏  | 5/7 [00:01<00:00,  4.28it/s]\u001B[A\u001B[A\n",
      "\n",
      "100%|██████████| 7/7 [00:01<00:00,  4.90it/s]\n",
      "Processing 2025-01 queries:  66%|██████▌   | 325/492 [13:41<08:26,  3.04s/query]"
     ]
    },
    {
     "output_type": "stream",
     "name": "stdout",
     "text": [
      "WARNING! Your documents have duplicate entries!  This will slow down calculation and may yield subpar results\n"
     ]
    },
    {
     "output_type": "stream",
     "name": "stderr",
     "text": [
      "\n",
      "\n",
      "  0%|          | 0/2 [00:00<?, ?it/s]\u001B[A\u001B[A\n",
      "\n",
      "100%|██████████| 2/2 [00:00<00:00,  7.53it/s]\n",
      "Processing 2025-01 queries:  66%|██████▋   | 326/492 [13:42<06:46,  2.45s/query]"
     ]
    },
    {
     "output_type": "stream",
     "name": "stdout",
     "text": [
      "WARNING! Your documents have duplicate entries!  This will slow down calculation and may yield subpar results\n"
     ]
    },
    {
     "output_type": "stream",
     "name": "stderr",
     "text": [
      "\n",
      "\n",
      "  0%|          | 0/7 [00:00<?, ?it/s]\u001B[A\u001B[A\n",
      "\n",
      " 14%|█▍        | 1/7 [00:00<00:01,  3.40it/s]\u001B[A\u001B[A\n",
      "\n",
      " 29%|██▊       | 2/7 [00:00<00:01,  3.96it/s]\u001B[A\u001B[A\n",
      "\n",
      " 43%|████▎     | 3/7 [00:00<00:00,  4.18it/s]\u001B[A\u001B[A\n",
      "\n",
      " 57%|█████▋    | 4/7 [00:00<00:00,  4.27it/s]\u001B[A\u001B[A\n",
      "\n",
      " 71%|███████▏  | 5/7 [00:01<00:00,  4.31it/s]\u001B[A\u001B[A\n",
      "\n",
      "100%|██████████| 7/7 [00:01<00:00,  4.71it/s]\n",
      "Processing 2025-01 queries:  66%|██████▋   | 327/492 [13:54<14:15,  5.19s/query]\n",
      "\n",
      "  0%|          | 0/7 [00:00<?, ?it/s]\u001B[A\u001B[A\n",
      "\n",
      " 14%|█▍        | 1/7 [00:00<00:01,  4.57it/s]\u001B[A\u001B[A\n",
      "\n",
      " 29%|██▊       | 2/7 [00:00<00:01,  4.51it/s]\u001B[A\u001B[A\n",
      "\n",
      " 43%|████▎     | 3/7 [00:00<00:00,  4.51it/s]\u001B[A\u001B[A\n",
      "\n",
      " 57%|█████▋    | 4/7 [00:00<00:00,  4.25it/s]\u001B[A\u001B[A\n",
      "\n",
      " 71%|███████▏  | 5/7 [00:01<00:00,  4.28it/s]\u001B[A\u001B[A\n",
      "\n",
      "100%|██████████| 7/7 [00:01<00:00,  4.88it/s]\n",
      "Processing 2025-01 queries:  67%|██████▋   | 328/492 [13:56<11:54,  4.35s/query]\n",
      "\n",
      "  0%|          | 0/1 [00:00<?, ?it/s]\u001B[A\u001B[A\n",
      "\n",
      "100%|██████████| 1/1 [00:00<00:00,  6.04it/s]\n",
      "Processing 2025-01 queries:  67%|██████▋   | 329/492 [13:57<09:05,  3.35s/query]"
     ]
    },
    {
     "output_type": "stream",
     "name": "stdout",
     "text": [
      "WARNING! Your documents have duplicate entries!  This will slow down calculation and may yield subpar results\n"
     ]
    },
    {
     "output_type": "stream",
     "name": "stderr",
     "text": [
      "\n",
      "\n",
      "  0%|          | 0/7 [00:00<?, ?it/s]\u001B[A\u001B[A\n",
      "\n",
      " 14%|█▍        | 1/7 [00:00<00:01,  4.53it/s]\u001B[A\u001B[A\n",
      "\n",
      " 29%|██▊       | 2/7 [00:00<00:01,  4.49it/s]\u001B[A\u001B[A\n",
      "\n",
      " 43%|████▎     | 3/7 [00:00<00:00,  4.48it/s]\u001B[A\u001B[A\n",
      "\n",
      " 57%|█████▋    | 4/7 [00:00<00:00,  4.23it/s]\u001B[A\u001B[A\n",
      "\n",
      " 71%|███████▏  | 5/7 [00:01<00:00,  4.27it/s]\u001B[A\u001B[A\n",
      "\n",
      "100%|██████████| 7/7 [00:01<00:00,  4.86it/s]\n",
      "Processing 2025-01 queries:  67%|██████▋   | 330/492 [14:00<08:12,  3.04s/query]\n",
      "\n",
      "  0%|          | 0/1 [00:00<?, ?it/s]\u001B[A\u001B[A\n",
      "\n",
      "100%|██████████| 1/1 [00:00<00:00,  6.95it/s]\n",
      "Processing 2025-01 queries:  67%|██████▋   | 331/492 [14:01<06:29,  2.42s/query]"
     ]
    },
    {
     "output_type": "stream",
     "name": "stdout",
     "text": [
      "WARNING! Your documents have duplicate entries!  This will slow down calculation and may yield subpar results\n"
     ]
    },
    {
     "output_type": "stream",
     "name": "stderr",
     "text": [
      "\n",
      "\n",
      "  0%|          | 0/7 [00:00<?, ?it/s]\u001B[A\u001B[A\n",
      "\n",
      " 14%|█▍        | 1/7 [00:00<00:01,  4.67it/s]\u001B[A\u001B[A\n",
      "\n",
      " 29%|██▊       | 2/7 [00:00<00:01,  4.56it/s]\u001B[A\u001B[A\n",
      "\n",
      " 43%|████▎     | 3/7 [00:00<00:00,  4.51it/s]\u001B[A\u001B[A\n",
      "\n",
      " 57%|█████▋    | 4/7 [00:00<00:00,  4.48it/s]\u001B[A\u001B[A\n",
      "\n",
      " 71%|███████▏  | 5/7 [00:01<00:00,  4.31it/s]\u001B[A\u001B[A\n",
      "\n",
      "100%|██████████| 7/7 [00:01<00:00,  4.90it/s]\n",
      "Processing 2025-01 queries:  67%|██████▋   | 332/492 [14:03<06:23,  2.40s/query]"
     ]
    },
    {
     "output_type": "stream",
     "name": "stdout",
     "text": [
      "WARNING! Your documents have duplicate entries!  This will slow down calculation and may yield subpar results\n"
     ]
    },
    {
     "output_type": "stream",
     "name": "stderr",
     "text": [
      "\n",
      "\n",
      "  0%|          | 0/7 [00:00<?, ?it/s]\u001B[A\u001B[A\n",
      "\n",
      " 14%|█▍        | 1/7 [00:00<00:01,  4.55it/s]\u001B[A\u001B[A\n",
      "\n",
      " 29%|██▊       | 2/7 [00:00<00:01,  4.50it/s]\u001B[A\u001B[A\n",
      "\n",
      " 43%|████▎     | 3/7 [00:00<00:00,  4.49it/s]\u001B[A\u001B[A\n",
      "\n",
      " 57%|█████▋    | 4/7 [00:00<00:00,  4.27it/s]\u001B[A\u001B[A\n",
      "\n",
      " 71%|███████▏  | 5/7 [00:01<00:00,  4.28it/s]\u001B[A\u001B[A\n",
      "\n",
      "100%|██████████| 7/7 [00:01<00:00,  4.86it/s]\n",
      "Processing 2025-01 queries:  68%|██████▊   | 333/492 [14:06<06:37,  2.50s/query]\n",
      "\n",
      "  0%|          | 0/7 [00:00<?, ?it/s]\u001B[A\u001B[A\n",
      "\n",
      " 14%|█▍        | 1/7 [00:00<00:01,  3.84it/s]\u001B[A\u001B[A\n",
      "\n",
      " 29%|██▊       | 2/7 [00:00<00:01,  4.16it/s]\u001B[A\u001B[A\n",
      "\n",
      " 43%|████▎     | 3/7 [00:00<00:00,  4.25it/s]\u001B[A\u001B[A\n",
      "\n",
      " 57%|█████▋    | 4/7 [00:00<00:00,  4.31it/s]\u001B[A\u001B[A\n",
      "\n",
      " 71%|███████▏  | 5/7 [00:01<00:00,  4.18it/s]\u001B[A\u001B[A\n",
      "\n",
      "100%|██████████| 7/7 [00:01<00:00,  4.68it/s]\n",
      "Processing 2025-01 queries:  68%|██████▊   | 334/492 [14:09<07:16,  2.76s/query]"
     ]
    },
    {
     "output_type": "stream",
     "name": "stdout",
     "text": [
      "WARNING! Your documents have duplicate entries!  This will slow down calculation and may yield subpar results\n"
     ]
    },
    {
     "output_type": "stream",
     "name": "stderr",
     "text": [
      "\n",
      "\n",
      "  0%|          | 0/7 [00:00<?, ?it/s]\u001B[A\u001B[A\n",
      "\n",
      " 14%|█▍        | 1/7 [00:00<00:01,  4.69it/s]\u001B[A\u001B[A\n",
      "\n",
      " 29%|██▊       | 2/7 [00:00<00:01,  4.51it/s]\u001B[A\u001B[A\n",
      "\n",
      " 43%|████▎     | 3/7 [00:00<00:00,  4.43it/s]\u001B[A\u001B[A\n",
      "\n",
      " 57%|█████▋    | 4/7 [00:00<00:00,  4.16it/s]\u001B[A\u001B[A\n",
      "\n",
      " 71%|███████▏  | 5/7 [00:01<00:00,  4.24it/s]\u001B[A\u001B[A\n",
      "\n",
      "100%|██████████| 7/7 [00:01<00:00,  4.81it/s]\n",
      "Processing 2025-01 queries:  68%|██████▊   | 335/492 [14:12<07:14,  2.77s/query]"
     ]
    },
    {
     "output_type": "stream",
     "name": "stdout",
     "text": [
      "WARNING! Your documents have duplicate entries!  This will slow down calculation and may yield subpar results\n"
     ]
    },
    {
     "output_type": "stream",
     "name": "stderr",
     "text": [
      "\n",
      "\n",
      "  0%|          | 0/7 [00:00<?, ?it/s]\u001B[A\u001B[A\n",
      "\n",
      " 14%|█▍        | 1/7 [00:00<00:01,  4.41it/s]\u001B[A\u001B[A\n",
      "\n",
      " 29%|██▊       | 2/7 [00:00<00:01,  4.33it/s]\u001B[A\u001B[A\n",
      "\n",
      " 43%|████▎     | 3/7 [00:00<00:00,  4.35it/s]\u001B[A\u001B[A\n",
      "\n",
      " 57%|█████▋    | 4/7 [00:00<00:00,  4.02it/s]\u001B[A\u001B[A\n",
      "\n",
      " 71%|███████▏  | 5/7 [00:01<00:00,  4.13it/s]\u001B[A\u001B[A\n",
      "\n",
      "100%|██████████| 7/7 [00:01<00:00,  4.69it/s]\n",
      "Processing 2025-01 queries:  68%|██████▊   | 336/492 [14:15<07:16,  2.80s/query]\n",
      "\n",
      "  0%|          | 0/2 [00:00<?, ?it/s]\u001B[A\u001B[A\n",
      "\n",
      " 50%|█████     | 1/2 [00:00<00:00,  4.42it/s]\u001B[A\u001B[A\n",
      "\n",
      "100%|██████████| 2/2 [00:00<00:00,  4.53it/s]\n",
      "Processing 2025-01 queries:  68%|██████▊   | 337/492 [14:16<06:02,  2.34s/query]"
     ]
    },
    {
     "output_type": "stream",
     "name": "stdout",
     "text": [
      "WARNING! Your documents have duplicate entries!  This will slow down calculation and may yield subpar results\n"
     ]
    },
    {
     "output_type": "stream",
     "name": "stderr",
     "text": [
      "\n",
      "\n",
      "  0%|          | 0/7 [00:00<?, ?it/s]\u001B[A\u001B[A\n",
      "\n",
      " 14%|█▍        | 1/7 [00:00<00:01,  4.60it/s]\u001B[A\u001B[A\n",
      "\n",
      " 29%|██▊       | 2/7 [00:00<00:01,  4.49it/s]\u001B[A\u001B[A\n",
      "\n",
      " 43%|████▎     | 3/7 [00:00<00:00,  4.41it/s]\u001B[A\u001B[A\n",
      "\n",
      " 57%|█████▋    | 4/7 [00:00<00:00,  4.20it/s]\u001B[A\u001B[A\n",
      "\n",
      " 71%|███████▏  | 5/7 [00:01<00:00,  4.19it/s]\u001B[A\u001B[A\n",
      "\n",
      "100%|██████████| 7/7 [00:01<00:00,  4.76it/s]\n",
      "Processing 2025-01 queries:  69%|██████▊   | 338/492 [14:19<06:19,  2.47s/query]\n",
      "\n",
      "  0%|          | 0/7 [00:00<?, ?it/s]\u001B[A\u001B[A\n",
      "\n",
      " 14%|█▍        | 1/7 [00:00<00:01,  4.61it/s]\u001B[A\u001B[A\n",
      "\n",
      " 29%|██▊       | 2/7 [00:00<00:01,  4.45it/s]\u001B[A\u001B[A\n",
      "\n",
      " 43%|████▎     | 3/7 [00:00<00:00,  4.41it/s]\u001B[A\u001B[A\n",
      "\n",
      " 57%|█████▋    | 4/7 [00:00<00:00,  4.17it/s]\u001B[A\u001B[A\n",
      "\n",
      " 71%|███████▏  | 5/7 [00:01<00:00,  4.25it/s]\u001B[A\u001B[A\n",
      "\n",
      "100%|██████████| 7/7 [00:01<00:00,  4.81it/s]\n",
      "Processing 2025-01 queries:  69%|██████▉   | 339/492 [14:22<06:32,  2.56s/query]\n",
      "\n",
      "  0%|          | 0/7 [00:00<?, ?it/s]\u001B[A\u001B[A\n",
      "\n",
      " 14%|█▍        | 1/7 [00:00<00:01,  3.68it/s]\u001B[A\u001B[A\n",
      "\n",
      " 29%|██▊       | 2/7 [00:00<00:01,  4.10it/s]\u001B[A\u001B[A\n",
      "\n",
      " 43%|████▎     | 3/7 [00:00<00:00,  4.25it/s]\u001B[A\u001B[A\n",
      "\n",
      " 57%|█████▋    | 4/7 [00:00<00:00,  4.30it/s]\u001B[A\u001B[A\n",
      "\n",
      " 71%|███████▏  | 5/7 [00:01<00:00,  4.24it/s]\u001B[A\u001B[A\n",
      "\n",
      "100%|██████████| 7/7 [00:01<00:00,  4.71it/s]\n",
      "Processing 2025-01 queries:  69%|██████▉   | 340/492 [14:25<07:01,  2.77s/query]"
     ]
    },
    {
     "output_type": "stream",
     "name": "stdout",
     "text": [
      "INFO: Processed 340/492 queries for 2025-01. Avg time/query: 2544.75 ms.\n"
     ]
    },
    {
     "output_type": "stream",
     "name": "stderr",
     "text": [
      "\n",
      "\n",
      "  0%|          | 0/1 [00:00<?, ?it/s]\u001B[A\u001B[A\n",
      "\n",
      "100%|██████████| 1/1 [00:00<00:00,  5.85it/s]\n",
      "Processing 2025-01 queries:  69%|██████▉   | 341/492 [14:26<05:37,  2.23s/query]"
     ]
    },
    {
     "output_type": "stream",
     "name": "stdout",
     "text": [
      "WARNING! Your documents have duplicate entries!  This will slow down calculation and may yield subpar results\n"
     ]
    },
    {
     "output_type": "stream",
     "name": "stderr",
     "text": [
      "\n",
      "\n",
      "  0%|          | 0/7 [00:00<?, ?it/s]\u001B[A\u001B[A\n",
      "\n",
      " 14%|█▍        | 1/7 [00:00<00:01,  4.65it/s]\u001B[A\u001B[A\n",
      "\n",
      " 29%|██▊       | 2/7 [00:00<00:01,  4.57it/s]\u001B[A\u001B[A\n",
      "\n",
      " 43%|████▎     | 3/7 [00:00<00:00,  4.50it/s]\u001B[A\u001B[A\n",
      "\n",
      " 57%|█████▋    | 4/7 [00:00<00:00,  4.24it/s]\u001B[A\u001B[A\n",
      "\n",
      " 71%|███████▏  | 5/7 [00:01<00:00,  4.30it/s]\u001B[A\u001B[A\n",
      "\n",
      "100%|██████████| 7/7 [00:01<00:00,  4.91it/s]\n",
      "Processing 2025-01 queries:  70%|██████▉   | 342/492 [14:29<05:59,  2.40s/query]"
     ]
    },
    {
     "output_type": "stream",
     "name": "stdout",
     "text": [
      "WARNING! Your documents have duplicate entries!  This will slow down calculation and may yield subpar results\n"
     ]
    },
    {
     "output_type": "stream",
     "name": "stderr",
     "text": [
      "\n",
      "\n",
      "  0%|          | 0/7 [00:00<?, ?it/s]\u001B[A\u001B[A\n",
      "\n",
      " 14%|█▍        | 1/7 [00:00<00:01,  4.75it/s]\u001B[A\u001B[A\n",
      "\n",
      " 29%|██▊       | 2/7 [00:00<00:01,  4.62it/s]\u001B[A\u001B[A\n",
      "\n",
      " 43%|████▎     | 3/7 [00:00<00:00,  4.61it/s]\u001B[A\u001B[A\n",
      "\n",
      " 57%|█████▋    | 4/7 [00:00<00:00,  4.31it/s]\u001B[A\u001B[A\n",
      "\n",
      " 71%|███████▏  | 5/7 [00:01<00:00,  4.35it/s]\u001B[A\u001B[A\n",
      "\n",
      "100%|██████████| 7/7 [00:01<00:00,  4.97it/s]\n",
      "Processing 2025-01 queries:  70%|██████▉   | 343/492 [14:31<06:15,  2.52s/query]"
     ]
    },
    {
     "output_type": "stream",
     "name": "stdout",
     "text": [
      "WARNING! Your documents have duplicate entries!  This will slow down calculation and may yield subpar results\n"
     ]
    },
    {
     "output_type": "stream",
     "name": "stderr",
     "text": [
      "\n",
      "\n",
      "  0%|          | 0/7 [00:00<?, ?it/s]\u001B[A\u001B[A\n",
      "\n",
      " 14%|█▍        | 1/7 [00:00<00:01,  4.81it/s]\u001B[A\u001B[A\n",
      "\n",
      " 29%|██▊       | 2/7 [00:00<00:01,  4.62it/s]\u001B[A\u001B[A\n",
      "\n",
      " 43%|████▎     | 3/7 [00:00<00:00,  4.55it/s]\u001B[A\u001B[A\n",
      "\n",
      " 57%|█████▋    | 4/7 [00:00<00:00,  4.38it/s]\u001B[A\u001B[A\n",
      "\n",
      " 71%|███████▏  | 5/7 [00:01<00:00,  4.38it/s]\u001B[A\u001B[A\n",
      "\n",
      "100%|██████████| 7/7 [00:01<00:00,  4.99it/s]\n",
      "Processing 2025-01 queries:  70%|██████▉   | 344/492 [14:34<06:25,  2.60s/query]"
     ]
    },
    {
     "output_type": "stream",
     "name": "stdout",
     "text": [
      "WARNING! Your documents have duplicate entries!  This will slow down calculation and may yield subpar results\n"
     ]
    },
    {
     "output_type": "stream",
     "name": "stderr",
     "text": [
      "\n",
      "\n",
      "  0%|          | 0/7 [00:00<?, ?it/s]\u001B[A\u001B[A\n",
      "\n",
      " 14%|█▍        | 1/7 [00:00<00:01,  4.68it/s]\u001B[A\u001B[A\n",
      "\n",
      " 29%|██▊       | 2/7 [00:00<00:01,  4.60it/s]\u001B[A\u001B[A\n",
      "\n",
      " 43%|████▎     | 3/7 [00:00<00:00,  4.55it/s]\u001B[A\u001B[A\n",
      "\n",
      " 57%|█████▋    | 4/7 [00:00<00:00,  4.43it/s]\u001B[A\u001B[A\n",
      "\n",
      " 71%|███████▏  | 5/7 [00:01<00:00,  4.41it/s]\u001B[A\u001B[A\n",
      "\n",
      "100%|██████████| 7/7 [00:01<00:00,  4.99it/s]\n",
      "Processing 2025-01 queries:  70%|███████   | 345/492 [14:37<06:28,  2.64s/query]\n",
      "\n",
      "  0%|          | 0/7 [00:00<?, ?it/s]\u001B[A\u001B[A\n",
      "\n",
      " 14%|█▍        | 1/7 [00:00<00:01,  4.82it/s]\u001B[A\u001B[A\n",
      "\n",
      " 29%|██▊       | 2/7 [00:00<00:01,  4.66it/s]\u001B[A\u001B[A\n",
      "\n",
      " 43%|████▎     | 3/7 [00:00<00:00,  4.63it/s]\u001B[A\u001B[A\n",
      "\n",
      " 57%|█████▋    | 4/7 [00:00<00:00,  4.39it/s]\u001B[A\u001B[A\n",
      "\n",
      " 71%|███████▏  | 5/7 [00:01<00:00,  4.36it/s]\u001B[A\u001B[A\n",
      "\n",
      "100%|██████████| 7/7 [00:01<00:00,  4.99it/s]\n",
      "Processing 2025-01 queries:  70%|███████   | 346/492 [14:40<06:30,  2.67s/query]\n",
      "\n",
      "  0%|          | 0/7 [00:00<?, ?it/s]\u001B[A\u001B[A\n",
      "\n",
      " 14%|█▍        | 1/7 [00:00<00:01,  4.72it/s]\u001B[A\u001B[A\n",
      "\n",
      " 29%|██▊       | 2/7 [00:00<00:01,  4.65it/s]\u001B[A\u001B[A\n",
      "\n",
      " 43%|████▎     | 3/7 [00:00<00:00,  4.62it/s]\u001B[A\u001B[A\n",
      "\n",
      " 57%|█████▋    | 4/7 [00:00<00:00,  4.47it/s]\u001B[A\u001B[A\n",
      "\n",
      " 71%|███████▏  | 5/7 [00:01<00:00,  4.43it/s]\u001B[A\u001B[A\n",
      "\n",
      "100%|██████████| 7/7 [00:01<00:00,  5.03it/s]\n",
      "Processing 2025-01 queries:  71%|███████   | 347/492 [14:42<06:11,  2.56s/query]"
     ]
    },
    {
     "output_type": "stream",
     "name": "stdout",
     "text": [
      "WARNING! Your documents have duplicate entries!  This will slow down calculation and may yield subpar results\n"
     ]
    },
    {
     "output_type": "stream",
     "name": "stderr",
     "text": [
      "\n",
      "\n",
      "100%|██████████| 1/1 [00:00<00:00, 11.07it/s]\n",
      "Processing 2025-01 queries:  71%|███████   | 348/492 [14:43<05:14,  2.18s/query]"
     ]
    },
    {
     "output_type": "stream",
     "name": "stdout",
     "text": [
      "WARNING! Your documents have duplicate entries!  This will slow down calculation and may yield subpar results\n"
     ]
    },
    {
     "output_type": "stream",
     "name": "stderr",
     "text": [
      "\n",
      "\n",
      "  0%|          | 0/7 [00:00<?, ?it/s]\u001B[A\u001B[A\n",
      "\n",
      " 14%|█▍        | 1/7 [00:00<00:01,  4.77it/s]\u001B[A\u001B[A\n",
      "\n",
      " 29%|██▊       | 2/7 [00:00<00:01,  4.66it/s]\u001B[A\u001B[A\n",
      "\n",
      " 43%|████▎     | 3/7 [00:00<00:00,  4.63it/s]\u001B[A\u001B[A\n",
      "\n",
      " 57%|█████▋    | 4/7 [00:00<00:00,  4.52it/s]\u001B[A\u001B[A\n",
      "\n",
      " 71%|███████▏  | 5/7 [00:01<00:00,  4.42it/s]\u001B[A\u001B[A\n",
      "\n",
      "100%|██████████| 7/7 [00:01<00:00,  5.04it/s]\n",
      "Processing 2025-01 queries:  71%|███████   | 349/492 [14:46<05:16,  2.21s/query]\n",
      "\n",
      "  0%|          | 0/7 [00:00<?, ?it/s]\u001B[A\u001B[A\n",
      "\n",
      " 14%|█▍        | 1/7 [00:00<00:01,  3.72it/s]\u001B[A\u001B[A\n",
      "\n",
      " 29%|██▊       | 2/7 [00:00<00:01,  4.19it/s]\u001B[A\u001B[A\n",
      "\n",
      " 43%|████▎     | 3/7 [00:00<00:00,  4.36it/s]\u001B[A\u001B[A\n",
      "\n",
      " 57%|█████▋    | 4/7 [00:00<00:00,  4.44it/s]\u001B[A\u001B[A\n",
      "\n",
      " 71%|███████▏  | 5/7 [00:01<00:00,  4.34it/s]\u001B[A\u001B[A\n",
      "\n",
      "100%|██████████| 7/7 [00:01<00:00,  4.84it/s]\n",
      "Processing 2025-01 queries:  71%|███████   | 350/492 [14:52<08:05,  3.42s/query]"
     ]
    },
    {
     "output_type": "stream",
     "name": "stdout",
     "text": [
      "WARNING! Your documents have duplicate entries!  This will slow down calculation and may yield subpar results\n"
     ]
    },
    {
     "output_type": "stream",
     "name": "stderr",
     "text": [
      "\n",
      "\n",
      "  0%|          | 0/7 [00:00<?, ?it/s]\u001B[A\u001B[A\n",
      "\n",
      " 14%|█▍        | 1/7 [00:00<00:01,  4.71it/s]\u001B[A\u001B[A\n",
      "\n",
      " 29%|██▊       | 2/7 [00:00<00:01,  4.68it/s]\u001B[A\u001B[A\n",
      "\n",
      " 43%|████▎     | 3/7 [00:00<00:00,  4.62it/s]\u001B[A\u001B[A\n",
      "\n",
      " 57%|█████▋    | 4/7 [00:00<00:00,  4.48it/s]\u001B[A\u001B[A\n",
      "\n",
      " 71%|███████▏  | 5/7 [00:01<00:00,  4.42it/s]\u001B[A\u001B[A\n",
      "\n",
      "100%|██████████| 7/7 [00:01<00:00,  5.02it/s]\n",
      "Processing 2025-01 queries:  71%|███████▏  | 351/492 [14:55<07:33,  3.22s/query]\n",
      "\n",
      "  0%|          | 0/7 [00:00<?, ?it/s]\u001B[A\u001B[A\n",
      "\n",
      " 14%|█▍        | 1/7 [00:00<00:01,  4.68it/s]\u001B[A\u001B[A\n",
      "\n",
      " 29%|██▊       | 2/7 [00:00<00:01,  4.65it/s]\u001B[A\u001B[A\n",
      "\n",
      " 43%|████▎     | 3/7 [00:00<00:00,  4.61it/s]\u001B[A\u001B[A\n",
      "\n",
      " 57%|█████▋    | 4/7 [00:00<00:00,  4.46it/s]\u001B[A\u001B[A\n",
      "\n",
      " 71%|███████▏  | 5/7 [00:01<00:00,  4.40it/s]\u001B[A\u001B[A\n",
      "\n",
      "100%|██████████| 7/7 [00:01<00:00,  5.02it/s]\n",
      "Processing 2025-01 queries:  72%|███████▏  | 352/492 [14:58<07:27,  3.19s/query]\n",
      "\n",
      "  0%|          | 0/7 [00:00<?, ?it/s]\u001B[A\u001B[A\n",
      "\n",
      " 14%|█▍        | 1/7 [00:00<00:01,  4.72it/s]\u001B[A\u001B[A\n",
      "\n",
      " 29%|██▊       | 2/7 [00:00<00:01,  4.64it/s]\u001B[A\u001B[A\n",
      "\n",
      " 43%|████▎     | 3/7 [00:00<00:00,  4.60it/s]\u001B[A\u001B[A\n",
      "\n",
      " 57%|█████▋    | 4/7 [00:00<00:00,  4.45it/s]\u001B[A\u001B[A\n",
      "\n",
      " 71%|███████▏  | 5/7 [00:01<00:00,  4.41it/s]\u001B[A\u001B[A\n",
      "\n",
      "100%|██████████| 7/7 [00:01<00:00,  5.01it/s]\n",
      "Processing 2025-01 queries:  72%|███████▏  | 353/492 [15:00<07:05,  3.06s/query]"
     ]
    },
    {
     "output_type": "stream",
     "name": "stdout",
     "text": [
      "WARNING! Your documents have duplicate entries!  This will slow down calculation and may yield subpar results\n"
     ]
    },
    {
     "output_type": "stream",
     "name": "stderr",
     "text": [
      "\n",
      "\n",
      "  0%|          | 0/7 [00:00<?, ?it/s]\u001B[A\u001B[A\n",
      "\n",
      " 43%|████▎     | 3/7 [00:00<00:00, 27.14it/s]\u001B[A\u001B[A\n",
      "\n",
      "100%|██████████| 7/7 [00:00<00:00, 28.05it/s]\n",
      "Processing 2025-01 queries:  72%|███████▏  | 354/492 [15:02<05:56,  2.58s/query]\n",
      "\n",
      "  0%|          | 0/7 [00:00<?, ?it/s]\u001B[A\u001B[A\n",
      "\n",
      " 14%|█▍        | 1/7 [00:00<00:01,  4.69it/s]\u001B[A\u001B[A\n",
      "\n",
      " 29%|██▊       | 2/7 [00:00<00:01,  4.59it/s]\u001B[A\u001B[A\n",
      "\n",
      " 43%|████▎     | 3/7 [00:00<00:00,  4.69it/s]\u001B[A\u001B[A\n",
      "\n",
      " 57%|█████▋    | 4/7 [00:00<00:00,  4.63it/s]\u001B[A\u001B[A\n",
      "\n",
      " 71%|███████▏  | 5/7 [00:01<00:00,  4.51it/s]\u001B[A\u001B[A\n",
      "\n",
      "100%|██████████| 7/7 [00:01<00:00,  5.13it/s]\n",
      "Processing 2025-01 queries:  72%|███████▏  | 355/492 [15:05<05:58,  2.62s/query]"
     ]
    },
    {
     "output_type": "stream",
     "name": "stdout",
     "text": [
      "WARNING! Your documents have duplicate entries!  This will slow down calculation and may yield subpar results\n"
     ]
    },
    {
     "output_type": "stream",
     "name": "stderr",
     "text": [
      "\n",
      "\n",
      "  0%|          | 0/7 [00:00<?, ?it/s]\u001B[A\u001B[A\n",
      "\n",
      " 14%|█▍        | 1/7 [00:00<00:01,  3.73it/s]\u001B[A\u001B[A\n",
      "\n",
      " 29%|██▊       | 2/7 [00:00<00:01,  4.16it/s]\u001B[A\u001B[A\n",
      "\n",
      " 43%|████▎     | 3/7 [00:00<00:00,  4.31it/s]\u001B[A\u001B[A\n",
      "\n",
      " 57%|█████▋    | 4/7 [00:00<00:00,  4.38it/s]\u001B[A\u001B[A\n",
      "\n",
      " 71%|███████▏  | 5/7 [00:01<00:00,  4.24it/s]\u001B[A\u001B[A\n",
      "\n",
      "100%|██████████| 7/7 [00:01<00:00,  4.75it/s]\n",
      "Processing 2025-01 queries:  72%|███████▏  | 356/492 [15:08<06:25,  2.83s/query]"
     ]
    },
    {
     "output_type": "stream",
     "name": "stdout",
     "text": [
      "WARNING! Your documents have duplicate entries!  This will slow down calculation and may yield subpar results\n"
     ]
    },
    {
     "output_type": "stream",
     "name": "stderr",
     "text": [
      "\n",
      "\n",
      "  0%|          | 0/7 [00:00<?, ?it/s]\u001B[A\u001B[A\n",
      "\n",
      " 14%|█▍        | 1/7 [00:00<00:01,  4.77it/s]\u001B[A\u001B[A\n",
      "\n",
      " 29%|██▊       | 2/7 [00:00<00:01,  4.59it/s]\u001B[A\u001B[A\n",
      "\n",
      " 43%|████▎     | 3/7 [00:00<00:00,  4.54it/s]\u001B[A\u001B[A\n",
      "\n",
      " 57%|█████▋    | 4/7 [00:00<00:00,  4.36it/s]\u001B[A\u001B[A\n",
      "\n",
      " 71%|███████▏  | 5/7 [00:01<00:00,  4.35it/s]\u001B[A\u001B[A\n",
      "\n",
      "100%|██████████| 7/7 [00:01<00:00,  4.96it/s]\n",
      "Processing 2025-01 queries:  73%|███████▎  | 358/492 [15:12<04:56,  2.21s/query]"
     ]
    },
    {
     "output_type": "stream",
     "name": "stdout",
     "text": [
      "WARNING! Your documents have duplicate entries!  This will slow down calculation and may yield subpar results\n"
     ]
    },
    {
     "output_type": "stream",
     "name": "stderr",
     "text": [
      "\n",
      "\n",
      "  0%|          | 0/7 [00:00<?, ?it/s]\u001B[A\u001B[A\n",
      "\n",
      " 14%|█▍        | 1/7 [00:00<00:01,  3.68it/s]\u001B[A\u001B[A\n",
      "\n",
      " 29%|██▊       | 2/7 [00:00<00:01,  4.14it/s]\u001B[A\u001B[A\n",
      "\n",
      " 43%|████▎     | 3/7 [00:00<00:00,  4.30it/s]\u001B[A\u001B[A\n",
      "\n",
      " 57%|█████▋    | 4/7 [00:00<00:00,  4.37it/s]\u001B[A\u001B[A\n",
      "\n",
      " 71%|███████▏  | 5/7 [00:01<00:00,  4.28it/s]\u001B[A\u001B[A\n",
      "\n",
      "100%|██████████| 7/7 [00:01<00:00,  4.75it/s]\n",
      "Processing 2025-01 queries:  73%|███████▎  | 359/492 [15:16<06:15,  2.83s/query]\n",
      "\n",
      "  0%|          | 0/7 [00:00<?, ?it/s]\u001B[A\u001B[A\n",
      "\n",
      " 14%|█▍        | 1/7 [00:00<00:01,  3.78it/s]\u001B[A\u001B[A\n",
      "\n",
      " 29%|██▊       | 2/7 [00:00<00:01,  4.17it/s]\u001B[A\u001B[A\n",
      "\n",
      " 43%|████▎     | 3/7 [00:00<00:00,  4.29it/s]\u001B[A\u001B[A\n",
      "\n",
      " 57%|█████▋    | 4/7 [00:00<00:00,  4.35it/s]\u001B[A\u001B[A\n",
      "\n",
      " 71%|███████▏  | 5/7 [00:01<00:00,  4.24it/s]\u001B[A\u001B[A\n",
      "\n",
      "100%|██████████| 7/7 [00:01<00:00,  4.71it/s]\n",
      "Processing 2025-01 queries:  73%|███████▎  | 360/492 [15:19<06:29,  2.95s/query]"
     ]
    },
    {
     "output_type": "stream",
     "name": "stdout",
     "text": [
      "INFO: Processed 360/492 queries for 2025-01. Avg time/query: 2551.70 ms.\n",
      "WARNING! Your documents have duplicate entries!  This will slow down calculation and may yield subpar results\n"
     ]
    },
    {
     "output_type": "stream",
     "name": "stderr",
     "text": [
      "\n",
      "\n",
      "  0%|          | 0/7 [00:00<?, ?it/s]\u001B[A\u001B[A\n",
      "\n",
      " 14%|█▍        | 1/7 [00:00<00:01,  4.71it/s]\u001B[A\u001B[A\n",
      "\n",
      " 29%|██▊       | 2/7 [00:00<00:01,  4.58it/s]\u001B[A\u001B[A\n",
      "\n",
      " 43%|████▎     | 3/7 [00:00<00:00,  4.45it/s]\u001B[A\u001B[A\n",
      "\n",
      " 57%|█████▋    | 4/7 [00:00<00:00,  4.43it/s]\u001B[A\u001B[A\n",
      "\n",
      " 71%|███████▏  | 5/7 [00:01<00:00,  4.23it/s]\u001B[A\u001B[A\n",
      "\n",
      "100%|██████████| 7/7 [00:01<00:00,  4.89it/s]\n",
      "Processing 2025-01 queries:  73%|███████▎  | 361/492 [15:21<06:02,  2.76s/query]\n",
      "\n",
      "  0%|          | 0/7 [00:00<?, ?it/s]\u001B[A\u001B[A\n",
      "\n",
      " 14%|█▍        | 1/7 [00:00<00:01,  4.51it/s]\u001B[A\u001B[A\n",
      "\n",
      " 29%|██▊       | 2/7 [00:00<00:01,  4.46it/s]\u001B[A\u001B[A\n",
      "\n",
      " 43%|████▎     | 3/7 [00:00<00:00,  4.42it/s]\u001B[A\u001B[A\n",
      "\n",
      " 57%|█████▋    | 4/7 [00:00<00:00,  4.10it/s]\u001B[A\u001B[A\n",
      "\n",
      " 71%|███████▏  | 5/7 [00:01<00:00,  4.28it/s]\u001B[A\u001B[A\n",
      "\n",
      "100%|██████████| 7/7 [00:01<00:00,  4.85it/s]\n",
      "Processing 2025-01 queries:  74%|███████▎  | 362/492 [15:24<05:59,  2.77s/query]\n",
      "\n",
      "  0%|          | 0/1 [00:00<?, ?it/s]\u001B[A\u001B[A\n",
      "\n",
      "100%|██████████| 1/1 [00:00<00:00,  5.09it/s]\n",
      "Processing 2025-01 queries:  74%|███████▍  | 363/492 [15:25<04:49,  2.24s/query]"
     ]
    },
    {
     "output_type": "stream",
     "name": "stdout",
     "text": [
      "WARNING! Your documents have duplicate entries!  This will slow down calculation and may yield subpar results\n"
     ]
    },
    {
     "output_type": "stream",
     "name": "stderr",
     "text": [
      "\n",
      "\n",
      "  0%|          | 0/2 [00:00<?, ?it/s]\u001B[A\u001B[A\n",
      "\n",
      " 50%|█████     | 1/2 [00:00<00:00,  4.45it/s]\u001B[A\u001B[A\n",
      "\n",
      "100%|██████████| 2/2 [00:00<00:00,  4.93it/s]\n",
      "Processing 2025-01 queries:  74%|███████▍  | 364/492 [15:26<04:08,  1.94s/query]"
     ]
    },
    {
     "output_type": "stream",
     "name": "stdout",
     "text": [
      "WARNING! Your documents have duplicate entries!  This will slow down calculation and may yield subpar results\n"
     ]
    },
    {
     "output_type": "stream",
     "name": "stderr",
     "text": [
      "\n",
      "\n",
      "  0%|          | 0/7 [00:00<?, ?it/s]\u001B[A\u001B[A\n",
      "\n",
      " 14%|█▍        | 1/7 [00:00<00:01,  4.68it/s]\u001B[A\u001B[A\n",
      "\n",
      " 29%|██▊       | 2/7 [00:00<00:01,  4.50it/s]\u001B[A\u001B[A\n",
      "\n",
      " 43%|████▎     | 3/7 [00:00<00:00,  4.43it/s]\u001B[A\u001B[A\n",
      "\n",
      " 57%|█████▋    | 4/7 [00:00<00:00,  4.16it/s]\u001B[A\u001B[A\n",
      "\n",
      " 71%|███████▏  | 5/7 [00:01<00:00,  4.23it/s]\u001B[A\u001B[A\n",
      "\n",
      "100%|██████████| 7/7 [00:01<00:00,  4.83it/s]\n",
      "Processing 2025-01 queries:  74%|███████▍  | 365/492 [15:29<04:37,  2.18s/query]"
     ]
    },
    {
     "output_type": "stream",
     "name": "stdout",
     "text": [
      "WARNING! Your documents have duplicate entries!  This will slow down calculation and may yield subpar results\n"
     ]
    },
    {
     "output_type": "stream",
     "name": "stderr",
     "text": [
      "\n",
      "\n",
      "  0%|          | 0/7 [00:00<?, ?it/s]\u001B[A\u001B[A\n",
      "\n",
      " 14%|█▍        | 1/7 [00:00<00:01,  4.48it/s]\u001B[A\u001B[A\n",
      "\n",
      " 29%|██▊       | 2/7 [00:00<00:01,  4.44it/s]\u001B[A\u001B[A\n",
      "\n",
      " 43%|████▎     | 3/7 [00:00<00:00,  4.41it/s]\u001B[A\u001B[A\n",
      "\n",
      " 57%|█████▋    | 4/7 [00:00<00:00,  4.20it/s]\u001B[A\u001B[A\n",
      "\n",
      " 71%|███████▏  | 5/7 [00:01<00:00,  4.20it/s]\u001B[A\u001B[A\n",
      "\n",
      "100%|██████████| 7/7 [00:01<00:00,  4.78it/s]\n",
      "Processing 2025-01 queries:  74%|███████▍  | 366/492 [15:32<04:42,  2.24s/query]"
     ]
    },
    {
     "output_type": "stream",
     "name": "stdout",
     "text": [
      "WARNING! Your documents have duplicate entries!  This will slow down calculation and may yield subpar results\n"
     ]
    },
    {
     "output_type": "stream",
     "name": "stderr",
     "text": [
      "\n",
      "\n",
      "  0%|          | 0/5 [00:00<?, ?it/s]\u001B[A\u001B[A\n",
      "\n",
      " 20%|██        | 1/5 [00:00<00:00,  4.62it/s]\u001B[A\u001B[A\n",
      "\n",
      " 40%|████      | 2/5 [00:00<00:00,  4.44it/s]\u001B[A\u001B[A\n",
      "\n",
      " 60%|██████    | 3/5 [00:00<00:00,  4.42it/s]\u001B[A\u001B[A\n",
      "\n",
      " 80%|████████  | 4/5 [00:00<00:00,  4.32it/s]\u001B[A\u001B[A\n",
      "\n",
      "100%|██████████| 5/5 [00:01<00:00,  4.55it/s]\n",
      "Processing 2025-01 queries:  75%|███████▍  | 367/492 [15:34<04:30,  2.17s/query]\n",
      "\n",
      "  0%|          | 0/3 [00:00<?, ?it/s]\u001B[A\u001B[A\n",
      "\n",
      " 33%|███▎      | 1/3 [00:00<00:00,  4.67it/s]\u001B[A\u001B[A\n",
      "\n",
      " 67%|██████▋   | 2/3 [00:00<00:00,  4.62it/s]\u001B[A\u001B[A\n",
      "\n",
      "100%|██████████| 3/3 [00:00<00:00,  4.61it/s]\n",
      "Processing 2025-01 queries:  75%|███████▍  | 368/492 [15:36<04:21,  2.11s/query]\n",
      "\n",
      "  0%|          | 0/7 [00:00<?, ?it/s]\u001B[A\u001B[A\n",
      "\n",
      " 14%|█▍        | 1/7 [00:00<00:01,  4.60it/s]\u001B[A\u001B[A\n",
      "\n",
      " 29%|██▊       | 2/7 [00:00<00:01,  4.46it/s]\u001B[A\u001B[A\n",
      "\n",
      " 43%|████▎     | 3/7 [00:00<00:00,  4.42it/s]\u001B[A\u001B[A\n",
      "\n",
      " 57%|█████▋    | 4/7 [00:00<00:00,  4.17it/s]\u001B[A\u001B[A\n",
      "\n",
      " 71%|███████▏  | 5/7 [00:01<00:00,  4.23it/s]\u001B[A\u001B[A\n",
      "\n",
      "100%|██████████| 7/7 [00:01<00:00,  4.82it/s]\n",
      "Processing 2025-01 queries:  75%|███████▌  | 369/492 [15:38<04:29,  2.19s/query]"
     ]
    },
    {
     "output_type": "stream",
     "name": "stdout",
     "text": [
      "WARNING! Your documents have duplicate entries!  This will slow down calculation and may yield subpar results\n"
     ]
    },
    {
     "output_type": "stream",
     "name": "stderr",
     "text": [
      "\n",
      "\n",
      "  0%|          | 0/7 [00:00<?, ?it/s]\u001B[A\u001B[A\n",
      "\n",
      " 14%|█▍        | 1/7 [00:00<00:01,  4.60it/s]\u001B[A\u001B[A\n",
      "\n",
      " 29%|██▊       | 2/7 [00:00<00:01,  4.51it/s]\u001B[A\u001B[A\n",
      "\n",
      " 43%|████▎     | 3/7 [00:00<00:00,  4.48it/s]\u001B[A\u001B[A\n",
      "\n",
      " 57%|█████▋    | 4/7 [00:00<00:00,  4.27it/s]\u001B[A\u001B[A\n",
      "\n",
      " 71%|███████▏  | 5/7 [00:01<00:00,  4.25it/s]\u001B[A\u001B[A\n",
      "\n",
      "100%|██████████| 7/7 [00:01<00:00,  4.86it/s]\n",
      "Processing 2025-01 queries:  75%|███████▌  | 370/492 [15:40<04:32,  2.24s/query]"
     ]
    },
    {
     "output_type": "stream",
     "name": "stdout",
     "text": [
      "WARNING! Your documents have duplicate entries!  This will slow down calculation and may yield subpar results\n"
     ]
    },
    {
     "output_type": "stream",
     "name": "stderr",
     "text": [
      "\n",
      "\n",
      "  0%|          | 0/7 [00:00<?, ?it/s]\u001B[A\u001B[A\n",
      "\n",
      " 14%|█▍        | 1/7 [00:00<00:01,  4.63it/s]\u001B[A\u001B[A\n",
      "\n",
      " 29%|██▊       | 2/7 [00:00<00:01,  4.54it/s]\u001B[A\u001B[A\n",
      "\n",
      " 43%|████▎     | 3/7 [00:00<00:00,  4.50it/s]\u001B[A\u001B[A\n",
      "\n",
      " 57%|█████▋    | 4/7 [00:00<00:00,  4.37it/s]\u001B[A\u001B[A\n",
      "\n",
      " 71%|███████▏  | 5/7 [00:01<00:00,  4.28it/s]\u001B[A\u001B[A\n",
      "\n",
      "100%|██████████| 7/7 [00:01<00:00,  4.89it/s]\n",
      "Processing 2025-01 queries:  75%|███████▌  | 371/492 [15:43<04:35,  2.28s/query]\n",
      "\n",
      "  0%|          | 0/2 [00:00<?, ?it/s]\u001B[A\u001B[A\n",
      "\n",
      "100%|██████████| 2/2 [00:00<00:00,  8.11it/s]\n",
      "Processing 2025-01 queries:  76%|███████▌  | 372/492 [15:44<03:50,  1.92s/query]\n",
      "\n",
      "  0%|          | 0/7 [00:00<?, ?it/s]\u001B[A\u001B[A\n",
      "\n",
      " 14%|█▍        | 1/7 [00:00<00:01,  4.56it/s]\u001B[A\u001B[A\n",
      "\n",
      " 29%|██▊       | 2/7 [00:00<00:01,  4.49it/s]\u001B[A\u001B[A\n",
      "\n",
      " 43%|████▎     | 3/7 [00:00<00:00,  4.47it/s]\u001B[A\u001B[A\n",
      "\n",
      " 57%|█████▋    | 4/7 [00:00<00:00,  4.32it/s]\u001B[A\u001B[A\n",
      "\n",
      " 71%|███████▏  | 5/7 [00:01<00:00,  4.29it/s]\u001B[A\u001B[A\n",
      "\n",
      "100%|██████████| 7/7 [00:01<00:00,  4.89it/s]\n",
      "Processing 2025-01 queries:  76%|███████▌  | 373/492 [15:46<04:02,  2.04s/query]\n",
      "\n",
      "  0%|          | 0/2 [00:00<?, ?it/s]\u001B[A\u001B[A\n",
      "\n",
      " 50%|█████     | 1/2 [00:00<00:00,  4.59it/s]\u001B[A\u001B[A\n",
      "\n",
      "100%|██████████| 2/2 [00:00<00:00,  5.05it/s]\n",
      "Processing 2025-01 queries:  76%|███████▌  | 374/492 [15:47<03:31,  1.79s/query]"
     ]
    },
    {
     "output_type": "stream",
     "name": "stdout",
     "text": [
      "WARNING! Your documents have duplicate entries!  This will slow down calculation and may yield subpar results\n"
     ]
    },
    {
     "output_type": "stream",
     "name": "stderr",
     "text": [
      "\n",
      "\n",
      "  0%|          | 0/7 [00:00<?, ?it/s]\u001B[A\u001B[A\n",
      "\n",
      " 14%|█▍        | 1/7 [00:00<00:01,  4.59it/s]\u001B[A\u001B[A\n",
      "\n",
      " 29%|██▊       | 2/7 [00:00<00:01,  4.53it/s]\u001B[A\u001B[A\n",
      "\n",
      " 43%|████▎     | 3/7 [00:00<00:00,  4.49it/s]\u001B[A\u001B[A\n",
      "\n",
      " 57%|█████▋    | 4/7 [00:00<00:00,  4.32it/s]\u001B[A\u001B[A\n",
      "\n",
      " 71%|███████▏  | 5/7 [00:01<00:00,  4.37it/s]\u001B[A\u001B[A\n",
      "\n",
      "100%|██████████| 7/7 [00:01<00:00,  4.95it/s]\n",
      "Processing 2025-01 queries:  76%|███████▌  | 375/492 [15:50<04:03,  2.08s/query]\n",
      "\n",
      "  0%|          | 0/2 [00:00<?, ?it/s]\u001B[A\u001B[A\n",
      "\n",
      "100%|██████████| 2/2 [00:00<00:00,  7.13it/s]\n",
      "Processing 2025-01 queries:  76%|███████▋  | 376/492 [15:51<03:27,  1.79s/query]"
     ]
    },
    {
     "output_type": "stream",
     "name": "stdout",
     "text": [
      "WARNING! Your documents have duplicate entries!  This will slow down calculation and may yield subpar results\n"
     ]
    },
    {
     "output_type": "stream",
     "name": "stderr",
     "text": [
      "\n",
      "\n",
      "  0%|          | 0/7 [00:00<?, ?it/s]\u001B[A\u001B[A\n",
      "\n",
      " 14%|█▍        | 1/7 [00:00<00:01,  4.68it/s]\u001B[A\u001B[A\n",
      "\n",
      " 29%|██▊       | 2/7 [00:00<00:01,  4.58it/s]\u001B[A\u001B[A\n",
      "\n",
      " 43%|████▎     | 3/7 [00:00<00:00,  4.54it/s]\u001B[A\u001B[A\n",
      "\n",
      " 57%|█████▋    | 4/7 [00:00<00:00,  4.32it/s]\u001B[A\u001B[A\n",
      "\n",
      " 71%|███████▏  | 5/7 [00:01<00:00,  4.32it/s]\u001B[A\u001B[A\n",
      "\n",
      "100%|██████████| 7/7 [00:01<00:00,  4.95it/s]\n",
      "Processing 2025-01 queries:  77%|███████▋  | 377/492 [15:54<03:58,  2.07s/query]"
     ]
    },
    {
     "output_type": "stream",
     "name": "stdout",
     "text": [
      "WARNING! Your documents have duplicate entries!  This will slow down calculation and may yield subpar results\n"
     ]
    },
    {
     "output_type": "stream",
     "name": "stderr",
     "text": [
      "\n",
      "\n",
      "  0%|          | 0/7 [00:00<?, ?it/s]\u001B[A\u001B[A\n",
      "\n",
      " 14%|█▍        | 1/7 [00:00<00:01,  3.94it/s]\u001B[A\u001B[A\n",
      "\n",
      " 29%|██▊       | 2/7 [00:00<00:01,  4.21it/s]\u001B[A\u001B[A\n",
      "\n",
      " 43%|████▎     | 3/7 [00:00<00:00,  4.35it/s]\u001B[A\u001B[A\n",
      "\n",
      " 57%|█████▋    | 4/7 [00:00<00:00,  4.40it/s]\u001B[A\u001B[A\n",
      "\n",
      " 71%|███████▏  | 5/7 [00:01<00:00,  4.32it/s]\u001B[A\u001B[A\n",
      "\n",
      "100%|██████████| 7/7 [00:01<00:00,  4.80it/s]\n",
      "Processing 2025-01 queries:  77%|███████▋  | 379/492 [15:58<03:41,  1.96s/query]"
     ]
    },
    {
     "output_type": "stream",
     "name": "stdout",
     "text": [
      "WARNING! Your documents have duplicate entries!  This will slow down calculation and may yield subpar results\n"
     ]
    },
    {
     "output_type": "stream",
     "name": "stderr",
     "text": [
      "\n",
      "\n",
      "  0%|          | 0/7 [00:00<?, ?it/s]\u001B[A\u001B[A\n",
      "\n",
      " 14%|█▍        | 1/7 [00:00<00:01,  3.94it/s]\u001B[A\u001B[A\n",
      "\n",
      " 29%|██▊       | 2/7 [00:00<00:01,  4.23it/s]\u001B[A\u001B[A\n",
      "\n",
      " 43%|████▎     | 3/7 [00:00<00:00,  4.38it/s]\u001B[A\u001B[A\n",
      "\n",
      " 57%|█████▋    | 4/7 [00:00<00:00,  4.45it/s]\u001B[A\u001B[A\n",
      "\n",
      " 71%|███████▏  | 5/7 [00:01<00:00,  4.33it/s]\u001B[A\u001B[A\n",
      "\n",
      "100%|██████████| 7/7 [00:01<00:00,  4.80it/s]\n",
      "Processing 2025-01 queries:  77%|███████▋  | 380/492 [16:01<04:22,  2.34s/query]"
     ]
    },
    {
     "output_type": "stream",
     "name": "stdout",
     "text": [
      "INFO: Processed 380/492 queries for 2025-01. Avg time/query: 2526.15 ms.\n"
     ]
    },
    {
     "output_type": "stream",
     "name": "stderr",
     "text": [
      "\n",
      "\n",
      "  0%|          | 0/7 [00:00<?, ?it/s]\u001B[A\u001B[A\n",
      "\n",
      " 14%|█▍        | 1/7 [00:00<00:01,  4.71it/s]\u001B[A\u001B[A\n",
      "\n",
      " 29%|██▊       | 2/7 [00:00<00:01,  4.65it/s]\u001B[A\u001B[A\n",
      "\n",
      " 43%|████▎     | 3/7 [00:00<00:00,  4.62it/s]\u001B[A\u001B[A\n",
      "\n",
      " 57%|█████▋    | 4/7 [00:00<00:00,  4.49it/s]\u001B[A\u001B[A\n",
      "\n",
      " 71%|███████▏  | 5/7 [00:01<00:00,  4.38it/s]\u001B[A\u001B[A\n",
      "\n",
      "100%|██████████| 7/7 [00:01<00:00,  4.99it/s]\n",
      "Processing 2025-01 queries:  77%|███████▋  | 381/492 [16:04<04:17,  2.32s/query]"
     ]
    },
    {
     "output_type": "stream",
     "name": "stdout",
     "text": [
      "WARNING! Your documents have duplicate entries!  This will slow down calculation and may yield subpar results\n"
     ]
    },
    {
     "output_type": "stream",
     "name": "stderr",
     "text": [
      "\n",
      "\n",
      "  0%|          | 0/5 [00:00<?, ?it/s]\u001B[A\u001B[A\n",
      "\n",
      " 20%|██        | 1/5 [00:00<00:00,  4.75it/s]\u001B[A\u001B[A\n",
      "\n",
      " 40%|████      | 2/5 [00:00<00:00,  4.61it/s]\u001B[A\u001B[A\n",
      "\n",
      " 60%|██████    | 3/5 [00:00<00:00,  4.57it/s]\u001B[A\u001B[A\n",
      "\n",
      " 80%|████████  | 4/5 [00:00<00:00,  4.33it/s]\u001B[A\u001B[A\n",
      "\n",
      "100%|██████████| 5/5 [00:01<00:00,  4.67it/s]\n",
      "Processing 2025-01 queries:  78%|███████▊  | 382/492 [16:05<04:04,  2.22s/query]"
     ]
    },
    {
     "output_type": "stream",
     "name": "stdout",
     "text": [
      "WARNING! Your documents have duplicate entries!  This will slow down calculation and may yield subpar results\n"
     ]
    },
    {
     "output_type": "stream",
     "name": "stderr",
     "text": [
      "\n",
      "\n",
      "  0%|          | 0/2 [00:00<?, ?it/s]\u001B[A\u001B[A\n",
      "\n",
      "100%|██████████| 2/2 [00:00<00:00,  6.43it/s]\n",
      "Processing 2025-01 queries:  78%|███████▊  | 383/492 [16:07<03:26,  1.89s/query]"
     ]
    },
    {
     "output_type": "stream",
     "name": "stdout",
     "text": [
      "WARNING! Your documents have duplicate entries!  This will slow down calculation and may yield subpar results\n"
     ]
    },
    {
     "output_type": "stream",
     "name": "stderr",
     "text": [
      "\n",
      "\n",
      "  0%|          | 0/7 [00:00<?, ?it/s]\u001B[A\u001B[A\n",
      "\n",
      " 14%|█▍        | 1/7 [00:00<00:01,  4.76it/s]\u001B[A\u001B[A\n",
      "\n",
      " 29%|██▊       | 2/7 [00:00<00:01,  4.59it/s]\u001B[A\u001B[A\n",
      "\n",
      " 43%|████▎     | 3/7 [00:00<00:00,  4.66it/s]\u001B[A\u001B[A\n",
      "\n",
      " 57%|█████▋    | 4/7 [00:00<00:00,  4.69it/s]\u001B[A\u001B[A\n",
      "\n",
      " 71%|███████▏  | 5/7 [00:01<00:00,  4.46it/s]\u001B[A\u001B[A\n",
      "\n",
      "100%|██████████| 7/7 [00:01<00:00,  5.11it/s]\n",
      "Processing 2025-01 queries:  78%|███████▊  | 384/492 [16:09<03:52,  2.15s/query]\n",
      "\n",
      "  0%|          | 0/7 [00:00<?, ?it/s]\u001B[A\u001B[A\n",
      "\n",
      " 14%|█▍        | 1/7 [00:00<00:01,  4.72it/s]\u001B[A\u001B[A\n",
      "\n",
      " 29%|██▊       | 2/7 [00:00<00:01,  4.64it/s]\u001B[A\u001B[A\n",
      "\n",
      " 43%|████▎     | 3/7 [00:00<00:00,  4.61it/s]\u001B[A\u001B[A\n",
      "\n",
      " 57%|█████▋    | 4/7 [00:00<00:00,  4.39it/s]\u001B[A\u001B[A\n",
      "\n",
      " 71%|███████▏  | 5/7 [00:01<00:00,  4.36it/s]\u001B[A\u001B[A\n",
      "\n",
      "100%|██████████| 7/7 [00:01<00:00,  4.98it/s]\n",
      "Processing 2025-01 queries:  78%|███████▊  | 385/492 [16:12<03:55,  2.20s/query]\n",
      "\n",
      "100%|██████████| 1/1 [00:00<00:00, 18.56it/s]\n",
      "Processing 2025-01 queries:  78%|███████▊  | 386/492 [16:13<03:10,  1.79s/query]\n",
      "\n",
      "  0%|          | 0/7 [00:00<?, ?it/s]\u001B[A\u001B[A\n",
      "\n",
      " 14%|█▍        | 1/7 [00:00<00:01,  4.73it/s]\u001B[A\u001B[A\n",
      "\n",
      " 29%|██▊       | 2/7 [00:00<00:01,  4.62it/s]\u001B[A\u001B[A\n",
      "\n",
      " 43%|████▎     | 3/7 [00:00<00:00,  4.58it/s]\u001B[A\u001B[A\n",
      "\n",
      " 57%|█████▋    | 4/7 [00:00<00:00,  4.50it/s]\u001B[A\u001B[A\n",
      "\n",
      " 71%|███████▏  | 5/7 [00:01<00:00,  4.36it/s]\u001B[A\u001B[A\n",
      "\n",
      "100%|██████████| 7/7 [00:01<00:00,  5.00it/s]\n",
      "Processing 2025-01 queries:  79%|███████▊  | 387/492 [16:15<03:24,  1.95s/query]"
     ]
    },
    {
     "output_type": "stream",
     "name": "stdout",
     "text": [
      "WARNING! Your documents have duplicate entries!  This will slow down calculation and may yield subpar results\n"
     ]
    },
    {
     "output_type": "stream",
     "name": "stderr",
     "text": [
      "\n",
      "\n",
      "  0%|          | 0/7 [00:00<?, ?it/s]\u001B[A\u001B[A\n",
      "\n",
      " 14%|█▍        | 1/7 [00:00<00:01,  4.58it/s]\u001B[A\u001B[A\n",
      "\n",
      " 29%|██▊       | 2/7 [00:00<00:01,  4.57it/s]\u001B[A\u001B[A\n",
      "\n",
      " 43%|████▎     | 3/7 [00:00<00:00,  4.57it/s]\u001B[A\u001B[A\n",
      "\n",
      " 57%|█████▋    | 4/7 [00:00<00:00,  4.35it/s]\u001B[A\u001B[A\n",
      "\n",
      " 71%|███████▏  | 5/7 [00:01<00:00,  4.35it/s]\u001B[A\u001B[A\n",
      "\n",
      "100%|██████████| 7/7 [00:01<00:00,  4.94it/s]\n",
      "Processing 2025-01 queries:  79%|███████▉  | 389/492 [16:18<02:52,  1.67s/query]\n",
      "\n",
      "  0%|          | 0/7 [00:00<?, ?it/s]\u001B[A\u001B[A\n",
      "\n",
      " 14%|█▍        | 1/7 [00:00<00:01,  3.84it/s]\u001B[A\u001B[A\n",
      "\n",
      " 29%|██▊       | 2/7 [00:00<00:01,  4.23it/s]\u001B[A\u001B[A\n",
      "\n",
      " 43%|████▎     | 3/7 [00:00<00:00,  4.38it/s]\u001B[A\u001B[A\n",
      "\n",
      " 57%|█████▋    | 4/7 [00:00<00:00,  4.45it/s]\u001B[A\u001B[A\n",
      "\n",
      " 71%|███████▏  | 5/7 [00:01<00:00,  4.32it/s]\u001B[A\u001B[A\n",
      "\n",
      "100%|██████████| 7/7 [00:01<00:00,  4.84it/s]\n",
      "Processing 2025-01 queries:  79%|███████▉  | 390/492 [16:21<03:24,  2.00s/query]"
     ]
    },
    {
     "output_type": "stream",
     "name": "stdout",
     "text": [
      "WARNING! Your documents have duplicate entries!  This will slow down calculation and may yield subpar results\n"
     ]
    },
    {
     "output_type": "stream",
     "name": "stderr",
     "text": [
      "\n",
      "\n",
      "  0%|          | 0/1 [00:00<?, ?it/s]\u001B[A\u001B[A\n",
      "\n",
      "100%|██████████| 1/1 [00:00<00:00,  9.30it/s]\n",
      "Processing 2025-01 queries:  79%|███████▉  | 391/492 [16:22<02:49,  1.68s/query]"
     ]
    },
    {
     "output_type": "stream",
     "name": "stdout",
     "text": [
      "WARNING! Your documents have duplicate entries!  This will slow down calculation and may yield subpar results\n"
     ]
    },
    {
     "output_type": "stream",
     "name": "stderr",
     "text": [
      "\n",
      "\n",
      "  0%|          | 0/7 [00:00<?, ?it/s]\u001B[A\u001B[A\n",
      "\n",
      " 14%|█▍        | 1/7 [00:00<00:01,  3.58it/s]\u001B[A\u001B[A\n",
      "\n",
      " 29%|██▊       | 2/7 [00:00<00:01,  4.10it/s]\u001B[A\u001B[A\n",
      "\n",
      " 43%|████▎     | 3/7 [00:00<00:00,  4.30it/s]\u001B[A\u001B[A\n",
      "\n",
      " 57%|█████▋    | 4/7 [00:00<00:00,  4.38it/s]\u001B[A\u001B[A\n",
      "\n",
      " 71%|███████▏  | 5/7 [00:01<00:00,  4.34it/s]\u001B[A\u001B[A\n",
      "\n",
      "100%|██████████| 7/7 [00:01<00:00,  4.77it/s]\n",
      "Processing 2025-01 queries:  80%|███████▉  | 392/492 [16:28<05:11,  3.12s/query]"
     ]
    },
    {
     "output_type": "stream",
     "name": "stdout",
     "text": [
      "WARNING! Your documents have duplicate entries!  This will slow down calculation and may yield subpar results\n"
     ]
    },
    {
     "output_type": "stream",
     "name": "stderr",
     "text": [
      "\n",
      "\n",
      "  0%|          | 0/7 [00:00<?, ?it/s]\u001B[A\u001B[A\n",
      "\n",
      " 14%|█▍        | 1/7 [00:00<00:01,  3.71it/s]\u001B[A\u001B[A\n",
      "\n",
      " 29%|██▊       | 2/7 [00:00<00:01,  4.16it/s]\u001B[A\u001B[A\n",
      "\n",
      " 43%|████▎     | 3/7 [00:00<00:00,  4.32it/s]\u001B[A\u001B[A\n",
      "\n",
      " 57%|█████▋    | 4/7 [00:00<00:00,  4.39it/s]\u001B[A\u001B[A\n",
      "\n",
      " 71%|███████▏  | 5/7 [00:01<00:00,  4.33it/s]\u001B[A\u001B[A\n",
      "\n",
      "100%|██████████| 7/7 [00:01<00:00,  4.80it/s]\n",
      "Processing 2025-01 queries:  80%|███████▉  | 393/492 [16:31<05:12,  3.15s/query]"
     ]
    },
    {
     "output_type": "stream",
     "name": "stdout",
     "text": [
      "WARNING! Your documents have duplicate entries!  This will slow down calculation and may yield subpar results\n"
     ]
    },
    {
     "output_type": "stream",
     "name": "stderr",
     "text": [
      "\n",
      "\n",
      "  0%|          | 0/7 [00:00<?, ?it/s]\u001B[A\u001B[A\n",
      "\n",
      " 14%|█▍        | 1/7 [00:00<00:01,  4.76it/s]\u001B[A\u001B[A\n",
      "\n",
      " 29%|██▊       | 2/7 [00:00<00:01,  4.64it/s]\u001B[A\u001B[A\n",
      "\n",
      " 43%|████▎     | 3/7 [00:00<00:00,  4.58it/s]\u001B[A\u001B[A\n",
      "\n",
      " 57%|█████▋    | 4/7 [00:00<00:00,  4.32it/s]\u001B[A\u001B[A\n",
      "\n",
      " 71%|███████▏  | 5/7 [00:01<00:00,  4.35it/s]\u001B[A\u001B[A\n",
      "\n",
      "100%|██████████| 7/7 [00:01<00:00,  4.96it/s]\n",
      "Processing 2025-01 queries:  80%|████████  | 394/492 [16:34<04:45,  2.91s/query]"
     ]
    },
    {
     "output_type": "stream",
     "name": "stdout",
     "text": [
      "WARNING! Your documents have duplicate entries!  This will slow down calculation and may yield subpar results\n"
     ]
    },
    {
     "output_type": "stream",
     "name": "stderr",
     "text": [
      "\n",
      "\n",
      "  0%|          | 0/7 [00:00<?, ?it/s]\u001B[A\u001B[A\n",
      "\n",
      " 14%|█▍        | 1/7 [00:00<00:01,  4.61it/s]\u001B[A\u001B[A\n",
      "\n",
      " 29%|██▊       | 2/7 [00:00<00:01,  4.57it/s]\u001B[A\u001B[A\n",
      "\n",
      " 43%|████▎     | 3/7 [00:00<00:00,  4.55it/s]\u001B[A\u001B[A\n",
      "\n",
      " 57%|█████▋    | 4/7 [00:00<00:00,  4.31it/s]\u001B[A\u001B[A\n",
      "\n",
      " 71%|███████▏  | 5/7 [00:01<00:00,  4.32it/s]\u001B[A\u001B[A\n",
      "\n",
      "100%|██████████| 7/7 [00:01<00:00,  4.92it/s]\n",
      "Processing 2025-01 queries:  80%|████████  | 395/492 [16:36<04:25,  2.73s/query]\n",
      "\n",
      "  0%|          | 0/2 [00:00<?, ?it/s]\u001B[A\u001B[A\n",
      "\n",
      "100%|██████████| 2/2 [00:00<00:00,  7.42it/s]\n",
      "Processing 2025-01 queries:  80%|████████  | 396/492 [16:37<03:36,  2.25s/query]"
     ]
    },
    {
     "output_type": "stream",
     "name": "stdout",
     "text": [
      "WARNING! Your documents have duplicate entries!  This will slow down calculation and may yield subpar results\n"
     ]
    },
    {
     "output_type": "stream",
     "name": "stderr",
     "text": [
      "\n",
      "\n",
      "  0%|          | 0/7 [00:00<?, ?it/s]\u001B[A\u001B[A\n",
      "\n",
      " 14%|█▍        | 1/7 [00:00<00:01,  3.69it/s]\u001B[A\u001B[A\n",
      "\n",
      " 29%|██▊       | 2/7 [00:00<00:01,  4.13it/s]\u001B[A\u001B[A\n",
      "\n",
      " 43%|████▎     | 3/7 [00:00<00:00,  4.29it/s]\u001B[A\u001B[A\n",
      "\n",
      " 57%|█████▋    | 4/7 [00:00<00:00,  4.36it/s]\u001B[A\u001B[A\n",
      "\n",
      " 71%|███████▏  | 5/7 [00:01<00:00,  4.23it/s]\u001B[A\u001B[A\n",
      "\n",
      "100%|██████████| 7/7 [00:01<00:00,  4.71it/s]\n",
      "Processing 2025-01 queries:  81%|████████  | 397/492 [16:40<04:03,  2.56s/query]"
     ]
    },
    {
     "output_type": "stream",
     "name": "stdout",
     "text": [
      "WARNING! Your documents have duplicate entries!  This will slow down calculation and may yield subpar results\n"
     ]
    },
    {
     "output_type": "stream",
     "name": "stderr",
     "text": [
      "\n",
      "\n",
      "  0%|          | 0/7 [00:00<?, ?it/s]\u001B[A\u001B[A\n",
      "\n",
      " 14%|█▍        | 1/7 [00:00<00:01,  4.75it/s]\u001B[A\u001B[A\n",
      "\n",
      " 29%|██▊       | 2/7 [00:00<00:01,  4.62it/s]\u001B[A\u001B[A\n",
      "\n",
      " 43%|████▎     | 3/7 [00:00<00:00,  4.52it/s]\u001B[A\u001B[A\n",
      "\n",
      " 57%|█████▋    | 4/7 [00:00<00:00,  4.26it/s]\u001B[A\u001B[A\n",
      "\n",
      " 71%|███████▏  | 5/7 [00:01<00:00,  4.28it/s]\u001B[A\u001B[A\n",
      "\n",
      "100%|██████████| 7/7 [00:01<00:00,  4.87it/s]\n",
      "Processing 2025-01 queries:  81%|████████  | 398/492 [16:43<04:07,  2.64s/query]"
     ]
    },
    {
     "output_type": "stream",
     "name": "stdout",
     "text": [
      "WARNING! Your documents have duplicate entries!  This will slow down calculation and may yield subpar results\n"
     ]
    },
    {
     "output_type": "stream",
     "name": "stderr",
     "text": [
      "\n",
      "\n",
      "  0%|          | 0/7 [00:00<?, ?it/s]\u001B[A\u001B[A\n",
      "\n",
      " 14%|█▍        | 1/7 [00:00<00:01,  3.91it/s]\u001B[A\u001B[A\n",
      "\n",
      " 29%|██▊       | 2/7 [00:00<00:01,  4.24it/s]\u001B[A\u001B[A\n",
      "\n",
      " 43%|████▎     | 3/7 [00:00<00:00,  4.34it/s]\u001B[A\u001B[A\n",
      "\n",
      " 57%|█████▋    | 4/7 [00:00<00:00,  4.39it/s]\u001B[A\u001B[A\n",
      "\n",
      " 71%|███████▏  | 5/7 [00:01<00:00,  4.27it/s]\u001B[A\u001B[A\n",
      "\n",
      "100%|██████████| 7/7 [00:01<00:00,  4.79it/s]\n",
      "Processing 2025-01 queries:  81%|████████  | 399/492 [16:54<07:50,  5.06s/query]"
     ]
    },
    {
     "output_type": "stream",
     "name": "stdout",
     "text": [
      "WARNING! Your documents have duplicate entries!  This will slow down calculation and may yield subpar results\n"
     ]
    },
    {
     "output_type": "stream",
     "name": "stderr",
     "text": [
      "\n",
      "\n",
      "  0%|          | 0/7 [00:00<?, ?it/s]\u001B[A\u001B[A\n",
      "\n",
      " 14%|█▍        | 1/7 [00:00<00:01,  4.70it/s]\u001B[A\u001B[A\n",
      "\n",
      " 29%|██▊       | 2/7 [00:00<00:01,  4.60it/s]\u001B[A\u001B[A\n",
      "\n",
      " 43%|████▎     | 3/7 [00:00<00:00,  4.54it/s]\u001B[A\u001B[A\n",
      "\n",
      " 57%|█████▋    | 4/7 [00:00<00:00,  4.41it/s]\u001B[A\u001B[A\n",
      "\n",
      " 71%|███████▏  | 5/7 [00:01<00:00,  4.24it/s]\u001B[A\u001B[A\n",
      "\n",
      "100%|██████████| 7/7 [00:01<00:00,  4.93it/s]\n",
      "Processing 2025-01 queries:  81%|████████▏ | 400/492 [16:57<06:44,  4.39s/query]"
     ]
    },
    {
     "output_type": "stream",
     "name": "stdout",
     "text": [
      "INFO: Processed 400/492 queries for 2025-01. Avg time/query: 2536.78 ms.\n"
     ]
    },
    {
     "output_type": "stream",
     "name": "stderr",
     "text": [
      "\n",
      "\n",
      "  0%|          | 0/7 [00:00<?, ?it/s]\u001B[A\u001B[A\n",
      "\n",
      " 14%|█▍        | 1/7 [00:00<00:01,  4.67it/s]\u001B[A\u001B[A\n",
      "\n",
      " 29%|██▊       | 2/7 [00:00<00:01,  4.55it/s]\u001B[A\u001B[A\n",
      "\n",
      " 43%|████▎     | 3/7 [00:00<00:00,  4.51it/s]\u001B[A\u001B[A\n",
      "\n",
      " 57%|█████▋    | 4/7 [00:00<00:00,  4.36it/s]\u001B[A\u001B[A\n",
      "\n",
      " 71%|███████▏  | 5/7 [00:01<00:00,  4.34it/s]\u001B[A\u001B[A\n",
      "\n",
      "100%|██████████| 7/7 [00:01<00:00,  4.91it/s]\n",
      "Processing 2025-01 queries:  82%|████████▏ | 401/492 [16:59<05:44,  3.78s/query]\n",
      "\n",
      "  0%|          | 0/1 [00:00<?, ?it/s]\u001B[A\u001B[A\n",
      "\n",
      "100%|██████████| 1/1 [00:00<00:00,  6.21it/s]\n",
      "Processing 2025-01 queries:  82%|████████▏ | 402/492 [17:00<04:24,  2.94s/query]\n",
      "\n",
      "  0%|          | 0/1 [00:00<?, ?it/s]\u001B[A\u001B[A\n",
      "\n",
      "100%|██████████| 1/1 [00:00<00:00,  7.49it/s]\n",
      "Processing 2025-01 queries:  82%|████████▏ | 403/492 [17:01<03:30,  2.37s/query]\n",
      "\n",
      "  0%|          | 0/2 [00:00<?, ?it/s]\u001B[A\u001B[A\n",
      "\n",
      "100%|██████████| 2/2 [00:00<00:00,  6.58it/s]\n",
      "Processing 2025-01 queries:  82%|████████▏ | 404/492 [17:03<03:06,  2.12s/query]"
     ]
    },
    {
     "output_type": "stream",
     "name": "stdout",
     "text": [
      "WARNING! Your documents have duplicate entries!  This will slow down calculation and may yield subpar results\n"
     ]
    },
    {
     "output_type": "stream",
     "name": "stderr",
     "text": [
      "\n",
      "\n",
      "  0%|          | 0/7 [00:00<?, ?it/s]\u001B[A\u001B[A\n",
      "\n",
      " 14%|█▍        | 1/7 [00:00<00:01,  4.68it/s]\u001B[A\u001B[A\n",
      "\n",
      " 29%|██▊       | 2/7 [00:00<00:01,  4.57it/s]\u001B[A\u001B[A\n",
      "\n",
      " 43%|████▎     | 3/7 [00:00<00:00,  4.50it/s]\u001B[A\u001B[A\n",
      "\n",
      " 57%|█████▋    | 4/7 [00:00<00:00,  4.23it/s]\u001B[A\u001B[A\n",
      "\n",
      " 71%|███████▏  | 5/7 [00:01<00:00,  4.26it/s]\u001B[A\u001B[A\n",
      "\n",
      "100%|██████████| 7/7 [00:01<00:00,  4.92it/s]\n",
      "Processing 2025-01 queries:  82%|████████▏ | 405/492 [17:05<03:10,  2.18s/query]"
     ]
    },
    {
     "output_type": "stream",
     "name": "stdout",
     "text": [
      "WARNING! Your documents have duplicate entries!  This will slow down calculation and may yield subpar results\n"
     ]
    },
    {
     "output_type": "stream",
     "name": "stderr",
     "text": [
      "\n",
      "\n",
      "  0%|          | 0/7 [00:00<?, ?it/s]\u001B[A\u001B[A\n",
      "\n",
      " 14%|█▍        | 1/7 [00:00<00:01,  4.57it/s]\u001B[A\u001B[A\n",
      "\n",
      " 29%|██▊       | 2/7 [00:00<00:01,  4.54it/s]\u001B[A\u001B[A\n",
      "\n",
      " 43%|████▎     | 3/7 [00:00<00:00,  4.54it/s]\u001B[A\u001B[A\n",
      "\n",
      " 57%|█████▋    | 4/7 [00:00<00:00,  4.35it/s]\u001B[A\u001B[A\n",
      "\n",
      " 71%|███████▏  | 5/7 [00:01<00:00,  4.21it/s]\u001B[A\u001B[A\n",
      "\n",
      "100%|██████████| 7/7 [00:01<00:00,  4.86it/s]\n",
      "Processing 2025-01 queries:  83%|████████▎ | 406/492 [17:08<03:23,  2.36s/query]\n",
      "\n",
      "  0%|          | 0/7 [00:00<?, ?it/s]\u001B[A\u001B[A\n",
      "\n",
      " 14%|█▍        | 1/7 [00:00<00:01,  4.67it/s]\u001B[A\u001B[A\n",
      "\n",
      " 29%|██▊       | 2/7 [00:00<00:01,  4.53it/s]\u001B[A\u001B[A\n",
      "\n",
      " 43%|████▎     | 3/7 [00:00<00:00,  4.44it/s]\u001B[A\u001B[A\n",
      "\n",
      " 57%|█████▋    | 4/7 [00:00<00:00,  4.32it/s]\u001B[A\u001B[A\n",
      "\n",
      " 71%|███████▏  | 5/7 [00:01<00:00,  4.18it/s]\u001B[A\u001B[A\n",
      "\n",
      "100%|██████████| 7/7 [00:01<00:00,  4.80it/s]\n",
      "Processing 2025-01 queries:  83%|████████▎ | 407/492 [17:10<03:20,  2.36s/query]\n",
      "\n",
      "  0%|          | 0/7 [00:00<?, ?it/s]\u001B[A\u001B[A\n",
      "\n",
      " 14%|█▍        | 1/7 [00:00<00:01,  4.56it/s]\u001B[A\u001B[A\n",
      "\n",
      " 29%|██▊       | 2/7 [00:00<00:01,  4.49it/s]\u001B[A\u001B[A\n",
      "\n",
      " 43%|████▎     | 3/7 [00:00<00:00,  4.48it/s]\u001B[A\u001B[A\n",
      "\n",
      " 57%|█████▋    | 4/7 [00:00<00:00,  4.16it/s]\u001B[A\u001B[A\n",
      "\n",
      " 71%|███████▏  | 5/7 [00:01<00:00,  4.23it/s]\u001B[A\u001B[A\n",
      "\n",
      "100%|██████████| 7/7 [00:01<00:00,  4.84it/s]\n",
      "Processing 2025-01 queries:  83%|████████▎ | 408/492 [17:13<03:18,  2.36s/query]"
     ]
    },
    {
     "output_type": "stream",
     "name": "stdout",
     "text": [
      "WARNING! Your documents have duplicate entries!  This will slow down calculation and may yield subpar results\n"
     ]
    },
    {
     "output_type": "stream",
     "name": "stderr",
     "text": [
      "\n",
      "\n",
      "  0%|          | 0/7 [00:00<?, ?it/s]\u001B[A\u001B[A\n",
      "\n",
      " 14%|█▍        | 1/7 [00:00<00:01,  4.45it/s]\u001B[A\u001B[A\n",
      "\n",
      " 29%|██▊       | 2/7 [00:00<00:01,  4.45it/s]\u001B[A\u001B[A\n",
      "\n",
      " 43%|████▎     | 3/7 [00:00<00:00,  4.41it/s]\u001B[A\u001B[A\n",
      "\n",
      " 57%|█████▋    | 4/7 [00:00<00:00,  4.13it/s]\u001B[A\u001B[A\n",
      "\n",
      " 71%|███████▏  | 5/7 [00:01<00:00,  4.29it/s]\u001B[A\u001B[A\n",
      "\n",
      "100%|██████████| 7/7 [00:01<00:00,  4.86it/s]\n",
      "Processing 2025-01 queries:  83%|████████▎ | 409/492 [17:16<03:37,  2.62s/query]"
     ]
    },
    {
     "output_type": "stream",
     "name": "stdout",
     "text": [
      "WARNING! Your documents have duplicate entries!  This will slow down calculation and may yield subpar results\n"
     ]
    },
    {
     "output_type": "stream",
     "name": "stderr",
     "text": [
      "\n",
      "\n",
      "  0%|          | 0/7 [00:00<?, ?it/s]\u001B[A\u001B[A\n",
      "\n",
      " 14%|█▍        | 1/7 [00:00<00:01,  4.62it/s]\u001B[A\u001B[A\n",
      "\n",
      " 29%|██▊       | 2/7 [00:00<00:01,  4.53it/s]\u001B[A\u001B[A\n",
      "\n",
      " 43%|████▎     | 3/7 [00:00<00:00,  4.48it/s]\u001B[A\u001B[A\n",
      "\n",
      " 57%|█████▋    | 4/7 [00:00<00:00,  4.19it/s]\u001B[A\u001B[A\n",
      "\n",
      " 71%|███████▏  | 5/7 [00:01<00:00,  4.20it/s]\u001B[A\u001B[A\n",
      "\n",
      "100%|██████████| 7/7 [00:01<00:00,  4.81it/s]\n",
      "Processing 2025-01 queries:  83%|████████▎ | 410/492 [17:19<03:38,  2.67s/query]\n",
      "\n",
      "  0%|          | 0/3 [00:00<?, ?it/s]\u001B[A\u001B[A\n",
      "\n",
      " 33%|███▎      | 1/3 [00:00<00:00,  4.62it/s]\u001B[A\u001B[A\n",
      "\n",
      " 67%|██████▋   | 2/3 [00:00<00:00,  4.57it/s]\u001B[A\u001B[A\n",
      "\n",
      "100%|██████████| 3/3 [00:00<00:00,  5.10it/s]\n",
      "Processing 2025-01 queries:  84%|████████▎ | 411/492 [17:20<03:06,  2.30s/query]"
     ]
    },
    {
     "output_type": "stream",
     "name": "stdout",
     "text": [
      "WARNING! Your documents have duplicate entries!  This will slow down calculation and may yield subpar results\n"
     ]
    },
    {
     "output_type": "stream",
     "name": "stderr",
     "text": [
      "\n",
      "\n",
      "  0%|          | 0/7 [00:00<?, ?it/s]\u001B[A\u001B[A\n",
      "\n",
      " 14%|█▍        | 1/7 [00:00<00:01,  4.65it/s]\u001B[A\u001B[A\n",
      "\n",
      " 29%|██▊       | 2/7 [00:00<00:01,  4.53it/s]\u001B[A\u001B[A\n",
      "\n",
      " 43%|████▎     | 3/7 [00:00<00:00,  4.45it/s]\u001B[A\u001B[A\n",
      "\n",
      " 57%|█████▋    | 4/7 [00:00<00:00,  4.21it/s]\u001B[A\u001B[A\n",
      "\n",
      " 71%|███████▏  | 5/7 [00:01<00:00,  4.23it/s]\u001B[A\u001B[A\n",
      "\n",
      "100%|██████████| 7/7 [00:01<00:00,  4.82it/s]\n",
      "Processing 2025-01 queries:  84%|████████▎ | 412/492 [17:23<03:17,  2.47s/query]"
     ]
    },
    {
     "output_type": "stream",
     "name": "stdout",
     "text": [
      "WARNING! Your documents have duplicate entries!  This will slow down calculation and may yield subpar results\n"
     ]
    },
    {
     "output_type": "stream",
     "name": "stderr",
     "text": [
      "\n",
      "\n",
      "  0%|          | 0/7 [00:00<?, ?it/s]\u001B[A\u001B[A\n",
      "\n",
      " 14%|█▍        | 1/7 [00:00<00:01,  3.64it/s]\u001B[A\u001B[A\n",
      "\n",
      " 29%|██▊       | 2/7 [00:00<00:01,  4.08it/s]\u001B[A\u001B[A\n",
      "\n",
      " 43%|████▎     | 3/7 [00:00<00:00,  4.25it/s]\u001B[A\u001B[A\n",
      "\n",
      " 57%|█████▋    | 4/7 [00:00<00:00,  4.33it/s]\u001B[A\u001B[A\n",
      "\n",
      " 71%|███████▏  | 5/7 [00:01<00:00,  4.24it/s]\u001B[A\u001B[A\n",
      "\n",
      "100%|██████████| 7/7 [00:01<00:00,  4.70it/s]\n",
      "Processing 2025-01 queries:  84%|████████▍ | 413/492 [17:26<03:34,  2.72s/query]"
     ]
    },
    {
     "output_type": "stream",
     "name": "stdout",
     "text": [
      "WARNING! Your documents have duplicate entries!  This will slow down calculation and may yield subpar results\n"
     ]
    },
    {
     "output_type": "stream",
     "name": "stderr",
     "text": [
      "\n",
      "\n",
      "  0%|          | 0/7 [00:00<?, ?it/s]\u001B[A\u001B[A\n",
      "\n",
      " 14%|█▍        | 1/7 [00:00<00:01,  4.60it/s]\u001B[A\u001B[A\n",
      "\n",
      " 29%|██▊       | 2/7 [00:00<00:01,  4.50it/s]\u001B[A\u001B[A\n",
      "\n",
      " 43%|████▎     | 3/7 [00:00<00:00,  4.48it/s]\u001B[A\u001B[A\n",
      "\n",
      " 57%|█████▋    | 4/7 [00:00<00:00,  4.19it/s]\u001B[A\u001B[A\n",
      "\n",
      " 71%|███████▏  | 5/7 [00:01<00:00,  4.28it/s]\u001B[A\u001B[A\n",
      "\n",
      "100%|██████████| 7/7 [00:01<00:00,  4.86it/s]\n",
      "Processing 2025-01 queries:  84%|████████▍ | 414/492 [17:28<03:23,  2.60s/query]"
     ]
    },
    {
     "output_type": "stream",
     "name": "stdout",
     "text": [
      "WARNING! Your documents have duplicate entries!  This will slow down calculation and may yield subpar results\n"
     ]
    },
    {
     "output_type": "stream",
     "name": "stderr",
     "text": [
      "\n",
      "\n",
      "  0%|          | 0/7 [00:00<?, ?it/s]\u001B[A\u001B[A\n",
      "\n",
      " 14%|█▍        | 1/7 [00:00<00:01,  4.68it/s]\u001B[A\u001B[A\n",
      "\n",
      " 29%|██▊       | 2/7 [00:00<00:01,  4.57it/s]\u001B[A\u001B[A\n",
      "\n",
      " 43%|████▎     | 3/7 [00:00<00:00,  4.53it/s]\u001B[A\u001B[A\n",
      "\n",
      " 57%|█████▋    | 4/7 [00:00<00:00,  4.30it/s]\u001B[A\u001B[A\n",
      "\n",
      " 71%|███████▏  | 5/7 [00:01<00:00,  4.30it/s]\u001B[A\u001B[A\n",
      "\n",
      "100%|██████████| 7/7 [00:01<00:00,  4.91it/s]\n",
      "Processing 2025-01 queries:  85%|████████▍ | 416/492 [17:32<02:38,  2.08s/query]\n",
      "\n",
      "100%|██████████| 1/1 [00:00<00:00, 10.91it/s]\n",
      "Processing 2025-01 queries:  85%|████████▍ | 417/492 [17:33<02:09,  1.72s/query]\n",
      "\n",
      "  0%|          | 0/7 [00:00<?, ?it/s]\u001B[A\u001B[A\n",
      "\n",
      " 14%|█▍        | 1/7 [00:00<00:01,  4.64it/s]\u001B[A\u001B[A\n",
      "\n",
      " 29%|██▊       | 2/7 [00:00<00:01,  4.59it/s]\u001B[A\u001B[A\n",
      "\n",
      " 43%|████▎     | 3/7 [00:00<00:00,  4.54it/s]\u001B[A\u001B[A\n",
      "\n",
      " 57%|█████▋    | 4/7 [00:00<00:00,  4.47it/s]\u001B[A\u001B[A\n",
      "\n",
      " 71%|███████▏  | 5/7 [00:01<00:00,  4.32it/s]\u001B[A\u001B[A\n",
      "\n",
      "100%|██████████| 7/7 [00:01<00:00,  4.99it/s]\n",
      "Processing 2025-01 queries:  85%|████████▍ | 418/492 [17:35<02:21,  1.91s/query]\n",
      "\n",
      "100%|██████████| 1/1 [00:00<00:00, 10.43it/s]\n",
      "Processing 2025-01 queries:  85%|████████▌ | 419/492 [17:36<01:56,  1.60s/query]\n",
      "\n",
      "  0%|          | 0/7 [00:00<?, ?it/s]\u001B[A\u001B[A\n",
      "\n",
      " 14%|█▍        | 1/7 [00:00<00:01,  4.68it/s]\u001B[A\u001B[A\n",
      "\n",
      " 29%|██▊       | 2/7 [00:00<00:01,  4.60it/s]\u001B[A\u001B[A\n",
      "\n",
      " 43%|████▎     | 3/7 [00:00<00:00,  4.57it/s]\u001B[A\u001B[A\n",
      "\n",
      " 57%|█████▋    | 4/7 [00:00<00:00,  4.42it/s]\u001B[A\u001B[A\n",
      "\n",
      " 71%|███████▏  | 5/7 [00:01<00:00,  4.31it/s]\u001B[A\u001B[A\n",
      "\n",
      "100%|██████████| 7/7 [00:01<00:00,  4.97it/s]\n",
      "Processing 2025-01 queries:  85%|████████▌ | 420/492 [17:39<02:28,  2.06s/query]"
     ]
    },
    {
     "output_type": "stream",
     "name": "stdout",
     "text": [
      "INFO: Processed 420/492 queries for 2025-01. Avg time/query: 2515.19 ms.\n",
      "WARNING! Your documents have duplicate entries!  This will slow down calculation and may yield subpar results\n"
     ]
    },
    {
     "output_type": "stream",
     "name": "stderr",
     "text": [
      "\n",
      "\n",
      "  0%|          | 0/7 [00:00<?, ?it/s]\u001B[A\u001B[A\n",
      "\n",
      " 14%|█▍        | 1/7 [00:00<00:01,  4.66it/s]\u001B[A\u001B[A\n",
      "\n",
      " 29%|██▊       | 2/7 [00:00<00:01,  4.62it/s]\u001B[A\u001B[A\n",
      "\n",
      " 43%|████▎     | 3/7 [00:00<00:00,  4.59it/s]\u001B[A\u001B[A\n",
      "\n",
      " 57%|█████▋    | 4/7 [00:00<00:00,  4.43it/s]\u001B[A\u001B[A\n",
      "\n",
      " 71%|███████▏  | 5/7 [00:01<00:00,  4.41it/s]\u001B[A\u001B[A\n",
      "\n",
      "100%|██████████| 7/7 [00:01<00:00,  5.00it/s]\n",
      "Processing 2025-01 queries:  86%|████████▌ | 421/492 [17:42<02:39,  2.25s/query]\n",
      "\n",
      "100%|██████████| 1/1 [00:00<00:00, 23.71it/s]\n",
      "Processing 2025-01 queries:  86%|████████▌ | 422/492 [17:43<02:07,  1.82s/query]"
     ]
    },
    {
     "output_type": "stream",
     "name": "stdout",
     "text": [
      "WARNING! Your documents have duplicate entries!  This will slow down calculation and may yield subpar results\n"
     ]
    },
    {
     "output_type": "stream",
     "name": "stderr",
     "text": [
      "\n",
      "\n",
      "  0%|          | 0/7 [00:00<?, ?it/s]\u001B[A\u001B[A\n",
      "\n",
      " 14%|█▍        | 1/7 [00:00<00:01,  4.76it/s]\u001B[A\u001B[A\n",
      "\n",
      " 29%|██▊       | 2/7 [00:00<00:01,  4.63it/s]\u001B[A\u001B[A\n",
      "\n",
      " 43%|████▎     | 3/7 [00:00<00:00,  4.61it/s]\u001B[A\u001B[A\n",
      "\n",
      " 57%|█████▋    | 4/7 [00:00<00:00,  4.40it/s]\u001B[A\u001B[A\n",
      "\n",
      " 71%|███████▏  | 5/7 [00:01<00:00,  4.36it/s]\u001B[A\u001B[A\n",
      "\n",
      "100%|██████████| 7/7 [00:01<00:00,  4.97it/s]\n",
      "Processing 2025-01 queries:  86%|████████▌ | 423/492 [17:45<02:14,  1.95s/query]"
     ]
    },
    {
     "output_type": "stream",
     "name": "stdout",
     "text": [
      "WARNING! Your documents have duplicate entries!  This will slow down calculation and may yield subpar results\n"
     ]
    },
    {
     "output_type": "stream",
     "name": "stderr",
     "text": [
      "\n",
      "\n",
      "  0%|          | 0/3 [00:00<?, ?it/s]\u001B[A\u001B[A\n",
      "\n",
      " 33%|███▎      | 1/3 [00:00<00:00,  4.56it/s]\u001B[A\u001B[A\n",
      "\n",
      "100%|██████████| 3/3 [00:00<00:00,  5.69it/s]\n",
      "Processing 2025-01 queries:  86%|████████▌ | 424/492 [17:47<02:09,  1.90s/query]\n",
      "\n",
      "  0%|          | 0/7 [00:00<?, ?it/s]\u001B[A\u001B[A\n",
      "\n",
      " 14%|█▍        | 1/7 [00:00<00:01,  4.72it/s]\u001B[A\u001B[A\n",
      "\n",
      " 29%|██▊       | 2/7 [00:00<00:01,  4.60it/s]\u001B[A\u001B[A\n",
      "\n",
      " 43%|████▎     | 3/7 [00:00<00:00,  4.59it/s]\u001B[A\u001B[A\n",
      "\n",
      " 57%|█████▋    | 4/7 [00:00<00:00,  4.37it/s]\u001B[A\u001B[A\n",
      "\n",
      " 71%|███████▏  | 5/7 [00:01<00:00,  4.36it/s]\u001B[A\u001B[A\n",
      "\n",
      "100%|██████████| 7/7 [00:01<00:00,  4.98it/s]\n",
      "Processing 2025-01 queries:  86%|████████▋ | 425/492 [17:49<02:15,  2.02s/query]"
     ]
    },
    {
     "output_type": "stream",
     "name": "stdout",
     "text": [
      "WARNING! Your documents have duplicate entries!  This will slow down calculation and may yield subpar results\n"
     ]
    },
    {
     "output_type": "stream",
     "name": "stderr",
     "text": [
      "\n",
      "\n",
      "  0%|          | 0/7 [00:00<?, ?it/s]\u001B[A\u001B[A\n",
      "\n",
      " 14%|█▍        | 1/7 [00:00<00:01,  3.68it/s]\u001B[A\u001B[A\n",
      "\n",
      " 29%|██▊       | 2/7 [00:00<00:01,  4.14it/s]\u001B[A\u001B[A\n",
      "\n",
      " 43%|████▎     | 3/7 [00:00<00:00,  4.31it/s]\u001B[A\u001B[A\n",
      "\n",
      " 57%|█████▋    | 4/7 [00:00<00:00,  4.39it/s]\u001B[A\u001B[A\n",
      "\n",
      " 71%|███████▏  | 5/7 [00:01<00:00,  4.34it/s]\u001B[A\u001B[A\n",
      "\n",
      "100%|██████████| 7/7 [00:01<00:00,  4.83it/s]\n",
      "Processing 2025-01 queries:  87%|████████▋ | 426/492 [17:52<02:37,  2.38s/query]\n",
      "\n",
      "  0%|          | 0/7 [00:00<?, ?it/s]\u001B[A\u001B[A\n",
      "\n",
      " 14%|█▍        | 1/7 [00:00<00:01,  4.75it/s]\u001B[A\u001B[A\n",
      "\n",
      " 29%|██▊       | 2/7 [00:00<00:01,  4.64it/s]\u001B[A\u001B[A\n",
      "\n",
      " 43%|████▎     | 3/7 [00:00<00:00,  4.60it/s]\u001B[A\u001B[A\n",
      "\n",
      " 57%|█████▋    | 4/7 [00:00<00:00,  4.44it/s]\u001B[A\u001B[A\n",
      "\n",
      " 71%|███████▏  | 5/7 [00:01<00:00,  4.41it/s]\u001B[A\u001B[A\n",
      "\n",
      "100%|██████████| 7/7 [00:01<00:00,  4.99it/s]\n",
      "Processing 2025-01 queries:  87%|████████▋ | 427/492 [17:55<02:42,  2.50s/query]\n",
      "\n",
      "  0%|          | 0/7 [00:00<?, ?it/s]\u001B[A\u001B[A\n",
      "\n",
      " 14%|█▍        | 1/7 [00:00<00:01,  4.63it/s]\u001B[A\u001B[A\n",
      "\n",
      " 29%|██▊       | 2/7 [00:00<00:01,  4.54it/s]\u001B[A\u001B[A\n",
      "\n",
      " 43%|████▎     | 3/7 [00:00<00:00,  4.50it/s]\u001B[A\u001B[A\n",
      "\n",
      " 57%|█████▋    | 4/7 [00:00<00:00,  4.37it/s]\u001B[A\u001B[A\n",
      "\n",
      " 71%|███████▏  | 5/7 [00:01<00:00,  4.43it/s]\u001B[A\u001B[A\n",
      "\n",
      "100%|██████████| 7/7 [00:01<00:00,  5.02it/s]\n",
      "Processing 2025-01 queries:  87%|████████▋ | 428/492 [17:57<02:36,  2.45s/query]"
     ]
    },
    {
     "output_type": "stream",
     "name": "stdout",
     "text": [
      "WARNING! Your documents have duplicate entries!  This will slow down calculation and may yield subpar results\n"
     ]
    },
    {
     "output_type": "stream",
     "name": "stderr",
     "text": [
      "\n",
      "\n",
      "  0%|          | 0/7 [00:00<?, ?it/s]\u001B[A\u001B[A\n",
      "\n",
      " 14%|█▍        | 1/7 [00:00<00:01,  4.67it/s]\u001B[A\u001B[A\n",
      "\n",
      " 29%|██▊       | 2/7 [00:00<00:01,  4.57it/s]\u001B[A\u001B[A\n",
      "\n",
      " 43%|████▎     | 3/7 [00:00<00:00,  4.53it/s]\u001B[A\u001B[A\n",
      "\n",
      " 57%|█████▋    | 4/7 [00:00<00:00,  4.57it/s]\u001B[A\u001B[A\n",
      "\n",
      " 71%|███████▏  | 5/7 [00:01<00:00,  4.44it/s]\u001B[A\u001B[A\n",
      "\n",
      "100%|██████████| 7/7 [00:01<00:00,  5.06it/s]\n",
      "Processing 2025-01 queries:  87%|████████▋ | 429/492 [18:00<02:32,  2.43s/query]\n",
      "\n",
      "100%|██████████| 1/1 [00:00<00:00, 51.38it/s]\n",
      "Processing 2025-01 queries:  87%|████████▋ | 430/492 [18:01<01:59,  1.94s/query]\n",
      "\n",
      "  0%|          | 0/3 [00:00<?, ?it/s]\u001B[A\u001B[A\n",
      "\n",
      " 33%|███▎      | 1/3 [00:00<00:00,  4.67it/s]\u001B[A\u001B[A\n",
      "\n",
      " 67%|██████▋   | 2/3 [00:00<00:00,  4.60it/s]\u001B[A\u001B[A\n",
      "\n",
      "100%|██████████| 3/3 [00:00<00:00,  5.40it/s]\n",
      "Processing 2025-01 queries:  88%|████████▊ | 431/492 [18:02<01:48,  1.77s/query]"
     ]
    },
    {
     "output_type": "stream",
     "name": "stdout",
     "text": [
      "WARNING! Your documents have duplicate entries!  This will slow down calculation and may yield subpar results\n"
     ]
    },
    {
     "output_type": "stream",
     "name": "stderr",
     "text": [
      "\n",
      "\n",
      "  0%|          | 0/7 [00:00<?, ?it/s]\u001B[A\u001B[A\n",
      "\n",
      " 14%|█▍        | 1/7 [00:00<00:01,  4.63it/s]\u001B[A\u001B[A\n",
      "\n",
      " 29%|██▊       | 2/7 [00:00<00:01,  4.59it/s]\u001B[A\u001B[A\n",
      "\n",
      " 43%|████▎     | 3/7 [00:00<00:00,  4.57it/s]\u001B[A\u001B[A\n",
      "\n",
      " 57%|█████▋    | 4/7 [00:00<00:00,  4.40it/s]\u001B[A\u001B[A\n",
      "\n",
      " 71%|███████▏  | 5/7 [00:01<00:00,  4.38it/s]\u001B[A\u001B[A\n",
      "\n",
      "100%|██████████| 7/7 [00:01<00:00,  4.99it/s]\n",
      "Processing 2025-01 queries:  88%|████████▊ | 432/492 [18:05<02:03,  2.06s/query]"
     ]
    },
    {
     "output_type": "stream",
     "name": "stdout",
     "text": [
      "WARNING! Your documents have duplicate entries!  This will slow down calculation and may yield subpar results\n"
     ]
    },
    {
     "output_type": "stream",
     "name": "stderr",
     "text": [
      "\n",
      "\n",
      "  0%|          | 0/7 [00:00<?, ?it/s]\u001B[A\u001B[A\n",
      "\n",
      " 14%|█▍        | 1/7 [00:00<00:01,  4.75it/s]\u001B[A\u001B[A\n",
      "\n",
      " 29%|██▊       | 2/7 [00:00<00:01,  4.64it/s]\u001B[A\u001B[A\n",
      "\n",
      " 43%|████▎     | 3/7 [00:00<00:00,  4.60it/s]\u001B[A\u001B[A\n",
      "\n",
      " 57%|█████▋    | 4/7 [00:00<00:00,  4.42it/s]\u001B[A\u001B[A\n",
      "\n",
      " 71%|███████▏  | 5/7 [00:01<00:00,  4.35it/s]\u001B[A\u001B[A\n",
      "\n",
      "100%|██████████| 7/7 [00:01<00:00,  4.96it/s]\n",
      "Processing 2025-01 queries:  88%|████████▊ | 433/492 [18:07<02:05,  2.13s/query]\n",
      "\n",
      "  0%|          | 0/1 [00:00<?, ?it/s]\u001B[A\u001B[A\n",
      "\n",
      "100%|██████████| 1/1 [00:00<00:00,  8.77it/s]\n",
      "Processing 2025-01 queries:  88%|████████▊ | 434/492 [18:08<01:42,  1.77s/query]"
     ]
    },
    {
     "output_type": "stream",
     "name": "stdout",
     "text": [
      "WARNING! Your documents have duplicate entries!  This will slow down calculation and may yield subpar results\n"
     ]
    },
    {
     "output_type": "stream",
     "name": "stderr",
     "text": [
      "\n",
      "\n",
      "  0%|          | 0/7 [00:00<?, ?it/s]\u001B[A\u001B[A\n",
      "\n",
      " 14%|█▍        | 1/7 [00:00<00:01,  3.88it/s]\u001B[A\u001B[A\n",
      "\n",
      " 29%|██▊       | 2/7 [00:00<00:01,  4.18it/s]\u001B[A\u001B[A\n",
      "\n",
      " 43%|████▎     | 3/7 [00:00<00:00,  4.35it/s]\u001B[A\u001B[A\n",
      "\n",
      " 57%|█████▋    | 4/7 [00:00<00:00,  4.44it/s]\u001B[A\u001B[A\n",
      "\n",
      " 71%|███████▏  | 5/7 [00:01<00:00,  4.36it/s]\u001B[A\u001B[A\n",
      "\n",
      "100%|██████████| 7/7 [00:01<00:00,  4.80it/s]\n",
      "Processing 2025-01 queries:  88%|████████▊ | 435/492 [18:14<03:00,  3.16s/query]\n",
      "\n",
      "  0%|          | 0/7 [00:00<?, ?it/s]\u001B[A\u001B[A\n",
      "\n",
      " 14%|█▍        | 1/7 [00:00<00:01,  4.69it/s]\u001B[A\u001B[A\n",
      "\n",
      " 29%|██▊       | 2/7 [00:00<00:01,  4.62it/s]\u001B[A\u001B[A\n",
      "\n",
      " 43%|████▎     | 3/7 [00:00<00:00,  4.56it/s]\u001B[A\u001B[A\n",
      "\n",
      " 57%|█████▋    | 4/7 [00:00<00:00,  4.49it/s]\u001B[A\u001B[A\n",
      "\n",
      " 71%|███████▏  | 5/7 [00:01<00:00,  4.33it/s]\u001B[A\u001B[A\n",
      "\n",
      "100%|██████████| 7/7 [00:01<00:00,  4.99it/s]\n",
      "Processing 2025-01 queries:  89%|████████▊ | 436/492 [18:17<02:53,  3.10s/query]"
     ]
    },
    {
     "output_type": "stream",
     "name": "stdout",
     "text": [
      "WARNING! Your documents have duplicate entries!  This will slow down calculation and may yield subpar results\n"
     ]
    },
    {
     "output_type": "stream",
     "name": "stderr",
     "text": [
      "\n",
      "\n",
      "  0%|          | 0/7 [00:00<?, ?it/s]\u001B[A\u001B[A\n",
      "\n",
      " 14%|█▍        | 1/7 [00:00<00:01,  3.56it/s]\u001B[A\u001B[A\n",
      "\n",
      " 29%|██▊       | 2/7 [00:00<00:01,  4.06it/s]\u001B[A\u001B[A\n",
      "\n",
      " 43%|████▎     | 3/7 [00:00<00:00,  4.25it/s]\u001B[A\u001B[A\n",
      "\n",
      " 57%|█████▋    | 4/7 [00:00<00:00,  4.34it/s]\u001B[A\u001B[A\n",
      "\n",
      " 71%|███████▏  | 5/7 [00:01<00:00,  4.20it/s]\u001B[A\u001B[A\n",
      "\n",
      "100%|██████████| 7/7 [00:01<00:00,  4.69it/s]\n",
      "Processing 2025-01 queries:  89%|████████▉ | 437/492 [18:21<02:55,  3.19s/query]"
     ]
    },
    {
     "output_type": "stream",
     "name": "stdout",
     "text": [
      "WARNING! Your documents have duplicate entries!  This will slow down calculation and may yield subpar results\n"
     ]
    },
    {
     "output_type": "stream",
     "name": "stderr",
     "text": [
      "\n",
      "\n",
      "  0%|          | 0/7 [00:00<?, ?it/s]\u001B[A\u001B[A\n",
      "\n",
      " 14%|█▍        | 1/7 [00:00<00:01,  4.72it/s]\u001B[A\u001B[A\n",
      "\n",
      " 29%|██▊       | 2/7 [00:00<00:01,  4.59it/s]\u001B[A\u001B[A\n",
      "\n",
      " 43%|████▎     | 3/7 [00:00<00:00,  4.53it/s]\u001B[A\u001B[A\n",
      "\n",
      " 57%|█████▋    | 4/7 [00:00<00:00,  4.28it/s]\u001B[A\u001B[A\n",
      "\n",
      " 71%|███████▏  | 5/7 [00:01<00:00,  4.33it/s]\u001B[A\u001B[A\n",
      "\n",
      "100%|██████████| 7/7 [00:01<00:00,  4.91it/s]\n",
      "Processing 2025-01 queries:  89%|████████▉ | 438/492 [18:23<02:39,  2.96s/query]"
     ]
    },
    {
     "output_type": "stream",
     "name": "stdout",
     "text": [
      "WARNING! Your documents have duplicate entries!  This will slow down calculation and may yield subpar results\n"
     ]
    },
    {
     "output_type": "stream",
     "name": "stderr",
     "text": [
      "\n",
      "\n",
      "  0%|          | 0/7 [00:00<?, ?it/s]\u001B[A\u001B[A\n",
      "\n",
      " 14%|█▍        | 1/7 [00:00<00:01,  3.77it/s]\u001B[A\u001B[A\n",
      "\n",
      " 29%|██▊       | 2/7 [00:00<00:01,  4.17it/s]\u001B[A\u001B[A\n",
      "\n",
      " 43%|████▎     | 3/7 [00:00<00:00,  4.30it/s]\u001B[A\u001B[A\n",
      "\n",
      " 57%|█████▋    | 4/7 [00:00<00:00,  4.37it/s]\u001B[A\u001B[A\n",
      "\n",
      " 71%|███████▏  | 5/7 [00:01<00:00,  4.23it/s]\u001B[A\u001B[A\n",
      "\n",
      "100%|██████████| 7/7 [00:01<00:00,  4.72it/s]\n",
      "Processing 2025-01 queries:  89%|████████▉ | 439/492 [18:26<02:42,  3.06s/query]\n",
      "\n",
      "  0%|          | 0/7 [00:00<?, ?it/s]\u001B[A\u001B[A\n",
      "\n",
      " 14%|█▍        | 1/7 [00:00<00:01,  4.65it/s]\u001B[A\u001B[A\n",
      "\n",
      " 29%|██▊       | 2/7 [00:00<00:01,  4.53it/s]\u001B[A\u001B[A\n",
      "\n",
      " 43%|████▎     | 3/7 [00:00<00:00,  4.49it/s]\u001B[A\u001B[A\n",
      "\n",
      " 57%|█████▋    | 4/7 [00:00<00:00,  4.35it/s]\u001B[A\u001B[A\n",
      "\n",
      " 71%|███████▏  | 5/7 [00:01<00:00,  4.38it/s]\u001B[A\u001B[A\n",
      "\n",
      "100%|██████████| 7/7 [00:01<00:00,  4.97it/s]\n",
      "Processing 2025-01 queries:  89%|████████▉ | 440/492 [18:29<02:34,  2.97s/query]"
     ]
    },
    {
     "output_type": "stream",
     "name": "stdout",
     "text": [
      "INFO: Processed 440/492 queries for 2025-01. Avg time/query: 2514.31 ms.\n",
      "WARNING! Your documents have duplicate entries!  This will slow down calculation and may yield subpar results\n"
     ]
    },
    {
     "output_type": "stream",
     "name": "stderr",
     "text": [
      "\n",
      "\n",
      "  0%|          | 0/7 [00:00<?, ?it/s]\u001B[A\u001B[A\n",
      "\n",
      " 14%|█▍        | 1/7 [00:00<00:01,  4.75it/s]\u001B[A\u001B[A\n",
      "\n",
      " 29%|██▊       | 2/7 [00:00<00:01,  4.59it/s]\u001B[A\u001B[A\n",
      "\n",
      " 43%|████▎     | 3/7 [00:00<00:00,  4.54it/s]\u001B[A\u001B[A\n",
      "\n",
      " 57%|█████▋    | 4/7 [00:00<00:00,  4.26it/s]\u001B[A\u001B[A\n",
      "\n",
      " 71%|███████▏  | 5/7 [00:01<00:00,  4.30it/s]\u001B[A\u001B[A\n",
      "\n",
      "100%|██████████| 7/7 [00:01<00:00,  4.91it/s]\n",
      "Processing 2025-01 queries:  90%|████████▉ | 441/492 [18:31<02:21,  2.77s/query]\n",
      "\n",
      "  0%|          | 0/7 [00:00<?, ?it/s]\u001B[A\u001B[A\n",
      "\n",
      " 14%|█▍        | 1/7 [00:00<00:01,  3.57it/s]\u001B[A\u001B[A\n",
      "\n",
      " 29%|██▊       | 2/7 [00:00<00:01,  4.05it/s]\u001B[A\u001B[A\n",
      "\n",
      " 43%|████▎     | 3/7 [00:00<00:00,  4.22it/s]\u001B[A\u001B[A\n",
      "\n",
      " 57%|█████▋    | 4/7 [00:00<00:00,  4.31it/s]\u001B[A\u001B[A\n",
      "\n",
      " 71%|███████▏  | 5/7 [00:01<00:00,  4.19it/s]\u001B[A\u001B[A\n",
      "\n",
      "100%|██████████| 7/7 [00:01<00:00,  4.66it/s]\n",
      "Processing 2025-01 queries:  90%|████████▉ | 442/492 [18:36<02:39,  3.18s/query]\n",
      "\n",
      "  0%|          | 0/7 [00:00<?, ?it/s]\u001B[A\u001B[A\n",
      "\n",
      " 14%|█▍        | 1/7 [00:00<00:01,  3.85it/s]\u001B[A\u001B[A\n",
      "\n",
      " 29%|██▊       | 2/7 [00:00<00:01,  4.16it/s]\u001B[A\u001B[A\n",
      "\n",
      " 43%|████▎     | 3/7 [00:00<00:00,  4.27it/s]\u001B[A\u001B[A\n",
      "\n",
      " 57%|█████▋    | 4/7 [00:00<00:00,  4.33it/s]\u001B[A\u001B[A\n",
      "\n",
      " 71%|███████▏  | 5/7 [00:01<00:00,  4.18it/s]\u001B[A\u001B[A\n",
      "\n",
      "100%|██████████| 7/7 [00:01<00:00,  4.70it/s]\n",
      "Processing 2025-01 queries:  90%|█████████ | 443/492 [18:39<02:37,  3.21s/query]\n",
      "\n",
      "100%|██████████| 1/1 [00:00<00:00, 65.44it/s]\n",
      "Processing 2025-01 queries:  90%|█████████ | 444/492 [18:40<01:59,  2.49s/query]\n",
      "\n",
      "  0%|          | 0/5 [00:00<?, ?it/s]\u001B[A\u001B[A\n",
      "\n",
      " 20%|██        | 1/5 [00:00<00:00,  4.60it/s]\u001B[A\u001B[A\n",
      "\n",
      " 40%|████      | 2/5 [00:00<00:00,  4.50it/s]\u001B[A\u001B[A\n",
      "\n",
      " 60%|██████    | 3/5 [00:00<00:00,  4.45it/s]\u001B[A\u001B[A\n",
      "\n",
      " 80%|████████  | 4/5 [00:00<00:00,  4.37it/s]\u001B[A\u001B[A\n",
      "\n",
      "100%|██████████| 5/5 [00:01<00:00,  4.78it/s]\n",
      "Processing 2025-01 queries:  90%|█████████ | 445/492 [18:42<01:49,  2.33s/query]"
     ]
    },
    {
     "output_type": "stream",
     "name": "stdout",
     "text": [
      "WARNING! Your documents have duplicate entries!  This will slow down calculation and may yield subpar results\n"
     ]
    },
    {
     "output_type": "stream",
     "name": "stderr",
     "text": [
      "\n",
      "\n",
      "  0%|          | 0/7 [00:00<?, ?it/s]\u001B[A\u001B[A\n",
      "\n",
      " 14%|█▍        | 1/7 [00:00<00:01,  4.56it/s]\u001B[A\u001B[A\n",
      "\n",
      " 29%|██▊       | 2/7 [00:00<00:01,  4.50it/s]\u001B[A\u001B[A\n",
      "\n",
      " 43%|████▎     | 3/7 [00:00<00:00,  4.48it/s]\u001B[A\u001B[A\n",
      "\n",
      " 57%|█████▋    | 4/7 [00:00<00:00,  4.28it/s]\u001B[A\u001B[A\n",
      "\n",
      " 71%|███████▏  | 5/7 [00:01<00:00,  4.24it/s]\u001B[A\u001B[A\n",
      "\n",
      "100%|██████████| 7/7 [00:01<00:00,  4.84it/s]\n",
      "Processing 2025-01 queries:  91%|█████████ | 446/492 [18:44<01:53,  2.46s/query]"
     ]
    },
    {
     "output_type": "stream",
     "name": "stdout",
     "text": [
      "WARNING! Your documents have duplicate entries!  This will slow down calculation and may yield subpar results\n"
     ]
    },
    {
     "output_type": "stream",
     "name": "stderr",
     "text": [
      "\n",
      "\n",
      "  0%|          | 0/7 [00:00<?, ?it/s]\u001B[A\u001B[A\n",
      "\n",
      " 14%|█▍        | 1/7 [00:00<00:01,  4.64it/s]\u001B[A\u001B[A\n",
      "\n",
      " 29%|██▊       | 2/7 [00:00<00:01,  4.54it/s]\u001B[A\u001B[A\n",
      "\n",
      " 43%|████▎     | 3/7 [00:00<00:00,  4.50it/s]\u001B[A\u001B[A\n",
      "\n",
      " 57%|█████▋    | 4/7 [00:00<00:00,  4.30it/s]\u001B[A\u001B[A\n",
      "\n",
      " 71%|███████▏  | 5/7 [00:01<00:00,  4.30it/s]\u001B[A\u001B[A\n",
      "\n",
      "100%|██████████| 7/7 [00:01<00:00,  4.89it/s]\n",
      "Processing 2025-01 queries:  91%|█████████ | 447/492 [18:47<01:48,  2.41s/query]\n",
      "\n",
      "  0%|          | 0/7 [00:00<?, ?it/s]\u001B[A\u001B[A\n",
      "\n",
      " 14%|█▍        | 1/7 [00:00<00:01,  4.62it/s]\u001B[A\u001B[A\n",
      "\n",
      " 29%|██▊       | 2/7 [00:00<00:01,  4.50it/s]\u001B[A\u001B[A\n",
      "\n",
      " 43%|████▎     | 3/7 [00:00<00:00,  4.48it/s]\u001B[A\u001B[A\n",
      "\n",
      " 57%|█████▋    | 4/7 [00:00<00:00,  4.39it/s]\u001B[A\u001B[A\n",
      "\n",
      " 71%|███████▏  | 5/7 [00:01<00:00,  4.35it/s]\u001B[A\u001B[A\n",
      "\n",
      "100%|██████████| 7/7 [00:01<00:00,  4.94it/s]\n",
      "Processing 2025-01 queries:  91%|█████████ | 448/492 [18:49<01:44,  2.38s/query]"
     ]
    },
    {
     "output_type": "stream",
     "name": "stdout",
     "text": [
      "WARNING! Your documents have duplicate entries!  This will slow down calculation and may yield subpar results\n"
     ]
    },
    {
     "output_type": "stream",
     "name": "stderr",
     "text": [
      "\n",
      "\n",
      "  0%|          | 0/7 [00:00<?, ?it/s]\u001B[A\u001B[A\n",
      "\n",
      " 14%|█▍        | 1/7 [00:00<00:01,  3.88it/s]\u001B[A\u001B[A\n",
      "\n",
      " 29%|██▊       | 2/7 [00:00<00:01,  4.20it/s]\u001B[A\u001B[A\n",
      "\n",
      " 43%|████▎     | 3/7 [00:00<00:00,  4.33it/s]\u001B[A\u001B[A\n",
      "\n",
      " 57%|█████▋    | 4/7 [00:00<00:00,  4.37it/s]\u001B[A\u001B[A\n",
      "\n",
      " 71%|███████▏  | 5/7 [00:01<00:00,  4.27it/s]\u001B[A\u001B[A\n",
      "\n",
      "100%|██████████| 7/7 [00:01<00:00,  4.79it/s]\n",
      "Processing 2025-01 queries:  91%|█████████▏| 449/492 [18:53<02:05,  2.91s/query]\n",
      "\n",
      "100%|██████████| 1/1 [00:00<00:00, 56.93it/s]\n",
      "Processing 2025-01 queries:  91%|█████████▏| 450/492 [18:54<01:35,  2.28s/query]"
     ]
    },
    {
     "output_type": "stream",
     "name": "stdout",
     "text": [
      "WARNING! Your documents have duplicate entries!  This will slow down calculation and may yield subpar results\n"
     ]
    },
    {
     "output_type": "stream",
     "name": "stderr",
     "text": [
      "\n",
      "\n",
      "  0%|          | 0/7 [00:00<?, ?it/s]\u001B[A\u001B[A\n",
      "\n",
      " 14%|█▍        | 1/7 [00:00<00:01,  3.78it/s]\u001B[A\u001B[A\n",
      "\n",
      " 29%|██▊       | 2/7 [00:00<00:01,  4.19it/s]\u001B[A\u001B[A\n",
      "\n",
      " 43%|████▎     | 3/7 [00:00<00:00,  4.33it/s]\u001B[A\u001B[A\n",
      "\n",
      " 57%|█████▋    | 4/7 [00:00<00:00,  4.39it/s]\u001B[A\u001B[A\n",
      "\n",
      " 71%|███████▏  | 5/7 [00:01<00:00,  4.26it/s]\u001B[A\u001B[A\n",
      "\n",
      "100%|██████████| 7/7 [00:01<00:00,  4.77it/s]\n",
      "Processing 2025-01 queries:  92%|█████████▏| 451/492 [18:57<01:39,  2.44s/query]"
     ]
    },
    {
     "output_type": "stream",
     "name": "stdout",
     "text": [
      "WARNING! Your documents have duplicate entries!  This will slow down calculation and may yield subpar results\n"
     ]
    },
    {
     "output_type": "stream",
     "name": "stderr",
     "text": [
      "\n",
      "\n",
      "  0%|          | 0/3 [00:00<?, ?it/s]\u001B[A\u001B[A\n",
      "\n",
      " 33%|███▎      | 1/3 [00:00<00:00,  4.55it/s]\u001B[A\u001B[A\n",
      "\n",
      " 67%|██████▋   | 2/3 [00:00<00:00,  4.51it/s]\u001B[A\u001B[A\n",
      "\n",
      "100%|██████████| 3/3 [00:00<00:00,  4.75it/s]\n",
      "Processing 2025-01 queries:  92%|█████████▏| 452/492 [18:58<01:26,  2.15s/query]\n",
      "\n",
      "  0%|          | 0/7 [00:00<?, ?it/s]\u001B[A\u001B[A\n",
      "\n",
      " 14%|█▍        | 1/7 [00:00<00:01,  4.72it/s]\u001B[A\u001B[A\n",
      "\n",
      " 29%|██▊       | 2/7 [00:00<00:01,  4.59it/s]\u001B[A\u001B[A\n",
      "\n",
      " 43%|████▎     | 3/7 [00:00<00:00,  4.53it/s]\u001B[A\u001B[A\n",
      "\n",
      " 57%|█████▋    | 4/7 [00:00<00:00,  4.32it/s]\u001B[A\u001B[A\n",
      "\n",
      " 71%|███████▏  | 5/7 [00:01<00:00,  4.32it/s]\u001B[A\u001B[A\n",
      "\n",
      "100%|██████████| 7/7 [00:01<00:00,  4.95it/s]\n",
      "Processing 2025-01 queries:  92%|█████████▏| 453/492 [19:01<01:30,  2.33s/query]"
     ]
    },
    {
     "output_type": "stream",
     "name": "stdout",
     "text": [
      "WARNING! Your documents have duplicate entries!  This will slow down calculation and may yield subpar results\n"
     ]
    },
    {
     "output_type": "stream",
     "name": "stderr",
     "text": [
      "\n",
      "\n",
      "  0%|          | 0/7 [00:00<?, ?it/s]\u001B[A\u001B[A\n",
      "\n",
      " 14%|█▍        | 1/7 [00:00<00:01,  4.07it/s]\u001B[A\u001B[A\n",
      "\n",
      " 29%|██▊       | 2/7 [00:00<00:01,  4.36it/s]\u001B[A\u001B[A\n",
      "\n",
      " 43%|████▎     | 3/7 [00:00<00:00,  4.41it/s]\u001B[A\u001B[A\n",
      "\n",
      " 57%|█████▋    | 4/7 [00:00<00:00,  4.40it/s]\u001B[A\u001B[A\n",
      "\n",
      " 71%|███████▏  | 5/7 [00:01<00:00,  4.32it/s]\u001B[A\u001B[A\n",
      "\n",
      "100%|██████████| 7/7 [00:01<00:00,  4.85it/s]\n",
      "Processing 2025-01 queries:  92%|█████████▏| 454/492 [19:04<01:37,  2.57s/query]\n",
      "\n",
      "  0%|          | 0/4 [00:00<?, ?it/s]\u001B[A\u001B[A\n",
      "\n",
      " 25%|██▌       | 1/4 [00:00<00:00,  4.61it/s]\u001B[A\u001B[A\n",
      "\n",
      " 50%|█████     | 2/4 [00:00<00:00,  4.65it/s]\u001B[A\u001B[A\n",
      "\n",
      "100%|██████████| 4/4 [00:00<00:00,  5.87it/s]\n",
      "Processing 2025-01 queries:  92%|█████████▏| 455/492 [19:06<01:24,  2.28s/query]\n",
      "\n",
      "  0%|          | 0/6 [00:00<?, ?it/s]\u001B[A\u001B[A\n",
      "\n",
      " 17%|█▋        | 1/6 [00:00<00:01,  4.56it/s]\u001B[A\u001B[A\n",
      "\n",
      " 33%|███▎      | 2/6 [00:00<00:00,  4.51it/s]\u001B[A\u001B[A\n",
      "\n",
      " 50%|█████     | 3/6 [00:00<00:00,  4.60it/s]\u001B[A\u001B[A\n",
      "\n",
      " 67%|██████▋   | 4/6 [00:00<00:00,  4.44it/s]\u001B[A\u001B[A\n",
      "\n",
      " 83%|████████▎ | 5/6 [00:01<00:00,  4.45it/s]\u001B[A\u001B[A\n",
      "\n",
      "100%|██████████| 6/6 [00:01<00:00,  4.74it/s]\n",
      "Processing 2025-01 queries:  93%|█████████▎| 456/492 [19:08<01:25,  2.37s/query]\n",
      "\n",
      "  0%|          | 0/7 [00:00<?, ?it/s]\u001B[A\u001B[A\n",
      "\n",
      " 14%|█▍        | 1/7 [00:00<00:01,  4.50it/s]\u001B[A\u001B[A\n",
      "\n",
      " 29%|██▊       | 2/7 [00:00<00:01,  4.48it/s]\u001B[A\u001B[A\n",
      "\n",
      " 43%|████▎     | 3/7 [00:00<00:00,  4.61it/s]\u001B[A\u001B[A\n",
      "\n",
      " 57%|█████▋    | 4/7 [00:00<00:00,  4.42it/s]\u001B[A\u001B[A\n",
      "\n",
      " 71%|███████▏  | 5/7 [00:01<00:00,  4.42it/s]\u001B[A\u001B[A\n",
      "\n",
      "100%|██████████| 7/7 [00:01<00:00,  5.01it/s]\n",
      "Processing 2025-01 queries:  93%|█████████▎| 457/492 [19:11<01:27,  2.50s/query]\n",
      "\n",
      "  0%|          | 0/1 [00:00<?, ?it/s]\u001B[A\u001B[A\n",
      "\n",
      "100%|██████████| 1/1 [00:00<00:00,  6.35it/s]\n",
      "Processing 2025-01 queries:  93%|█████████▎| 458/492 [19:12<01:09,  2.03s/query]"
     ]
    },
    {
     "output_type": "stream",
     "name": "stdout",
     "text": [
      "WARNING! Your documents have duplicate entries!  This will slow down calculation and may yield subpar results\n"
     ]
    },
    {
     "output_type": "stream",
     "name": "stderr",
     "text": [
      "\n",
      "\n",
      "  0%|          | 0/7 [00:00<?, ?it/s]\u001B[A\u001B[A\n",
      "\n",
      " 14%|█▍        | 1/7 [00:00<00:01,  3.87it/s]\u001B[A\u001B[A\n",
      "\n",
      " 29%|██▊       | 2/7 [00:00<00:01,  4.18it/s]\u001B[A\u001B[A\n",
      "\n",
      " 43%|████▎     | 3/7 [00:00<00:00,  4.33it/s]\u001B[A\u001B[A\n",
      "\n",
      " 57%|█████▋    | 4/7 [00:00<00:00,  4.39it/s]\u001B[A\u001B[A\n",
      "\n",
      " 71%|███████▏  | 5/7 [00:01<00:00,  4.30it/s]\u001B[A\u001B[A\n",
      "\n",
      "100%|██████████| 7/7 [00:01<00:00,  4.81it/s]\n",
      "Processing 2025-01 queries:  93%|█████████▎| 459/492 [19:16<01:27,  2.64s/query]\n",
      "\n",
      "  0%|          | 0/7 [00:00<?, ?it/s]\u001B[A\u001B[A\n",
      "\n",
      " 14%|█▍        | 1/7 [00:00<00:01,  4.68it/s]\u001B[A\u001B[A\n",
      "\n",
      " 29%|██▊       | 2/7 [00:00<00:01,  4.60it/s]\u001B[A\u001B[A\n",
      "\n",
      " 43%|████▎     | 3/7 [00:00<00:00,  4.55it/s]\u001B[A\u001B[A\n",
      "\n",
      " 57%|█████▋    | 4/7 [00:00<00:00,  4.51it/s]\u001B[A\u001B[A\n",
      "\n",
      " 71%|███████▏  | 5/7 [00:01<00:00,  4.37it/s]\u001B[A\u001B[A\n",
      "\n",
      "100%|██████████| 7/7 [00:01<00:00,  5.00it/s]\n",
      "Processing 2025-01 queries:  93%|█████████▎| 460/492 [19:19<01:25,  2.68s/query]"
     ]
    },
    {
     "output_type": "stream",
     "name": "stdout",
     "text": [
      "INFO: Processed 460/492 queries for 2025-01. Avg time/query: 2513.13 ms.\n"
     ]
    },
    {
     "output_type": "stream",
     "name": "stderr",
     "text": [
      "\rProcessing 2025-01 queries:  94%|█████████▎| 461/492 [19:20<01:05,  2.10s/query]"
     ]
    },
    {
     "output_type": "stream",
     "name": "stdout",
     "text": [
      "WARNING! Your documents have duplicate entries!  This will slow down calculation and may yield subpar results\n"
     ]
    },
    {
     "output_type": "stream",
     "name": "stderr",
     "text": [
      "\n",
      "\n",
      "  0%|          | 0/7 [00:00<?, ?it/s]\u001B[A\u001B[A\n",
      "\n",
      " 14%|█▍        | 1/7 [00:00<00:01,  3.50it/s]\u001B[A\u001B[A\n",
      "\n",
      " 29%|██▊       | 2/7 [00:00<00:01,  4.06it/s]\u001B[A\u001B[A\n",
      "\n",
      " 43%|████▎     | 3/7 [00:00<00:00,  4.26it/s]\u001B[A\u001B[A\n",
      "\n",
      " 57%|█████▋    | 4/7 [00:00<00:00,  4.36it/s]\u001B[A\u001B[A\n",
      "\n",
      " 71%|███████▏  | 5/7 [00:01<00:00,  4.29it/s]\u001B[A\u001B[A\n",
      "\n",
      "100%|██████████| 7/7 [00:01<00:00,  4.73it/s]\n",
      "Processing 2025-01 queries:  94%|█████████▍| 462/492 [19:22<01:09,  2.32s/query]"
     ]
    },
    {
     "output_type": "stream",
     "name": "stdout",
     "text": [
      "WARNING! Your documents have duplicate entries!  This will slow down calculation and may yield subpar results\n"
     ]
    },
    {
     "output_type": "stream",
     "name": "stderr",
     "text": [
      "\n",
      "\n",
      "  0%|          | 0/7 [00:00<?, ?it/s]\u001B[A\u001B[A\n",
      "\n",
      " 14%|█▍        | 1/7 [00:00<00:01,  4.68it/s]\u001B[A\u001B[A\n",
      "\n",
      " 29%|██▊       | 2/7 [00:00<00:01,  4.58it/s]\u001B[A\u001B[A\n",
      "\n",
      " 43%|████▎     | 3/7 [00:00<00:00,  4.53it/s]\u001B[A\u001B[A\n",
      "\n",
      " 57%|█████▋    | 4/7 [00:00<00:00,  4.34it/s]\u001B[A\u001B[A\n",
      "\n",
      " 71%|███████▏  | 5/7 [00:01<00:00,  4.36it/s]\u001B[A\u001B[A\n",
      "\n",
      "100%|██████████| 7/7 [00:01<00:00,  4.97it/s]\n",
      "Processing 2025-01 queries:  94%|█████████▍| 463/492 [19:25<01:07,  2.33s/query]\n",
      "\n",
      "  0%|          | 0/7 [00:00<?, ?it/s]\u001B[A\u001B[A\n",
      "\n",
      " 14%|█▍        | 1/7 [00:00<00:01,  4.73it/s]\u001B[A\u001B[A\n",
      "\n",
      " 29%|██▊       | 2/7 [00:00<00:01,  4.56it/s]\u001B[A\u001B[A\n",
      "\n",
      " 43%|████▎     | 3/7 [00:00<00:00,  4.52it/s]\u001B[A\u001B[A\n",
      "\n",
      " 57%|█████▋    | 4/7 [00:00<00:00,  4.21it/s]\u001B[A\u001B[A\n",
      "\n",
      " 71%|███████▏  | 5/7 [00:01<00:00,  4.26it/s]\u001B[A\u001B[A\n",
      "\n",
      "100%|██████████| 7/7 [00:01<00:00,  4.93it/s]\n",
      "Processing 2025-01 queries:  94%|█████████▍| 464/492 [19:28<01:09,  2.47s/query]"
     ]
    },
    {
     "output_type": "stream",
     "name": "stdout",
     "text": [
      "WARNING! Your documents have duplicate entries!  This will slow down calculation and may yield subpar results\n"
     ]
    },
    {
     "output_type": "stream",
     "name": "stderr",
     "text": [
      "\n",
      "\n",
      "  0%|          | 0/7 [00:00<?, ?it/s]\u001B[A\u001B[A\n",
      "\n",
      " 14%|█▍        | 1/7 [00:00<00:00,  8.52it/s]\u001B[A\u001B[A\n",
      "\n",
      " 29%|██▊       | 2/7 [00:00<00:00,  8.21it/s]\u001B[A\u001B[A\n",
      "\n",
      " 43%|████▎     | 3/7 [00:00<00:00,  8.09it/s]\u001B[A\u001B[A\n",
      "\n",
      " 57%|█████▋    | 4/7 [00:00<00:00,  7.98it/s]\u001B[A\u001B[A\n",
      "\n",
      " 71%|███████▏  | 5/7 [00:00<00:00,  8.00it/s]\u001B[A\u001B[A\n",
      "\n",
      "100%|██████████| 7/7 [00:00<00:00,  8.98it/s]\n",
      "Processing 2025-01 queries:  95%|█████████▍| 465/492 [19:30<01:03,  2.34s/query]"
     ]
    },
    {
     "output_type": "stream",
     "name": "stdout",
     "text": [
      "WARNING! Your documents have duplicate entries!  This will slow down calculation and may yield subpar results\n"
     ]
    },
    {
     "output_type": "stream",
     "name": "stderr",
     "text": [
      "\n",
      "\n",
      "  0%|          | 0/7 [00:00<?, ?it/s]\u001B[A\u001B[A\n",
      "\n",
      " 14%|█▍        | 1/7 [00:00<00:01,  4.73it/s]\u001B[A\u001B[A\n",
      "\n",
      " 29%|██▊       | 2/7 [00:00<00:01,  4.59it/s]\u001B[A\u001B[A\n",
      "\n",
      " 43%|████▎     | 3/7 [00:00<00:00,  4.55it/s]\u001B[A\u001B[A\n",
      "\n",
      " 57%|█████▋    | 4/7 [00:00<00:00,  4.32it/s]\u001B[A\u001B[A\n",
      "\n",
      " 71%|███████▏  | 5/7 [00:01<00:00,  4.31it/s]\u001B[A\u001B[A\n",
      "\n",
      "100%|██████████| 7/7 [00:01<00:00,  4.93it/s]\n",
      "Processing 2025-01 queries:  95%|█████████▍| 466/492 [19:33<01:04,  2.49s/query]"
     ]
    },
    {
     "output_type": "stream",
     "name": "stdout",
     "text": [
      "WARNING! Your documents have duplicate entries!  This will slow down calculation and may yield subpar results\n"
     ]
    },
    {
     "output_type": "stream",
     "name": "stderr",
     "text": [
      "\n",
      "\n",
      "100%|██████████| 1/1 [00:00<00:00, 28.97it/s]\n",
      "Processing 2025-01 queries:  95%|█████████▍| 467/492 [19:33<00:49,  2.00s/query]\n",
      "\n",
      "  0%|          | 0/7 [00:00<?, ?it/s]\u001B[A\u001B[A\n",
      "\n",
      " 14%|█▍        | 1/7 [00:00<00:01,  3.65it/s]\u001B[A\u001B[A\n",
      "\n",
      " 29%|██▊       | 2/7 [00:00<00:01,  4.12it/s]\u001B[A\u001B[A\n",
      "\n",
      " 43%|████▎     | 3/7 [00:00<00:00,  4.29it/s]\u001B[A\u001B[A\n",
      "\n",
      " 57%|█████▋    | 4/7 [00:00<00:00,  4.37it/s]\u001B[A\u001B[A\n",
      "\n",
      " 71%|███████▏  | 5/7 [00:01<00:00,  4.34it/s]\u001B[A\u001B[A\n",
      "\n",
      "100%|██████████| 7/7 [00:01<00:00,  4.77it/s]\n",
      "Processing 2025-01 queries:  95%|█████████▌| 468/492 [19:36<00:54,  2.26s/query]\n",
      "\n",
      "  0%|          | 0/7 [00:00<?, ?it/s]\u001B[A\u001B[A\n",
      "\n",
      " 14%|█▍        | 1/7 [00:00<00:01,  4.71it/s]\u001B[A\u001B[A\n",
      "\n",
      " 29%|██▊       | 2/7 [00:00<00:01,  4.58it/s]\u001B[A\u001B[A\n",
      "\n",
      " 43%|████▎     | 3/7 [00:00<00:00,  4.51it/s]\u001B[A\u001B[A\n",
      "\n",
      " 57%|█████▋    | 4/7 [00:00<00:00,  4.29it/s]\u001B[A\u001B[A\n",
      "\n",
      " 71%|███████▏  | 5/7 [00:01<00:00,  4.29it/s]\u001B[A\u001B[A\n",
      "\n",
      "100%|██████████| 7/7 [00:01<00:00,  4.91it/s]\n",
      "Processing 2025-01 queries:  95%|█████████▌| 469/492 [19:39<00:55,  2.41s/query]"
     ]
    },
    {
     "output_type": "stream",
     "name": "stdout",
     "text": [
      "WARNING! Your documents have duplicate entries!  This will slow down calculation and may yield subpar results\n"
     ]
    },
    {
     "output_type": "stream",
     "name": "stderr",
     "text": [
      "\n",
      "\n",
      "  0%|          | 0/7 [00:00<?, ?it/s]\u001B[A\u001B[A\n",
      "\n",
      " 14%|█▍        | 1/7 [00:00<00:01,  4.64it/s]\u001B[A\u001B[A\n",
      "\n",
      " 29%|██▊       | 2/7 [00:00<00:01,  4.53it/s]\u001B[A\u001B[A\n",
      "\n",
      " 43%|████▎     | 3/7 [00:00<00:00,  4.51it/s]\u001B[A\u001B[A\n",
      "\n",
      " 57%|█████▋    | 4/7 [00:00<00:00,  4.29it/s]\u001B[A\u001B[A\n",
      "\n",
      " 71%|███████▏  | 5/7 [00:01<00:00,  4.29it/s]\u001B[A\u001B[A\n",
      "\n",
      "100%|██████████| 7/7 [00:01<00:00,  4.90it/s]\n",
      "Processing 2025-01 queries:  96%|█████████▌| 470/492 [19:41<00:52,  2.40s/query]"
     ]
    },
    {
     "output_type": "stream",
     "name": "stdout",
     "text": [
      "WARNING! Your documents have duplicate entries!  This will slow down calculation and may yield subpar results\n"
     ]
    },
    {
     "output_type": "stream",
     "name": "stderr",
     "text": [
      "\n",
      "\n",
      "  0%|          | 0/7 [00:00<?, ?it/s]\u001B[A\u001B[A\n",
      "\n",
      " 14%|█▍        | 1/7 [00:00<00:01,  4.58it/s]\u001B[A\u001B[A\n",
      "\n",
      " 29%|██▊       | 2/7 [00:00<00:01,  4.57it/s]\u001B[A\u001B[A\n",
      "\n",
      " 43%|████▎     | 3/7 [00:00<00:00,  4.56it/s]\u001B[A\u001B[A\n",
      "\n",
      " 57%|█████▋    | 4/7 [00:00<00:00,  4.39it/s]\u001B[A\u001B[A\n",
      "\n",
      " 71%|███████▏  | 5/7 [00:01<00:00,  4.33it/s]\u001B[A\u001B[A\n",
      "\n",
      "100%|██████████| 7/7 [00:01<00:00,  4.93it/s]\n",
      "Processing 2025-01 queries:  96%|█████████▌| 471/492 [19:44<00:49,  2.37s/query]"
     ]
    },
    {
     "output_type": "stream",
     "name": "stdout",
     "text": [
      "WARNING! Your documents have duplicate entries!  This will slow down calculation and may yield subpar results\n"
     ]
    },
    {
     "output_type": "stream",
     "name": "stderr",
     "text": [
      "\n",
      "\n",
      "  0%|          | 0/7 [00:00<?, ?it/s]\u001B[A\u001B[A\n",
      "\n",
      " 14%|█▍        | 1/7 [00:00<00:01,  4.69it/s]\u001B[A\u001B[A\n",
      "\n",
      " 29%|██▊       | 2/7 [00:00<00:01,  4.57it/s]\u001B[A\u001B[A\n",
      "\n",
      " 43%|████▎     | 3/7 [00:00<00:00,  4.53it/s]\u001B[A\u001B[A\n",
      "\n",
      " 57%|█████▋    | 4/7 [00:00<00:00,  4.31it/s]\u001B[A\u001B[A\n",
      "\n",
      " 71%|███████▏  | 5/7 [00:01<00:00,  4.31it/s]\u001B[A\u001B[A\n",
      "\n",
      "100%|██████████| 7/7 [00:01<00:00,  4.93it/s]\n",
      "Processing 2025-01 queries:  96%|█████████▌| 472/492 [19:46<00:49,  2.49s/query]"
     ]
    },
    {
     "output_type": "stream",
     "name": "stdout",
     "text": [
      "WARNING! Your documents have duplicate entries!  This will slow down calculation and may yield subpar results\n"
     ]
    },
    {
     "output_type": "stream",
     "name": "stderr",
     "text": [
      "\n",
      "\n",
      "  0%|          | 0/7 [00:00<?, ?it/s]\u001B[A\u001B[A\n",
      "\n",
      " 14%|█▍        | 1/7 [00:00<00:01,  4.74it/s]\u001B[A\u001B[A\n",
      "\n",
      " 29%|██▊       | 2/7 [00:00<00:01,  4.59it/s]\u001B[A\u001B[A\n",
      "\n",
      " 43%|████▎     | 3/7 [00:00<00:00,  4.53it/s]\u001B[A\u001B[A\n",
      "\n",
      " 57%|█████▋    | 4/7 [00:00<00:00,  4.31it/s]\u001B[A\u001B[A\n",
      "\n",
      " 71%|███████▏  | 5/7 [00:01<00:00,  4.30it/s]\u001B[A\u001B[A\n",
      "\n",
      "100%|██████████| 7/7 [00:01<00:00,  4.92it/s]\n",
      "Processing 2025-01 queries:  96%|█████████▌| 473/492 [19:49<00:49,  2.58s/query]"
     ]
    },
    {
     "output_type": "stream",
     "name": "stdout",
     "text": [
      "WARNING! Your documents have duplicate entries!  This will slow down calculation and may yield subpar results\n"
     ]
    },
    {
     "output_type": "stream",
     "name": "stderr",
     "text": [
      "\n",
      "\n",
      "  0%|          | 0/7 [00:00<?, ?it/s]\u001B[A\u001B[A\n",
      "\n",
      " 14%|█▍        | 1/7 [00:00<00:01,  4.62it/s]\u001B[A\u001B[A\n",
      "\n",
      " 29%|██▊       | 2/7 [00:00<00:01,  4.55it/s]\u001B[A\u001B[A\n",
      "\n",
      " 43%|████▎     | 3/7 [00:00<00:00,  4.53it/s]\u001B[A\u001B[A\n",
      "\n",
      " 57%|█████▋    | 4/7 [00:00<00:00,  4.30it/s]\u001B[A\u001B[A\n",
      "\n",
      " 71%|███████▏  | 5/7 [00:01<00:00,  4.33it/s]\u001B[A\u001B[A\n",
      "\n",
      "100%|██████████| 7/7 [00:01<00:00,  4.92it/s]\n",
      "Processing 2025-01 queries:  96%|█████████▋| 474/492 [19:52<00:45,  2.52s/query]"
     ]
    },
    {
     "output_type": "stream",
     "name": "stdout",
     "text": [
      "WARNING! Your documents have duplicate entries!  This will slow down calculation and may yield subpar results\n"
     ]
    },
    {
     "output_type": "stream",
     "name": "stderr",
     "text": [
      "\n",
      "\n",
      "  0%|          | 0/7 [00:00<?, ?it/s]\u001B[A\u001B[A\n",
      "\n",
      " 14%|█▍        | 1/7 [00:00<00:01,  4.85it/s]\u001B[A\u001B[A\n",
      "\n",
      " 29%|██▊       | 2/7 [00:00<00:01,  4.67it/s]\u001B[A\u001B[A\n",
      "\n",
      " 43%|████▎     | 3/7 [00:00<00:00,  4.62it/s]\u001B[A\u001B[A\n",
      "\n",
      " 57%|█████▋    | 4/7 [00:00<00:00,  4.38it/s]\u001B[A\u001B[A\n",
      "\n",
      " 71%|███████▏  | 5/7 [00:01<00:00,  4.39it/s]\u001B[A\u001B[A\n",
      "\n",
      "100%|██████████| 7/7 [00:01<00:00,  4.98it/s]\n",
      "Processing 2025-01 queries:  97%|█████████▋| 475/492 [19:54<00:44,  2.59s/query]\n",
      "\n",
      "  0%|          | 0/7 [00:00<?, ?it/s]\u001B[A\u001B[A\n",
      "\n",
      " 14%|█▍        | 1/7 [00:00<00:01,  4.78it/s]\u001B[A\u001B[A\n",
      "\n",
      " 29%|██▊       | 2/7 [00:00<00:01,  4.62it/s]\u001B[A\u001B[A\n",
      "\n",
      " 43%|████▎     | 3/7 [00:00<00:00,  4.56it/s]\u001B[A\u001B[A\n",
      "\n",
      " 57%|█████▋    | 4/7 [00:00<00:00,  4.33it/s]\u001B[A\u001B[A\n",
      "\n",
      " 71%|███████▏  | 5/7 [00:01<00:00,  4.28it/s]\u001B[A\u001B[A\n",
      "\n",
      "100%|██████████| 7/7 [00:01<00:00,  4.90it/s]\n",
      "Processing 2025-01 queries:  97%|█████████▋| 476/492 [19:57<00:40,  2.52s/query]\n",
      "\n",
      "  0%|          | 0/7 [00:00<?, ?it/s]\u001B[A\u001B[A\n",
      "\n",
      " 14%|█▍        | 1/7 [00:00<00:01,  4.72it/s]\u001B[A\u001B[A\n",
      "\n",
      " 29%|██▊       | 2/7 [00:00<00:01,  4.57it/s]\u001B[A\u001B[A\n",
      "\n",
      " 43%|████▎     | 3/7 [00:00<00:00,  4.52it/s]\u001B[A\u001B[A\n",
      "\n",
      " 57%|█████▋    | 4/7 [00:00<00:00,  4.20it/s]\u001B[A\u001B[A\n",
      "\n",
      " 71%|███████▏  | 5/7 [00:01<00:00,  4.28it/s]\u001B[A\u001B[A\n",
      "\n",
      "100%|██████████| 7/7 [00:01<00:00,  4.89it/s]\n",
      "Processing 2025-01 queries:  97%|█████████▋| 477/492 [19:59<00:37,  2.47s/query]"
     ]
    },
    {
     "output_type": "stream",
     "name": "stdout",
     "text": [
      "WARNING! Your documents have duplicate entries!  This will slow down calculation and may yield subpar results\n"
     ]
    },
    {
     "output_type": "stream",
     "name": "stderr",
     "text": [
      "\n",
      "\n",
      "  0%|          | 0/7 [00:00<?, ?it/s]\u001B[A\u001B[A\n",
      "\n",
      " 14%|█▍        | 1/7 [00:00<00:01,  4.56it/s]\u001B[A\u001B[A\n",
      "\n",
      " 29%|██▊       | 2/7 [00:00<00:01,  4.50it/s]\u001B[A\u001B[A\n",
      "\n",
      " 43%|████▎     | 3/7 [00:00<00:00,  4.48it/s]\u001B[A\u001B[A\n",
      "\n",
      " 57%|█████▋    | 4/7 [00:00<00:00,  4.31it/s]\u001B[A\u001B[A\n",
      "\n",
      " 71%|███████▏  | 5/7 [00:01<00:00,  4.33it/s]\u001B[A\u001B[A\n",
      "\n",
      "100%|██████████| 7/7 [00:01<00:00,  4.89it/s]\n",
      "Processing 2025-01 queries:  97%|█████████▋| 478/492 [20:01<00:34,  2.43s/query]\n",
      "\n",
      "  0%|          | 0/3 [00:00<?, ?it/s]\u001B[A\u001B[A\n",
      "\n",
      " 33%|███▎      | 1/3 [00:00<00:00,  4.56it/s]\u001B[A\u001B[A\n",
      "\n",
      " 67%|██████▋   | 2/3 [00:00<00:00,  4.63it/s]\u001B[A\u001B[A\n",
      "\n",
      "100%|██████████| 3/3 [00:00<00:00,  4.62it/s]\n",
      "Processing 2025-01 queries:  97%|█████████▋| 479/492 [20:03<00:28,  2.16s/query]"
     ]
    },
    {
     "output_type": "stream",
     "name": "stdout",
     "text": [
      "WARNING! Your documents have duplicate entries!  This will slow down calculation and may yield subpar results\n"
     ]
    },
    {
     "output_type": "stream",
     "name": "stderr",
     "text": [
      "\n",
      "\n",
      "  0%|          | 0/7 [00:00<?, ?it/s]\u001B[A\u001B[A\n",
      "\n",
      " 14%|█▍        | 1/7 [00:00<00:01,  4.68it/s]\u001B[A\u001B[A\n",
      "\n",
      " 29%|██▊       | 2/7 [00:00<00:01,  4.57it/s]\u001B[A\u001B[A\n",
      "\n",
      " 43%|████▎     | 3/7 [00:00<00:00,  4.51it/s]\u001B[A\u001B[A\n",
      "\n",
      " 57%|█████▋    | 4/7 [00:00<00:00,  4.30it/s]\u001B[A\u001B[A\n",
      "\n",
      " 71%|███████▏  | 5/7 [00:01<00:00,  4.31it/s]\u001B[A\u001B[A\n",
      "\n",
      "100%|██████████| 7/7 [00:01<00:00,  4.94it/s]\n",
      "Processing 2025-01 queries:  98%|█████████▊| 480/492 [20:06<00:28,  2.34s/query]"
     ]
    },
    {
     "output_type": "stream",
     "name": "stdout",
     "text": [
      "INFO: Processed 480/492 queries for 2025-01. Avg time/query: 2504.29 ms.\n",
      "WARNING! Your documents have duplicate entries!  This will slow down calculation and may yield subpar results\n"
     ]
    },
    {
     "output_type": "stream",
     "name": "stderr",
     "text": [
      "\n",
      "\n",
      "  0%|          | 0/7 [00:00<?, ?it/s]\u001B[A\u001B[A\n",
      "\n",
      " 14%|█▍        | 1/7 [00:00<00:01,  4.76it/s]\u001B[A\u001B[A\n",
      "\n",
      " 29%|██▊       | 2/7 [00:00<00:01,  4.62it/s]\u001B[A\u001B[A\n",
      "\n",
      " 43%|████▎     | 3/7 [00:00<00:00,  4.55it/s]\u001B[A\u001B[A\n",
      "\n",
      " 57%|█████▋    | 4/7 [00:00<00:00,  4.46it/s]\u001B[A\u001B[A\n",
      "\n",
      " 71%|███████▏  | 5/7 [00:01<00:00,  4.25it/s]\u001B[A\u001B[A\n",
      "\n",
      "100%|██████████| 7/7 [00:01<00:00,  4.90it/s]\n",
      "Processing 2025-01 queries:  98%|█████████▊| 481/492 [20:08<00:25,  2.35s/query]\n",
      "\n",
      "  0%|          | 0/7 [00:00<?, ?it/s]\u001B[A\u001B[A\n",
      "\n",
      " 14%|█▍        | 1/7 [00:00<00:01,  4.66it/s]\u001B[A\u001B[A\n",
      "\n",
      " 29%|██▊       | 2/7 [00:00<00:01,  4.57it/s]\u001B[A\u001B[A\n",
      "\n",
      " 43%|████▎     | 3/7 [00:00<00:00,  4.52it/s]\u001B[A\u001B[A\n",
      "\n",
      " 57%|█████▋    | 4/7 [00:00<00:00,  4.30it/s]\u001B[A\u001B[A\n",
      "\n",
      " 71%|███████▏  | 5/7 [00:01<00:00,  4.30it/s]\u001B[A\u001B[A\n",
      "\n",
      "100%|██████████| 7/7 [00:01<00:00,  4.91it/s]\n",
      "Processing 2025-01 queries:  98%|█████████▊| 482/492 [20:11<00:24,  2.49s/query]"
     ]
    },
    {
     "output_type": "stream",
     "name": "stdout",
     "text": [
      "WARNING! Your documents have duplicate entries!  This will slow down calculation and may yield subpar results\n"
     ]
    },
    {
     "output_type": "stream",
     "name": "stderr",
     "text": [
      "\n",
      "\n",
      "  0%|          | 0/7 [00:00<?, ?it/s]\u001B[A\u001B[A\n",
      "\n",
      " 14%|█▍        | 1/7 [00:00<00:01,  4.78it/s]\u001B[A\u001B[A\n",
      "\n",
      " 29%|██▊       | 2/7 [00:00<00:01,  4.60it/s]\u001B[A\u001B[A\n",
      "\n",
      " 43%|████▎     | 3/7 [00:00<00:00,  4.55it/s]\u001B[A\u001B[A\n",
      "\n",
      " 57%|█████▋    | 4/7 [00:00<00:00,  4.32it/s]\u001B[A\u001B[A\n",
      "\n",
      " 71%|███████▏  | 5/7 [00:01<00:00,  4.31it/s]\u001B[A\u001B[A\n",
      "\n",
      "100%|██████████| 7/7 [00:01<00:00,  4.95it/s]\n",
      "Processing 2025-01 queries:  98%|█████████▊| 483/492 [20:14<00:23,  2.57s/query]"
     ]
    },
    {
     "output_type": "stream",
     "name": "stdout",
     "text": [
      "WARNING! Your documents have duplicate entries!  This will slow down calculation and may yield subpar results\n"
     ]
    },
    {
     "output_type": "stream",
     "name": "stderr",
     "text": [
      "\n",
      "\n",
      "  0%|          | 0/7 [00:00<?, ?it/s]\u001B[A\u001B[A\n",
      "\n",
      " 14%|█▍        | 1/7 [00:00<00:01,  4.75it/s]\u001B[A\u001B[A\n",
      "\n",
      " 29%|██▊       | 2/7 [00:00<00:01,  4.60it/s]\u001B[A\u001B[A\n",
      "\n",
      " 43%|████▎     | 3/7 [00:00<00:00,  4.54it/s]\u001B[A\u001B[A\n",
      "\n",
      " 57%|█████▋    | 4/7 [00:00<00:00,  4.25it/s]\u001B[A\u001B[A\n",
      "\n",
      " 71%|███████▏  | 5/7 [00:01<00:00,  4.31it/s]\u001B[A\u001B[A\n",
      "\n",
      "100%|██████████| 7/7 [00:01<00:00,  4.92it/s]\n",
      "Processing 2025-01 queries:  98%|█████████▊| 484/492 [20:16<00:19,  2.50s/query]\n",
      "\n",
      "  0%|          | 0/7 [00:00<?, ?it/s]\u001B[A\u001B[A\n",
      "\n",
      " 14%|█▍        | 1/7 [00:00<00:01,  3.64it/s]\u001B[A\u001B[A\n",
      "\n",
      " 29%|██▊       | 2/7 [00:00<00:01,  4.15it/s]\u001B[A\u001B[A\n",
      "\n",
      " 43%|████▎     | 3/7 [00:00<00:00,  4.30it/s]\u001B[A\u001B[A\n",
      "\n",
      " 57%|█████▋    | 4/7 [00:00<00:00,  4.38it/s]\u001B[A\u001B[A\n",
      "\n",
      " 71%|███████▏  | 5/7 [00:01<00:00,  4.24it/s]\u001B[A\u001B[A\n",
      "\n",
      "100%|██████████| 7/7 [00:01<00:00,  4.75it/s]\n",
      "Processing 2025-01 queries:  99%|█████████▊| 485/492 [20:20<00:20,  2.87s/query]"
     ]
    },
    {
     "output_type": "stream",
     "name": "stdout",
     "text": [
      "WARNING! Your documents have duplicate entries!  This will slow down calculation and may yield subpar results\n"
     ]
    },
    {
     "output_type": "stream",
     "name": "stderr",
     "text": [
      "\n",
      "\n",
      "  0%|          | 0/7 [00:00<?, ?it/s]\u001B[A\u001B[A\n",
      "\n",
      " 14%|█▍        | 1/7 [00:00<00:01,  4.69it/s]\u001B[A\u001B[A\n",
      "\n",
      " 29%|██▊       | 2/7 [00:00<00:01,  4.60it/s]\u001B[A\u001B[A\n",
      "\n",
      " 43%|████▎     | 3/7 [00:00<00:00,  4.58it/s]\u001B[A\u001B[A\n",
      "\n",
      " 57%|█████▋    | 4/7 [00:00<00:00,  4.33it/s]\u001B[A\u001B[A\n",
      "\n",
      " 71%|███████▏  | 5/7 [00:01<00:00,  4.36it/s]\u001B[A\u001B[A\n",
      "\n",
      "100%|██████████| 7/7 [00:01<00:00,  4.96it/s]\n",
      "Processing 2025-01 queries:  99%|█████████▉| 486/492 [20:23<00:17,  2.84s/query]"
     ]
    },
    {
     "output_type": "stream",
     "name": "stdout",
     "text": [
      "WARNING! Your documents have duplicate entries!  This will slow down calculation and may yield subpar results\n"
     ]
    },
    {
     "output_type": "stream",
     "name": "stderr",
     "text": [
      "\n",
      "\n",
      "  0%|          | 0/7 [00:00<?, ?it/s]\u001B[A\u001B[A\n",
      "\n",
      " 14%|█▍        | 1/7 [00:00<00:01,  4.65it/s]\u001B[A\u001B[A\n",
      "\n",
      " 29%|██▊       | 2/7 [00:00<00:01,  4.56it/s]\u001B[A\u001B[A\n",
      "\n",
      " 43%|████▎     | 3/7 [00:00<00:00,  4.55it/s]\u001B[A\u001B[A\n",
      "\n",
      " 57%|█████▋    | 4/7 [00:00<00:00,  4.40it/s]\u001B[A\u001B[A\n",
      "\n",
      " 71%|███████▏  | 5/7 [00:01<00:00,  4.37it/s]\u001B[A\u001B[A\n",
      "\n",
      "100%|██████████| 7/7 [00:01<00:00,  4.98it/s]\n",
      "Processing 2025-01 queries:  99%|█████████▉| 487/492 [20:25<00:14,  2.80s/query]\n",
      "\n",
      "  0%|          | 0/7 [00:00<?, ?it/s]\u001B[A\u001B[A\n",
      "\n",
      " 14%|█▍        | 1/7 [00:00<00:01,  4.59it/s]\u001B[A\u001B[A\n",
      "\n",
      " 29%|██▊       | 2/7 [00:00<00:01,  4.56it/s]\u001B[A\u001B[A\n",
      "\n",
      " 43%|████▎     | 3/7 [00:00<00:00,  4.57it/s]\u001B[A\u001B[A\n",
      "\n",
      " 57%|█████▋    | 4/7 [00:00<00:00,  4.35it/s]\u001B[A\u001B[A\n",
      "\n",
      " 71%|███████▏  | 5/7 [00:01<00:00,  4.35it/s]\u001B[A\u001B[A\n",
      "\n",
      "100%|██████████| 7/7 [00:01<00:00,  4.93it/s]\n",
      "Processing 2025-01 queries:  99%|█████████▉| 488/492 [20:27<00:10,  2.64s/query]"
     ]
    },
    {
     "output_type": "stream",
     "name": "stdout",
     "text": [
      "WARNING! Your documents have duplicate entries!  This will slow down calculation and may yield subpar results\n"
     ]
    },
    {
     "output_type": "stream",
     "name": "stderr",
     "text": [
      "\n",
      "\n",
      "  0%|          | 0/5 [00:00<?, ?it/s]\u001B[A\u001B[A\n",
      "\n",
      " 20%|██        | 1/5 [00:00<00:00,  4.78it/s]\u001B[A\u001B[A\n",
      "\n",
      " 40%|████      | 2/5 [00:00<00:00,  4.60it/s]\u001B[A\u001B[A\n",
      "\n",
      " 60%|██████    | 3/5 [00:00<00:00,  4.54it/s]\u001B[A\u001B[A\n",
      "\n",
      "100%|██████████| 5/5 [00:00<00:00,  5.26it/s]\n",
      "Processing 2025-01 queries:  99%|█████████▉| 489/492 [20:29<00:07,  2.40s/query]\n",
      "\n",
      "  0%|          | 0/3 [00:00<?, ?it/s]\u001B[A\u001B[A\n",
      "\n",
      " 33%|███▎      | 1/3 [00:00<00:00,  4.69it/s]\u001B[A\u001B[A\n",
      "\n",
      "100%|██████████| 3/3 [00:00<00:00,  6.72it/s]\n",
      "Processing 2025-01 queries: 100%|█████████▉| 490/492 [20:31<00:04,  2.06s/query]"
     ]
    },
    {
     "output_type": "stream",
     "name": "stdout",
     "text": [
      "WARNING! Your documents have duplicate entries!  This will slow down calculation and may yield subpar results\n"
     ]
    },
    {
     "output_type": "stream",
     "name": "stderr",
     "text": [
      "\n",
      "\n",
      "  0%|          | 0/7 [00:00<?, ?it/s]\u001B[A\u001B[A\n",
      "\n",
      " 14%|█▍        | 1/7 [00:00<00:01,  4.74it/s]\u001B[A\u001B[A\n",
      "\n",
      " 29%|██▊       | 2/7 [00:00<00:01,  4.62it/s]\u001B[A\u001B[A\n",
      "\n",
      " 43%|████▎     | 3/7 [00:00<00:00,  4.58it/s]\u001B[A\u001B[A\n",
      "\n",
      " 57%|█████▋    | 4/7 [00:00<00:00,  4.32it/s]\u001B[A\u001B[A\n",
      "\n",
      " 71%|███████▏  | 5/7 [00:01<00:00,  4.33it/s]\u001B[A\u001B[A\n",
      "\n",
      "100%|██████████| 7/7 [00:01<00:00,  4.96it/s]\n",
      "Processing 2025-01 queries: 100%|█████████▉| 491/492 [20:33<00:02,  2.25s/query]\n",
      "\n",
      "  0%|          | 0/7 [00:00<?, ?it/s]\u001B[A\u001B[A\n",
      "\n",
      " 14%|█▍        | 1/7 [00:00<00:01,  4.78it/s]\u001B[A\u001B[A\n",
      "\n",
      " 29%|██▊       | 2/7 [00:00<00:01,  4.64it/s]\u001B[A\u001B[A\n",
      "\n",
      " 43%|████▎     | 3/7 [00:00<00:00,  4.58it/s]\u001B[A\u001B[A\n",
      "\n",
      " 57%|█████▋    | 4/7 [00:00<00:00,  4.53it/s]\u001B[A\u001B[A\n",
      "\n",
      " 71%|███████▏  | 5/7 [00:01<00:00,  4.33it/s]\u001B[A\u001B[A\n",
      "\n",
      "100%|██████████| 7/7 [00:01<00:00,  4.97it/s]\n",
      "Processing 2025-01 queries: 100%|██████████| 492/492 [20:36<00:00,  2.51s/query]\n"
     ]
    },
    {
     "output_type": "stream",
     "name": "stdout",
     "text": [
      "INFO: Finished processing for 2025-01. Processed 492 queries. Avg time/query: 2505.01 ms.\n",
      "INFO: Generating TREC run file at /content/drive/MyDrive/AIR_Project/colbert_pipeline_output/YOUR-SUBMISSION-BM25-ColBERT/2025-01/run.txt with tag 'BM25_ColBERTv2_ReRanker_v1'...\n",
      "INFO: TREC run file saved to /content/drive/MyDrive/AIR_Project/colbert_pipeline_output/YOUR-SUBMISSION-BM25-ColBERT/2025-01/run.txt, 42879 lines written.\n",
      "INFO: Compressing run.txt to run.txt.gz in /content/drive/MyDrive/AIR_Project/colbert_pipeline_output/YOUR-SUBMISSION-BM25-ColBERT/2025-01...\n",
      "INFO: Successfully compressed and removed original run file for 2025-01.\n",
      "\n",
      "INFO: Two-stage pipeline finished. Submission files generated in: /content/drive/MyDrive/AIR_Project/colbert_pipeline_output/YOUR-SUBMISSION-BM25-ColBERT\n",
      "INFO: Remember to create the 'ir-metadata.yml' file in '/content/drive/MyDrive/AIR_Project/colbert_pipeline_output/YOUR-SUBMISSION-BM25-ColBERT' manually if required for submission.\n",
      "INFO: Total pipeline execution time: 3812.37 seconds.\n"
     ]
    }
   ],
   "source": [
    "import os\n",
    "import json\n",
    "from pathlib import Path\n",
    "import collections\n",
    "from typing import Dict, List, Tuple, Any\n",
    "import sys\n",
    "import time\n",
    "import gzip\n",
    "import shutil\n",
    "import torch\n",
    "import pickle\n",
    "from tqdm import tqdm\n",
    "from ragatouille import RAGPretrainedModel\n",
    "from rank_bm25 import BM25Okapi\n",
    "import re\n",
    "import nltk\n",
    "nltk.download('punkt')\n",
    "nltk.download('stopwords')\n",
    "nltk.download('punkt_tab')\n",
    "\n",
    "USE_GOOGLE_DRIVE = True\n",
    "\n",
    "DATA_DIR_NAME = \"longeval_sci_testing_2025_abstract\"\n",
    "RAGATOUILLE_COLBERT_MODEL_CACHE_SUBDIR = \"colbert_model_cache\"\n",
    "BM25_CACHE_SUBDIR = \"bm25_token_cache\"\n",
    "\n",
    "BM25_K1 = 1.5\n",
    "BM25_B = 0.75\n",
    "BM25_REMOVE_STOPWORDS = True\n",
    "BM25_ENABLE_STEMMING = True\n",
    "BM25_TOP_K_CANDIDATES = 200\n",
    "\n",
    "COLBERT_MODEL_NAME = \"colbert-ir/colbertv2.0\"\n",
    "RUN_TAG = \"BM25_ColBERTv2_ReRanker_v1\"\n",
    "MAX_SEQ_LENGTH = 512\n",
    "MAX_AUTHORS_IN_INPUT = 3\n",
    "K_RETRIEVAL = 100\n",
    "\n",
    "# --- NLTK Resource Setup ---\n",
    "nltk_data_path_user = os.path.join(os.path.expanduser(\"~\"), \"nltk_data\")\n",
    "if nltk_data_path_user not in nltk.data.path:\n",
    "    nltk.data.path.append(nltk_data_path_user)\n",
    "os.makedirs(nltk_data_path_user, exist_ok=True)\n",
    "\n",
    "def ensure_nltk_resource(resource_name_in_find: str, download_package_name: str):\n",
    "    try:\n",
    "        nltk.data.find(resource_name_in_find)\n",
    "        print(f\"INFO: NLTK resource '{resource_name_in_find}' found.\")\n",
    "    except (LookupError, nltk.downloader.DownloadError) as e:\n",
    "        print(f\"INFO: NLTK resource '{resource_name_in_find}' not found (Error: {e}). Attempting to download '{download_package_name}'...\")\n",
    "        try:\n",
    "            nltk.download(download_package_name, quiet=False)\n",
    "            nltk.data.find(resource_name_in_find)\n",
    "            print(f\"INFO: NLTK resource '{download_package_name}' downloaded and verified as '{resource_name_in_find}'.\")\n",
    "        except Exception as e_download:\n",
    "            print(f\"ERROR: Failed to download or verify NLTK resource '{download_package_name}' for '{resource_name_in_find}': {e_download}\")\n",
    "            print(\"Please ensure NLTK resources can be downloaded and accessed. The script might fail.\")\n",
    "\n",
    "ensure_nltk_resource('tokenizers/punkt', 'punkt')\n",
    "if BM25_REMOVE_STOPWORDS:\n",
    "    ensure_nltk_resource('corpora/stopwords', 'stopwords')\n",
    "# --- End NLTK Resource Setup ---\n",
    "\n",
    "english_stopwords_global = []\n",
    "if BM25_REMOVE_STOPWORDS:\n",
    "    from nltk.corpus import stopwords as nltk_stopwords_import\n",
    "    english_stopwords_global = nltk_stopwords_import.words('english')\n",
    "\n",
    "stemmer_global = None\n",
    "if BM25_ENABLE_STEMMING:\n",
    "    from nltk.stem import PorterStemmer\n",
    "    stemmer_global = PorterStemmer()\n",
    "\n",
    "if USE_GOOGLE_DRIVE:\n",
    "    try:\n",
    "        from google.colab import drive\n",
    "    except ImportError:\n",
    "        print(\"ERROR: google.colab.drive module not found. Set USE_GOOGLE_DRIVE to False or run in a Colab environment.\")\n",
    "        sys.exit(1)\n",
    "\n",
    "if USE_GOOGLE_DRIVE:\n",
    "    GOOGLE_DRIVE_PROJECT_ROOT = Path(\"/content/drive/MyDrive/AIR_Project/\")\n",
    "    DATA_DIR = GOOGLE_DRIVE_PROJECT_ROOT / DATA_DIR_NAME\n",
    "    OUTPUT_DIR = GOOGLE_DRIVE_PROJECT_ROOT / \"colbert_pipeline_output\" / \"YOUR-SUBMISSION-BM25-ColBERT\"\n",
    "    COLBERT_MODEL_CACHE_PATH = GOOGLE_DRIVE_PROJECT_ROOT / \"colbert_pipeline_output\" / RAGATOUILLE_COLBERT_MODEL_CACHE_SUBDIR\n",
    "else:\n",
    "    SCRIPT_DIR = Path.cwd()\n",
    "    DATA_DIR = SCRIPT_DIR / DATA_DIR_NAME\n",
    "    OUTPUT_DIR = Path(\"./YOUR-SUBMISSION-BM25-ColBERT\")\n",
    "    COLBERT_MODEL_CACHE_PATH = OUTPUT_DIR / RAGATOUILLE_COLBERT_MODEL_CACHE_SUBDIR\n",
    "\n",
    "QUERIES_FILE_2024_11 = DATA_DIR / \"queries_2024-11_test.txt\"\n",
    "QUERIES_FILE_2025_01 = DATA_DIR / \"queries_2025-01_test.txt\"\n",
    "DOCUMENTS_DIR = DATA_DIR / \"documents\"\n",
    "\n",
    "def bm25_tokenizer(text: str) -> List[str]:\n",
    "    text = text.lower()\n",
    "    text = re.sub(r'[^\\w\\s]', '', text)\n",
    "    tokens = nltk.word_tokenize(text)\n",
    "    if BM25_REMOVE_STOPWORDS:\n",
    "        tokens = [token for token in tokens if token not in english_stopwords_global]\n",
    "    if BM25_ENABLE_STEMMING and stemmer_global:\n",
    "        tokens = [stemmer_global.stem(token) for token in tokens]\n",
    "    return tokens\n",
    "\n",
    "def mount_drive_and_verify_paths(data_dir_path: Path, queries_file_2024_11_path: Path,\n",
    "                                 queries_file_2025_01_path: Path, docs_dir_path: Path) -> bool:\n",
    "    try:\n",
    "        drive.mount('/content/drive', force_remount=True)\n",
    "        print(\"INFO: Google Drive mounted successfully.\")\n",
    "    except Exception as e:\n",
    "        print(f\"ERROR: Failed to mount Google Drive: {e}\")\n",
    "        print(\"INFO: If error persists, try 'Runtime -> Factory reset runtime' in Colab.\")\n",
    "        return False\n",
    "    return verify_common_paths(\"Google Drive\", data_dir_path, queries_file_2024_11_path, queries_file_2025_01_path, docs_dir_path)\n",
    "\n",
    "def verify_local_paths(data_dir_path: Path, queries_file_2024_11_path: Path,\n",
    "                       queries_file_2025_01_path: Path, docs_dir_path: Path) -> bool:\n",
    "    print(\"INFO: Verifying local paths...\")\n",
    "    return verify_common_paths(\"Local\", data_dir_path, queries_file_2024_11_path, queries_file_2025_01_path, docs_dir_path)\n",
    "\n",
    "def verify_common_paths(env_type: str, data_dir_path: Path, queries_file_2024_11_path: Path,\n",
    "                        queries_file_2025_01_path: Path, docs_dir_path: Path) -> bool:\n",
    "    paths_to_check = {\n",
    "        f\"{env_type} Dataset directory\": data_dir_path,\n",
    "        f\"{env_type} Queries file 2024-11\": queries_file_2024_11_path,\n",
    "        f\"{env_type} Queries file 2025-01\": queries_file_2025_01_path,\n",
    "        f\"{env_type} Documents directory\": docs_dir_path\n",
    "    }\n",
    "    all_exist = True\n",
    "    for name, path_val in paths_to_check.items():\n",
    "        display_path = path_val.resolve() if not str(path_val).startswith(\"/content/drive\") else path_val\n",
    "        is_dir_check = name.endswith(\"Documents directory\") or name.endswith(\"Dataset directory\")\n",
    "\n",
    "        if is_dir_check and not path_val.is_dir():\n",
    "            print(f\"ERROR: {name} directory not found at: {display_path}\")\n",
    "            all_exist = False\n",
    "        elif not is_dir_check and not path_val.exists():\n",
    "            print(f\"ERROR: {name} file not found at: {display_path}\")\n",
    "            all_exist = False\n",
    "\n",
    "    if all_exist:\n",
    "        print(f\"INFO: All required {env_type.lower()} paths verified successfully.\")\n",
    "    else:\n",
    "        print(f\"ERROR: One or more required {env_type.lower()} paths are missing. Base data directory expected at: {data_dir_path}\")\n",
    "    return all_exist\n",
    "\n",
    "def load_queries(file_path: Path) -> Dict[str, str]:\n",
    "    queries = {}\n",
    "    display_path = file_path.resolve() if not str(file_path).startswith(\"/content/drive\") else file_path\n",
    "    print(f\"INFO: Attempting to load queries from {display_path}...\")\n",
    "    try:\n",
    "        with open(file_path, 'r', encoding='utf-8') as f:\n",
    "            for i, line in enumerate(f):\n",
    "                parts = line.strip().split('\\t', 1)\n",
    "                if len(parts) == 2:\n",
    "                    query_id, query_text = parts\n",
    "                    queries[query_id] = query_text\n",
    "                else:\n",
    "                    print(f\"WARNING: Skipping malformed line #{i+1} in queries file ({file_path.name}): {line.strip()}\")\n",
    "        print(f\"INFO: Successfully loaded {len(queries)} queries from {file_path.name}.\")\n",
    "    except FileNotFoundError:\n",
    "        print(f\"ERROR: Queries file not found: {display_path}\")\n",
    "    except Exception as e:\n",
    "        print(f\"ERROR: Error loading queries from {display_path}: {e}\")\n",
    "    return queries\n",
    "\n",
    "def load_and_prepare_documents(docs_dir_path: Path, batch_size_info_log: int = 10000) -> Tuple[Dict[str, str], List[str], List[str]]:\n",
    "    doc_id_to_text_map = {}\n",
    "    corpus_texts_for_bm25 = []\n",
    "    corpus_doc_ids_for_bm25 = []\n",
    "\n",
    "    display_docs_dir_path = docs_dir_path.resolve() if not str(docs_dir_path).startswith(\"/content/drive\") else docs_dir_path\n",
    "    if not docs_dir_path.is_dir():\n",
    "        print(f\"ERROR: Documents directory not found: {display_docs_dir_path}\")\n",
    "        return {}, [], []\n",
    "\n",
    "    jsonl_files = list(docs_dir_path.glob('*.jsonl'))\n",
    "    if not jsonl_files:\n",
    "        jsonl_files = list(docs_dir_path.glob('*.jsonl.gz'))\n",
    "        if jsonl_files:\n",
    "            print(f\"INFO: Found .jsonl.gz files, will decompress on the fly.\")\n",
    "        else:\n",
    "            print(f\"WARNING: No .jsonl or .jsonl.gz files found in document directory: {display_docs_dir_path}\")\n",
    "            return {}, [], []\n",
    "\n",
    "    print(f\"INFO: Preparing documents from {len(jsonl_files)} files in {display_docs_dir_path}...\")\n",
    "    total_docs_processed_in_files = 0\n",
    "\n",
    "    for file_idx, data_file in enumerate(tqdm(jsonl_files, desc=\"Loading document files\", unit=\"file\")):\n",
    "        open_func = open\n",
    "        if str(data_file).endswith(\".gz\"):\n",
    "            open_func = gzip.open\n",
    "\n",
    "        try:\n",
    "            with open_func(data_file, 'rt', encoding='utf-8') as f:\n",
    "                for line_idx, line in enumerate(f):\n",
    "                    try:\n",
    "                        doc_data = json.loads(line)\n",
    "                        doc_id = str(doc_data.get(\"id\"))\n",
    "                        if not doc_id:\n",
    "                            print(f\"WARNING: Document in {data_file.name} line {line_idx+1} has no ID. Skipping.\")\n",
    "                            continue\n",
    "\n",
    "                        title = doc_data.get(\"title\", \"\")\n",
    "                        abstract = doc_data.get(\"abstract\", \"\")\n",
    "\n",
    "                        doc_parts = [title, abstract]\n",
    "                        document_text_input = \" [SEP] \".join(part for part in doc_parts if part and part.strip()).strip()\n",
    "\n",
    "                        if document_text_input:\n",
    "                            if doc_id not in doc_id_to_text_map:\n",
    "                                doc_id_to_text_map[doc_id] = document_text_input\n",
    "                                corpus_texts_for_bm25.append(document_text_input)\n",
    "                                corpus_doc_ids_for_bm25.append(doc_id)\n",
    "                                total_docs_processed_in_files +=1\n",
    "                                if total_docs_processed_in_files % batch_size_info_log == 0:\n",
    "                                    print(f\"INFO: Loaded and prepared {total_docs_processed_in_files} documents so far...\")\n",
    "                        else:\n",
    "                            print(f\"WARNING: Document ID {doc_id} in {data_file.name} has no content after processing. Skipping.\")\n",
    "\n",
    "                    except json.JSONDecodeError:\n",
    "                        print(f\"WARNING: Skipping malformed JSON line in {data_file.name} (line {line_idx+1})\")\n",
    "                        continue\n",
    "                    except Exception as e_doc:\n",
    "                        print(f\"WARNING: Error processing a document in {data_file.name} (line {line_idx+1}): {e_doc}\")\n",
    "        except Exception as e_file:\n",
    "            print(f\"ERROR: Error reading or processing file {data_file}: {e_file}\")\n",
    "\n",
    "    if corpus_texts_for_bm25:\n",
    "        print(f\"INFO: Successfully loaded and prepared a total of {len(corpus_texts_for_bm25)} unique documents.\")\n",
    "    else:\n",
    "        print(\"WARNING: No documents were loaded. The corpus is empty.\")\n",
    "    return doc_id_to_text_map, corpus_texts_for_bm25, corpus_doc_ids_for_bm25\n",
    "\n",
    "def generate_trec_run_file(run_data: Dict[str, Dict[str, float]], output_file_path: Path, run_tag_for_file: str):\n",
    "    display_output_file_path = output_file_path.resolve() if not str(output_file_path).startswith(\"/content/drive\") else output_file_path\n",
    "    print(f\"INFO: Generating TREC run file at {display_output_file_path} with tag '{run_tag_for_file}'...\")\n",
    "    lines_written = 0\n",
    "    try:\n",
    "        with open(output_file_path, 'w', encoding='utf-8') as f_out:\n",
    "            for q_id, doc_scores in run_data.items():\n",
    "                sorted_docs = sorted(doc_scores.items(), key=lambda item: item[1], reverse=True)\n",
    "                for rank, (doc_id, score) in enumerate(sorted_docs[:K_RETRIEVAL], 1):\n",
    "                    f_out.write(f\"{q_id} Q0 {doc_id} {rank} {score:.6f} {run_tag_for_file}\\n\")\n",
    "                    lines_written +=1\n",
    "        print(f\"INFO: TREC run file saved to {display_output_file_path}, {lines_written} lines written.\")\n",
    "    except Exception as e:\n",
    "        print(f\"ERROR: Failed to write TREC run file to {display_output_file_path}: {e}\")\n",
    "\n",
    "def main_bm25_colbert_rerank_pipeline():\n",
    "    print(f\"INFO: Starting BM25 + ColBERT Re-ranking pipeline. Using Google Drive: {USE_GOOGLE_DRIVE}\")\n",
    "    display_data_dir = DATA_DIR.resolve() if not str(DATA_DIR).startswith(\"/content/drive\") else DATA_DIR\n",
    "    display_output_dir = OUTPUT_DIR.resolve() if not str(OUTPUT_DIR).startswith(\"/content/drive\") else OUTPUT_DIR\n",
    "    print(f\"INFO: Data is expected in: {display_data_dir}\")\n",
    "    print(f\"INFO: Output will be generated in: {display_output_dir}\")\n",
    "\n",
    "    OUTPUT_DIR.mkdir(parents=True, exist_ok=True)\n",
    "    path_2024_11 = OUTPUT_DIR / \"2024-11\"\n",
    "    path_2025_01 = OUTPUT_DIR / \"2025-01\"\n",
    "    path_2024_11.mkdir(parents=True, exist_ok=True)\n",
    "    path_2025_01.mkdir(parents=True, exist_ok=True)\n",
    "\n",
    "    COLBERT_MODEL_CACHE_PATH.mkdir(parents=True, exist_ok=True)\n",
    "    print(f\"INFO: ColBERT model cache path: {COLBERT_MODEL_CACHE_PATH}\")\n",
    "\n",
    "    bm25_cache_dir = OUTPUT_DIR / BM25_CACHE_SUBDIR\n",
    "    bm25_cache_dir.mkdir(parents=True, exist_ok=True)\n",
    "    print(f\"INFO: BM25 tokenization cache directory: {bm25_cache_dir}\")\n",
    "\n",
    "\n",
    "    if USE_GOOGLE_DRIVE:\n",
    "        if 'drive' not in globals():\n",
    "            print(\"CRITICAL: Google Drive module ('drive') not available. Halting pipeline.\")\n",
    "            return\n",
    "        if not mount_drive_and_verify_paths(DATA_DIR, QUERIES_FILE_2024_11, QUERIES_FILE_2025_01, DOCUMENTS_DIR):\n",
    "            print(\"CRITICAL: Google Drive Path verification or mount failed. Halting pipeline.\")\n",
    "            return\n",
    "    else:\n",
    "        if not verify_local_paths(DATA_DIR, QUERIES_FILE_2024_11, QUERIES_FILE_2025_01, DOCUMENTS_DIR):\n",
    "            print(\"CRITICAL: Local Path verification failed. Halting pipeline.\")\n",
    "            return\n",
    "\n",
    "    print(\"INFO: Loading and preparing all documents...\")\n",
    "    doc_id_to_text_map, corpus_texts_for_bm25, corpus_doc_ids_for_bm25 = load_and_prepare_documents(DOCUMENTS_DIR, batch_size_info_log=50000)\n",
    "\n",
    "    if not corpus_texts_for_bm25:\n",
    "        print(\"ERROR: No documents were loaded. Halting pipeline.\")\n",
    "        return\n",
    "    print(f\"INFO: Total documents loaded: {len(corpus_texts_for_bm25)}\")\n",
    "\n",
    "    # --- BM25 Setup with Caching ---\n",
    "    start_bm25_setup_time = time.time()\n",
    "\n",
    "    cache_filename_parts = [\n",
    "        \"bm25_tokenized_data\",\n",
    "        f\"docs_{len(corpus_doc_ids_for_bm25)}\",\n",
    "        f\"stopwords_{BM25_REMOVE_STOPWORDS}\",\n",
    "        f\"stemming_{BM25_ENABLE_STEMMING}\",\n",
    "    ]\n",
    "    bm25_token_cache_file = bm25_cache_dir / (\"_\".join(cache_filename_parts) + \".pkl\")\n",
    "\n",
    "    if bm25_token_cache_file.exists():\n",
    "        print(f\"INFO: Loading tokenized BM25 corpus from cache: {bm25_token_cache_file}\")\n",
    "        try:\n",
    "            with open(bm25_token_cache_file, 'rb') as f_cache:\n",
    "                cached_data = pickle.load(f_cache)\n",
    "            unique_corpus_for_bm25_model = cached_data['unique_corpus']\n",
    "            original_idx_to_unique_idx_map = cached_data['original_idx_to_unique_idx_map']\n",
    "            print(f\"INFO: Loaded {len(unique_corpus_for_bm25_model)} unique tokenized docs from cache.\")\n",
    "        except Exception as e_cache_load:\n",
    "            print(f\"WARNING: Failed to load BM25 cache from {bm25_token_cache_file} (Error: {e_cache_load}). Re-processing...\")\n",
    "            bm25_token_cache_file.unlink(missing_ok=True)\n",
    "            # Fall through to re-processing block\n",
    "\n",
    "    if not bm25_token_cache_file.exists(): # Check again in case loading failed and file was deleted\n",
    "        print(\"INFO: BM25 tokenized corpus cache not found or failed to load. Processing from scratch...\")\n",
    "\n",
    "        original_idx_to_tokenized_doc_map = {\n",
    "            i: bm25_tokenizer(corpus_texts_for_bm25[i])\n",
    "            for i in range(len(corpus_texts_for_bm25)) # Removed tqdm here\n",
    "        }\n",
    "\n",
    "        unique_corpus_for_bm25_model = []\n",
    "        unique_corpus_token_tuple_to_unique_idx_map = {}\n",
    "        original_idx_to_unique_idx_map = [-1] * len(corpus_texts_for_bm25)\n",
    "\n",
    "        for original_idx in range(len(corpus_texts_for_bm25)): # Removed tqdm here\n",
    "            tokenized_doc_list = original_idx_to_tokenized_doc_map[original_idx]\n",
    "            tokenized_doc_tuple = tuple(tokenized_doc_list)\n",
    "\n",
    "            if tokenized_doc_tuple not in unique_corpus_token_tuple_to_unique_idx_map:\n",
    "                unique_idx = len(unique_corpus_for_bm25_model)\n",
    "                unique_corpus_for_bm25_model.append(tokenized_doc_list)\n",
    "                unique_corpus_token_tuple_to_unique_idx_map[tokenized_doc_tuple] = unique_idx\n",
    "                original_idx_to_unique_idx_map[original_idx] = unique_idx\n",
    "            else:\n",
    "                unique_idx = unique_corpus_token_tuple_to_unique_idx_map[tokenized_doc_tuple]\n",
    "                original_idx_to_unique_idx_map[original_idx] = unique_idx\n",
    "\n",
    "        print(f\"INFO: Saving tokenized BM25 corpus to cache: {bm25_token_cache_file}\")\n",
    "        try:\n",
    "            with open(bm25_token_cache_file, 'wb') as f_cache:\n",
    "                pickle.dump({\n",
    "                    'unique_corpus': unique_corpus_for_bm25_model,\n",
    "                    'original_idx_to_unique_idx_map': original_idx_to_unique_idx_map\n",
    "                }, f_cache)\n",
    "        except Exception as e_cache_save:\n",
    "            print(f\"WARNING: Failed to save BM25 cache to {bm25_token_cache_file} (Error: {e_cache_save}).\")\n",
    "\n",
    "    print(f\"INFO: Original tokenized docs: {len(corpus_texts_for_bm25)}, Unique tokenized docs for BM25 model: {len(unique_corpus_for_bm25_model)}\")\n",
    "    bm25_model = BM25Okapi(unique_corpus_for_bm25_model, k1=BM25_K1, b=BM25_B)\n",
    "    end_bm25_setup_time = time.time()\n",
    "    print(f\"INFO: BM25 setup (tokenization & model init) completed in {end_bm25_setup_time - start_bm25_setup_time:.2f} seconds.\")\n",
    "    # --- End BM25 Setup with Caching ---\n",
    "\n",
    "    print(f\"INFO: Initializing ColBERT model for re-ranking: {COLBERT_MODEL_NAME}\")\n",
    "    colbert_reranker = None\n",
    "    try:\n",
    "        colbert_reranker = RAGPretrainedModel.from_pretrained(\n",
    "            COLBERT_MODEL_NAME,\n",
    "            index_root=str(COLBERT_MODEL_CACHE_PATH)\n",
    "        )\n",
    "        if torch.cuda.is_available():\n",
    "            device = torch.device(\"cuda\")\n",
    "            if hasattr(colbert_reranker, 'model') and hasattr(colbert_reranker.model, 'model') and isinstance(colbert_reranker.model.model, torch.nn.Module):\n",
    "                colbert_reranker.model.model.to(device)\n",
    "                print(\"INFO: ColBERT re-ranker model moved to CUDA.\")\n",
    "            else:\n",
    "                print(\"WARNING: Could not move ColBERT model to CUDA. Structure might have changed or model not loaded correctly.\")\n",
    "        else:\n",
    "            print(\"INFO: CUDA not available, ColBERT model will run on CPU.\")\n",
    "\n",
    "    except Exception as e:\n",
    "        print(f\"ERROR: Failed to load ColBERT model for re-ranking: {e}\")\n",
    "        import traceback\n",
    "        traceback.print_exc()\n",
    "        return\n",
    "    if colbert_reranker is None:\n",
    "        print(\"ERROR: colbert_reranker is None after attempting to load. Halting.\")\n",
    "        return\n",
    "    print(f\"INFO: ColBERT model {COLBERT_MODEL_NAME} initialized for re-ranking.\")\n",
    "\n",
    "    query_sets = {\n",
    "        \"2024-11\": {\"file\": QUERIES_FILE_2024_11, \"output_path\": path_2024_11, \"run_results\": collections.defaultdict(dict)},\n",
    "        \"2025-01\": {\"file\": QUERIES_FILE_2025_01, \"output_path\": path_2025_01, \"run_results\": collections.defaultdict(dict)},\n",
    "    }\n",
    "\n",
    "    for setName, setData in query_sets.items():\n",
    "        print(f\"\\nINFO: Processing query set: {setName}\")\n",
    "        queries = load_queries(setData[\"file\"])\n",
    "        if not queries:\n",
    "            print(f\"WARNING: No queries loaded for {setName}, skipping this set.\")\n",
    "            continue\n",
    "\n",
    "        num_processed_queries = 0\n",
    "        total_search_time_ms = 0\n",
    "\n",
    "        for q_id, q_text in tqdm(queries.items(), desc=f\"Processing {setName} queries\", unit=\"query\"):\n",
    "            query_start_time = time.time()\n",
    "            try:\n",
    "                tokenized_query = bm25_tokenizer(q_text)\n",
    "\n",
    "                scores_for_unique_corpus = bm25_model.get_scores(tokenized_query)\n",
    "\n",
    "                doc_scores_bm25_all_original_indices = [0.0] * len(corpus_texts_for_bm25)\n",
    "                for original_idx in range(len(corpus_texts_for_bm25)):\n",
    "                    unique_idx_for_this_doc = original_idx_to_unique_idx_map[original_idx]\n",
    "                    if unique_idx_for_this_doc != -1 and unique_idx_for_this_doc < len(scores_for_unique_corpus) : # Check bounds\n",
    "                        doc_scores_bm25_all_original_indices[original_idx] = scores_for_unique_corpus[unique_idx_for_this_doc]\n",
    "                    else:\n",
    "                        # This case should ideally not happen if mapping is correct\n",
    "                        print(f\"WARNING: Invalid unique_idx_for_this_doc {unique_idx_for_this_doc} for original_idx {original_idx}\")\n",
    "\n",
    "\n",
    "                scored_doc_indices = []\n",
    "                for i in range(len(doc_scores_bm25_all_original_indices)):\n",
    "                    if doc_scores_bm25_all_original_indices[i] > 0:\n",
    "                         scored_doc_indices.append((doc_scores_bm25_all_original_indices[i], i))\n",
    "\n",
    "                scored_doc_indices.sort(key=lambda x: x[0], reverse=True)\n",
    "\n",
    "                bm25_candidate_original_ids = []\n",
    "                bm25_candidate_texts = []\n",
    "\n",
    "                for score, doc_idx in scored_doc_indices[:BM25_TOP_K_CANDIDATES]:\n",
    "                    original_doc_id = corpus_doc_ids_for_bm25[doc_idx]\n",
    "                    bm25_candidate_original_ids.append(original_doc_id)\n",
    "                    bm25_candidate_texts.append(doc_id_to_text_map[original_doc_id])\n",
    "\n",
    "                if not bm25_candidate_texts:\n",
    "                    setData[\"run_results\"][str(q_id)] = {}\n",
    "                    num_processed_queries += 1\n",
    "                    continue\n",
    "\n",
    "                effective_k_for_rerank = min(K_RETRIEVAL, len(bm25_candidate_texts))\n",
    "\n",
    "                if effective_k_for_rerank == 0 :\n",
    "                    setData[\"run_results\"][str(q_id)] = {}\n",
    "                    num_processed_queries +=1\n",
    "                    continue\n",
    "\n",
    "                colbert_reranked_results = colbert_reranker.rerank(\n",
    "                    query=q_text,\n",
    "                    documents=bm25_candidate_texts,\n",
    "                    k=effective_k_for_rerank\n",
    "                )\n",
    "\n",
    "                if colbert_reranked_results is None:\n",
    "                    print(f\"WARNING: colbert_reranker.rerank returned None for QID {q_id} with k={effective_k_for_rerank} and {len(bm25_candidate_texts)} candidates. Skipping.\")\n",
    "                    setData[\"run_results\"][str(q_id)] = {}\n",
    "                    num_processed_queries += 1\n",
    "                    continue\n",
    "\n",
    "                for res in colbert_reranked_results:\n",
    "                    original_doc_id_for_this_res = bm25_candidate_original_ids[res['result_index']]\n",
    "                    setData[\"run_results\"][str(q_id)][str(original_doc_id_for_this_res)] = float(res['score'])\n",
    "\n",
    "                num_processed_queries += 1\n",
    "                query_end_time = time.time()\n",
    "                total_search_time_ms += (query_end_time - query_start_time) * 1000\n",
    "\n",
    "                if num_processed_queries % 20 == 0 and num_processed_queries < len(queries):\n",
    "                    avg_time_per_query = total_search_time_ms / num_processed_queries if num_processed_queries > 0 else 0\n",
    "                    print(f\"INFO: Processed {num_processed_queries}/{len(queries)} queries for {setName}. Avg time/query: {avg_time_per_query:.2f} ms.\")\n",
    "\n",
    "            except Exception as e:\n",
    "                print(f\"ERROR: Error processing query ID {q_id} ('{q_text[:50]}...') for {setName}: {e}\")\n",
    "                import traceback\n",
    "                traceback.print_exc()\n",
    "\n",
    "        avg_time_per_query_final = total_search_time_ms / num_processed_queries if num_processed_queries > 0 else 0\n",
    "        print(f\"INFO: Finished processing for {setName}. Processed {num_processed_queries} queries. Avg time/query: {avg_time_per_query_final:.2f} ms.\")\n",
    "\n",
    "        run_file_path = setData[\"output_path\"] / \"run.txt\"\n",
    "        generate_trec_run_file(setData[\"run_results\"], run_file_path, RUN_TAG)\n",
    "\n",
    "        gzipped_run_file_path = setData[\"output_path\"] / \"run.txt.gz\"\n",
    "        display_set_output_path = setData['output_path'].resolve() if not str(setData['output_path']).startswith(\"/content/drive\") else setData['output_path']\n",
    "        print(f\"INFO: Compressing {run_file_path.name} to {gzipped_run_file_path.name} in {display_set_output_path}...\")\n",
    "        try:\n",
    "            with open(run_file_path, 'rb') as f_in, gzip.open(gzipped_run_file_path, 'wb') as f_out:\n",
    "                shutil.copyfileobj(f_in, f_out)\n",
    "            os.remove(run_file_path)\n",
    "            print(f\"INFO: Successfully compressed and removed original run file for {setName}.\")\n",
    "        except Exception as e:\n",
    "            print(f\"ERROR: Error during compression or deletion for {setName} run file: {e}\")\n",
    "\n",
    "    print(f\"\\nINFO: Two-stage pipeline finished. Submission files generated in: {display_output_dir}\")\n",
    "    print(f\"INFO: Remember to create the 'ir-metadata.yml' file in '{display_output_dir}' manually if required for submission.\")\n",
    "\n",
    "if __name__ == '__main__':\n",
    "    if USE_GOOGLE_DRIVE:\n",
    "        if 'google.colab.drive' not in sys.modules and 'drive' not in globals():\n",
    "            print(\"ERROR: USE_GOOGLE_DRIVE is True, but the 'google.colab.drive' module is not available.\")\n",
    "            print(\"INFO: Please ensure you are in a Colab environment or set USE_GOOGLE_DRIVE to False.\")\n",
    "            sys.exit(1)\n",
    "\n",
    "    if not USE_GOOGLE_DRIVE:\n",
    "        if not (Path.cwd() / DATA_DIR_NAME).exists():\n",
    "            print(f\"WARNING: The data directory '{DATA_DIR_NAME}' was not found in the current working directory: {Path.cwd()}\")\n",
    "            print(f\"WARNING: Please ensure the script is run from the directory containing '{DATA_DIR_NAME}' or adjust DATA_DIR_NAME path if it's elsewhere.\")\n",
    "\n",
    "    if torch.cuda.is_available():\n",
    "        print(f\"INFO: CUDA is available. Using GPU: {torch.cuda.get_device_name(0)}\")\n",
    "    else:\n",
    "        print(\"WARNING: CUDA not available. ColBERT re-ranking will be very slow on CPU.\")\n",
    "\n",
    "    pipeline_start_time = time.time()\n",
    "    main_bm25_colbert_rerank_pipeline()\n",
    "    pipeline_end_time = time.time()\n",
    "    print(f\"INFO: Total pipeline execution time: {pipeline_end_time - pipeline_start_time:.2f} seconds.\")"
   ]
  },
  {
   "cell_type": "code",
   "execution_count": null,
   "metadata": {
    "colab": {
     "base_uri": "https://localhost:8080/"
    },
    "id": "dW5No0_3kR72",
    "outputId": "68e2f3ca-3b5b-409b-c6f1-12b3dffc41d3"
   },
   "outputs": [
    {
     "output_type": "stream",
     "name": "stdout",
     "text": [
      "Collecting tira\n",
      "  Downloading tira-0.0.168-py3-none-any.whl.metadata (4.8 kB)\n",
      "Requirement already satisfied: requests==2.*,>=2.26 in /usr/local/lib/python3.11/dist-packages (from tira) (2.32.3)\n",
      "Collecting docker==7.*,>=7.1.0 (from tira)\n",
      "  Downloading docker-7.1.0-py3-none-any.whl.metadata (3.8 kB)\n",
      "Requirement already satisfied: pandas in /usr/local/lib/python3.11/dist-packages (from tira) (2.2.2)\n",
      "Requirement already satisfied: packaging in /usr/local/lib/python3.11/dist-packages (from tira) (24.2)\n",
      "Requirement already satisfied: tqdm in /usr/local/lib/python3.11/dist-packages (from tira) (4.67.1)\n",
      "Requirement already satisfied: gitpython in /usr/local/lib/python3.11/dist-packages (from tira) (3.1.44)\n",
      "Requirement already satisfied: urllib3>=1.26.0 in /usr/local/lib/python3.11/dist-packages (from docker==7.*,>=7.1.0->tira) (2.4.0)\n",
      "Requirement already satisfied: charset-normalizer<4,>=2 in /usr/local/lib/python3.11/dist-packages (from requests==2.*,>=2.26->tira) (3.4.2)\n",
      "Requirement already satisfied: idna<4,>=2.5 in /usr/local/lib/python3.11/dist-packages (from requests==2.*,>=2.26->tira) (3.10)\n",
      "Requirement already satisfied: certifi>=2017.4.17 in /usr/local/lib/python3.11/dist-packages (from requests==2.*,>=2.26->tira) (2025.4.26)\n",
      "Requirement already satisfied: gitdb<5,>=4.0.1 in /usr/local/lib/python3.11/dist-packages (from gitpython->tira) (4.0.12)\n",
      "Requirement already satisfied: smmap<6,>=3.0.1 in /usr/local/lib/python3.11/dist-packages (from gitdb<5,>=4.0.1->gitpython->tira) (5.0.2)\n",
      "Requirement already satisfied: numpy>=1.23.2 in /usr/local/lib/python3.11/dist-packages (from pandas->tira) (2.0.2)\n",
      "Requirement already satisfied: python-dateutil>=2.8.2 in /usr/local/lib/python3.11/dist-packages (from pandas->tira) (2.9.0.post0)\n",
      "Requirement already satisfied: pytz>=2020.1 in /usr/local/lib/python3.11/dist-packages (from pandas->tira) (2025.2)\n",
      "Requirement already satisfied: tzdata>=2022.7 in /usr/local/lib/python3.11/dist-packages (from pandas->tira) (2025.2)\n",
      "Requirement already satisfied: six>=1.5 in /usr/local/lib/python3.11/dist-packages (from python-dateutil>=2.8.2->pandas->tira) (1.17.0)\n",
      "Downloading tira-0.0.168-py3-none-any.whl (1.3 MB)\n",
      "\u001B[2K   \u001B[90m━━━━━━━━━━━━━━━━━━━━━━━━━━━━━━━━━━━━━━━━\u001B[0m \u001B[32m1.3/1.3 MB\u001B[0m \u001B[31m27.1 MB/s\u001B[0m eta \u001B[36m0:00:00\u001B[0m\n",
      "\u001B[?25hDownloading docker-7.1.0-py3-none-any.whl (147 kB)\n",
      "Installing collected packages: docker, tira\n",
      "\u001B[2K   \u001B[90m━━━━━━━━━━━━━━━━━━━━━━━━━━━━━━━━━━━━━━━━\u001B[0m \u001B[32m2/2\u001B[0m [tira]\n",
      "\u001B[1A\u001B[2KSuccessfully installed docker-7.1.0 tira-0.0.168\n"
     ]
    }
   ],
   "source": [
    "!pip3 install --upgrade tira\n"
   ]
  },
  {
   "cell_type": "code",
   "execution_count": null,
   "metadata": {
    "colab": {
     "base_uri": "https://localhost:8080/"
    },
    "id": "Zz1O274gkW_S",
    "outputId": "f4bdd838-1b6a-49b5-e1be-f4a311eb417d"
   },
   "outputs": [
    {
     "output_type": "stream",
     "name": "stdout",
     "text": [
      "INFO:root:No settings given in /root/.tira/.tira-settings.json. I will use defaults.\n",
      "I will upload the submission in directory '/content/drive/MyDrive/AIR_Project/colbert_pipeline_output/BM25-ColBERT-Cache' to TIRA.\n",
      "\t\u001B[92m✓\u001B[0m I will check that the data in /content/drive/MyDrive/AIR_Project/colbert_pipeline_output/BM25-ColBERT-Cache is valid ...\n",
      "\t\u001B[92m✓\u001B[0m The run in subdirectory 2024-11 is valid.\n",
      "\t\u001B[92m✓\u001B[0m The run in subdirectory 2025-01 is valid.\n",
      "\t\u001B[92m✓\u001B[0m The file ir-metadata.yml is valid.\n",
      "\n",
      "Result:\n",
      "\t\u001B[92m✓\u001B[0m The run is valid. I skip upload to TIRA as --dry-run was passed.\n"
     ]
    }
   ],
   "source": [
    "!tira-cli upload --dataset sci-20250430-test --dry-run --directory  /content/drive/MyDrive/AIR_Project/colbert_pipeline_output/BM25-ColBERT-Cache\n"
   ]
  },
  {
   "cell_type": "code",
   "source": [
    "!tira-cli login --token 9bfa566de8437559eaa62420b201903912e3e9928451b1a469b6dcab5df466cb\n",
    "!tira-cli upload --dataset sci-20250430-test --directory /content/drive/MyDrive/AIR_Project/colbert_pipeline_output/BM25-ColBERT-Cache\n"
   ],
   "metadata": {
    "colab": {
     "base_uri": "https://localhost:8080/"
    },
    "id": "jPxAPY7HHqRe",
    "outputId": "e6a417b6-3957-41da-f458-fd6338117fa0"
   },
   "execution_count": null,
   "outputs": [
    {
     "output_type": "stream",
     "name": "stdout",
     "text": [
      "INFO:root:No settings given in /root/.tira/.tira-settings.json. I will use defaults.\n",
      "I will upload the submission in directory '/content/drive/MyDrive/AIR_Project/colbert_pipeline_output/BM25-ColBERT-Cache' to TIRA.\n",
      "\t\u001B[92m✓\u001B[0m I will check that the data in /content/drive/MyDrive/AIR_Project/colbert_pipeline_output/BM25-ColBERT-Cache is valid ...\n",
      "\t\u001B[92m✓\u001B[0m The run in subdirectory 2024-11 is valid.\n",
      "\t\u001B[92m✓\u001B[0m The run in subdirectory 2025-01 is valid.\n",
      "\t\u001B[92m✓\u001B[0m The file ir-metadata.yml is valid.\n",
      "\t\u001B[92m✓\u001B[0m The data is uploaded.\n",
      "\n",
      "I upload the metadata for the submission...\n",
      "\t\u001B[92m✓\u001B[0m Done. Your run is available at:\n",
      "\thttps://www.tira.io/submit/longeval-2025/user/clef25-academy-retrievals/upload-submission\n"
     ]
    }
   ]
  }
 ],
 "metadata": {
  "accelerator": "GPU",
  "colab": {
   "gpuType": "T4",
   "machine_shape": "hm",
   "provenance": []
  },
  "kernelspec": {
   "display_name": "Python 3",
   "name": "python3"
  },
  "language_info": {
   "name": "python"
  },
  "widgets": {
   "application/vnd.jupyter.widget-state+json": {
    "6fdc844a7933442893b5f91fe8702e09": {
     "model_module": "@jupyter-widgets/controls",
     "model_name": "HBoxModel",
     "model_module_version": "1.5.0",
     "state": {
      "_dom_classes": [],
      "_model_module": "@jupyter-widgets/controls",
      "_model_module_version": "1.5.0",
      "_model_name": "HBoxModel",
      "_view_count": null,
      "_view_module": "@jupyter-widgets/controls",
      "_view_module_version": "1.5.0",
      "_view_name": "HBoxView",
      "box_style": "",
      "children": [
       "IPY_MODEL_7d803e67cdf647ecb93282dff16ac152",
       "IPY_MODEL_33fe293ec2c44a8f807d5f91e3790470",
       "IPY_MODEL_a30000e8690f481f9e8ecd0ed8902946"
      ],
      "layout": "IPY_MODEL_048ce7fdc39f43a994b0743bd2f888dd"
     }
    },
    "7d803e67cdf647ecb93282dff16ac152": {
     "model_module": "@jupyter-widgets/controls",
     "model_name": "HTMLModel",
     "model_module_version": "1.5.0",
     "state": {
      "_dom_classes": [],
      "_model_module": "@jupyter-widgets/controls",
      "_model_module_version": "1.5.0",
      "_model_name": "HTMLModel",
      "_view_count": null,
      "_view_module": "@jupyter-widgets/controls",
      "_view_module_version": "1.5.0",
      "_view_name": "HTMLView",
      "description": "",
      "description_tooltip": null,
      "layout": "IPY_MODEL_b09bc53242024a738a41fc5ce199ef3d",
      "placeholder": "​",
      "style": "IPY_MODEL_d14f78d00bab440394f3e81da914c068",
      "value": "artifact.metadata: 100%"
     }
    },
    "33fe293ec2c44a8f807d5f91e3790470": {
     "model_module": "@jupyter-widgets/controls",
     "model_name": "FloatProgressModel",
     "model_module_version": "1.5.0",
     "state": {
      "_dom_classes": [],
      "_model_module": "@jupyter-widgets/controls",
      "_model_module_version": "1.5.0",
      "_model_name": "FloatProgressModel",
      "_view_count": null,
      "_view_module": "@jupyter-widgets/controls",
      "_view_module_version": "1.5.0",
      "_view_name": "ProgressView",
      "bar_style": "success",
      "description": "",
      "description_tooltip": null,
      "layout": "IPY_MODEL_216545e6aeb34f90a93d22ecb037f5c8",
      "max": 1633,
      "min": 0,
      "orientation": "horizontal",
      "style": "IPY_MODEL_7f348db118694bc2883cd8083a916411",
      "value": 1633
     }
    },
    "a30000e8690f481f9e8ecd0ed8902946": {
     "model_module": "@jupyter-widgets/controls",
     "model_name": "HTMLModel",
     "model_module_version": "1.5.0",
     "state": {
      "_dom_classes": [],
      "_model_module": "@jupyter-widgets/controls",
      "_model_module_version": "1.5.0",
      "_model_name": "HTMLModel",
      "_view_count": null,
      "_view_module": "@jupyter-widgets/controls",
      "_view_module_version": "1.5.0",
      "_view_name": "HTMLView",
      "description": "",
      "description_tooltip": null,
      "layout": "IPY_MODEL_cb86a0ed338b46a0be02375aee6f8ecd",
      "placeholder": "​",
      "style": "IPY_MODEL_c76c729c6fdf4e79849c50b301480bf3",
      "value": " 1.63k/1.63k [00:00&lt;00:00, 214kB/s]"
     }
    },
    "048ce7fdc39f43a994b0743bd2f888dd": {
     "model_module": "@jupyter-widgets/base",
     "model_name": "LayoutModel",
     "model_module_version": "1.2.0",
     "state": {
      "_model_module": "@jupyter-widgets/base",
      "_model_module_version": "1.2.0",
      "_model_name": "LayoutModel",
      "_view_count": null,
      "_view_module": "@jupyter-widgets/base",
      "_view_module_version": "1.2.0",
      "_view_name": "LayoutView",
      "align_content": null,
      "align_items": null,
      "align_self": null,
      "border": null,
      "bottom": null,
      "display": null,
      "flex": null,
      "flex_flow": null,
      "grid_area": null,
      "grid_auto_columns": null,
      "grid_auto_flow": null,
      "grid_auto_rows": null,
      "grid_column": null,
      "grid_gap": null,
      "grid_row": null,
      "grid_template_areas": null,
      "grid_template_columns": null,
      "grid_template_rows": null,
      "height": null,
      "justify_content": null,
      "justify_items": null,
      "left": null,
      "margin": null,
      "max_height": null,
      "max_width": null,
      "min_height": null,
      "min_width": null,
      "object_fit": null,
      "object_position": null,
      "order": null,
      "overflow": null,
      "overflow_x": null,
      "overflow_y": null,
      "padding": null,
      "right": null,
      "top": null,
      "visibility": null,
      "width": null
     }
    },
    "b09bc53242024a738a41fc5ce199ef3d": {
     "model_module": "@jupyter-widgets/base",
     "model_name": "LayoutModel",
     "model_module_version": "1.2.0",
     "state": {
      "_model_module": "@jupyter-widgets/base",
      "_model_module_version": "1.2.0",
      "_model_name": "LayoutModel",
      "_view_count": null,
      "_view_module": "@jupyter-widgets/base",
      "_view_module_version": "1.2.0",
      "_view_name": "LayoutView",
      "align_content": null,
      "align_items": null,
      "align_self": null,
      "border": null,
      "bottom": null,
      "display": null,
      "flex": null,
      "flex_flow": null,
      "grid_area": null,
      "grid_auto_columns": null,
      "grid_auto_flow": null,
      "grid_auto_rows": null,
      "grid_column": null,
      "grid_gap": null,
      "grid_row": null,
      "grid_template_areas": null,
      "grid_template_columns": null,
      "grid_template_rows": null,
      "height": null,
      "justify_content": null,
      "justify_items": null,
      "left": null,
      "margin": null,
      "max_height": null,
      "max_width": null,
      "min_height": null,
      "min_width": null,
      "object_fit": null,
      "object_position": null,
      "order": null,
      "overflow": null,
      "overflow_x": null,
      "overflow_y": null,
      "padding": null,
      "right": null,
      "top": null,
      "visibility": null,
      "width": null
     }
    },
    "d14f78d00bab440394f3e81da914c068": {
     "model_module": "@jupyter-widgets/controls",
     "model_name": "DescriptionStyleModel",
     "model_module_version": "1.5.0",
     "state": {
      "_model_module": "@jupyter-widgets/controls",
      "_model_module_version": "1.5.0",
      "_model_name": "DescriptionStyleModel",
      "_view_count": null,
      "_view_module": "@jupyter-widgets/base",
      "_view_module_version": "1.2.0",
      "_view_name": "StyleView",
      "description_width": ""
     }
    },
    "216545e6aeb34f90a93d22ecb037f5c8": {
     "model_module": "@jupyter-widgets/base",
     "model_name": "LayoutModel",
     "model_module_version": "1.2.0",
     "state": {
      "_model_module": "@jupyter-widgets/base",
      "_model_module_version": "1.2.0",
      "_model_name": "LayoutModel",
      "_view_count": null,
      "_view_module": "@jupyter-widgets/base",
      "_view_module_version": "1.2.0",
      "_view_name": "LayoutView",
      "align_content": null,
      "align_items": null,
      "align_self": null,
      "border": null,
      "bottom": null,
      "display": null,
      "flex": null,
      "flex_flow": null,
      "grid_area": null,
      "grid_auto_columns": null,
      "grid_auto_flow": null,
      "grid_auto_rows": null,
      "grid_column": null,
      "grid_gap": null,
      "grid_row": null,
      "grid_template_areas": null,
      "grid_template_columns": null,
      "grid_template_rows": null,
      "height": null,
      "justify_content": null,
      "justify_items": null,
      "left": null,
      "margin": null,
      "max_height": null,
      "max_width": null,
      "min_height": null,
      "min_width": null,
      "object_fit": null,
      "object_position": null,
      "order": null,
      "overflow": null,
      "overflow_x": null,
      "overflow_y": null,
      "padding": null,
      "right": null,
      "top": null,
      "visibility": null,
      "width": null
     }
    },
    "7f348db118694bc2883cd8083a916411": {
     "model_module": "@jupyter-widgets/controls",
     "model_name": "ProgressStyleModel",
     "model_module_version": "1.5.0",
     "state": {
      "_model_module": "@jupyter-widgets/controls",
      "_model_module_version": "1.5.0",
      "_model_name": "ProgressStyleModel",
      "_view_count": null,
      "_view_module": "@jupyter-widgets/base",
      "_view_module_version": "1.2.0",
      "_view_name": "StyleView",
      "bar_color": null,
      "description_width": ""
     }
    },
    "cb86a0ed338b46a0be02375aee6f8ecd": {
     "model_module": "@jupyter-widgets/base",
     "model_name": "LayoutModel",
     "model_module_version": "1.2.0",
     "state": {
      "_model_module": "@jupyter-widgets/base",
      "_model_module_version": "1.2.0",
      "_model_name": "LayoutModel",
      "_view_count": null,
      "_view_module": "@jupyter-widgets/base",
      "_view_module_version": "1.2.0",
      "_view_name": "LayoutView",
      "align_content": null,
      "align_items": null,
      "align_self": null,
      "border": null,
      "bottom": null,
      "display": null,
      "flex": null,
      "flex_flow": null,
      "grid_area": null,
      "grid_auto_columns": null,
      "grid_auto_flow": null,
      "grid_auto_rows": null,
      "grid_column": null,
      "grid_gap": null,
      "grid_row": null,
      "grid_template_areas": null,
      "grid_template_columns": null,
      "grid_template_rows": null,
      "height": null,
      "justify_content": null,
      "justify_items": null,
      "left": null,
      "margin": null,
      "max_height": null,
      "max_width": null,
      "min_height": null,
      "min_width": null,
      "object_fit": null,
      "object_position": null,
      "order": null,
      "overflow": null,
      "overflow_x": null,
      "overflow_y": null,
      "padding": null,
      "right": null,
      "top": null,
      "visibility": null,
      "width": null
     }
    },
    "c76c729c6fdf4e79849c50b301480bf3": {
     "model_module": "@jupyter-widgets/controls",
     "model_name": "DescriptionStyleModel",
     "model_module_version": "1.5.0",
     "state": {
      "_model_module": "@jupyter-widgets/controls",
      "_model_module_version": "1.5.0",
      "_model_name": "DescriptionStyleModel",
      "_view_count": null,
      "_view_module": "@jupyter-widgets/base",
      "_view_module_version": "1.2.0",
      "_view_name": "StyleView",
      "description_width": ""
     }
    },
    "06abce23536641c688f59b802cddd012": {
     "model_module": "@jupyter-widgets/controls",
     "model_name": "HBoxModel",
     "model_module_version": "1.5.0",
     "state": {
      "_dom_classes": [],
      "_model_module": "@jupyter-widgets/controls",
      "_model_module_version": "1.5.0",
      "_model_name": "HBoxModel",
      "_view_count": null,
      "_view_module": "@jupyter-widgets/controls",
      "_view_module_version": "1.5.0",
      "_view_name": "HBoxView",
      "box_style": "",
      "children": [
       "IPY_MODEL_ea658766e79d425396f63bfc3c0c8b86",
       "IPY_MODEL_ff52197681304bcfa97b69b991a51f29",
       "IPY_MODEL_4808a2a77afb473e8c9314961226bea9"
      ],
      "layout": "IPY_MODEL_0d86576a663b4fa1b33dacc5e1aafddf"
     }
    },
    "ea658766e79d425396f63bfc3c0c8b86": {
     "model_module": "@jupyter-widgets/controls",
     "model_name": "HTMLModel",
     "model_module_version": "1.5.0",
     "state": {
      "_dom_classes": [],
      "_model_module": "@jupyter-widgets/controls",
      "_model_module_version": "1.5.0",
      "_model_name": "HTMLModel",
      "_view_count": null,
      "_view_module": "@jupyter-widgets/controls",
      "_view_module_version": "1.5.0",
      "_view_name": "HTMLView",
      "description": "",
      "description_tooltip": null,
      "layout": "IPY_MODEL_5160e87d0e8a44078882735714c16ddd",
      "placeholder": "​",
      "style": "IPY_MODEL_036876606f8b4dcfa48003c73f36f04c",
      "value": "config.json: 100%"
     }
    },
    "ff52197681304bcfa97b69b991a51f29": {
     "model_module": "@jupyter-widgets/controls",
     "model_name": "FloatProgressModel",
     "model_module_version": "1.5.0",
     "state": {
      "_dom_classes": [],
      "_model_module": "@jupyter-widgets/controls",
      "_model_module_version": "1.5.0",
      "_model_name": "FloatProgressModel",
      "_view_count": null,
      "_view_module": "@jupyter-widgets/controls",
      "_view_module_version": "1.5.0",
      "_view_name": "ProgressView",
      "bar_style": "success",
      "description": "",
      "description_tooltip": null,
      "layout": "IPY_MODEL_3e596cd1929a4be09a96cbfad43b16d7",
      "max": 743,
      "min": 0,
      "orientation": "horizontal",
      "style": "IPY_MODEL_061f05dfb1d6479b95cb04efb08d4a53",
      "value": 743
     }
    },
    "4808a2a77afb473e8c9314961226bea9": {
     "model_module": "@jupyter-widgets/controls",
     "model_name": "HTMLModel",
     "model_module_version": "1.5.0",
     "state": {
      "_dom_classes": [],
      "_model_module": "@jupyter-widgets/controls",
      "_model_module_version": "1.5.0",
      "_model_name": "HTMLModel",
      "_view_count": null,
      "_view_module": "@jupyter-widgets/controls",
      "_view_module_version": "1.5.0",
      "_view_name": "HTMLView",
      "description": "",
      "description_tooltip": null,
      "layout": "IPY_MODEL_835ff4a4ac694995a0925530859f36b7",
      "placeholder": "​",
      "style": "IPY_MODEL_5f3f1474c6ad4843bbe8aea272a6969b",
      "value": " 743/743 [00:00&lt;00:00, 97.3kB/s]"
     }
    },
    "0d86576a663b4fa1b33dacc5e1aafddf": {
     "model_module": "@jupyter-widgets/base",
     "model_name": "LayoutModel",
     "model_module_version": "1.2.0",
     "state": {
      "_model_module": "@jupyter-widgets/base",
      "_model_module_version": "1.2.0",
      "_model_name": "LayoutModel",
      "_view_count": null,
      "_view_module": "@jupyter-widgets/base",
      "_view_module_version": "1.2.0",
      "_view_name": "LayoutView",
      "align_content": null,
      "align_items": null,
      "align_self": null,
      "border": null,
      "bottom": null,
      "display": null,
      "flex": null,
      "flex_flow": null,
      "grid_area": null,
      "grid_auto_columns": null,
      "grid_auto_flow": null,
      "grid_auto_rows": null,
      "grid_column": null,
      "grid_gap": null,
      "grid_row": null,
      "grid_template_areas": null,
      "grid_template_columns": null,
      "grid_template_rows": null,
      "height": null,
      "justify_content": null,
      "justify_items": null,
      "left": null,
      "margin": null,
      "max_height": null,
      "max_width": null,
      "min_height": null,
      "min_width": null,
      "object_fit": null,
      "object_position": null,
      "order": null,
      "overflow": null,
      "overflow_x": null,
      "overflow_y": null,
      "padding": null,
      "right": null,
      "top": null,
      "visibility": null,
      "width": null
     }
    },
    "5160e87d0e8a44078882735714c16ddd": {
     "model_module": "@jupyter-widgets/base",
     "model_name": "LayoutModel",
     "model_module_version": "1.2.0",
     "state": {
      "_model_module": "@jupyter-widgets/base",
      "_model_module_version": "1.2.0",
      "_model_name": "LayoutModel",
      "_view_count": null,
      "_view_module": "@jupyter-widgets/base",
      "_view_module_version": "1.2.0",
      "_view_name": "LayoutView",
      "align_content": null,
      "align_items": null,
      "align_self": null,
      "border": null,
      "bottom": null,
      "display": null,
      "flex": null,
      "flex_flow": null,
      "grid_area": null,
      "grid_auto_columns": null,
      "grid_auto_flow": null,
      "grid_auto_rows": null,
      "grid_column": null,
      "grid_gap": null,
      "grid_row": null,
      "grid_template_areas": null,
      "grid_template_columns": null,
      "grid_template_rows": null,
      "height": null,
      "justify_content": null,
      "justify_items": null,
      "left": null,
      "margin": null,
      "max_height": null,
      "max_width": null,
      "min_height": null,
      "min_width": null,
      "object_fit": null,
      "object_position": null,
      "order": null,
      "overflow": null,
      "overflow_x": null,
      "overflow_y": null,
      "padding": null,
      "right": null,
      "top": null,
      "visibility": null,
      "width": null
     }
    },
    "036876606f8b4dcfa48003c73f36f04c": {
     "model_module": "@jupyter-widgets/controls",
     "model_name": "DescriptionStyleModel",
     "model_module_version": "1.5.0",
     "state": {
      "_model_module": "@jupyter-widgets/controls",
      "_model_module_version": "1.5.0",
      "_model_name": "DescriptionStyleModel",
      "_view_count": null,
      "_view_module": "@jupyter-widgets/base",
      "_view_module_version": "1.2.0",
      "_view_name": "StyleView",
      "description_width": ""
     }
    },
    "3e596cd1929a4be09a96cbfad43b16d7": {
     "model_module": "@jupyter-widgets/base",
     "model_name": "LayoutModel",
     "model_module_version": "1.2.0",
     "state": {
      "_model_module": "@jupyter-widgets/base",
      "_model_module_version": "1.2.0",
      "_model_name": "LayoutModel",
      "_view_count": null,
      "_view_module": "@jupyter-widgets/base",
      "_view_module_version": "1.2.0",
      "_view_name": "LayoutView",
      "align_content": null,
      "align_items": null,
      "align_self": null,
      "border": null,
      "bottom": null,
      "display": null,
      "flex": null,
      "flex_flow": null,
      "grid_area": null,
      "grid_auto_columns": null,
      "grid_auto_flow": null,
      "grid_auto_rows": null,
      "grid_column": null,
      "grid_gap": null,
      "grid_row": null,
      "grid_template_areas": null,
      "grid_template_columns": null,
      "grid_template_rows": null,
      "height": null,
      "justify_content": null,
      "justify_items": null,
      "left": null,
      "margin": null,
      "max_height": null,
      "max_width": null,
      "min_height": null,
      "min_width": null,
      "object_fit": null,
      "object_position": null,
      "order": null,
      "overflow": null,
      "overflow_x": null,
      "overflow_y": null,
      "padding": null,
      "right": null,
      "top": null,
      "visibility": null,
      "width": null
     }
    },
    "061f05dfb1d6479b95cb04efb08d4a53": {
     "model_module": "@jupyter-widgets/controls",
     "model_name": "ProgressStyleModel",
     "model_module_version": "1.5.0",
     "state": {
      "_model_module": "@jupyter-widgets/controls",
      "_model_module_version": "1.5.0",
      "_model_name": "ProgressStyleModel",
      "_view_count": null,
      "_view_module": "@jupyter-widgets/base",
      "_view_module_version": "1.2.0",
      "_view_name": "StyleView",
      "bar_color": null,
      "description_width": ""
     }
    },
    "835ff4a4ac694995a0925530859f36b7": {
     "model_module": "@jupyter-widgets/base",
     "model_name": "LayoutModel",
     "model_module_version": "1.2.0",
     "state": {
      "_model_module": "@jupyter-widgets/base",
      "_model_module_version": "1.2.0",
      "_model_name": "LayoutModel",
      "_view_count": null,
      "_view_module": "@jupyter-widgets/base",
      "_view_module_version": "1.2.0",
      "_view_name": "LayoutView",
      "align_content": null,
      "align_items": null,
      "align_self": null,
      "border": null,
      "bottom": null,
      "display": null,
      "flex": null,
      "flex_flow": null,
      "grid_area": null,
      "grid_auto_columns": null,
      "grid_auto_flow": null,
      "grid_auto_rows": null,
      "grid_column": null,
      "grid_gap": null,
      "grid_row": null,
      "grid_template_areas": null,
      "grid_template_columns": null,
      "grid_template_rows": null,
      "height": null,
      "justify_content": null,
      "justify_items": null,
      "left": null,
      "margin": null,
      "max_height": null,
      "max_width": null,
      "min_height": null,
      "min_width": null,
      "object_fit": null,
      "object_position": null,
      "order": null,
      "overflow": null,
      "overflow_x": null,
      "overflow_y": null,
      "padding": null,
      "right": null,
      "top": null,
      "visibility": null,
      "width": null
     }
    },
    "5f3f1474c6ad4843bbe8aea272a6969b": {
     "model_module": "@jupyter-widgets/controls",
     "model_name": "DescriptionStyleModel",
     "model_module_version": "1.5.0",
     "state": {
      "_model_module": "@jupyter-widgets/controls",
      "_model_module_version": "1.5.0",
      "_model_name": "DescriptionStyleModel",
      "_view_count": null,
      "_view_module": "@jupyter-widgets/base",
      "_view_module_version": "1.2.0",
      "_view_name": "StyleView",
      "description_width": ""
     }
    },
    "fb9043c4ef05421f830b96ba6d1dfe6d": {
     "model_module": "@jupyter-widgets/controls",
     "model_name": "HBoxModel",
     "model_module_version": "1.5.0",
     "state": {
      "_dom_classes": [],
      "_model_module": "@jupyter-widgets/controls",
      "_model_module_version": "1.5.0",
      "_model_name": "HBoxModel",
      "_view_count": null,
      "_view_module": "@jupyter-widgets/controls",
      "_view_module_version": "1.5.0",
      "_view_name": "HBoxView",
      "box_style": "",
      "children": [
       "IPY_MODEL_6c4404102fa04700be9d1537eed0166b",
       "IPY_MODEL_c6336e8118bb4d8385e56d03dd5b2a8e",
       "IPY_MODEL_036ca7d88ce94b4c9223cf49369c3143"
      ],
      "layout": "IPY_MODEL_a6e5e24ad61f4ece9d49632e5e172b53"
     }
    },
    "6c4404102fa04700be9d1537eed0166b": {
     "model_module": "@jupyter-widgets/controls",
     "model_name": "HTMLModel",
     "model_module_version": "1.5.0",
     "state": {
      "_dom_classes": [],
      "_model_module": "@jupyter-widgets/controls",
      "_model_module_version": "1.5.0",
      "_model_name": "HTMLModel",
      "_view_count": null,
      "_view_module": "@jupyter-widgets/controls",
      "_view_module_version": "1.5.0",
      "_view_name": "HTMLView",
      "description": "",
      "description_tooltip": null,
      "layout": "IPY_MODEL_a0376d53faa84670bf4d2c5ad3795a33",
      "placeholder": "​",
      "style": "IPY_MODEL_4e8db3c7d4844b7fb213be1ea46de49f",
      "value": "model.safetensors: 100%"
     }
    },
    "c6336e8118bb4d8385e56d03dd5b2a8e": {
     "model_module": "@jupyter-widgets/controls",
     "model_name": "FloatProgressModel",
     "model_module_version": "1.5.0",
     "state": {
      "_dom_classes": [],
      "_model_module": "@jupyter-widgets/controls",
      "_model_module_version": "1.5.0",
      "_model_name": "FloatProgressModel",
      "_view_count": null,
      "_view_module": "@jupyter-widgets/controls",
      "_view_module_version": "1.5.0",
      "_view_name": "ProgressView",
      "bar_style": "success",
      "description": "",
      "description_tooltip": null,
      "layout": "IPY_MODEL_4af1cc31737848048746151ec8755a3a",
      "max": 438349816,
      "min": 0,
      "orientation": "horizontal",
      "style": "IPY_MODEL_42cb90f4d74e405590ea40cba2afe530",
      "value": 438349816
     }
    },
    "036ca7d88ce94b4c9223cf49369c3143": {
     "model_module": "@jupyter-widgets/controls",
     "model_name": "HTMLModel",
     "model_module_version": "1.5.0",
     "state": {
      "_dom_classes": [],
      "_model_module": "@jupyter-widgets/controls",
      "_model_module_version": "1.5.0",
      "_model_name": "HTMLModel",
      "_view_count": null,
      "_view_module": "@jupyter-widgets/controls",
      "_view_module_version": "1.5.0",
      "_view_name": "HTMLView",
      "description": "",
      "description_tooltip": null,
      "layout": "IPY_MODEL_66078702da7e4bee9db7c56611e46c91",
      "placeholder": "​",
      "style": "IPY_MODEL_433dc5ac89af462080235622a7348ace",
      "value": " 438M/438M [00:01&lt;00:00, 385MB/s]"
     }
    },
    "a6e5e24ad61f4ece9d49632e5e172b53": {
     "model_module": "@jupyter-widgets/base",
     "model_name": "LayoutModel",
     "model_module_version": "1.2.0",
     "state": {
      "_model_module": "@jupyter-widgets/base",
      "_model_module_version": "1.2.0",
      "_model_name": "LayoutModel",
      "_view_count": null,
      "_view_module": "@jupyter-widgets/base",
      "_view_module_version": "1.2.0",
      "_view_name": "LayoutView",
      "align_content": null,
      "align_items": null,
      "align_self": null,
      "border": null,
      "bottom": null,
      "display": null,
      "flex": null,
      "flex_flow": null,
      "grid_area": null,
      "grid_auto_columns": null,
      "grid_auto_flow": null,
      "grid_auto_rows": null,
      "grid_column": null,
      "grid_gap": null,
      "grid_row": null,
      "grid_template_areas": null,
      "grid_template_columns": null,
      "grid_template_rows": null,
      "height": null,
      "justify_content": null,
      "justify_items": null,
      "left": null,
      "margin": null,
      "max_height": null,
      "max_width": null,
      "min_height": null,
      "min_width": null,
      "object_fit": null,
      "object_position": null,
      "order": null,
      "overflow": null,
      "overflow_x": null,
      "overflow_y": null,
      "padding": null,
      "right": null,
      "top": null,
      "visibility": null,
      "width": null
     }
    },
    "a0376d53faa84670bf4d2c5ad3795a33": {
     "model_module": "@jupyter-widgets/base",
     "model_name": "LayoutModel",
     "model_module_version": "1.2.0",
     "state": {
      "_model_module": "@jupyter-widgets/base",
      "_model_module_version": "1.2.0",
      "_model_name": "LayoutModel",
      "_view_count": null,
      "_view_module": "@jupyter-widgets/base",
      "_view_module_version": "1.2.0",
      "_view_name": "LayoutView",
      "align_content": null,
      "align_items": null,
      "align_self": null,
      "border": null,
      "bottom": null,
      "display": null,
      "flex": null,
      "flex_flow": null,
      "grid_area": null,
      "grid_auto_columns": null,
      "grid_auto_flow": null,
      "grid_auto_rows": null,
      "grid_column": null,
      "grid_gap": null,
      "grid_row": null,
      "grid_template_areas": null,
      "grid_template_columns": null,
      "grid_template_rows": null,
      "height": null,
      "justify_content": null,
      "justify_items": null,
      "left": null,
      "margin": null,
      "max_height": null,
      "max_width": null,
      "min_height": null,
      "min_width": null,
      "object_fit": null,
      "object_position": null,
      "order": null,
      "overflow": null,
      "overflow_x": null,
      "overflow_y": null,
      "padding": null,
      "right": null,
      "top": null,
      "visibility": null,
      "width": null
     }
    },
    "4e8db3c7d4844b7fb213be1ea46de49f": {
     "model_module": "@jupyter-widgets/controls",
     "model_name": "DescriptionStyleModel",
     "model_module_version": "1.5.0",
     "state": {
      "_model_module": "@jupyter-widgets/controls",
      "_model_module_version": "1.5.0",
      "_model_name": "DescriptionStyleModel",
      "_view_count": null,
      "_view_module": "@jupyter-widgets/base",
      "_view_module_version": "1.2.0",
      "_view_name": "StyleView",
      "description_width": ""
     }
    },
    "4af1cc31737848048746151ec8755a3a": {
     "model_module": "@jupyter-widgets/base",
     "model_name": "LayoutModel",
     "model_module_version": "1.2.0",
     "state": {
      "_model_module": "@jupyter-widgets/base",
      "_model_module_version": "1.2.0",
      "_model_name": "LayoutModel",
      "_view_count": null,
      "_view_module": "@jupyter-widgets/base",
      "_view_module_version": "1.2.0",
      "_view_name": "LayoutView",
      "align_content": null,
      "align_items": null,
      "align_self": null,
      "border": null,
      "bottom": null,
      "display": null,
      "flex": null,
      "flex_flow": null,
      "grid_area": null,
      "grid_auto_columns": null,
      "grid_auto_flow": null,
      "grid_auto_rows": null,
      "grid_column": null,
      "grid_gap": null,
      "grid_row": null,
      "grid_template_areas": null,
      "grid_template_columns": null,
      "grid_template_rows": null,
      "height": null,
      "justify_content": null,
      "justify_items": null,
      "left": null,
      "margin": null,
      "max_height": null,
      "max_width": null,
      "min_height": null,
      "min_width": null,
      "object_fit": null,
      "object_position": null,
      "order": null,
      "overflow": null,
      "overflow_x": null,
      "overflow_y": null,
      "padding": null,
      "right": null,
      "top": null,
      "visibility": null,
      "width": null
     }
    },
    "42cb90f4d74e405590ea40cba2afe530": {
     "model_module": "@jupyter-widgets/controls",
     "model_name": "ProgressStyleModel",
     "model_module_version": "1.5.0",
     "state": {
      "_model_module": "@jupyter-widgets/controls",
      "_model_module_version": "1.5.0",
      "_model_name": "ProgressStyleModel",
      "_view_count": null,
      "_view_module": "@jupyter-widgets/base",
      "_view_module_version": "1.2.0",
      "_view_name": "StyleView",
      "bar_color": null,
      "description_width": ""
     }
    },
    "66078702da7e4bee9db7c56611e46c91": {
     "model_module": "@jupyter-widgets/base",
     "model_name": "LayoutModel",
     "model_module_version": "1.2.0",
     "state": {
      "_model_module": "@jupyter-widgets/base",
      "_model_module_version": "1.2.0",
      "_model_name": "LayoutModel",
      "_view_count": null,
      "_view_module": "@jupyter-widgets/base",
      "_view_module_version": "1.2.0",
      "_view_name": "LayoutView",
      "align_content": null,
      "align_items": null,
      "align_self": null,
      "border": null,
      "bottom": null,
      "display": null,
      "flex": null,
      "flex_flow": null,
      "grid_area": null,
      "grid_auto_columns": null,
      "grid_auto_flow": null,
      "grid_auto_rows": null,
      "grid_column": null,
      "grid_gap": null,
      "grid_row": null,
      "grid_template_areas": null,
      "grid_template_columns": null,
      "grid_template_rows": null,
      "height": null,
      "justify_content": null,
      "justify_items": null,
      "left": null,
      "margin": null,
      "max_height": null,
      "max_width": null,
      "min_height": null,
      "min_width": null,
      "object_fit": null,
      "object_position": null,
      "order": null,
      "overflow": null,
      "overflow_x": null,
      "overflow_y": null,
      "padding": null,
      "right": null,
      "top": null,
      "visibility": null,
      "width": null
     }
    },
    "433dc5ac89af462080235622a7348ace": {
     "model_module": "@jupyter-widgets/controls",
     "model_name": "DescriptionStyleModel",
     "model_module_version": "1.5.0",
     "state": {
      "_model_module": "@jupyter-widgets/controls",
      "_model_module_version": "1.5.0",
      "_model_name": "DescriptionStyleModel",
      "_view_count": null,
      "_view_module": "@jupyter-widgets/base",
      "_view_module_version": "1.2.0",
      "_view_name": "StyleView",
      "description_width": ""
     }
    },
    "e598c8e92b854459b3eaf0c7525c482d": {
     "model_module": "@jupyter-widgets/controls",
     "model_name": "HBoxModel",
     "model_module_version": "1.5.0",
     "state": {
      "_dom_classes": [],
      "_model_module": "@jupyter-widgets/controls",
      "_model_module_version": "1.5.0",
      "_model_name": "HBoxModel",
      "_view_count": null,
      "_view_module": "@jupyter-widgets/controls",
      "_view_module_version": "1.5.0",
      "_view_name": "HBoxView",
      "box_style": "",
      "children": [
       "IPY_MODEL_f62756eec3f546d8b69cc3e7040303f3",
       "IPY_MODEL_ad94e57517d64c4e9d4070ba4394a3d1",
       "IPY_MODEL_56655f3447444204b0791564ca3cce71"
      ],
      "layout": "IPY_MODEL_213cfc4f84b442c5a62bd0634c19220e"
     }
    },
    "f62756eec3f546d8b69cc3e7040303f3": {
     "model_module": "@jupyter-widgets/controls",
     "model_name": "HTMLModel",
     "model_module_version": "1.5.0",
     "state": {
      "_dom_classes": [],
      "_model_module": "@jupyter-widgets/controls",
      "_model_module_version": "1.5.0",
      "_model_name": "HTMLModel",
      "_view_count": null,
      "_view_module": "@jupyter-widgets/controls",
      "_view_module_version": "1.5.0",
      "_view_name": "HTMLView",
      "description": "",
      "description_tooltip": null,
      "layout": "IPY_MODEL_9d82c4720ddb495e8146d9c3aab90f6b",
      "placeholder": "​",
      "style": "IPY_MODEL_902be3f1e76848f5aa7afd7ada000d8f",
      "value": "tokenizer_config.json: 100%"
     }
    },
    "ad94e57517d64c4e9d4070ba4394a3d1": {
     "model_module": "@jupyter-widgets/controls",
     "model_name": "FloatProgressModel",
     "model_module_version": "1.5.0",
     "state": {
      "_dom_classes": [],
      "_model_module": "@jupyter-widgets/controls",
      "_model_module_version": "1.5.0",
      "_model_name": "FloatProgressModel",
      "_view_count": null,
      "_view_module": "@jupyter-widgets/controls",
      "_view_module_version": "1.5.0",
      "_view_name": "ProgressView",
      "bar_style": "success",
      "description": "",
      "description_tooltip": null,
      "layout": "IPY_MODEL_374c15fdd1034286b8a88c61c4c538f9",
      "max": 405,
      "min": 0,
      "orientation": "horizontal",
      "style": "IPY_MODEL_3abb39a2c8fd41df8d20cc5b583cf001",
      "value": 405
     }
    },
    "56655f3447444204b0791564ca3cce71": {
     "model_module": "@jupyter-widgets/controls",
     "model_name": "HTMLModel",
     "model_module_version": "1.5.0",
     "state": {
      "_dom_classes": [],
      "_model_module": "@jupyter-widgets/controls",
      "_model_module_version": "1.5.0",
      "_model_name": "HTMLModel",
      "_view_count": null,
      "_view_module": "@jupyter-widgets/controls",
      "_view_module_version": "1.5.0",
      "_view_name": "HTMLView",
      "description": "",
      "description_tooltip": null,
      "layout": "IPY_MODEL_7c83e3c0e2aa49d282eb82613f104d76",
      "placeholder": "​",
      "style": "IPY_MODEL_8675d1a513fc45f3b3713ecdea0bc634",
      "value": " 405/405 [00:00&lt;00:00, 52.5kB/s]"
     }
    },
    "213cfc4f84b442c5a62bd0634c19220e": {
     "model_module": "@jupyter-widgets/base",
     "model_name": "LayoutModel",
     "model_module_version": "1.2.0",
     "state": {
      "_model_module": "@jupyter-widgets/base",
      "_model_module_version": "1.2.0",
      "_model_name": "LayoutModel",
      "_view_count": null,
      "_view_module": "@jupyter-widgets/base",
      "_view_module_version": "1.2.0",
      "_view_name": "LayoutView",
      "align_content": null,
      "align_items": null,
      "align_self": null,
      "border": null,
      "bottom": null,
      "display": null,
      "flex": null,
      "flex_flow": null,
      "grid_area": null,
      "grid_auto_columns": null,
      "grid_auto_flow": null,
      "grid_auto_rows": null,
      "grid_column": null,
      "grid_gap": null,
      "grid_row": null,
      "grid_template_areas": null,
      "grid_template_columns": null,
      "grid_template_rows": null,
      "height": null,
      "justify_content": null,
      "justify_items": null,
      "left": null,
      "margin": null,
      "max_height": null,
      "max_width": null,
      "min_height": null,
      "min_width": null,
      "object_fit": null,
      "object_position": null,
      "order": null,
      "overflow": null,
      "overflow_x": null,
      "overflow_y": null,
      "padding": null,
      "right": null,
      "top": null,
      "visibility": null,
      "width": null
     }
    },
    "9d82c4720ddb495e8146d9c3aab90f6b": {
     "model_module": "@jupyter-widgets/base",
     "model_name": "LayoutModel",
     "model_module_version": "1.2.0",
     "state": {
      "_model_module": "@jupyter-widgets/base",
      "_model_module_version": "1.2.0",
      "_model_name": "LayoutModel",
      "_view_count": null,
      "_view_module": "@jupyter-widgets/base",
      "_view_module_version": "1.2.0",
      "_view_name": "LayoutView",
      "align_content": null,
      "align_items": null,
      "align_self": null,
      "border": null,
      "bottom": null,
      "display": null,
      "flex": null,
      "flex_flow": null,
      "grid_area": null,
      "grid_auto_columns": null,
      "grid_auto_flow": null,
      "grid_auto_rows": null,
      "grid_column": null,
      "grid_gap": null,
      "grid_row": null,
      "grid_template_areas": null,
      "grid_template_columns": null,
      "grid_template_rows": null,
      "height": null,
      "justify_content": null,
      "justify_items": null,
      "left": null,
      "margin": null,
      "max_height": null,
      "max_width": null,
      "min_height": null,
      "min_width": null,
      "object_fit": null,
      "object_position": null,
      "order": null,
      "overflow": null,
      "overflow_x": null,
      "overflow_y": null,
      "padding": null,
      "right": null,
      "top": null,
      "visibility": null,
      "width": null
     }
    },
    "902be3f1e76848f5aa7afd7ada000d8f": {
     "model_module": "@jupyter-widgets/controls",
     "model_name": "DescriptionStyleModel",
     "model_module_version": "1.5.0",
     "state": {
      "_model_module": "@jupyter-widgets/controls",
      "_model_module_version": "1.5.0",
      "_model_name": "DescriptionStyleModel",
      "_view_count": null,
      "_view_module": "@jupyter-widgets/base",
      "_view_module_version": "1.2.0",
      "_view_name": "StyleView",
      "description_width": ""
     }
    },
    "374c15fdd1034286b8a88c61c4c538f9": {
     "model_module": "@jupyter-widgets/base",
     "model_name": "LayoutModel",
     "model_module_version": "1.2.0",
     "state": {
      "_model_module": "@jupyter-widgets/base",
      "_model_module_version": "1.2.0",
      "_model_name": "LayoutModel",
      "_view_count": null,
      "_view_module": "@jupyter-widgets/base",
      "_view_module_version": "1.2.0",
      "_view_name": "LayoutView",
      "align_content": null,
      "align_items": null,
      "align_self": null,
      "border": null,
      "bottom": null,
      "display": null,
      "flex": null,
      "flex_flow": null,
      "grid_area": null,
      "grid_auto_columns": null,
      "grid_auto_flow": null,
      "grid_auto_rows": null,
      "grid_column": null,
      "grid_gap": null,
      "grid_row": null,
      "grid_template_areas": null,
      "grid_template_columns": null,
      "grid_template_rows": null,
      "height": null,
      "justify_content": null,
      "justify_items": null,
      "left": null,
      "margin": null,
      "max_height": null,
      "max_width": null,
      "min_height": null,
      "min_width": null,
      "object_fit": null,
      "object_position": null,
      "order": null,
      "overflow": null,
      "overflow_x": null,
      "overflow_y": null,
      "padding": null,
      "right": null,
      "top": null,
      "visibility": null,
      "width": null
     }
    },
    "3abb39a2c8fd41df8d20cc5b583cf001": {
     "model_module": "@jupyter-widgets/controls",
     "model_name": "ProgressStyleModel",
     "model_module_version": "1.5.0",
     "state": {
      "_model_module": "@jupyter-widgets/controls",
      "_model_module_version": "1.5.0",
      "_model_name": "ProgressStyleModel",
      "_view_count": null,
      "_view_module": "@jupyter-widgets/base",
      "_view_module_version": "1.2.0",
      "_view_name": "StyleView",
      "bar_color": null,
      "description_width": ""
     }
    },
    "7c83e3c0e2aa49d282eb82613f104d76": {
     "model_module": "@jupyter-widgets/base",
     "model_name": "LayoutModel",
     "model_module_version": "1.2.0",
     "state": {
      "_model_module": "@jupyter-widgets/base",
      "_model_module_version": "1.2.0",
      "_model_name": "LayoutModel",
      "_view_count": null,
      "_view_module": "@jupyter-widgets/base",
      "_view_module_version": "1.2.0",
      "_view_name": "LayoutView",
      "align_content": null,
      "align_items": null,
      "align_self": null,
      "border": null,
      "bottom": null,
      "display": null,
      "flex": null,
      "flex_flow": null,
      "grid_area": null,
      "grid_auto_columns": null,
      "grid_auto_flow": null,
      "grid_auto_rows": null,
      "grid_column": null,
      "grid_gap": null,
      "grid_row": null,
      "grid_template_areas": null,
      "grid_template_columns": null,
      "grid_template_rows": null,
      "height": null,
      "justify_content": null,
      "justify_items": null,
      "left": null,
      "margin": null,
      "max_height": null,
      "max_width": null,
      "min_height": null,
      "min_width": null,
      "object_fit": null,
      "object_position": null,
      "order": null,
      "overflow": null,
      "overflow_x": null,
      "overflow_y": null,
      "padding": null,
      "right": null,
      "top": null,
      "visibility": null,
      "width": null
     }
    },
    "8675d1a513fc45f3b3713ecdea0bc634": {
     "model_module": "@jupyter-widgets/controls",
     "model_name": "DescriptionStyleModel",
     "model_module_version": "1.5.0",
     "state": {
      "_model_module": "@jupyter-widgets/controls",
      "_model_module_version": "1.5.0",
      "_model_name": "DescriptionStyleModel",
      "_view_count": null,
      "_view_module": "@jupyter-widgets/base",
      "_view_module_version": "1.2.0",
      "_view_name": "StyleView",
      "description_width": ""
     }
    },
    "573f475864684faab4285df32a395783": {
     "model_module": "@jupyter-widgets/controls",
     "model_name": "HBoxModel",
     "model_module_version": "1.5.0",
     "state": {
      "_dom_classes": [],
      "_model_module": "@jupyter-widgets/controls",
      "_model_module_version": "1.5.0",
      "_model_name": "HBoxModel",
      "_view_count": null,
      "_view_module": "@jupyter-widgets/controls",
      "_view_module_version": "1.5.0",
      "_view_name": "HBoxView",
      "box_style": "",
      "children": [
       "IPY_MODEL_2d06849e046e41cdb5505ff4700dbdf9",
       "IPY_MODEL_8ae7576cf673463481e58e1b0175251b",
       "IPY_MODEL_f50cd73fea7047fc8d260ce5e55de305"
      ],
      "layout": "IPY_MODEL_871c277c42ad49b8ab66a1133894c9de"
     }
    },
    "2d06849e046e41cdb5505ff4700dbdf9": {
     "model_module": "@jupyter-widgets/controls",
     "model_name": "HTMLModel",
     "model_module_version": "1.5.0",
     "state": {
      "_dom_classes": [],
      "_model_module": "@jupyter-widgets/controls",
      "_model_module_version": "1.5.0",
      "_model_name": "HTMLModel",
      "_view_count": null,
      "_view_module": "@jupyter-widgets/controls",
      "_view_module_version": "1.5.0",
      "_view_name": "HTMLView",
      "description": "",
      "description_tooltip": null,
      "layout": "IPY_MODEL_3dd462eea2ce4d96816b12deda027308",
      "placeholder": "​",
      "style": "IPY_MODEL_977981bad5aa45048cc3ade4615aa37e",
      "value": "vocab.txt: 100%"
     }
    },
    "8ae7576cf673463481e58e1b0175251b": {
     "model_module": "@jupyter-widgets/controls",
     "model_name": "FloatProgressModel",
     "model_module_version": "1.5.0",
     "state": {
      "_dom_classes": [],
      "_model_module": "@jupyter-widgets/controls",
      "_model_module_version": "1.5.0",
      "_model_name": "FloatProgressModel",
      "_view_count": null,
      "_view_module": "@jupyter-widgets/controls",
      "_view_module_version": "1.5.0",
      "_view_name": "ProgressView",
      "bar_style": "success",
      "description": "",
      "description_tooltip": null,
      "layout": "IPY_MODEL_6728afcda87c41eabf516360b884596e",
      "max": 231508,
      "min": 0,
      "orientation": "horizontal",
      "style": "IPY_MODEL_8b2f026eded6491480bc5e1c17a2e273",
      "value": 231508
     }
    },
    "f50cd73fea7047fc8d260ce5e55de305": {
     "model_module": "@jupyter-widgets/controls",
     "model_name": "HTMLModel",
     "model_module_version": "1.5.0",
     "state": {
      "_dom_classes": [],
      "_model_module": "@jupyter-widgets/controls",
      "_model_module_version": "1.5.0",
      "_model_name": "HTMLModel",
      "_view_count": null,
      "_view_module": "@jupyter-widgets/controls",
      "_view_module_version": "1.5.0",
      "_view_name": "HTMLView",
      "description": "",
      "description_tooltip": null,
      "layout": "IPY_MODEL_2a8b9d6660604b48af2f44d1b73e21b2",
      "placeholder": "​",
      "style": "IPY_MODEL_4f278ea90df640cd9ecd8d7e7e1425af",
      "value": " 232k/232k [00:00&lt;00:00, 665kB/s]"
     }
    },
    "871c277c42ad49b8ab66a1133894c9de": {
     "model_module": "@jupyter-widgets/base",
     "model_name": "LayoutModel",
     "model_module_version": "1.2.0",
     "state": {
      "_model_module": "@jupyter-widgets/base",
      "_model_module_version": "1.2.0",
      "_model_name": "LayoutModel",
      "_view_count": null,
      "_view_module": "@jupyter-widgets/base",
      "_view_module_version": "1.2.0",
      "_view_name": "LayoutView",
      "align_content": null,
      "align_items": null,
      "align_self": null,
      "border": null,
      "bottom": null,
      "display": null,
      "flex": null,
      "flex_flow": null,
      "grid_area": null,
      "grid_auto_columns": null,
      "grid_auto_flow": null,
      "grid_auto_rows": null,
      "grid_column": null,
      "grid_gap": null,
      "grid_row": null,
      "grid_template_areas": null,
      "grid_template_columns": null,
      "grid_template_rows": null,
      "height": null,
      "justify_content": null,
      "justify_items": null,
      "left": null,
      "margin": null,
      "max_height": null,
      "max_width": null,
      "min_height": null,
      "min_width": null,
      "object_fit": null,
      "object_position": null,
      "order": null,
      "overflow": null,
      "overflow_x": null,
      "overflow_y": null,
      "padding": null,
      "right": null,
      "top": null,
      "visibility": null,
      "width": null
     }
    },
    "3dd462eea2ce4d96816b12deda027308": {
     "model_module": "@jupyter-widgets/base",
     "model_name": "LayoutModel",
     "model_module_version": "1.2.0",
     "state": {
      "_model_module": "@jupyter-widgets/base",
      "_model_module_version": "1.2.0",
      "_model_name": "LayoutModel",
      "_view_count": null,
      "_view_module": "@jupyter-widgets/base",
      "_view_module_version": "1.2.0",
      "_view_name": "LayoutView",
      "align_content": null,
      "align_items": null,
      "align_self": null,
      "border": null,
      "bottom": null,
      "display": null,
      "flex": null,
      "flex_flow": null,
      "grid_area": null,
      "grid_auto_columns": null,
      "grid_auto_flow": null,
      "grid_auto_rows": null,
      "grid_column": null,
      "grid_gap": null,
      "grid_row": null,
      "grid_template_areas": null,
      "grid_template_columns": null,
      "grid_template_rows": null,
      "height": null,
      "justify_content": null,
      "justify_items": null,
      "left": null,
      "margin": null,
      "max_height": null,
      "max_width": null,
      "min_height": null,
      "min_width": null,
      "object_fit": null,
      "object_position": null,
      "order": null,
      "overflow": null,
      "overflow_x": null,
      "overflow_y": null,
      "padding": null,
      "right": null,
      "top": null,
      "visibility": null,
      "width": null
     }
    },
    "977981bad5aa45048cc3ade4615aa37e": {
     "model_module": "@jupyter-widgets/controls",
     "model_name": "DescriptionStyleModel",
     "model_module_version": "1.5.0",
     "state": {
      "_model_module": "@jupyter-widgets/controls",
      "_model_module_version": "1.5.0",
      "_model_name": "DescriptionStyleModel",
      "_view_count": null,
      "_view_module": "@jupyter-widgets/base",
      "_view_module_version": "1.2.0",
      "_view_name": "StyleView",
      "description_width": ""
     }
    },
    "6728afcda87c41eabf516360b884596e": {
     "model_module": "@jupyter-widgets/base",
     "model_name": "LayoutModel",
     "model_module_version": "1.2.0",
     "state": {
      "_model_module": "@jupyter-widgets/base",
      "_model_module_version": "1.2.0",
      "_model_name": "LayoutModel",
      "_view_count": null,
      "_view_module": "@jupyter-widgets/base",
      "_view_module_version": "1.2.0",
      "_view_name": "LayoutView",
      "align_content": null,
      "align_items": null,
      "align_self": null,
      "border": null,
      "bottom": null,
      "display": null,
      "flex": null,
      "flex_flow": null,
      "grid_area": null,
      "grid_auto_columns": null,
      "grid_auto_flow": null,
      "grid_auto_rows": null,
      "grid_column": null,
      "grid_gap": null,
      "grid_row": null,
      "grid_template_areas": null,
      "grid_template_columns": null,
      "grid_template_rows": null,
      "height": null,
      "justify_content": null,
      "justify_items": null,
      "left": null,
      "margin": null,
      "max_height": null,
      "max_width": null,
      "min_height": null,
      "min_width": null,
      "object_fit": null,
      "object_position": null,
      "order": null,
      "overflow": null,
      "overflow_x": null,
      "overflow_y": null,
      "padding": null,
      "right": null,
      "top": null,
      "visibility": null,
      "width": null
     }
    },
    "8b2f026eded6491480bc5e1c17a2e273": {
     "model_module": "@jupyter-widgets/controls",
     "model_name": "ProgressStyleModel",
     "model_module_version": "1.5.0",
     "state": {
      "_model_module": "@jupyter-widgets/controls",
      "_model_module_version": "1.5.0",
      "_model_name": "ProgressStyleModel",
      "_view_count": null,
      "_view_module": "@jupyter-widgets/base",
      "_view_module_version": "1.2.0",
      "_view_name": "StyleView",
      "bar_color": null,
      "description_width": ""
     }
    },
    "2a8b9d6660604b48af2f44d1b73e21b2": {
     "model_module": "@jupyter-widgets/base",
     "model_name": "LayoutModel",
     "model_module_version": "1.2.0",
     "state": {
      "_model_module": "@jupyter-widgets/base",
      "_model_module_version": "1.2.0",
      "_model_name": "LayoutModel",
      "_view_count": null,
      "_view_module": "@jupyter-widgets/base",
      "_view_module_version": "1.2.0",
      "_view_name": "LayoutView",
      "align_content": null,
      "align_items": null,
      "align_self": null,
      "border": null,
      "bottom": null,
      "display": null,
      "flex": null,
      "flex_flow": null,
      "grid_area": null,
      "grid_auto_columns": null,
      "grid_auto_flow": null,
      "grid_auto_rows": null,
      "grid_column": null,
      "grid_gap": null,
      "grid_row": null,
      "grid_template_areas": null,
      "grid_template_columns": null,
      "grid_template_rows": null,
      "height": null,
      "justify_content": null,
      "justify_items": null,
      "left": null,
      "margin": null,
      "max_height": null,
      "max_width": null,
      "min_height": null,
      "min_width": null,
      "object_fit": null,
      "object_position": null,
      "order": null,
      "overflow": null,
      "overflow_x": null,
      "overflow_y": null,
      "padding": null,
      "right": null,
      "top": null,
      "visibility": null,
      "width": null
     }
    },
    "4f278ea90df640cd9ecd8d7e7e1425af": {
     "model_module": "@jupyter-widgets/controls",
     "model_name": "DescriptionStyleModel",
     "model_module_version": "1.5.0",
     "state": {
      "_model_module": "@jupyter-widgets/controls",
      "_model_module_version": "1.5.0",
      "_model_name": "DescriptionStyleModel",
      "_view_count": null,
      "_view_module": "@jupyter-widgets/base",
      "_view_module_version": "1.2.0",
      "_view_name": "StyleView",
      "description_width": ""
     }
    },
    "fc033dcbebbb4a70803604840414e74e": {
     "model_module": "@jupyter-widgets/controls",
     "model_name": "HBoxModel",
     "model_module_version": "1.5.0",
     "state": {
      "_dom_classes": [],
      "_model_module": "@jupyter-widgets/controls",
      "_model_module_version": "1.5.0",
      "_model_name": "HBoxModel",
      "_view_count": null,
      "_view_module": "@jupyter-widgets/controls",
      "_view_module_version": "1.5.0",
      "_view_name": "HBoxView",
      "box_style": "",
      "children": [
       "IPY_MODEL_e9ac9e17a38a4f06a0433a0c4f25b134",
       "IPY_MODEL_06efbe86be0e4db68bc62a0483437025",
       "IPY_MODEL_e547df35e75d4d3780e84964da27a814"
      ],
      "layout": "IPY_MODEL_e804b7ab0570405cb5e2034177fb32a7"
     }
    },
    "e9ac9e17a38a4f06a0433a0c4f25b134": {
     "model_module": "@jupyter-widgets/controls",
     "model_name": "HTMLModel",
     "model_module_version": "1.5.0",
     "state": {
      "_dom_classes": [],
      "_model_module": "@jupyter-widgets/controls",
      "_model_module_version": "1.5.0",
      "_model_name": "HTMLModel",
      "_view_count": null,
      "_view_module": "@jupyter-widgets/controls",
      "_view_module_version": "1.5.0",
      "_view_name": "HTMLView",
      "description": "",
      "description_tooltip": null,
      "layout": "IPY_MODEL_6298f6f228eb482488a6d62efaba5d7d",
      "placeholder": "​",
      "style": "IPY_MODEL_f7500a4f17fa43c89f0efc65ad5de609",
      "value": "tokenizer.json: 100%"
     }
    },
    "06efbe86be0e4db68bc62a0483437025": {
     "model_module": "@jupyter-widgets/controls",
     "model_name": "FloatProgressModel",
     "model_module_version": "1.5.0",
     "state": {
      "_dom_classes": [],
      "_model_module": "@jupyter-widgets/controls",
      "_model_module_version": "1.5.0",
      "_model_name": "FloatProgressModel",
      "_view_count": null,
      "_view_module": "@jupyter-widgets/controls",
      "_view_module_version": "1.5.0",
      "_view_name": "ProgressView",
      "bar_style": "success",
      "description": "",
      "description_tooltip": null,
      "layout": "IPY_MODEL_bd0d310dcadb4d6abd5fd6c0e99304cb",
      "max": 466081,
      "min": 0,
      "orientation": "horizontal",
      "style": "IPY_MODEL_6ef11a7b2fb3458ba570736df3e0193b",
      "value": 466081
     }
    },
    "e547df35e75d4d3780e84964da27a814": {
     "model_module": "@jupyter-widgets/controls",
     "model_name": "HTMLModel",
     "model_module_version": "1.5.0",
     "state": {
      "_dom_classes": [],
      "_model_module": "@jupyter-widgets/controls",
      "_model_module_version": "1.5.0",
      "_model_name": "HTMLModel",
      "_view_count": null,
      "_view_module": "@jupyter-widgets/controls",
      "_view_module_version": "1.5.0",
      "_view_name": "HTMLView",
      "description": "",
      "description_tooltip": null,
      "layout": "IPY_MODEL_8a56384340fc4fa3a2ddae1163f292e4",
      "placeholder": "​",
      "style": "IPY_MODEL_37cccaab3c684ac8adc9768d0ecd8693",
      "value": " 466k/466k [00:00&lt;00:00, 1.33MB/s]"
     }
    },
    "e804b7ab0570405cb5e2034177fb32a7": {
     "model_module": "@jupyter-widgets/base",
     "model_name": "LayoutModel",
     "model_module_version": "1.2.0",
     "state": {
      "_model_module": "@jupyter-widgets/base",
      "_model_module_version": "1.2.0",
      "_model_name": "LayoutModel",
      "_view_count": null,
      "_view_module": "@jupyter-widgets/base",
      "_view_module_version": "1.2.0",
      "_view_name": "LayoutView",
      "align_content": null,
      "align_items": null,
      "align_self": null,
      "border": null,
      "bottom": null,
      "display": null,
      "flex": null,
      "flex_flow": null,
      "grid_area": null,
      "grid_auto_columns": null,
      "grid_auto_flow": null,
      "grid_auto_rows": null,
      "grid_column": null,
      "grid_gap": null,
      "grid_row": null,
      "grid_template_areas": null,
      "grid_template_columns": null,
      "grid_template_rows": null,
      "height": null,
      "justify_content": null,
      "justify_items": null,
      "left": null,
      "margin": null,
      "max_height": null,
      "max_width": null,
      "min_height": null,
      "min_width": null,
      "object_fit": null,
      "object_position": null,
      "order": null,
      "overflow": null,
      "overflow_x": null,
      "overflow_y": null,
      "padding": null,
      "right": null,
      "top": null,
      "visibility": null,
      "width": null
     }
    },
    "6298f6f228eb482488a6d62efaba5d7d": {
     "model_module": "@jupyter-widgets/base",
     "model_name": "LayoutModel",
     "model_module_version": "1.2.0",
     "state": {
      "_model_module": "@jupyter-widgets/base",
      "_model_module_version": "1.2.0",
      "_model_name": "LayoutModel",
      "_view_count": null,
      "_view_module": "@jupyter-widgets/base",
      "_view_module_version": "1.2.0",
      "_view_name": "LayoutView",
      "align_content": null,
      "align_items": null,
      "align_self": null,
      "border": null,
      "bottom": null,
      "display": null,
      "flex": null,
      "flex_flow": null,
      "grid_area": null,
      "grid_auto_columns": null,
      "grid_auto_flow": null,
      "grid_auto_rows": null,
      "grid_column": null,
      "grid_gap": null,
      "grid_row": null,
      "grid_template_areas": null,
      "grid_template_columns": null,
      "grid_template_rows": null,
      "height": null,
      "justify_content": null,
      "justify_items": null,
      "left": null,
      "margin": null,
      "max_height": null,
      "max_width": null,
      "min_height": null,
      "min_width": null,
      "object_fit": null,
      "object_position": null,
      "order": null,
      "overflow": null,
      "overflow_x": null,
      "overflow_y": null,
      "padding": null,
      "right": null,
      "top": null,
      "visibility": null,
      "width": null
     }
    },
    "f7500a4f17fa43c89f0efc65ad5de609": {
     "model_module": "@jupyter-widgets/controls",
     "model_name": "DescriptionStyleModel",
     "model_module_version": "1.5.0",
     "state": {
      "_model_module": "@jupyter-widgets/controls",
      "_model_module_version": "1.5.0",
      "_model_name": "DescriptionStyleModel",
      "_view_count": null,
      "_view_module": "@jupyter-widgets/base",
      "_view_module_version": "1.2.0",
      "_view_name": "StyleView",
      "description_width": ""
     }
    },
    "bd0d310dcadb4d6abd5fd6c0e99304cb": {
     "model_module": "@jupyter-widgets/base",
     "model_name": "LayoutModel",
     "model_module_version": "1.2.0",
     "state": {
      "_model_module": "@jupyter-widgets/base",
      "_model_module_version": "1.2.0",
      "_model_name": "LayoutModel",
      "_view_count": null,
      "_view_module": "@jupyter-widgets/base",
      "_view_module_version": "1.2.0",
      "_view_name": "LayoutView",
      "align_content": null,
      "align_items": null,
      "align_self": null,
      "border": null,
      "bottom": null,
      "display": null,
      "flex": null,
      "flex_flow": null,
      "grid_area": null,
      "grid_auto_columns": null,
      "grid_auto_flow": null,
      "grid_auto_rows": null,
      "grid_column": null,
      "grid_gap": null,
      "grid_row": null,
      "grid_template_areas": null,
      "grid_template_columns": null,
      "grid_template_rows": null,
      "height": null,
      "justify_content": null,
      "justify_items": null,
      "left": null,
      "margin": null,
      "max_height": null,
      "max_width": null,
      "min_height": null,
      "min_width": null,
      "object_fit": null,
      "object_position": null,
      "order": null,
      "overflow": null,
      "overflow_x": null,
      "overflow_y": null,
      "padding": null,
      "right": null,
      "top": null,
      "visibility": null,
      "width": null
     }
    },
    "6ef11a7b2fb3458ba570736df3e0193b": {
     "model_module": "@jupyter-widgets/controls",
     "model_name": "ProgressStyleModel",
     "model_module_version": "1.5.0",
     "state": {
      "_model_module": "@jupyter-widgets/controls",
      "_model_module_version": "1.5.0",
      "_model_name": "ProgressStyleModel",
      "_view_count": null,
      "_view_module": "@jupyter-widgets/base",
      "_view_module_version": "1.2.0",
      "_view_name": "StyleView",
      "bar_color": null,
      "description_width": ""
     }
    },
    "8a56384340fc4fa3a2ddae1163f292e4": {
     "model_module": "@jupyter-widgets/base",
     "model_name": "LayoutModel",
     "model_module_version": "1.2.0",
     "state": {
      "_model_module": "@jupyter-widgets/base",
      "_model_module_version": "1.2.0",
      "_model_name": "LayoutModel",
      "_view_count": null,
      "_view_module": "@jupyter-widgets/base",
      "_view_module_version": "1.2.0",
      "_view_name": "LayoutView",
      "align_content": null,
      "align_items": null,
      "align_self": null,
      "border": null,
      "bottom": null,
      "display": null,
      "flex": null,
      "flex_flow": null,
      "grid_area": null,
      "grid_auto_columns": null,
      "grid_auto_flow": null,
      "grid_auto_rows": null,
      "grid_column": null,
      "grid_gap": null,
      "grid_row": null,
      "grid_template_areas": null,
      "grid_template_columns": null,
      "grid_template_rows": null,
      "height": null,
      "justify_content": null,
      "justify_items": null,
      "left": null,
      "margin": null,
      "max_height": null,
      "max_width": null,
      "min_height": null,
      "min_width": null,
      "object_fit": null,
      "object_position": null,
      "order": null,
      "overflow": null,
      "overflow_x": null,
      "overflow_y": null,
      "padding": null,
      "right": null,
      "top": null,
      "visibility": null,
      "width": null
     }
    },
    "37cccaab3c684ac8adc9768d0ecd8693": {
     "model_module": "@jupyter-widgets/controls",
     "model_name": "DescriptionStyleModel",
     "model_module_version": "1.5.0",
     "state": {
      "_model_module": "@jupyter-widgets/controls",
      "_model_module_version": "1.5.0",
      "_model_name": "DescriptionStyleModel",
      "_view_count": null,
      "_view_module": "@jupyter-widgets/base",
      "_view_module_version": "1.2.0",
      "_view_name": "StyleView",
      "description_width": ""
     }
    },
    "0bf04ab7036e4d0fba8dc699874760e7": {
     "model_module": "@jupyter-widgets/controls",
     "model_name": "HBoxModel",
     "model_module_version": "1.5.0",
     "state": {
      "_dom_classes": [],
      "_model_module": "@jupyter-widgets/controls",
      "_model_module_version": "1.5.0",
      "_model_name": "HBoxModel",
      "_view_count": null,
      "_view_module": "@jupyter-widgets/controls",
      "_view_module_version": "1.5.0",
      "_view_name": "HBoxView",
      "box_style": "",
      "children": [
       "IPY_MODEL_f54ee59c291642198ea45b9d30b9c923",
       "IPY_MODEL_d8a51d7c94b1405390cee31d56d5fa18",
       "IPY_MODEL_12ba5c8b2b7641d1903c1d3a87f8a59f"
      ],
      "layout": "IPY_MODEL_98764ca2ad8b412499fbc6be66a10be6"
     }
    },
    "f54ee59c291642198ea45b9d30b9c923": {
     "model_module": "@jupyter-widgets/controls",
     "model_name": "HTMLModel",
     "model_module_version": "1.5.0",
     "state": {
      "_dom_classes": [],
      "_model_module": "@jupyter-widgets/controls",
      "_model_module_version": "1.5.0",
      "_model_name": "HTMLModel",
      "_view_count": null,
      "_view_module": "@jupyter-widgets/controls",
      "_view_module_version": "1.5.0",
      "_view_name": "HTMLView",
      "description": "",
      "description_tooltip": null,
      "layout": "IPY_MODEL_b3d48953b4e74783a8ec38ca97d9363a",
      "placeholder": "​",
      "style": "IPY_MODEL_20a2b124f1d449bfba945c60e2c05aff",
      "value": "special_tokens_map.json: 100%"
     }
    },
    "d8a51d7c94b1405390cee31d56d5fa18": {
     "model_module": "@jupyter-widgets/controls",
     "model_name": "FloatProgressModel",
     "model_module_version": "1.5.0",
     "state": {
      "_dom_classes": [],
      "_model_module": "@jupyter-widgets/controls",
      "_model_module_version": "1.5.0",
      "_model_name": "FloatProgressModel",
      "_view_count": null,
      "_view_module": "@jupyter-widgets/controls",
      "_view_module_version": "1.5.0",
      "_view_name": "ProgressView",
      "bar_style": "success",
      "description": "",
      "description_tooltip": null,
      "layout": "IPY_MODEL_63c7b576fdcd4163a156913c0d0c8103",
      "max": 112,
      "min": 0,
      "orientation": "horizontal",
      "style": "IPY_MODEL_bf61396026184400ab65cb8dda29451e",
      "value": 112
     }
    },
    "12ba5c8b2b7641d1903c1d3a87f8a59f": {
     "model_module": "@jupyter-widgets/controls",
     "model_name": "HTMLModel",
     "model_module_version": "1.5.0",
     "state": {
      "_dom_classes": [],
      "_model_module": "@jupyter-widgets/controls",
      "_model_module_version": "1.5.0",
      "_model_name": "HTMLModel",
      "_view_count": null,
      "_view_module": "@jupyter-widgets/controls",
      "_view_module_version": "1.5.0",
      "_view_name": "HTMLView",
      "description": "",
      "description_tooltip": null,
      "layout": "IPY_MODEL_da8a033a97d64703b81747e99ffac4a3",
      "placeholder": "​",
      "style": "IPY_MODEL_03aac1e6b9454ff2b63326a630b86b2b",
      "value": " 112/112 [00:00&lt;00:00, 14.3kB/s]"
     }
    },
    "98764ca2ad8b412499fbc6be66a10be6": {
     "model_module": "@jupyter-widgets/base",
     "model_name": "LayoutModel",
     "model_module_version": "1.2.0",
     "state": {
      "_model_module": "@jupyter-widgets/base",
      "_model_module_version": "1.2.0",
      "_model_name": "LayoutModel",
      "_view_count": null,
      "_view_module": "@jupyter-widgets/base",
      "_view_module_version": "1.2.0",
      "_view_name": "LayoutView",
      "align_content": null,
      "align_items": null,
      "align_self": null,
      "border": null,
      "bottom": null,
      "display": null,
      "flex": null,
      "flex_flow": null,
      "grid_area": null,
      "grid_auto_columns": null,
      "grid_auto_flow": null,
      "grid_auto_rows": null,
      "grid_column": null,
      "grid_gap": null,
      "grid_row": null,
      "grid_template_areas": null,
      "grid_template_columns": null,
      "grid_template_rows": null,
      "height": null,
      "justify_content": null,
      "justify_items": null,
      "left": null,
      "margin": null,
      "max_height": null,
      "max_width": null,
      "min_height": null,
      "min_width": null,
      "object_fit": null,
      "object_position": null,
      "order": null,
      "overflow": null,
      "overflow_x": null,
      "overflow_y": null,
      "padding": null,
      "right": null,
      "top": null,
      "visibility": null,
      "width": null
     }
    },
    "b3d48953b4e74783a8ec38ca97d9363a": {
     "model_module": "@jupyter-widgets/base",
     "model_name": "LayoutModel",
     "model_module_version": "1.2.0",
     "state": {
      "_model_module": "@jupyter-widgets/base",
      "_model_module_version": "1.2.0",
      "_model_name": "LayoutModel",
      "_view_count": null,
      "_view_module": "@jupyter-widgets/base",
      "_view_module_version": "1.2.0",
      "_view_name": "LayoutView",
      "align_content": null,
      "align_items": null,
      "align_self": null,
      "border": null,
      "bottom": null,
      "display": null,
      "flex": null,
      "flex_flow": null,
      "grid_area": null,
      "grid_auto_columns": null,
      "grid_auto_flow": null,
      "grid_auto_rows": null,
      "grid_column": null,
      "grid_gap": null,
      "grid_row": null,
      "grid_template_areas": null,
      "grid_template_columns": null,
      "grid_template_rows": null,
      "height": null,
      "justify_content": null,
      "justify_items": null,
      "left": null,
      "margin": null,
      "max_height": null,
      "max_width": null,
      "min_height": null,
      "min_width": null,
      "object_fit": null,
      "object_position": null,
      "order": null,
      "overflow": null,
      "overflow_x": null,
      "overflow_y": null,
      "padding": null,
      "right": null,
      "top": null,
      "visibility": null,
      "width": null
     }
    },
    "20a2b124f1d449bfba945c60e2c05aff": {
     "model_module": "@jupyter-widgets/controls",
     "model_name": "DescriptionStyleModel",
     "model_module_version": "1.5.0",
     "state": {
      "_model_module": "@jupyter-widgets/controls",
      "_model_module_version": "1.5.0",
      "_model_name": "DescriptionStyleModel",
      "_view_count": null,
      "_view_module": "@jupyter-widgets/base",
      "_view_module_version": "1.2.0",
      "_view_name": "StyleView",
      "description_width": ""
     }
    },
    "63c7b576fdcd4163a156913c0d0c8103": {
     "model_module": "@jupyter-widgets/base",
     "model_name": "LayoutModel",
     "model_module_version": "1.2.0",
     "state": {
      "_model_module": "@jupyter-widgets/base",
      "_model_module_version": "1.2.0",
      "_model_name": "LayoutModel",
      "_view_count": null,
      "_view_module": "@jupyter-widgets/base",
      "_view_module_version": "1.2.0",
      "_view_name": "LayoutView",
      "align_content": null,
      "align_items": null,
      "align_self": null,
      "border": null,
      "bottom": null,
      "display": null,
      "flex": null,
      "flex_flow": null,
      "grid_area": null,
      "grid_auto_columns": null,
      "grid_auto_flow": null,
      "grid_auto_rows": null,
      "grid_column": null,
      "grid_gap": null,
      "grid_row": null,
      "grid_template_areas": null,
      "grid_template_columns": null,
      "grid_template_rows": null,
      "height": null,
      "justify_content": null,
      "justify_items": null,
      "left": null,
      "margin": null,
      "max_height": null,
      "max_width": null,
      "min_height": null,
      "min_width": null,
      "object_fit": null,
      "object_position": null,
      "order": null,
      "overflow": null,
      "overflow_x": null,
      "overflow_y": null,
      "padding": null,
      "right": null,
      "top": null,
      "visibility": null,
      "width": null
     }
    },
    "bf61396026184400ab65cb8dda29451e": {
     "model_module": "@jupyter-widgets/controls",
     "model_name": "ProgressStyleModel",
     "model_module_version": "1.5.0",
     "state": {
      "_model_module": "@jupyter-widgets/controls",
      "_model_module_version": "1.5.0",
      "_model_name": "ProgressStyleModel",
      "_view_count": null,
      "_view_module": "@jupyter-widgets/base",
      "_view_module_version": "1.2.0",
      "_view_name": "StyleView",
      "bar_color": null,
      "description_width": ""
     }
    },
    "da8a033a97d64703b81747e99ffac4a3": {
     "model_module": "@jupyter-widgets/base",
     "model_name": "LayoutModel",
     "model_module_version": "1.2.0",
     "state": {
      "_model_module": "@jupyter-widgets/base",
      "_model_module_version": "1.2.0",
      "_model_name": "LayoutModel",
      "_view_count": null,
      "_view_module": "@jupyter-widgets/base",
      "_view_module_version": "1.2.0",
      "_view_name": "LayoutView",
      "align_content": null,
      "align_items": null,
      "align_self": null,
      "border": null,
      "bottom": null,
      "display": null,
      "flex": null,
      "flex_flow": null,
      "grid_area": null,
      "grid_auto_columns": null,
      "grid_auto_flow": null,
      "grid_auto_rows": null,
      "grid_column": null,
      "grid_gap": null,
      "grid_row": null,
      "grid_template_areas": null,
      "grid_template_columns": null,
      "grid_template_rows": null,
      "height": null,
      "justify_content": null,
      "justify_items": null,
      "left": null,
      "margin": null,
      "max_height": null,
      "max_width": null,
      "min_height": null,
      "min_width": null,
      "object_fit": null,
      "object_position": null,
      "order": null,
      "overflow": null,
      "overflow_x": null,
      "overflow_y": null,
      "padding": null,
      "right": null,
      "top": null,
      "visibility": null,
      "width": null
     }
    },
    "03aac1e6b9454ff2b63326a630b86b2b": {
     "model_module": "@jupyter-widgets/controls",
     "model_name": "DescriptionStyleModel",
     "model_module_version": "1.5.0",
     "state": {
      "_model_module": "@jupyter-widgets/controls",
      "_model_module_version": "1.5.0",
      "_model_name": "DescriptionStyleModel",
      "_view_count": null,
      "_view_module": "@jupyter-widgets/base",
      "_view_module_version": "1.2.0",
      "_view_name": "StyleView",
      "description_width": ""
     }
    }
   }
  }
 },
 "nbformat": 4,
 "nbformat_minor": 0
}
