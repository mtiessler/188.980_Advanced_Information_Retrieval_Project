{
 "nbformat": 4,
 "nbformat_minor": 0,
 "metadata": {
  "colab": {
   "provenance": [],
   "machine_shape": "hm",
   "gpuType": "T4"
  },
  "kernelspec": {
   "name": "python3",
   "display_name": "Python 3"
  },
  "language_info": {
   "name": "python"
  },
  "accelerator": "GPU",
  "widgets": {
   "application/vnd.jupyter.widget-state+json": {
    "0525931dd0b6410d9a41439f11bd4bda": {
     "model_module": "@jupyter-widgets/controls",
     "model_name": "HBoxModel",
     "model_module_version": "1.5.0",
     "state": {
      "_dom_classes": [],
      "_model_module": "@jupyter-widgets/controls",
      "_model_module_version": "1.5.0",
      "_model_name": "HBoxModel",
      "_view_count": null,
      "_view_module": "@jupyter-widgets/controls",
      "_view_module_version": "1.5.0",
      "_view_name": "HBoxView",
      "box_style": "",
      "children": [
       "IPY_MODEL_cfa907a090ad4b9080466f48b4dc2850",
       "IPY_MODEL_5006a3a18ee24de999f2c39a83131442",
       "IPY_MODEL_45c3d40a91db4cc88e10271d9b410a84"
      ],
      "layout": "IPY_MODEL_98ca6d6753ab46e590f3856105ee167f"
     }
    },
    "cfa907a090ad4b9080466f48b4dc2850": {
     "model_module": "@jupyter-widgets/controls",
     "model_name": "HTMLModel",
     "model_module_version": "1.5.0",
     "state": {
      "_dom_classes": [],
      "_model_module": "@jupyter-widgets/controls",
      "_model_module_version": "1.5.0",
      "_model_name": "HTMLModel",
      "_view_count": null,
      "_view_module": "@jupyter-widgets/controls",
      "_view_module_version": "1.5.0",
      "_view_name": "HTMLView",
      "description": "",
      "description_tooltip": null,
      "layout": "IPY_MODEL_419e2105065f4f179b91dfd8211cccec",
      "placeholder": "​",
      "style": "IPY_MODEL_8dedf14f9d1844c5904612471b404226",
      "value": "artifact.metadata: 100%"
     }
    },
    "5006a3a18ee24de999f2c39a83131442": {
     "model_module": "@jupyter-widgets/controls",
     "model_name": "FloatProgressModel",
     "model_module_version": "1.5.0",
     "state": {
      "_dom_classes": [],
      "_model_module": "@jupyter-widgets/controls",
      "_model_module_version": "1.5.0",
      "_model_name": "FloatProgressModel",
      "_view_count": null,
      "_view_module": "@jupyter-widgets/controls",
      "_view_module_version": "1.5.0",
      "_view_name": "ProgressView",
      "bar_style": "success",
      "description": "",
      "description_tooltip": null,
      "layout": "IPY_MODEL_d595171a62f3484883ac75b9c067714f",
      "max": 1633,
      "min": 0,
      "orientation": "horizontal",
      "style": "IPY_MODEL_aa9ff8a8357a4b69a888508db3eacae2",
      "value": 1633
     }
    },
    "45c3d40a91db4cc88e10271d9b410a84": {
     "model_module": "@jupyter-widgets/controls",
     "model_name": "HTMLModel",
     "model_module_version": "1.5.0",
     "state": {
      "_dom_classes": [],
      "_model_module": "@jupyter-widgets/controls",
      "_model_module_version": "1.5.0",
      "_model_name": "HTMLModel",
      "_view_count": null,
      "_view_module": "@jupyter-widgets/controls",
      "_view_module_version": "1.5.0",
      "_view_name": "HTMLView",
      "description": "",
      "description_tooltip": null,
      "layout": "IPY_MODEL_87ee7b03d34b49cfbabad30f573c4599",
      "placeholder": "​",
      "style": "IPY_MODEL_d2527ca6420549dc8f85d32aa403675a",
      "value": " 1.63k/1.63k [00:00&lt;00:00, 187kB/s]"
     }
    },
    "98ca6d6753ab46e590f3856105ee167f": {
     "model_module": "@jupyter-widgets/base",
     "model_name": "LayoutModel",
     "model_module_version": "1.2.0",
     "state": {
      "_model_module": "@jupyter-widgets/base",
      "_model_module_version": "1.2.0",
      "_model_name": "LayoutModel",
      "_view_count": null,
      "_view_module": "@jupyter-widgets/base",
      "_view_module_version": "1.2.0",
      "_view_name": "LayoutView",
      "align_content": null,
      "align_items": null,
      "align_self": null,
      "border": null,
      "bottom": null,
      "display": null,
      "flex": null,
      "flex_flow": null,
      "grid_area": null,
      "grid_auto_columns": null,
      "grid_auto_flow": null,
      "grid_auto_rows": null,
      "grid_column": null,
      "grid_gap": null,
      "grid_row": null,
      "grid_template_areas": null,
      "grid_template_columns": null,
      "grid_template_rows": null,
      "height": null,
      "justify_content": null,
      "justify_items": null,
      "left": null,
      "margin": null,
      "max_height": null,
      "max_width": null,
      "min_height": null,
      "min_width": null,
      "object_fit": null,
      "object_position": null,
      "order": null,
      "overflow": null,
      "overflow_x": null,
      "overflow_y": null,
      "padding": null,
      "right": null,
      "top": null,
      "visibility": null,
      "width": null
     }
    },
    "419e2105065f4f179b91dfd8211cccec": {
     "model_module": "@jupyter-widgets/base",
     "model_name": "LayoutModel",
     "model_module_version": "1.2.0",
     "state": {
      "_model_module": "@jupyter-widgets/base",
      "_model_module_version": "1.2.0",
      "_model_name": "LayoutModel",
      "_view_count": null,
      "_view_module": "@jupyter-widgets/base",
      "_view_module_version": "1.2.0",
      "_view_name": "LayoutView",
      "align_content": null,
      "align_items": null,
      "align_self": null,
      "border": null,
      "bottom": null,
      "display": null,
      "flex": null,
      "flex_flow": null,
      "grid_area": null,
      "grid_auto_columns": null,
      "grid_auto_flow": null,
      "grid_auto_rows": null,
      "grid_column": null,
      "grid_gap": null,
      "grid_row": null,
      "grid_template_areas": null,
      "grid_template_columns": null,
      "grid_template_rows": null,
      "height": null,
      "justify_content": null,
      "justify_items": null,
      "left": null,
      "margin": null,
      "max_height": null,
      "max_width": null,
      "min_height": null,
      "min_width": null,
      "object_fit": null,
      "object_position": null,
      "order": null,
      "overflow": null,
      "overflow_x": null,
      "overflow_y": null,
      "padding": null,
      "right": null,
      "top": null,
      "visibility": null,
      "width": null
     }
    },
    "8dedf14f9d1844c5904612471b404226": {
     "model_module": "@jupyter-widgets/controls",
     "model_name": "DescriptionStyleModel",
     "model_module_version": "1.5.0",
     "state": {
      "_model_module": "@jupyter-widgets/controls",
      "_model_module_version": "1.5.0",
      "_model_name": "DescriptionStyleModel",
      "_view_count": null,
      "_view_module": "@jupyter-widgets/base",
      "_view_module_version": "1.2.0",
      "_view_name": "StyleView",
      "description_width": ""
     }
    },
    "d595171a62f3484883ac75b9c067714f": {
     "model_module": "@jupyter-widgets/base",
     "model_name": "LayoutModel",
     "model_module_version": "1.2.0",
     "state": {
      "_model_module": "@jupyter-widgets/base",
      "_model_module_version": "1.2.0",
      "_model_name": "LayoutModel",
      "_view_count": null,
      "_view_module": "@jupyter-widgets/base",
      "_view_module_version": "1.2.0",
      "_view_name": "LayoutView",
      "align_content": null,
      "align_items": null,
      "align_self": null,
      "border": null,
      "bottom": null,
      "display": null,
      "flex": null,
      "flex_flow": null,
      "grid_area": null,
      "grid_auto_columns": null,
      "grid_auto_flow": null,
      "grid_auto_rows": null,
      "grid_column": null,
      "grid_gap": null,
      "grid_row": null,
      "grid_template_areas": null,
      "grid_template_columns": null,
      "grid_template_rows": null,
      "height": null,
      "justify_content": null,
      "justify_items": null,
      "left": null,
      "margin": null,
      "max_height": null,
      "max_width": null,
      "min_height": null,
      "min_width": null,
      "object_fit": null,
      "object_position": null,
      "order": null,
      "overflow": null,
      "overflow_x": null,
      "overflow_y": null,
      "padding": null,
      "right": null,
      "top": null,
      "visibility": null,
      "width": null
     }
    },
    "aa9ff8a8357a4b69a888508db3eacae2": {
     "model_module": "@jupyter-widgets/controls",
     "model_name": "ProgressStyleModel",
     "model_module_version": "1.5.0",
     "state": {
      "_model_module": "@jupyter-widgets/controls",
      "_model_module_version": "1.5.0",
      "_model_name": "ProgressStyleModel",
      "_view_count": null,
      "_view_module": "@jupyter-widgets/base",
      "_view_module_version": "1.2.0",
      "_view_name": "StyleView",
      "bar_color": null,
      "description_width": ""
     }
    },
    "87ee7b03d34b49cfbabad30f573c4599": {
     "model_module": "@jupyter-widgets/base",
     "model_name": "LayoutModel",
     "model_module_version": "1.2.0",
     "state": {
      "_model_module": "@jupyter-widgets/base",
      "_model_module_version": "1.2.0",
      "_model_name": "LayoutModel",
      "_view_count": null,
      "_view_module": "@jupyter-widgets/base",
      "_view_module_version": "1.2.0",
      "_view_name": "LayoutView",
      "align_content": null,
      "align_items": null,
      "align_self": null,
      "border": null,
      "bottom": null,
      "display": null,
      "flex": null,
      "flex_flow": null,
      "grid_area": null,
      "grid_auto_columns": null,
      "grid_auto_flow": null,
      "grid_auto_rows": null,
      "grid_column": null,
      "grid_gap": null,
      "grid_row": null,
      "grid_template_areas": null,
      "grid_template_columns": null,
      "grid_template_rows": null,
      "height": null,
      "justify_content": null,
      "justify_items": null,
      "left": null,
      "margin": null,
      "max_height": null,
      "max_width": null,
      "min_height": null,
      "min_width": null,
      "object_fit": null,
      "object_position": null,
      "order": null,
      "overflow": null,
      "overflow_x": null,
      "overflow_y": null,
      "padding": null,
      "right": null,
      "top": null,
      "visibility": null,
      "width": null
     }
    },
    "d2527ca6420549dc8f85d32aa403675a": {
     "model_module": "@jupyter-widgets/controls",
     "model_name": "DescriptionStyleModel",
     "model_module_version": "1.5.0",
     "state": {
      "_model_module": "@jupyter-widgets/controls",
      "_model_module_version": "1.5.0",
      "_model_name": "DescriptionStyleModel",
      "_view_count": null,
      "_view_module": "@jupyter-widgets/base",
      "_view_module_version": "1.2.0",
      "_view_name": "StyleView",
      "description_width": ""
     }
    },
    "e3ebfc6261dd429ba9697f0731391709": {
     "model_module": "@jupyter-widgets/controls",
     "model_name": "HBoxModel",
     "model_module_version": "1.5.0",
     "state": {
      "_dom_classes": [],
      "_model_module": "@jupyter-widgets/controls",
      "_model_module_version": "1.5.0",
      "_model_name": "HBoxModel",
      "_view_count": null,
      "_view_module": "@jupyter-widgets/controls",
      "_view_module_version": "1.5.0",
      "_view_name": "HBoxView",
      "box_style": "",
      "children": [
       "IPY_MODEL_89267590221a4e72a6aac4f8a7799030",
       "IPY_MODEL_ab7041eb9d4641ee89873ddb2acbafcb",
       "IPY_MODEL_de2909bef1ea446385f4fb6bfb86c6d3"
      ],
      "layout": "IPY_MODEL_3159dda22a504db4a0b11d7ac11d266e"
     }
    },
    "89267590221a4e72a6aac4f8a7799030": {
     "model_module": "@jupyter-widgets/controls",
     "model_name": "HTMLModel",
     "model_module_version": "1.5.0",
     "state": {
      "_dom_classes": [],
      "_model_module": "@jupyter-widgets/controls",
      "_model_module_version": "1.5.0",
      "_model_name": "HTMLModel",
      "_view_count": null,
      "_view_module": "@jupyter-widgets/controls",
      "_view_module_version": "1.5.0",
      "_view_name": "HTMLView",
      "description": "",
      "description_tooltip": null,
      "layout": "IPY_MODEL_98a986be091f4f429fb91f760efb5721",
      "placeholder": "​",
      "style": "IPY_MODEL_865c1e2f590044f6878d1b7a3d5be983",
      "value": "config.json: 100%"
     }
    },
    "ab7041eb9d4641ee89873ddb2acbafcb": {
     "model_module": "@jupyter-widgets/controls",
     "model_name": "FloatProgressModel",
     "model_module_version": "1.5.0",
     "state": {
      "_dom_classes": [],
      "_model_module": "@jupyter-widgets/controls",
      "_model_module_version": "1.5.0",
      "_model_name": "FloatProgressModel",
      "_view_count": null,
      "_view_module": "@jupyter-widgets/controls",
      "_view_module_version": "1.5.0",
      "_view_name": "ProgressView",
      "bar_style": "success",
      "description": "",
      "description_tooltip": null,
      "layout": "IPY_MODEL_81accf80c2d3495fa334c2e7a48518b8",
      "max": 743,
      "min": 0,
      "orientation": "horizontal",
      "style": "IPY_MODEL_effec18c9af846d6b62b9898ca4b2e9a",
      "value": 743
     }
    },
    "de2909bef1ea446385f4fb6bfb86c6d3": {
     "model_module": "@jupyter-widgets/controls",
     "model_name": "HTMLModel",
     "model_module_version": "1.5.0",
     "state": {
      "_dom_classes": [],
      "_model_module": "@jupyter-widgets/controls",
      "_model_module_version": "1.5.0",
      "_model_name": "HTMLModel",
      "_view_count": null,
      "_view_module": "@jupyter-widgets/controls",
      "_view_module_version": "1.5.0",
      "_view_name": "HTMLView",
      "description": "",
      "description_tooltip": null,
      "layout": "IPY_MODEL_30519c3399ab42cbae7671c366af82e5",
      "placeholder": "​",
      "style": "IPY_MODEL_c1186a2c6f714b5cad170c6efe0ae2da",
      "value": " 743/743 [00:00&lt;00:00, 95.3kB/s]"
     }
    },
    "3159dda22a504db4a0b11d7ac11d266e": {
     "model_module": "@jupyter-widgets/base",
     "model_name": "LayoutModel",
     "model_module_version": "1.2.0",
     "state": {
      "_model_module": "@jupyter-widgets/base",
      "_model_module_version": "1.2.0",
      "_model_name": "LayoutModel",
      "_view_count": null,
      "_view_module": "@jupyter-widgets/base",
      "_view_module_version": "1.2.0",
      "_view_name": "LayoutView",
      "align_content": null,
      "align_items": null,
      "align_self": null,
      "border": null,
      "bottom": null,
      "display": null,
      "flex": null,
      "flex_flow": null,
      "grid_area": null,
      "grid_auto_columns": null,
      "grid_auto_flow": null,
      "grid_auto_rows": null,
      "grid_column": null,
      "grid_gap": null,
      "grid_row": null,
      "grid_template_areas": null,
      "grid_template_columns": null,
      "grid_template_rows": null,
      "height": null,
      "justify_content": null,
      "justify_items": null,
      "left": null,
      "margin": null,
      "max_height": null,
      "max_width": null,
      "min_height": null,
      "min_width": null,
      "object_fit": null,
      "object_position": null,
      "order": null,
      "overflow": null,
      "overflow_x": null,
      "overflow_y": null,
      "padding": null,
      "right": null,
      "top": null,
      "visibility": null,
      "width": null
     }
    },
    "98a986be091f4f429fb91f760efb5721": {
     "model_module": "@jupyter-widgets/base",
     "model_name": "LayoutModel",
     "model_module_version": "1.2.0",
     "state": {
      "_model_module": "@jupyter-widgets/base",
      "_model_module_version": "1.2.0",
      "_model_name": "LayoutModel",
      "_view_count": null,
      "_view_module": "@jupyter-widgets/base",
      "_view_module_version": "1.2.0",
      "_view_name": "LayoutView",
      "align_content": null,
      "align_items": null,
      "align_self": null,
      "border": null,
      "bottom": null,
      "display": null,
      "flex": null,
      "flex_flow": null,
      "grid_area": null,
      "grid_auto_columns": null,
      "grid_auto_flow": null,
      "grid_auto_rows": null,
      "grid_column": null,
      "grid_gap": null,
      "grid_row": null,
      "grid_template_areas": null,
      "grid_template_columns": null,
      "grid_template_rows": null,
      "height": null,
      "justify_content": null,
      "justify_items": null,
      "left": null,
      "margin": null,
      "max_height": null,
      "max_width": null,
      "min_height": null,
      "min_width": null,
      "object_fit": null,
      "object_position": null,
      "order": null,
      "overflow": null,
      "overflow_x": null,
      "overflow_y": null,
      "padding": null,
      "right": null,
      "top": null,
      "visibility": null,
      "width": null
     }
    },
    "865c1e2f590044f6878d1b7a3d5be983": {
     "model_module": "@jupyter-widgets/controls",
     "model_name": "DescriptionStyleModel",
     "model_module_version": "1.5.0",
     "state": {
      "_model_module": "@jupyter-widgets/controls",
      "_model_module_version": "1.5.0",
      "_model_name": "DescriptionStyleModel",
      "_view_count": null,
      "_view_module": "@jupyter-widgets/base",
      "_view_module_version": "1.2.0",
      "_view_name": "StyleView",
      "description_width": ""
     }
    },
    "81accf80c2d3495fa334c2e7a48518b8": {
     "model_module": "@jupyter-widgets/base",
     "model_name": "LayoutModel",
     "model_module_version": "1.2.0",
     "state": {
      "_model_module": "@jupyter-widgets/base",
      "_model_module_version": "1.2.0",
      "_model_name": "LayoutModel",
      "_view_count": null,
      "_view_module": "@jupyter-widgets/base",
      "_view_module_version": "1.2.0",
      "_view_name": "LayoutView",
      "align_content": null,
      "align_items": null,
      "align_self": null,
      "border": null,
      "bottom": null,
      "display": null,
      "flex": null,
      "flex_flow": null,
      "grid_area": null,
      "grid_auto_columns": null,
      "grid_auto_flow": null,
      "grid_auto_rows": null,
      "grid_column": null,
      "grid_gap": null,
      "grid_row": null,
      "grid_template_areas": null,
      "grid_template_columns": null,
      "grid_template_rows": null,
      "height": null,
      "justify_content": null,
      "justify_items": null,
      "left": null,
      "margin": null,
      "max_height": null,
      "max_width": null,
      "min_height": null,
      "min_width": null,
      "object_fit": null,
      "object_position": null,
      "order": null,
      "overflow": null,
      "overflow_x": null,
      "overflow_y": null,
      "padding": null,
      "right": null,
      "top": null,
      "visibility": null,
      "width": null
     }
    },
    "effec18c9af846d6b62b9898ca4b2e9a": {
     "model_module": "@jupyter-widgets/controls",
     "model_name": "ProgressStyleModel",
     "model_module_version": "1.5.0",
     "state": {
      "_model_module": "@jupyter-widgets/controls",
      "_model_module_version": "1.5.0",
      "_model_name": "ProgressStyleModel",
      "_view_count": null,
      "_view_module": "@jupyter-widgets/base",
      "_view_module_version": "1.2.0",
      "_view_name": "StyleView",
      "bar_color": null,
      "description_width": ""
     }
    },
    "30519c3399ab42cbae7671c366af82e5": {
     "model_module": "@jupyter-widgets/base",
     "model_name": "LayoutModel",
     "model_module_version": "1.2.0",
     "state": {
      "_model_module": "@jupyter-widgets/base",
      "_model_module_version": "1.2.0",
      "_model_name": "LayoutModel",
      "_view_count": null,
      "_view_module": "@jupyter-widgets/base",
      "_view_module_version": "1.2.0",
      "_view_name": "LayoutView",
      "align_content": null,
      "align_items": null,
      "align_self": null,
      "border": null,
      "bottom": null,
      "display": null,
      "flex": null,
      "flex_flow": null,
      "grid_area": null,
      "grid_auto_columns": null,
      "grid_auto_flow": null,
      "grid_auto_rows": null,
      "grid_column": null,
      "grid_gap": null,
      "grid_row": null,
      "grid_template_areas": null,
      "grid_template_columns": null,
      "grid_template_rows": null,
      "height": null,
      "justify_content": null,
      "justify_items": null,
      "left": null,
      "margin": null,
      "max_height": null,
      "max_width": null,
      "min_height": null,
      "min_width": null,
      "object_fit": null,
      "object_position": null,
      "order": null,
      "overflow": null,
      "overflow_x": null,
      "overflow_y": null,
      "padding": null,
      "right": null,
      "top": null,
      "visibility": null,
      "width": null
     }
    },
    "c1186a2c6f714b5cad170c6efe0ae2da": {
     "model_module": "@jupyter-widgets/controls",
     "model_name": "DescriptionStyleModel",
     "model_module_version": "1.5.0",
     "state": {
      "_model_module": "@jupyter-widgets/controls",
      "_model_module_version": "1.5.0",
      "_model_name": "DescriptionStyleModel",
      "_view_count": null,
      "_view_module": "@jupyter-widgets/base",
      "_view_module_version": "1.2.0",
      "_view_name": "StyleView",
      "description_width": ""
     }
    },
    "d2401b3d67074c4e83b3ee7b4301baed": {
     "model_module": "@jupyter-widgets/controls",
     "model_name": "HBoxModel",
     "model_module_version": "1.5.0",
     "state": {
      "_dom_classes": [],
      "_model_module": "@jupyter-widgets/controls",
      "_model_module_version": "1.5.0",
      "_model_name": "HBoxModel",
      "_view_count": null,
      "_view_module": "@jupyter-widgets/controls",
      "_view_module_version": "1.5.0",
      "_view_name": "HBoxView",
      "box_style": "",
      "children": [
       "IPY_MODEL_c08d69eb9b3c477e924a513975adeb29",
       "IPY_MODEL_6802ab68052b4d409b8718b27458651e",
       "IPY_MODEL_1161d5f6efcc40c8906c62af7d5f76f4"
      ],
      "layout": "IPY_MODEL_191412f7b56b40d2a4bb1e4da34d120c"
     }
    },
    "c08d69eb9b3c477e924a513975adeb29": {
     "model_module": "@jupyter-widgets/controls",
     "model_name": "HTMLModel",
     "model_module_version": "1.5.0",
     "state": {
      "_dom_classes": [],
      "_model_module": "@jupyter-widgets/controls",
      "_model_module_version": "1.5.0",
      "_model_name": "HTMLModel",
      "_view_count": null,
      "_view_module": "@jupyter-widgets/controls",
      "_view_module_version": "1.5.0",
      "_view_name": "HTMLView",
      "description": "",
      "description_tooltip": null,
      "layout": "IPY_MODEL_401f35f822f44dd4bec9616b105f24e7",
      "placeholder": "​",
      "style": "IPY_MODEL_95a201f06b31470eb0d0ba1782809551",
      "value": "model.safetensors: 100%"
     }
    },
    "6802ab68052b4d409b8718b27458651e": {
     "model_module": "@jupyter-widgets/controls",
     "model_name": "FloatProgressModel",
     "model_module_version": "1.5.0",
     "state": {
      "_dom_classes": [],
      "_model_module": "@jupyter-widgets/controls",
      "_model_module_version": "1.5.0",
      "_model_name": "FloatProgressModel",
      "_view_count": null,
      "_view_module": "@jupyter-widgets/controls",
      "_view_module_version": "1.5.0",
      "_view_name": "ProgressView",
      "bar_style": "success",
      "description": "",
      "description_tooltip": null,
      "layout": "IPY_MODEL_db98e7687a104015b71803cfc37b6d02",
      "max": 438349816,
      "min": 0,
      "orientation": "horizontal",
      "style": "IPY_MODEL_c33c7c39a21b43f59f3f5643f8e11117",
      "value": 438349816
     }
    },
    "1161d5f6efcc40c8906c62af7d5f76f4": {
     "model_module": "@jupyter-widgets/controls",
     "model_name": "HTMLModel",
     "model_module_version": "1.5.0",
     "state": {
      "_dom_classes": [],
      "_model_module": "@jupyter-widgets/controls",
      "_model_module_version": "1.5.0",
      "_model_name": "HTMLModel",
      "_view_count": null,
      "_view_module": "@jupyter-widgets/controls",
      "_view_module_version": "1.5.0",
      "_view_name": "HTMLView",
      "description": "",
      "description_tooltip": null,
      "layout": "IPY_MODEL_8c6d07e66dd8461f9a69311be3568db3",
      "placeholder": "​",
      "style": "IPY_MODEL_07ce70b645c141bdb036463e5118d49e",
      "value": " 438M/438M [00:02&lt;00:00, 142MB/s]"
     }
    },
    "191412f7b56b40d2a4bb1e4da34d120c": {
     "model_module": "@jupyter-widgets/base",
     "model_name": "LayoutModel",
     "model_module_version": "1.2.0",
     "state": {
      "_model_module": "@jupyter-widgets/base",
      "_model_module_version": "1.2.0",
      "_model_name": "LayoutModel",
      "_view_count": null,
      "_view_module": "@jupyter-widgets/base",
      "_view_module_version": "1.2.0",
      "_view_name": "LayoutView",
      "align_content": null,
      "align_items": null,
      "align_self": null,
      "border": null,
      "bottom": null,
      "display": null,
      "flex": null,
      "flex_flow": null,
      "grid_area": null,
      "grid_auto_columns": null,
      "grid_auto_flow": null,
      "grid_auto_rows": null,
      "grid_column": null,
      "grid_gap": null,
      "grid_row": null,
      "grid_template_areas": null,
      "grid_template_columns": null,
      "grid_template_rows": null,
      "height": null,
      "justify_content": null,
      "justify_items": null,
      "left": null,
      "margin": null,
      "max_height": null,
      "max_width": null,
      "min_height": null,
      "min_width": null,
      "object_fit": null,
      "object_position": null,
      "order": null,
      "overflow": null,
      "overflow_x": null,
      "overflow_y": null,
      "padding": null,
      "right": null,
      "top": null,
      "visibility": null,
      "width": null
     }
    },
    "401f35f822f44dd4bec9616b105f24e7": {
     "model_module": "@jupyter-widgets/base",
     "model_name": "LayoutModel",
     "model_module_version": "1.2.0",
     "state": {
      "_model_module": "@jupyter-widgets/base",
      "_model_module_version": "1.2.0",
      "_model_name": "LayoutModel",
      "_view_count": null,
      "_view_module": "@jupyter-widgets/base",
      "_view_module_version": "1.2.0",
      "_view_name": "LayoutView",
      "align_content": null,
      "align_items": null,
      "align_self": null,
      "border": null,
      "bottom": null,
      "display": null,
      "flex": null,
      "flex_flow": null,
      "grid_area": null,
      "grid_auto_columns": null,
      "grid_auto_flow": null,
      "grid_auto_rows": null,
      "grid_column": null,
      "grid_gap": null,
      "grid_row": null,
      "grid_template_areas": null,
      "grid_template_columns": null,
      "grid_template_rows": null,
      "height": null,
      "justify_content": null,
      "justify_items": null,
      "left": null,
      "margin": null,
      "max_height": null,
      "max_width": null,
      "min_height": null,
      "min_width": null,
      "object_fit": null,
      "object_position": null,
      "order": null,
      "overflow": null,
      "overflow_x": null,
      "overflow_y": null,
      "padding": null,
      "right": null,
      "top": null,
      "visibility": null,
      "width": null
     }
    },
    "95a201f06b31470eb0d0ba1782809551": {
     "model_module": "@jupyter-widgets/controls",
     "model_name": "DescriptionStyleModel",
     "model_module_version": "1.5.0",
     "state": {
      "_model_module": "@jupyter-widgets/controls",
      "_model_module_version": "1.5.0",
      "_model_name": "DescriptionStyleModel",
      "_view_count": null,
      "_view_module": "@jupyter-widgets/base",
      "_view_module_version": "1.2.0",
      "_view_name": "StyleView",
      "description_width": ""
     }
    },
    "db98e7687a104015b71803cfc37b6d02": {
     "model_module": "@jupyter-widgets/base",
     "model_name": "LayoutModel",
     "model_module_version": "1.2.0",
     "state": {
      "_model_module": "@jupyter-widgets/base",
      "_model_module_version": "1.2.0",
      "_model_name": "LayoutModel",
      "_view_count": null,
      "_view_module": "@jupyter-widgets/base",
      "_view_module_version": "1.2.0",
      "_view_name": "LayoutView",
      "align_content": null,
      "align_items": null,
      "align_self": null,
      "border": null,
      "bottom": null,
      "display": null,
      "flex": null,
      "flex_flow": null,
      "grid_area": null,
      "grid_auto_columns": null,
      "grid_auto_flow": null,
      "grid_auto_rows": null,
      "grid_column": null,
      "grid_gap": null,
      "grid_row": null,
      "grid_template_areas": null,
      "grid_template_columns": null,
      "grid_template_rows": null,
      "height": null,
      "justify_content": null,
      "justify_items": null,
      "left": null,
      "margin": null,
      "max_height": null,
      "max_width": null,
      "min_height": null,
      "min_width": null,
      "object_fit": null,
      "object_position": null,
      "order": null,
      "overflow": null,
      "overflow_x": null,
      "overflow_y": null,
      "padding": null,
      "right": null,
      "top": null,
      "visibility": null,
      "width": null
     }
    },
    "c33c7c39a21b43f59f3f5643f8e11117": {
     "model_module": "@jupyter-widgets/controls",
     "model_name": "ProgressStyleModel",
     "model_module_version": "1.5.0",
     "state": {
      "_model_module": "@jupyter-widgets/controls",
      "_model_module_version": "1.5.0",
      "_model_name": "ProgressStyleModel",
      "_view_count": null,
      "_view_module": "@jupyter-widgets/base",
      "_view_module_version": "1.2.0",
      "_view_name": "StyleView",
      "bar_color": null,
      "description_width": ""
     }
    },
    "8c6d07e66dd8461f9a69311be3568db3": {
     "model_module": "@jupyter-widgets/base",
     "model_name": "LayoutModel",
     "model_module_version": "1.2.0",
     "state": {
      "_model_module": "@jupyter-widgets/base",
      "_model_module_version": "1.2.0",
      "_model_name": "LayoutModel",
      "_view_count": null,
      "_view_module": "@jupyter-widgets/base",
      "_view_module_version": "1.2.0",
      "_view_name": "LayoutView",
      "align_content": null,
      "align_items": null,
      "align_self": null,
      "border": null,
      "bottom": null,
      "display": null,
      "flex": null,
      "flex_flow": null,
      "grid_area": null,
      "grid_auto_columns": null,
      "grid_auto_flow": null,
      "grid_auto_rows": null,
      "grid_column": null,
      "grid_gap": null,
      "grid_row": null,
      "grid_template_areas": null,
      "grid_template_columns": null,
      "grid_template_rows": null,
      "height": null,
      "justify_content": null,
      "justify_items": null,
      "left": null,
      "margin": null,
      "max_height": null,
      "max_width": null,
      "min_height": null,
      "min_width": null,
      "object_fit": null,
      "object_position": null,
      "order": null,
      "overflow": null,
      "overflow_x": null,
      "overflow_y": null,
      "padding": null,
      "right": null,
      "top": null,
      "visibility": null,
      "width": null
     }
    },
    "07ce70b645c141bdb036463e5118d49e": {
     "model_module": "@jupyter-widgets/controls",
     "model_name": "DescriptionStyleModel",
     "model_module_version": "1.5.0",
     "state": {
      "_model_module": "@jupyter-widgets/controls",
      "_model_module_version": "1.5.0",
      "_model_name": "DescriptionStyleModel",
      "_view_count": null,
      "_view_module": "@jupyter-widgets/base",
      "_view_module_version": "1.2.0",
      "_view_name": "StyleView",
      "description_width": ""
     }
    },
    "0b6de2b9931d444f91ffa81cbff15192": {
     "model_module": "@jupyter-widgets/controls",
     "model_name": "HBoxModel",
     "model_module_version": "1.5.0",
     "state": {
      "_dom_classes": [],
      "_model_module": "@jupyter-widgets/controls",
      "_model_module_version": "1.5.0",
      "_model_name": "HBoxModel",
      "_view_count": null,
      "_view_module": "@jupyter-widgets/controls",
      "_view_module_version": "1.5.0",
      "_view_name": "HBoxView",
      "box_style": "",
      "children": [
       "IPY_MODEL_ed63340422404936ac6d386d727bb43b",
       "IPY_MODEL_4bc3793b9c524431a5109659c55ab497",
       "IPY_MODEL_cedc6bb43eb74d6a85bb83718a0078c9"
      ],
      "layout": "IPY_MODEL_212eea6a79a64ad18bc68ae373ee3a3c"
     }
    },
    "ed63340422404936ac6d386d727bb43b": {
     "model_module": "@jupyter-widgets/controls",
     "model_name": "HTMLModel",
     "model_module_version": "1.5.0",
     "state": {
      "_dom_classes": [],
      "_model_module": "@jupyter-widgets/controls",
      "_model_module_version": "1.5.0",
      "_model_name": "HTMLModel",
      "_view_count": null,
      "_view_module": "@jupyter-widgets/controls",
      "_view_module_version": "1.5.0",
      "_view_name": "HTMLView",
      "description": "",
      "description_tooltip": null,
      "layout": "IPY_MODEL_005c11fefdfa42eaa036c4edba81b353",
      "placeholder": "​",
      "style": "IPY_MODEL_09e23ca5ada943498ad460d9f239aa10",
      "value": "tokenizer_config.json: 100%"
     }
    },
    "4bc3793b9c524431a5109659c55ab497": {
     "model_module": "@jupyter-widgets/controls",
     "model_name": "FloatProgressModel",
     "model_module_version": "1.5.0",
     "state": {
      "_dom_classes": [],
      "_model_module": "@jupyter-widgets/controls",
      "_model_module_version": "1.5.0",
      "_model_name": "FloatProgressModel",
      "_view_count": null,
      "_view_module": "@jupyter-widgets/controls",
      "_view_module_version": "1.5.0",
      "_view_name": "ProgressView",
      "bar_style": "success",
      "description": "",
      "description_tooltip": null,
      "layout": "IPY_MODEL_817a919967fd4dfea87fe2c5a39b8797",
      "max": 405,
      "min": 0,
      "orientation": "horizontal",
      "style": "IPY_MODEL_ac9fe3d3fee7466e8d391955384048a1",
      "value": 405
     }
    },
    "cedc6bb43eb74d6a85bb83718a0078c9": {
     "model_module": "@jupyter-widgets/controls",
     "model_name": "HTMLModel",
     "model_module_version": "1.5.0",
     "state": {
      "_dom_classes": [],
      "_model_module": "@jupyter-widgets/controls",
      "_model_module_version": "1.5.0",
      "_model_name": "HTMLModel",
      "_view_count": null,
      "_view_module": "@jupyter-widgets/controls",
      "_view_module_version": "1.5.0",
      "_view_name": "HTMLView",
      "description": "",
      "description_tooltip": null,
      "layout": "IPY_MODEL_750e8d465f594d6a944fde04af2873b6",
      "placeholder": "​",
      "style": "IPY_MODEL_7070c6d8b20044d493cb086b0779dd89",
      "value": " 405/405 [00:00&lt;00:00, 51.8kB/s]"
     }
    },
    "212eea6a79a64ad18bc68ae373ee3a3c": {
     "model_module": "@jupyter-widgets/base",
     "model_name": "LayoutModel",
     "model_module_version": "1.2.0",
     "state": {
      "_model_module": "@jupyter-widgets/base",
      "_model_module_version": "1.2.0",
      "_model_name": "LayoutModel",
      "_view_count": null,
      "_view_module": "@jupyter-widgets/base",
      "_view_module_version": "1.2.0",
      "_view_name": "LayoutView",
      "align_content": null,
      "align_items": null,
      "align_self": null,
      "border": null,
      "bottom": null,
      "display": null,
      "flex": null,
      "flex_flow": null,
      "grid_area": null,
      "grid_auto_columns": null,
      "grid_auto_flow": null,
      "grid_auto_rows": null,
      "grid_column": null,
      "grid_gap": null,
      "grid_row": null,
      "grid_template_areas": null,
      "grid_template_columns": null,
      "grid_template_rows": null,
      "height": null,
      "justify_content": null,
      "justify_items": null,
      "left": null,
      "margin": null,
      "max_height": null,
      "max_width": null,
      "min_height": null,
      "min_width": null,
      "object_fit": null,
      "object_position": null,
      "order": null,
      "overflow": null,
      "overflow_x": null,
      "overflow_y": null,
      "padding": null,
      "right": null,
      "top": null,
      "visibility": null,
      "width": null
     }
    },
    "005c11fefdfa42eaa036c4edba81b353": {
     "model_module": "@jupyter-widgets/base",
     "model_name": "LayoutModel",
     "model_module_version": "1.2.0",
     "state": {
      "_model_module": "@jupyter-widgets/base",
      "_model_module_version": "1.2.0",
      "_model_name": "LayoutModel",
      "_view_count": null,
      "_view_module": "@jupyter-widgets/base",
      "_view_module_version": "1.2.0",
      "_view_name": "LayoutView",
      "align_content": null,
      "align_items": null,
      "align_self": null,
      "border": null,
      "bottom": null,
      "display": null,
      "flex": null,
      "flex_flow": null,
      "grid_area": null,
      "grid_auto_columns": null,
      "grid_auto_flow": null,
      "grid_auto_rows": null,
      "grid_column": null,
      "grid_gap": null,
      "grid_row": null,
      "grid_template_areas": null,
      "grid_template_columns": null,
      "grid_template_rows": null,
      "height": null,
      "justify_content": null,
      "justify_items": null,
      "left": null,
      "margin": null,
      "max_height": null,
      "max_width": null,
      "min_height": null,
      "min_width": null,
      "object_fit": null,
      "object_position": null,
      "order": null,
      "overflow": null,
      "overflow_x": null,
      "overflow_y": null,
      "padding": null,
      "right": null,
      "top": null,
      "visibility": null,
      "width": null
     }
    },
    "09e23ca5ada943498ad460d9f239aa10": {
     "model_module": "@jupyter-widgets/controls",
     "model_name": "DescriptionStyleModel",
     "model_module_version": "1.5.0",
     "state": {
      "_model_module": "@jupyter-widgets/controls",
      "_model_module_version": "1.5.0",
      "_model_name": "DescriptionStyleModel",
      "_view_count": null,
      "_view_module": "@jupyter-widgets/base",
      "_view_module_version": "1.2.0",
      "_view_name": "StyleView",
      "description_width": ""
     }
    },
    "817a919967fd4dfea87fe2c5a39b8797": {
     "model_module": "@jupyter-widgets/base",
     "model_name": "LayoutModel",
     "model_module_version": "1.2.0",
     "state": {
      "_model_module": "@jupyter-widgets/base",
      "_model_module_version": "1.2.0",
      "_model_name": "LayoutModel",
      "_view_count": null,
      "_view_module": "@jupyter-widgets/base",
      "_view_module_version": "1.2.0",
      "_view_name": "LayoutView",
      "align_content": null,
      "align_items": null,
      "align_self": null,
      "border": null,
      "bottom": null,
      "display": null,
      "flex": null,
      "flex_flow": null,
      "grid_area": null,
      "grid_auto_columns": null,
      "grid_auto_flow": null,
      "grid_auto_rows": null,
      "grid_column": null,
      "grid_gap": null,
      "grid_row": null,
      "grid_template_areas": null,
      "grid_template_columns": null,
      "grid_template_rows": null,
      "height": null,
      "justify_content": null,
      "justify_items": null,
      "left": null,
      "margin": null,
      "max_height": null,
      "max_width": null,
      "min_height": null,
      "min_width": null,
      "object_fit": null,
      "object_position": null,
      "order": null,
      "overflow": null,
      "overflow_x": null,
      "overflow_y": null,
      "padding": null,
      "right": null,
      "top": null,
      "visibility": null,
      "width": null
     }
    },
    "ac9fe3d3fee7466e8d391955384048a1": {
     "model_module": "@jupyter-widgets/controls",
     "model_name": "ProgressStyleModel",
     "model_module_version": "1.5.0",
     "state": {
      "_model_module": "@jupyter-widgets/controls",
      "_model_module_version": "1.5.0",
      "_model_name": "ProgressStyleModel",
      "_view_count": null,
      "_view_module": "@jupyter-widgets/base",
      "_view_module_version": "1.2.0",
      "_view_name": "StyleView",
      "bar_color": null,
      "description_width": ""
     }
    },
    "750e8d465f594d6a944fde04af2873b6": {
     "model_module": "@jupyter-widgets/base",
     "model_name": "LayoutModel",
     "model_module_version": "1.2.0",
     "state": {
      "_model_module": "@jupyter-widgets/base",
      "_model_module_version": "1.2.0",
      "_model_name": "LayoutModel",
      "_view_count": null,
      "_view_module": "@jupyter-widgets/base",
      "_view_module_version": "1.2.0",
      "_view_name": "LayoutView",
      "align_content": null,
      "align_items": null,
      "align_self": null,
      "border": null,
      "bottom": null,
      "display": null,
      "flex": null,
      "flex_flow": null,
      "grid_area": null,
      "grid_auto_columns": null,
      "grid_auto_flow": null,
      "grid_auto_rows": null,
      "grid_column": null,
      "grid_gap": null,
      "grid_row": null,
      "grid_template_areas": null,
      "grid_template_columns": null,
      "grid_template_rows": null,
      "height": null,
      "justify_content": null,
      "justify_items": null,
      "left": null,
      "margin": null,
      "max_height": null,
      "max_width": null,
      "min_height": null,
      "min_width": null,
      "object_fit": null,
      "object_position": null,
      "order": null,
      "overflow": null,
      "overflow_x": null,
      "overflow_y": null,
      "padding": null,
      "right": null,
      "top": null,
      "visibility": null,
      "width": null
     }
    },
    "7070c6d8b20044d493cb086b0779dd89": {
     "model_module": "@jupyter-widgets/controls",
     "model_name": "DescriptionStyleModel",
     "model_module_version": "1.5.0",
     "state": {
      "_model_module": "@jupyter-widgets/controls",
      "_model_module_version": "1.5.0",
      "_model_name": "DescriptionStyleModel",
      "_view_count": null,
      "_view_module": "@jupyter-widgets/base",
      "_view_module_version": "1.2.0",
      "_view_name": "StyleView",
      "description_width": ""
     }
    },
    "7182b37ddcf44f12af3ba8a73a424d1a": {
     "model_module": "@jupyter-widgets/controls",
     "model_name": "HBoxModel",
     "model_module_version": "1.5.0",
     "state": {
      "_dom_classes": [],
      "_model_module": "@jupyter-widgets/controls",
      "_model_module_version": "1.5.0",
      "_model_name": "HBoxModel",
      "_view_count": null,
      "_view_module": "@jupyter-widgets/controls",
      "_view_module_version": "1.5.0",
      "_view_name": "HBoxView",
      "box_style": "",
      "children": [
       "IPY_MODEL_7c00a8cd9d26448ea3e1dd557f755ffc",
       "IPY_MODEL_eca60eb44c334835b929c30d6fc9bf99",
       "IPY_MODEL_06a4a53561964008b47729928fef351b"
      ],
      "layout": "IPY_MODEL_57a5c9194cb646fea4dcf3b8d5e5e133"
     }
    },
    "7c00a8cd9d26448ea3e1dd557f755ffc": {
     "model_module": "@jupyter-widgets/controls",
     "model_name": "HTMLModel",
     "model_module_version": "1.5.0",
     "state": {
      "_dom_classes": [],
      "_model_module": "@jupyter-widgets/controls",
      "_model_module_version": "1.5.0",
      "_model_name": "HTMLModel",
      "_view_count": null,
      "_view_module": "@jupyter-widgets/controls",
      "_view_module_version": "1.5.0",
      "_view_name": "HTMLView",
      "description": "",
      "description_tooltip": null,
      "layout": "IPY_MODEL_4e8124e886474b08b43bdc9a8b43517f",
      "placeholder": "​",
      "style": "IPY_MODEL_1927b9ec2061419b822e1b6959f56d56",
      "value": "vocab.txt: 100%"
     }
    },
    "eca60eb44c334835b929c30d6fc9bf99": {
     "model_module": "@jupyter-widgets/controls",
     "model_name": "FloatProgressModel",
     "model_module_version": "1.5.0",
     "state": {
      "_dom_classes": [],
      "_model_module": "@jupyter-widgets/controls",
      "_model_module_version": "1.5.0",
      "_model_name": "FloatProgressModel",
      "_view_count": null,
      "_view_module": "@jupyter-widgets/controls",
      "_view_module_version": "1.5.0",
      "_view_name": "ProgressView",
      "bar_style": "success",
      "description": "",
      "description_tooltip": null,
      "layout": "IPY_MODEL_8c946e4a7fcf4377976145ae0c15881b",
      "max": 231508,
      "min": 0,
      "orientation": "horizontal",
      "style": "IPY_MODEL_271b8dd60dff4be685d215b8fcaf8b5d",
      "value": 231508
     }
    },
    "06a4a53561964008b47729928fef351b": {
     "model_module": "@jupyter-widgets/controls",
     "model_name": "HTMLModel",
     "model_module_version": "1.5.0",
     "state": {
      "_dom_classes": [],
      "_model_module": "@jupyter-widgets/controls",
      "_model_module_version": "1.5.0",
      "_model_name": "HTMLModel",
      "_view_count": null,
      "_view_module": "@jupyter-widgets/controls",
      "_view_module_version": "1.5.0",
      "_view_name": "HTMLView",
      "description": "",
      "description_tooltip": null,
      "layout": "IPY_MODEL_b0c64cc8f6c047039dd7440c97a1f649",
      "placeholder": "​",
      "style": "IPY_MODEL_12827546b2ab4b36a0f584307a67685b",
      "value": " 232k/232k [00:00&lt;00:00, 670kB/s]"
     }
    },
    "57a5c9194cb646fea4dcf3b8d5e5e133": {
     "model_module": "@jupyter-widgets/base",
     "model_name": "LayoutModel",
     "model_module_version": "1.2.0",
     "state": {
      "_model_module": "@jupyter-widgets/base",
      "_model_module_version": "1.2.0",
      "_model_name": "LayoutModel",
      "_view_count": null,
      "_view_module": "@jupyter-widgets/base",
      "_view_module_version": "1.2.0",
      "_view_name": "LayoutView",
      "align_content": null,
      "align_items": null,
      "align_self": null,
      "border": null,
      "bottom": null,
      "display": null,
      "flex": null,
      "flex_flow": null,
      "grid_area": null,
      "grid_auto_columns": null,
      "grid_auto_flow": null,
      "grid_auto_rows": null,
      "grid_column": null,
      "grid_gap": null,
      "grid_row": null,
      "grid_template_areas": null,
      "grid_template_columns": null,
      "grid_template_rows": null,
      "height": null,
      "justify_content": null,
      "justify_items": null,
      "left": null,
      "margin": null,
      "max_height": null,
      "max_width": null,
      "min_height": null,
      "min_width": null,
      "object_fit": null,
      "object_position": null,
      "order": null,
      "overflow": null,
      "overflow_x": null,
      "overflow_y": null,
      "padding": null,
      "right": null,
      "top": null,
      "visibility": null,
      "width": null
     }
    },
    "4e8124e886474b08b43bdc9a8b43517f": {
     "model_module": "@jupyter-widgets/base",
     "model_name": "LayoutModel",
     "model_module_version": "1.2.0",
     "state": {
      "_model_module": "@jupyter-widgets/base",
      "_model_module_version": "1.2.0",
      "_model_name": "LayoutModel",
      "_view_count": null,
      "_view_module": "@jupyter-widgets/base",
      "_view_module_version": "1.2.0",
      "_view_name": "LayoutView",
      "align_content": null,
      "align_items": null,
      "align_self": null,
      "border": null,
      "bottom": null,
      "display": null,
      "flex": null,
      "flex_flow": null,
      "grid_area": null,
      "grid_auto_columns": null,
      "grid_auto_flow": null,
      "grid_auto_rows": null,
      "grid_column": null,
      "grid_gap": null,
      "grid_row": null,
      "grid_template_areas": null,
      "grid_template_columns": null,
      "grid_template_rows": null,
      "height": null,
      "justify_content": null,
      "justify_items": null,
      "left": null,
      "margin": null,
      "max_height": null,
      "max_width": null,
      "min_height": null,
      "min_width": null,
      "object_fit": null,
      "object_position": null,
      "order": null,
      "overflow": null,
      "overflow_x": null,
      "overflow_y": null,
      "padding": null,
      "right": null,
      "top": null,
      "visibility": null,
      "width": null
     }
    },
    "1927b9ec2061419b822e1b6959f56d56": {
     "model_module": "@jupyter-widgets/controls",
     "model_name": "DescriptionStyleModel",
     "model_module_version": "1.5.0",
     "state": {
      "_model_module": "@jupyter-widgets/controls",
      "_model_module_version": "1.5.0",
      "_model_name": "DescriptionStyleModel",
      "_view_count": null,
      "_view_module": "@jupyter-widgets/base",
      "_view_module_version": "1.2.0",
      "_view_name": "StyleView",
      "description_width": ""
     }
    },
    "8c946e4a7fcf4377976145ae0c15881b": {
     "model_module": "@jupyter-widgets/base",
     "model_name": "LayoutModel",
     "model_module_version": "1.2.0",
     "state": {
      "_model_module": "@jupyter-widgets/base",
      "_model_module_version": "1.2.0",
      "_model_name": "LayoutModel",
      "_view_count": null,
      "_view_module": "@jupyter-widgets/base",
      "_view_module_version": "1.2.0",
      "_view_name": "LayoutView",
      "align_content": null,
      "align_items": null,
      "align_self": null,
      "border": null,
      "bottom": null,
      "display": null,
      "flex": null,
      "flex_flow": null,
      "grid_area": null,
      "grid_auto_columns": null,
      "grid_auto_flow": null,
      "grid_auto_rows": null,
      "grid_column": null,
      "grid_gap": null,
      "grid_row": null,
      "grid_template_areas": null,
      "grid_template_columns": null,
      "grid_template_rows": null,
      "height": null,
      "justify_content": null,
      "justify_items": null,
      "left": null,
      "margin": null,
      "max_height": null,
      "max_width": null,
      "min_height": null,
      "min_width": null,
      "object_fit": null,
      "object_position": null,
      "order": null,
      "overflow": null,
      "overflow_x": null,
      "overflow_y": null,
      "padding": null,
      "right": null,
      "top": null,
      "visibility": null,
      "width": null
     }
    },
    "271b8dd60dff4be685d215b8fcaf8b5d": {
     "model_module": "@jupyter-widgets/controls",
     "model_name": "ProgressStyleModel",
     "model_module_version": "1.5.0",
     "state": {
      "_model_module": "@jupyter-widgets/controls",
      "_model_module_version": "1.5.0",
      "_model_name": "ProgressStyleModel",
      "_view_count": null,
      "_view_module": "@jupyter-widgets/base",
      "_view_module_version": "1.2.0",
      "_view_name": "StyleView",
      "bar_color": null,
      "description_width": ""
     }
    },
    "b0c64cc8f6c047039dd7440c97a1f649": {
     "model_module": "@jupyter-widgets/base",
     "model_name": "LayoutModel",
     "model_module_version": "1.2.0",
     "state": {
      "_model_module": "@jupyter-widgets/base",
      "_model_module_version": "1.2.0",
      "_model_name": "LayoutModel",
      "_view_count": null,
      "_view_module": "@jupyter-widgets/base",
      "_view_module_version": "1.2.0",
      "_view_name": "LayoutView",
      "align_content": null,
      "align_items": null,
      "align_self": null,
      "border": null,
      "bottom": null,
      "display": null,
      "flex": null,
      "flex_flow": null,
      "grid_area": null,
      "grid_auto_columns": null,
      "grid_auto_flow": null,
      "grid_auto_rows": null,
      "grid_column": null,
      "grid_gap": null,
      "grid_row": null,
      "grid_template_areas": null,
      "grid_template_columns": null,
      "grid_template_rows": null,
      "height": null,
      "justify_content": null,
      "justify_items": null,
      "left": null,
      "margin": null,
      "max_height": null,
      "max_width": null,
      "min_height": null,
      "min_width": null,
      "object_fit": null,
      "object_position": null,
      "order": null,
      "overflow": null,
      "overflow_x": null,
      "overflow_y": null,
      "padding": null,
      "right": null,
      "top": null,
      "visibility": null,
      "width": null
     }
    },
    "12827546b2ab4b36a0f584307a67685b": {
     "model_module": "@jupyter-widgets/controls",
     "model_name": "DescriptionStyleModel",
     "model_module_version": "1.5.0",
     "state": {
      "_model_module": "@jupyter-widgets/controls",
      "_model_module_version": "1.5.0",
      "_model_name": "DescriptionStyleModel",
      "_view_count": null,
      "_view_module": "@jupyter-widgets/base",
      "_view_module_version": "1.2.0",
      "_view_name": "StyleView",
      "description_width": ""
     }
    },
    "7b8e304a5fd74040a33bb196c065d3f6": {
     "model_module": "@jupyter-widgets/controls",
     "model_name": "HBoxModel",
     "model_module_version": "1.5.0",
     "state": {
      "_dom_classes": [],
      "_model_module": "@jupyter-widgets/controls",
      "_model_module_version": "1.5.0",
      "_model_name": "HBoxModel",
      "_view_count": null,
      "_view_module": "@jupyter-widgets/controls",
      "_view_module_version": "1.5.0",
      "_view_name": "HBoxView",
      "box_style": "",
      "children": [
       "IPY_MODEL_620a3656681a465ba100b085e1e5e126",
       "IPY_MODEL_b7dea2ebe5904611aafa8c56a735003b",
       "IPY_MODEL_476c528b7251445b9a0ebe2017f17cc7"
      ],
      "layout": "IPY_MODEL_2eaf08453f9144298332f4fcf24f6a0c"
     }
    },
    "620a3656681a465ba100b085e1e5e126": {
     "model_module": "@jupyter-widgets/controls",
     "model_name": "HTMLModel",
     "model_module_version": "1.5.0",
     "state": {
      "_dom_classes": [],
      "_model_module": "@jupyter-widgets/controls",
      "_model_module_version": "1.5.0",
      "_model_name": "HTMLModel",
      "_view_count": null,
      "_view_module": "@jupyter-widgets/controls",
      "_view_module_version": "1.5.0",
      "_view_name": "HTMLView",
      "description": "",
      "description_tooltip": null,
      "layout": "IPY_MODEL_34238347e4044458a3f5f938979566ae",
      "placeholder": "​",
      "style": "IPY_MODEL_f8ddf8246fc641e481a5923c02e2427a",
      "value": "tokenizer.json: 100%"
     }
    },
    "b7dea2ebe5904611aafa8c56a735003b": {
     "model_module": "@jupyter-widgets/controls",
     "model_name": "FloatProgressModel",
     "model_module_version": "1.5.0",
     "state": {
      "_dom_classes": [],
      "_model_module": "@jupyter-widgets/controls",
      "_model_module_version": "1.5.0",
      "_model_name": "FloatProgressModel",
      "_view_count": null,
      "_view_module": "@jupyter-widgets/controls",
      "_view_module_version": "1.5.0",
      "_view_name": "ProgressView",
      "bar_style": "success",
      "description": "",
      "description_tooltip": null,
      "layout": "IPY_MODEL_1958a01060bc4b90b163a3c0a510761b",
      "max": 466081,
      "min": 0,
      "orientation": "horizontal",
      "style": "IPY_MODEL_4cd934aa3baa4a85bf54cf71f49674d3",
      "value": 466081
     }
    },
    "476c528b7251445b9a0ebe2017f17cc7": {
     "model_module": "@jupyter-widgets/controls",
     "model_name": "HTMLModel",
     "model_module_version": "1.5.0",
     "state": {
      "_dom_classes": [],
      "_model_module": "@jupyter-widgets/controls",
      "_model_module_version": "1.5.0",
      "_model_name": "HTMLModel",
      "_view_count": null,
      "_view_module": "@jupyter-widgets/controls",
      "_view_module_version": "1.5.0",
      "_view_name": "HTMLView",
      "description": "",
      "description_tooltip": null,
      "layout": "IPY_MODEL_524de0428e274ac398222d97761d3cd4",
      "placeholder": "​",
      "style": "IPY_MODEL_7eb7bf3fc7e3483aa6165b9c9122bf36",
      "value": " 466k/466k [00:00&lt;00:00, 1.34MB/s]"
     }
    },
    "2eaf08453f9144298332f4fcf24f6a0c": {
     "model_module": "@jupyter-widgets/base",
     "model_name": "LayoutModel",
     "model_module_version": "1.2.0",
     "state": {
      "_model_module": "@jupyter-widgets/base",
      "_model_module_version": "1.2.0",
      "_model_name": "LayoutModel",
      "_view_count": null,
      "_view_module": "@jupyter-widgets/base",
      "_view_module_version": "1.2.0",
      "_view_name": "LayoutView",
      "align_content": null,
      "align_items": null,
      "align_self": null,
      "border": null,
      "bottom": null,
      "display": null,
      "flex": null,
      "flex_flow": null,
      "grid_area": null,
      "grid_auto_columns": null,
      "grid_auto_flow": null,
      "grid_auto_rows": null,
      "grid_column": null,
      "grid_gap": null,
      "grid_row": null,
      "grid_template_areas": null,
      "grid_template_columns": null,
      "grid_template_rows": null,
      "height": null,
      "justify_content": null,
      "justify_items": null,
      "left": null,
      "margin": null,
      "max_height": null,
      "max_width": null,
      "min_height": null,
      "min_width": null,
      "object_fit": null,
      "object_position": null,
      "order": null,
      "overflow": null,
      "overflow_x": null,
      "overflow_y": null,
      "padding": null,
      "right": null,
      "top": null,
      "visibility": null,
      "width": null
     }
    },
    "34238347e4044458a3f5f938979566ae": {
     "model_module": "@jupyter-widgets/base",
     "model_name": "LayoutModel",
     "model_module_version": "1.2.0",
     "state": {
      "_model_module": "@jupyter-widgets/base",
      "_model_module_version": "1.2.0",
      "_model_name": "LayoutModel",
      "_view_count": null,
      "_view_module": "@jupyter-widgets/base",
      "_view_module_version": "1.2.0",
      "_view_name": "LayoutView",
      "align_content": null,
      "align_items": null,
      "align_self": null,
      "border": null,
      "bottom": null,
      "display": null,
      "flex": null,
      "flex_flow": null,
      "grid_area": null,
      "grid_auto_columns": null,
      "grid_auto_flow": null,
      "grid_auto_rows": null,
      "grid_column": null,
      "grid_gap": null,
      "grid_row": null,
      "grid_template_areas": null,
      "grid_template_columns": null,
      "grid_template_rows": null,
      "height": null,
      "justify_content": null,
      "justify_items": null,
      "left": null,
      "margin": null,
      "max_height": null,
      "max_width": null,
      "min_height": null,
      "min_width": null,
      "object_fit": null,
      "object_position": null,
      "order": null,
      "overflow": null,
      "overflow_x": null,
      "overflow_y": null,
      "padding": null,
      "right": null,
      "top": null,
      "visibility": null,
      "width": null
     }
    },
    "f8ddf8246fc641e481a5923c02e2427a": {
     "model_module": "@jupyter-widgets/controls",
     "model_name": "DescriptionStyleModel",
     "model_module_version": "1.5.0",
     "state": {
      "_model_module": "@jupyter-widgets/controls",
      "_model_module_version": "1.5.0",
      "_model_name": "DescriptionStyleModel",
      "_view_count": null,
      "_view_module": "@jupyter-widgets/base",
      "_view_module_version": "1.2.0",
      "_view_name": "StyleView",
      "description_width": ""
     }
    },
    "1958a01060bc4b90b163a3c0a510761b": {
     "model_module": "@jupyter-widgets/base",
     "model_name": "LayoutModel",
     "model_module_version": "1.2.0",
     "state": {
      "_model_module": "@jupyter-widgets/base",
      "_model_module_version": "1.2.0",
      "_model_name": "LayoutModel",
      "_view_count": null,
      "_view_module": "@jupyter-widgets/base",
      "_view_module_version": "1.2.0",
      "_view_name": "LayoutView",
      "align_content": null,
      "align_items": null,
      "align_self": null,
      "border": null,
      "bottom": null,
      "display": null,
      "flex": null,
      "flex_flow": null,
      "grid_area": null,
      "grid_auto_columns": null,
      "grid_auto_flow": null,
      "grid_auto_rows": null,
      "grid_column": null,
      "grid_gap": null,
      "grid_row": null,
      "grid_template_areas": null,
      "grid_template_columns": null,
      "grid_template_rows": null,
      "height": null,
      "justify_content": null,
      "justify_items": null,
      "left": null,
      "margin": null,
      "max_height": null,
      "max_width": null,
      "min_height": null,
      "min_width": null,
      "object_fit": null,
      "object_position": null,
      "order": null,
      "overflow": null,
      "overflow_x": null,
      "overflow_y": null,
      "padding": null,
      "right": null,
      "top": null,
      "visibility": null,
      "width": null
     }
    },
    "4cd934aa3baa4a85bf54cf71f49674d3": {
     "model_module": "@jupyter-widgets/controls",
     "model_name": "ProgressStyleModel",
     "model_module_version": "1.5.0",
     "state": {
      "_model_module": "@jupyter-widgets/controls",
      "_model_module_version": "1.5.0",
      "_model_name": "ProgressStyleModel",
      "_view_count": null,
      "_view_module": "@jupyter-widgets/base",
      "_view_module_version": "1.2.0",
      "_view_name": "StyleView",
      "bar_color": null,
      "description_width": ""
     }
    },
    "524de0428e274ac398222d97761d3cd4": {
     "model_module": "@jupyter-widgets/base",
     "model_name": "LayoutModel",
     "model_module_version": "1.2.0",
     "state": {
      "_model_module": "@jupyter-widgets/base",
      "_model_module_version": "1.2.0",
      "_model_name": "LayoutModel",
      "_view_count": null,
      "_view_module": "@jupyter-widgets/base",
      "_view_module_version": "1.2.0",
      "_view_name": "LayoutView",
      "align_content": null,
      "align_items": null,
      "align_self": null,
      "border": null,
      "bottom": null,
      "display": null,
      "flex": null,
      "flex_flow": null,
      "grid_area": null,
      "grid_auto_columns": null,
      "grid_auto_flow": null,
      "grid_auto_rows": null,
      "grid_column": null,
      "grid_gap": null,
      "grid_row": null,
      "grid_template_areas": null,
      "grid_template_columns": null,
      "grid_template_rows": null,
      "height": null,
      "justify_content": null,
      "justify_items": null,
      "left": null,
      "margin": null,
      "max_height": null,
      "max_width": null,
      "min_height": null,
      "min_width": null,
      "object_fit": null,
      "object_position": null,
      "order": null,
      "overflow": null,
      "overflow_x": null,
      "overflow_y": null,
      "padding": null,
      "right": null,
      "top": null,
      "visibility": null,
      "width": null
     }
    },
    "7eb7bf3fc7e3483aa6165b9c9122bf36": {
     "model_module": "@jupyter-widgets/controls",
     "model_name": "DescriptionStyleModel",
     "model_module_version": "1.5.0",
     "state": {
      "_model_module": "@jupyter-widgets/controls",
      "_model_module_version": "1.5.0",
      "_model_name": "DescriptionStyleModel",
      "_view_count": null,
      "_view_module": "@jupyter-widgets/base",
      "_view_module_version": "1.2.0",
      "_view_name": "StyleView",
      "description_width": ""
     }
    },
    "b189b21ced2f459e9a1bc93bb184cf8f": {
     "model_module": "@jupyter-widgets/controls",
     "model_name": "HBoxModel",
     "model_module_version": "1.5.0",
     "state": {
      "_dom_classes": [],
      "_model_module": "@jupyter-widgets/controls",
      "_model_module_version": "1.5.0",
      "_model_name": "HBoxModel",
      "_view_count": null,
      "_view_module": "@jupyter-widgets/controls",
      "_view_module_version": "1.5.0",
      "_view_name": "HBoxView",
      "box_style": "",
      "children": [
       "IPY_MODEL_250468591470421b94143bc773e1f652",
       "IPY_MODEL_a88871d1875e4640a16ed89c3eb22990",
       "IPY_MODEL_1e6580d82f764ba19c6400914205c610"
      ],
      "layout": "IPY_MODEL_f696c2382fb54f0da9d58ecb7a1bf4a8"
     }
    },
    "250468591470421b94143bc773e1f652": {
     "model_module": "@jupyter-widgets/controls",
     "model_name": "HTMLModel",
     "model_module_version": "1.5.0",
     "state": {
      "_dom_classes": [],
      "_model_module": "@jupyter-widgets/controls",
      "_model_module_version": "1.5.0",
      "_model_name": "HTMLModel",
      "_view_count": null,
      "_view_module": "@jupyter-widgets/controls",
      "_view_module_version": "1.5.0",
      "_view_name": "HTMLView",
      "description": "",
      "description_tooltip": null,
      "layout": "IPY_MODEL_f67ae6e84ac24f8ab90b3dfa0e4d4b2f",
      "placeholder": "​",
      "style": "IPY_MODEL_21b957c851e54a53b3793bf4de800173",
      "value": "special_tokens_map.json: 100%"
     }
    },
    "a88871d1875e4640a16ed89c3eb22990": {
     "model_module": "@jupyter-widgets/controls",
     "model_name": "FloatProgressModel",
     "model_module_version": "1.5.0",
     "state": {
      "_dom_classes": [],
      "_model_module": "@jupyter-widgets/controls",
      "_model_module_version": "1.5.0",
      "_model_name": "FloatProgressModel",
      "_view_count": null,
      "_view_module": "@jupyter-widgets/controls",
      "_view_module_version": "1.5.0",
      "_view_name": "ProgressView",
      "bar_style": "success",
      "description": "",
      "description_tooltip": null,
      "layout": "IPY_MODEL_72a9d8578c6743cfb59d3b6e4f937df0",
      "max": 112,
      "min": 0,
      "orientation": "horizontal",
      "style": "IPY_MODEL_d0db477bf4a746c1939b74863ad7c101",
      "value": 112
     }
    },
    "1e6580d82f764ba19c6400914205c610": {
     "model_module": "@jupyter-widgets/controls",
     "model_name": "HTMLModel",
     "model_module_version": "1.5.0",
     "state": {
      "_dom_classes": [],
      "_model_module": "@jupyter-widgets/controls",
      "_model_module_version": "1.5.0",
      "_model_name": "HTMLModel",
      "_view_count": null,
      "_view_module": "@jupyter-widgets/controls",
      "_view_module_version": "1.5.0",
      "_view_name": "HTMLView",
      "description": "",
      "description_tooltip": null,
      "layout": "IPY_MODEL_3fa96730ef86401d94d7142a93032f74",
      "placeholder": "​",
      "style": "IPY_MODEL_a3c9db1b97a543a8ba2a8485aff58be7",
      "value": " 112/112 [00:00&lt;00:00, 13.7kB/s]"
     }
    },
    "f696c2382fb54f0da9d58ecb7a1bf4a8": {
     "model_module": "@jupyter-widgets/base",
     "model_name": "LayoutModel",
     "model_module_version": "1.2.0",
     "state": {
      "_model_module": "@jupyter-widgets/base",
      "_model_module_version": "1.2.0",
      "_model_name": "LayoutModel",
      "_view_count": null,
      "_view_module": "@jupyter-widgets/base",
      "_view_module_version": "1.2.0",
      "_view_name": "LayoutView",
      "align_content": null,
      "align_items": null,
      "align_self": null,
      "border": null,
      "bottom": null,
      "display": null,
      "flex": null,
      "flex_flow": null,
      "grid_area": null,
      "grid_auto_columns": null,
      "grid_auto_flow": null,
      "grid_auto_rows": null,
      "grid_column": null,
      "grid_gap": null,
      "grid_row": null,
      "grid_template_areas": null,
      "grid_template_columns": null,
      "grid_template_rows": null,
      "height": null,
      "justify_content": null,
      "justify_items": null,
      "left": null,
      "margin": null,
      "max_height": null,
      "max_width": null,
      "min_height": null,
      "min_width": null,
      "object_fit": null,
      "object_position": null,
      "order": null,
      "overflow": null,
      "overflow_x": null,
      "overflow_y": null,
      "padding": null,
      "right": null,
      "top": null,
      "visibility": null,
      "width": null
     }
    },
    "f67ae6e84ac24f8ab90b3dfa0e4d4b2f": {
     "model_module": "@jupyter-widgets/base",
     "model_name": "LayoutModel",
     "model_module_version": "1.2.0",
     "state": {
      "_model_module": "@jupyter-widgets/base",
      "_model_module_version": "1.2.0",
      "_model_name": "LayoutModel",
      "_view_count": null,
      "_view_module": "@jupyter-widgets/base",
      "_view_module_version": "1.2.0",
      "_view_name": "LayoutView",
      "align_content": null,
      "align_items": null,
      "align_self": null,
      "border": null,
      "bottom": null,
      "display": null,
      "flex": null,
      "flex_flow": null,
      "grid_area": null,
      "grid_auto_columns": null,
      "grid_auto_flow": null,
      "grid_auto_rows": null,
      "grid_column": null,
      "grid_gap": null,
      "grid_row": null,
      "grid_template_areas": null,
      "grid_template_columns": null,
      "grid_template_rows": null,
      "height": null,
      "justify_content": null,
      "justify_items": null,
      "left": null,
      "margin": null,
      "max_height": null,
      "max_width": null,
      "min_height": null,
      "min_width": null,
      "object_fit": null,
      "object_position": null,
      "order": null,
      "overflow": null,
      "overflow_x": null,
      "overflow_y": null,
      "padding": null,
      "right": null,
      "top": null,
      "visibility": null,
      "width": null
     }
    },
    "21b957c851e54a53b3793bf4de800173": {
     "model_module": "@jupyter-widgets/controls",
     "model_name": "DescriptionStyleModel",
     "model_module_version": "1.5.0",
     "state": {
      "_model_module": "@jupyter-widgets/controls",
      "_model_module_version": "1.5.0",
      "_model_name": "DescriptionStyleModel",
      "_view_count": null,
      "_view_module": "@jupyter-widgets/base",
      "_view_module_version": "1.2.0",
      "_view_name": "StyleView",
      "description_width": ""
     }
    },
    "72a9d8578c6743cfb59d3b6e4f937df0": {
     "model_module": "@jupyter-widgets/base",
     "model_name": "LayoutModel",
     "model_module_version": "1.2.0",
     "state": {
      "_model_module": "@jupyter-widgets/base",
      "_model_module_version": "1.2.0",
      "_model_name": "LayoutModel",
      "_view_count": null,
      "_view_module": "@jupyter-widgets/base",
      "_view_module_version": "1.2.0",
      "_view_name": "LayoutView",
      "align_content": null,
      "align_items": null,
      "align_self": null,
      "border": null,
      "bottom": null,
      "display": null,
      "flex": null,
      "flex_flow": null,
      "grid_area": null,
      "grid_auto_columns": null,
      "grid_auto_flow": null,
      "grid_auto_rows": null,
      "grid_column": null,
      "grid_gap": null,
      "grid_row": null,
      "grid_template_areas": null,
      "grid_template_columns": null,
      "grid_template_rows": null,
      "height": null,
      "justify_content": null,
      "justify_items": null,
      "left": null,
      "margin": null,
      "max_height": null,
      "max_width": null,
      "min_height": null,
      "min_width": null,
      "object_fit": null,
      "object_position": null,
      "order": null,
      "overflow": null,
      "overflow_x": null,
      "overflow_y": null,
      "padding": null,
      "right": null,
      "top": null,
      "visibility": null,
      "width": null
     }
    },
    "d0db477bf4a746c1939b74863ad7c101": {
     "model_module": "@jupyter-widgets/controls",
     "model_name": "ProgressStyleModel",
     "model_module_version": "1.5.0",
     "state": {
      "_model_module": "@jupyter-widgets/controls",
      "_model_module_version": "1.5.0",
      "_model_name": "ProgressStyleModel",
      "_view_count": null,
      "_view_module": "@jupyter-widgets/base",
      "_view_module_version": "1.2.0",
      "_view_name": "StyleView",
      "bar_color": null,
      "description_width": ""
     }
    },
    "3fa96730ef86401d94d7142a93032f74": {
     "model_module": "@jupyter-widgets/base",
     "model_name": "LayoutModel",
     "model_module_version": "1.2.0",
     "state": {
      "_model_module": "@jupyter-widgets/base",
      "_model_module_version": "1.2.0",
      "_model_name": "LayoutModel",
      "_view_count": null,
      "_view_module": "@jupyter-widgets/base",
      "_view_module_version": "1.2.0",
      "_view_name": "LayoutView",
      "align_content": null,
      "align_items": null,
      "align_self": null,
      "border": null,
      "bottom": null,
      "display": null,
      "flex": null,
      "flex_flow": null,
      "grid_area": null,
      "grid_auto_columns": null,
      "grid_auto_flow": null,
      "grid_auto_rows": null,
      "grid_column": null,
      "grid_gap": null,
      "grid_row": null,
      "grid_template_areas": null,
      "grid_template_columns": null,
      "grid_template_rows": null,
      "height": null,
      "justify_content": null,
      "justify_items": null,
      "left": null,
      "margin": null,
      "max_height": null,
      "max_width": null,
      "min_height": null,
      "min_width": null,
      "object_fit": null,
      "object_position": null,
      "order": null,
      "overflow": null,
      "overflow_x": null,
      "overflow_y": null,
      "padding": null,
      "right": null,
      "top": null,
      "visibility": null,
      "width": null
     }
    },
    "a3c9db1b97a543a8ba2a8485aff58be7": {
     "model_module": "@jupyter-widgets/controls",
     "model_name": "DescriptionStyleModel",
     "model_module_version": "1.5.0",
     "state": {
      "_model_module": "@jupyter-widgets/controls",
      "_model_module_version": "1.5.0",
      "_model_name": "DescriptionStyleModel",
      "_view_count": null,
      "_view_module": "@jupyter-widgets/base",
      "_view_module_version": "1.2.0",
      "_view_name": "StyleView",
      "description_width": ""
     }
    }
   }
  }
 },
 "cells": [
  {
   "cell_type": "code",
   "source": [
    "from google.colab import drive\n",
    "drive.mount('/content/drive')"
   ],
   "metadata": {
    "colab": {
     "base_uri": "https://localhost:8080/"
    },
    "id": "q_Hj_hlTQCgE",
    "outputId": "ade2e7a5-5334-4c9f-9b19-3f03362abd9e"
   },
   "execution_count": 1,
   "outputs": [
    {
     "output_type": "stream",
     "name": "stdout",
     "text": [
      "Mounted at /content/drive\n"
     ]
    }
   ]
  },
  {
   "cell_type": "code",
   "execution_count": 2,
   "metadata": {
    "colab": {
     "base_uri": "https://localhost:8080/"
    },
    "id": "98y_j1pCN515",
    "outputId": "cda74bc0-1049-49bd-aa22-d9e3349eb799"
   },
   "outputs": [
    {
     "output_type": "stream",
     "name": "stdout",
     "text": [
      "\u001B[2K   \u001B[90m━━━━━━━━━━━━━━━━━━━━━━━━━━━━━━━━━━━━━━━━\u001B[0m \u001B[32m1.8/1.8 MB\u001B[0m \u001B[31m21.0 MB/s\u001B[0m eta \u001B[36m0:00:00\u001B[0m\n",
      "\u001B[2K   \u001B[90m━━━━━━━━━━━━━━━━━━━━━━━━━━━━━━━━━━━━━━━━\u001B[0m \u001B[32m363.4/363.4 MB\u001B[0m \u001B[31m61.3 MB/s\u001B[0m eta \u001B[36m0:00:00\u001B[0m\n",
      "\u001B[2K   \u001B[90m━━━━━━━━━━━━━━━━━━━━━━━━━━━━━━━━━━━━━━━━\u001B[0m \u001B[32m13.8/13.8 MB\u001B[0m \u001B[31m148.0 MB/s\u001B[0m eta \u001B[36m0:00:00\u001B[0m\n",
      "\u001B[2K   \u001B[90m━━━━━━━━━━━━━━━━━━━━━━━━━━━━━━━━━━━━━━━━\u001B[0m \u001B[32m24.6/24.6 MB\u001B[0m \u001B[31m155.5 MB/s\u001B[0m eta \u001B[36m0:00:00\u001B[0m\n",
      "\u001B[2K   \u001B[90m━━━━━━━━━━━━━━━━━━━━━━━━━━━━━━━━━━━━━━━━\u001B[0m \u001B[32m883.7/883.7 kB\u001B[0m \u001B[31m47.7 MB/s\u001B[0m eta \u001B[36m0:00:00\u001B[0m\n",
      "\u001B[2K   \u001B[90m━━━━━━━━━━━━━━━━━━━━━━━━━━━━━━━━━━━━━━━━\u001B[0m \u001B[32m664.8/664.8 MB\u001B[0m \u001B[31m45.0 MB/s\u001B[0m eta \u001B[36m0:00:00\u001B[0m\n",
      "\u001B[2K   \u001B[90m━━━━━━━━━━━━━━━━━━━━━━━━━━━━━━━━━━━━━━━━\u001B[0m \u001B[32m211.5/211.5 MB\u001B[0m \u001B[31m79.8 MB/s\u001B[0m eta \u001B[36m0:00:00\u001B[0m\n",
      "\u001B[2K   \u001B[90m━━━━━━━━━━━━━━━━━━━━━━━━━━━━━━━━━━━━━━━━\u001B[0m \u001B[32m56.3/56.3 MB\u001B[0m \u001B[31m142.3 MB/s\u001B[0m eta \u001B[36m0:00:00\u001B[0m\n",
      "\u001B[2K   \u001B[90m━━━━━━━━━━━━━━━━━━━━━━━━━━━━━━━━━━━━━━━\u001B[0m \u001B[32m127.9/127.9 MB\u001B[0m \u001B[31m138.1 MB/s\u001B[0m eta \u001B[36m0:00:00\u001B[0m\n",
      "\u001B[2K   \u001B[90m━━━━━━━━━━━━━━━━━━━━━━━━━━━━━━━━━━━━━━━━\u001B[0m \u001B[32m207.5/207.5 MB\u001B[0m \u001B[31m77.1 MB/s\u001B[0m eta \u001B[36m0:00:00\u001B[0m\n",
      "\u001B[2K   \u001B[90m━━━━━━━━━━━━━━━━━━━━━━━━━━━━━━━━━━━━━━━━\u001B[0m \u001B[32m21.1/21.1 MB\u001B[0m \u001B[31m163.3 MB/s\u001B[0m eta \u001B[36m0:00:00\u001B[0m\n",
      "\u001B[2K   \u001B[90m━━━━━━━━━━━━━━━━━━━━━━━━━━━━━━━━━━━━━━━━\u001B[0m \u001B[32m10/10\u001B[0m [nvidia-cusolver-cu12]\n",
      "\u001B[2K   \u001B[90m━━━━━━━━━━━━━━━━━━━━━━━━━━━━━━━━━━━━━━━━\u001B[0m \u001B[32m10.0/10.0 MB\u001B[0m \u001B[31m95.5 MB/s\u001B[0m eta \u001B[36m0:00:00\u001B[0m\n",
      "\u001B[2K   \u001B[90m━━━━━━━━━━━━━━━━━━━━━━━━━━━━━━━━━━━━━━━━\u001B[0m \u001B[32m2/2\u001B[0m [ir_measures]\n",
      "\u001B[2K   \u001B[90m━━━━━━━━━━━━━━━━━━━━━━━━━━━━━━━━━━━━━━━━\u001B[0m \u001B[32m31.3/31.3 MB\u001B[0m \u001B[31m151.4 MB/s\u001B[0m eta \u001B[36m0:00:00\u001B[0m\n",
      "\u001B[2K   \u001B[90m━━━━━━━━━━━━━━━━━━━━━━━━━━━━━━━━━━━━━━━━\u001B[0m \u001B[32m7.7/7.7 MB\u001B[0m \u001B[31m44.8 MB/s\u001B[0m eta \u001B[36m0:00:00\u001B[0m\n",
      "\u001B[2K   \u001B[90m━━━━━━━━━━━━━━━━━━━━━━━━━━━━━━━━━━━━━━━━\u001B[0m \u001B[32m17.6/17.6 MB\u001B[0m \u001B[31m169.3 MB/s\u001B[0m eta \u001B[36m0:00:00\u001B[0m\n",
      "\u001B[2K   \u001B[90m━━━━━━━━━━━━━━━━━━━━━━━━━━━━━━━━━━━━━━━━\u001B[0m \u001B[32m4.4/4.4 MB\u001B[0m \u001B[31m112.4 MB/s\u001B[0m eta \u001B[36m0:00:00\u001B[0m\n",
      "\u001B[2K   \u001B[90m━━━━━━━━━━━━━━━━━━━━━━━━━━━━━━━━━━━━━━━━\u001B[0m \u001B[32m39/39\u001B[0m [ragatouille]\n",
      "\u001B[1A\u001B[2K"
     ]
    }
   ],
   "source": [
    "##%% md\n",
    "## Install Dependencies & Imports\n",
    "##%%\n",
    "!pip install --upgrade pip --quiet\n",
    "!pip install torch --quiet\n",
    "!pip install transformers==4.49.* --quiet\n",
    "!pip install datasets --quiet\n",
    "!pip install scikit-learn --quiet\n",
    "!pip install ir_measures tqdm --quiet\n",
    "!pip install ragatouille==0.0.9 --quiet\n",
    "!pip install rank-bm25 nltk --quiet"
   ]
  },
  {
   "cell_type": "code",
   "source": [
    "import os\n",
    "import json\n",
    "from pathlib import Path\n",
    "import collections\n",
    "from typing import Dict, List, Tuple, Any\n",
    "import sys\n",
    "import time\n",
    "import gzip\n",
    "import shutil\n",
    "import torch\n",
    "import pickle\n",
    "from tqdm import tqdm\n",
    "from ragatouille import RAGPretrainedModel\n",
    "from rank_bm25 import BM25Okapi\n",
    "import re\n",
    "import nltk\n",
    "import ir_measures\n",
    "\n",
    "nltk.download('punkt', quiet=True)\n",
    "nltk.download('stopwords', quiet=True)\n",
    "nltk.download('punkt_tab', quiet=True) # Note: 'punkt_tab' is not a standard NLTK package.\n",
    "\n",
    "USE_GOOGLE_DRIVE = True\n",
    "\n",
    "DATA_DIR_NAME = \"longeval_sci_training_2025_abstract\"\n",
    "RAGATOUILLE_COLBERT_MODEL_CACHE_SUBDIR = \"colbert_model_cache\"\n",
    "\n",
    "BM25_K1 = 1.5\n",
    "BM25_B = 0.75\n",
    "BM25_REMOVE_STOPWORDS = True\n",
    "BM25_ENABLE_STEMMING = True\n",
    "BM25_TOP_K_CANDIDATES = 200\n",
    "\n",
    "COLBERT_MODEL_NAME = \"colbert-ir/colbertv2.0\"\n",
    "MAX_SEQ_LENGTH = 512\n",
    "MAX_AUTHORS_IN_INPUT = 3\n",
    "K_RERANK_RETRIEVAL = 100\n",
    "\n",
    "nltk_data_path_user = os.path.join(os.path.expanduser(\"~\"), \"nltk_data\")\n",
    "if nltk_data_path_user not in nltk.data.path:\n",
    "    nltk.data.path.append(nltk_data_path_user)\n",
    "os.makedirs(nltk_data_path_user, exist_ok=True)\n",
    "\n",
    "def ensure_nltk_resource(resource_name_in_find: str, download_package_name: str):\n",
    "    try:\n",
    "        nltk.data.find(resource_name_in_find)\n",
    "    except (LookupError, nltk.downloader.DownloadError) as e:\n",
    "        try:\n",
    "            nltk.download(download_package_name, quiet=True)\n",
    "            nltk.data.find(resource_name_in_find)\n",
    "        except Exception as e_download:\n",
    "            print(f\"ERROR: Failed to download or verify NLTK resource '{download_package_name}' for '{resource_name_in_find}': {e_download}\")\n",
    "            sys.exit(1)\n",
    "\n",
    "ensure_nltk_resource('tokenizers/punkt', 'punkt')\n",
    "if BM25_REMOVE_STOPWORDS:\n",
    "    ensure_nltk_resource('corpora/stopwords', 'stopwords')\n",
    "\n",
    "english_stopwords_global = []\n",
    "if BM25_REMOVE_STOPWORDS:\n",
    "    from nltk.corpus import stopwords as nltk_stopwords_import\n",
    "    english_stopwords_global = nltk_stopwords_import.words('english')\n",
    "\n",
    "stemmer_global = None\n",
    "if BM25_ENABLE_STEMMING:\n",
    "    from nltk.stem import PorterStemmer\n",
    "    stemmer_global = PorterStemmer()\n",
    "\n",
    "if USE_GOOGLE_DRIVE:\n",
    "    try:\n",
    "        from google.colab import drive\n",
    "    except ImportError:\n",
    "        print(\"ERROR: google.colab.drive module not found. Set USE_GOOGLE_DRIVE to False or run in a Colab environment.\")\n",
    "        sys.exit(1)\n",
    "\n",
    "if USE_GOOGLE_DRIVE:\n",
    "    GOOGLE_DRIVE_PROJECT_ROOT = Path(\"/content/drive/MyDrive/AIR_Project/\")\n",
    "    DATA_DIR = GOOGLE_DRIVE_PROJECT_ROOT / DATA_DIR_NAME\n",
    "    EVALUATION_OUTPUT_ROOT = GOOGLE_DRIVE_PROJECT_ROOT / \"reranking_evaluation_output\"\n",
    "    COLBERT_MODEL_CACHE_PATH = EVALUATION_OUTPUT_ROOT / RAGATOUILLE_COLBERT_MODEL_CACHE_SUBDIR\n",
    "else:\n",
    "    SCRIPT_DIR = Path.cwd()\n",
    "    DATA_DIR = SCRIPT_DIR / DATA_DIR_NAME\n",
    "    EVALUATION_OUTPUT_ROOT = Path(\"./reranking_evaluation_output\")\n",
    "    COLBERT_MODEL_CACHE_PATH = EVALUATION_OUTPUT_ROOT / RAGATOUILLE_COLBERT_MODEL_CACHE_SUBDIR\n",
    "\n",
    "QUERIES_FILE = DATA_DIR / \"queries.txt\"\n",
    "QRELS_FILE = DATA_DIR / \"qrels.txt\"\n",
    "DOCUMENTS_DIR = DATA_DIR / \"documents\"\n",
    "\n",
    "\n",
    "def bm25_tokenizer(text: str) -> List[str]:\n",
    "    text = text.lower()\n",
    "    text = re.sub(r'[^\\w\\s]', '', text)\n",
    "    tokens = nltk.word_tokenize(text)\n",
    "    if BM25_REMOVE_STOPWORDS:\n",
    "        tokens = [token for token in tokens if token not in english_stopwords_global]\n",
    "    if BM25_ENABLE_STEMMING and stemmer_global:\n",
    "        tokens = [stemmer_global.stem(token) for token in tokens]\n",
    "    return tokens\n",
    "\n",
    "def mount_drive_and_verify_paths(data_dir_path: Path, queries_file_path: Path,\n",
    "                                 qrels_file_path: Path, docs_dir_path: Path) -> bool:\n",
    "    try:\n",
    "        drive.mount('/content/drive', force_remount=True)\n",
    "        print(\"INFO: Google Drive mounted successfully.\")\n",
    "    except Exception as e:\n",
    "        print(f\"ERROR: Failed to mount Google Drive: {e}\")\n",
    "        return False\n",
    "    return verify_common_paths(\"Google Drive\", data_dir_path, queries_file_path, qrels_file_path, docs_dir_path)\n",
    "\n",
    "def verify_local_paths(data_dir_path: Path, queries_file_path: Path,\n",
    "                       qrels_file_path: Path, docs_dir_path: Path) -> bool:\n",
    "    print(\"INFO: Verifying local paths...\")\n",
    "    return verify_common_paths(\"Local\", data_dir_path, queries_file_path, qrels_file_path, docs_dir_path)\n",
    "\n",
    "def verify_common_paths(env_type: str, data_dir_path: Path, queries_file_path: Path,\n",
    "                        qrels_file_path: Path, docs_dir_path: Path) -> bool:\n",
    "    paths_to_check = {\n",
    "        f\"{env_type} Dataset directory\": data_dir_path,\n",
    "        f\"{env_type} Queries file\": queries_file_path,\n",
    "        f\"{env_type} Qrels file\": qrels_file_path,\n",
    "        f\"{env_type} Documents directory\": docs_dir_path\n",
    "    }\n",
    "    all_exist = True\n",
    "    for name, path_val in paths_to_check.items():\n",
    "        display_path = path_val.resolve() if not str(path_val).startswith(\"/content/drive\") else path_val\n",
    "        is_dir_check = name.endswith(\"Documents directory\") or name.endswith(\"Dataset directory\")\n",
    "\n",
    "        if is_dir_check and not path_val.is_dir():\n",
    "            print(f\"ERROR: {name} directory not found at: {display_path}\")\n",
    "            all_exist = False\n",
    "        elif not is_dir_check and not path_val.exists():\n",
    "            print(f\"ERROR: {name} file not found at: {display_path}\")\n",
    "            all_exist = False\n",
    "\n",
    "    if all_exist:\n",
    "        print(f\"INFO: All required {env_type.lower()} paths verified successfully.\")\n",
    "    else:\n",
    "        print(f\"ERROR: One or more required {env_type.lower()} paths are missing. Base data directory expected at: {data_dir_path}\")\n",
    "    return all_exist\n",
    "\n",
    "def load_queries(file_path: Path) -> Dict[str, str]:\n",
    "    queries = {}\n",
    "    display_path = file_path.resolve() if not str(file_path).startswith(\"/content/drive\") else file_path\n",
    "    print(f\"INFO: Attempting to load queries from {display_path}...\")\n",
    "    try:\n",
    "        with open(file_path, 'r', encoding='utf-8') as f:\n",
    "            for i, line in enumerate(f):\n",
    "                parts = line.strip().split('\\t', 1)\n",
    "                if len(parts) == 2:\n",
    "                    query_id, query_text = parts\n",
    "                    queries[query_id] = query_text\n",
    "                else:\n",
    "                    print(f\"WARNING: Skipping malformed line #{i+1} in queries file ({file_path.name}): {line.strip()}\")\n",
    "        print(f\"INFO: Successfully loaded {len(queries)} queries from {file_path.name}.\")\n",
    "    except FileNotFoundError:\n",
    "        print(f\"ERROR: Queries file not found: {display_path}\")\n",
    "    except Exception as e:\n",
    "        print(f\"ERROR: Error loading queries from {display_path}: {e}\")\n",
    "    return queries\n",
    "\n",
    "def load_qrels_for_ir_measures(file_path: Path) -> Dict[str, Dict[str, int]]:\n",
    "    qrels_dict = collections.defaultdict(dict)\n",
    "    print(f\"INFO: Attempting to load qrels from {file_path}...\")\n",
    "    try:\n",
    "        with open(file_path, 'r', encoding='utf-8') as f:\n",
    "            for line in f:\n",
    "                parts = line.strip().split()\n",
    "                if len(parts) == 4:\n",
    "                    query_id, _, doc_id, relevance_score_str = parts\n",
    "                    qrels_dict[query_id][doc_id] = int(float(relevance_score_str))\n",
    "                else:\n",
    "                    print(f\"WARNING: Skipping malformed line in qrels file: {line.strip()}\")\n",
    "        print(f\"INFO: Loaded qrels for {len(qrels_dict)} queries for evaluation (scores as int).\")\n",
    "    except Exception as e:\n",
    "        print(f\"ERROR: Error loading qrels for evaluation: {e}\")\n",
    "    return qrels_dict\n",
    "\n",
    "def load_and_prepare_documents(docs_dir_path: Path, batch_size_info_log: int = 10000) -> Tuple[Dict[str, str], List[str], List[str]]:\n",
    "    doc_id_to_text_map = {}\n",
    "    corpus_texts_for_bm25 = []\n",
    "    corpus_doc_ids_for_bm25 = []\n",
    "\n",
    "    display_docs_dir_path = docs_dir_path.resolve() if not str(docs_dir_path).startswith(\"/content/drive\") else docs_dir_path\n",
    "    if not docs_dir_path.is_dir():\n",
    "        print(f\"ERROR: Documents directory not found: {display_docs_dir_path}\")\n",
    "        return {}, [], []\n",
    "\n",
    "    jsonl_files = list(docs_dir_path.glob('*.jsonl'))\n",
    "    if not jsonl_files:\n",
    "        jsonl_files = list(docs_dir_path.glob('*.jsonl.gz'))\n",
    "        if jsonl_files:\n",
    "            print(f\"INFO: Found .jsonl.gz files, will decompress on the fly.\")\n",
    "        else:\n",
    "            print(f\"WARNING: No .jsonl or .jsonl.gz files found in document directory: {display_docs_dir_path}\")\n",
    "            return {}, [], []\n",
    "\n",
    "    print(f\"INFO: Preparing documents from {len(jsonl_files)} files in {display_docs_dir_path}...\")\n",
    "    total_docs_processed_in_files = 0\n",
    "\n",
    "    for file_idx, data_file in enumerate(tqdm(jsonl_files, desc=\"Loading document files\", unit=\"file\")):\n",
    "        open_func = open\n",
    "        if str(data_file).endswith(\".gz\"):\n",
    "            open_func = gzip.open\n",
    "        try:\n",
    "            with open_func(data_file, 'rt', encoding='utf-8') as f:\n",
    "                for line_idx, line in enumerate(f):\n",
    "                    try:\n",
    "                        doc_data = json.loads(line)\n",
    "                        doc_id = str(doc_data.get(\"id\"))\n",
    "                        if not doc_id:\n",
    "                            print(f\"WARNING: Document in {data_file.name} line {line_idx+1} has no ID. Skipping.\")\n",
    "                            continue\n",
    "\n",
    "                        title = doc_data.get(\"title\", \"\")\n",
    "                        abstract = doc_data.get(\"abstract\", \"\")\n",
    "\n",
    "                        authors_list = doc_data.get(\"authors\", [])\n",
    "                        author_names_str = \"\"\n",
    "                        if authors_list:\n",
    "                            author_names = [author.get(\"name\", \"\") for author in authors_list[:MAX_AUTHORS_IN_INPUT] if author.get(\"name\")]\n",
    "                            author_names_str = \"; \".join(author_names)\n",
    "\n",
    "                        doc_parts = [title, author_names_str, abstract]\n",
    "                        document_text_input = \" [SEP] \".join(part for part in doc_parts if part and part.strip()).strip()\n",
    "\n",
    "                        if document_text_input:\n",
    "                            if doc_id not in doc_id_to_text_map:\n",
    "                                doc_id_to_text_map[doc_id] = document_text_input\n",
    "                                corpus_texts_for_bm25.append(document_text_input)\n",
    "                                corpus_doc_ids_for_bm25.append(doc_id)\n",
    "                                total_docs_processed_in_files +=1\n",
    "                                if total_docs_processed_in_files % batch_size_info_log == 0:\n",
    "                                    print(f\"INFO: Loaded and prepared {total_docs_processed_in_files} documents so far...\")\n",
    "                        else:\n",
    "                            print(f\"WARNING: Document ID {doc_id} in {data_file.name} has no content after processing. Skipping.\")\n",
    "\n",
    "                    except json.JSONDecodeError:\n",
    "                        print(f\"WARNING: Skipping malformed JSON line in {data_file.name} (line {line_idx+1})\")\n",
    "                        continue\n",
    "                    except Exception as e_doc:\n",
    "                        print(f\"WARNING: Error processing a document in {data_file.name} (line {line_idx+1}): {e_doc}\")\n",
    "        except Exception as e_file:\n",
    "            print(f\"ERROR: Error reading or processing file {data_file}: {e_file}\")\n",
    "\n",
    "    if corpus_texts_for_bm25:\n",
    "        print(f\"INFO: Successfully loaded and prepared a total of {len(corpus_texts_for_bm25)} unique documents.\")\n",
    "    else:\n",
    "        print(\"WARNING: No documents were loaded. The corpus is empty.\")\n",
    "    return doc_id_to_text_map, corpus_texts_for_bm25, corpus_doc_ids_for_bm25\n",
    "\n",
    "def main_bm25_colbert_rerank_pipeline():\n",
    "    print(f\"INFO: Starting BM25 + ColBERT Re-ranking pipeline. Using Google Drive: {USE_GOOGLE_DRIVE}\")\n",
    "    display_data_dir = DATA_DIR.resolve() if not str(DATA_DIR).startswith(\"/content/drive\") else DATA_DIR\n",
    "    display_output_dir = EVALUATION_OUTPUT_ROOT.resolve() if not str(EVALUATION_OUTPUT_ROOT).startswith(\"/content/drive\") else EVALUATION_OUTPUT_ROOT\n",
    "    print(f\"INFO: Data is expected in: {display_data_dir}\")\n",
    "    print(f\"INFO: Evaluation output (like model cache) will use: {display_output_dir}\")\n",
    "\n",
    "    EVALUATION_OUTPUT_ROOT.mkdir(parents=True, exist_ok=True)\n",
    "    COLBERT_MODEL_CACHE_PATH.mkdir(parents=True, exist_ok=True)\n",
    "    print(f\"INFO: ColBERT model cache path: {COLBERT_MODEL_CACHE_PATH}\")\n",
    "\n",
    "    if USE_GOOGLE_DRIVE:\n",
    "        if 'drive' not in globals():\n",
    "            print(\"CRITICAL: Google Drive module ('drive') not available. Halting pipeline.\")\n",
    "            return\n",
    "        if not mount_drive_and_verify_paths(DATA_DIR, QUERIES_FILE, QRELS_FILE, DOCUMENTS_DIR):\n",
    "            print(\"CRITICAL: Google Drive Path verification or mount failed. Halting pipeline.\")\n",
    "            return\n",
    "    else:\n",
    "        if not verify_local_paths(DATA_DIR, QUERIES_FILE, QRELS_FILE, DOCUMENTS_DIR):\n",
    "            print(\"CRITICAL: Local Path verification failed. Halting pipeline.\")\n",
    "            return\n",
    "\n",
    "    print(\"INFO: Loading queries and qrels...\")\n",
    "    queries = load_queries(QUERIES_FILE)\n",
    "    qrels_for_eval_metrics = load_qrels_for_ir_measures(QRELS_FILE)\n",
    "\n",
    "    if not queries:\n",
    "        print(\"ERROR: Failed to load queries. Halting.\")\n",
    "        return\n",
    "    if not qrels_for_eval_metrics:\n",
    "        print(\"ERROR: Failed to load qrels. Halting.\")\n",
    "        return\n",
    "\n",
    "    print(\"INFO: Loading and preparing all documents...\")\n",
    "    doc_id_to_text_map, corpus_texts_for_bm25, corpus_doc_ids_for_bm25 = load_and_prepare_documents(DOCUMENTS_DIR, batch_size_info_log=50000)\n",
    "\n",
    "    if not corpus_texts_for_bm25:\n",
    "        print(\"ERROR: No documents were loaded. Halting pipeline.\")\n",
    "        return\n",
    "    print(f\"INFO: Total documents loaded: {len(corpus_texts_for_bm25)}\")\n",
    "\n",
    "    print(\"INFO: Tokenizing corpus for BM25 (this may take a while as caching is disabled)...\")\n",
    "    start_bm25_tokenization_time = time.time()\n",
    "\n",
    "    unique_corpus_for_bm25_model = []\n",
    "    unique_corpus_token_tuple_to_unique_idx_map = {}\n",
    "    original_idx_to_unique_idx_map = [-1] * len(corpus_texts_for_bm25)\n",
    "\n",
    "    original_idx_to_tokenized_doc_map = {\n",
    "        i: bm25_tokenizer(corpus_texts_for_bm25[i])\n",
    "        for i in tqdm(range(len(corpus_texts_for_bm25)), desc=\"Tokenizing corpus for BM25\")\n",
    "    }\n",
    "\n",
    "    for original_idx in tqdm(range(len(corpus_texts_for_bm25)), desc=\"Deduplicating tokenized corpus\"):\n",
    "        tokenized_doc_list = original_idx_to_tokenized_doc_map[original_idx]\n",
    "        tokenized_doc_tuple = tuple(tokenized_doc_list)\n",
    "\n",
    "        if tokenized_doc_tuple not in unique_corpus_token_tuple_to_unique_idx_map:\n",
    "            unique_idx = len(unique_corpus_for_bm25_model)\n",
    "            unique_corpus_for_bm25_model.append(tokenized_doc_list)\n",
    "            unique_corpus_token_tuple_to_unique_idx_map[tokenized_doc_tuple] = unique_idx\n",
    "            original_idx_to_unique_idx_map[original_idx] = unique_idx\n",
    "        else:\n",
    "            unique_idx = unique_corpus_token_tuple_to_unique_idx_map[tokenized_doc_tuple]\n",
    "            original_idx_to_unique_idx_map[original_idx] = unique_idx\n",
    "\n",
    "    end_bm25_tokenization_time = time.time()\n",
    "    print(f\"INFO: BM25 corpus tokenization and deduplication completed in {end_bm25_tokenization_time - start_bm25_tokenization_time:.2f} seconds.\")\n",
    "    print(f\"INFO: Original tokenized docs: {len(corpus_texts_for_bm25)}, Unique tokenized docs for BM25 model: {len(unique_corpus_for_bm25_model)}\")\n",
    "\n",
    "    bm25_model = BM25Okapi(unique_corpus_for_bm25_model, k1=BM25_K1, b=BM25_B)\n",
    "    print(f\"INFO: BM25 model initialized.\")\n",
    "\n",
    "    print(f\"INFO: Initializing ColBERT model for re-ranking: {COLBERT_MODEL_NAME}\")\n",
    "    colbert_reranker = None\n",
    "    try:\n",
    "        colbert_reranker = RAGPretrainedModel.from_pretrained(\n",
    "            COLBERT_MODEL_NAME,\n",
    "            index_root=str(COLBERT_MODEL_CACHE_PATH)\n",
    "        )\n",
    "        if torch.cuda.is_available():\n",
    "            device = torch.device(\"cuda\")\n",
    "            if hasattr(colbert_reranker, 'model') and hasattr(colbert_reranker.model, 'model') and isinstance(colbert_reranker.model.model, torch.nn.Module):\n",
    "                colbert_reranker.model.model.to(device)\n",
    "                print(\"INFO: ColBERT re-ranker model moved to CUDA.\")\n",
    "            else:\n",
    "                print(\"WARNING: Could not move ColBERT model to CUDA. Structure might have changed or model not loaded correctly.\")\n",
    "        else:\n",
    "            print(\"INFO: CUDA not available, ColBERT model will run on CPU.\")\n",
    "\n",
    "    except Exception as e:\n",
    "        print(f\"ERROR: Failed to load ColBERT model for re-ranking: {e}\")\n",
    "        import traceback\n",
    "        traceback.print_exc()\n",
    "        return\n",
    "    if colbert_reranker is None:\n",
    "        print(\"ERROR: colbert_reranker is None after attempting to load. Halting.\")\n",
    "        return\n",
    "    print(f\"INFO: ColBERT model {COLBERT_MODEL_NAME} initialized for re-ranking.\")\n",
    "\n",
    "    run_for_eval_metrics = collections.defaultdict(dict)\n",
    "    num_processed_queries = 0\n",
    "    total_search_time_ms = 0\n",
    "\n",
    "    print(f\"\\nINFO: Processing {len(queries)} queries for re-ranking and evaluation...\")\n",
    "    for q_id, q_text in tqdm(queries.items(), desc=f\"Processing queries\", unit=\"query\"):\n",
    "        query_start_time = time.time()\n",
    "        try:\n",
    "            tokenized_query = bm25_tokenizer(q_text)\n",
    "            scores_for_unique_corpus = bm25_model.get_scores(tokenized_query)\n",
    "\n",
    "            doc_scores_bm25_all_original_indices = [0.0] * len(corpus_texts_for_bm25)\n",
    "            for original_idx in range(len(corpus_texts_for_bm25)):\n",
    "                unique_idx_for_this_doc = original_idx_to_unique_idx_map[original_idx]\n",
    "                if unique_idx_for_this_doc != -1 and unique_idx_for_this_doc < len(scores_for_unique_corpus) :\n",
    "                    doc_scores_bm25_all_original_indices[original_idx] = scores_for_unique_corpus[unique_idx_for_this_doc]\n",
    "                else:\n",
    "                     print(f\"WARNING: Invalid unique_idx_for_this_doc {unique_idx_for_this_doc} for original_idx {original_idx}\")\n",
    "\n",
    "\n",
    "            scored_doc_indices = []\n",
    "            for i in range(len(doc_scores_bm25_all_original_indices)):\n",
    "                if doc_scores_bm25_all_original_indices[i] > 0:\n",
    "                      scored_doc_indices.append((doc_scores_bm25_all_original_indices[i], i))\n",
    "\n",
    "            scored_doc_indices.sort(key=lambda x: x[0], reverse=True)\n",
    "\n",
    "            bm25_candidate_original_ids = []\n",
    "            bm25_candidate_texts = []\n",
    "\n",
    "            for score, doc_idx in scored_doc_indices[:BM25_TOP_K_CANDIDATES]:\n",
    "                original_doc_id = corpus_doc_ids_for_bm25[doc_idx]\n",
    "                bm25_candidate_original_ids.append(original_doc_id)\n",
    "                bm25_candidate_texts.append(doc_id_to_text_map[original_doc_id])\n",
    "\n",
    "            if not bm25_candidate_texts:\n",
    "                run_for_eval_metrics[str(q_id)] = {}\n",
    "                num_processed_queries += 1\n",
    "                continue\n",
    "\n",
    "            effective_k_for_rerank = min(K_RERANK_RETRIEVAL, len(bm25_candidate_texts))\n",
    "\n",
    "            if effective_k_for_rerank == 0 :\n",
    "                run_for_eval_metrics[str(q_id)] = {}\n",
    "                num_processed_queries +=1\n",
    "                continue\n",
    "\n",
    "            colbert_reranked_results = colbert_reranker.rerank(\n",
    "                query=q_text,\n",
    "                documents=bm25_candidate_texts,\n",
    "                k=effective_k_for_rerank\n",
    "            )\n",
    "\n",
    "            if colbert_reranked_results is None:\n",
    "                print(f\"WARNING: colbert_reranker.rerank returned None for QID {q_id} with k={effective_k_for_rerank} and {len(bm25_candidate_texts)} candidates. Skipping.\")\n",
    "                run_for_eval_metrics[str(q_id)] = {}\n",
    "                num_processed_queries += 1\n",
    "                continue\n",
    "\n",
    "            for res_idx, res in enumerate(colbert_reranked_results):\n",
    "                # RAGatouille rerank result_index is the index in the input 'documents' list\n",
    "                original_doc_id_for_this_res = bm25_candidate_original_ids[res['result_index']]\n",
    "                run_for_eval_metrics[str(q_id)][str(original_doc_id_for_this_res)] = float(res['score'])\n",
    "\n",
    "            num_processed_queries += 1\n",
    "            query_end_time = time.time()\n",
    "            total_search_time_ms += (query_end_time - query_start_time) * 1000\n",
    "\n",
    "            if num_processed_queries % 20 == 0 and num_processed_queries < len(queries):\n",
    "                avg_time_per_query = total_search_time_ms / num_processed_queries if num_processed_queries > 0 else 0\n",
    "                print(f\"INFO: Processed {num_processed_queries}/{len(queries)} queries. Avg time/query: {avg_time_per_query:.2f} ms.\")\n",
    "\n",
    "        except Exception as e:\n",
    "            print(f\"ERROR: Error processing query ID {q_id} ('{q_text[:50]}...'): {e}\")\n",
    "            import traceback\n",
    "            traceback.print_exc()\n",
    "\n",
    "    avg_time_per_query_final = total_search_time_ms / num_processed_queries if num_processed_queries > 0 else 0\n",
    "    print(f\"INFO: Finished processing queries. Processed {num_processed_queries} queries. Avg time/query: {avg_time_per_query_final:.2f} ms.\")\n",
    "\n",
    "\n",
    "    print(\"\\nCalculating IR evaluation metrics...\")\n",
    "    if run_for_eval_metrics and qrels_for_eval_metrics:\n",
    "        qrels_to_evaluate_with = {\n",
    "            qid: docs for qid, docs in qrels_for_eval_metrics.items()\n",
    "            if qid in run_for_eval_metrics\n",
    "        }\n",
    "\n",
    "        if not qrels_to_evaluate_with:\n",
    "            print(\"WARNING: No overlapping queries between run results and qrels after processing. Cannot evaluate.\")\n",
    "        else:\n",
    "            measures = [\n",
    "                ir_measures.nDCG@5, ir_measures.nDCG@10, ir_measures.nDCG@20,\n",
    "                ir_measures.P@5, ir_measures.P@10, ir_measures.P@20,\n",
    "                ir_measures.Recall@10, ir_measures.Recall@20, ir_measures.Recall@100,\n",
    "                ir_measures.MRR, ir_measures.MAP\n",
    "            ]\n",
    "            eval_results = ir_measures.calc_aggregate(measures, qrels_to_evaluate_with, run_for_eval_metrics)\n",
    "\n",
    "            print(\"\\nBM25 + ColBERT Re-ranking IR EVALUATION METRICS (Abstracts)\\n======================================================\")\n",
    "            for measure_obj, value in eval_results.items():\n",
    "                print(f\"{str(measure_obj)}: {value:.4f}\")\n",
    "    else:\n",
    "        print(\"WARNING: Not enough data for IR metric calculation (run or qrels empty/mismatched).\")\n",
    "\n",
    "    print(f\"\\nINFO: Two-stage re-ranking and evaluation pipeline finished.\")\n",
    "    print(f\"INFO: Model cache (if used by RAGatouille) is at: {COLBERT_MODEL_CACHE_PATH}\")\n",
    "\n",
    "\n",
    "if __name__ == '__main__':\n",
    "    if USE_GOOGLE_DRIVE:\n",
    "        if 'google.colab.drive' not in sys.modules and 'drive' not in globals():\n",
    "            print(\"ERROR: USE_GOOGLE_DRIVE is True, but the 'google.colab.drive' module is not available.\")\n",
    "            print(\"INFO: Please ensure you are in a Colab environment or set USE_GOOGLE_DRIVE to False.\")\n",
    "            sys.exit(1)\n",
    "\n",
    "    if not USE_GOOGLE_DRIVE:\n",
    "        if not (Path.cwd() / DATA_DIR_NAME).exists():\n",
    "            print(f\"WARNING: The data directory '{DATA_DIR_NAME}' was not found in the current working directory: {Path.cwd()}\")\n",
    "            print(f\"WARNING: Please ensure the script is run from the directory containing '{DATA_DIR_NAME}' or adjust DATA_DIR_NAME path if it's elsewhere.\")\n",
    "\n",
    "    if torch.cuda.is_available():\n",
    "        print(f\"INFO: CUDA is available. Using GPU: {torch.cuda.get_device_name(0)}\")\n",
    "    else:\n",
    "        print(\"WARNING: CUDA not available. ColBERT re-ranking will be very slow on CPU.\")\n",
    "        print(\"Consider enabling a GPU runtime in Colab (Runtime > Change runtime type > GPU).\")\n",
    "\n",
    "    pipeline_start_time = time.time()\n",
    "    main_bm25_colbert_rerank_pipeline()\n",
    "    pipeline_end_time = time.time()\n",
    "    print(f\"INFO: Total pipeline execution time: {pipeline_end_time - pipeline_start_time:.2f} seconds.\")"
   ],
   "metadata": {
    "colab": {
     "base_uri": "https://localhost:8080/",
     "height": 1000,
     "referenced_widgets": [
      "0525931dd0b6410d9a41439f11bd4bda",
      "cfa907a090ad4b9080466f48b4dc2850",
      "5006a3a18ee24de999f2c39a83131442",
      "45c3d40a91db4cc88e10271d9b410a84",
      "98ca6d6753ab46e590f3856105ee167f",
      "419e2105065f4f179b91dfd8211cccec",
      "8dedf14f9d1844c5904612471b404226",
      "d595171a62f3484883ac75b9c067714f",
      "aa9ff8a8357a4b69a888508db3eacae2",
      "87ee7b03d34b49cfbabad30f573c4599",
      "d2527ca6420549dc8f85d32aa403675a",
      "e3ebfc6261dd429ba9697f0731391709",
      "89267590221a4e72a6aac4f8a7799030",
      "ab7041eb9d4641ee89873ddb2acbafcb",
      "de2909bef1ea446385f4fb6bfb86c6d3",
      "3159dda22a504db4a0b11d7ac11d266e",
      "98a986be091f4f429fb91f760efb5721",
      "865c1e2f590044f6878d1b7a3d5be983",
      "81accf80c2d3495fa334c2e7a48518b8",
      "effec18c9af846d6b62b9898ca4b2e9a",
      "30519c3399ab42cbae7671c366af82e5",
      "c1186a2c6f714b5cad170c6efe0ae2da",
      "d2401b3d67074c4e83b3ee7b4301baed",
      "c08d69eb9b3c477e924a513975adeb29",
      "6802ab68052b4d409b8718b27458651e",
      "1161d5f6efcc40c8906c62af7d5f76f4",
      "191412f7b56b40d2a4bb1e4da34d120c",
      "401f35f822f44dd4bec9616b105f24e7",
      "95a201f06b31470eb0d0ba1782809551",
      "db98e7687a104015b71803cfc37b6d02",
      "c33c7c39a21b43f59f3f5643f8e11117",
      "8c6d07e66dd8461f9a69311be3568db3",
      "07ce70b645c141bdb036463e5118d49e",
      "0b6de2b9931d444f91ffa81cbff15192",
      "ed63340422404936ac6d386d727bb43b",
      "4bc3793b9c524431a5109659c55ab497",
      "cedc6bb43eb74d6a85bb83718a0078c9",
      "212eea6a79a64ad18bc68ae373ee3a3c",
      "005c11fefdfa42eaa036c4edba81b353",
      "09e23ca5ada943498ad460d9f239aa10",
      "817a919967fd4dfea87fe2c5a39b8797",
      "ac9fe3d3fee7466e8d391955384048a1",
      "750e8d465f594d6a944fde04af2873b6",
      "7070c6d8b20044d493cb086b0779dd89",
      "7182b37ddcf44f12af3ba8a73a424d1a",
      "7c00a8cd9d26448ea3e1dd557f755ffc",
      "eca60eb44c334835b929c30d6fc9bf99",
      "06a4a53561964008b47729928fef351b",
      "57a5c9194cb646fea4dcf3b8d5e5e133",
      "4e8124e886474b08b43bdc9a8b43517f",
      "1927b9ec2061419b822e1b6959f56d56",
      "8c946e4a7fcf4377976145ae0c15881b",
      "271b8dd60dff4be685d215b8fcaf8b5d",
      "b0c64cc8f6c047039dd7440c97a1f649",
      "12827546b2ab4b36a0f584307a67685b",
      "7b8e304a5fd74040a33bb196c065d3f6",
      "620a3656681a465ba100b085e1e5e126",
      "b7dea2ebe5904611aafa8c56a735003b",
      "476c528b7251445b9a0ebe2017f17cc7",
      "2eaf08453f9144298332f4fcf24f6a0c",
      "34238347e4044458a3f5f938979566ae",
      "f8ddf8246fc641e481a5923c02e2427a",
      "1958a01060bc4b90b163a3c0a510761b",
      "4cd934aa3baa4a85bf54cf71f49674d3",
      "524de0428e274ac398222d97761d3cd4",
      "7eb7bf3fc7e3483aa6165b9c9122bf36",
      "b189b21ced2f459e9a1bc93bb184cf8f",
      "250468591470421b94143bc773e1f652",
      "a88871d1875e4640a16ed89c3eb22990",
      "1e6580d82f764ba19c6400914205c610",
      "f696c2382fb54f0da9d58ecb7a1bf4a8",
      "f67ae6e84ac24f8ab90b3dfa0e4d4b2f",
      "21b957c851e54a53b3793bf4de800173",
      "72a9d8578c6743cfb59d3b6e4f937df0",
      "d0db477bf4a746c1939b74863ad7c101",
      "3fa96730ef86401d94d7142a93032f74",
      "a3c9db1b97a543a8ba2a8485aff58be7"
     ]
    },
    "id": "pVtuZHNRN8zE",
    "outputId": "03dd3719-3ed6-4176-e9ac-f34a30f24034"
   },
   "execution_count": 3,
   "outputs": [
    {
     "output_type": "stream",
     "name": "stdout",
     "text": [
      "INFO: CUDA is available. Using GPU: Tesla T4\n",
      "INFO: Starting BM25 + ColBERT Re-ranking pipeline. Using Google Drive: True\n",
      "INFO: Data is expected in: /content/drive/MyDrive/AIR_Project/longeval_sci_training_2025_abstract\n",
      "INFO: Evaluation output (like model cache) will use: /content/drive/MyDrive/AIR_Project/reranking_evaluation_output\n",
      "INFO: ColBERT model cache path: /content/drive/MyDrive/AIR_Project/reranking_evaluation_output/colbert_model_cache\n",
      "Mounted at /content/drive\n",
      "INFO: Google Drive mounted successfully.\n",
      "INFO: All required google drive paths verified successfully.\n",
      "INFO: Loading queries and qrels...\n",
      "INFO: Attempting to load queries from /content/drive/MyDrive/AIR_Project/longeval_sci_training_2025_abstract/queries.txt...\n",
      "INFO: Successfully loaded 393 queries from queries.txt.\n",
      "INFO: Attempting to load qrels from /content/drive/MyDrive/AIR_Project/longeval_sci_training_2025_abstract/qrels.txt...\n",
      "INFO: Loaded qrels for 393 queries for evaluation (scores as int).\n",
      "INFO: Loading and preparing all documents...\n",
      "INFO: Preparing documents from 21 files in /content/drive/MyDrive/AIR_Project/longeval_sci_training_2025_abstract/documents...\n"
     ]
    },
    {
     "output_type": "stream",
     "name": "stderr",
     "text": [
      "\rLoading document files:   0%|          | 0/21 [00:00<?, ?file/s]"
     ]
    },
    {
     "output_type": "stream",
     "name": "stdout",
     "text": [
      "INFO: Loaded and prepared 50000 documents so far...\n"
     ]
    },
    {
     "output_type": "stream",
     "name": "stderr",
     "text": [
      "\rLoading document files:   5%|▍         | 1/21 [00:06<02:00,  6.02s/file]"
     ]
    },
    {
     "output_type": "stream",
     "name": "stdout",
     "text": [
      "INFO: Loaded and prepared 100000 documents so far...\n",
      "INFO: Loaded and prepared 150000 documents so far...\n"
     ]
    },
    {
     "output_type": "stream",
     "name": "stderr",
     "text": [
      "\rLoading document files:  10%|▉         | 2/21 [00:12<01:54,  6.01s/file]"
     ]
    },
    {
     "output_type": "stream",
     "name": "stdout",
     "text": [
      "INFO: Loaded and prepared 200000 documents so far...\n",
      "INFO: Loaded and prepared 250000 documents so far...\n"
     ]
    },
    {
     "output_type": "stream",
     "name": "stderr",
     "text": [
      "\rLoading document files:  14%|█▍        | 3/21 [00:18<01:54,  6.34s/file]"
     ]
    },
    {
     "output_type": "stream",
     "name": "stdout",
     "text": [
      "INFO: Loaded and prepared 300000 documents so far...\n",
      "INFO: Loaded and prepared 350000 documents so far...\n"
     ]
    },
    {
     "output_type": "stream",
     "name": "stderr",
     "text": [
      "\rLoading document files:  19%|█▉        | 4/21 [00:25<01:50,  6.51s/file]"
     ]
    },
    {
     "output_type": "stream",
     "name": "stdout",
     "text": [
      "INFO: Loaded and prepared 400000 documents so far...\n",
      "INFO: Loaded and prepared 450000 documents so far...\n"
     ]
    },
    {
     "output_type": "stream",
     "name": "stderr",
     "text": [
      "\rLoading document files:  24%|██▍       | 5/21 [00:32<01:45,  6.61s/file]"
     ]
    },
    {
     "output_type": "stream",
     "name": "stdout",
     "text": [
      "INFO: Loaded and prepared 500000 documents so far...\n",
      "INFO: Loaded and prepared 550000 documents so far...\n"
     ]
    },
    {
     "output_type": "stream",
     "name": "stderr",
     "text": [
      "\rLoading document files:  29%|██▊       | 6/21 [00:37<01:34,  6.28s/file]"
     ]
    },
    {
     "output_type": "stream",
     "name": "stdout",
     "text": [
      "INFO: Loaded and prepared 600000 documents so far...\n",
      "INFO: Loaded and prepared 650000 documents so far...\n"
     ]
    },
    {
     "output_type": "stream",
     "name": "stderr",
     "text": [
      "\rLoading document files:  33%|███▎      | 7/21 [00:44<01:27,  6.26s/file]"
     ]
    },
    {
     "output_type": "stream",
     "name": "stdout",
     "text": [
      "INFO: Loaded and prepared 700000 documents so far...\n",
      "INFO: Loaded and prepared 750000 documents so far...\n"
     ]
    },
    {
     "output_type": "stream",
     "name": "stderr",
     "text": [
      "\rLoading document files:  38%|███▊      | 8/21 [00:51<01:24,  6.49s/file]"
     ]
    },
    {
     "output_type": "stream",
     "name": "stdout",
     "text": [
      "INFO: Loaded and prepared 800000 documents so far...\n",
      "INFO: Loaded and prepared 850000 documents so far...\n"
     ]
    },
    {
     "output_type": "stream",
     "name": "stderr",
     "text": [
      "\rLoading document files:  43%|████▎     | 9/21 [00:57<01:15,  6.33s/file]"
     ]
    },
    {
     "output_type": "stream",
     "name": "stdout",
     "text": [
      "INFO: Loaded and prepared 900000 documents so far...\n",
      "INFO: Loaded and prepared 950000 documents so far...\n"
     ]
    },
    {
     "output_type": "stream",
     "name": "stderr",
     "text": [
      "\rLoading document files:  48%|████▊     | 10/21 [01:03<01:09,  6.35s/file]"
     ]
    },
    {
     "output_type": "stream",
     "name": "stdout",
     "text": [
      "INFO: Loaded and prepared 1000000 documents so far...\n",
      "INFO: Loaded and prepared 1050000 documents so far...\n"
     ]
    },
    {
     "output_type": "stream",
     "name": "stderr",
     "text": [
      "\rLoading document files:  52%|█████▏    | 11/21 [01:09<01:03,  6.34s/file]"
     ]
    },
    {
     "output_type": "stream",
     "name": "stdout",
     "text": [
      "INFO: Loaded and prepared 1100000 documents so far...\n",
      "INFO: Loaded and prepared 1150000 documents so far...\n"
     ]
    },
    {
     "output_type": "stream",
     "name": "stderr",
     "text": [
      "\rLoading document files:  57%|█████▋    | 12/21 [01:16<00:59,  6.56s/file]"
     ]
    },
    {
     "output_type": "stream",
     "name": "stdout",
     "text": [
      "INFO: Loaded and prepared 1200000 documents so far...\n",
      "INFO: Loaded and prepared 1250000 documents so far...\n"
     ]
    },
    {
     "output_type": "stream",
     "name": "stderr",
     "text": [
      "\rLoading document files:  62%|██████▏   | 13/21 [01:22<00:50,  6.28s/file]"
     ]
    },
    {
     "output_type": "stream",
     "name": "stdout",
     "text": [
      "INFO: Loaded and prepared 1300000 documents so far...\n",
      "INFO: Loaded and prepared 1350000 documents so far...\n"
     ]
    },
    {
     "output_type": "stream",
     "name": "stderr",
     "text": [
      "\rLoading document files:  67%|██████▋   | 14/21 [01:29<00:44,  6.35s/file]"
     ]
    },
    {
     "output_type": "stream",
     "name": "stdout",
     "text": [
      "INFO: Loaded and prepared 1400000 documents so far...\n",
      "INFO: Loaded and prepared 1450000 documents so far...\n"
     ]
    },
    {
     "output_type": "stream",
     "name": "stderr",
     "text": [
      "\rLoading document files:  71%|███████▏  | 15/21 [01:35<00:38,  6.42s/file]"
     ]
    },
    {
     "output_type": "stream",
     "name": "stdout",
     "text": [
      "INFO: Loaded and prepared 1500000 documents so far...\n",
      "INFO: Loaded and prepared 1550000 documents so far...\n"
     ]
    },
    {
     "output_type": "stream",
     "name": "stderr",
     "text": [
      "\rLoading document files:  76%|███████▌  | 16/21 [01:42<00:33,  6.64s/file]"
     ]
    },
    {
     "output_type": "stream",
     "name": "stdout",
     "text": [
      "INFO: Loaded and prepared 1600000 documents so far...\n",
      "INFO: Loaded and prepared 1650000 documents so far...\n"
     ]
    },
    {
     "output_type": "stream",
     "name": "stderr",
     "text": [
      "\rLoading document files:  81%|████████  | 17/21 [01:48<00:25,  6.38s/file]"
     ]
    },
    {
     "output_type": "stream",
     "name": "stdout",
     "text": [
      "INFO: Loaded and prepared 1700000 documents so far...\n",
      "INFO: Loaded and prepared 1750000 documents so far...\n"
     ]
    },
    {
     "output_type": "stream",
     "name": "stderr",
     "text": [
      "\rLoading document files:  86%|████████▌ | 18/21 [01:53<00:18,  6.10s/file]"
     ]
    },
    {
     "output_type": "stream",
     "name": "stdout",
     "text": [
      "INFO: Loaded and prepared 1800000 documents so far...\n",
      "INFO: Loaded and prepared 1850000 documents so far...\n"
     ]
    },
    {
     "output_type": "stream",
     "name": "stderr",
     "text": [
      "\rLoading document files:  90%|█████████ | 19/21 [01:59<00:11,  5.99s/file]"
     ]
    },
    {
     "output_type": "stream",
     "name": "stdout",
     "text": [
      "INFO: Loaded and prepared 1900000 documents so far...\n",
      "INFO: Loaded and prepared 1950000 documents so far...\n"
     ]
    },
    {
     "output_type": "stream",
     "name": "stderr",
     "text": [
      "\rLoading document files:  95%|█████████▌| 20/21 [02:05<00:05,  5.97s/file]"
     ]
    },
    {
     "output_type": "stream",
     "name": "stdout",
     "text": [
      "INFO: Loaded and prepared 2000000 documents so far...\n"
     ]
    },
    {
     "output_type": "stream",
     "name": "stderr",
     "text": [
      "Loading document files: 100%|██████████| 21/21 [02:07<00:00,  6.06s/file]\n"
     ]
    },
    {
     "output_type": "stream",
     "name": "stdout",
     "text": [
      "INFO: Successfully loaded and prepared a total of 2014265 unique documents.\n",
      "INFO: Total documents loaded: 2014265\n",
      "INFO: Tokenizing corpus for BM25 (this may take a while as caching is disabled)...\n"
     ]
    },
    {
     "output_type": "stream",
     "name": "stderr",
     "text": [
      "Tokenizing corpus for BM25: 100%|██████████| 2014265/2014265 [1:14:37<00:00, 449.86it/s]\n",
      "Deduplicating tokenized corpus: 100%|██████████| 2014265/2014265 [00:16<00:00, 124066.30it/s]\n"
     ]
    },
    {
     "output_type": "stream",
     "name": "stdout",
     "text": [
      "INFO: BM25 corpus tokenization and deduplication completed in 4493.77 seconds.\n",
      "INFO: Original tokenized docs: 2014265, Unique tokenized docs for BM25 model: 1990478\n",
      "INFO: BM25 model initialized.\n",
      "INFO: Initializing ColBERT model for re-ranking: colbert-ir/colbertv2.0\n"
     ]
    },
    {
     "output_type": "stream",
     "name": "stderr",
     "text": [
      "/usr/local/lib/python3.11/dist-packages/huggingface_hub/utils/_auth.py:94: UserWarning: \n",
      "The secret `HF_TOKEN` does not exist in your Colab secrets.\n",
      "To authenticate with the Hugging Face Hub, create a token in your settings tab (https://huggingface.co/settings/tokens), set it as secret in your Google Colab and restart your session.\n",
      "You will be able to reuse this secret in all of your notebooks.\n",
      "Please note that authentication is recommended but still optional to access public models or datasets.\n",
      "  warnings.warn(\n"
     ]
    },
    {
     "output_type": "display_data",
     "data": {
      "text/plain": [
       "artifact.metadata:   0%|          | 0.00/1.63k [00:00<?, ?B/s]"
      ],
      "application/vnd.jupyter.widget-view+json": {
       "version_major": 2,
       "version_minor": 0,
       "model_id": "0525931dd0b6410d9a41439f11bd4bda"
      }
     },
     "metadata": {}
    },
    {
     "output_type": "display_data",
     "data": {
      "text/plain": [
       "config.json:   0%|          | 0.00/743 [00:00<?, ?B/s]"
      ],
      "application/vnd.jupyter.widget-view+json": {
       "version_major": 2,
       "version_minor": 0,
       "model_id": "e3ebfc6261dd429ba9697f0731391709"
      }
     },
     "metadata": {}
    },
    {
     "output_type": "display_data",
     "data": {
      "text/plain": [
       "model.safetensors:   0%|          | 0.00/438M [00:00<?, ?B/s]"
      ],
      "application/vnd.jupyter.widget-view+json": {
       "version_major": 2,
       "version_minor": 0,
       "model_id": "d2401b3d67074c4e83b3ee7b4301baed"
      }
     },
     "metadata": {}
    },
    {
     "output_type": "display_data",
     "data": {
      "text/plain": [
       "tokenizer_config.json:   0%|          | 0.00/405 [00:00<?, ?B/s]"
      ],
      "application/vnd.jupyter.widget-view+json": {
       "version_major": 2,
       "version_minor": 0,
       "model_id": "0b6de2b9931d444f91ffa81cbff15192"
      }
     },
     "metadata": {}
    },
    {
     "output_type": "display_data",
     "data": {
      "text/plain": [
       "vocab.txt:   0%|          | 0.00/232k [00:00<?, ?B/s]"
      ],
      "application/vnd.jupyter.widget-view+json": {
       "version_major": 2,
       "version_minor": 0,
       "model_id": "7182b37ddcf44f12af3ba8a73a424d1a"
      }
     },
     "metadata": {}
    },
    {
     "output_type": "display_data",
     "data": {
      "text/plain": [
       "tokenizer.json:   0%|          | 0.00/466k [00:00<?, ?B/s]"
      ],
      "application/vnd.jupyter.widget-view+json": {
       "version_major": 2,
       "version_minor": 0,
       "model_id": "7b8e304a5fd74040a33bb196c065d3f6"
      }
     },
     "metadata": {}
    },
    {
     "output_type": "display_data",
     "data": {
      "text/plain": [
       "special_tokens_map.json:   0%|          | 0.00/112 [00:00<?, ?B/s]"
      ],
      "application/vnd.jupyter.widget-view+json": {
       "version_major": 2,
       "version_minor": 0,
       "model_id": "b189b21ced2f459e9a1bc93bb184cf8f"
      }
     },
     "metadata": {}
    },
    {
     "output_type": "stream",
     "name": "stderr",
     "text": [
      "/usr/local/lib/python3.11/dist-packages/colbert/utils/amp.py:12: FutureWarning: `torch.cuda.amp.GradScaler(args...)` is deprecated. Please use `torch.amp.GradScaler('cuda', args...)` instead.\n",
      "  self.scaler = torch.cuda.amp.GradScaler()\n"
     ]
    },
    {
     "output_type": "stream",
     "name": "stdout",
     "text": [
      "WARNING: Could not move ColBERT model to CUDA. Structure might have changed or model not loaded correctly.\n",
      "INFO: ColBERT model colbert-ir/colbertv2.0 initialized for re-ranking.\n",
      "\n",
      "INFO: Processing 393 queries for re-ranking and evaluation...\n"
     ]
    },
    {
     "output_type": "stream",
     "name": "stderr",
     "text": [
      "\rProcessing queries:   0%|          | 0/393 [00:00<?, ?query/s]/usr/local/lib/python3.11/dist-packages/colbert/utils/amp.py:15: FutureWarning: `torch.cuda.amp.autocast(args...)` is deprecated. Please use `torch.amp.autocast('cuda', args...)` instead.\n",
      "  return torch.cuda.amp.autocast() if self.activated else NullContextManager()\n",
      "\n",
      "  0%|          | 0/7 [00:00<?, ?it/s]\u001B[A\n",
      " 14%|█▍        | 1/7 [00:00<00:01,  3.97it/s]\u001B[A\n",
      " 29%|██▊       | 2/7 [00:00<00:01,  4.37it/s]\u001B[A\n",
      " 43%|████▎     | 3/7 [00:00<00:00,  4.71it/s]\u001B[A\n",
      " 57%|█████▋    | 4/7 [00:00<00:00,  4.83it/s]\u001B[A\n",
      " 71%|███████▏  | 5/7 [00:01<00:00,  4.89it/s]\u001B[A\n",
      "100%|██████████| 7/7 [00:01<00:00,  5.33it/s]\n",
      "Processing queries:   1%|          | 2/393 [00:05<15:30,  2.38s/query]"
     ]
    },
    {
     "output_type": "stream",
     "name": "stdout",
     "text": [
      "WARNING! Your documents have duplicate entries!  This will slow down calculation and may yield subpar results\n"
     ]
    },
    {
     "output_type": "stream",
     "name": "stderr",
     "text": [
      "\n",
      "  0%|          | 0/7 [00:00<?, ?it/s]\u001B[A\n",
      " 14%|█▍        | 1/7 [00:00<00:01,  3.55it/s]\u001B[A\n",
      " 29%|██▊       | 2/7 [00:00<00:01,  4.32it/s]\u001B[A\n",
      " 43%|████▎     | 3/7 [00:00<00:00,  4.65it/s]\u001B[A\n",
      " 57%|█████▋    | 4/7 [00:00<00:00,  4.79it/s]\u001B[A\n",
      " 71%|███████▏  | 5/7 [00:01<00:00,  4.90it/s]\u001B[A\n",
      "100%|██████████| 7/7 [00:01<00:00,  5.21it/s]\n",
      "Processing queries:   1%|          | 3/393 [00:08<16:55,  2.60s/query]\n",
      "  0%|          | 0/7 [00:00<?, ?it/s]\u001B[A\n",
      " 14%|█▍        | 1/7 [00:00<00:01,  5.14it/s]\u001B[A\n",
      " 29%|██▊       | 2/7 [00:00<00:00,  5.07it/s]\u001B[A\n",
      " 43%|████▎     | 3/7 [00:00<00:00,  5.04it/s]\u001B[A\n",
      " 57%|█████▋    | 4/7 [00:00<00:00,  5.00it/s]\u001B[A\n",
      " 71%|███████▏  | 5/7 [00:01<00:00,  4.82it/s]\u001B[A\n",
      "100%|██████████| 7/7 [00:01<00:00,  5.51it/s]\n",
      "Processing queries:   1%|          | 4/393 [00:10<17:19,  2.67s/query]\n",
      "  0%|          | 0/7 [00:00<?, ?it/s]\u001B[A\n",
      " 14%|█▍        | 1/7 [00:00<00:01,  5.12it/s]\u001B[A\n",
      " 29%|██▊       | 2/7 [00:00<00:00,  5.06it/s]\u001B[A\n",
      " 43%|████▎     | 3/7 [00:00<00:00,  5.02it/s]\u001B[A\n",
      " 57%|█████▋    | 4/7 [00:00<00:00,  4.99it/s]\u001B[A\n",
      " 71%|███████▏  | 5/7 [00:01<00:00,  4.71it/s]\u001B[A\n",
      "100%|██████████| 7/7 [00:01<00:00,  5.46it/s]\n",
      "Processing queries:   1%|▏         | 5/393 [00:13<17:42,  2.74s/query]\n",
      "  0%|          | 0/3 [00:00<?, ?it/s]\u001B[A\n",
      " 33%|███▎      | 1/3 [00:00<00:00,  5.07it/s]\u001B[A\n",
      "100%|██████████| 3/3 [00:00<00:00,  6.15it/s]\n",
      "Processing queries:   2%|▏         | 6/393 [00:15<15:53,  2.46s/query]"
     ]
    },
    {
     "output_type": "stream",
     "name": "stdout",
     "text": [
      "WARNING! Your documents have duplicate entries!  This will slow down calculation and may yield subpar results\n"
     ]
    },
    {
     "output_type": "stream",
     "name": "stderr",
     "text": [
      "\n",
      "  0%|          | 0/7 [00:00<?, ?it/s]\u001B[A\n",
      " 14%|█▍        | 1/7 [00:00<00:01,  3.77it/s]\u001B[A\n",
      " 29%|██▊       | 2/7 [00:00<00:01,  4.40it/s]\u001B[A\n",
      " 43%|████▎     | 3/7 [00:00<00:00,  4.66it/s]\u001B[A\n",
      " 57%|█████▋    | 4/7 [00:00<00:00,  4.78it/s]\u001B[A\n",
      " 71%|███████▏  | 5/7 [00:01<00:00,  4.84it/s]\u001B[A\n",
      "100%|██████████| 7/7 [00:01<00:00,  5.24it/s]\n",
      "Processing queries:   2%|▏         | 7/393 [00:19<18:34,  2.89s/query]"
     ]
    },
    {
     "output_type": "stream",
     "name": "stdout",
     "text": [
      "WARNING! Your documents have duplicate entries!  This will slow down calculation and may yield subpar results\n"
     ]
    },
    {
     "output_type": "stream",
     "name": "stderr",
     "text": [
      "\n",
      "  0%|          | 0/7 [00:00<?, ?it/s]\u001B[A\n",
      " 14%|█▍        | 1/7 [00:00<00:01,  5.23it/s]\u001B[A\n",
      " 29%|██▊       | 2/7 [00:00<00:00,  5.12it/s]\u001B[A\n",
      " 43%|████▎     | 3/7 [00:00<00:00,  5.05it/s]\u001B[A\n",
      " 57%|█████▋    | 4/7 [00:00<00:00,  4.97it/s]\u001B[A\n",
      " 71%|███████▏  | 5/7 [00:01<00:00,  4.77it/s]\u001B[A\n",
      "100%|██████████| 7/7 [00:01<00:00,  5.47it/s]\n",
      "Processing queries:   2%|▏         | 8/393 [00:22<18:18,  2.85s/query]\n",
      "  0%|          | 0/7 [00:00<?, ?it/s]\u001B[A\n",
      " 14%|█▍        | 1/7 [00:00<00:01,  5.19it/s]\u001B[A\n",
      " 29%|██▊       | 2/7 [00:00<00:00,  5.07it/s]\u001B[A\n",
      " 43%|████▎     | 3/7 [00:00<00:00,  5.03it/s]\u001B[A\n",
      " 57%|█████▋    | 4/7 [00:00<00:00,  5.00it/s]\u001B[A\n",
      " 71%|███████▏  | 5/7 [00:01<00:00,  4.80it/s]\u001B[A\n",
      "100%|██████████| 7/7 [00:01<00:00,  5.51it/s]\n",
      "Processing queries:   2%|▏         | 9/393 [00:25<18:16,  2.86s/query]"
     ]
    },
    {
     "output_type": "stream",
     "name": "stdout",
     "text": [
      "WARNING! Your documents have duplicate entries!  This will slow down calculation and may yield subpar results\n"
     ]
    },
    {
     "output_type": "stream",
     "name": "stderr",
     "text": [
      "\n",
      "  0%|          | 0/4 [00:00<?, ?it/s]\u001B[A\n",
      " 25%|██▌       | 1/4 [00:00<00:00,  5.14it/s]\u001B[A\n",
      " 50%|█████     | 2/4 [00:00<00:00,  5.00it/s]\u001B[A\n",
      " 75%|███████▌  | 3/4 [00:00<00:00,  4.96it/s]\u001B[A\n",
      "100%|██████████| 4/4 [00:00<00:00,  5.04it/s]\n",
      "Processing queries:   3%|▎         | 10/393 [00:27<17:06,  2.68s/query]"
     ]
    },
    {
     "output_type": "stream",
     "name": "stdout",
     "text": [
      "WARNING! Your documents have duplicate entries!  This will slow down calculation and may yield subpar results\n"
     ]
    },
    {
     "output_type": "stream",
     "name": "stderr",
     "text": [
      "\n",
      "  0%|          | 0/7 [00:00<?, ?it/s]\u001B[A\n",
      " 14%|█▍        | 1/7 [00:00<00:01,  5.20it/s]\u001B[A\n",
      " 29%|██▊       | 2/7 [00:00<00:00,  5.06it/s]\u001B[A\n",
      " 43%|████▎     | 3/7 [00:00<00:00,  5.01it/s]\u001B[A\n",
      " 57%|█████▋    | 4/7 [00:00<00:00,  4.99it/s]\u001B[A\n",
      " 71%|███████▏  | 5/7 [00:01<00:00,  4.82it/s]\u001B[A\n",
      "100%|██████████| 7/7 [00:01<00:00,  5.48it/s]\n",
      "Processing queries:   3%|▎         | 11/393 [00:30<17:21,  2.73s/query]"
     ]
    },
    {
     "output_type": "stream",
     "name": "stdout",
     "text": [
      "WARNING! Your documents have duplicate entries!  This will slow down calculation and may yield subpar results\n"
     ]
    },
    {
     "output_type": "stream",
     "name": "stderr",
     "text": [
      "\n",
      "  0%|          | 0/7 [00:00<?, ?it/s]\u001B[A\n",
      " 14%|█▍        | 1/7 [00:00<00:01,  5.16it/s]\u001B[A\n",
      " 29%|██▊       | 2/7 [00:00<00:01,  4.99it/s]\u001B[A\n",
      " 43%|████▎     | 3/7 [00:00<00:00,  4.94it/s]\u001B[A\n",
      " 57%|█████▋    | 4/7 [00:00<00:00,  4.91it/s]\u001B[A\n",
      " 71%|███████▏  | 5/7 [00:01<00:00,  4.72it/s]\u001B[A\n",
      "100%|██████████| 7/7 [00:01<00:00,  5.39it/s]\n",
      "Processing queries:   3%|▎         | 12/393 [00:32<17:35,  2.77s/query]"
     ]
    },
    {
     "output_type": "stream",
     "name": "stdout",
     "text": [
      "WARNING! Your documents have duplicate entries!  This will slow down calculation and may yield subpar results\n"
     ]
    },
    {
     "output_type": "stream",
     "name": "stderr",
     "text": [
      "\n",
      "  0%|          | 0/7 [00:00<?, ?it/s]\u001B[A\n",
      " 14%|█▍        | 1/7 [00:00<00:01,  5.08it/s]\u001B[A\n",
      " 29%|██▊       | 2/7 [00:00<00:01,  4.99it/s]\u001B[A\n",
      " 43%|████▎     | 3/7 [00:00<00:00,  4.96it/s]\u001B[A\n",
      " 57%|█████▋    | 4/7 [00:00<00:00,  4.95it/s]\u001B[A\n",
      " 71%|███████▏  | 5/7 [00:01<00:00,  4.74it/s]\u001B[A\n",
      "100%|██████████| 7/7 [00:01<00:00,  5.40it/s]\n",
      "Processing queries:   3%|▎         | 13/393 [00:35<17:35,  2.78s/query]\n",
      "  0%|          | 0/7 [00:00<?, ?it/s]\u001B[A\n",
      " 14%|█▍        | 1/7 [00:00<00:01,  4.96it/s]\u001B[A\n",
      " 29%|██▊       | 2/7 [00:00<00:01,  4.91it/s]\u001B[A\n",
      " 43%|████▎     | 3/7 [00:00<00:00,  4.89it/s]\u001B[A\n",
      " 57%|█████▋    | 4/7 [00:00<00:00,  4.94it/s]\u001B[A\n",
      " 71%|███████▏  | 5/7 [00:01<00:00,  4.62it/s]\u001B[A\n",
      "100%|██████████| 7/7 [00:01<00:00,  5.33it/s]\n",
      "Processing queries:   4%|▍         | 15/393 [00:39<14:50,  2.36s/query]"
     ]
    },
    {
     "output_type": "stream",
     "name": "stdout",
     "text": [
      "WARNING! Your documents have duplicate entries!  This will slow down calculation and may yield subpar results\n"
     ]
    },
    {
     "output_type": "stream",
     "name": "stderr",
     "text": [
      "\n",
      "  0%|          | 0/7 [00:00<?, ?it/s]\u001B[A\n",
      " 14%|█▍        | 1/7 [00:00<00:01,  4.04it/s]\u001B[A\n",
      " 29%|██▊       | 2/7 [00:00<00:01,  4.49it/s]\u001B[A\n",
      " 43%|████▎     | 3/7 [00:00<00:00,  4.69it/s]\u001B[A\n",
      " 57%|█████▋    | 4/7 [00:00<00:00,  4.77it/s]\u001B[A\n",
      " 71%|███████▏  | 5/7 [00:01<00:00,  4.78it/s]\u001B[A\n",
      "100%|██████████| 7/7 [00:01<00:00,  5.19it/s]\n",
      "Processing queries:   4%|▍         | 16/393 [00:43<17:13,  2.74s/query]\n",
      "  0%|          | 0/7 [00:00<?, ?it/s]\u001B[A\n",
      " 14%|█▍        | 1/7 [00:00<00:01,  5.03it/s]\u001B[A\n",
      " 29%|██▊       | 2/7 [00:00<00:01,  4.94it/s]\u001B[A\n",
      " 43%|████▎     | 3/7 [00:00<00:00,  4.92it/s]\u001B[A\n",
      " 57%|█████▋    | 4/7 [00:00<00:00,  4.88it/s]\u001B[A\n",
      " 71%|███████▏  | 5/7 [00:01<00:00,  4.69it/s]\u001B[A\n",
      "100%|██████████| 7/7 [00:01<00:00,  5.38it/s]\n",
      "Processing queries:   4%|▍         | 17/393 [00:46<17:20,  2.77s/query]"
     ]
    },
    {
     "output_type": "stream",
     "name": "stdout",
     "text": [
      "WARNING! Your documents have duplicate entries!  This will slow down calculation and may yield subpar results\n"
     ]
    },
    {
     "output_type": "stream",
     "name": "stderr",
     "text": [
      "\n",
      "  0%|          | 0/7 [00:00<?, ?it/s]\u001B[A\n",
      " 14%|█▍        | 1/7 [00:00<00:01,  3.54it/s]\u001B[A\n",
      " 29%|██▊       | 2/7 [00:00<00:01,  4.20it/s]\u001B[A\n",
      " 43%|████▎     | 3/7 [00:00<00:00,  4.47it/s]\u001B[A\n",
      " 57%|█████▋    | 4/7 [00:00<00:00,  4.62it/s]\u001B[A\n",
      " 71%|███████▏  | 5/7 [00:01<00:00,  4.69it/s]\u001B[A\n",
      "100%|██████████| 7/7 [00:01<00:00,  5.04it/s]\n",
      "Processing queries:   5%|▍         | 18/393 [00:50<19:08,  3.06s/query]\n",
      "  0%|          | 0/7 [00:00<?, ?it/s]\u001B[A\n",
      " 14%|█▍        | 1/7 [00:00<00:01,  4.98it/s]\u001B[A\n",
      " 29%|██▊       | 2/7 [00:00<00:01,  4.90it/s]\u001B[A\n",
      " 43%|████▎     | 3/7 [00:00<00:00,  4.83it/s]\u001B[A\n",
      " 57%|█████▋    | 4/7 [00:00<00:00,  4.82it/s]\u001B[A\n",
      " 71%|███████▏  | 5/7 [00:01<00:00,  4.60it/s]\u001B[A\n",
      "100%|██████████| 7/7 [00:01<00:00,  5.30it/s]\n",
      "Processing queries:   5%|▍         | 19/393 [00:53<19:02,  3.05s/query]\n",
      "  0%|          | 0/7 [00:00<?, ?it/s]\u001B[A\n",
      " 14%|█▍        | 1/7 [00:00<00:01,  4.98it/s]\u001B[A\n",
      " 29%|██▊       | 2/7 [00:00<00:01,  4.86it/s]\u001B[A\n",
      " 43%|████▎     | 3/7 [00:00<00:00,  4.82it/s]\u001B[A\n",
      " 57%|█████▋    | 4/7 [00:00<00:00,  4.80it/s]\u001B[A\n",
      " 71%|███████▏  | 5/7 [00:01<00:00,  4.62it/s]\u001B[A\n",
      "100%|██████████| 7/7 [00:01<00:00,  5.28it/s]\n",
      "Processing queries:   5%|▌         | 20/393 [00:56<18:38,  3.00s/query]"
     ]
    },
    {
     "output_type": "stream",
     "name": "stdout",
     "text": [
      "INFO: Processed 20/393 queries. Avg time/query: 2665.82 ms.\n"
     ]
    },
    {
     "output_type": "stream",
     "name": "stderr",
     "text": [
      "\n",
      "  0%|          | 0/7 [00:00<?, ?it/s]\u001B[A\n",
      " 14%|█▍        | 1/7 [00:00<00:01,  4.99it/s]\u001B[A\n",
      " 29%|██▊       | 2/7 [00:00<00:01,  4.90it/s]\u001B[A\n",
      " 43%|████▎     | 3/7 [00:00<00:00,  4.85it/s]\u001B[A\n",
      " 57%|█████▋    | 4/7 [00:00<00:00,  4.78it/s]\u001B[A\n",
      " 71%|███████▏  | 5/7 [00:01<00:00,  4.68it/s]\u001B[A\n",
      "100%|██████████| 7/7 [00:01<00:00,  5.37it/s]\n",
      "Processing queries:   5%|▌         | 21/393 [00:58<18:16,  2.95s/query]"
     ]
    },
    {
     "output_type": "stream",
     "name": "stdout",
     "text": [
      "WARNING! Your documents have duplicate entries!  This will slow down calculation and may yield subpar results\n"
     ]
    },
    {
     "output_type": "stream",
     "name": "stderr",
     "text": [
      "\n",
      "  0%|          | 0/7 [00:00<?, ?it/s]\u001B[A\n",
      " 14%|█▍        | 1/7 [00:00<00:01,  4.96it/s]\u001B[A\n",
      " 29%|██▊       | 2/7 [00:00<00:01,  4.86it/s]\u001B[A\n",
      " 43%|████▎     | 3/7 [00:00<00:00,  4.82it/s]\u001B[A\n",
      " 57%|█████▋    | 4/7 [00:00<00:00,  4.81it/s]\u001B[A\n",
      " 71%|███████▏  | 5/7 [00:01<00:00,  4.63it/s]\u001B[A\n",
      "100%|██████████| 7/7 [00:01<00:00,  5.30it/s]\n",
      "Processing queries:   6%|▌         | 22/393 [01:01<18:06,  2.93s/query]\n",
      "  0%|          | 0/3 [00:00<?, ?it/s]\u001B[A\n",
      " 33%|███▎      | 1/3 [00:00<00:00,  4.92it/s]\u001B[A\n",
      "100%|██████████| 3/3 [00:00<00:00,  5.87it/s]\n",
      "Processing queries:   6%|▌         | 23/393 [01:03<16:16,  2.64s/query]\n",
      "  0%|          | 0/7 [00:00<?, ?it/s]\u001B[A\n",
      " 14%|█▍        | 1/7 [00:00<00:01,  4.90it/s]\u001B[A\n",
      " 29%|██▊       | 2/7 [00:00<00:01,  4.82it/s]\u001B[A\n",
      " 43%|████▎     | 3/7 [00:00<00:00,  4.76it/s]\u001B[A\n",
      " 57%|█████▋    | 4/7 [00:00<00:00,  4.75it/s]\u001B[A\n",
      " 71%|███████▏  | 5/7 [00:01<00:00,  4.62it/s]\u001B[A\n",
      "100%|██████████| 7/7 [00:01<00:00,  5.26it/s]\n",
      "Processing queries:   6%|▌         | 24/393 [01:06<16:43,  2.72s/query]\n",
      "  0%|          | 0/7 [00:00<?, ?it/s]\u001B[A\n",
      " 14%|█▍        | 1/7 [00:00<00:01,  4.92it/s]\u001B[A\n",
      " 29%|██▊       | 2/7 [00:00<00:01,  4.83it/s]\u001B[A\n",
      " 43%|████▎     | 3/7 [00:00<00:00,  4.79it/s]\u001B[A\n",
      " 57%|█████▋    | 4/7 [00:00<00:00,  4.75it/s]\u001B[A\n",
      " 71%|███████▏  | 5/7 [00:01<00:00,  4.55it/s]\u001B[A\n",
      "100%|██████████| 7/7 [00:01<00:00,  5.28it/s]\n",
      "Processing queries:   6%|▋         | 25/393 [01:09<16:57,  2.76s/query]"
     ]
    },
    {
     "output_type": "stream",
     "name": "stdout",
     "text": [
      "WARNING! Your documents have duplicate entries!  This will slow down calculation and may yield subpar results\n"
     ]
    },
    {
     "output_type": "stream",
     "name": "stderr",
     "text": [
      "\n",
      "  0%|          | 0/7 [00:00<?, ?it/s]\u001B[A\n",
      " 14%|█▍        | 1/7 [00:00<00:01,  5.07it/s]\u001B[A\n",
      " 29%|██▊       | 2/7 [00:00<00:01,  4.90it/s]\u001B[A\n",
      " 43%|████▎     | 3/7 [00:00<00:00,  4.88it/s]\u001B[A\n",
      " 57%|█████▋    | 4/7 [00:00<00:00,  4.85it/s]\u001B[A\n",
      " 71%|███████▏  | 5/7 [00:01<00:00,  4.64it/s]\u001B[A\n",
      "100%|██████████| 7/7 [00:01<00:00,  5.30it/s]\n",
      "Processing queries:   7%|▋         | 26/393 [01:12<17:08,  2.80s/query]\n",
      "100%|██████████| 1/1 [00:00<00:00, 21.80it/s]\n",
      "Processing queries:   7%|▋         | 27/393 [01:13<14:34,  2.39s/query]"
     ]
    },
    {
     "output_type": "stream",
     "name": "stdout",
     "text": [
      "WARNING! Your documents have duplicate entries!  This will slow down calculation and may yield subpar results\n"
     ]
    },
    {
     "output_type": "stream",
     "name": "stderr",
     "text": [
      "\n",
      "  0%|          | 0/7 [00:00<?, ?it/s]\u001B[A\n",
      " 14%|█▍        | 1/7 [00:00<00:01,  3.51it/s]\u001B[A\n",
      " 29%|██▊       | 2/7 [00:00<00:01,  4.13it/s]\u001B[A\n",
      " 43%|████▎     | 3/7 [00:00<00:00,  4.40it/s]\u001B[A\n",
      " 57%|█████▋    | 4/7 [00:00<00:00,  4.51it/s]\u001B[A\n",
      " 71%|███████▏  | 5/7 [00:01<00:00,  4.56it/s]\u001B[A\n",
      "100%|██████████| 7/7 [00:01<00:00,  4.93it/s]\n",
      "Processing queries:   7%|▋         | 28/393 [01:16<15:31,  2.55s/query]"
     ]
    },
    {
     "output_type": "stream",
     "name": "stdout",
     "text": [
      "WARNING! Your documents have duplicate entries!  This will slow down calculation and may yield subpar results\n"
     ]
    },
    {
     "output_type": "stream",
     "name": "stderr",
     "text": [
      "\n",
      "  0%|          | 0/7 [00:00<?, ?it/s]\u001B[A\n",
      " 14%|█▍        | 1/7 [00:00<00:01,  3.48it/s]\u001B[A\n",
      " 29%|██▊       | 2/7 [00:00<00:01,  4.13it/s]\u001B[A\n",
      " 43%|████▎     | 3/7 [00:00<00:00,  4.39it/s]\u001B[A\n",
      " 57%|█████▋    | 4/7 [00:00<00:00,  4.51it/s]\u001B[A\n",
      " 71%|███████▏  | 5/7 [00:01<00:00,  4.56it/s]\u001B[A\n",
      "100%|██████████| 7/7 [00:01<00:00,  4.92it/s]\n",
      "Processing queries:   7%|▋         | 29/393 [01:20<17:46,  2.93s/query]\n",
      "  0%|          | 0/7 [00:00<?, ?it/s]\u001B[A\n",
      " 14%|█▍        | 1/7 [00:00<00:01,  3.76it/s]\u001B[A\n",
      " 29%|██▊       | 2/7 [00:00<00:01,  4.28it/s]\u001B[A\n",
      " 43%|████▎     | 3/7 [00:00<00:00,  4.44it/s]\u001B[A\n",
      " 57%|█████▋    | 4/7 [00:00<00:00,  4.53it/s]\u001B[A\n",
      " 71%|███████▏  | 5/7 [00:01<00:00,  4.45it/s]\u001B[A\n",
      "100%|██████████| 7/7 [00:01<00:00,  4.95it/s]\n",
      "Processing queries:   8%|▊         | 30/393 [01:24<19:29,  3.22s/query]"
     ]
    },
    {
     "output_type": "stream",
     "name": "stdout",
     "text": [
      "WARNING! Your documents have duplicate entries!  This will slow down calculation and may yield subpar results\n"
     ]
    },
    {
     "output_type": "stream",
     "name": "stderr",
     "text": [
      "\n",
      "  0%|          | 0/7 [00:00<?, ?it/s]\u001B[A\n",
      " 14%|█▍        | 1/7 [00:00<00:01,  3.48it/s]\u001B[A\n",
      " 29%|██▊       | 2/7 [00:00<00:01,  4.08it/s]\u001B[A\n",
      " 43%|████▎     | 3/7 [00:00<00:00,  4.34it/s]\u001B[A\n",
      " 57%|█████▋    | 4/7 [00:00<00:00,  4.48it/s]\u001B[A\n",
      " 71%|███████▏  | 5/7 [00:01<00:00,  4.48it/s]\u001B[A\n",
      "100%|██████████| 7/7 [00:01<00:00,  4.83it/s]\n",
      "Processing queries:   8%|▊         | 31/393 [01:28<20:44,  3.44s/query]"
     ]
    },
    {
     "output_type": "stream",
     "name": "stdout",
     "text": [
      "WARNING! Your documents have duplicate entries!  This will slow down calculation and may yield subpar results\n"
     ]
    },
    {
     "output_type": "stream",
     "name": "stderr",
     "text": [
      "\n",
      "  0%|          | 0/7 [00:00<?, ?it/s]\u001B[A\n",
      " 14%|█▍        | 1/7 [00:00<00:01,  4.83it/s]\u001B[A\n",
      " 29%|██▊       | 2/7 [00:00<00:01,  4.78it/s]\u001B[A\n",
      " 43%|████▎     | 3/7 [00:00<00:00,  4.74it/s]\u001B[A\n",
      " 57%|█████▋    | 4/7 [00:00<00:00,  4.69it/s]\u001B[A\n",
      " 71%|███████▏  | 5/7 [00:01<00:00,  4.50it/s]\u001B[A\n",
      "100%|██████████| 7/7 [00:01<00:00,  5.16it/s]\n",
      "Processing queries:   8%|▊         | 32/393 [01:31<19:38,  3.26s/query]"
     ]
    },
    {
     "output_type": "stream",
     "name": "stdout",
     "text": [
      "WARNING! Your documents have duplicate entries!  This will slow down calculation and may yield subpar results\n"
     ]
    },
    {
     "output_type": "stream",
     "name": "stderr",
     "text": [
      "\n",
      "  0%|          | 0/7 [00:00<?, ?it/s]\u001B[A\n",
      " 14%|█▍        | 1/7 [00:00<00:01,  4.82it/s]\u001B[A\n",
      " 29%|██▊       | 2/7 [00:00<00:01,  4.71it/s]\u001B[A\n",
      " 43%|████▎     | 3/7 [00:00<00:00,  4.69it/s]\u001B[A\n",
      " 57%|█████▋    | 4/7 [00:00<00:00,  4.62it/s]\u001B[A\n",
      " 71%|███████▏  | 5/7 [00:01<00:00,  4.39it/s]\u001B[A\n",
      "100%|██████████| 7/7 [00:01<00:00,  5.07it/s]\n",
      "Processing queries:   8%|▊         | 33/393 [01:34<19:17,  3.22s/query]\n",
      "  0%|          | 0/7 [00:00<?, ?it/s]\u001B[A\n",
      " 14%|█▍        | 1/7 [00:00<00:01,  4.72it/s]\u001B[A\n",
      " 29%|██▊       | 2/7 [00:00<00:01,  4.67it/s]\u001B[A\n",
      " 43%|████▎     | 3/7 [00:00<00:00,  4.64it/s]\u001B[A\n",
      " 57%|█████▋    | 4/7 [00:00<00:00,  4.48it/s]\u001B[A\n",
      " 71%|███████▏  | 5/7 [00:01<00:00,  4.44it/s]\u001B[A\n",
      "100%|██████████| 7/7 [00:01<00:00,  5.03it/s]\n",
      "Processing queries:   9%|▊         | 34/393 [01:37<18:58,  3.17s/query]"
     ]
    },
    {
     "output_type": "stream",
     "name": "stdout",
     "text": [
      "WARNING! Your documents have duplicate entries!  This will slow down calculation and may yield subpar results\n"
     ]
    },
    {
     "output_type": "stream",
     "name": "stderr",
     "text": [
      "\n",
      "  0%|          | 0/7 [00:00<?, ?it/s]\u001B[A\n",
      " 14%|█▍        | 1/7 [00:00<00:01,  3.67it/s]\u001B[A\n",
      " 29%|██▊       | 2/7 [00:00<00:01,  4.21it/s]\u001B[A\n",
      " 43%|████▎     | 3/7 [00:00<00:00,  4.37it/s]\u001B[A\n",
      " 57%|█████▋    | 4/7 [00:00<00:00,  4.45it/s]\u001B[A\n",
      " 71%|███████▏  | 5/7 [00:01<00:00,  4.36it/s]\u001B[A\n",
      "100%|██████████| 7/7 [00:01<00:00,  4.83it/s]\n",
      "Processing queries:   9%|▉         | 35/393 [01:41<20:19,  3.41s/query]\n",
      "  0%|          | 0/7 [00:00<?, ?it/s]\u001B[A\n",
      " 14%|█▍        | 1/7 [00:00<00:01,  3.51it/s]\u001B[A\n",
      " 29%|██▊       | 2/7 [00:00<00:01,  4.07it/s]\u001B[A\n",
      " 43%|████▎     | 3/7 [00:00<00:00,  4.26it/s]\u001B[A\n",
      " 57%|█████▋    | 4/7 [00:00<00:00,  4.34it/s]\u001B[A\n",
      " 71%|███████▏  | 5/7 [00:01<00:00,  4.29it/s]\u001B[A\n",
      "100%|██████████| 7/7 [00:01<00:00,  4.75it/s]\n",
      "Processing queries:   9%|▉         | 36/393 [01:45<20:58,  3.52s/query]\n",
      "  0%|          | 0/7 [00:00<?, ?it/s]\u001B[A\n",
      " 14%|█▍        | 1/7 [00:00<00:01,  4.73it/s]\u001B[A\n",
      " 29%|██▊       | 2/7 [00:00<00:01,  4.62it/s]\u001B[A\n",
      " 43%|████▎     | 3/7 [00:00<00:00,  4.55it/s]\u001B[A\n",
      " 57%|█████▋    | 4/7 [00:00<00:00,  4.42it/s]\u001B[A\n",
      " 71%|███████▏  | 5/7 [00:01<00:00,  4.38it/s]\u001B[A\n",
      "100%|██████████| 7/7 [00:01<00:00,  4.99it/s]\n",
      "Processing queries:   9%|▉         | 37/393 [01:48<19:54,  3.36s/query]\n",
      "  0%|          | 0/6 [00:00<?, ?it/s]\u001B[A\n",
      " 17%|█▋        | 1/6 [00:00<00:01,  4.72it/s]\u001B[A\n",
      " 33%|███▎      | 2/6 [00:00<00:00,  4.55it/s]\u001B[A\n",
      " 50%|█████     | 3/6 [00:00<00:00,  4.52it/s]\u001B[A\n",
      " 67%|██████▋   | 4/6 [00:00<00:00,  4.22it/s]\u001B[A\n",
      " 83%|████████▎ | 5/6 [00:01<00:00,  4.25it/s]\u001B[A\n",
      "100%|██████████| 6/6 [00:01<00:00,  4.76it/s]\n",
      "Processing queries:  10%|▉         | 38/393 [01:51<18:56,  3.20s/query]\n",
      "  0%|          | 0/7 [00:00<?, ?it/s]\u001B[A\n",
      " 14%|█▍        | 1/7 [00:00<00:01,  3.81it/s]\u001B[A\n",
      " 29%|██▊       | 2/7 [00:00<00:01,  4.18it/s]\u001B[A\n",
      " 43%|████▎     | 3/7 [00:00<00:00,  4.30it/s]\u001B[A\n",
      " 57%|█████▋    | 4/7 [00:00<00:00,  4.33it/s]\u001B[A\n",
      " 71%|███████▏  | 5/7 [00:01<00:00,  4.24it/s]\u001B[A\n",
      "100%|██████████| 7/7 [00:01<00:00,  4.74it/s]\n",
      "Processing queries:  10%|▉         | 39/393 [01:54<19:52,  3.37s/query]\n",
      "  0%|          | 0/7 [00:00<?, ?it/s]\u001B[A\n",
      " 14%|█▍        | 1/7 [00:00<00:01,  4.64it/s]\u001B[A\n",
      " 29%|██▊       | 2/7 [00:00<00:01,  4.53it/s]\u001B[A\n",
      " 43%|████▎     | 3/7 [00:00<00:00,  4.48it/s]\u001B[A\n",
      " 57%|█████▋    | 4/7 [00:00<00:00,  4.37it/s]\u001B[A\n",
      " 71%|███████▏  | 5/7 [00:01<00:00,  4.23it/s]\u001B[A\n",
      "100%|██████████| 7/7 [00:01<00:00,  4.87it/s]\n",
      "Processing queries:  10%|█         | 40/393 [01:57<19:06,  3.25s/query]"
     ]
    },
    {
     "output_type": "stream",
     "name": "stdout",
     "text": [
      "INFO: Processed 40/393 queries. Avg time/query: 2874.49 ms.\n"
     ]
    },
    {
     "output_type": "stream",
     "name": "stderr",
     "text": [
      "\n",
      "  0%|          | 0/1 [00:00<?, ?it/s]\u001B[A\n",
      "100%|██████████| 1/1 [00:00<00:00,  4.44it/s]\n",
      "Processing queries:  10%|█         | 41/393 [01:59<16:16,  2.77s/query]"
     ]
    },
    {
     "output_type": "stream",
     "name": "stdout",
     "text": [
      "WARNING! Your documents have duplicate entries!  This will slow down calculation and may yield subpar results\n"
     ]
    },
    {
     "output_type": "stream",
     "name": "stderr",
     "text": [
      "\n",
      "  0%|          | 0/7 [00:00<?, ?it/s]\u001B[A\n",
      " 14%|█▍        | 1/7 [00:00<00:01,  3.84it/s]\u001B[A\n",
      " 29%|██▊       | 2/7 [00:00<00:01,  4.16it/s]\u001B[A\n",
      " 43%|████▎     | 3/7 [00:00<00:00,  4.26it/s]\u001B[A\n",
      " 57%|█████▋    | 4/7 [00:00<00:00,  4.31it/s]\u001B[A\n",
      " 71%|███████▏  | 5/7 [00:01<00:00,  4.16it/s]\u001B[A\n",
      "100%|██████████| 7/7 [00:01<00:00,  4.68it/s]\n",
      "Processing queries:  11%|█         | 42/393 [02:04<19:53,  3.40s/query]\n",
      "  0%|          | 0/7 [00:00<?, ?it/s]\u001B[A\n",
      " 14%|█▍        | 1/7 [00:00<00:01,  3.43it/s]\u001B[A\n",
      " 29%|██▊       | 2/7 [00:00<00:01,  3.96it/s]\u001B[A\n",
      " 43%|████▎     | 3/7 [00:00<00:00,  4.15it/s]\u001B[A\n",
      " 57%|█████▋    | 4/7 [00:00<00:00,  4.27it/s]\u001B[A\n",
      " 71%|███████▏  | 5/7 [00:01<00:00,  4.26it/s]\u001B[A\n",
      "100%|██████████| 7/7 [00:01<00:00,  4.65it/s]\n",
      "Processing queries:  11%|█         | 43/393 [02:08<21:03,  3.61s/query]\n",
      "  0%|          | 0/7 [00:00<?, ?it/s]\u001B[A\n",
      " 14%|█▍        | 1/7 [00:00<00:01,  4.66it/s]\u001B[A\n",
      " 29%|██▊       | 2/7 [00:00<00:01,  4.55it/s]\u001B[A\n",
      " 43%|████▎     | 3/7 [00:00<00:00,  4.52it/s]\u001B[A\n",
      " 57%|█████▋    | 4/7 [00:00<00:00,  4.32it/s]\u001B[A\n",
      " 71%|███████▏  | 5/7 [00:01<00:00,  4.29it/s]\u001B[A\n",
      "100%|██████████| 7/7 [00:01<00:00,  4.91it/s]\n",
      "Processing queries:  11%|█         | 44/393 [02:11<19:52,  3.42s/query]\n",
      "  0%|          | 0/7 [00:00<?, ?it/s]\u001B[A\n",
      " 14%|█▍        | 1/7 [00:00<00:01,  3.66it/s]\u001B[A\n",
      " 29%|██▊       | 2/7 [00:00<00:01,  4.10it/s]\u001B[A\n",
      " 43%|████▎     | 3/7 [00:00<00:00,  4.25it/s]\u001B[A\n",
      " 57%|█████▋    | 4/7 [00:00<00:00,  4.32it/s]\u001B[A\n",
      " 71%|███████▏  | 5/7 [00:01<00:00,  4.21it/s]\u001B[A\n",
      "100%|██████████| 7/7 [00:01<00:00,  4.69it/s]\n",
      "Processing queries:  11%|█▏        | 45/393 [02:15<20:44,  3.58s/query]\n",
      "  0%|          | 0/7 [00:00<?, ?it/s]\u001B[A\n",
      " 14%|█▍        | 1/7 [00:00<00:01,  3.76it/s]\u001B[A\n",
      " 29%|██▊       | 2/7 [00:00<00:01,  4.15it/s]\u001B[A\n",
      " 43%|████▎     | 3/7 [00:00<00:00,  4.26it/s]\u001B[A\n",
      " 57%|█████▋    | 4/7 [00:00<00:00,  4.30it/s]\u001B[A\n",
      " 71%|███████▏  | 5/7 [00:01<00:00,  4.16it/s]\u001B[A\n",
      "100%|██████████| 7/7 [00:01<00:00,  4.68it/s]\n",
      "Processing queries:  12%|█▏        | 46/393 [02:19<21:07,  3.65s/query]\n",
      "  0%|          | 0/7 [00:00<?, ?it/s]\u001B[A\n",
      " 14%|█▍        | 1/7 [00:00<00:01,  4.61it/s]\u001B[A\n",
      " 29%|██▊       | 2/7 [00:00<00:01,  4.46it/s]\u001B[A\n",
      " 43%|████▎     | 3/7 [00:00<00:00,  4.40it/s]\u001B[A\n",
      " 57%|█████▋    | 4/7 [00:00<00:00,  4.26it/s]\u001B[A\n",
      " 71%|███████▏  | 5/7 [00:01<00:00,  4.30it/s]\u001B[A\n",
      "100%|██████████| 7/7 [00:01<00:00,  4.86it/s]\n",
      "Processing queries:  12%|█▏        | 47/393 [02:22<19:52,  3.45s/query]\n",
      "  0%|          | 0/7 [00:00<?, ?it/s]\u001B[A\n",
      " 14%|█▍        | 1/7 [00:00<00:01,  4.57it/s]\u001B[A\n",
      " 29%|██▊       | 2/7 [00:00<00:01,  4.42it/s]\u001B[A\n",
      " 43%|████▎     | 3/7 [00:00<00:00,  4.39it/s]\u001B[A\n",
      " 57%|█████▋    | 4/7 [00:00<00:00,  4.11it/s]\u001B[A\n",
      " 71%|███████▏  | 5/7 [00:01<00:00,  4.16it/s]\u001B[A\n",
      "100%|██████████| 7/7 [00:01<00:00,  4.76it/s]\n",
      "Processing queries:  12%|█▏        | 48/393 [02:25<19:08,  3.33s/query]\n",
      "  0%|          | 0/7 [00:00<?, ?it/s]\u001B[A\n",
      " 14%|█▍        | 1/7 [00:00<00:01,  4.45it/s]\u001B[A\n",
      " 29%|██▊       | 2/7 [00:00<00:01,  4.42it/s]\u001B[A\n",
      " 43%|████▎     | 3/7 [00:00<00:00,  4.37it/s]\u001B[A\n",
      " 57%|█████▋    | 4/7 [00:00<00:00,  4.14it/s]\u001B[A\n",
      " 71%|███████▏  | 5/7 [00:01<00:00,  4.22it/s]\u001B[A\n",
      "100%|██████████| 7/7 [00:01<00:00,  4.78it/s]\n",
      "Processing queries:  12%|█▏        | 49/393 [02:28<18:25,  3.21s/query]\n",
      "  0%|          | 0/4 [00:00<?, ?it/s]\u001B[A\n",
      " 25%|██▌       | 1/4 [00:00<00:00,  4.62it/s]\u001B[A\n",
      " 50%|█████     | 2/4 [00:00<00:00,  4.42it/s]\u001B[A\n",
      " 75%|███████▌  | 3/4 [00:00<00:00,  4.37it/s]\u001B[A\n",
      "100%|██████████| 4/4 [00:00<00:00,  4.27it/s]\n",
      "Processing queries:  13%|█▎        | 50/393 [02:30<16:59,  2.97s/query]"
     ]
    },
    {
     "output_type": "stream",
     "name": "stdout",
     "text": [
      "WARNING! Your documents have duplicate entries!  This will slow down calculation and may yield subpar results\n"
     ]
    },
    {
     "output_type": "stream",
     "name": "stderr",
     "text": [
      "\n",
      "  0%|          | 0/7 [00:00<?, ?it/s]\u001B[A\n",
      " 14%|█▍        | 1/7 [00:00<00:01,  4.63it/s]\u001B[A\n",
      " 29%|██▊       | 2/7 [00:00<00:01,  4.42it/s]\u001B[A\n",
      " 43%|████▎     | 3/7 [00:00<00:00,  4.38it/s]\u001B[A\n",
      " 57%|█████▋    | 4/7 [00:00<00:00,  4.08it/s]\u001B[A\n",
      " 71%|███████▏  | 5/7 [00:01<00:00,  4.13it/s]\u001B[A\n",
      "100%|██████████| 7/7 [00:01<00:00,  4.71it/s]\n",
      "Processing queries:  13%|█▎        | 51/393 [02:33<17:05,  3.00s/query]"
     ]
    },
    {
     "output_type": "stream",
     "name": "stdout",
     "text": [
      "WARNING! Your documents have duplicate entries!  This will slow down calculation and may yield subpar results\n"
     ]
    },
    {
     "output_type": "stream",
     "name": "stderr",
     "text": [
      "\n",
      "  0%|          | 0/7 [00:00<?, ?it/s]\u001B[A\n",
      " 14%|█▍        | 1/7 [00:00<00:01,  3.90it/s]\u001B[A\n",
      " 29%|██▊       | 2/7 [00:00<00:01,  4.08it/s]\u001B[A\n",
      " 43%|████▎     | 3/7 [00:00<00:00,  4.22it/s]\u001B[A\n",
      " 57%|█████▋    | 4/7 [00:00<00:00,  4.15it/s]\u001B[A\n",
      " 71%|███████▏  | 5/7 [00:01<00:00,  4.02it/s]\u001B[A\n",
      "100%|██████████| 7/7 [00:01<00:00,  4.57it/s]\n",
      "Processing queries:  13%|█▎        | 52/393 [02:36<17:40,  3.11s/query]\n",
      "  0%|          | 0/5 [00:00<?, ?it/s]\u001B[A\n",
      " 20%|██        | 1/5 [00:00<00:00,  4.55it/s]\u001B[A\n",
      " 40%|████      | 2/5 [00:00<00:00,  4.31it/s]\u001B[A\n",
      " 60%|██████    | 3/5 [00:00<00:00,  4.23it/s]\u001B[A\n",
      "100%|██████████| 5/5 [00:01<00:00,  4.84it/s]\n",
      "Processing queries:  13%|█▎        | 53/393 [02:39<16:43,  2.95s/query]"
     ]
    },
    {
     "output_type": "stream",
     "name": "stdout",
     "text": [
      "WARNING! Your documents have duplicate entries!  This will slow down calculation and may yield subpar results\n"
     ]
    },
    {
     "output_type": "stream",
     "name": "stderr",
     "text": [
      "\n",
      "  0%|          | 0/7 [00:00<?, ?it/s]\u001B[A\n",
      " 14%|█▍        | 1/7 [00:00<00:01,  4.60it/s]\u001B[A\n",
      " 29%|██▊       | 2/7 [00:00<00:01,  4.38it/s]\u001B[A\n",
      " 43%|████▎     | 3/7 [00:00<00:00,  4.34it/s]\u001B[A\n",
      " 57%|█████▋    | 4/7 [00:00<00:00,  4.12it/s]\u001B[A\n",
      " 71%|███████▏  | 5/7 [00:01<00:00,  4.12it/s]\u001B[A\n",
      "100%|██████████| 7/7 [00:01<00:00,  4.68it/s]\n",
      "Processing queries:  14%|█▎        | 54/393 [02:42<16:50,  2.98s/query]"
     ]
    },
    {
     "output_type": "stream",
     "name": "stdout",
     "text": [
      "WARNING! Your documents have duplicate entries!  This will slow down calculation and may yield subpar results\n"
     ]
    },
    {
     "output_type": "stream",
     "name": "stderr",
     "text": [
      "\n",
      "  0%|          | 0/7 [00:00<?, ?it/s]\u001B[A\n",
      " 14%|█▍        | 1/7 [00:00<00:01,  4.51it/s]\u001B[A\n",
      " 29%|██▊       | 2/7 [00:00<00:01,  4.32it/s]\u001B[A\n",
      " 43%|████▎     | 3/7 [00:00<00:00,  4.23it/s]\u001B[A\n",
      " 57%|█████▋    | 4/7 [00:00<00:00,  3.94it/s]\u001B[A\n",
      " 71%|███████▏  | 5/7 [00:01<00:00,  4.05it/s]\u001B[A\n",
      "100%|██████████| 7/7 [00:01<00:00,  4.59it/s]\n",
      "Processing queries:  14%|█▍        | 55/393 [02:45<17:02,  3.02s/query]"
     ]
    },
    {
     "output_type": "stream",
     "name": "stdout",
     "text": [
      "WARNING! Your documents have duplicate entries!  This will slow down calculation and may yield subpar results\n"
     ]
    },
    {
     "output_type": "stream",
     "name": "stderr",
     "text": [
      "\n",
      "  0%|          | 0/7 [00:00<?, ?it/s]\u001B[A\n",
      " 14%|█▍        | 1/7 [00:00<00:01,  3.55it/s]\u001B[A\n",
      " 29%|██▊       | 2/7 [00:00<00:01,  3.88it/s]\u001B[A\n",
      " 43%|████▎     | 3/7 [00:00<00:01,  3.99it/s]\u001B[A\n",
      " 57%|█████▋    | 4/7 [00:01<00:00,  3.98it/s]\u001B[A\n",
      " 71%|███████▏  | 5/7 [00:01<00:00,  3.91it/s]\u001B[A\n",
      "100%|██████████| 7/7 [00:01<00:00,  4.43it/s]\n",
      "Processing queries:  14%|█▍        | 56/393 [02:50<20:09,  3.59s/query]"
     ]
    },
    {
     "output_type": "stream",
     "name": "stdout",
     "text": [
      "WARNING! Your documents have duplicate entries!  This will slow down calculation and may yield subpar results\n"
     ]
    },
    {
     "output_type": "stream",
     "name": "stderr",
     "text": [
      "\n",
      "  0%|          | 0/7 [00:00<?, ?it/s]\u001B[A\n",
      " 14%|█▍        | 1/7 [00:00<00:01,  4.44it/s]\u001B[A\n",
      " 29%|██▊       | 2/7 [00:00<00:01,  4.27it/s]\u001B[A\n",
      " 43%|████▎     | 3/7 [00:00<00:00,  4.18it/s]\u001B[A\n",
      " 57%|█████▋    | 4/7 [00:00<00:00,  3.95it/s]\u001B[A\n",
      " 71%|███████▏  | 5/7 [00:01<00:00,  4.05it/s]\u001B[A\n",
      "100%|██████████| 7/7 [00:01<00:00,  4.61it/s]\n",
      "Processing queries:  15%|█▍        | 57/393 [02:53<19:16,  3.44s/query]\n",
      "  0%|          | 0/7 [00:00<?, ?it/s]\u001B[A\n",
      " 14%|█▍        | 1/7 [00:00<00:01,  3.52it/s]\u001B[A\n",
      " 29%|██▊       | 2/7 [00:00<00:01,  3.86it/s]\u001B[A\n",
      " 43%|████▎     | 3/7 [00:00<00:01,  3.98it/s]\u001B[A\n",
      " 57%|█████▋    | 4/7 [00:01<00:00,  4.00it/s]\u001B[A\n",
      " 71%|███████▏  | 5/7 [00:01<00:00,  3.93it/s]\u001B[A\n",
      "100%|██████████| 7/7 [00:01<00:00,  4.42it/s]\n",
      "Processing queries:  15%|█▍        | 58/393 [02:57<20:22,  3.65s/query]\n",
      "  0%|          | 0/7 [00:00<?, ?it/s]\u001B[A\n",
      " 14%|█▍        | 1/7 [00:00<00:01,  4.51it/s]\u001B[A\n",
      " 29%|██▊       | 2/7 [00:00<00:01,  4.26it/s]\u001B[A\n",
      " 43%|████▎     | 3/7 [00:00<00:00,  4.20it/s]\u001B[A\n",
      " 57%|█████▋    | 4/7 [00:00<00:00,  3.91it/s]\u001B[A\n",
      " 71%|███████▏  | 5/7 [00:01<00:00,  3.99it/s]\u001B[A\n",
      "100%|██████████| 7/7 [00:01<00:00,  4.56it/s]\n",
      "Processing queries:  15%|█▌        | 59/393 [03:00<19:27,  3.50s/query]\n",
      "  0%|          | 0/7 [00:00<?, ?it/s]\u001B[A\n",
      " 14%|█▍        | 1/7 [00:00<00:01,  4.29it/s]\u001B[A\n",
      " 29%|██▊       | 2/7 [00:00<00:01,  4.20it/s]\u001B[A\n",
      " 43%|████▎     | 3/7 [00:00<00:00,  4.16it/s]\u001B[A\n",
      " 57%|█████▋    | 4/7 [00:01<00:00,  3.86it/s]\u001B[A\n",
      " 71%|███████▏  | 5/7 [00:01<00:00,  3.98it/s]\u001B[A\n",
      "100%|██████████| 7/7 [00:01<00:00,  4.53it/s]\n",
      "Processing queries:  15%|█▌        | 60/393 [03:04<18:40,  3.36s/query]"
     ]
    },
    {
     "output_type": "stream",
     "name": "stdout",
     "text": [
      "INFO: Processed 60/393 queries. Avg time/query: 3020.55 ms.\n",
      "WARNING! Your documents have duplicate entries!  This will slow down calculation and may yield subpar results\n"
     ]
    },
    {
     "output_type": "stream",
     "name": "stderr",
     "text": [
      "\n",
      "  0%|          | 0/7 [00:00<?, ?it/s]\u001B[A\n",
      " 14%|█▍        | 1/7 [00:00<00:01,  3.76it/s]\u001B[A\n",
      " 29%|██▊       | 2/7 [00:00<00:01,  3.97it/s]\u001B[A\n",
      " 43%|████▎     | 3/7 [00:00<00:00,  4.04it/s]\u001B[A\n",
      " 57%|█████▋    | 4/7 [00:01<00:00,  4.02it/s]\u001B[A\n",
      " 71%|███████▏  | 5/7 [00:01<00:00,  3.97it/s]\u001B[A\n",
      "100%|██████████| 7/7 [00:01<00:00,  4.49it/s]\n",
      "Processing queries:  16%|█▌        | 61/393 [03:07<19:30,  3.53s/query]"
     ]
    },
    {
     "output_type": "stream",
     "name": "stdout",
     "text": [
      "WARNING! Your documents have duplicate entries!  This will slow down calculation and may yield subpar results\n"
     ]
    },
    {
     "output_type": "stream",
     "name": "stderr",
     "text": [
      "\n",
      "  0%|          | 0/7 [00:00<?, ?it/s]\u001B[A\n",
      " 14%|█▍        | 1/7 [00:00<00:01,  4.60it/s]\u001B[A\n",
      " 29%|██▊       | 2/7 [00:00<00:01,  4.32it/s]\u001B[A\n",
      " 43%|████▎     | 3/7 [00:00<00:00,  4.22it/s]\u001B[A\n",
      " 57%|█████▋    | 4/7 [00:00<00:00,  3.88it/s]\u001B[A\n",
      " 71%|███████▏  | 5/7 [00:01<00:00,  3.99it/s]\u001B[A\n",
      "100%|██████████| 7/7 [00:01<00:00,  4.60it/s]\n",
      "Processing queries:  16%|█▌        | 62/393 [03:10<18:42,  3.39s/query]"
     ]
    },
    {
     "output_type": "stream",
     "name": "stdout",
     "text": [
      "WARNING! Your documents have duplicate entries!  This will slow down calculation and may yield subpar results\n"
     ]
    },
    {
     "output_type": "stream",
     "name": "stderr",
     "text": [
      "\n",
      "  0%|          | 0/7 [00:00<?, ?it/s]\u001B[A\n",
      " 14%|█▍        | 1/7 [00:00<00:01,  3.43it/s]\u001B[A\n",
      " 29%|██▊       | 2/7 [00:00<00:01,  3.89it/s]\u001B[A\n",
      " 43%|████▎     | 3/7 [00:00<00:00,  4.02it/s]\u001B[A\n",
      " 57%|█████▋    | 4/7 [00:01<00:00,  4.05it/s]\u001B[A\n",
      " 71%|███████▏  | 5/7 [00:01<00:00,  3.98it/s]\u001B[A\n",
      "100%|██████████| 7/7 [00:01<00:00,  4.43it/s]\n",
      "Processing queries:  16%|█▌        | 63/393 [03:14<19:26,  3.54s/query]"
     ]
    },
    {
     "output_type": "stream",
     "name": "stdout",
     "text": [
      "WARNING! Your documents have duplicate entries!  This will slow down calculation and may yield subpar results\n"
     ]
    },
    {
     "output_type": "stream",
     "name": "stderr",
     "text": [
      "\n",
      "  0%|          | 0/7 [00:00<?, ?it/s]\u001B[A\n",
      " 14%|█▍        | 1/7 [00:00<00:01,  3.49it/s]\u001B[A\n",
      " 29%|██▊       | 2/7 [00:00<00:01,  3.87it/s]\u001B[A\n",
      " 43%|████▎     | 3/7 [00:00<00:00,  4.01it/s]\u001B[A\n",
      " 57%|█████▋    | 4/7 [00:00<00:00,  4.11it/s]\u001B[A\n",
      " 71%|███████▏  | 5/7 [00:01<00:00,  4.06it/s]\u001B[A\n",
      "100%|██████████| 7/7 [00:01<00:00,  4.54it/s]\n",
      "Processing queries:  16%|█▋        | 64/393 [03:18<19:51,  3.62s/query]\n",
      "  0%|          | 0/7 [00:00<?, ?it/s]\u001B[A\n",
      " 14%|█▍        | 1/7 [00:00<00:01,  4.37it/s]\u001B[A\n",
      " 29%|██▊       | 2/7 [00:00<00:01,  4.29it/s]\u001B[A\n",
      " 43%|████▎     | 3/7 [00:00<00:00,  4.31it/s]\u001B[A\n",
      " 57%|█████▋    | 4/7 [00:00<00:00,  4.07it/s]\u001B[A\n",
      " 71%|███████▏  | 5/7 [00:01<00:00,  4.08it/s]\u001B[A\n",
      "100%|██████████| 7/7 [00:01<00:00,  4.63it/s]\n",
      "Processing queries:  17%|█▋        | 65/393 [03:21<18:57,  3.47s/query]"
     ]
    },
    {
     "output_type": "stream",
     "name": "stdout",
     "text": [
      "WARNING! Your documents have duplicate entries!  This will slow down calculation and may yield subpar results\n"
     ]
    },
    {
     "output_type": "stream",
     "name": "stderr",
     "text": [
      "\n",
      "  0%|          | 0/7 [00:00<?, ?it/s]\u001B[A\n",
      " 14%|█▍        | 1/7 [00:00<00:01,  3.67it/s]\u001B[A\n",
      " 29%|██▊       | 2/7 [00:00<00:01,  3.98it/s]\u001B[A\n",
      " 43%|████▎     | 3/7 [00:00<00:00,  4.06it/s]\u001B[A\n",
      " 57%|█████▋    | 4/7 [00:00<00:00,  4.09it/s]\u001B[A\n",
      " 71%|███████▏  | 5/7 [00:01<00:00,  4.03it/s]\u001B[A\n",
      "100%|██████████| 7/7 [00:01<00:00,  4.54it/s]\n",
      "Processing queries:  17%|█▋        | 66/393 [03:25<19:43,  3.62s/query]\n",
      "  0%|          | 0/7 [00:00<?, ?it/s]\u001B[A\n",
      " 14%|█▍        | 1/7 [00:00<00:01,  3.46it/s]\u001B[A\n",
      " 29%|██▊       | 2/7 [00:00<00:01,  3.87it/s]\u001B[A\n",
      " 43%|████▎     | 3/7 [00:00<00:00,  4.06it/s]\u001B[A\n",
      " 57%|█████▋    | 4/7 [00:00<00:00,  4.13it/s]\u001B[A\n",
      " 71%|███████▏  | 5/7 [00:01<00:00,  4.06it/s]\u001B[A\n",
      "100%|██████████| 7/7 [00:01<00:00,  4.53it/s]\n",
      "Processing queries:  17%|█▋        | 67/393 [03:30<21:32,  3.96s/query]"
     ]
    },
    {
     "output_type": "stream",
     "name": "stdout",
     "text": [
      "WARNING! Your documents have duplicate entries!  This will slow down calculation and may yield subpar results\n"
     ]
    },
    {
     "output_type": "stream",
     "name": "stderr",
     "text": [
      "\n",
      "  0%|          | 0/7 [00:00<?, ?it/s]\u001B[A\n",
      " 14%|█▍        | 1/7 [00:00<00:01,  4.39it/s]\u001B[A\n",
      " 29%|██▊       | 2/7 [00:00<00:01,  4.28it/s]\u001B[A\n",
      " 43%|████▎     | 3/7 [00:00<00:00,  4.30it/s]\u001B[A\n",
      " 57%|█████▋    | 4/7 [00:00<00:00,  4.06it/s]\u001B[A\n",
      " 71%|███████▏  | 5/7 [00:01<00:00,  4.18it/s]\u001B[A\n",
      "100%|██████████| 7/7 [00:01<00:00,  4.75it/s]\n",
      "Processing queries:  17%|█▋        | 68/393 [03:33<19:57,  3.68s/query]\n",
      "  0%|          | 0/7 [00:00<?, ?it/s]\u001B[A\n",
      " 14%|█▍        | 1/7 [00:00<00:01,  4.37it/s]\u001B[A\n",
      " 29%|██▊       | 2/7 [00:00<00:01,  4.37it/s]\u001B[A\n",
      " 43%|████▎     | 3/7 [00:00<00:00,  4.32it/s]\u001B[A\n",
      " 57%|█████▋    | 4/7 [00:00<00:00,  4.02it/s]\u001B[A\n",
      " 71%|███████▏  | 5/7 [00:01<00:00,  4.12it/s]\u001B[A\n",
      "100%|██████████| 7/7 [00:01<00:00,  4.70it/s]\n",
      "Processing queries:  18%|█▊        | 69/393 [03:36<18:54,  3.50s/query]"
     ]
    },
    {
     "output_type": "stream",
     "name": "stdout",
     "text": [
      "WARNING! Your documents have duplicate entries!  This will slow down calculation and may yield subpar results\n"
     ]
    },
    {
     "output_type": "stream",
     "name": "stderr",
     "text": [
      "\n",
      "  0%|          | 0/7 [00:00<?, ?it/s]\u001B[A\n",
      " 14%|█▍        | 1/7 [00:00<00:01,  4.39it/s]\u001B[A\n",
      " 29%|██▊       | 2/7 [00:00<00:01,  4.30it/s]\u001B[A\n",
      " 43%|████▎     | 3/7 [00:00<00:00,  4.33it/s]\u001B[A\n",
      " 57%|█████▋    | 4/7 [00:00<00:00,  4.04it/s]\u001B[A\n",
      " 71%|███████▏  | 5/7 [00:01<00:00,  4.12it/s]\u001B[A\n",
      "100%|██████████| 7/7 [00:01<00:00,  4.66it/s]\n",
      "Processing queries:  18%|█▊        | 70/393 [03:39<18:06,  3.36s/query]\n",
      "  0%|          | 0/7 [00:00<?, ?it/s]\u001B[A\n",
      " 14%|█▍        | 1/7 [00:00<00:01,  4.38it/s]\u001B[A\n",
      " 29%|██▊       | 2/7 [00:00<00:01,  4.26it/s]\u001B[A\n",
      " 43%|████▎     | 3/7 [00:00<00:00,  4.26it/s]\u001B[A\n",
      " 57%|█████▋    | 4/7 [00:00<00:00,  4.06it/s]\u001B[A\n",
      " 71%|███████▏  | 5/7 [00:01<00:00,  4.11it/s]\u001B[A\n",
      "100%|██████████| 7/7 [00:01<00:00,  4.66it/s]\n",
      "Processing queries:  18%|█▊        | 71/393 [03:42<17:28,  3.25s/query]\n",
      "  0%|          | 0/7 [00:00<?, ?it/s]\u001B[A\n",
      " 14%|█▍        | 1/7 [00:00<00:01,  4.61it/s]\u001B[A\n",
      " 29%|██▊       | 2/7 [00:00<00:01,  4.38it/s]\u001B[A\n",
      " 43%|████▎     | 3/7 [00:00<00:00,  4.38it/s]\u001B[A\n",
      " 57%|█████▋    | 4/7 [00:00<00:00,  4.08it/s]\u001B[A\n",
      " 71%|███████▏  | 5/7 [00:01<00:00,  4.13it/s]\u001B[A\n",
      "100%|██████████| 7/7 [00:01<00:00,  4.68it/s]\n",
      "Processing queries:  18%|█▊        | 72/393 [03:45<17:02,  3.19s/query]\n",
      "  0%|          | 0/7 [00:00<?, ?it/s]\u001B[A\n",
      " 14%|█▍        | 1/7 [00:00<00:01,  4.59it/s]\u001B[A\n",
      " 29%|██▊       | 2/7 [00:00<00:01,  4.37it/s]\u001B[A\n",
      " 43%|████▎     | 3/7 [00:00<00:00,  4.37it/s]\u001B[A\n",
      " 57%|█████▋    | 4/7 [00:00<00:00,  4.05it/s]\u001B[A\n",
      " 71%|███████▏  | 5/7 [00:01<00:00,  4.15it/s]\u001B[A\n",
      "100%|██████████| 7/7 [00:01<00:00,  4.71it/s]\n",
      "Processing queries:  19%|█▊        | 73/393 [03:48<16:42,  3.13s/query]\n",
      "  0%|          | 0/4 [00:00<?, ?it/s]\u001B[A\n",
      " 25%|██▌       | 1/4 [00:00<00:00,  4.41it/s]\u001B[A\n",
      " 50%|█████     | 2/4 [00:00<00:00,  4.28it/s]\u001B[A\n",
      "100%|██████████| 4/4 [00:00<00:00,  5.29it/s]\n",
      "Processing queries:  19%|█▉        | 74/393 [03:50<15:12,  2.86s/query]\n",
      "  0%|          | 0/2 [00:00<?, ?it/s]\u001B[A\n",
      "100%|██████████| 2/2 [00:00<00:00,  6.82it/s]\n",
      "Processing queries:  19%|█▉        | 75/393 [03:52<13:16,  2.50s/query]"
     ]
    },
    {
     "output_type": "stream",
     "name": "stdout",
     "text": [
      "WARNING! Your documents have duplicate entries!  This will slow down calculation and may yield subpar results\n"
     ]
    },
    {
     "output_type": "stream",
     "name": "stderr",
     "text": [
      "\n",
      "  0%|          | 0/7 [00:00<?, ?it/s]\u001B[A\n",
      " 14%|█▍        | 1/7 [00:00<00:01,  3.50it/s]\u001B[A\n",
      " 29%|██▊       | 2/7 [00:00<00:01,  3.97it/s]\u001B[A\n",
      " 43%|████▎     | 3/7 [00:00<00:00,  4.13it/s]\u001B[A\n",
      " 57%|█████▋    | 4/7 [00:00<00:00,  4.18it/s]\u001B[A\n",
      " 71%|███████▏  | 5/7 [00:01<00:00,  4.07it/s]\u001B[A\n",
      "100%|██████████| 7/7 [00:01<00:00,  4.57it/s]\n",
      "Processing queries:  19%|█▉        | 76/393 [03:58<19:14,  3.64s/query]\n",
      "  0%|          | 0/7 [00:00<?, ?it/s]\u001B[A\n",
      " 14%|█▍        | 1/7 [00:00<00:01,  4.63it/s]\u001B[A\n",
      " 29%|██▊       | 2/7 [00:00<00:01,  4.40it/s]\u001B[A\n",
      " 43%|████▎     | 3/7 [00:00<00:00,  4.37it/s]\u001B[A\n",
      " 57%|█████▋    | 4/7 [00:00<00:00,  4.00it/s]\u001B[A\n",
      " 71%|███████▏  | 5/7 [00:01<00:00,  4.07it/s]\u001B[A\n",
      "100%|██████████| 7/7 [00:01<00:00,  4.69it/s]\n",
      "Processing queries:  20%|█▉        | 77/393 [04:01<18:17,  3.47s/query]\n",
      "  0%|          | 0/7 [00:00<?, ?it/s]\u001B[A\n",
      " 14%|█▍        | 1/7 [00:00<00:01,  4.60it/s]\u001B[A\n",
      " 29%|██▊       | 2/7 [00:00<00:01,  4.36it/s]\u001B[A\n",
      " 43%|████▎     | 3/7 [00:00<00:00,  4.33it/s]\u001B[A\n",
      " 57%|█████▋    | 4/7 [00:00<00:00,  4.10it/s]\u001B[A\n",
      " 71%|███████▏  | 5/7 [00:01<00:00,  4.12it/s]\u001B[A\n",
      "100%|██████████| 7/7 [00:01<00:00,  4.69it/s]\n",
      "Processing queries:  20%|█▉        | 78/393 [04:05<17:31,  3.34s/query]\n",
      "  0%|          | 0/7 [00:00<?, ?it/s]\u001B[A\n",
      " 14%|█▍        | 1/7 [00:00<00:01,  4.57it/s]\u001B[A\n",
      " 29%|██▊       | 2/7 [00:00<00:01,  4.37it/s]\u001B[A\n",
      " 43%|████▎     | 3/7 [00:00<00:00,  4.27it/s]\u001B[A\n",
      " 57%|█████▋    | 4/7 [00:00<00:00,  4.02it/s]\u001B[A\n",
      " 71%|███████▏  | 5/7 [00:01<00:00,  4.05it/s]\u001B[A\n",
      "100%|██████████| 7/7 [00:01<00:00,  4.64it/s]\n",
      "Processing queries:  20%|██        | 79/393 [04:08<17:02,  3.26s/query]"
     ]
    },
    {
     "output_type": "stream",
     "name": "stdout",
     "text": [
      "WARNING! Your documents have duplicate entries!  This will slow down calculation and may yield subpar results\n"
     ]
    },
    {
     "output_type": "stream",
     "name": "stderr",
     "text": [
      "\n",
      "  0%|          | 0/7 [00:00<?, ?it/s]\u001B[A\n",
      " 14%|█▍        | 1/7 [00:00<00:01,  4.40it/s]\u001B[A\n",
      " 29%|██▊       | 2/7 [00:00<00:01,  4.29it/s]\u001B[A\n",
      " 43%|████▎     | 3/7 [00:00<00:00,  4.32it/s]\u001B[A\n",
      " 57%|█████▋    | 4/7 [00:00<00:00,  4.02it/s]\u001B[A\n",
      " 71%|███████▏  | 5/7 [00:01<00:00,  4.12it/s]\u001B[A\n",
      "100%|██████████| 7/7 [00:01<00:00,  4.74it/s]\n",
      "Processing queries:  20%|██        | 80/393 [04:11<16:36,  3.18s/query]"
     ]
    },
    {
     "output_type": "stream",
     "name": "stdout",
     "text": [
      "INFO: Processed 80/393 queries. Avg time/query: 3103.74 ms.\n",
      "WARNING! Your documents have duplicate entries!  This will slow down calculation and may yield subpar results\n"
     ]
    },
    {
     "output_type": "stream",
     "name": "stderr",
     "text": [
      "\n",
      "  0%|          | 0/7 [00:00<?, ?it/s]\u001B[A\n",
      " 14%|█▍        | 1/7 [00:00<00:01,  4.40it/s]\u001B[A\n",
      " 29%|██▊       | 2/7 [00:00<00:01,  4.27it/s]\u001B[A\n",
      " 43%|████▎     | 3/7 [00:00<00:00,  4.25it/s]\u001B[A\n",
      " 57%|█████▋    | 4/7 [00:00<00:00,  4.04it/s]\u001B[A\n",
      " 71%|███████▏  | 5/7 [00:01<00:00,  4.14it/s]\u001B[A\n",
      "100%|██████████| 7/7 [00:01<00:00,  4.66it/s]\n",
      "Processing queries:  21%|██        | 81/393 [04:14<16:12,  3.12s/query]\n",
      "  0%|          | 0/7 [00:00<?, ?it/s]\u001B[A\n",
      " 14%|█▍        | 1/7 [00:00<00:01,  4.41it/s]\u001B[A\n",
      " 29%|██▊       | 2/7 [00:00<00:01,  4.28it/s]\u001B[A\n",
      " 43%|████▎     | 3/7 [00:00<00:00,  4.25it/s]\u001B[A\n",
      " 57%|█████▋    | 4/7 [00:00<00:00,  4.09it/s]\u001B[A\n",
      " 71%|███████▏  | 5/7 [00:01<00:00,  4.11it/s]\u001B[A\n",
      "100%|██████████| 7/7 [00:01<00:00,  4.70it/s]\n",
      "Processing queries:  21%|██        | 82/393 [04:17<15:57,  3.08s/query]\n",
      "  0%|          | 0/7 [00:00<?, ?it/s]\u001B[A\n",
      " 14%|█▍        | 1/7 [00:00<00:01,  4.35it/s]\u001B[A\n",
      " 29%|██▊       | 2/7 [00:00<00:01,  4.23it/s]\u001B[A\n",
      " 43%|████▎     | 3/7 [00:00<00:00,  4.18it/s]\u001B[A\n",
      " 57%|█████▋    | 4/7 [00:00<00:00,  3.98it/s]\u001B[A\n",
      " 71%|███████▏  | 5/7 [00:01<00:00,  4.02it/s]\u001B[A\n",
      "100%|██████████| 7/7 [00:01<00:00,  4.59it/s]\n",
      "Processing queries:  21%|██        | 83/393 [04:20<15:50,  3.07s/query]\n",
      "  0%|          | 0/7 [00:00<?, ?it/s]\u001B[A\n",
      " 14%|█▍        | 1/7 [00:00<00:01,  3.77it/s]\u001B[A\n",
      " 29%|██▊       | 2/7 [00:00<00:01,  3.98it/s]\u001B[A\n",
      " 43%|████▎     | 3/7 [00:00<00:00,  4.04it/s]\u001B[A\n",
      " 57%|█████▋    | 4/7 [00:01<00:00,  4.00it/s]\u001B[A\n",
      " 71%|███████▏  | 5/7 [00:01<00:00,  3.96it/s]\u001B[A\n",
      "100%|██████████| 7/7 [00:01<00:00,  4.49it/s]\n",
      "Processing queries:  21%|██▏       | 84/393 [04:24<17:08,  3.33s/query]\n",
      "  0%|          | 0/7 [00:00<?, ?it/s]\u001B[A\n",
      " 14%|█▍        | 1/7 [00:00<00:01,  4.44it/s]\u001B[A\n",
      " 29%|██▊       | 2/7 [00:00<00:01,  4.26it/s]\u001B[A\n",
      " 43%|████▎     | 3/7 [00:00<00:00,  4.19it/s]\u001B[A\n",
      " 57%|█████▋    | 4/7 [00:00<00:00,  3.91it/s]\u001B[A\n",
      " 71%|███████▏  | 5/7 [00:01<00:00,  3.97it/s]\u001B[A\n",
      "100%|██████████| 7/7 [00:01<00:00,  4.54it/s]\n",
      "Processing queries:  22%|██▏       | 85/393 [04:27<16:39,  3.24s/query]"
     ]
    },
    {
     "output_type": "stream",
     "name": "stdout",
     "text": [
      "WARNING! Your documents have duplicate entries!  This will slow down calculation and may yield subpar results\n"
     ]
    },
    {
     "output_type": "stream",
     "name": "stderr",
     "text": [
      "\n",
      "  0%|          | 0/7 [00:00<?, ?it/s]\u001B[A\n",
      " 14%|█▍        | 1/7 [00:00<00:01,  4.47it/s]\u001B[A\n",
      " 29%|██▊       | 2/7 [00:00<00:01,  4.28it/s]\u001B[A\n",
      " 43%|████▎     | 3/7 [00:00<00:00,  4.23it/s]\u001B[A\n",
      " 57%|█████▋    | 4/7 [00:00<00:00,  3.91it/s]\u001B[A\n",
      " 71%|███████▏  | 5/7 [00:01<00:00,  3.99it/s]\u001B[A\n",
      "100%|██████████| 7/7 [00:01<00:00,  4.57it/s]\n",
      "Processing queries:  22%|██▏       | 86/393 [04:30<16:10,  3.16s/query]\n",
      "  0%|          | 0/7 [00:00<?, ?it/s]\u001B[A\n",
      " 14%|█▍        | 1/7 [00:00<00:01,  4.49it/s]\u001B[A\n",
      " 29%|██▊       | 2/7 [00:00<00:01,  4.28it/s]\u001B[A\n",
      " 43%|████▎     | 3/7 [00:00<00:00,  4.20it/s]\u001B[A\n",
      " 57%|█████▋    | 4/7 [00:00<00:00,  3.89it/s]\u001B[A\n",
      " 71%|███████▏  | 5/7 [00:01<00:00,  3.98it/s]\u001B[A\n",
      "100%|██████████| 7/7 [00:01<00:00,  4.55it/s]\n",
      "Processing queries:  22%|██▏       | 87/393 [04:33<15:57,  3.13s/query]"
     ]
    },
    {
     "output_type": "stream",
     "name": "stdout",
     "text": [
      "WARNING! Your documents have duplicate entries!  This will slow down calculation and may yield subpar results\n"
     ]
    },
    {
     "output_type": "stream",
     "name": "stderr",
     "text": [
      "\n",
      "  0%|          | 0/7 [00:00<?, ?it/s]\u001B[A\n",
      " 14%|█▍        | 1/7 [00:00<00:01,  4.33it/s]\u001B[A\n",
      " 29%|██▊       | 2/7 [00:00<00:01,  4.24it/s]\u001B[A\n",
      " 43%|████▎     | 3/7 [00:00<00:00,  4.19it/s]\u001B[A\n",
      " 57%|█████▋    | 4/7 [00:00<00:00,  3.89it/s]\u001B[A\n",
      " 71%|███████▏  | 5/7 [00:01<00:00,  3.96it/s]\u001B[A\n",
      "100%|██████████| 7/7 [00:01<00:00,  4.58it/s]\n",
      "Processing queries:  22%|██▏       | 88/393 [04:36<15:53,  3.13s/query]"
     ]
    },
    {
     "output_type": "stream",
     "name": "stdout",
     "text": [
      "WARNING! Your documents have duplicate entries!  This will slow down calculation and may yield subpar results\n"
     ]
    },
    {
     "output_type": "stream",
     "name": "stderr",
     "text": [
      "\n",
      "  0%|          | 0/7 [00:00<?, ?it/s]\u001B[A\n",
      " 14%|█▍        | 1/7 [00:00<00:01,  3.74it/s]\u001B[A\n",
      " 29%|██▊       | 2/7 [00:00<00:01,  4.01it/s]\u001B[A\n",
      " 43%|████▎     | 3/7 [00:00<00:00,  4.10it/s]\u001B[A\n",
      " 57%|█████▋    | 4/7 [00:00<00:00,  4.15it/s]\u001B[A\n",
      " 71%|███████▏  | 5/7 [00:01<00:00,  4.13it/s]\u001B[A\n",
      "100%|██████████| 7/7 [00:01<00:00,  4.61it/s]\n",
      "Processing queries:  23%|██▎       | 89/393 [04:45<24:38,  4.86s/query]"
     ]
    },
    {
     "output_type": "stream",
     "name": "stdout",
     "text": [
      "WARNING! Your documents have duplicate entries!  This will slow down calculation and may yield subpar results\n"
     ]
    },
    {
     "output_type": "stream",
     "name": "stderr",
     "text": [
      "\n",
      "  0%|          | 0/7 [00:00<?, ?it/s]\u001B[A\n",
      " 14%|█▍        | 1/7 [00:00<00:01,  3.69it/s]\u001B[A\n",
      " 29%|██▊       | 2/7 [00:00<00:01,  3.99it/s]\u001B[A\n",
      " 43%|████▎     | 3/7 [00:00<00:00,  4.14it/s]\u001B[A\n",
      " 57%|█████▋    | 4/7 [00:00<00:00,  4.08it/s]\u001B[A\n",
      " 71%|███████▏  | 5/7 [00:01<00:00,  3.99it/s]\u001B[A\n",
      "100%|██████████| 7/7 [00:01<00:00,  4.52it/s]\n",
      "Processing queries:  23%|██▎       | 90/393 [04:49<23:15,  4.61s/query]\n",
      "  0%|          | 0/4 [00:00<?, ?it/s]\u001B[A\n",
      " 25%|██▌       | 1/4 [00:00<00:00,  4.56it/s]\u001B[A\n",
      " 50%|█████     | 2/4 [00:00<00:00,  4.32it/s]\u001B[A\n",
      " 75%|███████▌  | 3/4 [00:00<00:00,  4.24it/s]\u001B[A\n",
      "100%|██████████| 4/4 [00:00<00:00,  4.23it/s]\n",
      "Processing queries:  23%|██▎       | 91/393 [04:51<19:54,  3.95s/query]\n",
      "100%|██████████| 1/1 [00:00<00:00, 14.82it/s]\n",
      "Processing queries:  23%|██▎       | 92/393 [04:53<16:06,  3.21s/query]\n",
      "  0%|          | 0/7 [00:00<?, ?it/s]\u001B[A\n",
      " 14%|█▍        | 1/7 [00:00<00:01,  3.53it/s]\u001B[A\n",
      " 29%|██▊       | 2/7 [00:00<00:01,  3.94it/s]\u001B[A\n",
      " 43%|████▎     | 3/7 [00:00<00:00,  4.04it/s]\u001B[A\n",
      " 57%|█████▋    | 4/7 [00:00<00:00,  4.14it/s]\u001B[A\n",
      " 71%|███████▏  | 5/7 [00:01<00:00,  4.08it/s]\u001B[A\n",
      "100%|██████████| 7/7 [00:01<00:00,  4.57it/s]\n",
      "Processing queries:  24%|██▎       | 93/393 [04:56<15:45,  3.15s/query]\n",
      "  0%|          | 0/7 [00:00<?, ?it/s]\u001B[A\n",
      " 14%|█▍        | 1/7 [00:00<00:01,  4.55it/s]\u001B[A\n",
      " 29%|██▊       | 2/7 [00:00<00:01,  4.32it/s]\u001B[A\n",
      " 43%|████▎     | 3/7 [00:00<00:00,  4.22it/s]\u001B[A\n",
      " 57%|█████▋    | 4/7 [00:00<00:00,  3.90it/s]\u001B[A\n",
      " 71%|███████▏  | 5/7 [00:01<00:00,  3.98it/s]\u001B[A\n",
      "100%|██████████| 7/7 [00:01<00:00,  4.57it/s]\n",
      "Processing queries:  24%|██▍       | 94/393 [04:59<15:34,  3.13s/query]"
     ]
    },
    {
     "output_type": "stream",
     "name": "stdout",
     "text": [
      "WARNING! Your documents have duplicate entries!  This will slow down calculation and may yield subpar results\n"
     ]
    },
    {
     "output_type": "stream",
     "name": "stderr",
     "text": [
      "\n",
      "  0%|          | 0/7 [00:00<?, ?it/s]\u001B[A\n",
      " 14%|█▍        | 1/7 [00:00<00:01,  4.47it/s]\u001B[A\n",
      " 29%|██▊       | 2/7 [00:00<00:01,  4.32it/s]\u001B[A\n",
      " 43%|████▎     | 3/7 [00:00<00:00,  4.32it/s]\u001B[A\n",
      " 57%|█████▋    | 4/7 [00:00<00:00,  4.07it/s]\u001B[A\n",
      " 71%|███████▏  | 5/7 [00:01<00:00,  4.09it/s]\u001B[A\n",
      "100%|██████████| 7/7 [00:01<00:00,  4.65it/s]\n",
      "Processing queries:  24%|██▍       | 95/393 [05:02<15:22,  3.10s/query]"
     ]
    },
    {
     "output_type": "stream",
     "name": "stdout",
     "text": [
      "WARNING! Your documents have duplicate entries!  This will slow down calculation and may yield subpar results\n"
     ]
    },
    {
     "output_type": "stream",
     "name": "stderr",
     "text": [
      "\n",
      "  0%|          | 0/7 [00:00<?, ?it/s]\u001B[A\n",
      " 14%|█▍        | 1/7 [00:00<00:01,  4.53it/s]\u001B[A\n",
      " 29%|██▊       | 2/7 [00:00<00:01,  4.29it/s]\u001B[A\n",
      " 43%|████▎     | 3/7 [00:00<00:00,  4.20it/s]\u001B[A\n",
      " 57%|█████▋    | 4/7 [00:00<00:00,  3.97it/s]\u001B[A\n",
      " 71%|███████▏  | 5/7 [00:01<00:00,  4.11it/s]\u001B[A\n",
      "100%|██████████| 7/7 [00:01<00:00,  4.68it/s]\n",
      "Processing queries:  24%|██▍       | 96/393 [05:05<15:16,  3.09s/query]\n",
      "  0%|          | 0/7 [00:00<?, ?it/s]\u001B[A\n",
      " 14%|█▍        | 1/7 [00:00<00:01,  3.73it/s]\u001B[A\n",
      " 29%|██▊       | 2/7 [00:00<00:01,  3.95it/s]\u001B[A\n",
      " 43%|████▎     | 3/7 [00:00<00:00,  4.05it/s]\u001B[A\n",
      " 57%|█████▋    | 4/7 [00:00<00:00,  4.14it/s]\u001B[A\n",
      " 71%|███████▏  | 5/7 [00:01<00:00,  4.09it/s]\u001B[A\n",
      "100%|██████████| 7/7 [00:01<00:00,  4.58it/s]\n",
      "Processing queries:  25%|██▍       | 97/393 [05:09<16:24,  3.33s/query]"
     ]
    },
    {
     "output_type": "stream",
     "name": "stdout",
     "text": [
      "WARNING! Your documents have duplicate entries!  This will slow down calculation and may yield subpar results\n"
     ]
    },
    {
     "output_type": "stream",
     "name": "stderr",
     "text": [
      "\n",
      "  0%|          | 0/7 [00:00<?, ?it/s]\u001B[A\n",
      " 14%|█▍        | 1/7 [00:00<00:01,  4.37it/s]\u001B[A\n",
      " 29%|██▊       | 2/7 [00:00<00:01,  4.24it/s]\u001B[A\n",
      " 43%|████▎     | 3/7 [00:00<00:00,  4.21it/s]\u001B[A\n",
      " 57%|█████▋    | 4/7 [00:00<00:00,  3.92it/s]\u001B[A\n",
      " 71%|███████▏  | 5/7 [00:01<00:00,  4.03it/s]\u001B[A\n",
      "100%|██████████| 7/7 [00:01<00:00,  4.60it/s]\n",
      "Processing queries:  25%|██▍       | 98/393 [05:12<15:59,  3.25s/query]\n",
      "  0%|          | 0/7 [00:00<?, ?it/s]\u001B[A\n",
      " 14%|█▍        | 1/7 [00:00<00:01,  4.33it/s]\u001B[A\n",
      " 29%|██▊       | 2/7 [00:00<00:01,  4.22it/s]\u001B[A\n",
      " 43%|████▎     | 3/7 [00:00<00:00,  4.18it/s]\u001B[A\n",
      " 57%|█████▋    | 4/7 [00:00<00:00,  3.90it/s]\u001B[A\n",
      " 71%|███████▏  | 5/7 [00:01<00:00,  3.98it/s]\u001B[A\n",
      "100%|██████████| 7/7 [00:01<00:00,  4.53it/s]\n",
      "Processing queries:  25%|██▌       | 99/393 [05:15<15:36,  3.18s/query]\n",
      "  0%|          | 0/7 [00:00<?, ?it/s]\u001B[A\n",
      " 14%|█▍        | 1/7 [00:00<00:01,  3.78it/s]\u001B[A\n",
      " 29%|██▊       | 2/7 [00:00<00:01,  4.00it/s]\u001B[A\n",
      " 43%|████▎     | 3/7 [00:00<00:00,  4.10it/s]\u001B[A\n",
      " 57%|█████▋    | 4/7 [00:00<00:00,  4.10it/s]\u001B[A\n",
      " 71%|███████▏  | 5/7 [00:01<00:00,  4.01it/s]\u001B[A\n",
      "100%|██████████| 7/7 [00:01<00:00,  4.54it/s]\n",
      "Processing queries:  25%|██▌       | 100/393 [05:19<16:39,  3.41s/query]"
     ]
    },
    {
     "output_type": "stream",
     "name": "stdout",
     "text": [
      "INFO: Processed 100/393 queries. Avg time/query: 3163.45 ms.\n"
     ]
    },
    {
     "output_type": "stream",
     "name": "stderr",
     "text": [
      "\n",
      "  0%|          | 0/3 [00:00<?, ?it/s]\u001B[A\n",
      " 33%|███▎      | 1/3 [00:00<00:00,  4.43it/s]\u001B[A\n",
      " 67%|██████▋   | 2/3 [00:00<00:00,  4.24it/s]\u001B[A\n",
      "100%|██████████| 3/3 [00:00<00:00,  4.59it/s]\n",
      "Processing queries:  26%|██▌       | 101/393 [05:21<14:40,  3.02s/query]"
     ]
    },
    {
     "output_type": "stream",
     "name": "stdout",
     "text": [
      "WARNING! Your documents have duplicate entries!  This will slow down calculation and may yield subpar results\n"
     ]
    },
    {
     "output_type": "stream",
     "name": "stderr",
     "text": [
      "\n",
      "  0%|          | 0/7 [00:00<?, ?it/s]\u001B[A\n",
      " 14%|█▍        | 1/7 [00:00<00:01,  4.41it/s]\u001B[A\n",
      " 29%|██▊       | 2/7 [00:00<00:01,  4.39it/s]\u001B[A\n",
      " 43%|████▎     | 3/7 [00:00<00:00,  4.27it/s]\u001B[A\n",
      " 57%|█████▋    | 4/7 [00:00<00:00,  4.04it/s]\u001B[A\n",
      " 71%|███████▏  | 5/7 [00:01<00:00,  4.07it/s]\u001B[A\n",
      "100%|██████████| 7/7 [00:01<00:00,  4.63it/s]\n",
      "Processing queries:  26%|██▌       | 102/393 [05:24<14:52,  3.07s/query]\n",
      "  0%|          | 0/7 [00:00<?, ?it/s]\u001B[A\n",
      " 14%|█▍        | 1/7 [00:00<00:01,  4.54it/s]\u001B[A\n",
      " 29%|██▊       | 2/7 [00:00<00:01,  4.38it/s]\u001B[A\n",
      " 43%|████▎     | 3/7 [00:00<00:00,  4.26it/s]\u001B[A\n",
      " 57%|█████▋    | 4/7 [00:00<00:00,  3.95it/s]\u001B[A\n",
      " 71%|███████▏  | 5/7 [00:01<00:00,  4.00it/s]\u001B[A\n",
      "100%|██████████| 7/7 [00:01<00:00,  4.57it/s]\n",
      "Processing queries:  26%|██▌       | 103/393 [05:27<14:47,  3.06s/query]"
     ]
    },
    {
     "output_type": "stream",
     "name": "stdout",
     "text": [
      "WARNING! Your documents have duplicate entries!  This will slow down calculation and may yield subpar results\n"
     ]
    },
    {
     "output_type": "stream",
     "name": "stderr",
     "text": [
      "\n",
      "  0%|          | 0/7 [00:00<?, ?it/s]\u001B[A\n",
      " 14%|█▍        | 1/7 [00:00<00:01,  3.57it/s]\u001B[A\n",
      " 29%|██▊       | 2/7 [00:00<00:01,  3.89it/s]\u001B[A\n",
      " 43%|████▎     | 3/7 [00:00<00:00,  4.02it/s]\u001B[A\n",
      " 57%|█████▋    | 4/7 [00:00<00:00,  4.11it/s]\u001B[A\n",
      " 71%|███████▏  | 5/7 [00:01<00:00,  4.00it/s]\u001B[A\n",
      "100%|██████████| 7/7 [00:01<00:00,  4.50it/s]\n",
      "Processing queries:  26%|██▋       | 104/393 [05:31<15:56,  3.31s/query]"
     ]
    },
    {
     "output_type": "stream",
     "name": "stdout",
     "text": [
      "WARNING! Your documents have duplicate entries!  This will slow down calculation and may yield subpar results\n"
     ]
    },
    {
     "output_type": "stream",
     "name": "stderr",
     "text": [
      "\n",
      "  0%|          | 0/7 [00:00<?, ?it/s]\u001B[A\n",
      " 14%|█▍        | 1/7 [00:00<00:01,  4.60it/s]\u001B[A\n",
      " 29%|██▊       | 2/7 [00:00<00:01,  4.34it/s]\u001B[A\n",
      " 43%|████▎     | 3/7 [00:00<00:00,  4.26it/s]\u001B[A\n",
      " 57%|█████▋    | 4/7 [00:00<00:00,  3.96it/s]\u001B[A\n",
      " 71%|███████▏  | 5/7 [00:01<00:00,  4.07it/s]\u001B[A\n",
      "100%|██████████| 7/7 [00:01<00:00,  4.63it/s]\n",
      "Processing queries:  27%|██▋       | 106/393 [05:35<12:49,  2.68s/query]\n",
      "  0%|          | 0/7 [00:00<?, ?it/s]\u001B[A\n",
      " 14%|█▍        | 1/7 [00:00<00:01,  3.87it/s]\u001B[A\n",
      " 29%|██▊       | 2/7 [00:00<00:01,  4.06it/s]\u001B[A\n",
      " 43%|████▎     | 3/7 [00:00<00:00,  4.20it/s]\u001B[A\n",
      " 57%|█████▋    | 4/7 [00:00<00:00,  4.12it/s]\u001B[A\n",
      " 71%|███████▏  | 5/7 [00:01<00:00,  4.01it/s]\u001B[A\n",
      "100%|██████████| 7/7 [00:01<00:00,  4.56it/s]\n",
      "Processing queries:  27%|██▋       | 107/393 [05:38<13:17,  2.79s/query]\n",
      "  0%|          | 0/7 [00:00<?, ?it/s]\u001B[A\n",
      " 14%|█▍        | 1/7 [00:00<00:01,  4.50it/s]\u001B[A\n",
      " 29%|██▊       | 2/7 [00:00<00:01,  4.31it/s]\u001B[A\n",
      " 43%|████▎     | 3/7 [00:00<00:00,  4.25it/s]\u001B[A\n",
      " 57%|█████▋    | 4/7 [00:00<00:00,  3.97it/s]\u001B[A\n",
      " 71%|███████▏  | 5/7 [00:01<00:00,  4.07it/s]\u001B[A\n",
      "100%|██████████| 7/7 [00:01<00:00,  4.61it/s]\n",
      "Processing queries:  27%|██▋       | 108/393 [05:41<13:32,  2.85s/query]"
     ]
    },
    {
     "output_type": "stream",
     "name": "stdout",
     "text": [
      "WARNING! Your documents have duplicate entries!  This will slow down calculation and may yield subpar results\n"
     ]
    },
    {
     "output_type": "stream",
     "name": "stderr",
     "text": [
      "\n",
      "  0%|          | 0/7 [00:00<?, ?it/s]\u001B[A\n",
      " 14%|█▍        | 1/7 [00:00<00:01,  4.43it/s]\u001B[A\n",
      " 29%|██▊       | 2/7 [00:00<00:01,  4.28it/s]\u001B[A\n",
      " 43%|████▎     | 3/7 [00:00<00:00,  4.22it/s]\u001B[A\n",
      " 57%|█████▋    | 4/7 [00:00<00:00,  3.96it/s]\u001B[A\n",
      " 71%|███████▏  | 5/7 [00:01<00:00,  4.07it/s]\u001B[A\n",
      "100%|██████████| 7/7 [00:01<00:00,  4.61it/s]\n",
      "Processing queries:  28%|██▊       | 109/393 [05:45<14:02,  2.97s/query]"
     ]
    },
    {
     "output_type": "stream",
     "name": "stdout",
     "text": [
      "WARNING! Your documents have duplicate entries!  This will slow down calculation and may yield subpar results\n"
     ]
    },
    {
     "output_type": "stream",
     "name": "stderr",
     "text": [
      "\n",
      "  0%|          | 0/7 [00:00<?, ?it/s]\u001B[A\n",
      " 14%|█▍        | 1/7 [00:00<00:01,  4.34it/s]\u001B[A\n",
      " 29%|██▊       | 2/7 [00:00<00:01,  4.24it/s]\u001B[A\n",
      " 43%|████▎     | 3/7 [00:00<00:00,  4.23it/s]\u001B[A\n",
      " 57%|█████▋    | 4/7 [00:00<00:00,  3.99it/s]\u001B[A\n",
      " 71%|███████▏  | 5/7 [00:01<00:00,  4.04it/s]\u001B[A\n",
      "100%|██████████| 7/7 [00:01<00:00,  4.59it/s]\n",
      "Processing queries:  28%|██▊       | 110/393 [05:48<14:04,  2.98s/query]\n",
      "  0%|          | 0/7 [00:00<?, ?it/s]\u001B[A\n",
      " 14%|█▍        | 1/7 [00:00<00:01,  4.43it/s]\u001B[A\n",
      " 29%|██▊       | 2/7 [00:00<00:01,  4.29it/s]\u001B[A\n",
      " 43%|████▎     | 3/7 [00:00<00:00,  4.25it/s]\u001B[A\n",
      " 57%|█████▋    | 4/7 [00:00<00:00,  3.96it/s]\u001B[A\n",
      " 71%|███████▏  | 5/7 [00:01<00:00,  4.07it/s]\u001B[A\n",
      "100%|██████████| 7/7 [00:01<00:00,  4.62it/s]\n",
      "Processing queries:  28%|██▊       | 111/393 [05:51<14:11,  3.02s/query]\n",
      "  0%|          | 0/7 [00:00<?, ?it/s]\u001B[A\n",
      " 14%|█▍        | 1/7 [00:00<00:01,  4.64it/s]\u001B[A\n",
      " 29%|██▊       | 2/7 [00:00<00:01,  4.37it/s]\u001B[A\n",
      " 43%|████▎     | 3/7 [00:00<00:00,  4.28it/s]\u001B[A\n",
      " 57%|█████▋    | 4/7 [00:00<00:00,  3.98it/s]\u001B[A\n",
      " 71%|███████▏  | 5/7 [00:01<00:00,  4.07it/s]\u001B[A\n",
      "100%|██████████| 7/7 [00:01<00:00,  4.64it/s]\n",
      "Processing queries:  28%|██▊       | 112/393 [05:54<14:15,  3.04s/query]\n",
      "  0%|          | 0/7 [00:00<?, ?it/s]\u001B[A\n",
      " 14%|█▍        | 1/7 [00:00<00:01,  4.56it/s]\u001B[A\n",
      " 29%|██▊       | 2/7 [00:00<00:01,  4.34it/s]\u001B[A\n",
      " 43%|████▎     | 3/7 [00:00<00:00,  4.33it/s]\u001B[A\n",
      " 57%|█████▋    | 4/7 [00:00<00:00,  4.05it/s]\u001B[A\n",
      " 71%|███████▏  | 5/7 [00:01<00:00,  4.14it/s]\u001B[A\n",
      "100%|██████████| 7/7 [00:01<00:00,  4.69it/s]\n",
      "Processing queries:  29%|██▉       | 113/393 [05:57<14:10,  3.04s/query]\n",
      "  0%|          | 0/2 [00:00<?, ?it/s]\u001B[A\n",
      " 50%|█████     | 1/2 [00:00<00:00,  4.22it/s]\u001B[A\n",
      "100%|██████████| 2/2 [00:00<00:00,  4.85it/s]\n",
      "Processing queries:  29%|██▉       | 115/393 [06:00<10:35,  2.29s/query]\n",
      "  0%|          | 0/7 [00:00<?, ?it/s]\u001B[A\n",
      " 14%|█▍        | 1/7 [00:00<00:01,  3.73it/s]\u001B[A\n",
      " 29%|██▊       | 2/7 [00:00<00:01,  4.00it/s]\u001B[A\n",
      " 43%|████▎     | 3/7 [00:00<00:00,  4.08it/s]\u001B[A\n",
      " 57%|█████▋    | 4/7 [00:00<00:00,  4.06it/s]\u001B[A\n",
      " 71%|███████▏  | 5/7 [00:01<00:00,  4.04it/s]\u001B[A\n",
      "100%|██████████| 7/7 [00:01<00:00,  4.54it/s]\n",
      "Processing queries:  30%|██▉       | 116/393 [06:03<11:39,  2.52s/query]"
     ]
    },
    {
     "output_type": "stream",
     "name": "stdout",
     "text": [
      "WARNING! Your documents have duplicate entries!  This will slow down calculation and may yield subpar results\n"
     ]
    },
    {
     "output_type": "stream",
     "name": "stderr",
     "text": [
      "\n",
      "  0%|          | 0/7 [00:00<?, ?it/s]\u001B[A\n",
      " 14%|█▍        | 1/7 [00:00<00:01,  3.66it/s]\u001B[A\n",
      " 29%|██▊       | 2/7 [00:00<00:01,  3.96it/s]\u001B[A\n",
      " 43%|████▎     | 3/7 [00:00<00:00,  4.11it/s]\u001B[A\n",
      " 57%|█████▋    | 4/7 [00:00<00:00,  4.12it/s]\u001B[A\n",
      " 71%|███████▏  | 5/7 [00:01<00:00,  4.00it/s]\u001B[A\n",
      "100%|██████████| 7/7 [00:01<00:00,  4.52it/s]\n",
      "Processing queries:  30%|██▉       | 117/393 [06:07<13:36,  2.96s/query]\n",
      "  0%|          | 0/2 [00:00<?, ?it/s]\u001B[A\n",
      "100%|██████████| 2/2 [00:00<00:00,  7.69it/s]\n",
      "Processing queries:  30%|███       | 118/393 [06:09<11:49,  2.58s/query]\n",
      "  0%|          | 0/7 [00:00<?, ?it/s]\u001B[A\n",
      " 14%|█▍        | 1/7 [00:00<00:01,  4.60it/s]\u001B[A\n",
      " 29%|██▊       | 2/7 [00:00<00:01,  4.37it/s]\u001B[A\n",
      " 43%|████▎     | 3/7 [00:00<00:00,  4.32it/s]\u001B[A\n",
      " 57%|█████▋    | 4/7 [00:00<00:00,  4.03it/s]\u001B[A\n",
      " 71%|███████▏  | 5/7 [00:01<00:00,  4.12it/s]\u001B[A\n",
      "100%|██████████| 7/7 [00:01<00:00,  4.70it/s]\n",
      "Processing queries:  30%|███       | 119/393 [06:12<12:31,  2.74s/query]"
     ]
    },
    {
     "output_type": "stream",
     "name": "stdout",
     "text": [
      "WARNING! Your documents have duplicate entries!  This will slow down calculation and may yield subpar results\n"
     ]
    },
    {
     "output_type": "stream",
     "name": "stderr",
     "text": [
      "\n",
      "  0%|          | 0/7 [00:00<?, ?it/s]\u001B[A\n",
      " 14%|█▍        | 1/7 [00:00<00:01,  3.84it/s]\u001B[A\n",
      " 29%|██▊       | 2/7 [00:00<00:01,  4.02it/s]\u001B[A\n",
      " 43%|████▎     | 3/7 [00:00<00:00,  4.18it/s]\u001B[A\n",
      " 57%|█████▋    | 4/7 [00:00<00:00,  4.15it/s]\u001B[A\n",
      " 71%|███████▏  | 5/7 [00:01<00:00,  4.11it/s]\u001B[A\n",
      "100%|██████████| 7/7 [00:01<00:00,  4.61it/s]\n",
      "Processing queries:  31%|███       | 120/393 [06:19<18:38,  4.10s/query]"
     ]
    },
    {
     "output_type": "stream",
     "name": "stdout",
     "text": [
      "INFO: Processed 120/393 queries. Avg time/query: 3117.82 ms.\n"
     ]
    },
    {
     "output_type": "stream",
     "name": "stderr",
     "text": [
      "\n",
      "  0%|          | 0/7 [00:00<?, ?it/s]\u001B[A\n",
      " 14%|█▍        | 1/7 [00:00<00:01,  3.45it/s]\u001B[A\n",
      " 29%|██▊       | 2/7 [00:00<00:01,  3.89it/s]\u001B[A\n",
      " 43%|████▎     | 3/7 [00:00<00:00,  4.09it/s]\u001B[A\n",
      " 57%|█████▋    | 4/7 [00:00<00:00,  4.14it/s]\u001B[A\n",
      " 71%|███████▏  | 5/7 [00:01<00:00,  4.04it/s]\u001B[A\n",
      "100%|██████████| 7/7 [00:01<00:00,  4.55it/s]\n",
      "Processing queries:  31%|███       | 121/393 [06:24<19:23,  4.28s/query]\n",
      "  0%|          | 0/7 [00:00<?, ?it/s]\u001B[A\n",
      " 14%|█▍        | 1/7 [00:00<00:01,  4.50it/s]\u001B[A\n",
      " 29%|██▊       | 2/7 [00:00<00:01,  4.31it/s]\u001B[A\n",
      " 43%|████▎     | 3/7 [00:00<00:00,  4.28it/s]\u001B[A\n",
      " 57%|█████▋    | 4/7 [00:00<00:00,  4.02it/s]\u001B[A\n",
      " 71%|███████▏  | 5/7 [00:01<00:00,  4.07it/s]\u001B[A\n",
      "100%|██████████| 7/7 [00:01<00:00,  4.64it/s]\n",
      "Processing queries:  31%|███       | 122/393 [06:27<17:38,  3.91s/query]"
     ]
    },
    {
     "output_type": "stream",
     "name": "stdout",
     "text": [
      "WARNING! Your documents have duplicate entries!  This will slow down calculation and may yield subpar results\n"
     ]
    },
    {
     "output_type": "stream",
     "name": "stderr",
     "text": [
      "\n",
      "  0%|          | 0/1 [00:00<?, ?it/s]\u001B[A\n",
      "100%|██████████| 1/1 [00:00<00:00,  4.92it/s]\n",
      "Processing queries:  31%|███▏      | 123/393 [06:29<14:28,  3.22s/query]"
     ]
    },
    {
     "output_type": "stream",
     "name": "stdout",
     "text": [
      "WARNING! Your documents have duplicate entries!  This will slow down calculation and may yield subpar results\n"
     ]
    },
    {
     "output_type": "stream",
     "name": "stderr",
     "text": [
      "\n",
      "  0%|          | 0/7 [00:00<?, ?it/s]\u001B[A\n",
      " 14%|█▍        | 1/7 [00:00<00:01,  3.70it/s]\u001B[A\n",
      " 29%|██▊       | 2/7 [00:00<00:01,  4.05it/s]\u001B[A\n",
      " 43%|████▎     | 3/7 [00:00<00:00,  4.10it/s]\u001B[A\n",
      " 57%|█████▋    | 4/7 [00:00<00:00,  4.12it/s]\u001B[A\n",
      " 71%|███████▏  | 5/7 [00:01<00:00,  4.06it/s]\u001B[A\n",
      "100%|██████████| 7/7 [00:01<00:00,  4.56it/s]\n",
      "Processing queries:  32%|███▏      | 124/393 [06:33<16:40,  3.72s/query]\n",
      "  0%|          | 0/7 [00:00<?, ?it/s]\u001B[A\n",
      " 14%|█▍        | 1/7 [00:00<00:01,  3.62it/s]\u001B[A\n",
      " 29%|██▊       | 2/7 [00:00<00:01,  4.00it/s]\u001B[A\n",
      " 43%|████▎     | 3/7 [00:00<00:00,  4.08it/s]\u001B[A\n",
      " 57%|█████▋    | 4/7 [00:00<00:00,  4.10it/s]\u001B[A\n",
      " 71%|███████▏  | 5/7 [00:01<00:00,  4.02it/s]\u001B[A\n",
      "100%|██████████| 7/7 [00:01<00:00,  4.54it/s]\n",
      "Processing queries:  32%|███▏      | 125/393 [06:38<17:08,  3.84s/query]\n",
      "100%|██████████| 1/1 [00:00<00:00, 66.38it/s]\n",
      "Processing queries:  32%|███▏      | 126/393 [06:39<13:52,  3.12s/query]"
     ]
    },
    {
     "output_type": "stream",
     "name": "stdout",
     "text": [
      "WARNING! Your documents have duplicate entries!  This will slow down calculation and may yield subpar results\n"
     ]
    },
    {
     "output_type": "stream",
     "name": "stderr",
     "text": [
      "\n",
      "  0%|          | 0/7 [00:00<?, ?it/s]\u001B[A\n",
      " 14%|█▍        | 1/7 [00:00<00:01,  3.69it/s]\u001B[A\n",
      " 29%|██▊       | 2/7 [00:00<00:01,  3.97it/s]\u001B[A\n",
      " 43%|████▎     | 3/7 [00:00<00:00,  4.07it/s]\u001B[A\n",
      " 57%|█████▋    | 4/7 [00:00<00:00,  4.15it/s]\u001B[A\n",
      " 71%|███████▏  | 5/7 [00:01<00:00,  4.02it/s]\u001B[A\n",
      "100%|██████████| 7/7 [00:01<00:00,  4.52it/s]\n",
      "Processing queries:  32%|███▏      | 127/393 [06:43<14:51,  3.35s/query]\n",
      "  0%|          | 0/7 [00:00<?, ?it/s]\u001B[A\n",
      " 14%|█▍        | 1/7 [00:00<00:01,  3.52it/s]\u001B[A\n",
      " 29%|██▊       | 2/7 [00:00<00:01,  3.95it/s]\u001B[A\n",
      " 43%|████▎     | 3/7 [00:00<00:00,  4.08it/s]\u001B[A\n",
      " 57%|█████▋    | 4/7 [00:00<00:00,  4.07it/s]\u001B[A\n",
      " 71%|███████▏  | 5/7 [00:01<00:00,  3.94it/s]\u001B[A\n",
      "100%|██████████| 7/7 [00:01<00:00,  4.47it/s]\n",
      "Processing queries:  33%|███▎      | 128/393 [06:47<15:39,  3.55s/query]\n",
      "  0%|          | 0/7 [00:00<?, ?it/s]\u001B[A\n",
      " 14%|█▍        | 1/7 [00:00<00:01,  3.77it/s]\u001B[A\n",
      " 29%|██▊       | 2/7 [00:00<00:01,  3.97it/s]\u001B[A\n",
      " 43%|████▎     | 3/7 [00:00<00:00,  4.05it/s]\u001B[A\n",
      " 57%|█████▋    | 4/7 [00:01<00:00,  3.99it/s]\u001B[A\n",
      " 71%|███████▏  | 5/7 [00:01<00:00,  3.95it/s]\u001B[A\n",
      "100%|██████████| 7/7 [00:01<00:00,  4.47it/s]\n",
      "Processing queries:  33%|███▎      | 129/393 [06:52<17:09,  3.90s/query]\n",
      "  0%|          | 0/7 [00:00<?, ?it/s]\u001B[A\n",
      " 14%|█▍        | 1/7 [00:00<00:01,  4.40it/s]\u001B[A\n",
      " 29%|██▊       | 2/7 [00:00<00:01,  4.24it/s]\u001B[A\n",
      " 43%|████▎     | 3/7 [00:00<00:00,  4.18it/s]\u001B[A\n",
      " 57%|█████▋    | 4/7 [00:01<00:00,  3.87it/s]\u001B[A\n",
      " 71%|███████▏  | 5/7 [00:01<00:00,  3.99it/s]\u001B[A\n",
      "100%|██████████| 7/7 [00:01<00:00,  4.55it/s]\n",
      "Processing queries:  33%|███▎      | 130/393 [06:55<15:59,  3.65s/query]\n",
      "  0%|          | 0/7 [00:00<?, ?it/s]\u001B[A\n",
      " 14%|█▍        | 1/7 [00:00<00:01,  4.43it/s]\u001B[A\n",
      " 29%|██▊       | 2/7 [00:00<00:01,  4.26it/s]\u001B[A\n",
      " 43%|████▎     | 3/7 [00:00<00:00,  4.20it/s]\u001B[A\n",
      " 57%|█████▋    | 4/7 [00:00<00:00,  3.87it/s]\u001B[A\n",
      " 71%|███████▏  | 5/7 [00:01<00:00,  3.99it/s]\u001B[A\n",
      "100%|██████████| 7/7 [00:01<00:00,  4.55it/s]\n",
      "Processing queries:  33%|███▎      | 131/393 [06:58<15:14,  3.49s/query]\n",
      "  0%|          | 0/7 [00:00<?, ?it/s]\u001B[A\n",
      " 14%|█▍        | 1/7 [00:00<00:01,  3.79it/s]\u001B[A\n",
      " 29%|██▊       | 2/7 [00:00<00:01,  3.97it/s]\u001B[A\n",
      " 43%|████▎     | 3/7 [00:00<00:00,  4.03it/s]\u001B[A\n",
      " 57%|█████▋    | 4/7 [00:01<00:00,  4.00it/s]\u001B[A\n",
      " 71%|███████▏  | 5/7 [00:01<00:00,  3.96it/s]\u001B[A\n",
      "100%|██████████| 7/7 [00:01<00:00,  4.49it/s]\n",
      "Processing queries:  34%|███▎      | 132/393 [07:02<15:41,  3.61s/query]\n",
      "  0%|          | 0/7 [00:00<?, ?it/s]\u001B[A\n",
      " 14%|█▍        | 1/7 [00:00<00:01,  4.43it/s]\u001B[A\n",
      " 29%|██▊       | 2/7 [00:00<00:01,  4.24it/s]\u001B[A\n",
      " 43%|████▎     | 3/7 [00:00<00:00,  4.19it/s]\u001B[A\n",
      " 57%|█████▋    | 4/7 [00:00<00:00,  3.87it/s]\u001B[A\n",
      " 71%|███████▏  | 5/7 [00:01<00:00,  3.98it/s]\u001B[A\n",
      "100%|██████████| 7/7 [00:01<00:00,  4.54it/s]\n",
      "Processing queries:  34%|███▍      | 133/393 [07:05<14:53,  3.44s/query]\n",
      "  0%|          | 0/7 [00:00<?, ?it/s]\u001B[A\n",
      " 14%|█▍        | 1/7 [00:00<00:01,  4.27it/s]\u001B[A\n",
      " 29%|██▊       | 2/7 [00:00<00:01,  4.20it/s]\u001B[A\n",
      " 43%|████▎     | 3/7 [00:00<00:00,  4.16it/s]\u001B[A\n",
      " 57%|█████▋    | 4/7 [00:01<00:00,  3.87it/s]\u001B[A\n",
      " 71%|███████▏  | 5/7 [00:01<00:00,  3.97it/s]\u001B[A\n",
      "100%|██████████| 7/7 [00:01<00:00,  4.51it/s]\n",
      "Processing queries:  34%|███▍      | 134/393 [07:08<14:19,  3.32s/query]\n",
      "  0%|          | 0/7 [00:00<?, ?it/s]\u001B[A\n",
      " 14%|█▍        | 1/7 [00:00<00:01,  3.81it/s]\u001B[A\n",
      " 29%|██▊       | 2/7 [00:00<00:01,  4.02it/s]\u001B[A\n",
      " 43%|████▎     | 3/7 [00:00<00:00,  4.05it/s]\u001B[A\n",
      " 57%|█████▋    | 4/7 [00:00<00:00,  4.01it/s]\u001B[A\n",
      " 71%|███████▏  | 5/7 [00:01<00:00,  3.97it/s]\u001B[A\n",
      "100%|██████████| 7/7 [00:01<00:00,  4.50it/s]\n",
      "Processing queries:  34%|███▍      | 135/393 [07:12<15:04,  3.51s/query]\n",
      "  0%|          | 0/1 [00:00<?, ?it/s]\u001B[A\n",
      "100%|██████████| 1/1 [00:00<00:00,  4.84it/s]\n",
      "Processing queries:  35%|███▍      | 136/393 [07:13<12:36,  2.94s/query]\n",
      "  0%|          | 0/7 [00:00<?, ?it/s]\u001B[A\n",
      " 14%|█▍        | 1/7 [00:00<00:01,  3.41it/s]\u001B[A\n",
      " 29%|██▊       | 2/7 [00:00<00:01,  3.83it/s]\u001B[A\n",
      " 43%|████▎     | 3/7 [00:00<00:01,  3.97it/s]\u001B[A\n",
      " 57%|█████▋    | 4/7 [00:01<00:00,  4.03it/s]\u001B[A\n",
      " 71%|███████▏  | 5/7 [00:01<00:00,  3.99it/s]\u001B[A\n",
      "100%|██████████| 7/7 [00:01<00:00,  4.45it/s]\n",
      "Processing queries:  35%|███▍      | 137/393 [07:18<14:17,  3.35s/query]\n",
      "  0%|          | 0/7 [00:00<?, ?it/s]\u001B[A\n",
      " 14%|█▍        | 1/7 [00:00<00:01,  3.62it/s]\u001B[A\n",
      " 29%|██▊       | 2/7 [00:00<00:01,  4.01it/s]\u001B[A\n",
      " 43%|████▎     | 3/7 [00:00<00:00,  4.09it/s]\u001B[A\n",
      " 57%|█████▋    | 4/7 [00:00<00:00,  4.13it/s]\u001B[A\n",
      " 71%|███████▏  | 5/7 [00:01<00:00,  4.03it/s]\u001B[A\n",
      "100%|██████████| 7/7 [00:01<00:00,  4.54it/s]\n",
      "Processing queries:  35%|███▌      | 138/393 [07:21<14:08,  3.33s/query]\n",
      "  0%|          | 0/7 [00:00<?, ?it/s]\u001B[A\n",
      " 14%|█▍        | 1/7 [00:00<00:01,  3.84it/s]\u001B[A\n",
      " 29%|██▊       | 2/7 [00:00<00:01,  4.07it/s]\u001B[A\n",
      " 43%|████▎     | 3/7 [00:00<00:00,  4.20it/s]\u001B[A\n",
      " 57%|█████▋    | 4/7 [00:00<00:00,  4.15it/s]\u001B[A\n",
      " 71%|███████▏  | 5/7 [00:01<00:00,  4.00it/s]\u001B[A\n",
      "100%|██████████| 7/7 [00:01<00:00,  4.56it/s]\n",
      "Processing queries:  35%|███▌      | 139/393 [07:26<15:47,  3.73s/query]"
     ]
    },
    {
     "output_type": "stream",
     "name": "stdout",
     "text": [
      "WARNING! Your documents have duplicate entries!  This will slow down calculation and may yield subpar results\n"
     ]
    },
    {
     "output_type": "stream",
     "name": "stderr",
     "text": [
      "\n",
      "  0%|          | 0/7 [00:00<?, ?it/s]\u001B[A\n",
      " 14%|█▍        | 1/7 [00:00<00:01,  4.47it/s]\u001B[A\n",
      " 29%|██▊       | 2/7 [00:00<00:01,  4.41it/s]\u001B[A\n",
      " 43%|████▎     | 3/7 [00:00<00:00,  4.30it/s]\u001B[A\n",
      " 57%|█████▋    | 4/7 [00:00<00:00,  4.00it/s]\u001B[A\n",
      " 71%|███████▏  | 5/7 [00:01<00:00,  4.10it/s]\u001B[A\n",
      "100%|██████████| 7/7 [00:01<00:00,  4.67it/s]\n",
      "Processing queries:  36%|███▌      | 140/393 [07:29<14:52,  3.53s/query]"
     ]
    },
    {
     "output_type": "stream",
     "name": "stdout",
     "text": [
      "INFO: Processed 140/393 queries. Avg time/query: 3168.24 ms.\n",
      "WARNING! Your documents have duplicate entries!  This will slow down calculation and may yield subpar results\n"
     ]
    },
    {
     "output_type": "stream",
     "name": "stderr",
     "text": [
      "\n",
      "  0%|          | 0/7 [00:00<?, ?it/s]\u001B[A\n",
      " 14%|█▍        | 1/7 [00:00<00:01,  4.52it/s]\u001B[A\n",
      " 29%|██▊       | 2/7 [00:00<00:01,  4.37it/s]\u001B[A\n",
      " 43%|████▎     | 3/7 [00:00<00:00,  4.37it/s]\u001B[A\n",
      " 57%|█████▋    | 4/7 [00:00<00:00,  4.05it/s]\u001B[A\n",
      " 71%|███████▏  | 5/7 [00:01<00:00,  4.14it/s]\u001B[A\n",
      "100%|██████████| 7/7 [00:01<00:00,  4.70it/s]\n",
      "Processing queries:  36%|███▌      | 141/393 [07:32<14:08,  3.37s/query]"
     ]
    },
    {
     "output_type": "stream",
     "name": "stdout",
     "text": [
      "WARNING! Your documents have duplicate entries!  This will slow down calculation and may yield subpar results\n"
     ]
    },
    {
     "output_type": "stream",
     "name": "stderr",
     "text": [
      "\n",
      "  0%|          | 0/7 [00:00<?, ?it/s]\u001B[A\n",
      " 14%|█▍        | 1/7 [00:00<00:01,  3.81it/s]\u001B[A\n",
      " 29%|██▊       | 2/7 [00:00<00:01,  4.07it/s]\u001B[A\n",
      " 43%|████▎     | 3/7 [00:00<00:00,  4.22it/s]\u001B[A\n",
      " 57%|█████▋    | 4/7 [00:00<00:00,  4.26it/s]\u001B[A\n",
      " 71%|███████▏  | 5/7 [00:01<00:00,  4.20it/s]\u001B[A\n",
      "100%|██████████| 7/7 [00:01<00:00,  4.66it/s]\n",
      "Processing queries:  36%|███▌      | 142/393 [07:37<16:20,  3.91s/query]\n",
      "  0%|          | 0/7 [00:00<?, ?it/s]\u001B[A\n",
      " 14%|█▍        | 1/7 [00:00<00:01,  4.59it/s]\u001B[A\n",
      " 29%|██▊       | 2/7 [00:00<00:01,  4.37it/s]\u001B[A\n",
      " 43%|████▎     | 3/7 [00:00<00:00,  4.37it/s]\u001B[A\n",
      " 57%|█████▋    | 4/7 [00:00<00:00,  4.09it/s]\u001B[A\n",
      " 71%|███████▏  | 5/7 [00:01<00:00,  4.23it/s]\u001B[A\n",
      "100%|██████████| 7/7 [00:01<00:00,  4.80it/s]\n",
      "Processing queries:  36%|███▋      | 143/393 [07:40<15:17,  3.67s/query]\n",
      "  0%|          | 0/3 [00:00<?, ?it/s]\u001B[A\n",
      " 33%|███▎      | 1/3 [00:00<00:00,  4.36it/s]\u001B[A\n",
      "100%|██████████| 3/3 [00:00<00:00,  5.77it/s]\n",
      "Processing queries:  37%|███▋      | 144/393 [07:42<13:05,  3.15s/query]"
     ]
    },
    {
     "output_type": "stream",
     "name": "stdout",
     "text": [
      "WARNING! Your documents have duplicate entries!  This will slow down calculation and may yield subpar results\n"
     ]
    },
    {
     "output_type": "stream",
     "name": "stderr",
     "text": [
      "\n",
      "  0%|          | 0/7 [00:00<?, ?it/s]\u001B[A\n",
      " 14%|█▍        | 1/7 [00:00<00:01,  4.66it/s]\u001B[A\n",
      " 29%|██▊       | 2/7 [00:00<00:01,  4.43it/s]\u001B[A\n",
      " 43%|████▎     | 3/7 [00:00<00:00,  4.41it/s]\u001B[A\n",
      " 57%|█████▋    | 4/7 [00:00<00:00,  4.08it/s]\u001B[A\n",
      " 71%|███████▏  | 5/7 [00:01<00:00,  4.14it/s]\u001B[A\n",
      "100%|██████████| 7/7 [00:01<00:00,  4.76it/s]\n",
      "Processing queries:  37%|███▋      | 145/393 [07:45<12:49,  3.10s/query]\n",
      "  0%|          | 0/3 [00:00<?, ?it/s]\u001B[A\n",
      " 33%|███▎      | 1/3 [00:00<00:00,  4.48it/s]\u001B[A\n",
      "100%|██████████| 3/3 [00:00<00:00,  5.81it/s]\n",
      "Processing queries:  37%|███▋      | 146/393 [07:47<11:27,  2.78s/query]\n",
      "  0%|          | 0/7 [00:00<?, ?it/s]\u001B[A\n",
      " 14%|█▍        | 1/7 [00:00<00:01,  3.62it/s]\u001B[A\n",
      " 29%|██▊       | 2/7 [00:00<00:01,  4.04it/s]\u001B[A\n",
      " 43%|████▎     | 3/7 [00:00<00:00,  4.18it/s]\u001B[A\n",
      " 57%|█████▋    | 4/7 [00:00<00:00,  4.21it/s]\u001B[A\n",
      " 71%|███████▏  | 5/7 [00:01<00:00,  4.12it/s]\u001B[A\n",
      "100%|██████████| 7/7 [00:01<00:00,  4.61it/s]\n",
      "Processing queries:  37%|███▋      | 147/393 [07:51<12:52,  3.14s/query]\n",
      "100%|██████████| 1/1 [00:00<00:00, 21.35it/s]\n",
      "Processing queries:  38%|███▊      | 148/393 [07:52<10:41,  2.62s/query]"
     ]
    },
    {
     "output_type": "stream",
     "name": "stdout",
     "text": [
      "WARNING! Your documents have duplicate entries!  This will slow down calculation and may yield subpar results\n"
     ]
    },
    {
     "output_type": "stream",
     "name": "stderr",
     "text": [
      "\n",
      "  0%|          | 0/7 [00:00<?, ?it/s]\u001B[A\n",
      " 14%|█▍        | 1/7 [00:00<00:01,  3.81it/s]\u001B[A\n",
      " 29%|██▊       | 2/7 [00:00<00:01,  4.06it/s]\u001B[A\n",
      " 43%|████▎     | 3/7 [00:00<00:00,  4.20it/s]\u001B[A\n",
      " 57%|█████▋    | 4/7 [00:00<00:00,  4.15it/s]\u001B[A\n",
      " 71%|███████▏  | 5/7 [00:01<00:00,  4.05it/s]\u001B[A\n",
      "100%|██████████| 7/7 [00:01<00:00,  4.56it/s]\n",
      "Processing queries:  38%|███▊      | 149/393 [07:55<11:13,  2.76s/query]\n",
      "  0%|          | 0/1 [00:00<?, ?it/s]\u001B[A\n",
      "100%|██████████| 1/1 [00:00<00:00,  4.54it/s]\n",
      "Processing queries:  38%|███▊      | 150/393 [07:57<09:52,  2.44s/query]\n",
      "  0%|          | 0/7 [00:00<?, ?it/s]\u001B[A\n",
      " 14%|█▍        | 1/7 [00:00<00:01,  4.65it/s]\u001B[A\n",
      " 29%|██▊       | 2/7 [00:00<00:01,  4.39it/s]\u001B[A\n",
      " 43%|████▎     | 3/7 [00:00<00:00,  4.38it/s]\u001B[A\n",
      " 57%|█████▋    | 4/7 [00:00<00:00,  3.99it/s]\u001B[A\n",
      " 71%|███████▏  | 5/7 [00:01<00:00,  4.06it/s]\u001B[A\n",
      "100%|██████████| 7/7 [00:01<00:00,  4.67it/s]\n",
      "Processing queries:  38%|███▊      | 151/393 [08:00<10:36,  2.63s/query]\n",
      "  0%|          | 0/7 [00:00<?, ?it/s]\u001B[A\n",
      " 14%|█▍        | 1/7 [00:00<00:01,  4.40it/s]\u001B[A\n",
      " 29%|██▊       | 2/7 [00:00<00:01,  4.29it/s]\u001B[A\n",
      " 43%|████▎     | 3/7 [00:00<00:00,  4.33it/s]\u001B[A\n",
      " 57%|█████▋    | 4/7 [00:00<00:00,  4.07it/s]\u001B[A\n",
      " 71%|███████▏  | 5/7 [00:01<00:00,  4.09it/s]\u001B[A\n",
      "100%|██████████| 7/7 [00:01<00:00,  4.65it/s]\n",
      "Processing queries:  39%|███▊      | 152/393 [08:03<10:58,  2.73s/query]"
     ]
    },
    {
     "output_type": "stream",
     "name": "stdout",
     "text": [
      "WARNING! Your documents have duplicate entries!  This will slow down calculation and may yield subpar results\n"
     ]
    },
    {
     "output_type": "stream",
     "name": "stderr",
     "text": [
      "\n",
      "  0%|          | 0/7 [00:00<?, ?it/s]\u001B[A\n",
      " 14%|█▍        | 1/7 [00:00<00:01,  3.66it/s]\u001B[A\n",
      " 29%|██▊       | 2/7 [00:00<00:01,  3.97it/s]\u001B[A\n",
      " 43%|████▎     | 3/7 [00:00<00:00,  4.11it/s]\u001B[A\n",
      " 57%|█████▋    | 4/7 [00:00<00:00,  4.08it/s]\u001B[A\n",
      " 71%|███████▏  | 5/7 [00:01<00:00,  3.98it/s]\u001B[A\n",
      "100%|██████████| 7/7 [00:01<00:00,  4.52it/s]\n",
      "Processing queries:  39%|███▉      | 153/393 [08:07<12:22,  3.09s/query]"
     ]
    },
    {
     "output_type": "stream",
     "name": "stdout",
     "text": [
      "WARNING! Your documents have duplicate entries!  This will slow down calculation and may yield subpar results\n"
     ]
    },
    {
     "output_type": "stream",
     "name": "stderr",
     "text": [
      "\n",
      "  0%|          | 0/7 [00:00<?, ?it/s]\u001B[A\n",
      " 14%|█▍        | 1/7 [00:00<00:01,  4.51it/s]\u001B[A\n",
      " 29%|██▊       | 2/7 [00:00<00:01,  4.34it/s]\u001B[A\n",
      " 43%|████▎     | 3/7 [00:00<00:00,  4.30it/s]\u001B[A\n",
      " 57%|█████▋    | 4/7 [00:00<00:00,  4.07it/s]\u001B[A\n",
      " 71%|███████▏  | 5/7 [00:01<00:00,  4.14it/s]\u001B[A\n",
      "100%|██████████| 7/7 [00:01<00:00,  4.68it/s]\n",
      "Processing queries:  39%|███▉      | 154/393 [08:10<12:20,  3.10s/query]"
     ]
    },
    {
     "output_type": "stream",
     "name": "stdout",
     "text": [
      "WARNING! Your documents have duplicate entries!  This will slow down calculation and may yield subpar results\n"
     ]
    },
    {
     "output_type": "stream",
     "name": "stderr",
     "text": [
      "\n",
      "  0%|          | 0/7 [00:00<?, ?it/s]\u001B[A\n",
      " 14%|█▍        | 1/7 [00:00<00:01,  4.31it/s]\u001B[A\n",
      " 29%|██▊       | 2/7 [00:00<00:01,  4.26it/s]\u001B[A\n",
      " 43%|████▎     | 3/7 [00:00<00:00,  4.20it/s]\u001B[A\n",
      " 57%|█████▋    | 4/7 [00:00<00:00,  3.88it/s]\u001B[A\n",
      " 71%|███████▏  | 5/7 [00:01<00:00,  3.94it/s]\u001B[A\n",
      "100%|██████████| 7/7 [00:01<00:00,  4.52it/s]\n",
      "Processing queries:  39%|███▉      | 155/393 [08:13<12:16,  3.09s/query]"
     ]
    },
    {
     "output_type": "stream",
     "name": "stdout",
     "text": [
      "WARNING! Your documents have duplicate entries!  This will slow down calculation and may yield subpar results\n"
     ]
    },
    {
     "output_type": "stream",
     "name": "stderr",
     "text": [
      "\n",
      "  0%|          | 0/7 [00:00<?, ?it/s]\u001B[A\n",
      " 14%|█▍        | 1/7 [00:00<00:01,  4.48it/s]\u001B[A\n",
      " 29%|██▊       | 2/7 [00:00<00:01,  4.27it/s]\u001B[A\n",
      " 43%|████▎     | 3/7 [00:00<00:00,  4.19it/s]\u001B[A\n",
      " 57%|█████▋    | 4/7 [00:00<00:00,  3.97it/s]\u001B[A\n",
      " 71%|███████▏  | 5/7 [00:01<00:00,  4.08it/s]\u001B[A\n",
      "100%|██████████| 7/7 [00:01<00:00,  4.66it/s]\n",
      "Processing queries:  40%|███▉      | 156/393 [08:16<12:09,  3.08s/query]\n",
      "  0%|          | 0/7 [00:00<?, ?it/s]\u001B[A\n",
      " 14%|█▍        | 1/7 [00:00<00:01,  4.56it/s]\u001B[A\n",
      " 29%|██▊       | 2/7 [00:00<00:01,  4.31it/s]\u001B[A\n",
      " 43%|████▎     | 3/7 [00:00<00:00,  4.21it/s]\u001B[A\n",
      " 57%|█████▋    | 4/7 [00:00<00:00,  3.97it/s]\u001B[A\n",
      " 71%|███████▏  | 5/7 [00:01<00:00,  4.08it/s]\u001B[A\n",
      "100%|██████████| 7/7 [00:01<00:00,  4.62it/s]\n",
      "Processing queries:  40%|███▉      | 157/393 [08:19<12:05,  3.07s/query]"
     ]
    },
    {
     "output_type": "stream",
     "name": "stdout",
     "text": [
      "WARNING! Your documents have duplicate entries!  This will slow down calculation and may yield subpar results\n"
     ]
    },
    {
     "output_type": "stream",
     "name": "stderr",
     "text": [
      "\n",
      "  0%|          | 0/7 [00:00<?, ?it/s]\u001B[A\n",
      " 14%|█▍        | 1/7 [00:00<00:01,  3.61it/s]\u001B[A\n",
      " 29%|██▊       | 2/7 [00:00<00:01,  3.93it/s]\u001B[A\n",
      " 43%|████▎     | 3/7 [00:00<00:00,  4.01it/s]\u001B[A\n",
      " 57%|█████▋    | 4/7 [00:01<00:00,  3.99it/s]\u001B[A\n",
      " 71%|███████▏  | 5/7 [00:01<00:00,  3.94it/s]\u001B[A\n",
      "100%|██████████| 7/7 [00:01<00:00,  4.46it/s]\n",
      "Processing queries:  40%|████      | 158/393 [08:23<13:07,  3.35s/query]"
     ]
    },
    {
     "output_type": "stream",
     "name": "stdout",
     "text": [
      "WARNING! Your documents have duplicate entries!  This will slow down calculation and may yield subpar results\n"
     ]
    },
    {
     "output_type": "stream",
     "name": "stderr",
     "text": [
      "\n",
      "  0%|          | 0/7 [00:00<?, ?it/s]\u001B[A\n",
      " 14%|█▍        | 1/7 [00:00<00:01,  3.46it/s]\u001B[A\n",
      " 29%|██▊       | 2/7 [00:00<00:01,  3.84it/s]\u001B[A\n",
      " 43%|████▎     | 3/7 [00:00<00:01,  3.96it/s]\u001B[A\n",
      " 57%|█████▋    | 4/7 [00:01<00:00,  3.99it/s]\u001B[A\n",
      " 71%|███████▏  | 5/7 [00:01<00:00,  3.90it/s]\u001B[A\n",
      "100%|██████████| 7/7 [00:01<00:00,  4.42it/s]\n",
      "Processing queries:  40%|████      | 159/393 [08:27<13:49,  3.54s/query]\n",
      "  0%|          | 0/7 [00:00<?, ?it/s]\u001B[A\n",
      " 14%|█▍        | 1/7 [00:00<00:01,  3.50it/s]\u001B[A\n",
      " 29%|██▊       | 2/7 [00:00<00:01,  3.94it/s]\u001B[A\n",
      " 43%|████▎     | 3/7 [00:00<00:00,  4.02it/s]\u001B[A\n",
      " 57%|█████▋    | 4/7 [00:01<00:00,  4.06it/s]\u001B[A\n",
      " 71%|███████▏  | 5/7 [00:01<00:00,  4.00it/s]\u001B[A\n",
      "100%|██████████| 7/7 [00:01<00:00,  4.46it/s]\n",
      "Processing queries:  41%|████      | 160/393 [08:31<14:31,  3.74s/query]"
     ]
    },
    {
     "output_type": "stream",
     "name": "stdout",
     "text": [
      "INFO: Processed 160/393 queries. Avg time/query: 3165.10 ms.\n"
     ]
    },
    {
     "output_type": "stream",
     "name": "stderr",
     "text": [
      "\n",
      "  0%|          | 0/7 [00:00<?, ?it/s]\u001B[A\n",
      " 14%|█▍        | 1/7 [00:00<00:01,  3.83it/s]\u001B[A\n",
      " 29%|██▊       | 2/7 [00:00<00:01,  4.00it/s]\u001B[A\n",
      " 43%|████▎     | 3/7 [00:00<00:00,  4.08it/s]\u001B[A\n",
      " 57%|█████▋    | 4/7 [00:00<00:00,  4.01it/s]\u001B[A\n",
      " 71%|███████▏  | 5/7 [00:01<00:00,  3.96it/s]\u001B[A\n",
      "100%|██████████| 7/7 [00:01<00:00,  4.48it/s]\n",
      "Processing queries:  41%|████      | 161/393 [08:36<14:56,  3.86s/query]"
     ]
    },
    {
     "output_type": "stream",
     "name": "stdout",
     "text": [
      "WARNING! Your documents have duplicate entries!  This will slow down calculation and may yield subpar results\n"
     ]
    },
    {
     "output_type": "stream",
     "name": "stderr",
     "text": [
      "\n",
      "  0%|          | 0/7 [00:00<?, ?it/s]\u001B[A\n",
      " 14%|█▍        | 1/7 [00:00<00:01,  4.42it/s]\u001B[A\n",
      " 29%|██▊       | 2/7 [00:00<00:01,  4.26it/s]\u001B[A\n",
      " 43%|████▎     | 3/7 [00:00<00:00,  4.21it/s]\u001B[A\n",
      " 57%|█████▋    | 4/7 [00:00<00:00,  3.91it/s]\u001B[A\n",
      " 71%|███████▏  | 5/7 [00:01<00:00,  4.00it/s]\u001B[A\n",
      "100%|██████████| 7/7 [00:01<00:00,  4.56it/s]\n",
      "Processing queries:  41%|████      | 162/393 [08:39<14:00,  3.64s/query]\n",
      "  0%|          | 0/7 [00:00<?, ?it/s]\u001B[A\n",
      " 14%|█▍        | 1/7 [00:00<00:01,  4.37it/s]\u001B[A\n",
      " 29%|██▊       | 2/7 [00:00<00:01,  4.25it/s]\u001B[A\n",
      " 43%|████▎     | 3/7 [00:00<00:00,  4.20it/s]\u001B[A\n",
      " 57%|█████▋    | 4/7 [00:00<00:00,  3.96it/s]\u001B[A\n",
      " 71%|███████▏  | 5/7 [00:01<00:00,  4.04it/s]\u001B[A\n",
      "100%|██████████| 7/7 [00:01<00:00,  4.59it/s]\n",
      "Processing queries:  41%|████▏     | 163/393 [08:42<13:17,  3.47s/query]"
     ]
    },
    {
     "output_type": "stream",
     "name": "stdout",
     "text": [
      "WARNING! Your documents have duplicate entries!  This will slow down calculation and may yield subpar results\n"
     ]
    },
    {
     "output_type": "stream",
     "name": "stderr",
     "text": [
      "\n",
      "  0%|          | 0/3 [00:00<?, ?it/s]\u001B[A\n",
      " 33%|███▎      | 1/3 [00:00<00:00,  4.35it/s]\u001B[A\n",
      " 67%|██████▋   | 2/3 [00:00<00:00,  4.22it/s]\u001B[A\n",
      "100%|██████████| 3/3 [00:00<00:00,  4.26it/s]\n",
      "Processing queries:  42%|████▏     | 164/393 [08:44<11:45,  3.08s/query]\n",
      "  0%|          | 0/7 [00:00<?, ?it/s]\u001B[A\n",
      " 14%|█▍        | 1/7 [00:00<00:01,  3.56it/s]\u001B[A\n",
      " 29%|██▊       | 2/7 [00:00<00:01,  3.94it/s]\u001B[A\n",
      " 43%|████▎     | 3/7 [00:00<00:00,  4.04it/s]\u001B[A\n",
      " 57%|█████▋    | 4/7 [00:00<00:00,  4.09it/s]\u001B[A\n",
      " 71%|███████▏  | 5/7 [00:01<00:00,  4.00it/s]\u001B[A\n",
      "100%|██████████| 7/7 [00:01<00:00,  4.51it/s]\n",
      "Processing queries:  42%|████▏     | 165/393 [08:48<12:44,  3.35s/query]\n",
      "  0%|          | 0/7 [00:00<?, ?it/s]\u001B[A\n",
      " 14%|█▍        | 1/7 [00:00<00:01,  3.55it/s]\u001B[A\n",
      " 29%|██▊       | 2/7 [00:00<00:01,  3.97it/s]\u001B[A\n",
      " 43%|████▎     | 3/7 [00:00<00:00,  4.09it/s]\u001B[A\n",
      " 57%|█████▋    | 4/7 [00:00<00:00,  4.11it/s]\u001B[A\n",
      " 71%|███████▏  | 5/7 [00:01<00:00,  4.05it/s]\u001B[A\n",
      "100%|██████████| 7/7 [00:01<00:00,  4.54it/s]\n",
      "Processing queries:  42%|████▏     | 166/393 [08:52<13:27,  3.56s/query]"
     ]
    },
    {
     "output_type": "stream",
     "name": "stdout",
     "text": [
      "WARNING! Your documents have duplicate entries!  This will slow down calculation and may yield subpar results\n"
     ]
    },
    {
     "output_type": "stream",
     "name": "stderr",
     "text": [
      "\n",
      "  0%|          | 0/7 [00:00<?, ?it/s]\u001B[A\n",
      " 14%|█▍        | 1/7 [00:00<00:01,  3.46it/s]\u001B[A\n",
      " 29%|██▊       | 2/7 [00:00<00:01,  3.93it/s]\u001B[A\n",
      " 43%|████▎     | 3/7 [00:00<00:00,  4.09it/s]\u001B[A\n",
      " 57%|█████▋    | 4/7 [00:00<00:00,  4.16it/s]\u001B[A\n",
      " 71%|███████▏  | 5/7 [00:01<00:00,  4.07it/s]\u001B[A\n",
      "100%|██████████| 7/7 [00:01<00:00,  4.56it/s]\n",
      "Processing queries:  42%|████▏     | 167/393 [08:56<13:51,  3.68s/query]\n",
      "  0%|          | 0/3 [00:00<?, ?it/s]\u001B[A\n",
      " 33%|███▎      | 1/3 [00:00<00:00,  4.30it/s]\u001B[A\n",
      " 67%|██████▋   | 2/3 [00:00<00:00,  4.20it/s]\u001B[A\n",
      "100%|██████████| 3/3 [00:00<00:00,  5.13it/s]\n",
      "Processing queries:  43%|████▎     | 168/393 [08:58<12:01,  3.20s/query]\n",
      "  0%|          | 0/3 [00:00<?, ?it/s]\u001B[A\n",
      " 33%|███▎      | 1/3 [00:00<00:00,  4.36it/s]\u001B[A\n",
      "100%|██████████| 3/3 [00:00<00:00,  6.33it/s]\n",
      "Processing queries:  43%|████▎     | 169/393 [09:00<10:35,  2.84s/query]"
     ]
    },
    {
     "output_type": "stream",
     "name": "stdout",
     "text": [
      "WARNING! Your documents have duplicate entries!  This will slow down calculation and may yield subpar results\n"
     ]
    },
    {
     "output_type": "stream",
     "name": "stderr",
     "text": [
      "\n",
      "  0%|          | 0/7 [00:00<?, ?it/s]\u001B[A\n",
      " 14%|█▍        | 1/7 [00:00<00:01,  4.53it/s]\u001B[A\n",
      " 29%|██▊       | 2/7 [00:00<00:01,  4.35it/s]\u001B[A\n",
      " 43%|████▎     | 3/7 [00:00<00:00,  4.36it/s]\u001B[A\n",
      " 57%|█████▋    | 4/7 [00:00<00:00,  4.08it/s]\u001B[A\n",
      " 71%|███████▏  | 5/7 [00:01<00:00,  4.12it/s]\u001B[A\n",
      "100%|██████████| 7/7 [00:01<00:00,  4.68it/s]\n",
      "Processing queries:  43%|████▎     | 170/393 [09:03<10:46,  2.90s/query]\n",
      "  0%|          | 0/2 [00:00<?, ?it/s]\u001B[A\n",
      " 50%|█████     | 1/2 [00:00<00:00,  4.51it/s]\u001B[A\n",
      "100%|██████████| 2/2 [00:00<00:00,  5.62it/s]\n",
      "Processing queries:  44%|████▎     | 171/393 [09:05<09:34,  2.59s/query]"
     ]
    },
    {
     "output_type": "stream",
     "name": "stdout",
     "text": [
      "WARNING! Your documents have duplicate entries!  This will slow down calculation and may yield subpar results\n"
     ]
    },
    {
     "output_type": "stream",
     "name": "stderr",
     "text": [
      "\n",
      "  0%|          | 0/7 [00:00<?, ?it/s]\u001B[A\n",
      " 14%|█▍        | 1/7 [00:00<00:01,  3.50it/s]\u001B[A\n",
      " 29%|██▊       | 2/7 [00:00<00:01,  3.96it/s]\u001B[A\n",
      " 43%|████▎     | 3/7 [00:00<00:00,  4.05it/s]\u001B[A\n",
      " 57%|█████▋    | 4/7 [00:00<00:00,  4.09it/s]\u001B[A\n",
      " 71%|███████▏  | 5/7 [00:01<00:00,  4.03it/s]\u001B[A\n",
      "100%|██████████| 7/7 [00:01<00:00,  4.53it/s]\n",
      "Processing queries:  44%|████▍     | 172/393 [09:09<10:59,  2.98s/query]"
     ]
    },
    {
     "output_type": "stream",
     "name": "stdout",
     "text": [
      "WARNING! Your documents have duplicate entries!  This will slow down calculation and may yield subpar results\n"
     ]
    },
    {
     "output_type": "stream",
     "name": "stderr",
     "text": [
      "\n",
      "  0%|          | 0/7 [00:00<?, ?it/s]\u001B[A\n",
      " 14%|█▍        | 1/7 [00:00<00:01,  4.41it/s]\u001B[A\n",
      " 29%|██▊       | 2/7 [00:00<00:01,  4.40it/s]\u001B[A\n",
      " 43%|████▎     | 3/7 [00:00<00:00,  4.30it/s]\u001B[A\n",
      " 57%|█████▋    | 4/7 [00:00<00:00,  4.09it/s]\u001B[A\n",
      " 71%|███████▏  | 5/7 [00:01<00:00,  4.06it/s]\u001B[A\n",
      "100%|██████████| 7/7 [00:01<00:00,  4.64it/s]\n",
      "Processing queries:  44%|████▍     | 173/393 [09:12<11:01,  3.01s/query]\n",
      "  0%|          | 0/7 [00:00<?, ?it/s]\u001B[A\n",
      " 14%|█▍        | 1/7 [00:00<00:01,  4.52it/s]\u001B[A\n",
      " 29%|██▊       | 2/7 [00:00<00:01,  4.31it/s]\u001B[A\n",
      " 43%|████▎     | 3/7 [00:00<00:00,  4.25it/s]\u001B[A\n",
      " 57%|█████▋    | 4/7 [00:00<00:00,  4.07it/s]\u001B[A\n",
      " 71%|███████▏  | 5/7 [00:01<00:00,  4.14it/s]\u001B[A\n",
      "100%|██████████| 7/7 [00:01<00:00,  4.73it/s]\n",
      "Processing queries:  44%|████▍     | 174/393 [09:15<11:01,  3.02s/query]\n",
      "100%|██████████| 1/1 [00:00<00:00, 12.97it/s]\n",
      "Processing queries:  45%|████▍     | 175/393 [09:16<09:18,  2.56s/query]\n",
      "  0%|          | 0/7 [00:00<?, ?it/s]\u001B[A\n",
      " 14%|█▍        | 1/7 [00:00<00:01,  3.55it/s]\u001B[A\n",
      " 29%|██▊       | 2/7 [00:00<00:01,  3.91it/s]\u001B[A\n",
      " 43%|████▎     | 3/7 [00:00<00:00,  4.08it/s]\u001B[A\n",
      " 57%|█████▋    | 4/7 [00:00<00:00,  4.12it/s]\u001B[A\n",
      " 71%|███████▏  | 5/7 [00:01<00:00,  3.97it/s]\u001B[A\n",
      "100%|██████████| 7/7 [00:01<00:00,  4.50it/s]\n",
      "Processing queries:  45%|████▍     | 176/393 [09:20<10:43,  2.97s/query]"
     ]
    },
    {
     "output_type": "stream",
     "name": "stdout",
     "text": [
      "WARNING! Your documents have duplicate entries!  This will slow down calculation and may yield subpar results\n"
     ]
    },
    {
     "output_type": "stream",
     "name": "stderr",
     "text": [
      "\n",
      "  0%|          | 0/7 [00:00<?, ?it/s]\u001B[A\n",
      " 14%|█▍        | 1/7 [00:00<00:01,  4.48it/s]\u001B[A\n",
      " 29%|██▊       | 2/7 [00:00<00:01,  4.31it/s]\u001B[A\n",
      " 43%|████▎     | 3/7 [00:00<00:00,  4.21it/s]\u001B[A\n",
      " 57%|█████▋    | 4/7 [00:00<00:00,  3.97it/s]\u001B[A\n",
      " 71%|███████▏  | 5/7 [00:01<00:00,  4.06it/s]\u001B[A\n",
      "100%|██████████| 7/7 [00:01<00:00,  4.66it/s]\n",
      "Processing queries:  45%|████▌     | 177/393 [09:23<10:48,  3.00s/query]"
     ]
    },
    {
     "output_type": "stream",
     "name": "stdout",
     "text": [
      "WARNING! Your documents have duplicate entries!  This will slow down calculation and may yield subpar results\n"
     ]
    },
    {
     "output_type": "stream",
     "name": "stderr",
     "text": [
      "\n",
      "  0%|          | 0/7 [00:00<?, ?it/s]\u001B[A\n",
      " 14%|█▍        | 1/7 [00:00<00:01,  4.33it/s]\u001B[A\n",
      " 29%|██▊       | 2/7 [00:00<00:01,  4.25it/s]\u001B[A\n",
      " 43%|████▎     | 3/7 [00:00<00:00,  4.20it/s]\u001B[A\n",
      " 57%|█████▋    | 4/7 [00:00<00:00,  3.89it/s]\u001B[A\n",
      " 71%|███████▏  | 5/7 [00:01<00:00,  3.97it/s]\u001B[A\n",
      "100%|██████████| 7/7 [00:01<00:00,  4.54it/s]\n",
      "Processing queries:  45%|████▌     | 178/393 [09:27<10:54,  3.04s/query]"
     ]
    },
    {
     "output_type": "stream",
     "name": "stdout",
     "text": [
      "WARNING! Your documents have duplicate entries!  This will slow down calculation and may yield subpar results\n"
     ]
    },
    {
     "output_type": "stream",
     "name": "stderr",
     "text": [
      "\n",
      "  0%|          | 0/7 [00:00<?, ?it/s]\u001B[A\n",
      " 14%|█▍        | 1/7 [00:00<00:01,  4.57it/s]\u001B[A\n",
      " 29%|██▊       | 2/7 [00:00<00:01,  4.32it/s]\u001B[A\n",
      " 43%|████▎     | 3/7 [00:00<00:00,  4.23it/s]\u001B[A\n",
      " 57%|█████▋    | 4/7 [00:00<00:00,  3.98it/s]\u001B[A\n",
      " 71%|███████▏  | 5/7 [00:01<00:00,  4.05it/s]\u001B[A\n",
      "100%|██████████| 7/7 [00:01<00:00,  4.62it/s]\n",
      "Processing queries:  46%|████▌     | 179/393 [09:30<10:51,  3.04s/query]"
     ]
    },
    {
     "output_type": "stream",
     "name": "stdout",
     "text": [
      "WARNING! Your documents have duplicate entries!  This will slow down calculation and may yield subpar results\n"
     ]
    },
    {
     "output_type": "stream",
     "name": "stderr",
     "text": [
      "\n",
      "  0%|          | 0/7 [00:00<?, ?it/s]\u001B[A\n",
      " 14%|█▍        | 1/7 [00:00<00:01,  4.54it/s]\u001B[A\n",
      " 29%|██▊       | 2/7 [00:00<00:01,  4.29it/s]\u001B[A\n",
      " 43%|████▎     | 3/7 [00:00<00:00,  4.21it/s]\u001B[A\n",
      " 57%|█████▋    | 4/7 [00:00<00:00,  3.95it/s]\u001B[A\n",
      " 71%|███████▏  | 5/7 [00:01<00:00,  4.05it/s]\u001B[A\n",
      "100%|██████████| 7/7 [00:01<00:00,  4.67it/s]\n",
      "Processing queries:  46%|████▌     | 180/393 [09:33<10:49,  3.05s/query]"
     ]
    },
    {
     "output_type": "stream",
     "name": "stdout",
     "text": [
      "INFO: Processed 180/393 queries. Avg time/query: 3153.52 ms.\n"
     ]
    },
    {
     "output_type": "stream",
     "name": "stderr",
     "text": [
      "\n",
      "  0%|          | 0/4 [00:00<?, ?it/s]\u001B[A\n",
      " 25%|██▌       | 1/4 [00:00<00:00,  4.58it/s]\u001B[A\n",
      " 50%|█████     | 2/4 [00:00<00:00,  4.33it/s]\u001B[A\n",
      "100%|██████████| 4/4 [00:00<00:00,  5.52it/s]\n",
      "Processing queries:  46%|████▌     | 181/393 [09:35<09:54,  2.80s/query]\n",
      "  0%|          | 0/7 [00:00<?, ?it/s]\u001B[A\n",
      " 14%|█▍        | 1/7 [00:00<00:01,  3.70it/s]\u001B[A\n",
      " 29%|██▊       | 2/7 [00:00<00:01,  3.97it/s]\u001B[A\n",
      " 43%|████▎     | 3/7 [00:00<00:00,  4.12it/s]\u001B[A\n",
      " 57%|█████▋    | 4/7 [00:00<00:00,  4.07it/s]\u001B[A\n",
      " 71%|███████▏  | 5/7 [00:01<00:00,  3.99it/s]\u001B[A\n",
      "100%|██████████| 7/7 [00:01<00:00,  4.51it/s]\n",
      "Processing queries:  46%|████▋     | 182/393 [09:39<11:09,  3.17s/query]\n",
      "  0%|          | 0/3 [00:00<?, ?it/s]\u001B[A\n",
      " 33%|███▎      | 1/3 [00:00<00:00,  4.49it/s]\u001B[A\n",
      " 67%|██████▋   | 2/3 [00:00<00:00,  4.27it/s]\u001B[A\n",
      "100%|██████████| 3/3 [00:00<00:00,  4.65it/s]\n",
      "Processing queries:  47%|████▋     | 183/393 [09:41<10:01,  2.86s/query]\n",
      "  0%|          | 0/7 [00:00<?, ?it/s]\u001B[A\n",
      " 14%|█▍        | 1/7 [00:00<00:01,  4.49it/s]\u001B[A\n",
      " 29%|██▊       | 2/7 [00:00<00:01,  4.29it/s]\u001B[A\n",
      " 43%|████▎     | 3/7 [00:00<00:00,  4.22it/s]\u001B[A\n",
      " 57%|█████▋    | 4/7 [00:00<00:00,  3.97it/s]\u001B[A\n",
      " 71%|███████▏  | 5/7 [00:01<00:00,  4.07it/s]\u001B[A\n",
      "100%|██████████| 7/7 [00:01<00:00,  4.61it/s]\n",
      "Processing queries:  47%|████▋     | 184/393 [09:44<10:08,  2.91s/query]\n",
      "  0%|          | 0/7 [00:00<?, ?it/s]\u001B[A\n",
      " 14%|█▍        | 1/7 [00:00<00:01,  4.57it/s]\u001B[A\n",
      " 29%|██▊       | 2/7 [00:00<00:01,  4.30it/s]\u001B[A\n",
      " 43%|████▎     | 3/7 [00:00<00:00,  4.24it/s]\u001B[A\n",
      " 57%|█████▋    | 4/7 [00:00<00:00,  3.98it/s]\u001B[A\n",
      " 71%|███████▏  | 5/7 [00:01<00:00,  4.07it/s]\u001B[A\n",
      "100%|██████████| 7/7 [00:01<00:00,  4.63it/s]\n",
      "Processing queries:  47%|████▋     | 185/393 [09:47<10:16,  2.96s/query]"
     ]
    },
    {
     "output_type": "stream",
     "name": "stdout",
     "text": [
      "WARNING! Your documents have duplicate entries!  This will slow down calculation and may yield subpar results\n"
     ]
    },
    {
     "output_type": "stream",
     "name": "stderr",
     "text": [
      "\n",
      "  0%|          | 0/7 [00:00<?, ?it/s]\u001B[A\n",
      " 14%|█▍        | 1/7 [00:00<00:01,  3.55it/s]\u001B[A\n",
      " 29%|██▊       | 2/7 [00:00<00:01,  3.97it/s]\u001B[A\n",
      " 43%|████▎     | 3/7 [00:00<00:00,  4.07it/s]\u001B[A\n",
      " 57%|█████▋    | 4/7 [00:00<00:00,  4.06it/s]\u001B[A\n",
      " 71%|███████▏  | 5/7 [00:01<00:00,  3.94it/s]\u001B[A\n",
      "100%|██████████| 7/7 [00:01<00:00,  4.50it/s]\n",
      "Processing queries:  47%|████▋     | 186/393 [09:52<12:03,  3.50s/query]\n",
      "  0%|          | 0/7 [00:00<?, ?it/s]\u001B[A\n",
      " 14%|█▍        | 1/7 [00:00<00:01,  4.39it/s]\u001B[A\n",
      " 29%|██▊       | 2/7 [00:00<00:01,  4.26it/s]\u001B[A\n",
      " 43%|████▎     | 3/7 [00:00<00:00,  4.22it/s]\u001B[A\n",
      " 57%|█████▋    | 4/7 [00:00<00:00,  4.07it/s]\u001B[A\n",
      " 71%|███████▏  | 5/7 [00:01<00:00,  4.12it/s]\u001B[A\n",
      "100%|██████████| 7/7 [00:01<00:00,  4.64it/s]\n",
      "Processing queries:  48%|████▊     | 187/393 [09:55<11:31,  3.36s/query]\n",
      "  0%|          | 0/7 [00:00<?, ?it/s]\u001B[A\n",
      " 14%|█▍        | 1/7 [00:00<00:01,  4.61it/s]\u001B[A\n",
      " 29%|██▊       | 2/7 [00:00<00:01,  4.35it/s]\u001B[A\n",
      " 43%|████▎     | 3/7 [00:00<00:00,  4.26it/s]\u001B[A\n",
      " 57%|█████▋    | 4/7 [00:00<00:00,  4.08it/s]\u001B[A\n",
      " 71%|███████▏  | 5/7 [00:01<00:00,  4.17it/s]\u001B[A\n",
      "100%|██████████| 7/7 [00:01<00:00,  4.75it/s]\n",
      "Processing queries:  48%|████▊     | 188/393 [09:58<11:09,  3.27s/query]\n",
      "  0%|          | 0/7 [00:00<?, ?it/s]\u001B[A\n",
      " 14%|█▍        | 1/7 [00:00<00:01,  3.89it/s]\u001B[A\n",
      " 29%|██▊       | 2/7 [00:00<00:01,  4.07it/s]\u001B[A\n",
      " 43%|████▎     | 3/7 [00:00<00:00,  4.11it/s]\u001B[A\n",
      " 57%|█████▋    | 4/7 [00:00<00:00,  4.16it/s]\u001B[A\n",
      " 71%|███████▏  | 5/7 [00:01<00:00,  4.04it/s]\u001B[A\n",
      "100%|██████████| 7/7 [00:01<00:00,  4.58it/s]\n",
      "Processing queries:  48%|████▊     | 189/393 [10:02<11:54,  3.50s/query]"
     ]
    },
    {
     "output_type": "stream",
     "name": "stdout",
     "text": [
      "WARNING! Your documents have duplicate entries!  This will slow down calculation and may yield subpar results\n"
     ]
    },
    {
     "output_type": "stream",
     "name": "stderr",
     "text": [
      "\n",
      "  0%|          | 0/7 [00:00<?, ?it/s]\u001B[A\n",
      " 14%|█▍        | 1/7 [00:00<00:01,  3.50it/s]\u001B[A\n",
      " 29%|██▊       | 2/7 [00:00<00:01,  3.88it/s]\u001B[A\n",
      " 43%|████▎     | 3/7 [00:00<00:00,  4.01it/s]\u001B[A\n",
      " 57%|█████▋    | 4/7 [00:00<00:00,  4.14it/s]\u001B[A\n",
      " 71%|███████▏  | 5/7 [00:01<00:00,  4.09it/s]\u001B[A\n",
      "100%|██████████| 7/7 [00:01<00:00,  4.55it/s]\n",
      "Processing queries:  48%|████▊     | 190/393 [10:06<12:16,  3.63s/query]\n",
      "  0%|          | 0/2 [00:00<?, ?it/s]\u001B[A\n",
      "100%|██████████| 2/2 [00:00<00:00,  7.16it/s]\n",
      "Processing queries:  49%|████▊     | 191/393 [10:08<10:18,  3.06s/query]"
     ]
    },
    {
     "output_type": "stream",
     "name": "stdout",
     "text": [
      "WARNING! Your documents have duplicate entries!  This will slow down calculation and may yield subpar results\n"
     ]
    },
    {
     "output_type": "stream",
     "name": "stderr",
     "text": [
      "\n",
      "  0%|          | 0/7 [00:00<?, ?it/s]\u001B[A\n",
      " 14%|█▍        | 1/7 [00:00<00:01,  4.11it/s]\u001B[A\n",
      " 29%|██▊       | 2/7 [00:00<00:01,  4.19it/s]\u001B[A\n",
      " 43%|████▎     | 3/7 [00:00<00:00,  4.25it/s]\u001B[A\n",
      " 57%|█████▋    | 4/7 [00:00<00:00,  4.13it/s]\u001B[A\n",
      " 71%|███████▏  | 5/7 [00:01<00:00,  4.07it/s]\u001B[A\n",
      "100%|██████████| 7/7 [00:01<00:00,  4.62it/s]\n",
      "Processing queries:  49%|████▉     | 192/393 [10:11<10:27,  3.12s/query]"
     ]
    },
    {
     "output_type": "stream",
     "name": "stdout",
     "text": [
      "WARNING! Your documents have duplicate entries!  This will slow down calculation and may yield subpar results\n"
     ]
    },
    {
     "output_type": "stream",
     "name": "stderr",
     "text": [
      "\n",
      "  0%|          | 0/7 [00:00<?, ?it/s]\u001B[A\n",
      " 14%|█▍        | 1/7 [00:00<00:01,  4.44it/s]\u001B[A\n",
      " 29%|██▊       | 2/7 [00:00<00:01,  4.31it/s]\u001B[A\n",
      " 43%|████▎     | 3/7 [00:00<00:00,  4.32it/s]\u001B[A\n",
      " 57%|█████▋    | 4/7 [00:00<00:00,  4.02it/s]\u001B[A\n",
      " 71%|███████▏  | 5/7 [00:01<00:00,  4.13it/s]\u001B[A\n",
      "100%|██████████| 7/7 [00:01<00:00,  4.68it/s]\n",
      "Processing queries:  49%|████▉     | 193/393 [10:14<10:26,  3.13s/query]\n",
      "  0%|          | 0/7 [00:00<?, ?it/s]\u001B[A\n",
      " 14%|█▍        | 1/7 [00:00<00:01,  4.49it/s]\u001B[A\n",
      " 29%|██▊       | 2/7 [00:00<00:01,  4.30it/s]\u001B[A\n",
      " 43%|████▎     | 3/7 [00:00<00:00,  4.25it/s]\u001B[A\n",
      " 57%|█████▋    | 4/7 [00:00<00:00,  4.00it/s]\u001B[A\n",
      " 71%|███████▏  | 5/7 [00:01<00:00,  4.06it/s]\u001B[A\n",
      "100%|██████████| 7/7 [00:01<00:00,  4.67it/s]\n",
      "Processing queries:  49%|████▉     | 194/393 [10:17<10:21,  3.12s/query]\n",
      "  0%|          | 0/7 [00:00<?, ?it/s]\u001B[A\n",
      " 14%|█▍        | 1/7 [00:00<00:01,  3.42it/s]\u001B[A\n",
      " 29%|██▊       | 2/7 [00:00<00:01,  3.88it/s]\u001B[A\n",
      " 43%|████▎     | 3/7 [00:00<00:00,  4.07it/s]\u001B[A\n",
      " 57%|█████▋    | 4/7 [00:00<00:00,  4.13it/s]\u001B[A\n",
      " 71%|███████▏  | 5/7 [00:01<00:00,  4.06it/s]\u001B[A\n",
      "100%|██████████| 7/7 [00:01<00:00,  4.54it/s]\n",
      "Processing queries:  50%|████▉     | 195/393 [10:21<11:10,  3.39s/query]\n",
      "  0%|          | 0/7 [00:00<?, ?it/s]\u001B[A\n",
      " 14%|█▍        | 1/7 [00:00<00:01,  3.71it/s]\u001B[A\n",
      " 29%|██▊       | 2/7 [00:00<00:01,  4.07it/s]\u001B[A\n",
      " 43%|████▎     | 3/7 [00:00<00:00,  4.14it/s]\u001B[A\n",
      " 57%|█████▋    | 4/7 [00:00<00:00,  4.19it/s]\u001B[A\n",
      " 71%|███████▏  | 5/7 [00:01<00:00,  4.05it/s]\u001B[A\n",
      "100%|██████████| 7/7 [00:01<00:00,  4.58it/s]\n",
      "Processing queries:  50%|████▉     | 196/393 [10:25<11:38,  3.55s/query]"
     ]
    },
    {
     "output_type": "stream",
     "name": "stdout",
     "text": [
      "WARNING! Your documents have duplicate entries!  This will slow down calculation and may yield subpar results\n"
     ]
    },
    {
     "output_type": "stream",
     "name": "stderr",
     "text": [
      "\n",
      "  0%|          | 0/7 [00:00<?, ?it/s]\u001B[A\n",
      " 14%|█▍        | 1/7 [00:00<00:01,  4.39it/s]\u001B[A\n",
      " 29%|██▊       | 2/7 [00:00<00:01,  4.30it/s]\u001B[A\n",
      " 43%|████▎     | 3/7 [00:00<00:00,  4.32it/s]\u001B[A\n",
      " 57%|█████▋    | 4/7 [00:00<00:00,  4.04it/s]\u001B[A\n",
      " 71%|███████▏  | 5/7 [00:01<00:00,  4.11it/s]\u001B[A\n",
      "100%|██████████| 7/7 [00:01<00:00,  4.65it/s]\n",
      "Processing queries:  50%|█████     | 197/393 [10:28<11:09,  3.41s/query]\n",
      "  0%|          | 0/1 [00:00<?, ?it/s]\u001B[A\n",
      "100%|██████████| 1/1 [00:00<00:00,  4.96it/s]\n",
      "Processing queries:  50%|█████     | 198/393 [10:30<09:24,  2.90s/query]\n",
      "  0%|          | 0/7 [00:00<?, ?it/s]\u001B[A\n",
      " 14%|█▍        | 1/7 [00:00<00:01,  4.48it/s]\u001B[A\n",
      " 29%|██▊       | 2/7 [00:00<00:01,  4.39it/s]\u001B[A\n",
      " 43%|████▎     | 3/7 [00:00<00:00,  4.34it/s]\u001B[A\n",
      " 57%|█████▋    | 4/7 [00:00<00:00,  4.15it/s]\u001B[A\n",
      " 71%|███████▏  | 5/7 [00:01<00:00,  4.11it/s]\u001B[A\n",
      "100%|██████████| 7/7 [00:01<00:00,  4.70it/s]\n",
      "Processing queries:  51%|█████     | 199/393 [10:33<09:45,  3.02s/query]\n",
      "  0%|          | 0/7 [00:00<?, ?it/s]\u001B[A\n",
      " 14%|█▍        | 1/7 [00:00<00:01,  3.58it/s]\u001B[A\n",
      " 29%|██▊       | 2/7 [00:00<00:01,  3.92it/s]\u001B[A\n",
      " 43%|████▎     | 3/7 [00:00<00:00,  4.06it/s]\u001B[A\n",
      " 57%|█████▋    | 4/7 [00:00<00:00,  4.12it/s]\u001B[A\n",
      " 71%|███████▏  | 5/7 [00:01<00:00,  3.97it/s]\u001B[A\n",
      "100%|██████████| 7/7 [00:01<00:00,  4.50it/s]\n",
      "Processing queries:  51%|█████     | 200/393 [10:37<10:37,  3.30s/query]"
     ]
    },
    {
     "output_type": "stream",
     "name": "stdout",
     "text": [
      "INFO: Processed 200/393 queries. Avg time/query: 3160.91 ms.\n"
     ]
    },
    {
     "output_type": "stream",
     "name": "stderr",
     "text": [
      "\n",
      "  0%|          | 0/7 [00:00<?, ?it/s]\u001B[A\n",
      " 14%|█▍        | 1/7 [00:00<00:01,  4.37it/s]\u001B[A\n",
      " 29%|██▊       | 2/7 [00:00<00:01,  4.24it/s]\u001B[A\n",
      " 43%|████▎     | 3/7 [00:00<00:00,  4.27it/s]\u001B[A\n",
      " 57%|█████▋    | 4/7 [00:00<00:00,  4.01it/s]\u001B[A\n",
      " 71%|███████▏  | 5/7 [00:01<00:00,  4.10it/s]\u001B[A\n",
      "100%|██████████| 7/7 [00:01<00:00,  4.69it/s]\n",
      "Processing queries:  51%|█████     | 201/393 [10:40<10:20,  3.23s/query]\n",
      "  0%|          | 0/1 [00:00<?, ?it/s]\u001B[A\n",
      "100%|██████████| 1/1 [00:00<00:00,  4.47it/s]\n",
      "Processing queries:  51%|█████▏    | 202/393 [10:42<08:48,  2.77s/query]\n",
      "  0%|          | 0/7 [00:00<?, ?it/s]\u001B[A\n",
      " 14%|█▍        | 1/7 [00:00<00:01,  3.69it/s]\u001B[A\n",
      " 29%|██▊       | 2/7 [00:00<00:01,  3.98it/s]\u001B[A\n",
      " 43%|████▎     | 3/7 [00:00<00:00,  4.12it/s]\u001B[A\n",
      " 57%|█████▋    | 4/7 [00:00<00:00,  4.11it/s]\u001B[A\n",
      " 71%|███████▏  | 5/7 [00:01<00:00,  4.02it/s]\u001B[A\n",
      "100%|██████████| 7/7 [00:01<00:00,  4.53it/s]\n",
      "Processing queries:  52%|█████▏    | 203/393 [10:47<10:37,  3.36s/query]\n",
      "  0%|          | 0/7 [00:00<?, ?it/s]\u001B[A\n",
      " 14%|█▍        | 1/7 [00:00<00:01,  4.51it/s]\u001B[A\n",
      " 29%|██▊       | 2/7 [00:00<00:01,  4.32it/s]\u001B[A\n",
      " 43%|████▎     | 3/7 [00:00<00:00,  4.23it/s]\u001B[A\n",
      " 57%|█████▋    | 4/7 [00:00<00:00,  3.96it/s]\u001B[A\n",
      " 71%|███████▏  | 5/7 [00:01<00:00,  4.08it/s]\u001B[A\n",
      "100%|██████████| 7/7 [00:01<00:00,  4.61it/s]\n",
      "Processing queries:  52%|█████▏    | 204/393 [10:50<10:20,  3.29s/query]"
     ]
    },
    {
     "output_type": "stream",
     "name": "stdout",
     "text": [
      "WARNING! Your documents have duplicate entries!  This will slow down calculation and may yield subpar results\n"
     ]
    },
    {
     "output_type": "stream",
     "name": "stderr",
     "text": [
      "\n",
      "  0%|          | 0/7 [00:00<?, ?it/s]\u001B[A\n",
      " 14%|█▍        | 1/7 [00:00<00:01,  4.65it/s]\u001B[A\n",
      " 29%|██▊       | 2/7 [00:00<00:01,  4.34it/s]\u001B[A\n",
      " 43%|████▎     | 3/7 [00:00<00:00,  4.25it/s]\u001B[A\n",
      " 57%|█████▋    | 4/7 [00:00<00:00,  3.91it/s]\u001B[A\n",
      " 71%|███████▏  | 5/7 [00:01<00:00,  4.00it/s]\u001B[A\n",
      "100%|██████████| 7/7 [00:01<00:00,  4.59it/s]\n",
      "Processing queries:  52%|█████▏    | 205/393 [10:53<10:02,  3.21s/query]"
     ]
    },
    {
     "output_type": "stream",
     "name": "stdout",
     "text": [
      "WARNING! Your documents have duplicate entries!  This will slow down calculation and may yield subpar results\n"
     ]
    },
    {
     "output_type": "stream",
     "name": "stderr",
     "text": [
      "\n",
      "  0%|          | 0/7 [00:00<?, ?it/s]\u001B[A\n",
      " 14%|█▍        | 1/7 [00:00<00:01,  3.54it/s]\u001B[A\n",
      " 29%|██▊       | 2/7 [00:00<00:01,  3.91it/s]\u001B[A\n",
      " 43%|████▎     | 3/7 [00:00<00:00,  4.01it/s]\u001B[A\n",
      " 57%|█████▋    | 4/7 [00:01<00:00,  4.01it/s]\u001B[A\n",
      " 71%|███████▏  | 5/7 [00:01<00:00,  3.93it/s]\u001B[A\n",
      "100%|██████████| 7/7 [00:01<00:00,  4.45it/s]\n",
      "Processing queries:  52%|█████▏    | 206/393 [10:57<10:37,  3.41s/query]\n",
      "  0%|          | 0/7 [00:00<?, ?it/s]\u001B[A\n",
      " 14%|█▍        | 1/7 [00:00<00:01,  3.68it/s]\u001B[A\n",
      " 29%|██▊       | 2/7 [00:00<00:01,  4.00it/s]\u001B[A\n",
      " 43%|████▎     | 3/7 [00:00<00:00,  4.07it/s]\u001B[A\n",
      " 57%|█████▋    | 4/7 [00:00<00:00,  4.05it/s]\u001B[A\n",
      " 71%|███████▏  | 5/7 [00:01<00:00,  3.95it/s]\u001B[A\n",
      "100%|██████████| 7/7 [00:01<00:00,  4.49it/s]\n",
      "Processing queries:  53%|█████▎    | 207/393 [11:01<11:09,  3.60s/query]\n",
      "  0%|          | 0/7 [00:00<?, ?it/s]\u001B[A\n",
      " 14%|█▍        | 1/7 [00:00<00:01,  3.40it/s]\u001B[A\n",
      " 29%|██▊       | 2/7 [00:00<00:01,  3.82it/s]\u001B[A\n",
      " 43%|████▎     | 3/7 [00:00<00:01,  3.96it/s]\u001B[A\n",
      " 57%|█████▋    | 4/7 [00:01<00:00,  4.02it/s]\u001B[A\n",
      " 71%|███████▏  | 5/7 [00:01<00:00,  3.97it/s]\u001B[A\n",
      "100%|██████████| 7/7 [00:01<00:00,  4.46it/s]\n",
      "Processing queries:  53%|█████▎    | 208/393 [11:05<11:25,  3.70s/query]\n",
      "  0%|          | 0/7 [00:00<?, ?it/s]\u001B[A\n",
      " 14%|█▍        | 1/7 [00:00<00:01,  4.49it/s]\u001B[A\n",
      " 29%|██▊       | 2/7 [00:00<00:01,  4.29it/s]\u001B[A\n",
      " 43%|████▎     | 3/7 [00:00<00:00,  4.20it/s]\u001B[A\n",
      " 57%|█████▋    | 4/7 [00:00<00:00,  3.93it/s]\u001B[A\n",
      " 71%|███████▏  | 5/7 [00:01<00:00,  3.99it/s]\u001B[A\n",
      "100%|██████████| 7/7 [00:01<00:00,  4.61it/s]\n",
      "Processing queries:  53%|█████▎    | 209/393 [11:08<10:46,  3.51s/query]\n",
      "  0%|          | 0/7 [00:00<?, ?it/s]\u001B[A\n",
      " 14%|█▍        | 1/7 [00:00<00:01,  4.37it/s]\u001B[A\n",
      " 29%|██▊       | 2/7 [00:00<00:01,  4.25it/s]\u001B[A\n",
      " 43%|████▎     | 3/7 [00:00<00:00,  4.22it/s]\u001B[A\n",
      " 57%|█████▋    | 4/7 [00:00<00:00,  4.00it/s]\u001B[A\n",
      " 71%|███████▏  | 5/7 [00:01<00:00,  4.02it/s]\u001B[A\n",
      "100%|██████████| 7/7 [00:01<00:00,  4.59it/s]\n",
      "Processing queries:  53%|█████▎    | 210/393 [11:11<10:14,  3.36s/query]\n",
      "  0%|          | 0/7 [00:00<?, ?it/s]\u001B[A\n",
      " 14%|█▍        | 1/7 [00:00<00:01,  3.70it/s]\u001B[A\n",
      " 29%|██▊       | 2/7 [00:00<00:01,  3.99it/s]\u001B[A\n",
      " 43%|████▎     | 3/7 [00:00<00:00,  4.13it/s]\u001B[A\n",
      " 57%|█████▋    | 4/7 [00:00<00:00,  4.15it/s]\u001B[A\n",
      " 71%|███████▏  | 5/7 [00:01<00:00,  4.06it/s]\u001B[A\n",
      "100%|██████████| 7/7 [00:01<00:00,  4.57it/s]\n",
      "Processing queries:  54%|█████▎    | 211/393 [11:15<10:43,  3.53s/query]\n",
      "  0%|          | 0/7 [00:00<?, ?it/s]\u001B[A\n",
      " 14%|█▍        | 1/7 [00:00<00:01,  4.64it/s]\u001B[A\n",
      " 29%|██▊       | 2/7 [00:00<00:01,  4.34it/s]\u001B[A\n",
      " 43%|████▎     | 3/7 [00:00<00:00,  4.24it/s]\u001B[A\n",
      " 57%|█████▋    | 4/7 [00:00<00:00,  3.94it/s]\u001B[A\n",
      " 71%|███████▏  | 5/7 [00:01<00:00,  3.99it/s]\u001B[A\n",
      "100%|██████████| 7/7 [00:01<00:00,  4.63it/s]\n",
      "Processing queries:  54%|█████▍    | 212/393 [11:18<10:16,  3.40s/query]\n",
      "  0%|          | 0/7 [00:00<?, ?it/s]\u001B[A\n",
      " 14%|█▍        | 1/7 [00:00<00:01,  4.40it/s]\u001B[A\n",
      " 29%|██▊       | 2/7 [00:00<00:01,  4.36it/s]\u001B[A\n",
      " 43%|████▎     | 3/7 [00:00<00:00,  4.29it/s]\u001B[A\n",
      " 57%|█████▋    | 4/7 [00:00<00:00,  4.04it/s]\u001B[A\n",
      " 71%|███████▏  | 5/7 [00:01<00:00,  4.08it/s]\u001B[A\n",
      "100%|██████████| 7/7 [00:01<00:00,  4.63it/s]\n",
      "Processing queries:  54%|█████▍    | 213/393 [11:21<09:56,  3.31s/query]\n",
      "  0%|          | 0/7 [00:00<?, ?it/s]\u001B[A\n",
      " 14%|█▍        | 1/7 [00:00<00:01,  3.84it/s]\u001B[A\n",
      " 29%|██▊       | 2/7 [00:00<00:01,  4.08it/s]\u001B[A\n",
      " 43%|████▎     | 3/7 [00:00<00:00,  4.16it/s]\u001B[A\n",
      " 57%|█████▋    | 4/7 [00:00<00:00,  4.22it/s]\u001B[A\n",
      " 71%|███████▏  | 5/7 [00:01<00:00,  4.15it/s]\u001B[A\n",
      "100%|██████████| 7/7 [00:01<00:00,  4.65it/s]\n",
      "Processing queries:  54%|█████▍    | 214/393 [11:28<13:34,  4.55s/query]"
     ]
    },
    {
     "output_type": "stream",
     "name": "stdout",
     "text": [
      "WARNING! Your documents have duplicate entries!  This will slow down calculation and may yield subpar results\n"
     ]
    },
    {
     "output_type": "stream",
     "name": "stderr",
     "text": [
      "\n",
      "  0%|          | 0/7 [00:00<?, ?it/s]\u001B[A\n",
      " 14%|█▍        | 1/7 [00:00<00:01,  3.72it/s]\u001B[A\n",
      " 29%|██▊       | 2/7 [00:00<00:01,  4.09it/s]\u001B[A\n",
      " 43%|████▎     | 3/7 [00:00<00:00,  4.15it/s]\u001B[A\n",
      " 57%|█████▋    | 4/7 [00:00<00:00,  4.19it/s]\u001B[A\n",
      " 71%|███████▏  | 5/7 [00:01<00:00,  4.04it/s]\u001B[A\n",
      "100%|██████████| 7/7 [00:01<00:00,  4.58it/s]\n",
      "Processing queries:  55%|█████▍    | 215/393 [11:33<13:11,  4.45s/query]\n",
      "  0%|          | 0/7 [00:00<?, ?it/s]\u001B[A\n",
      " 14%|█▍        | 1/7 [00:00<00:01,  3.67it/s]\u001B[A\n",
      " 29%|██▊       | 2/7 [00:00<00:01,  4.01it/s]\u001B[A\n",
      " 43%|████▎     | 3/7 [00:00<00:00,  4.15it/s]\u001B[A\n",
      " 57%|█████▋    | 4/7 [00:00<00:00,  4.17it/s]\u001B[A\n",
      " 71%|███████▏  | 5/7 [00:01<00:00,  4.10it/s]\u001B[A\n",
      "100%|██████████| 7/7 [00:01<00:00,  4.60it/s]\n",
      "Processing queries:  55%|█████▍    | 216/393 [11:37<12:41,  4.30s/query]\n",
      "100%|██████████| 1/1 [00:00<00:00, 22.15it/s]\n",
      "Processing queries:  55%|█████▌    | 217/393 [11:38<10:07,  3.45s/query]\n",
      "  0%|          | 0/7 [00:00<?, ?it/s]\u001B[A\n",
      " 14%|█▍        | 1/7 [00:00<00:01,  3.66it/s]\u001B[A\n",
      " 29%|██▊       | 2/7 [00:00<00:01,  4.05it/s]\u001B[A\n",
      " 43%|████▎     | 3/7 [00:00<00:00,  4.11it/s]\u001B[A\n",
      " 57%|█████▋    | 4/7 [00:00<00:00,  4.11it/s]\u001B[A\n",
      " 71%|███████▏  | 5/7 [00:01<00:00,  4.06it/s]\u001B[A\n",
      "100%|██████████| 7/7 [00:01<00:00,  4.56it/s]\n",
      "Processing queries:  55%|█████▌    | 218/393 [11:41<09:40,  3.32s/query]"
     ]
    },
    {
     "output_type": "stream",
     "name": "stdout",
     "text": [
      "WARNING! Your documents have duplicate entries!  This will slow down calculation and may yield subpar results\n"
     ]
    },
    {
     "output_type": "stream",
     "name": "stderr",
     "text": [
      "\n",
      "  0%|          | 0/7 [00:00<?, ?it/s]\u001B[A\n",
      " 14%|█▍        | 1/7 [00:00<00:01,  3.84it/s]\u001B[A\n",
      " 29%|██▊       | 2/7 [00:00<00:01,  4.03it/s]\u001B[A\n",
      " 43%|████▎     | 3/7 [00:00<00:00,  4.19it/s]\u001B[A\n",
      " 57%|█████▋    | 4/7 [00:00<00:00,  4.11it/s]\u001B[A\n",
      " 71%|███████▏  | 5/7 [00:01<00:00,  4.00it/s]\u001B[A\n",
      "100%|██████████| 7/7 [00:01<00:00,  4.55it/s]\n",
      "Processing queries:  56%|█████▌    | 219/393 [11:52<15:52,  5.47s/query]\n",
      "  0%|          | 0/3 [00:00<?, ?it/s]\u001B[A\n",
      " 33%|███▎      | 1/3 [00:00<00:00,  4.62it/s]\u001B[A\n",
      "100%|██████████| 3/3 [00:00<00:00,  6.25it/s]\n",
      "Processing queries:  56%|█████▌    | 220/393 [11:54<12:44,  4.42s/query]"
     ]
    },
    {
     "output_type": "stream",
     "name": "stdout",
     "text": [
      "INFO: Processed 220/393 queries. Avg time/query: 3220.03 ms.\n"
     ]
    },
    {
     "output_type": "stream",
     "name": "stderr",
     "text": [
      "\n",
      "  0%|          | 0/7 [00:00<?, ?it/s]\u001B[A\n",
      " 14%|█▍        | 1/7 [00:00<00:01,  4.63it/s]\u001B[A\n",
      " 29%|██▊       | 2/7 [00:00<00:01,  4.38it/s]\u001B[A\n",
      " 43%|████▎     | 3/7 [00:00<00:00,  4.29it/s]\u001B[A\n",
      " 57%|█████▋    | 4/7 [00:00<00:00,  3.95it/s]\u001B[A\n",
      " 71%|███████▏  | 5/7 [00:01<00:00,  4.03it/s]\u001B[A\n",
      "100%|██████████| 7/7 [00:01<00:00,  4.64it/s]\n",
      "Processing queries:  56%|█████▌    | 221/393 [11:57<11:31,  4.02s/query]\n",
      "  0%|          | 0/7 [00:00<?, ?it/s]\u001B[A\n",
      " 14%|█▍        | 1/7 [00:00<00:01,  4.39it/s]\u001B[A\n",
      " 29%|██▊       | 2/7 [00:00<00:01,  4.26it/s]\u001B[A\n",
      " 43%|████▎     | 3/7 [00:00<00:00,  4.19it/s]\u001B[A\n",
      " 57%|█████▋    | 4/7 [00:00<00:00,  3.89it/s]\u001B[A\n",
      " 71%|███████▏  | 5/7 [00:01<00:00,  3.99it/s]\u001B[A\n",
      "100%|██████████| 7/7 [00:01<00:00,  4.60it/s]\n",
      "Processing queries:  56%|█████▋    | 222/393 [12:00<10:40,  3.75s/query]\n",
      "  0%|          | 0/7 [00:00<?, ?it/s]\u001B[A\n",
      " 14%|█▍        | 1/7 [00:00<00:01,  4.53it/s]\u001B[A\n",
      " 29%|██▊       | 2/7 [00:00<00:01,  4.30it/s]\u001B[A\n",
      " 43%|████▎     | 3/7 [00:00<00:00,  4.21it/s]\u001B[A\n",
      " 57%|█████▋    | 4/7 [00:00<00:00,  3.98it/s]\u001B[A\n",
      " 71%|███████▏  | 5/7 [00:01<00:00,  4.07it/s]\u001B[A\n",
      "100%|██████████| 7/7 [00:01<00:00,  4.63it/s]\n",
      "Processing queries:  57%|█████▋    | 223/393 [12:03<09:59,  3.53s/query]\n",
      "  0%|          | 0/3 [00:00<?, ?it/s]\u001B[A\n",
      " 33%|███▎      | 1/3 [00:00<00:00,  4.40it/s]\u001B[A\n",
      "100%|██████████| 3/3 [00:00<00:00,  5.71it/s]\n",
      "Processing queries:  57%|█████▋    | 224/393 [12:05<08:34,  3.05s/query]"
     ]
    },
    {
     "output_type": "stream",
     "name": "stdout",
     "text": [
      "WARNING! Your documents have duplicate entries!  This will slow down calculation and may yield subpar results\n"
     ]
    },
    {
     "output_type": "stream",
     "name": "stderr",
     "text": [
      "\n",
      "  0%|          | 0/7 [00:00<?, ?it/s]\u001B[A\n",
      " 14%|█▍        | 1/7 [00:00<00:01,  4.30it/s]\u001B[A\n",
      " 29%|██▊       | 2/7 [00:00<00:01,  4.21it/s]\u001B[A\n",
      " 43%|████▎     | 3/7 [00:00<00:00,  4.17it/s]\u001B[A\n",
      " 57%|█████▋    | 4/7 [00:01<00:00,  3.87it/s]\u001B[A\n",
      " 71%|███████▏  | 5/7 [00:01<00:00,  3.98it/s]\u001B[A\n",
      "100%|██████████| 7/7 [00:01<00:00,  4.53it/s]\n",
      "Processing queries:  57%|█████▋    | 225/393 [12:08<08:38,  3.09s/query]"
     ]
    },
    {
     "output_type": "stream",
     "name": "stdout",
     "text": [
      "WARNING! Your documents have duplicate entries!  This will slow down calculation and may yield subpar results\n"
     ]
    },
    {
     "output_type": "stream",
     "name": "stderr",
     "text": [
      "\n",
      "  0%|          | 0/7 [00:00<?, ?it/s]\u001B[A\n",
      " 14%|█▍        | 1/7 [00:00<00:01,  3.50it/s]\u001B[A\n",
      " 29%|██▊       | 2/7 [00:00<00:01,  3.92it/s]\u001B[A\n",
      " 43%|████▎     | 3/7 [00:00<00:00,  4.12it/s]\u001B[A\n",
      " 57%|█████▋    | 4/7 [00:00<00:00,  4.23it/s]\u001B[A\n",
      " 71%|███████▏  | 5/7 [00:01<00:00,  4.14it/s]\u001B[A\n",
      "100%|██████████| 7/7 [00:01<00:00,  4.61it/s]\n",
      "Processing queries:  58%|█████▊    | 226/393 [12:18<14:26,  5.19s/query]\n",
      "  0%|          | 0/7 [00:00<?, ?it/s]\u001B[A\n",
      " 14%|█▍        | 1/7 [00:00<00:01,  3.65it/s]\u001B[A\n",
      " 29%|██▊       | 2/7 [00:00<00:01,  3.98it/s]\u001B[A\n",
      " 43%|████▎     | 3/7 [00:00<00:00,  4.07it/s]\u001B[A\n",
      " 57%|█████▋    | 4/7 [00:00<00:00,  4.06it/s]\u001B[A\n",
      " 71%|███████▏  | 5/7 [00:01<00:00,  3.94it/s]\u001B[A\n",
      "100%|██████████| 7/7 [00:01<00:00,  4.52it/s]\n",
      "Processing queries:  58%|█████▊    | 227/393 [12:22<13:17,  4.80s/query]"
     ]
    },
    {
     "output_type": "stream",
     "name": "stdout",
     "text": [
      "WARNING! Your documents have duplicate entries!  This will slow down calculation and may yield subpar results\n"
     ]
    },
    {
     "output_type": "stream",
     "name": "stderr",
     "text": [
      "\n",
      "  0%|          | 0/1 [00:00<?, ?it/s]\u001B[A\n",
      "100%|██████████| 1/1 [00:00<00:00,  7.96it/s]\n",
      "Processing queries:  58%|█████▊    | 228/393 [12:23<10:31,  3.83s/query]"
     ]
    },
    {
     "output_type": "stream",
     "name": "stdout",
     "text": [
      "WARNING! Your documents have duplicate entries!  This will slow down calculation and may yield subpar results\n"
     ]
    },
    {
     "output_type": "stream",
     "name": "stderr",
     "text": [
      "\n",
      "  0%|          | 0/7 [00:00<?, ?it/s]\u001B[A\n",
      " 14%|█▍        | 1/7 [00:00<00:01,  3.86it/s]\u001B[A\n",
      " 29%|██▊       | 2/7 [00:00<00:01,  4.06it/s]\u001B[A\n",
      " 43%|████▎     | 3/7 [00:00<00:00,  4.17it/s]\u001B[A\n",
      " 57%|█████▋    | 4/7 [00:00<00:00,  4.15it/s]\u001B[A\n",
      " 71%|███████▏  | 5/7 [00:01<00:00,  4.02it/s]\u001B[A\n",
      "100%|██████████| 7/7 [00:01<00:00,  4.57it/s]\n",
      "Processing queries:  58%|█████▊    | 229/393 [12:27<09:52,  3.61s/query]\n",
      "  0%|          | 0/7 [00:00<?, ?it/s]\u001B[A\n",
      " 14%|█▍        | 1/7 [00:00<00:01,  4.46it/s]\u001B[A\n",
      " 29%|██▊       | 2/7 [00:00<00:01,  4.30it/s]\u001B[A\n",
      " 43%|████▎     | 3/7 [00:00<00:00,  4.31it/s]\u001B[A\n",
      " 57%|█████▋    | 4/7 [00:00<00:00,  4.04it/s]\u001B[A\n",
      " 71%|███████▏  | 5/7 [00:01<00:00,  4.14it/s]\u001B[A\n",
      "100%|██████████| 7/7 [00:01<00:00,  4.67it/s]\n",
      "Processing queries:  59%|█████▊    | 230/393 [12:29<09:18,  3.42s/query]"
     ]
    },
    {
     "output_type": "stream",
     "name": "stdout",
     "text": [
      "WARNING! Your documents have duplicate entries!  This will slow down calculation and may yield subpar results\n"
     ]
    },
    {
     "output_type": "stream",
     "name": "stderr",
     "text": [
      "\n",
      "  0%|          | 0/7 [00:00<?, ?it/s]\u001B[A\n",
      " 14%|█▍        | 1/7 [00:00<00:01,  3.70it/s]\u001B[A\n",
      " 29%|██▊       | 2/7 [00:00<00:01,  3.98it/s]\u001B[A\n",
      " 43%|████▎     | 3/7 [00:00<00:00,  4.05it/s]\u001B[A\n",
      " 57%|█████▋    | 4/7 [00:01<00:00,  4.00it/s]\u001B[A\n",
      " 71%|███████▏  | 5/7 [00:01<00:00,  3.94it/s]\u001B[A\n",
      "100%|██████████| 7/7 [00:01<00:00,  4.48it/s]\n",
      "Processing queries:  59%|█████▉    | 231/393 [12:33<09:39,  3.58s/query]"
     ]
    },
    {
     "output_type": "stream",
     "name": "stdout",
     "text": [
      "WARNING! Your documents have duplicate entries!  This will slow down calculation and may yield subpar results\n"
     ]
    },
    {
     "output_type": "stream",
     "name": "stderr",
     "text": [
      "\n",
      "  0%|          | 0/7 [00:00<?, ?it/s]\u001B[A\n",
      " 14%|█▍        | 1/7 [00:00<00:01,  3.49it/s]\u001B[A\n",
      " 29%|██▊       | 2/7 [00:00<00:01,  3.87it/s]\u001B[A\n",
      " 43%|████▎     | 3/7 [00:00<00:00,  4.01it/s]\u001B[A\n",
      " 57%|█████▋    | 4/7 [00:01<00:00,  4.04it/s]\u001B[A\n",
      " 71%|███████▏  | 5/7 [00:01<00:00,  4.01it/s]\u001B[A\n",
      "100%|██████████| 7/7 [00:01<00:00,  4.50it/s]\n",
      "Processing queries:  59%|█████▉    | 232/393 [12:38<10:26,  3.89s/query]"
     ]
    },
    {
     "output_type": "stream",
     "name": "stdout",
     "text": [
      "WARNING! Your documents have duplicate entries!  This will slow down calculation and may yield subpar results\n"
     ]
    },
    {
     "output_type": "stream",
     "name": "stderr",
     "text": [
      "\n",
      "  0%|          | 0/7 [00:00<?, ?it/s]\u001B[A\n",
      " 14%|█▍        | 1/7 [00:00<00:01,  4.55it/s]\u001B[A\n",
      " 29%|██▊       | 2/7 [00:00<00:01,  4.37it/s]\u001B[A\n",
      " 43%|████▎     | 3/7 [00:00<00:00,  4.26it/s]\u001B[A\n",
      " 57%|█████▋    | 4/7 [00:00<00:00,  3.92it/s]\u001B[A\n",
      " 71%|███████▏  | 5/7 [00:01<00:00,  4.00it/s]\u001B[A\n",
      "100%|██████████| 7/7 [00:01<00:00,  4.59it/s]\n",
      "Processing queries:  59%|█████▉    | 233/393 [12:41<09:41,  3.63s/query]"
     ]
    },
    {
     "output_type": "stream",
     "name": "stdout",
     "text": [
      "WARNING! Your documents have duplicate entries!  This will slow down calculation and may yield subpar results\n"
     ]
    },
    {
     "output_type": "stream",
     "name": "stderr",
     "text": [
      "\n",
      "  0%|          | 0/7 [00:00<?, ?it/s]\u001B[A\n",
      " 14%|█▍        | 1/7 [00:00<00:01,  4.34it/s]\u001B[A\n",
      " 29%|██▊       | 2/7 [00:00<00:01,  4.21it/s]\u001B[A\n",
      " 43%|████▎     | 3/7 [00:00<00:00,  4.19it/s]\u001B[A\n",
      " 57%|█████▋    | 4/7 [00:00<00:00,  3.89it/s]\u001B[A\n",
      " 71%|███████▏  | 5/7 [00:01<00:00,  3.97it/s]\u001B[A\n",
      "100%|██████████| 7/7 [00:01<00:00,  4.53it/s]\n",
      "Processing queries:  60%|█████▉    | 234/393 [12:44<09:10,  3.46s/query]"
     ]
    },
    {
     "output_type": "stream",
     "name": "stdout",
     "text": [
      "WARNING! Your documents have duplicate entries!  This will slow down calculation and may yield subpar results\n"
     ]
    },
    {
     "output_type": "stream",
     "name": "stderr",
     "text": [
      "\n",
      "  0%|          | 0/7 [00:00<?, ?it/s]\u001B[A\n",
      " 14%|█▍        | 1/7 [00:00<00:01,  3.75it/s]\u001B[A\n",
      " 29%|██▊       | 2/7 [00:00<00:01,  3.99it/s]\u001B[A\n",
      " 43%|████▎     | 3/7 [00:00<00:00,  4.05it/s]\u001B[A\n",
      " 57%|█████▋    | 4/7 [00:01<00:00,  4.01it/s]\u001B[A\n",
      " 71%|███████▏  | 5/7 [00:01<00:00,  3.95it/s]\u001B[A\n",
      "100%|██████████| 7/7 [00:01<00:00,  4.48it/s]\n",
      "Processing queries:  60%|█████▉    | 235/393 [12:48<09:27,  3.59s/query]\n",
      "  0%|          | 0/7 [00:00<?, ?it/s]\u001B[A\n",
      " 14%|█▍        | 1/7 [00:00<00:01,  4.58it/s]\u001B[A\n",
      " 29%|██▊       | 2/7 [00:00<00:01,  4.32it/s]\u001B[A\n",
      " 43%|████▎     | 3/7 [00:00<00:00,  4.23it/s]\u001B[A\n",
      " 57%|█████▋    | 4/7 [00:00<00:00,  3.89it/s]\u001B[A\n",
      " 71%|███████▏  | 5/7 [00:01<00:00,  4.00it/s]\u001B[A\n",
      "100%|██████████| 7/7 [00:01<00:00,  4.58it/s]\n",
      "Processing queries:  60%|██████    | 236/393 [12:51<09:02,  3.46s/query]"
     ]
    },
    {
     "output_type": "stream",
     "name": "stdout",
     "text": [
      "WARNING! Your documents have duplicate entries!  This will slow down calculation and may yield subpar results\n"
     ]
    },
    {
     "output_type": "stream",
     "name": "stderr",
     "text": [
      "\n",
      "  0%|          | 0/7 [00:00<?, ?it/s]\u001B[A\n",
      " 14%|█▍        | 1/7 [00:00<00:01,  4.42it/s]\u001B[A\n",
      " 29%|██▊       | 2/7 [00:00<00:01,  4.28it/s]\u001B[A\n",
      " 43%|████▎     | 3/7 [00:00<00:00,  4.26it/s]\u001B[A\n",
      " 57%|█████▋    | 4/7 [00:00<00:00,  4.10it/s]\u001B[A\n",
      " 71%|███████▏  | 5/7 [00:01<00:00,  4.10it/s]\u001B[A\n",
      "100%|██████████| 7/7 [00:01<00:00,  4.70it/s]\n",
      "Processing queries:  60%|██████    | 237/393 [12:54<08:37,  3.32s/query]"
     ]
    },
    {
     "output_type": "stream",
     "name": "stdout",
     "text": [
      "WARNING! Your documents have duplicate entries!  This will slow down calculation and may yield subpar results\n"
     ]
    },
    {
     "output_type": "stream",
     "name": "stderr",
     "text": [
      "\n",
      "  0%|          | 0/7 [00:00<?, ?it/s]\u001B[A\n",
      " 14%|█▍        | 1/7 [00:00<00:01,  3.73it/s]\u001B[A\n",
      " 29%|██▊       | 2/7 [00:00<00:01,  4.03it/s]\u001B[A\n",
      " 43%|████▎     | 3/7 [00:00<00:00,  4.18it/s]\u001B[A\n",
      " 57%|█████▋    | 4/7 [00:00<00:00,  4.13it/s]\u001B[A\n",
      " 71%|███████▏  | 5/7 [00:01<00:00,  4.00it/s]\u001B[A\n",
      "100%|██████████| 7/7 [00:01<00:00,  4.54it/s]\n",
      "Processing queries:  61%|██████    | 238/393 [12:58<09:01,  3.49s/query]\n",
      "  0%|          | 0/7 [00:00<?, ?it/s]\u001B[A\n",
      " 14%|█▍        | 1/7 [00:00<00:01,  4.44it/s]\u001B[A\n",
      " 29%|██▊       | 2/7 [00:00<00:01,  4.29it/s]\u001B[A\n",
      " 43%|████▎     | 3/7 [00:00<00:00,  4.29it/s]\u001B[A\n",
      " 57%|█████▋    | 4/7 [00:00<00:00,  4.05it/s]\u001B[A\n",
      " 71%|███████▏  | 5/7 [00:01<00:00,  4.11it/s]\u001B[A\n",
      "100%|██████████| 7/7 [00:01<00:00,  4.71it/s]\n",
      "Processing queries:  61%|██████    | 239/393 [13:01<08:35,  3.35s/query]\n",
      "  0%|          | 0/7 [00:00<?, ?it/s]\u001B[A\n",
      " 14%|█▍        | 1/7 [00:00<00:01,  4.39it/s]\u001B[A\n",
      " 29%|██▊       | 2/7 [00:00<00:01,  4.27it/s]\u001B[A\n",
      " 43%|████▎     | 3/7 [00:00<00:00,  4.24it/s]\u001B[A\n",
      " 57%|█████▋    | 4/7 [00:00<00:00,  4.08it/s]\u001B[A\n",
      " 71%|███████▏  | 5/7 [00:01<00:00,  4.13it/s]\u001B[A\n",
      "100%|██████████| 7/7 [00:01<00:00,  4.66it/s]\n",
      "Processing queries:  61%|██████    | 240/393 [13:04<08:15,  3.24s/query]"
     ]
    },
    {
     "output_type": "stream",
     "name": "stdout",
     "text": [
      "INFO: Processed 240/393 queries. Avg time/query: 3245.65 ms.\n"
     ]
    },
    {
     "output_type": "stream",
     "name": "stderr",
     "text": [
      "\n",
      "  0%|          | 0/7 [00:00<?, ?it/s]\u001B[A\n",
      " 14%|█▍        | 1/7 [00:00<00:01,  4.56it/s]\u001B[A\n",
      " 29%|██▊       | 2/7 [00:00<00:01,  4.33it/s]\u001B[A\n",
      " 43%|████▎     | 3/7 [00:00<00:00,  4.30it/s]\u001B[A\n",
      " 57%|█████▋    | 4/7 [00:00<00:00,  4.11it/s]\u001B[A\n",
      " 71%|███████▏  | 5/7 [00:01<00:00,  4.11it/s]\u001B[A\n",
      "100%|██████████| 7/7 [00:01<00:00,  4.67it/s]\n",
      "Processing queries:  61%|██████▏   | 241/393 [13:07<08:04,  3.19s/query]"
     ]
    },
    {
     "output_type": "stream",
     "name": "stdout",
     "text": [
      "WARNING! Your documents have duplicate entries!  This will slow down calculation and may yield subpar results\n"
     ]
    },
    {
     "output_type": "stream",
     "name": "stderr",
     "text": [
      "\n",
      "  0%|          | 0/6 [00:00<?, ?it/s]\u001B[A\n",
      " 17%|█▋        | 1/6 [00:00<00:01,  4.36it/s]\u001B[A\n",
      " 33%|███▎      | 2/6 [00:00<00:00,  4.24it/s]\u001B[A\n",
      " 50%|█████     | 3/6 [00:00<00:00,  4.24it/s]\u001B[A\n",
      " 67%|██████▋   | 4/6 [00:00<00:00,  4.01it/s]\u001B[A\n",
      " 83%|████████▎ | 5/6 [00:01<00:00,  4.16it/s]\u001B[A\n",
      "100%|██████████| 6/6 [00:01<00:00,  4.34it/s]\n",
      "Processing queries:  62%|██████▏   | 242/393 [13:10<07:50,  3.12s/query]\n",
      "  0%|          | 0/7 [00:00<?, ?it/s]\u001B[A\n",
      " 14%|█▍        | 1/7 [00:00<00:01,  3.78it/s]\u001B[A\n",
      " 29%|██▊       | 2/7 [00:00<00:01,  4.05it/s]\u001B[A\n",
      " 43%|████▎     | 3/7 [00:00<00:00,  4.17it/s]\u001B[A\n",
      " 57%|█████▋    | 4/7 [00:00<00:00,  4.17it/s]\u001B[A\n",
      " 71%|███████▏  | 5/7 [00:01<00:00,  4.01it/s]\u001B[A\n",
      "100%|██████████| 7/7 [00:01<00:00,  4.56it/s]\n",
      "Processing queries:  62%|██████▏   | 243/393 [13:14<08:22,  3.35s/query]\n",
      "  0%|          | 0/7 [00:00<?, ?it/s]\u001B[A\n",
      " 14%|█▍        | 1/7 [00:00<00:01,  4.56it/s]\u001B[A\n",
      " 29%|██▊       | 2/7 [00:00<00:01,  4.37it/s]\u001B[A\n",
      " 43%|████▎     | 3/7 [00:00<00:00,  4.35it/s]\u001B[A\n",
      " 57%|█████▋    | 4/7 [00:00<00:00,  4.06it/s]\u001B[A\n",
      " 71%|███████▏  | 5/7 [00:01<00:00,  4.12it/s]\u001B[A\n",
      "100%|██████████| 7/7 [00:01<00:00,  4.68it/s]\n",
      "Processing queries:  62%|██████▏   | 244/393 [13:17<08:03,  3.24s/query]\n",
      "  0%|          | 0/7 [00:00<?, ?it/s]\u001B[A\n",
      " 14%|█▍        | 1/7 [00:00<00:01,  4.46it/s]\u001B[A\n",
      " 29%|██▊       | 2/7 [00:00<00:01,  4.30it/s]\u001B[A\n",
      " 43%|████▎     | 3/7 [00:00<00:00,  4.32it/s]\u001B[A\n",
      " 57%|█████▋    | 4/7 [00:00<00:00,  4.08it/s]\u001B[A\n",
      " 71%|███████▏  | 5/7 [00:01<00:00,  4.11it/s]\u001B[A\n",
      "100%|██████████| 7/7 [00:01<00:00,  4.66it/s]\n",
      "Processing queries:  62%|██████▏   | 245/393 [13:20<07:50,  3.18s/query]"
     ]
    },
    {
     "output_type": "stream",
     "name": "stdout",
     "text": [
      "WARNING! Your documents have duplicate entries!  This will slow down calculation and may yield subpar results\n"
     ]
    },
    {
     "output_type": "stream",
     "name": "stderr",
     "text": [
      "\n",
      "  0%|          | 0/7 [00:00<?, ?it/s]\u001B[A\n",
      " 14%|█▍        | 1/7 [00:00<00:01,  4.58it/s]\u001B[A\n",
      " 29%|██▊       | 2/7 [00:00<00:01,  4.40it/s]\u001B[A\n",
      " 43%|████▎     | 3/7 [00:00<00:00,  4.36it/s]\u001B[A\n",
      " 57%|█████▋    | 4/7 [00:00<00:00,  4.10it/s]\u001B[A\n",
      " 71%|███████▏  | 5/7 [00:01<00:00,  4.13it/s]\u001B[A\n",
      "100%|██████████| 7/7 [00:01<00:00,  4.71it/s]\n",
      "Processing queries:  63%|██████▎   | 246/393 [13:23<07:42,  3.15s/query]"
     ]
    },
    {
     "output_type": "stream",
     "name": "stdout",
     "text": [
      "WARNING! Your documents have duplicate entries!  This will slow down calculation and may yield subpar results\n"
     ]
    },
    {
     "output_type": "stream",
     "name": "stderr",
     "text": [
      "\n",
      "  0%|          | 0/7 [00:00<?, ?it/s]\u001B[A\n",
      " 14%|█▍        | 1/7 [00:00<00:01,  4.55it/s]\u001B[A\n",
      " 29%|██▊       | 2/7 [00:00<00:01,  4.34it/s]\u001B[A\n",
      " 43%|████▎     | 3/7 [00:00<00:00,  4.27it/s]\u001B[A\n",
      " 57%|█████▋    | 4/7 [00:00<00:00,  4.00it/s]\u001B[A\n",
      " 71%|███████▏  | 5/7 [00:01<00:00,  4.07it/s]\u001B[A\n",
      "100%|██████████| 7/7 [00:01<00:00,  4.65it/s]\n",
      "Processing queries:  63%|██████▎   | 247/393 [13:26<07:36,  3.13s/query]\n",
      "  0%|          | 0/7 [00:00<?, ?it/s]\u001B[A\n",
      " 14%|█▍        | 1/7 [00:00<00:01,  4.55it/s]\u001B[A\n",
      " 29%|██▊       | 2/7 [00:00<00:01,  4.36it/s]\u001B[A\n",
      " 43%|████▎     | 3/7 [00:00<00:00,  4.37it/s]\u001B[A\n",
      " 57%|█████▋    | 4/7 [00:00<00:00,  4.03it/s]\u001B[A\n",
      " 71%|███████▏  | 5/7 [00:01<00:00,  4.14it/s]\u001B[A\n",
      "100%|██████████| 7/7 [00:01<00:00,  4.74it/s]\n",
      "Processing queries:  63%|██████▎   | 248/393 [13:29<07:28,  3.09s/query]"
     ]
    },
    {
     "output_type": "stream",
     "name": "stdout",
     "text": [
      "WARNING! Your documents have duplicate entries!  This will slow down calculation and may yield subpar results\n"
     ]
    },
    {
     "output_type": "stream",
     "name": "stderr",
     "text": [
      "\n",
      "  0%|          | 0/7 [00:00<?, ?it/s]\u001B[A\n",
      " 14%|█▍        | 1/7 [00:00<00:01,  4.36it/s]\u001B[A\n",
      " 29%|██▊       | 2/7 [00:00<00:01,  4.28it/s]\u001B[A\n",
      " 43%|████▎     | 3/7 [00:00<00:00,  4.23it/s]\u001B[A\n",
      " 57%|█████▋    | 4/7 [00:00<00:00,  3.96it/s]\u001B[A\n",
      " 71%|███████▏  | 5/7 [00:01<00:00,  4.06it/s]\u001B[A\n",
      "100%|██████████| 7/7 [00:01<00:00,  4.61it/s]\n",
      "Processing queries:  63%|██████▎   | 249/393 [13:32<07:21,  3.07s/query]"
     ]
    },
    {
     "output_type": "stream",
     "name": "stdout",
     "text": [
      "WARNING! Your documents have duplicate entries!  This will slow down calculation and may yield subpar results\n"
     ]
    },
    {
     "output_type": "stream",
     "name": "stderr",
     "text": [
      "\n",
      "  0%|          | 0/7 [00:00<?, ?it/s]\u001B[A\n",
      " 14%|█▍        | 1/7 [00:00<00:01,  3.86it/s]\u001B[A\n",
      " 29%|██▊       | 2/7 [00:00<00:01,  4.08it/s]\u001B[A\n",
      " 43%|████▎     | 3/7 [00:00<00:00,  4.14it/s]\u001B[A\n",
      " 57%|█████▋    | 4/7 [00:00<00:00,  4.10it/s]\u001B[A\n",
      " 71%|███████▏  | 5/7 [00:01<00:00,  3.99it/s]\u001B[A\n",
      "100%|██████████| 7/7 [00:01<00:00,  4.52it/s]\n",
      "Processing queries:  64%|██████▎   | 250/393 [13:36<07:59,  3.35s/query]"
     ]
    },
    {
     "output_type": "stream",
     "name": "stdout",
     "text": [
      "WARNING! Your documents have duplicate entries!  This will slow down calculation and may yield subpar results\n"
     ]
    },
    {
     "output_type": "stream",
     "name": "stderr",
     "text": [
      "\n",
      "  0%|          | 0/7 [00:00<?, ?it/s]\u001B[A\n",
      " 14%|█▍        | 1/7 [00:00<00:01,  4.41it/s]\u001B[A\n",
      " 29%|██▊       | 2/7 [00:00<00:01,  4.28it/s]\u001B[A\n",
      " 43%|████▎     | 3/7 [00:00<00:00,  4.26it/s]\u001B[A\n",
      " 57%|█████▋    | 4/7 [00:00<00:00,  4.01it/s]\u001B[A\n",
      " 71%|███████▏  | 5/7 [00:01<00:00,  4.06it/s]\u001B[A\n",
      "100%|██████████| 7/7 [00:01<00:00,  4.64it/s]\n",
      "Processing queries:  64%|██████▍   | 251/393 [13:39<07:42,  3.26s/query]"
     ]
    },
    {
     "output_type": "stream",
     "name": "stdout",
     "text": [
      "WARNING! Your documents have duplicate entries!  This will slow down calculation and may yield subpar results\n"
     ]
    },
    {
     "output_type": "stream",
     "name": "stderr",
     "text": [
      "\n",
      "  0%|          | 0/7 [00:00<?, ?it/s]\u001B[A\n",
      " 14%|█▍        | 1/7 [00:00<00:01,  4.62it/s]\u001B[A\n",
      " 29%|██▊       | 2/7 [00:00<00:01,  4.38it/s]\u001B[A\n",
      " 43%|████▎     | 3/7 [00:00<00:00,  4.35it/s]\u001B[A\n",
      " 57%|█████▋    | 4/7 [00:00<00:00,  4.00it/s]\u001B[A\n",
      " 71%|███████▏  | 5/7 [00:01<00:00,  4.06it/s]\u001B[A\n",
      "100%|██████████| 7/7 [00:01<00:00,  4.64it/s]\n",
      "Processing queries:  64%|██████▍   | 252/393 [13:42<07:27,  3.17s/query]"
     ]
    },
    {
     "output_type": "stream",
     "name": "stdout",
     "text": [
      "WARNING! Your documents have duplicate entries!  This will slow down calculation and may yield subpar results\n"
     ]
    },
    {
     "output_type": "stream",
     "name": "stderr",
     "text": [
      "\n",
      "  0%|          | 0/7 [00:00<?, ?it/s]\u001B[A\n",
      " 14%|█▍        | 1/7 [00:00<00:01,  4.50it/s]\u001B[A\n",
      " 29%|██▊       | 2/7 [00:00<00:01,  4.32it/s]\u001B[A\n",
      " 43%|████▎     | 3/7 [00:00<00:00,  4.29it/s]\u001B[A\n",
      " 57%|█████▋    | 4/7 [00:00<00:00,  4.04it/s]\u001B[A\n",
      " 71%|███████▏  | 5/7 [00:01<00:00,  4.12it/s]\u001B[A\n",
      "100%|██████████| 7/7 [00:01<00:00,  4.68it/s]\n",
      "Processing queries:  64%|██████▍   | 253/393 [13:45<07:17,  3.12s/query]"
     ]
    },
    {
     "output_type": "stream",
     "name": "stdout",
     "text": [
      "WARNING! Your documents have duplicate entries!  This will slow down calculation and may yield subpar results\n"
     ]
    },
    {
     "output_type": "stream",
     "name": "stderr",
     "text": [
      "\n",
      "  0%|          | 0/7 [00:00<?, ?it/s]\u001B[A\n",
      " 14%|█▍        | 1/7 [00:00<00:01,  4.37it/s]\u001B[A\n",
      " 29%|██▊       | 2/7 [00:00<00:01,  4.26it/s]\u001B[A\n",
      " 43%|████▎     | 3/7 [00:00<00:00,  4.29it/s]\u001B[A\n",
      " 57%|█████▋    | 4/7 [00:00<00:00,  3.99it/s]\u001B[A\n",
      " 71%|███████▏  | 5/7 [00:01<00:00,  4.04it/s]\u001B[A\n",
      "100%|██████████| 7/7 [00:01<00:00,  4.65it/s]\n",
      "Processing queries:  65%|██████▍   | 254/393 [13:48<07:05,  3.06s/query]\n",
      "  0%|          | 0/7 [00:00<?, ?it/s]\u001B[A\n",
      " 14%|█▍        | 1/7 [00:00<00:01,  4.39it/s]\u001B[A\n",
      " 29%|██▊       | 2/7 [00:00<00:01,  4.38it/s]\u001B[A\n",
      " 43%|████▎     | 3/7 [00:00<00:00,  4.31it/s]\u001B[A\n",
      " 57%|█████▋    | 4/7 [00:00<00:00,  4.13it/s]\u001B[A\n",
      " 71%|███████▏  | 5/7 [00:01<00:00,  4.16it/s]\u001B[A\n",
      "100%|██████████| 7/7 [00:01<00:00,  4.75it/s]\n",
      "Processing queries:  65%|██████▍   | 255/393 [13:51<06:58,  3.03s/query]\n",
      "  0%|          | 0/2 [00:00<?, ?it/s]\u001B[A\n",
      " 50%|█████     | 1/2 [00:00<00:00,  4.46it/s]\u001B[A\n",
      "100%|██████████| 2/2 [00:00<00:00,  5.88it/s]\n",
      "Processing queries:  65%|██████▌   | 256/393 [13:53<06:03,  2.65s/query]"
     ]
    },
    {
     "output_type": "stream",
     "name": "stdout",
     "text": [
      "WARNING! Your documents have duplicate entries!  This will slow down calculation and may yield subpar results\n"
     ]
    },
    {
     "output_type": "stream",
     "name": "stderr",
     "text": [
      "\n",
      "  0%|          | 0/7 [00:00<?, ?it/s]\u001B[A\n",
      " 14%|█▍        | 1/7 [00:00<00:01,  3.72it/s]\u001B[A\n",
      " 29%|██▊       | 2/7 [00:00<00:01,  4.05it/s]\u001B[A\n",
      " 43%|████▎     | 3/7 [00:00<00:00,  4.18it/s]\u001B[A\n",
      " 57%|█████▋    | 4/7 [00:00<00:00,  4.23it/s]\u001B[A\n",
      " 71%|███████▏  | 5/7 [00:01<00:00,  4.06it/s]\u001B[A\n",
      "100%|██████████| 7/7 [00:01<00:00,  4.59it/s]\n",
      "Processing queries:  65%|██████▌   | 257/393 [13:58<07:35,  3.35s/query]\n",
      "  0%|          | 0/7 [00:00<?, ?it/s]\u001B[A\n",
      " 14%|█▍        | 1/7 [00:00<00:01,  4.56it/s]\u001B[A\n",
      " 29%|██▊       | 2/7 [00:00<00:01,  4.44it/s]\u001B[A\n",
      " 43%|████▎     | 3/7 [00:00<00:00,  4.35it/s]\u001B[A\n",
      " 57%|█████▋    | 4/7 [00:00<00:00,  4.05it/s]\u001B[A\n",
      " 71%|███████▏  | 5/7 [00:01<00:00,  4.09it/s]\u001B[A\n",
      "100%|██████████| 7/7 [00:01<00:00,  4.68it/s]\n",
      "Processing queries:  66%|██████▌   | 258/393 [14:01<07:20,  3.26s/query]"
     ]
    },
    {
     "output_type": "stream",
     "name": "stdout",
     "text": [
      "WARNING! Your documents have duplicate entries!  This will slow down calculation and may yield subpar results\n"
     ]
    },
    {
     "output_type": "stream",
     "name": "stderr",
     "text": [
      "\n",
      "  0%|          | 0/3 [00:00<?, ?it/s]\u001B[A\n",
      " 33%|███▎      | 1/3 [00:00<00:00,  4.48it/s]\u001B[A\n",
      " 67%|██████▋   | 2/3 [00:00<00:00,  4.33it/s]\u001B[A\n",
      "100%|██████████| 3/3 [00:00<00:00,  4.49it/s]\n",
      "Processing queries:  66%|██████▌   | 259/393 [14:03<06:30,  2.92s/query]"
     ]
    },
    {
     "output_type": "stream",
     "name": "stdout",
     "text": [
      "WARNING! Your documents have duplicate entries!  This will slow down calculation and may yield subpar results\n"
     ]
    },
    {
     "output_type": "stream",
     "name": "stderr",
     "text": [
      "\n",
      "  0%|          | 0/7 [00:00<?, ?it/s]\u001B[A\n",
      " 14%|█▍        | 1/7 [00:00<00:01,  4.40it/s]\u001B[A\n",
      " 29%|██▊       | 2/7 [00:00<00:01,  4.36it/s]\u001B[A\n",
      " 43%|████▎     | 3/7 [00:00<00:00,  4.33it/s]\u001B[A\n",
      " 57%|█████▋    | 4/7 [00:00<00:00,  3.98it/s]\u001B[A\n",
      " 71%|███████▏  | 5/7 [00:01<00:00,  4.11it/s]\u001B[A\n",
      "100%|██████████| 7/7 [00:01<00:00,  4.67it/s]\n",
      "Processing queries:  66%|██████▌   | 260/393 [14:06<06:30,  2.94s/query]"
     ]
    },
    {
     "output_type": "stream",
     "name": "stdout",
     "text": [
      "INFO: Processed 260/393 queries. Avg time/query: 3234.08 ms.\n"
     ]
    },
    {
     "output_type": "stream",
     "name": "stderr",
     "text": [
      "\n",
      "  0%|          | 0/7 [00:00<?, ?it/s]\u001B[A\n",
      " 14%|█▍        | 1/7 [00:00<00:01,  3.78it/s]\u001B[A\n",
      " 29%|██▊       | 2/7 [00:00<00:01,  4.09it/s]\u001B[A\n",
      " 43%|████▎     | 3/7 [00:00<00:00,  4.22it/s]\u001B[A\n",
      " 57%|█████▋    | 4/7 [00:00<00:00,  4.27it/s]\u001B[A\n",
      " 71%|███████▏  | 5/7 [00:01<00:00,  4.19it/s]\u001B[A\n",
      "100%|██████████| 7/7 [00:01<00:00,  4.66it/s]\n",
      "Processing queries:  66%|██████▋   | 261/393 [14:10<07:06,  3.23s/query]"
     ]
    },
    {
     "output_type": "stream",
     "name": "stdout",
     "text": [
      "WARNING! Your documents have duplicate entries!  This will slow down calculation and may yield subpar results\n"
     ]
    },
    {
     "output_type": "stream",
     "name": "stderr",
     "text": [
      "\n",
      "  0%|          | 0/7 [00:00<?, ?it/s]\u001B[A\n",
      " 14%|█▍        | 1/7 [00:00<00:01,  3.73it/s]\u001B[A\n",
      " 29%|██▊       | 2/7 [00:00<00:01,  4.09it/s]\u001B[A\n",
      " 43%|████▎     | 3/7 [00:00<00:00,  4.22it/s]\u001B[A\n",
      " 57%|█████▋    | 4/7 [00:00<00:00,  4.23it/s]\u001B[A\n",
      " 71%|███████▏  | 5/7 [00:01<00:00,  4.12it/s]\u001B[A\n",
      "100%|██████████| 7/7 [00:01<00:00,  4.64it/s]\n",
      "Processing queries:  67%|██████▋   | 262/393 [14:14<07:27,  3.41s/query]\n",
      "  0%|          | 0/7 [00:00<?, ?it/s]\u001B[A\n",
      " 14%|█▍        | 1/7 [00:00<00:01,  3.66it/s]\u001B[A\n",
      " 29%|██▊       | 2/7 [00:00<00:01,  4.05it/s]\u001B[A\n",
      " 43%|████▎     | 3/7 [00:00<00:00,  4.13it/s]\u001B[A\n",
      " 57%|█████▋    | 4/7 [00:00<00:00,  4.21it/s]\u001B[A\n",
      " 71%|███████▏  | 5/7 [00:01<00:00,  4.15it/s]\u001B[A\n",
      "100%|██████████| 7/7 [00:01<00:00,  4.62it/s]\n",
      "Processing queries:  67%|██████▋   | 263/393 [14:18<07:39,  3.53s/query]\n",
      "  0%|          | 0/7 [00:00<?, ?it/s]\u001B[A\n",
      " 14%|█▍        | 1/7 [00:00<00:01,  4.49it/s]\u001B[A\n",
      " 29%|██▊       | 2/7 [00:00<00:01,  4.32it/s]\u001B[A\n",
      " 43%|████▎     | 3/7 [00:00<00:00,  4.31it/s]\u001B[A\n",
      " 57%|█████▋    | 4/7 [00:00<00:00,  4.15it/s]\u001B[A\n",
      " 71%|███████▏  | 5/7 [00:01<00:00,  4.24it/s]\u001B[A\n",
      "100%|██████████| 7/7 [00:01<00:00,  4.79it/s]\n",
      "Processing queries:  67%|██████▋   | 264/393 [14:21<07:17,  3.39s/query]\n",
      "  0%|          | 0/7 [00:00<?, ?it/s]\u001B[A\n",
      " 14%|█▍        | 1/7 [00:00<00:01,  4.52it/s]\u001B[A\n",
      " 29%|██▊       | 2/7 [00:00<00:01,  4.35it/s]\u001B[A\n",
      " 43%|████▎     | 3/7 [00:00<00:00,  4.35it/s]\u001B[A\n",
      " 57%|█████▋    | 4/7 [00:00<00:00,  4.05it/s]\u001B[A\n",
      " 71%|███████▏  | 5/7 [00:01<00:00,  4.12it/s]\u001B[A\n",
      "100%|██████████| 7/7 [00:01<00:00,  4.73it/s]\n",
      "Processing queries:  67%|██████▋   | 265/393 [14:24<07:00,  3.29s/query]"
     ]
    },
    {
     "output_type": "stream",
     "name": "stdout",
     "text": [
      "WARNING! Your documents have duplicate entries!  This will slow down calculation and may yield subpar results\n"
     ]
    },
    {
     "output_type": "stream",
     "name": "stderr",
     "text": [
      "\n",
      "  0%|          | 0/7 [00:00<?, ?it/s]\u001B[A\n",
      " 14%|█▍        | 1/7 [00:00<00:01,  3.42it/s]\u001B[A\n",
      " 29%|██▊       | 2/7 [00:00<00:01,  3.89it/s]\u001B[A\n",
      " 43%|████▎     | 3/7 [00:00<00:00,  4.01it/s]\u001B[A\n",
      " 57%|█████▋    | 4/7 [00:01<00:00,  4.09it/s]\u001B[A\n",
      " 71%|███████▏  | 5/7 [00:01<00:00,  3.98it/s]\u001B[A\n",
      "100%|██████████| 7/7 [00:01<00:00,  4.52it/s]\n",
      "Processing queries:  68%|██████▊   | 266/393 [14:28<07:20,  3.47s/query]"
     ]
    },
    {
     "output_type": "stream",
     "name": "stdout",
     "text": [
      "WARNING! Your documents have duplicate entries!  This will slow down calculation and may yield subpar results\n"
     ]
    },
    {
     "output_type": "stream",
     "name": "stderr",
     "text": [
      "\n",
      "  0%|          | 0/7 [00:00<?, ?it/s]\u001B[A\n",
      " 14%|█▍        | 1/7 [00:00<00:01,  4.36it/s]\u001B[A\n",
      " 29%|██▊       | 2/7 [00:00<00:01,  4.26it/s]\u001B[A\n",
      " 43%|████▎     | 3/7 [00:00<00:00,  4.25it/s]\u001B[A\n",
      " 57%|█████▋    | 4/7 [00:00<00:00,  3.99it/s]\u001B[A\n",
      " 71%|███████▏  | 5/7 [00:01<00:00,  4.05it/s]\u001B[A\n",
      "100%|██████████| 7/7 [00:01<00:00,  4.59it/s]\n",
      "Processing queries:  68%|██████▊   | 267/393 [14:31<07:01,  3.34s/query]\n",
      "  0%|          | 0/7 [00:00<?, ?it/s]\u001B[A\n",
      " 14%|█▍        | 1/7 [00:00<00:01,  3.59it/s]\u001B[A\n",
      " 29%|██▊       | 2/7 [00:00<00:01,  3.92it/s]\u001B[A\n",
      " 43%|████▎     | 3/7 [00:00<00:00,  4.03it/s]\u001B[A\n",
      " 57%|█████▋    | 4/7 [00:00<00:00,  4.11it/s]\u001B[A\n",
      " 71%|███████▏  | 5/7 [00:01<00:00,  4.00it/s]\u001B[A\n",
      "100%|██████████| 7/7 [00:01<00:00,  4.51it/s]\n",
      "Processing queries:  68%|██████▊   | 268/393 [14:34<07:17,  3.50s/query]\n",
      "  0%|          | 0/7 [00:00<?, ?it/s]\u001B[A\n",
      " 14%|█▍        | 1/7 [00:00<00:01,  3.52it/s]\u001B[A\n",
      " 29%|██▊       | 2/7 [00:00<00:01,  3.90it/s]\u001B[A\n",
      " 43%|████▎     | 3/7 [00:00<00:00,  4.02it/s]\u001B[A\n",
      " 57%|█████▋    | 4/7 [00:00<00:00,  4.13it/s]\u001B[A\n",
      " 71%|███████▏  | 5/7 [00:01<00:00,  3.98it/s]\u001B[A\n",
      "100%|██████████| 7/7 [00:01<00:00,  4.50it/s]\n",
      "Processing queries:  68%|██████▊   | 269/393 [14:38<07:32,  3.65s/query]\n",
      "  0%|          | 0/7 [00:00<?, ?it/s]\u001B[A\n",
      " 14%|█▍        | 1/7 [00:00<00:01,  4.46it/s]\u001B[A\n",
      " 29%|██▊       | 2/7 [00:00<00:01,  4.28it/s]\u001B[A\n",
      " 43%|████▎     | 3/7 [00:00<00:00,  4.21it/s]\u001B[A\n",
      " 57%|█████▋    | 4/7 [00:00<00:00,  3.96it/s]\u001B[A\n",
      " 71%|███████▏  | 5/7 [00:01<00:00,  4.06it/s]\u001B[A\n",
      "100%|██████████| 7/7 [00:01<00:00,  4.66it/s]\n",
      "Processing queries:  69%|██████▊   | 270/393 [14:41<07:05,  3.46s/query]\n",
      "  0%|          | 0/7 [00:00<?, ?it/s]\u001B[A\n",
      " 14%|█▍        | 1/7 [00:00<00:01,  4.53it/s]\u001B[A\n",
      " 29%|██▊       | 2/7 [00:00<00:01,  4.31it/s]\u001B[A\n",
      " 43%|████▎     | 3/7 [00:00<00:00,  4.23it/s]\u001B[A\n",
      " 57%|█████▋    | 4/7 [00:00<00:00,  4.00it/s]\u001B[A\n",
      " 71%|███████▏  | 5/7 [00:01<00:00,  4.05it/s]\u001B[A\n",
      "100%|██████████| 7/7 [00:01<00:00,  4.62it/s]\n",
      "Processing queries:  69%|██████▉   | 271/393 [14:45<06:49,  3.36s/query]\n",
      "  0%|          | 0/7 [00:00<?, ?it/s]\u001B[A\n",
      " 14%|█▍        | 1/7 [00:00<00:01,  3.55it/s]\u001B[A\n",
      " 29%|██▊       | 2/7 [00:00<00:01,  3.94it/s]\u001B[A\n",
      " 43%|████▎     | 3/7 [00:00<00:00,  4.05it/s]\u001B[A\n",
      " 57%|█████▋    | 4/7 [00:01<00:00,  4.06it/s]\u001B[A\n",
      " 71%|███████▏  | 5/7 [00:01<00:00,  3.96it/s]\u001B[A\n",
      "100%|██████████| 7/7 [00:01<00:00,  4.47it/s]\n",
      "Processing queries:  69%|██████▉   | 272/393 [14:49<07:07,  3.53s/query]\n",
      "  0%|          | 0/7 [00:00<?, ?it/s]\u001B[A\n",
      " 14%|█▍        | 1/7 [00:00<00:01,  4.67it/s]\u001B[A\n",
      " 29%|██▊       | 2/7 [00:00<00:01,  4.37it/s]\u001B[A\n",
      " 43%|████▎     | 3/7 [00:00<00:00,  4.26it/s]\u001B[A\n",
      " 57%|█████▋    | 4/7 [00:00<00:00,  3.98it/s]\u001B[A\n",
      " 71%|███████▏  | 5/7 [00:01<00:00,  4.07it/s]\u001B[A\n",
      "100%|██████████| 7/7 [00:01<00:00,  4.62it/s]\n",
      "Processing queries:  69%|██████▉   | 273/393 [14:52<06:44,  3.37s/query]"
     ]
    },
    {
     "output_type": "stream",
     "name": "stdout",
     "text": [
      "WARNING! Your documents have duplicate entries!  This will slow down calculation and may yield subpar results\n"
     ]
    },
    {
     "output_type": "stream",
     "name": "stderr",
     "text": [
      "\n",
      "  0%|          | 0/7 [00:00<?, ?it/s]\u001B[A\n",
      " 14%|█▍        | 1/7 [00:00<00:01,  4.33it/s]\u001B[A\n",
      " 29%|██▊       | 2/7 [00:00<00:01,  4.24it/s]\u001B[A\n",
      " 43%|████▎     | 3/7 [00:00<00:00,  4.28it/s]\u001B[A\n",
      " 57%|█████▋    | 4/7 [00:00<00:00,  4.07it/s]\u001B[A\n",
      " 71%|███████▏  | 5/7 [00:01<00:00,  4.08it/s]\u001B[A\n",
      "100%|██████████| 7/7 [00:01<00:00,  4.64it/s]\n",
      "Processing queries:  70%|██████▉   | 274/393 [14:55<06:29,  3.27s/query]"
     ]
    },
    {
     "output_type": "stream",
     "name": "stdout",
     "text": [
      "WARNING! Your documents have duplicate entries!  This will slow down calculation and may yield subpar results\n"
     ]
    },
    {
     "output_type": "stream",
     "name": "stderr",
     "text": [
      "\n",
      "  0%|          | 0/7 [00:00<?, ?it/s]\u001B[A\n",
      " 14%|█▍        | 1/7 [00:00<00:01,  4.44it/s]\u001B[A\n",
      " 29%|██▊       | 2/7 [00:00<00:01,  4.29it/s]\u001B[A\n",
      " 43%|████▎     | 3/7 [00:00<00:00,  4.22it/s]\u001B[A\n",
      " 57%|█████▋    | 4/7 [00:00<00:00,  3.96it/s]\u001B[A\n",
      " 71%|███████▏  | 5/7 [00:01<00:00,  4.05it/s]\u001B[A\n",
      "100%|██████████| 7/7 [00:01<00:00,  4.60it/s]\n",
      "Processing queries:  70%|██████▉   | 275/393 [14:58<06:18,  3.20s/query]\n",
      "  0%|          | 0/7 [00:00<?, ?it/s]\u001B[A\n",
      " 14%|█▍        | 1/7 [00:00<00:01,  4.58it/s]\u001B[A\n",
      " 29%|██▊       | 2/7 [00:00<00:01,  4.35it/s]\u001B[A\n",
      " 43%|████▎     | 3/7 [00:00<00:00,  4.24it/s]\u001B[A\n",
      " 57%|█████▋    | 4/7 [00:00<00:00,  3.97it/s]\u001B[A\n",
      " 71%|███████▏  | 5/7 [00:01<00:00,  4.08it/s]\u001B[A\n",
      "100%|██████████| 7/7 [00:01<00:00,  4.63it/s]\n",
      "Processing queries:  70%|███████   | 276/393 [15:01<06:10,  3.17s/query]\n",
      "  0%|          | 0/7 [00:00<?, ?it/s]\u001B[A\n",
      " 14%|█▍        | 1/7 [00:00<00:01,  3.69it/s]\u001B[A\n",
      " 29%|██▊       | 2/7 [00:00<00:01,  4.02it/s]\u001B[A\n",
      " 43%|████▎     | 3/7 [00:00<00:00,  4.13it/s]\u001B[A\n",
      " 57%|█████▋    | 4/7 [00:00<00:00,  4.06it/s]\u001B[A\n",
      " 71%|███████▏  | 5/7 [00:01<00:00,  3.98it/s]\u001B[A\n",
      "100%|██████████| 7/7 [00:01<00:00,  4.51it/s]\n",
      "Processing queries:  70%|███████   | 277/393 [15:05<06:29,  3.36s/query]\n",
      "  0%|          | 0/7 [00:00<?, ?it/s]\u001B[A\n",
      " 14%|█▍        | 1/7 [00:00<00:01,  4.32it/s]\u001B[A\n",
      " 29%|██▊       | 2/7 [00:00<00:01,  4.24it/s]\u001B[A\n",
      " 43%|████▎     | 3/7 [00:00<00:00,  4.18it/s]\u001B[A\n",
      " 57%|█████▋    | 4/7 [00:01<00:00,  3.88it/s]\u001B[A\n",
      " 71%|███████▏  | 5/7 [00:01<00:00,  3.96it/s]\u001B[A\n",
      "100%|██████████| 7/7 [00:01<00:00,  4.53it/s]\n",
      "Processing queries:  71%|███████   | 278/393 [15:08<06:18,  3.29s/query]\n",
      "100%|██████████| 1/1 [00:00<00:00, 72.63it/s]\n",
      "Processing queries:  71%|███████   | 279/393 [15:09<05:11,  2.73s/query]"
     ]
    },
    {
     "output_type": "stream",
     "name": "stdout",
     "text": [
      "WARNING! Your documents have duplicate entries!  This will slow down calculation and may yield subpar results\n"
     ]
    },
    {
     "output_type": "stream",
     "name": "stderr",
     "text": [
      "\n",
      "  0%|          | 0/7 [00:00<?, ?it/s]\u001B[A\n",
      " 14%|█▍        | 1/7 [00:00<00:01,  3.67it/s]\u001B[A\n",
      " 29%|██▊       | 2/7 [00:00<00:01,  4.00it/s]\u001B[A\n",
      " 43%|████▎     | 3/7 [00:00<00:00,  4.16it/s]\u001B[A\n",
      " 57%|█████▋    | 4/7 [00:00<00:00,  4.16it/s]\u001B[A\n",
      " 71%|███████▏  | 5/7 [00:01<00:00,  4.09it/s]\u001B[A\n",
      "100%|██████████| 7/7 [00:01<00:00,  4.59it/s]\n",
      "Processing queries:  71%|███████   | 280/393 [15:12<05:18,  2.81s/query]"
     ]
    },
    {
     "output_type": "stream",
     "name": "stdout",
     "text": [
      "INFO: Processed 280/393 queries. Avg time/query: 3239.07 ms.\n",
      "WARNING! Your documents have duplicate entries!  This will slow down calculation and may yield subpar results\n"
     ]
    },
    {
     "output_type": "stream",
     "name": "stderr",
     "text": [
      "\n",
      "  0%|          | 0/7 [00:00<?, ?it/s]\u001B[A\n",
      " 14%|█▍        | 1/7 [00:00<00:01,  4.58it/s]\u001B[A\n",
      " 29%|██▊       | 2/7 [00:00<00:01,  4.46it/s]\u001B[A\n",
      " 43%|████▎     | 3/7 [00:00<00:00,  4.36it/s]\u001B[A\n",
      " 57%|█████▋    | 4/7 [00:00<00:00,  4.08it/s]\u001B[A\n",
      " 71%|███████▏  | 5/7 [00:01<00:00,  4.10it/s]\u001B[A\n",
      "100%|██████████| 7/7 [00:01<00:00,  4.68it/s]\n",
      "Processing queries:  72%|███████▏  | 281/393 [15:15<05:20,  2.86s/query]\n",
      "  0%|          | 0/7 [00:00<?, ?it/s]\u001B[A\n",
      " 14%|█▍        | 1/7 [00:00<00:01,  3.80it/s]\u001B[A\n",
      " 29%|██▊       | 2/7 [00:00<00:01,  4.06it/s]\u001B[A\n",
      " 43%|████▎     | 3/7 [00:00<00:00,  4.11it/s]\u001B[A\n",
      " 57%|█████▋    | 4/7 [00:00<00:00,  4.14it/s]\u001B[A\n",
      " 71%|███████▏  | 5/7 [00:01<00:00,  4.04it/s]\u001B[A\n",
      "100%|██████████| 7/7 [00:01<00:00,  4.57it/s]\n",
      "Processing queries:  72%|███████▏  | 282/393 [15:19<05:48,  3.14s/query]\n",
      "  0%|          | 0/7 [00:00<?, ?it/s]\u001B[A\n",
      " 14%|█▍        | 1/7 [00:00<00:01,  3.67it/s]\u001B[A\n",
      " 29%|██▊       | 2/7 [00:00<00:01,  4.06it/s]\u001B[A\n",
      " 43%|████▎     | 3/7 [00:00<00:00,  4.14it/s]\u001B[A\n",
      " 57%|█████▋    | 4/7 [00:00<00:00,  4.21it/s]\u001B[A\n",
      " 71%|███████▏  | 5/7 [00:01<00:00,  4.14it/s]\u001B[A\n",
      "100%|██████████| 7/7 [00:01<00:00,  4.63it/s]\n",
      "Processing queries:  72%|███████▏  | 283/393 [15:23<06:11,  3.38s/query]\n",
      "  0%|          | 0/7 [00:00<?, ?it/s]\u001B[A\n",
      " 14%|█▍        | 1/7 [00:00<00:01,  4.60it/s]\u001B[A\n",
      " 29%|██▊       | 2/7 [00:00<00:01,  4.37it/s]\u001B[A\n",
      " 43%|████▎     | 3/7 [00:00<00:00,  4.38it/s]\u001B[A\n",
      " 57%|█████▋    | 4/7 [00:00<00:00,  4.07it/s]\u001B[A\n",
      " 71%|███████▏  | 5/7 [00:01<00:00,  4.13it/s]\u001B[A\n",
      "100%|██████████| 7/7 [00:01<00:00,  4.69it/s]\n",
      "Processing queries:  72%|███████▏  | 284/393 [15:26<05:57,  3.28s/query]"
     ]
    },
    {
     "output_type": "stream",
     "name": "stdout",
     "text": [
      "WARNING! Your documents have duplicate entries!  This will slow down calculation and may yield subpar results\n"
     ]
    },
    {
     "output_type": "stream",
     "name": "stderr",
     "text": [
      "\n",
      "  0%|          | 0/7 [00:00<?, ?it/s]\u001B[A\n",
      " 14%|█▍        | 1/7 [00:00<00:01,  4.53it/s]\u001B[A\n",
      " 29%|██▊       | 2/7 [00:00<00:01,  4.36it/s]\u001B[A\n",
      " 43%|████▎     | 3/7 [00:00<00:00,  4.36it/s]\u001B[A\n",
      " 57%|█████▋    | 4/7 [00:00<00:00,  4.04it/s]\u001B[A\n",
      " 71%|███████▏  | 5/7 [00:01<00:00,  4.13it/s]\u001B[A\n",
      "100%|██████████| 7/7 [00:01<00:00,  4.69it/s]\n",
      "Processing queries:  73%|███████▎  | 285/393 [15:29<05:44,  3.19s/query]\n",
      "  0%|          | 0/7 [00:00<?, ?it/s]\u001B[A\n",
      " 14%|█▍        | 1/7 [00:00<00:01,  4.53it/s]\u001B[A\n",
      " 29%|██▊       | 2/7 [00:00<00:01,  4.33it/s]\u001B[A\n",
      " 43%|████▎     | 3/7 [00:00<00:00,  4.32it/s]\u001B[A\n",
      " 57%|█████▋    | 4/7 [00:00<00:00,  4.06it/s]\u001B[A\n",
      " 71%|███████▏  | 5/7 [00:01<00:00,  4.10it/s]\u001B[A\n",
      "100%|██████████| 7/7 [00:01<00:00,  4.67it/s]\n",
      "Processing queries:  73%|███████▎  | 286/393 [15:32<05:36,  3.14s/query]\n",
      "  0%|          | 0/7 [00:00<?, ?it/s]\u001B[A\n",
      " 14%|█▍        | 1/7 [00:00<00:01,  4.44it/s]\u001B[A\n",
      " 29%|██▊       | 2/7 [00:00<00:01,  4.40it/s]\u001B[A\n",
      " 43%|████▎     | 3/7 [00:00<00:00,  4.30it/s]\u001B[A\n",
      " 57%|█████▋    | 4/7 [00:00<00:00,  4.04it/s]\u001B[A\n",
      " 71%|███████▏  | 5/7 [00:01<00:00,  4.07it/s]\u001B[A\n",
      "100%|██████████| 7/7 [00:01<00:00,  4.71it/s]\n",
      "Processing queries:  73%|███████▎  | 287/393 [15:35<05:27,  3.09s/query]\n",
      "  0%|          | 0/7 [00:00<?, ?it/s]\u001B[A\n",
      " 14%|█▍        | 1/7 [00:00<00:01,  4.60it/s]\u001B[A\n",
      " 29%|██▊       | 2/7 [00:00<00:01,  4.41it/s]\u001B[A\n",
      " 43%|████▎     | 3/7 [00:00<00:00,  4.38it/s]\u001B[A\n",
      " 57%|█████▋    | 4/7 [00:00<00:00,  4.13it/s]\u001B[A\n",
      " 71%|███████▏  | 5/7 [00:01<00:00,  4.09it/s]\u001B[A\n",
      "100%|██████████| 7/7 [00:01<00:00,  4.69it/s]\n",
      "Processing queries:  73%|███████▎  | 288/393 [15:38<05:22,  3.07s/query]\n",
      "  0%|          | 0/1 [00:00<?, ?it/s]\u001B[A\n",
      "100%|██████████| 1/1 [00:00<00:00,  4.43it/s]\n",
      "Processing queries:  74%|███████▎  | 289/393 [15:39<04:34,  2.64s/query]\n",
      "  0%|          | 0/7 [00:00<?, ?it/s]\u001B[A\n",
      " 14%|█▍        | 1/7 [00:00<00:01,  3.84it/s]\u001B[A\n",
      " 29%|██▊       | 2/7 [00:00<00:01,  4.12it/s]\u001B[A\n",
      " 43%|████▎     | 3/7 [00:00<00:00,  4.21it/s]\u001B[A\n",
      " 57%|█████▋    | 4/7 [00:00<00:00,  4.24it/s]\u001B[A\n",
      " 71%|███████▏  | 5/7 [00:01<00:00,  4.09it/s]\u001B[A\n",
      "100%|██████████| 7/7 [00:01<00:00,  4.62it/s]\n",
      "Processing queries:  74%|███████▍  | 290/393 [15:43<05:09,  3.01s/query]\n",
      "  0%|          | 0/7 [00:00<?, ?it/s]\u001B[A\n",
      " 14%|█▍        | 1/7 [00:00<00:01,  3.56it/s]\u001B[A\n",
      " 29%|██▊       | 2/7 [00:00<00:01,  4.00it/s]\u001B[A\n",
      " 43%|████▎     | 3/7 [00:00<00:00,  4.09it/s]\u001B[A\n",
      " 57%|█████▋    | 4/7 [00:00<00:00,  4.20it/s]\u001B[A\n",
      " 71%|███████▏  | 5/7 [00:01<00:00,  4.13it/s]\u001B[A\n",
      "100%|██████████| 7/7 [00:01<00:00,  4.59it/s]\n",
      "Processing queries:  74%|███████▍  | 291/393 [15:47<05:35,  3.29s/query]"
     ]
    },
    {
     "output_type": "stream",
     "name": "stdout",
     "text": [
      "WARNING! Your documents have duplicate entries!  This will slow down calculation and may yield subpar results\n"
     ]
    },
    {
     "output_type": "stream",
     "name": "stderr",
     "text": [
      "\n",
      "  0%|          | 0/7 [00:00<?, ?it/s]\u001B[A\n",
      " 14%|█▍        | 1/7 [00:00<00:01,  4.42it/s]\u001B[A\n",
      " 29%|██▊       | 2/7 [00:00<00:01,  4.41it/s]\u001B[A\n",
      " 43%|████▎     | 3/7 [00:00<00:00,  4.32it/s]\u001B[A\n",
      " 57%|█████▋    | 4/7 [00:00<00:00,  4.21it/s]\u001B[A\n",
      " 71%|███████▏  | 5/7 [00:01<00:00,  4.14it/s]\u001B[A\n",
      "100%|██████████| 7/7 [00:01<00:00,  4.72it/s]\n",
      "Processing queries:  74%|███████▍  | 292/393 [15:50<05:23,  3.21s/query]\n",
      "  0%|          | 0/7 [00:00<?, ?it/s]\u001B[A\n",
      " 14%|█▍        | 1/7 [00:00<00:01,  4.51it/s]\u001B[A\n",
      " 29%|██▊       | 2/7 [00:00<00:01,  4.35it/s]\u001B[A\n",
      " 43%|████▎     | 3/7 [00:00<00:00,  4.36it/s]\u001B[A\n",
      " 57%|█████▋    | 4/7 [00:00<00:00,  4.12it/s]\u001B[A\n",
      " 71%|███████▏  | 5/7 [00:01<00:00,  4.10it/s]\u001B[A\n",
      "100%|██████████| 7/7 [00:01<00:00,  4.68it/s]\n",
      "Processing queries:  75%|███████▍  | 293/393 [15:53<05:17,  3.18s/query]"
     ]
    },
    {
     "output_type": "stream",
     "name": "stdout",
     "text": [
      "WARNING! Your documents have duplicate entries!  This will slow down calculation and may yield subpar results\n"
     ]
    },
    {
     "output_type": "stream",
     "name": "stderr",
     "text": [
      "\n",
      "  0%|          | 0/7 [00:00<?, ?it/s]\u001B[A\n",
      " 14%|█▍        | 1/7 [00:00<00:01,  4.37it/s]\u001B[A\n",
      " 29%|██▊       | 2/7 [00:00<00:01,  4.24it/s]\u001B[A\n",
      " 43%|████▎     | 3/7 [00:00<00:00,  4.19it/s]\u001B[A\n",
      " 57%|█████▋    | 4/7 [00:00<00:00,  3.94it/s]\u001B[A\n",
      " 71%|███████▏  | 5/7 [00:01<00:00,  4.04it/s]\u001B[A\n",
      "100%|██████████| 7/7 [00:01<00:00,  4.59it/s]\n",
      "Processing queries:  75%|███████▍  | 294/393 [15:56<05:09,  3.13s/query]\n",
      "  0%|          | 0/7 [00:00<?, ?it/s]\u001B[A\n",
      " 14%|█▍        | 1/7 [00:00<00:01,  3.85it/s]\u001B[A\n",
      " 29%|██▊       | 2/7 [00:00<00:01,  4.07it/s]\u001B[A\n",
      " 43%|████▎     | 3/7 [00:00<00:00,  4.13it/s]\u001B[A\n",
      " 57%|█████▋    | 4/7 [00:00<00:00,  4.10it/s]\u001B[A\n",
      " 71%|███████▏  | 5/7 [00:01<00:00,  3.95it/s]\u001B[A\n",
      "100%|██████████| 7/7 [00:01<00:00,  4.53it/s]\n",
      "Processing queries:  75%|███████▌  | 295/393 [16:00<05:28,  3.36s/query]\n",
      "  0%|          | 0/7 [00:00<?, ?it/s]\u001B[A\n",
      " 14%|█▍        | 1/7 [00:00<00:01,  4.51it/s]\u001B[A\n",
      " 29%|██▊       | 2/7 [00:00<00:01,  4.27it/s]\u001B[A\n",
      " 43%|████▎     | 3/7 [00:00<00:00,  4.20it/s]\u001B[A\n",
      " 57%|█████▋    | 4/7 [00:00<00:00,  3.88it/s]\u001B[A\n",
      " 71%|███████▏  | 5/7 [00:01<00:00,  3.99it/s]\u001B[A\n",
      "100%|██████████| 7/7 [00:01<00:00,  4.72it/s]\n",
      "Processing queries:  75%|███████▌  | 296/393 [16:03<05:16,  3.26s/query]\n",
      "  0%|          | 0/7 [00:00<?, ?it/s]\u001B[A\n",
      " 14%|█▍        | 1/7 [00:00<00:01,  4.28it/s]\u001B[A\n",
      " 29%|██▊       | 2/7 [00:00<00:01,  4.18it/s]\u001B[A\n",
      " 43%|████▎     | 3/7 [00:00<00:00,  4.15it/s]\u001B[A\n",
      " 57%|█████▋    | 4/7 [00:01<00:00,  3.86it/s]\u001B[A\n",
      " 71%|███████▏  | 5/7 [00:01<00:00,  3.97it/s]\u001B[A\n",
      "100%|██████████| 7/7 [00:01<00:00,  4.52it/s]\n",
      "Processing queries:  76%|███████▌  | 297/393 [16:06<05:08,  3.22s/query]\n",
      "  0%|          | 0/7 [00:00<?, ?it/s]\u001B[A\n",
      " 14%|█▍        | 1/7 [00:00<00:01,  4.36it/s]\u001B[A\n",
      " 29%|██▊       | 2/7 [00:00<00:01,  4.26it/s]\u001B[A\n",
      " 43%|████▎     | 3/7 [00:00<00:00,  4.18it/s]\u001B[A\n",
      " 57%|█████▋    | 4/7 [00:00<00:00,  3.95it/s]\u001B[A\n",
      " 71%|███████▏  | 5/7 [00:01<00:00,  4.05it/s]\u001B[A\n",
      "100%|██████████| 7/7 [00:01<00:00,  4.59it/s]\n",
      "Processing queries:  76%|███████▌  | 298/393 [16:10<05:01,  3.17s/query]\n",
      "  0%|          | 0/7 [00:00<?, ?it/s]\u001B[A\n",
      " 14%|█▍        | 1/7 [00:00<00:01,  4.45it/s]\u001B[A\n",
      " 29%|██▊       | 2/7 [00:00<00:01,  4.25it/s]\u001B[A\n",
      " 43%|████▎     | 3/7 [00:00<00:00,  4.21it/s]\u001B[A\n",
      " 57%|█████▋    | 4/7 [00:00<00:00,  3.87it/s]\u001B[A\n",
      " 71%|███████▏  | 5/7 [00:01<00:00,  3.98it/s]\u001B[A\n",
      "100%|██████████| 7/7 [00:01<00:00,  4.55it/s]\n",
      "Processing queries:  76%|███████▌  | 299/393 [16:13<04:53,  3.12s/query]\n",
      "  0%|          | 0/7 [00:00<?, ?it/s]\u001B[A\n",
      " 14%|█▍        | 1/7 [00:00<00:01,  3.44it/s]\u001B[A\n",
      " 29%|██▊       | 2/7 [00:00<00:01,  3.91it/s]\u001B[A\n",
      " 43%|████▎     | 3/7 [00:00<00:00,  4.01it/s]\u001B[A\n",
      " 57%|█████▋    | 4/7 [00:01<00:00,  4.04it/s]\u001B[A\n",
      " 71%|███████▏  | 5/7 [00:01<00:00,  4.00it/s]\u001B[A\n",
      "100%|██████████| 7/7 [00:01<00:00,  4.44it/s]\n",
      "Processing queries:  76%|███████▋  | 300/393 [16:17<05:35,  3.61s/query]"
     ]
    },
    {
     "output_type": "stream",
     "name": "stdout",
     "text": [
      "INFO: Processed 300/393 queries. Avg time/query: 3240.44 ms.\n",
      "WARNING! Your documents have duplicate entries!  This will slow down calculation and may yield subpar results\n"
     ]
    },
    {
     "output_type": "stream",
     "name": "stderr",
     "text": [
      "\n",
      "  0%|          | 0/7 [00:00<?, ?it/s]\u001B[A\n",
      " 14%|█▍        | 1/7 [00:00<00:01,  4.38it/s]\u001B[A\n",
      " 29%|██▊       | 2/7 [00:00<00:01,  4.28it/s]\u001B[A\n",
      " 43%|████▎     | 3/7 [00:00<00:00,  4.29it/s]\u001B[A\n",
      " 57%|█████▋    | 4/7 [00:00<00:00,  4.07it/s]\u001B[A\n",
      " 71%|███████▏  | 5/7 [00:01<00:00,  4.06it/s]\u001B[A\n",
      "100%|██████████| 7/7 [00:01<00:00,  4.64it/s]\n",
      "Processing queries:  77%|███████▋  | 302/393 [16:22<04:17,  2.83s/query]\n",
      "  0%|          | 0/3 [00:00<?, ?it/s]\u001B[A\n",
      " 33%|███▎      | 1/3 [00:00<00:00,  3.49it/s]\u001B[A\n",
      " 67%|██████▋   | 2/3 [00:00<00:00,  3.88it/s]\u001B[A\n",
      "100%|██████████| 3/3 [00:00<00:00,  4.65it/s]\n",
      "Processing queries:  77%|███████▋  | 303/393 [16:24<03:54,  2.61s/query]"
     ]
    },
    {
     "output_type": "stream",
     "name": "stdout",
     "text": [
      "WARNING! Your documents have duplicate entries!  This will slow down calculation and may yield subpar results\n"
     ]
    },
    {
     "output_type": "stream",
     "name": "stderr",
     "text": [
      "\n",
      "  0%|          | 0/7 [00:00<?, ?it/s]\u001B[A\n",
      " 14%|█▍        | 1/7 [00:00<00:01,  3.42it/s]\u001B[A\n",
      " 29%|██▊       | 2/7 [00:00<00:01,  3.86it/s]\u001B[A\n",
      " 43%|████▎     | 3/7 [00:00<00:00,  4.08it/s]\u001B[A\n",
      " 57%|█████▋    | 4/7 [00:00<00:00,  4.14it/s]\u001B[A\n",
      " 71%|███████▏  | 5/7 [00:01<00:00,  4.05it/s]\u001B[A\n",
      "100%|██████████| 7/7 [00:01<00:00,  4.52it/s]\n",
      "Processing queries:  77%|███████▋  | 304/393 [16:29<04:47,  3.23s/query]\n",
      "  0%|          | 0/7 [00:00<?, ?it/s]\u001B[A\n",
      " 14%|█▍        | 1/7 [00:00<00:01,  3.53it/s]\u001B[A\n",
      " 29%|██▊       | 2/7 [00:00<00:01,  3.99it/s]\u001B[A\n",
      " 43%|████▎     | 3/7 [00:00<00:00,  4.09it/s]\u001B[A\n",
      " 57%|█████▋    | 4/7 [00:00<00:00,  4.19it/s]\u001B[A\n",
      " 71%|███████▏  | 5/7 [00:01<00:00,  4.09it/s]\u001B[A\n",
      "100%|██████████| 7/7 [00:01<00:00,  4.59it/s]\n",
      "Processing queries:  78%|███████▊  | 305/393 [16:33<05:04,  3.46s/query]\n",
      "  0%|          | 0/7 [00:00<?, ?it/s]\u001B[A\n",
      " 14%|█▍        | 1/7 [00:00<00:01,  3.44it/s]\u001B[A\n",
      " 29%|██▊       | 2/7 [00:00<00:01,  3.89it/s]\u001B[A\n",
      " 43%|████▎     | 3/7 [00:00<00:00,  4.03it/s]\u001B[A\n",
      " 57%|█████▋    | 4/7 [00:00<00:00,  4.14it/s]\u001B[A\n",
      " 71%|███████▏  | 5/7 [00:01<00:00,  4.07it/s]\u001B[A\n",
      "100%|██████████| 7/7 [00:01<00:00,  4.54it/s]\n",
      "Processing queries:  78%|███████▊  | 306/393 [16:36<05:11,  3.58s/query]\n",
      "  0%|          | 0/7 [00:00<?, ?it/s]\u001B[A\n",
      " 14%|█▍        | 1/7 [00:00<00:01,  4.63it/s]\u001B[A\n",
      " 29%|██▊       | 2/7 [00:00<00:01,  4.35it/s]\u001B[A\n",
      " 43%|████▎     | 3/7 [00:00<00:00,  4.26it/s]\u001B[A\n",
      " 57%|█████▋    | 4/7 [00:00<00:00,  3.92it/s]\u001B[A\n",
      " 71%|███████▏  | 5/7 [00:01<00:00,  4.00it/s]\u001B[A\n",
      "100%|██████████| 7/7 [00:01<00:00,  4.65it/s]\n",
      "Processing queries:  78%|███████▊  | 307/393 [16:39<04:52,  3.40s/query]"
     ]
    },
    {
     "output_type": "stream",
     "name": "stdout",
     "text": [
      "WARNING! Your documents have duplicate entries!  This will slow down calculation and may yield subpar results\n"
     ]
    },
    {
     "output_type": "stream",
     "name": "stderr",
     "text": [
      "\n",
      "  0%|          | 0/7 [00:00<?, ?it/s]\u001B[A\n",
      " 14%|█▍        | 1/7 [00:00<00:01,  3.46it/s]\u001B[A\n",
      " 29%|██▊       | 2/7 [00:00<00:01,  3.90it/s]\u001B[A\n",
      " 43%|████▎     | 3/7 [00:00<00:00,  4.02it/s]\u001B[A\n",
      " 57%|█████▋    | 4/7 [00:01<00:00,  4.07it/s]\u001B[A\n",
      " 71%|███████▏  | 5/7 [00:01<00:00,  4.01it/s]\u001B[A\n",
      "100%|██████████| 7/7 [00:01<00:00,  4.50it/s]\n",
      "Processing queries:  78%|███████▊  | 308/393 [16:43<05:01,  3.55s/query]"
     ]
    },
    {
     "output_type": "stream",
     "name": "stdout",
     "text": [
      "WARNING! Your documents have duplicate entries!  This will slow down calculation and may yield subpar results\n"
     ]
    },
    {
     "output_type": "stream",
     "name": "stderr",
     "text": [
      "\n",
      "  0%|          | 0/7 [00:00<?, ?it/s]\u001B[A\n",
      " 14%|█▍        | 1/7 [00:00<00:01,  4.43it/s]\u001B[A\n",
      " 29%|██▊       | 2/7 [00:00<00:01,  4.31it/s]\u001B[A\n",
      " 43%|████▎     | 3/7 [00:00<00:00,  4.32it/s]\u001B[A\n",
      " 57%|█████▋    | 4/7 [00:00<00:00,  4.10it/s]\u001B[A\n",
      " 71%|███████▏  | 5/7 [00:01<00:00,  4.08it/s]\u001B[A\n",
      "100%|██████████| 7/7 [00:01<00:00,  4.65it/s]\n",
      "Processing queries:  79%|███████▊  | 309/393 [16:46<04:46,  3.41s/query]\n",
      "  0%|          | 0/7 [00:00<?, ?it/s]\u001B[A\n",
      " 14%|█▍        | 1/7 [00:00<00:01,  3.65it/s]\u001B[A\n",
      " 29%|██▊       | 2/7 [00:00<00:01,  3.94it/s]\u001B[A\n",
      " 43%|████▎     | 3/7 [00:00<00:00,  4.08it/s]\u001B[A\n",
      " 57%|█████▋    | 4/7 [00:00<00:00,  4.11it/s]\u001B[A\n",
      " 71%|███████▏  | 5/7 [00:01<00:00,  4.00it/s]\u001B[A\n",
      "100%|██████████| 7/7 [00:01<00:00,  4.52it/s]\n",
      "Processing queries:  79%|███████▉  | 310/393 [16:50<04:53,  3.54s/query]"
     ]
    },
    {
     "output_type": "stream",
     "name": "stdout",
     "text": [
      "WARNING! Your documents have duplicate entries!  This will slow down calculation and may yield subpar results\n"
     ]
    },
    {
     "output_type": "stream",
     "name": "stderr",
     "text": [
      "\n",
      "  0%|          | 0/7 [00:00<?, ?it/s]\u001B[A\n",
      " 14%|█▍        | 1/7 [00:00<00:01,  3.54it/s]\u001B[A\n",
      " 29%|██▊       | 2/7 [00:00<00:01,  3.96it/s]\u001B[A\n",
      " 43%|████▎     | 3/7 [00:00<00:00,  4.09it/s]\u001B[A\n",
      " 57%|█████▋    | 4/7 [00:00<00:00,  4.12it/s]\u001B[A\n",
      " 71%|███████▏  | 5/7 [00:01<00:00,  4.06it/s]\u001B[A\n",
      "100%|██████████| 7/7 [00:01<00:00,  4.54it/s]\n",
      "Processing queries:  79%|███████▉  | 311/393 [16:54<05:00,  3.66s/query]"
     ]
    },
    {
     "output_type": "stream",
     "name": "stdout",
     "text": [
      "WARNING! Your documents have duplicate entries!  This will slow down calculation and may yield subpar results\n"
     ]
    },
    {
     "output_type": "stream",
     "name": "stderr",
     "text": [
      "\n",
      "100%|██████████| 1/1 [00:00<00:00, 17.71it/s]\n",
      "Processing queries:  79%|███████▉  | 312/393 [16:56<04:03,  3.01s/query]\n",
      "  0%|          | 0/7 [00:00<?, ?it/s]\u001B[A\n",
      " 14%|█▍        | 1/7 [00:00<00:01,  3.86it/s]\u001B[A\n",
      " 29%|██▊       | 2/7 [00:00<00:01,  4.12it/s]\u001B[A\n",
      " 43%|████▎     | 3/7 [00:00<00:00,  4.19it/s]\u001B[A\n",
      " 57%|█████▋    | 4/7 [00:00<00:00,  4.17it/s]\u001B[A\n",
      " 71%|███████▏  | 5/7 [00:01<00:00,  4.10it/s]\u001B[A\n",
      "100%|██████████| 7/7 [00:01<00:00,  4.60it/s]\n",
      "Processing queries:  80%|███████▉  | 313/393 [16:59<04:00,  3.01s/query]"
     ]
    },
    {
     "output_type": "stream",
     "name": "stdout",
     "text": [
      "WARNING! Your documents have duplicate entries!  This will slow down calculation and may yield subpar results\n"
     ]
    },
    {
     "output_type": "stream",
     "name": "stderr",
     "text": [
      "\n",
      "  0%|          | 0/7 [00:00<?, ?it/s]\u001B[A\n",
      " 14%|█▍        | 1/7 [00:00<00:01,  4.55it/s]\u001B[A\n",
      " 29%|██▊       | 2/7 [00:00<00:01,  4.36it/s]\u001B[A\n",
      " 43%|████▎     | 3/7 [00:00<00:00,  4.37it/s]\u001B[A\n",
      " 57%|█████▋    | 4/7 [00:00<00:00,  4.01it/s]\u001B[A\n",
      " 71%|███████▏  | 5/7 [00:01<00:00,  4.06it/s]\u001B[A\n",
      "100%|██████████| 7/7 [00:01<00:00,  4.68it/s]\n",
      "Processing queries:  80%|███████▉  | 314/393 [17:02<03:57,  3.00s/query]\n",
      "  0%|          | 0/7 [00:00<?, ?it/s]\u001B[A\n",
      " 14%|█▍        | 1/7 [00:00<00:01,  3.39it/s]\u001B[A\n",
      " 29%|██▊       | 2/7 [00:00<00:01,  3.85it/s]\u001B[A\n",
      " 43%|████▎     | 3/7 [00:00<00:00,  4.06it/s]\u001B[A\n",
      " 57%|█████▋    | 4/7 [00:01<00:00,  4.11it/s]\u001B[A\n",
      " 71%|███████▏  | 5/7 [00:01<00:00,  4.02it/s]\u001B[A\n",
      "100%|██████████| 7/7 [00:01<00:00,  4.51it/s]\n",
      "Processing queries:  80%|████████  | 315/393 [17:06<04:30,  3.47s/query]\n",
      "  0%|          | 0/7 [00:00<?, ?it/s]\u001B[A\n",
      " 14%|█▍        | 1/7 [00:00<00:01,  4.60it/s]\u001B[A\n",
      " 29%|██▊       | 2/7 [00:00<00:01,  4.35it/s]\u001B[A\n",
      " 43%|████▎     | 3/7 [00:00<00:00,  4.26it/s]\u001B[A\n",
      " 57%|█████▋    | 4/7 [00:00<00:00,  3.91it/s]\u001B[A\n",
      " 71%|███████▏  | 5/7 [00:01<00:00,  3.99it/s]\u001B[A\n",
      "100%|██████████| 7/7 [00:01<00:00,  4.58it/s]\n",
      "Processing queries:  80%|████████  | 316/393 [17:09<04:19,  3.37s/query]\n",
      "  0%|          | 0/7 [00:00<?, ?it/s]\u001B[A\n",
      " 14%|█▍        | 1/7 [00:00<00:01,  3.82it/s]\u001B[A\n",
      " 29%|██▊       | 2/7 [00:00<00:01,  4.04it/s]\u001B[A\n",
      " 43%|████▎     | 3/7 [00:00<00:00,  4.09it/s]\u001B[A\n",
      " 57%|█████▋    | 4/7 [00:00<00:00,  4.06it/s]\u001B[A\n",
      " 71%|███████▏  | 5/7 [00:01<00:00,  3.95it/s]\u001B[A\n",
      "100%|██████████| 7/7 [00:01<00:00,  4.50it/s]\n",
      "Processing queries:  81%|████████  | 317/393 [17:16<05:21,  4.23s/query]\n",
      "  0%|          | 0/2 [00:00<?, ?it/s]\u001B[A\n",
      " 50%|█████     | 1/2 [00:00<00:00,  4.33it/s]\u001B[A\n",
      "100%|██████████| 2/2 [00:00<00:00,  4.68it/s]\n",
      "Processing queries:  81%|████████  | 318/393 [17:17<04:24,  3.53s/query]"
     ]
    },
    {
     "output_type": "stream",
     "name": "stdout",
     "text": [
      "WARNING! Your documents have duplicate entries!  This will slow down calculation and may yield subpar results\n"
     ]
    },
    {
     "output_type": "stream",
     "name": "stderr",
     "text": [
      "\n",
      "  0%|          | 0/7 [00:00<?, ?it/s]\u001B[A\n",
      " 14%|█▍        | 1/7 [00:00<00:01,  3.44it/s]\u001B[A\n",
      " 29%|██▊       | 2/7 [00:00<00:01,  3.93it/s]\u001B[A\n",
      " 43%|████▎     | 3/7 [00:00<00:00,  4.04it/s]\u001B[A\n",
      " 57%|█████▋    | 4/7 [00:01<00:00,  4.07it/s]\u001B[A\n",
      " 71%|███████▏  | 5/7 [00:01<00:00,  3.99it/s]\u001B[A\n",
      "100%|██████████| 7/7 [00:01<00:00,  4.44it/s]\n",
      "Processing queries:  81%|████████  | 319/393 [17:21<04:32,  3.68s/query]\n",
      "  0%|          | 0/7 [00:00<?, ?it/s]\u001B[A\n",
      " 14%|█▍        | 1/7 [00:00<00:01,  3.49it/s]\u001B[A\n",
      " 29%|██▊       | 2/7 [00:00<00:01,  3.90it/s]\u001B[A\n",
      " 43%|████▎     | 3/7 [00:00<00:00,  4.09it/s]\u001B[A\n",
      " 57%|█████▋    | 4/7 [00:00<00:00,  4.10it/s]\u001B[A\n",
      " 71%|███████▏  | 5/7 [00:01<00:00,  4.05it/s]\u001B[A\n",
      "100%|██████████| 7/7 [00:01<00:00,  4.53it/s]\n",
      "Processing queries:  81%|████████▏ | 320/393 [17:25<04:36,  3.79s/query]"
     ]
    },
    {
     "output_type": "stream",
     "name": "stdout",
     "text": [
      "INFO: Processed 320/393 queries. Avg time/query: 3246.68 ms.\n",
      "WARNING! Your documents have duplicate entries!  This will slow down calculation and may yield subpar results\n"
     ]
    },
    {
     "output_type": "stream",
     "name": "stderr",
     "text": [
      "\n",
      "  0%|          | 0/7 [00:00<?, ?it/s]\u001B[A\n",
      " 14%|█▍        | 1/7 [00:00<00:01,  4.49it/s]\u001B[A\n",
      " 29%|██▊       | 2/7 [00:00<00:01,  4.32it/s]\u001B[A\n",
      " 43%|████▎     | 3/7 [00:00<00:00,  4.29it/s]\u001B[A\n",
      " 57%|█████▋    | 4/7 [00:00<00:00,  4.12it/s]\u001B[A\n",
      " 71%|███████▏  | 5/7 [00:01<00:00,  4.10it/s]\u001B[A\n",
      "100%|██████████| 7/7 [00:01<00:00,  4.71it/s]\n",
      "Processing queries:  82%|████████▏ | 321/393 [17:28<04:13,  3.52s/query]"
     ]
    },
    {
     "output_type": "stream",
     "name": "stdout",
     "text": [
      "WARNING! Your documents have duplicate entries!  This will slow down calculation and may yield subpar results\n"
     ]
    },
    {
     "output_type": "stream",
     "name": "stderr",
     "text": [
      "\n",
      "  0%|          | 0/7 [00:00<?, ?it/s]\u001B[A\n",
      " 14%|█▍        | 1/7 [00:00<00:01,  3.75it/s]\u001B[A\n",
      " 29%|██▊       | 2/7 [00:00<00:01,  3.99it/s]\u001B[A\n",
      " 43%|████▎     | 3/7 [00:00<00:00,  4.14it/s]\u001B[A\n",
      " 57%|█████▋    | 4/7 [00:00<00:00,  4.08it/s]\u001B[A\n",
      " 71%|███████▏  | 5/7 [00:01<00:00,  3.99it/s]\u001B[A\n",
      "100%|██████████| 7/7 [00:01<00:00,  4.53it/s]\n",
      "Processing queries:  82%|████████▏ | 322/393 [17:32<04:17,  3.62s/query]\n",
      "  0%|          | 0/4 [00:00<?, ?it/s]\u001B[A\n",
      " 25%|██▌       | 1/4 [00:00<00:00,  4.35it/s]\u001B[A\n",
      " 50%|█████     | 2/4 [00:00<00:00,  4.20it/s]\u001B[A\n",
      " 75%|███████▌  | 3/4 [00:00<00:00,  4.17it/s]\u001B[A\n",
      "100%|██████████| 4/4 [00:00<00:00,  4.32it/s]\n",
      "Processing queries:  82%|████████▏ | 323/393 [17:35<03:47,  3.25s/query]"
     ]
    },
    {
     "output_type": "stream",
     "name": "stdout",
     "text": [
      "WARNING! Your documents have duplicate entries!  This will slow down calculation and may yield subpar results\n"
     ]
    },
    {
     "output_type": "stream",
     "name": "stderr",
     "text": [
      "\n",
      "  0%|          | 0/7 [00:00<?, ?it/s]\u001B[A\n",
      " 14%|█▍        | 1/7 [00:00<00:01,  3.59it/s]\u001B[A\n",
      " 29%|██▊       | 2/7 [00:00<00:01,  3.95it/s]\u001B[A\n",
      " 43%|████▎     | 3/7 [00:00<00:00,  4.04it/s]\u001B[A\n",
      " 57%|█████▋    | 4/7 [00:01<00:00,  4.03it/s]\u001B[A\n",
      " 71%|███████▏  | 5/7 [00:01<00:00,  3.93it/s]\u001B[A\n",
      "100%|██████████| 7/7 [00:01<00:00,  4.44it/s]\n",
      "Processing queries:  82%|████████▏ | 324/393 [17:38<03:55,  3.41s/query]"
     ]
    },
    {
     "output_type": "stream",
     "name": "stdout",
     "text": [
      "WARNING! Your documents have duplicate entries!  This will slow down calculation and may yield subpar results\n"
     ]
    },
    {
     "output_type": "stream",
     "name": "stderr",
     "text": [
      "\n",
      "  0%|          | 0/7 [00:00<?, ?it/s]\u001B[A\n",
      " 14%|█▍        | 1/7 [00:00<00:01,  4.59it/s]\u001B[A\n",
      " 29%|██▊       | 2/7 [00:00<00:01,  4.33it/s]\u001B[A\n",
      " 43%|████▎     | 3/7 [00:00<00:00,  4.25it/s]\u001B[A\n",
      " 57%|█████▋    | 4/7 [00:00<00:00,  3.97it/s]\u001B[A\n",
      " 71%|███████▏  | 5/7 [00:01<00:00,  4.08it/s]\u001B[A\n",
      "100%|██████████| 7/7 [00:01<00:00,  4.64it/s]\n",
      "Processing queries:  83%|████████▎ | 325/393 [17:41<03:43,  3.29s/query]\n",
      "  0%|          | 0/7 [00:00<?, ?it/s]\u001B[A\n",
      " 14%|█▍        | 1/7 [00:00<00:01,  3.47it/s]\u001B[A\n",
      " 29%|██▊       | 2/7 [00:00<00:01,  3.93it/s]\u001B[A\n",
      " 43%|████▎     | 3/7 [00:00<00:00,  4.05it/s]\u001B[A\n",
      " 57%|█████▋    | 4/7 [00:00<00:00,  4.08it/s]\u001B[A\n",
      " 71%|███████▏  | 5/7 [00:01<00:00,  4.00it/s]\u001B[A\n",
      "100%|██████████| 7/7 [00:01<00:00,  4.50it/s]\n",
      "Processing queries:  83%|████████▎ | 326/393 [17:45<03:54,  3.49s/query]\n",
      "  0%|          | 0/7 [00:00<?, ?it/s]\u001B[A\n",
      " 14%|█▍        | 1/7 [00:00<00:01,  4.49it/s]\u001B[A\n",
      " 29%|██▊       | 2/7 [00:00<00:01,  4.31it/s]\u001B[A\n",
      " 43%|████▎     | 3/7 [00:00<00:00,  4.22it/s]\u001B[A\n",
      " 57%|█████▋    | 4/7 [00:00<00:00,  3.89it/s]\u001B[A\n",
      " 71%|███████▏  | 5/7 [00:01<00:00,  3.97it/s]\u001B[A\n",
      "100%|██████████| 7/7 [00:01<00:00,  4.56it/s]\n",
      "Processing queries:  83%|████████▎ | 327/393 [17:48<03:41,  3.35s/query]"
     ]
    },
    {
     "output_type": "stream",
     "name": "stdout",
     "text": [
      "WARNING! Your documents have duplicate entries!  This will slow down calculation and may yield subpar results\n"
     ]
    },
    {
     "output_type": "stream",
     "name": "stderr",
     "text": [
      "\n",
      "  0%|          | 0/7 [00:00<?, ?it/s]\u001B[A\n",
      " 14%|█▍        | 1/7 [00:00<00:01,  4.38it/s]\u001B[A\n",
      " 29%|██▊       | 2/7 [00:00<00:01,  4.27it/s]\u001B[A\n",
      " 43%|████▎     | 3/7 [00:00<00:00,  4.22it/s]\u001B[A\n",
      " 57%|█████▋    | 4/7 [00:00<00:00,  3.90it/s]\u001B[A\n",
      " 71%|███████▏  | 5/7 [00:01<00:00,  3.97it/s]\u001B[A\n",
      "100%|██████████| 7/7 [00:01<00:00,  4.54it/s]\n",
      "Processing queries:  83%|████████▎ | 328/393 [17:51<03:31,  3.26s/query]\n",
      "  0%|          | 0/3 [00:00<?, ?it/s]\u001B[A\n",
      " 33%|███▎      | 1/3 [00:00<00:00,  4.30it/s]\u001B[A\n",
      " 67%|██████▋   | 2/3 [00:00<00:00,  4.31it/s]\u001B[A\n",
      "100%|██████████| 3/3 [00:00<00:00,  5.10it/s]\n",
      "Processing queries:  84%|████████▎ | 329/393 [17:53<03:04,  2.89s/query]\n",
      "  0%|          | 0/7 [00:00<?, ?it/s]\u001B[A\n",
      " 14%|█▍        | 1/7 [00:00<00:01,  4.61it/s]\u001B[A\n",
      " 29%|██▊       | 2/7 [00:00<00:01,  4.37it/s]\u001B[A\n",
      " 43%|████▎     | 3/7 [00:00<00:00,  4.29it/s]\u001B[A\n",
      " 57%|█████▋    | 4/7 [00:00<00:00,  4.13it/s]\u001B[A\n",
      " 71%|███████▏  | 5/7 [00:01<00:00,  4.14it/s]\u001B[A\n",
      "100%|██████████| 7/7 [00:01<00:00,  4.69it/s]\n",
      "Processing queries:  84%|████████▍ | 330/393 [17:57<03:08,  2.99s/query]\n",
      "  0%|          | 0/7 [00:00<?, ?it/s]\u001B[A\n",
      " 14%|█▍        | 1/7 [00:00<00:01,  4.56it/s]\u001B[A\n",
      " 29%|██▊       | 2/7 [00:00<00:01,  4.33it/s]\u001B[A\n",
      " 43%|████▎     | 3/7 [00:00<00:00,  4.26it/s]\u001B[A\n",
      " 57%|█████▋    | 4/7 [00:00<00:00,  3.98it/s]\u001B[A\n",
      " 71%|███████▏  | 5/7 [00:01<00:00,  4.06it/s]\u001B[A\n",
      "100%|██████████| 7/7 [00:01<00:00,  4.63it/s]\n",
      "Processing queries:  84%|████████▍ | 331/393 [18:00<03:07,  3.02s/query]\n",
      "  0%|          | 0/7 [00:00<?, ?it/s]\u001B[A\n",
      " 14%|█▍        | 1/7 [00:00<00:01,  3.77it/s]\u001B[A\n",
      " 29%|██▊       | 2/7 [00:00<00:01,  4.02it/s]\u001B[A\n",
      " 43%|████▎     | 3/7 [00:00<00:00,  4.16it/s]\u001B[A\n",
      " 57%|█████▋    | 4/7 [00:00<00:00,  4.08it/s]\u001B[A\n",
      " 71%|███████▏  | 5/7 [00:01<00:00,  4.01it/s]\u001B[A\n",
      "100%|██████████| 7/7 [00:01<00:00,  4.54it/s]\n",
      "Processing queries:  84%|████████▍ | 332/393 [18:04<03:19,  3.27s/query]"
     ]
    },
    {
     "output_type": "stream",
     "name": "stdout",
     "text": [
      "WARNING! Your documents have duplicate entries!  This will slow down calculation and may yield subpar results\n"
     ]
    },
    {
     "output_type": "stream",
     "name": "stderr",
     "text": [
      "\n",
      "  0%|          | 0/7 [00:00<?, ?it/s]\u001B[A\n",
      " 14%|█▍        | 1/7 [00:00<00:01,  3.80it/s]\u001B[A\n",
      " 29%|██▊       | 2/7 [00:00<00:01,  3.97it/s]\u001B[A\n",
      " 43%|████▎     | 3/7 [00:00<00:00,  4.13it/s]\u001B[A\n",
      " 57%|█████▋    | 4/7 [00:00<00:00,  4.14it/s]\u001B[A\n",
      " 71%|███████▏  | 5/7 [00:01<00:00,  4.07it/s]\u001B[A\n",
      "100%|██████████| 7/7 [00:01<00:00,  4.58it/s]\n",
      "Processing queries:  85%|████████▍ | 333/393 [18:07<03:26,  3.43s/query]\n",
      "  0%|          | 0/5 [00:00<?, ?it/s]\u001B[A\n",
      " 20%|██        | 1/5 [00:00<00:00,  4.58it/s]\u001B[A\n",
      " 40%|████      | 2/5 [00:00<00:00,  4.34it/s]\u001B[A\n",
      " 60%|██████    | 3/5 [00:00<00:00,  4.24it/s]\u001B[A\n",
      "100%|██████████| 5/5 [00:01<00:00,  4.83it/s]\n",
      "Processing queries:  85%|████████▍ | 334/393 [18:10<03:05,  3.14s/query]"
     ]
    },
    {
     "output_type": "stream",
     "name": "stdout",
     "text": [
      "WARNING! Your documents have duplicate entries!  This will slow down calculation and may yield subpar results\n"
     ]
    },
    {
     "output_type": "stream",
     "name": "stderr",
     "text": [
      "\n",
      "  0%|          | 0/7 [00:00<?, ?it/s]\u001B[A\n",
      " 14%|█▍        | 1/7 [00:00<00:01,  3.63it/s]\u001B[A\n",
      " 29%|██▊       | 2/7 [00:00<00:01,  3.98it/s]\u001B[A\n",
      " 43%|████▎     | 3/7 [00:00<00:00,  4.15it/s]\u001B[A\n",
      " 57%|█████▋    | 4/7 [00:00<00:00,  4.15it/s]\u001B[A\n",
      " 71%|███████▏  | 5/7 [00:01<00:00,  4.09it/s]\u001B[A\n",
      "100%|██████████| 7/7 [00:01<00:00,  4.56it/s]\n",
      "Processing queries:  85%|████████▌ | 335/393 [18:15<03:29,  3.60s/query]\n",
      "  0%|          | 0/6 [00:00<?, ?it/s]\u001B[A\n",
      " 17%|█▋        | 1/6 [00:00<00:01,  4.47it/s]\u001B[A\n",
      " 33%|███▎      | 2/6 [00:00<00:00,  4.40it/s]\u001B[A\n",
      " 50%|█████     | 3/6 [00:00<00:00,  4.29it/s]\u001B[A\n",
      " 67%|██████▋   | 4/6 [00:00<00:00,  4.08it/s]\u001B[A\n",
      "100%|██████████| 6/6 [00:01<00:00,  4.97it/s]\n",
      "Processing queries:  85%|████████▌ | 336/393 [18:17<03:11,  3.36s/query]\n",
      "  0%|          | 0/7 [00:00<?, ?it/s]\u001B[A\n",
      " 14%|█▍        | 1/7 [00:00<00:01,  3.60it/s]\u001B[A\n",
      " 29%|██▊       | 2/7 [00:00<00:01,  4.03it/s]\u001B[A\n",
      " 43%|████▎     | 3/7 [00:00<00:00,  4.12it/s]\u001B[A\n",
      " 57%|█████▋    | 4/7 [00:00<00:00,  4.16it/s]\u001B[A\n",
      " 71%|███████▏  | 5/7 [00:01<00:00,  4.05it/s]\u001B[A\n",
      "100%|██████████| 7/7 [00:01<00:00,  4.56it/s]\n",
      "Processing queries:  86%|████████▌ | 337/393 [18:21<03:20,  3.57s/query]\n",
      "  0%|          | 0/7 [00:00<?, ?it/s]\u001B[A\n",
      " 14%|█▍        | 1/7 [00:00<00:01,  4.53it/s]\u001B[A\n",
      " 29%|██▊       | 2/7 [00:00<00:01,  4.42it/s]\u001B[A\n",
      " 43%|████▎     | 3/7 [00:00<00:00,  4.35it/s]\u001B[A\n",
      " 57%|█████▋    | 4/7 [00:00<00:00,  4.05it/s]\u001B[A\n",
      " 71%|███████▏  | 5/7 [00:01<00:00,  4.10it/s]\u001B[A\n",
      "100%|██████████| 7/7 [00:01<00:00,  4.69it/s]\n",
      "Processing queries:  86%|████████▌ | 338/393 [18:24<03:07,  3.41s/query]\n",
      "100%|██████████| 1/1 [00:00<00:00, 68.64it/s]\n",
      "Processing queries:  86%|████████▋ | 339/393 [18:26<02:31,  2.81s/query]\n",
      "  0%|          | 0/7 [00:00<?, ?it/s]\u001B[A\n",
      " 14%|█▍        | 1/7 [00:00<00:01,  3.87it/s]\u001B[A\n",
      " 29%|██▊       | 2/7 [00:00<00:01,  4.09it/s]\u001B[A\n",
      " 43%|████▎     | 3/7 [00:00<00:00,  4.21it/s]\u001B[A\n",
      " 57%|█████▋    | 4/7 [00:00<00:00,  4.15it/s]\u001B[A\n",
      " 71%|███████▏  | 5/7 [00:01<00:00,  4.02it/s]\u001B[A\n",
      "100%|██████████| 7/7 [00:01<00:00,  4.57it/s]\n",
      "Processing queries:  87%|████████▋ | 340/393 [18:29<02:32,  2.88s/query]"
     ]
    },
    {
     "output_type": "stream",
     "name": "stdout",
     "text": [
      "INFO: Processed 340/393 queries. Avg time/query: 3242.34 ms.\n",
      "WARNING! Your documents have duplicate entries!  This will slow down calculation and may yield subpar results\n"
     ]
    },
    {
     "output_type": "stream",
     "name": "stderr",
     "text": [
      "\n",
      "  0%|          | 0/7 [00:00<?, ?it/s]\u001B[A\n",
      " 14%|█▍        | 1/7 [00:00<00:01,  3.73it/s]\u001B[A\n",
      " 29%|██▊       | 2/7 [00:00<00:01,  4.05it/s]\u001B[A\n",
      " 43%|████▎     | 3/7 [00:00<00:00,  4.17it/s]\u001B[A\n",
      " 57%|█████▋    | 4/7 [00:00<00:00,  4.20it/s]\u001B[A\n",
      " 71%|███████▏  | 5/7 [00:01<00:00,  4.07it/s]\u001B[A\n",
      "100%|██████████| 7/7 [00:01<00:00,  4.59it/s]\n",
      "Processing queries:  87%|████████▋ | 341/393 [18:34<02:56,  3.40s/query]\n",
      "  0%|          | 0/2 [00:00<?, ?it/s]\u001B[A\n",
      " 50%|█████     | 1/2 [00:00<00:00,  4.36it/s]\u001B[A\n",
      "100%|██████████| 2/2 [00:00<00:00,  5.16it/s]\n",
      "Processing queries:  87%|████████▋ | 342/393 [18:35<02:28,  2.92s/query]"
     ]
    },
    {
     "output_type": "stream",
     "name": "stdout",
     "text": [
      "WARNING! Your documents have duplicate entries!  This will slow down calculation and may yield subpar results\n"
     ]
    },
    {
     "output_type": "stream",
     "name": "stderr",
     "text": [
      "\n",
      "  0%|          | 0/7 [00:00<?, ?it/s]\u001B[A\n",
      " 14%|█▍        | 1/7 [00:00<00:01,  3.53it/s]\u001B[A\n",
      " 29%|██▊       | 2/7 [00:00<00:01,  3.89it/s]\u001B[A\n",
      " 43%|████▎     | 3/7 [00:00<00:00,  4.09it/s]\u001B[A\n",
      " 57%|█████▋    | 4/7 [00:00<00:00,  4.14it/s]\u001B[A\n",
      " 71%|███████▏  | 5/7 [00:01<00:00,  4.06it/s]\u001B[A\n",
      "100%|██████████| 7/7 [00:01<00:00,  4.54it/s]\n",
      "Processing queries:  87%|████████▋ | 343/393 [18:39<02:41,  3.22s/query]\n",
      "  0%|          | 0/7 [00:00<?, ?it/s]\u001B[A\n",
      " 14%|█▍        | 1/7 [00:00<00:01,  3.57it/s]\u001B[A\n",
      " 29%|██▊       | 2/7 [00:00<00:01,  3.95it/s]\u001B[A\n",
      " 43%|████▎     | 3/7 [00:00<00:00,  4.13it/s]\u001B[A\n",
      " 57%|█████▋    | 4/7 [00:00<00:00,  4.14it/s]\u001B[A\n",
      " 71%|███████▏  | 5/7 [00:01<00:00,  4.08it/s]\u001B[A\n",
      "100%|██████████| 7/7 [00:01<00:00,  4.57it/s]\n",
      "Processing queries:  88%|████████▊ | 344/393 [18:43<02:47,  3.42s/query]"
     ]
    },
    {
     "output_type": "stream",
     "name": "stdout",
     "text": [
      "WARNING! Your documents have duplicate entries!  This will slow down calculation and may yield subpar results\n"
     ]
    },
    {
     "output_type": "stream",
     "name": "stderr",
     "text": [
      "\n",
      "  0%|          | 0/7 [00:00<?, ?it/s]\u001B[A\n",
      " 14%|█▍        | 1/7 [00:00<00:01,  3.70it/s]\u001B[A\n",
      " 29%|██▊       | 2/7 [00:00<00:01,  3.99it/s]\u001B[A\n",
      " 43%|████▎     | 3/7 [00:00<00:00,  4.11it/s]\u001B[A\n",
      " 57%|█████▋    | 4/7 [00:00<00:00,  4.14it/s]\u001B[A\n",
      " 71%|███████▏  | 5/7 [00:01<00:00,  4.01it/s]\u001B[A\n",
      "100%|██████████| 7/7 [00:01<00:00,  4.53it/s]\n",
      "Processing queries:  88%|████████▊ | 345/393 [18:47<02:50,  3.55s/query]\n",
      "  0%|          | 0/1 [00:00<?, ?it/s]\u001B[A\n",
      "100%|██████████| 1/1 [00:00<00:00,  4.48it/s]\n",
      "Processing queries:  88%|████████▊ | 346/393 [18:49<02:21,  3.01s/query]\n",
      "  0%|          | 0/7 [00:00<?, ?it/s]\u001B[A\n",
      " 14%|█▍        | 1/7 [00:00<00:01,  3.58it/s]\u001B[A\n",
      " 29%|██▊       | 2/7 [00:00<00:01,  3.95it/s]\u001B[A\n",
      " 43%|████▎     | 3/7 [00:00<00:00,  4.07it/s]\u001B[A\n",
      " 57%|█████▋    | 4/7 [00:00<00:00,  4.16it/s]\u001B[A\n",
      " 71%|███████▏  | 5/7 [00:01<00:00,  4.10it/s]\u001B[A\n",
      "100%|██████████| 7/7 [00:01<00:00,  4.58it/s]\n",
      "Processing queries:  88%|████████▊ | 347/393 [18:53<02:40,  3.48s/query]"
     ]
    },
    {
     "output_type": "stream",
     "name": "stdout",
     "text": [
      "WARNING! Your documents have duplicate entries!  This will slow down calculation and may yield subpar results\n"
     ]
    },
    {
     "output_type": "stream",
     "name": "stderr",
     "text": [
      "\n",
      "  0%|          | 0/7 [00:00<?, ?it/s]\u001B[A\n",
      " 14%|█▍        | 1/7 [00:00<00:01,  4.51it/s]\u001B[A\n",
      " 29%|██▊       | 2/7 [00:00<00:01,  4.28it/s]\u001B[A\n",
      " 43%|████▎     | 3/7 [00:00<00:00,  4.21it/s]\u001B[A\n",
      " 57%|█████▋    | 4/7 [00:00<00:00,  3.93it/s]\u001B[A\n",
      " 71%|███████▏  | 5/7 [00:01<00:00,  3.99it/s]\u001B[A\n",
      "100%|██████████| 7/7 [00:01<00:00,  4.62it/s]\n",
      "Processing queries:  89%|████████▊ | 348/393 [18:56<02:31,  3.36s/query]"
     ]
    },
    {
     "output_type": "stream",
     "name": "stdout",
     "text": [
      "WARNING! Your documents have duplicate entries!  This will slow down calculation and may yield subpar results\n"
     ]
    },
    {
     "output_type": "stream",
     "name": "stderr",
     "text": [
      "\n",
      "  0%|          | 0/7 [00:00<?, ?it/s]\u001B[A\n",
      " 14%|█▍        | 1/7 [00:00<00:01,  3.49it/s]\u001B[A\n",
      " 29%|██▊       | 2/7 [00:00<00:01,  3.87it/s]\u001B[A\n",
      " 43%|████▎     | 3/7 [00:00<00:00,  4.00it/s]\u001B[A\n",
      " 57%|█████▋    | 4/7 [00:01<00:00,  4.02it/s]\u001B[A\n",
      " 71%|███████▏  | 5/7 [00:01<00:00,  3.90it/s]\u001B[A\n",
      "100%|██████████| 7/7 [00:01<00:00,  4.43it/s]\n",
      "Processing queries:  89%|████████▉ | 349/393 [19:00<02:34,  3.51s/query]\n",
      "  0%|          | 0/7 [00:00<?, ?it/s]\u001B[A\n",
      " 14%|█▍        | 1/7 [00:00<00:01,  3.70it/s]\u001B[A\n",
      " 29%|██▊       | 2/7 [00:00<00:01,  3.94it/s]\u001B[A\n",
      " 43%|████▎     | 3/7 [00:00<00:00,  4.04it/s]\u001B[A\n",
      " 57%|█████▋    | 4/7 [00:01<00:00,  3.97it/s]\u001B[A\n",
      " 71%|███████▏  | 5/7 [00:01<00:00,  3.94it/s]\u001B[A\n",
      "100%|██████████| 7/7 [00:01<00:00,  4.46it/s]\n",
      "Processing queries:  89%|████████▉ | 350/393 [19:04<02:36,  3.63s/query]\n",
      "  0%|          | 0/5 [00:00<?, ?it/s]\u001B[A\n",
      " 20%|██        | 1/5 [00:00<00:01,  3.69it/s]\u001B[A\n",
      " 40%|████      | 2/5 [00:00<00:00,  3.92it/s]\u001B[A\n",
      " 60%|██████    | 3/5 [00:00<00:00,  3.99it/s]\u001B[A\n",
      "100%|██████████| 5/5 [00:01<00:00,  4.62it/s]\n",
      "Processing queries:  89%|████████▉ | 351/393 [19:08<02:28,  3.54s/query]"
     ]
    },
    {
     "output_type": "stream",
     "name": "stdout",
     "text": [
      "WARNING! Your documents have duplicate entries!  This will slow down calculation and may yield subpar results\n"
     ]
    },
    {
     "output_type": "stream",
     "name": "stderr",
     "text": [
      "\n",
      "  0%|          | 0/7 [00:00<?, ?it/s]\u001B[A\n",
      " 14%|█▍        | 1/7 [00:00<00:01,  3.42it/s]\u001B[A\n",
      " 29%|██▊       | 2/7 [00:00<00:01,  3.83it/s]\u001B[A\n",
      " 43%|████▎     | 3/7 [00:00<00:01,  3.97it/s]\u001B[A\n",
      " 57%|█████▋    | 4/7 [00:01<00:00,  4.00it/s]\u001B[A\n",
      " 71%|███████▏  | 5/7 [00:01<00:00,  3.98it/s]\u001B[A\n",
      "100%|██████████| 7/7 [00:01<00:00,  4.47it/s]\n",
      "Processing queries:  90%|████████▉ | 352/393 [19:13<02:42,  3.97s/query]\n",
      "  0%|          | 0/7 [00:00<?, ?it/s]\u001B[A\n",
      " 14%|█▍        | 1/7 [00:00<00:01,  4.54it/s]\u001B[A\n",
      " 29%|██▊       | 2/7 [00:00<00:01,  4.32it/s]\u001B[A\n",
      " 43%|████▎     | 3/7 [00:00<00:00,  4.23it/s]\u001B[A\n",
      " 57%|█████▋    | 4/7 [00:00<00:00,  3.88it/s]\u001B[A\n",
      " 71%|███████▏  | 5/7 [00:01<00:00,  3.99it/s]\u001B[A\n",
      "100%|██████████| 7/7 [00:01<00:00,  4.55it/s]\n",
      "Processing queries:  90%|████████▉ | 353/393 [19:16<02:28,  3.71s/query]"
     ]
    },
    {
     "output_type": "stream",
     "name": "stdout",
     "text": [
      "WARNING! Your documents have duplicate entries!  This will slow down calculation and may yield subpar results\n"
     ]
    },
    {
     "output_type": "stream",
     "name": "stderr",
     "text": [
      "\n",
      "  0%|          | 0/7 [00:00<?, ?it/s]\u001B[A\n",
      " 14%|█▍        | 1/7 [00:00<00:01,  4.46it/s]\u001B[A\n",
      " 29%|██▊       | 2/7 [00:00<00:01,  4.30it/s]\u001B[A\n",
      " 43%|████▎     | 3/7 [00:00<00:00,  4.23it/s]\u001B[A\n",
      " 57%|█████▋    | 4/7 [00:00<00:00,  3.92it/s]\u001B[A\n",
      " 71%|███████▏  | 5/7 [00:01<00:00,  4.00it/s]\u001B[A\n",
      "100%|██████████| 7/7 [00:01<00:00,  4.55it/s]\n",
      "Processing queries:  90%|█████████ | 354/393 [19:19<02:17,  3.51s/query]\n",
      "  0%|          | 0/6 [00:00<?, ?it/s]\u001B[A\n",
      " 17%|█▋        | 1/6 [00:00<00:01,  4.40it/s]\u001B[A\n",
      " 33%|███▎      | 2/6 [00:00<00:00,  4.23it/s]\u001B[A\n",
      " 50%|█████     | 3/6 [00:00<00:00,  4.17it/s]\u001B[A\n",
      " 67%|██████▋   | 4/6 [00:00<00:00,  3.89it/s]\u001B[A\n",
      " 83%|████████▎ | 5/6 [00:01<00:00,  3.97it/s]\u001B[A\n",
      "100%|██████████| 6/6 [00:01<00:00,  4.29it/s]\n",
      "Processing queries:  90%|█████████ | 355/393 [19:22<02:06,  3.34s/query]\n",
      "  0%|          | 0/3 [00:00<?, ?it/s]\u001B[A\n",
      " 33%|███▎      | 1/3 [00:00<00:00,  4.56it/s]\u001B[A\n",
      "100%|██████████| 3/3 [00:00<00:00,  5.70it/s]\n",
      "Processing queries:  91%|█████████ | 356/393 [19:24<01:47,  2.91s/query]\n",
      "  0%|          | 0/1 [00:00<?, ?it/s]\u001B[A\n",
      "100%|██████████| 1/1 [00:00<00:00,  4.60it/s]\n",
      "Processing queries:  91%|█████████ | 357/393 [19:25<01:30,  2.52s/query]"
     ]
    },
    {
     "output_type": "stream",
     "name": "stdout",
     "text": [
      "WARNING! Your documents have duplicate entries!  This will slow down calculation and may yield subpar results\n"
     ]
    },
    {
     "output_type": "stream",
     "name": "stderr",
     "text": [
      "\n",
      "  0%|          | 0/7 [00:00<?, ?it/s]\u001B[A\n",
      " 14%|█▍        | 1/7 [00:00<00:01,  4.64it/s]\u001B[A\n",
      " 29%|██▊       | 2/7 [00:00<00:01,  4.37it/s]\u001B[A\n",
      " 43%|████▎     | 3/7 [00:00<00:00,  4.27it/s]\u001B[A\n",
      " 57%|█████▋    | 4/7 [00:00<00:00,  3.89it/s]\u001B[A\n",
      " 71%|███████▏  | 5/7 [00:01<00:00,  4.00it/s]\u001B[A\n",
      "100%|██████████| 7/7 [00:01<00:00,  4.58it/s]\n",
      "Processing queries:  91%|█████████ | 358/393 [19:28<01:33,  2.67s/query]\n",
      "  0%|          | 0/7 [00:00<?, ?it/s]\u001B[A\n",
      " 14%|█▍        | 1/7 [00:00<00:01,  3.65it/s]\u001B[A\n",
      " 29%|██▊       | 2/7 [00:00<00:01,  3.96it/s]\u001B[A\n",
      " 43%|████▎     | 3/7 [00:00<00:00,  4.10it/s]\u001B[A\n",
      " 57%|█████▋    | 4/7 [00:00<00:00,  4.11it/s]\u001B[A\n",
      " 71%|███████▏  | 5/7 [00:01<00:00,  3.99it/s]\u001B[A\n",
      "100%|██████████| 7/7 [00:01<00:00,  4.57it/s]\n",
      "Processing queries:  91%|█████████▏| 359/393 [19:35<02:16,  4.02s/query]"
     ]
    },
    {
     "output_type": "stream",
     "name": "stdout",
     "text": [
      "WARNING! Your documents have duplicate entries!  This will slow down calculation and may yield subpar results\n"
     ]
    },
    {
     "output_type": "stream",
     "name": "stderr",
     "text": [
      "\n",
      "  0%|          | 0/7 [00:00<?, ?it/s]\u001B[A\n",
      " 14%|█▍        | 1/7 [00:00<00:01,  3.82it/s]\u001B[A\n",
      " 29%|██▊       | 2/7 [00:00<00:01,  4.05it/s]\u001B[A\n",
      " 43%|████▎     | 3/7 [00:00<00:00,  4.17it/s]\u001B[A\n",
      " 57%|█████▋    | 4/7 [00:00<00:00,  4.10it/s]\u001B[A\n",
      " 71%|███████▏  | 5/7 [00:01<00:00,  4.00it/s]\u001B[A\n",
      "100%|██████████| 7/7 [00:01<00:00,  4.54it/s]\n",
      "Processing queries:  92%|█████████▏| 360/393 [19:39<02:11,  3.98s/query]"
     ]
    },
    {
     "output_type": "stream",
     "name": "stdout",
     "text": [
      "INFO: Processed 360/393 queries. Avg time/query: 3257.27 ms.\n"
     ]
    },
    {
     "output_type": "stream",
     "name": "stderr",
     "text": [
      "\n",
      "  0%|          | 0/7 [00:00<?, ?it/s]\u001B[A\n",
      " 14%|█▍        | 1/7 [00:00<00:01,  3.87it/s]\u001B[A\n",
      " 29%|██▊       | 2/7 [00:00<00:01,  4.06it/s]\u001B[A\n",
      " 43%|████▎     | 3/7 [00:00<00:00,  4.20it/s]\u001B[A\n",
      " 57%|█████▋    | 4/7 [00:00<00:00,  4.14it/s]\u001B[A\n",
      " 71%|███████▏  | 5/7 [00:01<00:00,  4.01it/s]\u001B[A\n",
      "100%|██████████| 7/7 [00:01<00:00,  4.56it/s]\n",
      "Processing queries:  92%|█████████▏| 361/393 [19:43<02:07,  3.99s/query]"
     ]
    },
    {
     "output_type": "stream",
     "name": "stdout",
     "text": [
      "WARNING! Your documents have duplicate entries!  This will slow down calculation and may yield subpar results\n"
     ]
    },
    {
     "output_type": "stream",
     "name": "stderr",
     "text": [
      "\n",
      "  0%|          | 0/7 [00:00<?, ?it/s]\u001B[A\n",
      " 14%|█▍        | 1/7 [00:00<00:01,  3.92it/s]\u001B[A\n",
      " 29%|██▊       | 2/7 [00:00<00:01,  4.14it/s]\u001B[A\n",
      " 43%|████▎     | 3/7 [00:00<00:00,  4.21it/s]\u001B[A\n",
      " 57%|█████▋    | 4/7 [00:00<00:00,  4.15it/s]\u001B[A\n",
      " 71%|███████▏  | 5/7 [00:01<00:00,  4.00it/s]\u001B[A\n",
      "100%|██████████| 7/7 [00:01<00:00,  4.56it/s]\n",
      "Processing queries:  92%|█████████▏| 362/393 [19:47<02:04,  4.00s/query]"
     ]
    },
    {
     "output_type": "stream",
     "name": "stdout",
     "text": [
      "WARNING! Your documents have duplicate entries!  This will slow down calculation and may yield subpar results\n"
     ]
    },
    {
     "output_type": "stream",
     "name": "stderr",
     "text": [
      "\n",
      "  0%|          | 0/7 [00:00<?, ?it/s]\u001B[A\n",
      " 14%|█▍        | 1/7 [00:00<00:01,  4.45it/s]\u001B[A\n",
      " 29%|██▊       | 2/7 [00:00<00:01,  4.31it/s]\u001B[A\n",
      " 43%|████▎     | 3/7 [00:00<00:00,  4.33it/s]\u001B[A\n",
      " 57%|█████▋    | 4/7 [00:00<00:00,  4.03it/s]\u001B[A\n",
      " 71%|███████▏  | 5/7 [00:01<00:00,  4.13it/s]\u001B[A\n",
      "100%|██████████| 7/7 [00:01<00:00,  4.68it/s]\n",
      "Processing queries:  92%|█████████▏| 363/393 [19:50<01:51,  3.71s/query]\n",
      "  0%|          | 0/7 [00:00<?, ?it/s]\u001B[A\n",
      " 14%|█▍        | 1/7 [00:00<00:01,  3.51it/s]\u001B[A\n",
      " 29%|██▊       | 2/7 [00:00<00:01,  3.97it/s]\u001B[A\n",
      " 43%|████▎     | 3/7 [00:00<00:00,  4.07it/s]\u001B[A\n",
      " 57%|█████▋    | 4/7 [00:00<00:00,  4.11it/s]\u001B[A\n",
      " 71%|███████▏  | 5/7 [00:01<00:00,  4.03it/s]\u001B[A\n",
      "100%|██████████| 7/7 [00:01<00:00,  4.53it/s]\n",
      "Processing queries:  93%|█████████▎| 364/393 [19:54<01:49,  3.77s/query]\n",
      "  0%|          | 0/7 [00:00<?, ?it/s]\u001B[A\n",
      " 14%|█▍        | 1/7 [00:00<00:01,  4.43it/s]\u001B[A\n",
      " 29%|██▊       | 2/7 [00:00<00:01,  4.29it/s]\u001B[A\n",
      " 43%|████▎     | 3/7 [00:00<00:00,  4.33it/s]\u001B[A\n",
      " 57%|█████▋    | 4/7 [00:00<00:00,  4.10it/s]\u001B[A\n",
      " 71%|███████▏  | 5/7 [00:01<00:00,  4.08it/s]\u001B[A\n",
      "100%|██████████| 7/7 [00:01<00:00,  4.65it/s]\n",
      "Processing queries:  93%|█████████▎| 365/393 [19:57<01:40,  3.58s/query]"
     ]
    },
    {
     "output_type": "stream",
     "name": "stdout",
     "text": [
      "WARNING! Your documents have duplicate entries!  This will slow down calculation and may yield subpar results\n"
     ]
    },
    {
     "output_type": "stream",
     "name": "stderr",
     "text": [
      "\n",
      "  0%|          | 0/7 [00:00<?, ?it/s]\u001B[A\n",
      " 14%|█▍        | 1/7 [00:00<00:01,  3.66it/s]\u001B[A\n",
      " 29%|██▊       | 2/7 [00:00<00:01,  3.98it/s]\u001B[A\n",
      " 43%|████▎     | 3/7 [00:00<00:00,  4.13it/s]\u001B[A\n",
      " 57%|█████▋    | 4/7 [00:00<00:00,  4.16it/s]\u001B[A\n",
      " 71%|███████▏  | 5/7 [00:01<00:00,  4.10it/s]\u001B[A\n",
      "100%|██████████| 7/7 [00:01<00:00,  4.62it/s]\n",
      "Processing queries:  93%|█████████▎| 366/393 [20:03<01:55,  4.28s/query]\n",
      "  0%|          | 0/7 [00:00<?, ?it/s]\u001B[A\n",
      " 14%|█▍        | 1/7 [00:00<00:01,  3.58it/s]\u001B[A\n",
      " 29%|██▊       | 2/7 [00:00<00:01,  3.94it/s]\u001B[A\n",
      " 43%|████▎     | 3/7 [00:00<00:00,  4.06it/s]\u001B[A\n",
      " 57%|█████▋    | 4/7 [00:00<00:00,  4.15it/s]\u001B[A\n",
      " 71%|███████▏  | 5/7 [00:01<00:00,  4.10it/s]\u001B[A\n",
      "100%|██████████| 7/7 [00:01<00:00,  4.58it/s]\n",
      "Processing queries:  93%|█████████▎| 367/393 [20:07<01:49,  4.20s/query]\n",
      "  0%|          | 0/7 [00:00<?, ?it/s]\u001B[A\n",
      " 14%|█▍        | 1/7 [00:00<00:01,  4.48it/s]\u001B[A\n",
      " 29%|██▊       | 2/7 [00:00<00:01,  4.30it/s]\u001B[A\n",
      " 43%|████▎     | 3/7 [00:00<00:00,  4.33it/s]\u001B[A\n",
      " 57%|█████▋    | 4/7 [00:00<00:00,  4.08it/s]\u001B[A\n",
      " 71%|███████▏  | 5/7 [00:01<00:00,  4.10it/s]\u001B[A\n",
      "100%|██████████| 7/7 [00:01<00:00,  4.67it/s]\n",
      "Processing queries:  94%|█████████▎| 368/393 [20:10<01:36,  3.86s/query]"
     ]
    },
    {
     "output_type": "stream",
     "name": "stdout",
     "text": [
      "WARNING! Your documents have duplicate entries!  This will slow down calculation and may yield subpar results\n"
     ]
    },
    {
     "output_type": "stream",
     "name": "stderr",
     "text": [
      "\n",
      "  0%|          | 0/7 [00:00<?, ?it/s]\u001B[A\n",
      " 14%|█▍        | 1/7 [00:00<00:01,  4.42it/s]\u001B[A\n",
      " 29%|██▊       | 2/7 [00:00<00:01,  4.30it/s]\u001B[A\n",
      " 43%|████▎     | 3/7 [00:00<00:00,  4.32it/s]\u001B[A\n",
      " 57%|█████▋    | 4/7 [00:00<00:00,  4.04it/s]\u001B[A\n",
      " 71%|███████▏  | 5/7 [00:01<00:00,  4.10it/s]\u001B[A\n",
      "100%|██████████| 7/7 [00:01<00:00,  4.65it/s]\n",
      "Processing queries:  94%|█████████▍| 369/393 [20:13<01:26,  3.60s/query]\n",
      "  0%|          | 0/4 [00:00<?, ?it/s]\u001B[A\n",
      " 25%|██▌       | 1/4 [00:00<00:00,  4.52it/s]\u001B[A\n",
      " 50%|█████     | 2/4 [00:00<00:00,  4.28it/s]\u001B[A\n",
      " 75%|███████▌  | 3/4 [00:00<00:00,  4.21it/s]\u001B[A\n",
      "100%|██████████| 4/4 [00:00<00:00,  4.39it/s]\n",
      "Processing queries:  94%|█████████▍| 370/393 [20:16<01:14,  3.23s/query]\n",
      "  0%|          | 0/7 [00:00<?, ?it/s]\u001B[A\n",
      " 14%|█▍        | 1/7 [00:00<00:01,  3.69it/s]\u001B[A\n",
      " 29%|██▊       | 2/7 [00:00<00:01,  3.97it/s]\u001B[A\n",
      " 43%|████▎     | 3/7 [00:00<00:00,  4.04it/s]\u001B[A\n",
      " 57%|█████▋    | 4/7 [00:01<00:00,  4.02it/s]\u001B[A\n",
      " 71%|███████▏  | 5/7 [00:01<00:00,  3.95it/s]\u001B[A\n",
      "100%|██████████| 7/7 [00:01<00:00,  4.46it/s]\n",
      "Processing queries:  94%|█████████▍| 371/393 [20:20<01:15,  3.44s/query]"
     ]
    },
    {
     "output_type": "stream",
     "name": "stdout",
     "text": [
      "WARNING! Your documents have duplicate entries!  This will slow down calculation and may yield subpar results\n"
     ]
    },
    {
     "output_type": "stream",
     "name": "stderr",
     "text": [
      "\n",
      "  0%|          | 0/7 [00:00<?, ?it/s]\u001B[A\n",
      " 14%|█▍        | 1/7 [00:00<00:01,  3.71it/s]\u001B[A\n",
      " 29%|██▊       | 2/7 [00:00<00:01,  3.97it/s]\u001B[A\n",
      " 43%|████▎     | 3/7 [00:00<00:00,  4.08it/s]\u001B[A\n",
      " 57%|█████▋    | 4/7 [00:00<00:00,  4.12it/s]\u001B[A\n",
      " 71%|███████▏  | 5/7 [00:01<00:00,  4.03it/s]\u001B[A\n",
      "100%|██████████| 7/7 [00:01<00:00,  4.52it/s]\n",
      "Processing queries:  95%|█████████▍| 372/393 [20:24<01:19,  3.80s/query]"
     ]
    },
    {
     "output_type": "stream",
     "name": "stdout",
     "text": [
      "WARNING! Your documents have duplicate entries!  This will slow down calculation and may yield subpar results\n"
     ]
    },
    {
     "output_type": "stream",
     "name": "stderr",
     "text": [
      "\n",
      "  0%|          | 0/7 [00:00<?, ?it/s]\u001B[A\n",
      " 14%|█▍        | 1/7 [00:00<00:01,  4.35it/s]\u001B[A\n",
      " 29%|██▊       | 2/7 [00:00<00:01,  4.26it/s]\u001B[A\n",
      " 43%|████▎     | 3/7 [00:00<00:00,  4.22it/s]\u001B[A\n",
      " 57%|█████▋    | 4/7 [00:00<00:00,  3.90it/s]\u001B[A\n",
      " 71%|███████▏  | 5/7 [00:01<00:00,  3.97it/s]\u001B[A\n",
      "100%|██████████| 7/7 [00:01<00:00,  4.54it/s]\n",
      "Processing queries:  95%|█████████▍| 373/393 [20:27<01:11,  3.58s/query]"
     ]
    },
    {
     "output_type": "stream",
     "name": "stdout",
     "text": [
      "WARNING! Your documents have duplicate entries!  This will slow down calculation and may yield subpar results\n"
     ]
    },
    {
     "output_type": "stream",
     "name": "stderr",
     "text": [
      "\n",
      "  0%|          | 0/7 [00:00<?, ?it/s]\u001B[A\n",
      " 14%|█▍        | 1/7 [00:00<00:01,  4.51it/s]\u001B[A\n",
      " 29%|██▊       | 2/7 [00:00<00:01,  4.28it/s]\u001B[A\n",
      " 43%|████▎     | 3/7 [00:00<00:00,  4.23it/s]\u001B[A\n",
      " 57%|█████▋    | 4/7 [00:00<00:00,  3.89it/s]\u001B[A\n",
      " 71%|███████▏  | 5/7 [00:01<00:00,  4.00it/s]\u001B[A\n",
      "100%|██████████| 7/7 [00:01<00:00,  4.55it/s]\n",
      "Processing queries:  95%|█████████▌| 374/393 [20:30<01:05,  3.44s/query]\n",
      "  0%|          | 0/3 [00:00<?, ?it/s]\u001B[A\n",
      " 33%|███▎      | 1/3 [00:00<00:00,  4.53it/s]\u001B[A\n",
      " 67%|██████▋   | 2/3 [00:00<00:00,  4.27it/s]\u001B[A\n",
      "100%|██████████| 3/3 [00:00<00:00,  4.91it/s]\n",
      "Processing queries:  96%|█████████▌| 376/393 [20:34<00:42,  2.52s/query]\n",
      "  0%|          | 0/4 [00:00<?, ?it/s]\u001B[A\n",
      " 25%|██▌       | 1/4 [00:00<00:00,  3.45it/s]\u001B[A\n",
      " 50%|█████     | 2/4 [00:00<00:00,  3.93it/s]\u001B[A\n",
      "100%|██████████| 4/4 [00:00<00:00,  4.83it/s]\n",
      "Processing queries:  96%|█████████▌| 377/393 [20:36<00:39,  2.44s/query]\n",
      "  0%|          | 0/7 [00:00<?, ?it/s]\u001B[A\n",
      " 14%|█▍        | 1/7 [00:00<00:01,  3.73it/s]\u001B[A\n",
      " 29%|██▊       | 2/7 [00:00<00:01,  4.08it/s]\u001B[A\n",
      " 43%|████▎     | 3/7 [00:00<00:00,  4.12it/s]\u001B[A\n",
      " 57%|█████▋    | 4/7 [00:00<00:00,  4.09it/s]\u001B[A\n",
      " 71%|███████▏  | 5/7 [00:01<00:00,  3.96it/s]\u001B[A\n",
      "100%|██████████| 7/7 [00:01<00:00,  4.51it/s]\n",
      "Processing queries:  96%|█████████▌| 378/393 [20:40<00:44,  2.93s/query]\n",
      "  0%|          | 0/4 [00:00<?, ?it/s]\u001B[A\n",
      " 25%|██▌       | 1/4 [00:00<00:00,  4.39it/s]\u001B[A\n",
      " 50%|█████     | 2/4 [00:00<00:00,  4.22it/s]\u001B[A\n",
      "100%|██████████| 4/4 [00:00<00:00,  5.38it/s]\n",
      "Processing queries:  96%|█████████▋| 379/393 [20:42<00:38,  2.73s/query]"
     ]
    },
    {
     "output_type": "stream",
     "name": "stdout",
     "text": [
      "WARNING! Your documents have duplicate entries!  This will slow down calculation and may yield subpar results\n"
     ]
    },
    {
     "output_type": "stream",
     "name": "stderr",
     "text": [
      "\n",
      "  0%|          | 0/7 [00:00<?, ?it/s]\u001B[A\n",
      " 14%|█▍        | 1/7 [00:00<00:01,  3.72it/s]\u001B[A\n",
      " 29%|██▊       | 2/7 [00:00<00:01,  4.02it/s]\u001B[A\n",
      " 43%|████▎     | 3/7 [00:00<00:00,  4.16it/s]\u001B[A\n",
      " 57%|█████▋    | 4/7 [00:00<00:00,  4.11it/s]\u001B[A\n",
      " 71%|███████▏  | 5/7 [00:01<00:00,  3.98it/s]\u001B[A\n",
      "100%|██████████| 7/7 [00:01<00:00,  4.52it/s]\n",
      "Processing queries:  97%|█████████▋| 380/393 [20:48<00:45,  3.52s/query]"
     ]
    },
    {
     "output_type": "stream",
     "name": "stdout",
     "text": [
      "INFO: Processed 380/393 queries. Avg time/query: 3262.64 ms.\n"
     ]
    },
    {
     "output_type": "stream",
     "name": "stderr",
     "text": [
      "\n",
      "  0%|          | 0/7 [00:00<?, ?it/s]\u001B[A\n",
      " 14%|█▍        | 1/7 [00:00<00:01,  3.91it/s]\u001B[A\n",
      " 29%|██▊       | 2/7 [00:00<00:01,  4.04it/s]\u001B[A\n",
      " 43%|████▎     | 3/7 [00:00<00:00,  4.08it/s]\u001B[A\n",
      " 57%|█████▋    | 4/7 [00:00<00:00,  4.05it/s]\u001B[A\n",
      " 71%|███████▏  | 5/7 [00:01<00:00,  3.95it/s]\u001B[A\n",
      "100%|██████████| 7/7 [00:01<00:00,  4.51it/s]\n",
      "Processing queries:  97%|█████████▋| 381/393 [20:52<00:43,  3.63s/query]\n",
      "  0%|          | 0/1 [00:00<?, ?it/s]\u001B[A\n",
      "100%|██████████| 1/1 [00:00<00:00,  7.63it/s]\n",
      "Processing queries:  97%|█████████▋| 382/393 [20:53<00:32,  3.00s/query]\n",
      "  0%|          | 0/7 [00:00<?, ?it/s]\u001B[A\n",
      " 14%|█▍        | 1/7 [00:00<00:01,  3.94it/s]\u001B[A\n",
      " 29%|██▊       | 2/7 [00:00<00:01,  4.09it/s]\u001B[A\n",
      " 43%|████▎     | 3/7 [00:00<00:00,  4.13it/s]\u001B[A\n",
      " 57%|█████▋    | 4/7 [00:00<00:00,  4.18it/s]\u001B[A\n",
      " 71%|███████▏  | 5/7 [00:01<00:00,  4.05it/s]\u001B[A\n",
      "100%|██████████| 7/7 [00:01<00:00,  4.58it/s]\n",
      "Processing queries:  97%|█████████▋| 383/393 [20:57<00:32,  3.26s/query]"
     ]
    },
    {
     "output_type": "stream",
     "name": "stdout",
     "text": [
      "WARNING! Your documents have duplicate entries!  This will slow down calculation and may yield subpar results\n"
     ]
    },
    {
     "output_type": "stream",
     "name": "stderr",
     "text": [
      "\n",
      "  0%|          | 0/7 [00:00<?, ?it/s]\u001B[A\n",
      " 14%|█▍        | 1/7 [00:00<00:00,  8.93it/s]\u001B[A\n",
      " 29%|██▊       | 2/7 [00:00<00:00,  8.23it/s]\u001B[A\n",
      " 43%|████▎     | 3/7 [00:00<00:00,  8.10it/s]\u001B[A\n",
      " 57%|█████▋    | 4/7 [00:00<00:00,  8.00it/s]\u001B[A\n",
      " 71%|███████▏  | 5/7 [00:00<00:00,  7.85it/s]\u001B[A\n",
      "100%|██████████| 7/7 [00:00<00:00,  8.81it/s]\n",
      "Processing queries:  98%|█████████▊| 384/393 [20:59<00:26,  2.96s/query]\n",
      "  0%|          | 0/7 [00:00<?, ?it/s]\u001B[A\n",
      " 14%|█▍        | 1/7 [00:00<00:01,  4.41it/s]\u001B[A\n",
      " 29%|██▊       | 2/7 [00:00<00:01,  4.27it/s]\u001B[A\n",
      " 43%|████▎     | 3/7 [00:00<00:00,  4.22it/s]\u001B[A\n",
      " 57%|█████▋    | 4/7 [00:00<00:00,  3.95it/s]\u001B[A\n",
      " 71%|███████▏  | 5/7 [00:01<00:00,  4.08it/s]\u001B[A\n",
      "100%|██████████| 7/7 [00:01<00:00,  4.62it/s]\n",
      "Processing queries:  98%|█████████▊| 385/393 [21:02<00:23,  2.98s/query]\n",
      "  0%|          | 0/7 [00:00<?, ?it/s]\u001B[A\n",
      " 14%|█▍        | 1/7 [00:00<00:01,  4.44it/s]\u001B[A\n",
      " 29%|██▊       | 2/7 [00:00<00:01,  4.27it/s]\u001B[A\n",
      " 43%|████▎     | 3/7 [00:00<00:00,  4.22it/s]\u001B[A\n",
      " 57%|█████▋    | 4/7 [00:00<00:00,  3.92it/s]\u001B[A\n",
      " 71%|███████▏  | 5/7 [00:01<00:00,  4.01it/s]\u001B[A\n",
      "100%|██████████| 7/7 [00:01<00:00,  4.61it/s]\n",
      "Processing queries:  98%|█████████▊| 386/393 [21:05<00:20,  2.98s/query]\n",
      "  0%|          | 0/7 [00:00<?, ?it/s]\u001B[A\n",
      " 14%|█▍        | 1/7 [00:00<00:01,  3.42it/s]\u001B[A\n",
      " 29%|██▊       | 2/7 [00:00<00:01,  3.88it/s]\u001B[A\n",
      " 43%|████▎     | 3/7 [00:00<00:00,  4.01it/s]\u001B[A\n",
      " 57%|█████▋    | 4/7 [00:01<00:00,  4.08it/s]\u001B[A\n",
      " 71%|███████▏  | 5/7 [00:01<00:00,  3.99it/s]\u001B[A\n",
      "100%|██████████| 7/7 [00:01<00:00,  4.49it/s]\n",
      "Processing queries:  98%|█████████▊| 387/393 [21:09<00:19,  3.25s/query]"
     ]
    },
    {
     "output_type": "stream",
     "name": "stdout",
     "text": [
      "WARNING! Your documents have duplicate entries!  This will slow down calculation and may yield subpar results\n"
     ]
    },
    {
     "output_type": "stream",
     "name": "stderr",
     "text": [
      "\n",
      "  0%|          | 0/7 [00:00<?, ?it/s]\u001B[A\n",
      " 14%|█▍        | 1/7 [00:00<00:01,  4.42it/s]\u001B[A\n",
      " 29%|██▊       | 2/7 [00:00<00:01,  4.30it/s]\u001B[A\n",
      " 43%|████▎     | 3/7 [00:00<00:00,  4.25it/s]\u001B[A\n",
      " 57%|█████▋    | 4/7 [00:00<00:00,  4.02it/s]\u001B[A\n",
      " 71%|███████▏  | 5/7 [00:01<00:00,  4.05it/s]\u001B[A\n",
      "100%|██████████| 7/7 [00:01<00:00,  4.61it/s]\n",
      "Processing queries:  99%|█████████▊| 388/393 [21:12<00:15,  3.18s/query]"
     ]
    },
    {
     "output_type": "stream",
     "name": "stdout",
     "text": [
      "WARNING! Your documents have duplicate entries!  This will slow down calculation and may yield subpar results\n"
     ]
    },
    {
     "output_type": "stream",
     "name": "stderr",
     "text": [
      "\n",
      "  0%|          | 0/7 [00:00<?, ?it/s]\u001B[A\n",
      " 14%|█▍        | 1/7 [00:00<00:01,  4.44it/s]\u001B[A\n",
      " 29%|██▊       | 2/7 [00:00<00:01,  4.30it/s]\u001B[A\n",
      " 43%|████▎     | 3/7 [00:00<00:00,  4.26it/s]\u001B[A\n",
      " 57%|█████▋    | 4/7 [00:00<00:00,  4.04it/s]\u001B[A\n",
      " 71%|███████▏  | 5/7 [00:01<00:00,  4.10it/s]\u001B[A\n",
      "100%|██████████| 7/7 [00:01<00:00,  4.66it/s]\n",
      "Processing queries:  99%|█████████▉| 389/393 [21:15<00:12,  3.12s/query]"
     ]
    },
    {
     "output_type": "stream",
     "name": "stdout",
     "text": [
      "WARNING! Your documents have duplicate entries!  This will slow down calculation and may yield subpar results\n"
     ]
    },
    {
     "output_type": "stream",
     "name": "stderr",
     "text": [
      "\n",
      "  0%|          | 0/7 [00:00<?, ?it/s]\u001B[A\n",
      " 14%|█▍        | 1/7 [00:00<00:01,  4.46it/s]\u001B[A\n",
      " 29%|██▊       | 2/7 [00:00<00:01,  4.30it/s]\u001B[A\n",
      " 43%|████▎     | 3/7 [00:00<00:00,  4.25it/s]\u001B[A\n",
      " 57%|█████▋    | 4/7 [00:00<00:00,  3.97it/s]\u001B[A\n",
      " 71%|███████▏  | 5/7 [00:01<00:00,  4.07it/s]\u001B[A\n",
      "100%|██████████| 7/7 [00:01<00:00,  4.63it/s]\n",
      "Processing queries:  99%|█████████▉| 390/393 [21:18<00:09,  3.08s/query]"
     ]
    },
    {
     "output_type": "stream",
     "name": "stdout",
     "text": [
      "WARNING! Your documents have duplicate entries!  This will slow down calculation and may yield subpar results\n"
     ]
    },
    {
     "output_type": "stream",
     "name": "stderr",
     "text": [
      "\n",
      "  0%|          | 0/7 [00:00<?, ?it/s]\u001B[A\n",
      " 14%|█▍        | 1/7 [00:00<00:01,  4.54it/s]\u001B[A\n",
      " 29%|██▊       | 2/7 [00:00<00:01,  4.33it/s]\u001B[A\n",
      " 43%|████▎     | 3/7 [00:00<00:00,  4.25it/s]\u001B[A\n",
      " 57%|█████▋    | 4/7 [00:00<00:00,  3.93it/s]\u001B[A\n",
      " 71%|███████▏  | 5/7 [00:01<00:00,  3.99it/s]\u001B[A\n",
      "100%|██████████| 7/7 [00:01<00:00,  4.58it/s]\n",
      "Processing queries:  99%|█████████▉| 391/393 [21:21<00:06,  3.10s/query]"
     ]
    },
    {
     "output_type": "stream",
     "name": "stdout",
     "text": [
      "WARNING! Your documents have duplicate entries!  This will slow down calculation and may yield subpar results\n"
     ]
    },
    {
     "output_type": "stream",
     "name": "stderr",
     "text": [
      "\n",
      "  0%|          | 0/7 [00:00<?, ?it/s]\u001B[A\n",
      " 14%|█▍        | 1/7 [00:00<00:01,  4.56it/s]\u001B[A\n",
      " 29%|██▊       | 2/7 [00:00<00:01,  4.34it/s]\u001B[A\n",
      " 43%|████▎     | 3/7 [00:00<00:00,  4.35it/s]\u001B[A\n",
      " 57%|█████▋    | 4/7 [00:00<00:00,  4.06it/s]\u001B[A\n",
      " 71%|███████▏  | 5/7 [00:01<00:00,  4.14it/s]\u001B[A\n",
      "100%|██████████| 7/7 [00:01<00:00,  4.69it/s]\n",
      "Processing queries: 100%|█████████▉| 392/393 [21:24<00:03,  3.07s/query]\n",
      "  0%|          | 0/7 [00:00<?, ?it/s]\u001B[A\n",
      " 14%|█▍        | 1/7 [00:00<00:01,  3.48it/s]\u001B[A\n",
      " 29%|██▊       | 2/7 [00:00<00:01,  3.94it/s]\u001B[A\n",
      " 43%|████▎     | 3/7 [00:00<00:00,  4.06it/s]\u001B[A\n",
      " 57%|█████▋    | 4/7 [00:00<00:00,  4.17it/s]\u001B[A\n",
      " 71%|███████▏  | 5/7 [00:01<00:00,  4.08it/s]\u001B[A\n",
      "100%|██████████| 7/7 [00:01<00:00,  4.57it/s]\n",
      "Processing queries: 100%|██████████| 393/393 [21:28<00:00,  3.28s/query]\n"
     ]
    },
    {
     "output_type": "stream",
     "name": "stdout",
     "text": [
      "INFO: Finished processing queries. Processed 393 queries. Avg time/query: 3257.29 ms.\n",
      "\n",
      "Calculating IR evaluation metrics...\n",
      "\n",
      "BM25 + ColBERT Re-ranking IR EVALUATION METRICS (Abstracts)\n",
      "======================================================\n",
      "nDCG@10: 0.1316\n",
      "R@20: 0.2360\n",
      "nDCG@20: 0.1684\n",
      "R@100: 0.5305\n",
      "P@5: 0.1354\n",
      "AP: 0.1218\n",
      "P@20: 0.0986\n",
      "RR: 0.2717\n",
      "R@10: 0.1451\n",
      "nDCG@5: 0.1118\n",
      "P@10: 0.1214\n",
      "\n",
      "INFO: Two-stage re-ranking and evaluation pipeline finished.\n",
      "INFO: Model cache (if used by RAGatouille) is at: /content/drive/MyDrive/AIR_Project/reranking_evaluation_output/colbert_model_cache\n",
      "INFO: Total pipeline execution time: 6032.42 seconds.\n"
     ]
    }
   ]
  }
 ]
}
